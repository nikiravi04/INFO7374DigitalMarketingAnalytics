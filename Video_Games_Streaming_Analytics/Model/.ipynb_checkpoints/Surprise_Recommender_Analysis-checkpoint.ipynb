{
 "cells": [
  {
   "cell_type": "markdown",
   "metadata": {},
   "source": [
    "In this workbook I cover all aspects of analysing our Twitch data using the Surprise package. More information about Surprise can be found here: https://surprise.readthedocs.io/en/stable/index.html\n",
    "\n",
    "We start with taking the grid from our EDA Surprise Funnel Workbook and preparing it to be used by Surprise. The package specifically asks for the three items to be present: User, Item, and Rating. Usually, a rating is an evaluation given by the user herself (I can rate a movie I watched or a book I read 4 out of 5 stars), but in our case the rating is a custom success metric which measures how successful a certain game or genre of content has been for a particular streamer. Each person has one 5-rated game, and sometimes others which are scored as a percentage of that core content. In this fashion, we are avoiding the imbalance of scores for those streamers with millions of views, which are very few but skew the results heavily."
   ]
  },
  {
   "cell_type": "code",
   "execution_count": 1,
   "metadata": {},
   "outputs": [],
   "source": [
    "import pandas as pd\n",
    "import numpy as np"
   ]
  },
  {
   "cell_type": "code",
   "execution_count": 2,
   "metadata": {},
   "outputs": [],
   "source": [
    "grid = pd.read_csv('final_game_user_grid.csv')"
   ]
  },
  {
   "cell_type": "code",
   "execution_count": 3,
   "metadata": {},
   "outputs": [
    {
     "name": "stdout",
     "output_type": "stream",
     "text": [
      "<class 'pandas.core.frame.DataFrame'>\n",
      "RangeIndex: 70545 entries, 0 to 70544\n",
      "Data columns (total 9 columns):\n",
      " #   Column        Non-Null Count  Dtype \n",
      "---  ------        --------------  ----- \n",
      " 0   user_name     70545 non-null  object\n",
      " 1   user_id       70545 non-null  int64 \n",
      " 2   game_id       70545 non-null  int64 \n",
      " 3   game_name     70545 non-null  object\n",
      " 4   game_genres   70351 non-null  object\n",
      " 5   language      70543 non-null  object\n",
      " 6   started_at    70545 non-null  object\n",
      " 7   viewer_count  70545 non-null  int64 \n",
      " 8   max           70545 non-null  int64 \n",
      "dtypes: int64(4), object(5)\n",
      "memory usage: 4.8+ MB\n"
     ]
    }
   ],
   "source": [
    "grid.info()"
   ]
  },
  {
   "cell_type": "code",
   "execution_count": 4,
   "metadata": {},
   "outputs": [
    {
     "data": {
      "text/plain": [
       "(70349, 9)"
      ]
     },
     "execution_count": 4,
     "metadata": {},
     "output_type": "execute_result"
    }
   ],
   "source": [
    "grid = grid.dropna()\n",
    "grid.shape"
   ]
  },
  {
   "cell_type": "code",
   "execution_count": 5,
   "metadata": {},
   "outputs": [
    {
     "data": {
      "text/plain": [
       "(70349, 9)"
      ]
     },
     "execution_count": 5,
     "metadata": {},
     "output_type": "execute_result"
    }
   ],
   "source": [
    "grid = grid.dropna(how='any',axis=0) \n",
    "grid.shape"
   ]
  },
  {
   "cell_type": "code",
   "execution_count": 6,
   "metadata": {},
   "outputs": [
    {
     "data": {
      "text/html": [
       "<div>\n",
       "<style scoped>\n",
       "    .dataframe tbody tr th:only-of-type {\n",
       "        vertical-align: middle;\n",
       "    }\n",
       "\n",
       "    .dataframe tbody tr th {\n",
       "        vertical-align: top;\n",
       "    }\n",
       "\n",
       "    .dataframe thead th {\n",
       "        text-align: right;\n",
       "    }\n",
       "</style>\n",
       "<table border=\"1\" class=\"dataframe\">\n",
       "  <thead>\n",
       "    <tr style=\"text-align: right;\">\n",
       "      <th></th>\n",
       "      <th>user_name</th>\n",
       "      <th>user_id</th>\n",
       "      <th>game_id</th>\n",
       "      <th>game_name</th>\n",
       "      <th>game_genres</th>\n",
       "      <th>language</th>\n",
       "      <th>started_at</th>\n",
       "      <th>viewer_count</th>\n",
       "      <th>max</th>\n",
       "    </tr>\n",
       "  </thead>\n",
       "  <tbody>\n",
       "    <tr>\n",
       "      <th>0</th>\n",
       "      <td>龜狗</td>\n",
       "      <td>48093884</td>\n",
       "      <td>21779</td>\n",
       "      <td>League of Legends</td>\n",
       "      <td>{MOBA}</td>\n",
       "      <td>zh</td>\n",
       "      <td>2020-04-19T04:18:22Z</td>\n",
       "      <td>1931</td>\n",
       "      <td>1931</td>\n",
       "    </tr>\n",
       "    <tr>\n",
       "      <th>1</th>\n",
       "      <td>黒田瑞貴</td>\n",
       "      <td>225658233</td>\n",
       "      <td>511224</td>\n",
       "      <td>Apex Legends</td>\n",
       "      <td>{FPS,Shooter}</td>\n",
       "      <td>ja</td>\n",
       "      <td>2020-04-20T12:19:02Z</td>\n",
       "      <td>165</td>\n",
       "      <td>165</td>\n",
       "    </tr>\n",
       "    <tr>\n",
       "      <th>2</th>\n",
       "      <td>黑色柳丁</td>\n",
       "      <td>18156459</td>\n",
       "      <td>18122</td>\n",
       "      <td>World of Warcraft</td>\n",
       "      <td>{MMORPG,RPG}</td>\n",
       "      <td>zh</td>\n",
       "      <td>2020-04-20T10:53:28Z</td>\n",
       "      <td>102</td>\n",
       "      <td>102</td>\n",
       "    </tr>\n",
       "    <tr>\n",
       "      <th>3</th>\n",
       "      <td>黑色柳丁</td>\n",
       "      <td>18156459</td>\n",
       "      <td>18122</td>\n",
       "      <td>World of Warcraft</td>\n",
       "      <td>{MMORPG,RPG}</td>\n",
       "      <td>zh</td>\n",
       "      <td>2020-04-20T10:53:28Z</td>\n",
       "      <td>74</td>\n",
       "      <td>74</td>\n",
       "    </tr>\n",
       "    <tr>\n",
       "      <th>4</th>\n",
       "      <td>黑色柳丁</td>\n",
       "      <td>18156459</td>\n",
       "      <td>18122</td>\n",
       "      <td>World of Warcraft</td>\n",
       "      <td>{MMORPG,RPG}</td>\n",
       "      <td>zh</td>\n",
       "      <td>2020-04-16T11:29:02Z</td>\n",
       "      <td>71</td>\n",
       "      <td>71</td>\n",
       "    </tr>\n",
       "  </tbody>\n",
       "</table>\n",
       "</div>"
      ],
      "text/plain": [
       "  user_name    user_id  game_id          game_name    game_genres language  \\\n",
       "0        龜狗   48093884    21779  League of Legends         {MOBA}       zh   \n",
       "1      黒田瑞貴  225658233   511224       Apex Legends  {FPS,Shooter}       ja   \n",
       "2      黑色柳丁   18156459    18122  World of Warcraft   {MMORPG,RPG}       zh   \n",
       "3      黑色柳丁   18156459    18122  World of Warcraft   {MMORPG,RPG}       zh   \n",
       "4      黑色柳丁   18156459    18122  World of Warcraft   {MMORPG,RPG}       zh   \n",
       "\n",
       "             started_at  viewer_count   max  \n",
       "0  2020-04-19T04:18:22Z          1931  1931  \n",
       "1  2020-04-20T12:19:02Z           165   165  \n",
       "2  2020-04-20T10:53:28Z           102   102  \n",
       "3  2020-04-20T10:53:28Z            74    74  \n",
       "4  2020-04-16T11:29:02Z            71    71  "
      ]
     },
     "execution_count": 6,
     "metadata": {},
     "output_type": "execute_result"
    }
   ],
   "source": [
    "grid.head()"
   ]
  },
  {
   "cell_type": "markdown",
   "metadata": {},
   "source": [
    "To begin, we're calculating the metric we'll be using to compare users and games. \n",
    "\n",
    "Since we're focused on the streamers, we don't have the traditional \"I like this movie so I will rate it a 4.5 out of 5.0\" ratings. \n",
    "\n",
    "Instead we're calculating \n",
    ">>how many viewers each streamer attracted with a particular game compared to their max viewer potential over the week\n",
    "\n",
    "For each user, one game is their ultimate streaming \"5 out of 5\" benchmark, and all other games they play are compared to that one, and normalized to ratings between 1 and 5. We are also using all the genres for each game to pinpoint how successful various genres and games have been for each streamer."
   ]
  },
  {
   "cell_type": "code",
   "execution_count": 7,
   "metadata": {},
   "outputs": [
    {
     "data": {
      "text/html": [
       "<div>\n",
       "<style scoped>\n",
       "    .dataframe tbody tr th:only-of-type {\n",
       "        vertical-align: middle;\n",
       "    }\n",
       "\n",
       "    .dataframe tbody tr th {\n",
       "        vertical-align: top;\n",
       "    }\n",
       "\n",
       "    .dataframe thead th {\n",
       "        text-align: right;\n",
       "    }\n",
       "</style>\n",
       "<table border=\"1\" class=\"dataframe\">\n",
       "  <thead>\n",
       "    <tr style=\"text-align: right;\">\n",
       "      <th></th>\n",
       "      <th>user_name</th>\n",
       "      <th>max</th>\n",
       "    </tr>\n",
       "  </thead>\n",
       "  <tbody>\n",
       "    <tr>\n",
       "      <th>0</th>\n",
       "      <td>0011002200</td>\n",
       "      <td>0</td>\n",
       "    </tr>\n",
       "    <tr>\n",
       "      <th>1</th>\n",
       "      <td>00PixieDust</td>\n",
       "      <td>6</td>\n",
       "    </tr>\n",
       "    <tr>\n",
       "      <th>2</th>\n",
       "      <td>00carlos03</td>\n",
       "      <td>1</td>\n",
       "    </tr>\n",
       "    <tr>\n",
       "      <th>3</th>\n",
       "      <td>00에스프레쏘00</td>\n",
       "      <td>27</td>\n",
       "    </tr>\n",
       "    <tr>\n",
       "      <th>4</th>\n",
       "      <td>02theliveR</td>\n",
       "      <td>65</td>\n",
       "    </tr>\n",
       "  </tbody>\n",
       "</table>\n",
       "</div>"
      ],
      "text/plain": [
       "     user_name  max\n",
       "0   0011002200    0\n",
       "1  00PixieDust    6\n",
       "2   00carlos03    1\n",
       "3    00에스프레쏘00   27\n",
       "4   02theliveR   65"
      ]
     },
     "execution_count": 7,
     "metadata": {},
     "output_type": "execute_result"
    }
   ],
   "source": [
    "max_value_username = pd.DataFrame(grid.groupby('user_name')['max'].max().reset_index())\n",
    "max_value_username.head()"
   ]
  },
  {
   "cell_type": "code",
   "execution_count": 8,
   "metadata": {},
   "outputs": [],
   "source": [
    "max_val_dict = max_value_username.groupby('user_name')['max'].apply(list).to_dict()"
   ]
  },
  {
   "cell_type": "code",
   "execution_count": 9,
   "metadata": {},
   "outputs": [
    {
     "data": {
      "text/html": [
       "<div>\n",
       "<style scoped>\n",
       "    .dataframe tbody tr th:only-of-type {\n",
       "        vertical-align: middle;\n",
       "    }\n",
       "\n",
       "    .dataframe tbody tr th {\n",
       "        vertical-align: top;\n",
       "    }\n",
       "\n",
       "    .dataframe thead th {\n",
       "        text-align: right;\n",
       "    }\n",
       "</style>\n",
       "<table border=\"1\" class=\"dataframe\">\n",
       "  <thead>\n",
       "    <tr style=\"text-align: right;\">\n",
       "      <th></th>\n",
       "      <th>user_name</th>\n",
       "      <th>user_id</th>\n",
       "      <th>game_id</th>\n",
       "      <th>game_name</th>\n",
       "      <th>game_genres</th>\n",
       "      <th>language</th>\n",
       "      <th>started_at</th>\n",
       "      <th>viewer_count</th>\n",
       "      <th>max</th>\n",
       "      <th>max_game</th>\n",
       "    </tr>\n",
       "  </thead>\n",
       "  <tbody>\n",
       "    <tr>\n",
       "      <th>0</th>\n",
       "      <td>龜狗</td>\n",
       "      <td>48093884</td>\n",
       "      <td>21779</td>\n",
       "      <td>League of Legends</td>\n",
       "      <td>{MOBA}</td>\n",
       "      <td>zh</td>\n",
       "      <td>2020-04-19T04:18:22Z</td>\n",
       "      <td>1931</td>\n",
       "      <td>1931</td>\n",
       "      <td>[1931]</td>\n",
       "    </tr>\n",
       "    <tr>\n",
       "      <th>1</th>\n",
       "      <td>黒田瑞貴</td>\n",
       "      <td>225658233</td>\n",
       "      <td>511224</td>\n",
       "      <td>Apex Legends</td>\n",
       "      <td>{FPS,Shooter}</td>\n",
       "      <td>ja</td>\n",
       "      <td>2020-04-20T12:19:02Z</td>\n",
       "      <td>165</td>\n",
       "      <td>165</td>\n",
       "      <td>[165]</td>\n",
       "    </tr>\n",
       "    <tr>\n",
       "      <th>2</th>\n",
       "      <td>黑色柳丁</td>\n",
       "      <td>18156459</td>\n",
       "      <td>18122</td>\n",
       "      <td>World of Warcraft</td>\n",
       "      <td>{MMORPG,RPG}</td>\n",
       "      <td>zh</td>\n",
       "      <td>2020-04-20T10:53:28Z</td>\n",
       "      <td>102</td>\n",
       "      <td>102</td>\n",
       "      <td>[102]</td>\n",
       "    </tr>\n",
       "    <tr>\n",
       "      <th>3</th>\n",
       "      <td>黑色柳丁</td>\n",
       "      <td>18156459</td>\n",
       "      <td>18122</td>\n",
       "      <td>World of Warcraft</td>\n",
       "      <td>{MMORPG,RPG}</td>\n",
       "      <td>zh</td>\n",
       "      <td>2020-04-20T10:53:28Z</td>\n",
       "      <td>74</td>\n",
       "      <td>74</td>\n",
       "      <td>[102]</td>\n",
       "    </tr>\n",
       "    <tr>\n",
       "      <th>4</th>\n",
       "      <td>黑色柳丁</td>\n",
       "      <td>18156459</td>\n",
       "      <td>18122</td>\n",
       "      <td>World of Warcraft</td>\n",
       "      <td>{MMORPG,RPG}</td>\n",
       "      <td>zh</td>\n",
       "      <td>2020-04-16T11:29:02Z</td>\n",
       "      <td>71</td>\n",
       "      <td>71</td>\n",
       "      <td>[102]</td>\n",
       "    </tr>\n",
       "  </tbody>\n",
       "</table>\n",
       "</div>"
      ],
      "text/plain": [
       "  user_name    user_id  game_id          game_name    game_genres language  \\\n",
       "0        龜狗   48093884    21779  League of Legends         {MOBA}       zh   \n",
       "1      黒田瑞貴  225658233   511224       Apex Legends  {FPS,Shooter}       ja   \n",
       "2      黑色柳丁   18156459    18122  World of Warcraft   {MMORPG,RPG}       zh   \n",
       "3      黑色柳丁   18156459    18122  World of Warcraft   {MMORPG,RPG}       zh   \n",
       "4      黑色柳丁   18156459    18122  World of Warcraft   {MMORPG,RPG}       zh   \n",
       "\n",
       "             started_at  viewer_count   max max_game  \n",
       "0  2020-04-19T04:18:22Z          1931  1931   [1931]  \n",
       "1  2020-04-20T12:19:02Z           165   165    [165]  \n",
       "2  2020-04-20T10:53:28Z           102   102    [102]  \n",
       "3  2020-04-20T10:53:28Z            74    74    [102]  \n",
       "4  2020-04-16T11:29:02Z            71    71    [102]  "
      ]
     },
     "execution_count": 9,
     "metadata": {},
     "output_type": "execute_result"
    }
   ],
   "source": [
    "grid['max_game'] = grid['user_name'].map(max_val_dict)\n",
    "grid.head()"
   ]
  },
  {
   "cell_type": "code",
   "execution_count": 10,
   "metadata": {},
   "outputs": [],
   "source": [
    "grid['max_game_int'] = grid.max_game.str[0].astype(int)\n",
    "grid = grid.drop('max_game', axis = 1)"
   ]
  },
  {
   "cell_type": "code",
   "execution_count": 11,
   "metadata": {},
   "outputs": [
    {
     "data": {
      "text/html": [
       "<div>\n",
       "<style scoped>\n",
       "    .dataframe tbody tr th:only-of-type {\n",
       "        vertical-align: middle;\n",
       "    }\n",
       "\n",
       "    .dataframe tbody tr th {\n",
       "        vertical-align: top;\n",
       "    }\n",
       "\n",
       "    .dataframe thead th {\n",
       "        text-align: right;\n",
       "    }\n",
       "</style>\n",
       "<table border=\"1\" class=\"dataframe\">\n",
       "  <thead>\n",
       "    <tr style=\"text-align: right;\">\n",
       "      <th></th>\n",
       "      <th>user_name</th>\n",
       "      <th>user_id</th>\n",
       "      <th>game_id</th>\n",
       "      <th>game_name</th>\n",
       "      <th>game_genres</th>\n",
       "      <th>language</th>\n",
       "      <th>started_at</th>\n",
       "      <th>viewer_count</th>\n",
       "      <th>max</th>\n",
       "      <th>max_game_int</th>\n",
       "    </tr>\n",
       "  </thead>\n",
       "  <tbody>\n",
       "    <tr>\n",
       "      <th>38244</th>\n",
       "      <td>KellFLuz</td>\n",
       "      <td>136422709</td>\n",
       "      <td>24241</td>\n",
       "      <td>FINAL FANTASY XIV Online</td>\n",
       "      <td>{MMORPG}</td>\n",
       "      <td>pt</td>\n",
       "      <td>2020-04-19T19:01:37Z</td>\n",
       "      <td>28</td>\n",
       "      <td>28</td>\n",
       "      <td>28</td>\n",
       "    </tr>\n",
       "    <tr>\n",
       "      <th>21404</th>\n",
       "      <td>protaxr6</td>\n",
       "      <td>188687033</td>\n",
       "      <td>460630</td>\n",
       "      <td>Tom Clancy's Rainbow Six: Siege</td>\n",
       "      <td>{FPS,Shooter}</td>\n",
       "      <td>es</td>\n",
       "      <td>2020-04-19T23:34:32Z</td>\n",
       "      <td>35</td>\n",
       "      <td>35</td>\n",
       "      <td>35</td>\n",
       "    </tr>\n",
       "    <tr>\n",
       "      <th>43769</th>\n",
       "      <td>ibai</td>\n",
       "      <td>83232866</td>\n",
       "      <td>73586</td>\n",
       "      <td>Outlast</td>\n",
       "      <td>{\"Adventure Game\",Horror}</td>\n",
       "      <td>es</td>\n",
       "      <td>2020-04-19T17:52:37Z</td>\n",
       "      <td>18941</td>\n",
       "      <td>18941</td>\n",
       "      <td>22907</td>\n",
       "    </tr>\n",
       "    <tr>\n",
       "      <th>25092</th>\n",
       "      <td>offpc</td>\n",
       "      <td>56758194</td>\n",
       "      <td>515448</td>\n",
       "      <td>Resident Evil 3</td>\n",
       "      <td>{Action,\"Adventure Game\"}</td>\n",
       "      <td>zh</td>\n",
       "      <td>2020-04-20T02:14:13Z</td>\n",
       "      <td>11</td>\n",
       "      <td>11</td>\n",
       "      <td>16</td>\n",
       "    </tr>\n",
       "    <tr>\n",
       "      <th>12766</th>\n",
       "      <td>sporkerific</td>\n",
       "      <td>43788773</td>\n",
       "      <td>271304</td>\n",
       "      <td>7 Days to Die</td>\n",
       "      <td>{Simulation,FPS}</td>\n",
       "      <td>en</td>\n",
       "      <td>2020-04-19T17:29:18Z</td>\n",
       "      <td>11</td>\n",
       "      <td>11</td>\n",
       "      <td>11</td>\n",
       "    </tr>\n",
       "    <tr>\n",
       "      <th>5332</th>\n",
       "      <td>Venalis</td>\n",
       "      <td>61292850</td>\n",
       "      <td>512969</td>\n",
       "      <td>Last Oasis</td>\n",
       "      <td>{MMORPG,RPG}</td>\n",
       "      <td>en</td>\n",
       "      <td>2020-04-19T20:28:18Z</td>\n",
       "      <td>675</td>\n",
       "      <td>675</td>\n",
       "      <td>699</td>\n",
       "    </tr>\n",
       "    <tr>\n",
       "      <th>12414</th>\n",
       "      <td>Starlordzz</td>\n",
       "      <td>103589936</td>\n",
       "      <td>506468</td>\n",
       "      <td>Nioh 2</td>\n",
       "      <td>{Action,RPG}</td>\n",
       "      <td>en</td>\n",
       "      <td>2020-04-18T22:44:09Z</td>\n",
       "      <td>0</td>\n",
       "      <td>0</td>\n",
       "      <td>0</td>\n",
       "    </tr>\n",
       "    <tr>\n",
       "      <th>42296</th>\n",
       "      <td>iTehJambajoe</td>\n",
       "      <td>47647062</td>\n",
       "      <td>513319</td>\n",
       "      <td>NBA 2K20</td>\n",
       "      <td>{\"Sports Game\",Simulation}</td>\n",
       "      <td>en</td>\n",
       "      <td>2020-04-19T17:27:23Z</td>\n",
       "      <td>30</td>\n",
       "      <td>30</td>\n",
       "      <td>30</td>\n",
       "    </tr>\n",
       "    <tr>\n",
       "      <th>26870</th>\n",
       "      <td>Nerdy_Senpai</td>\n",
       "      <td>410049739</td>\n",
       "      <td>509538</td>\n",
       "      <td>Animal Crossing: New Horizons</td>\n",
       "      <td>{Simulation}</td>\n",
       "      <td>en</td>\n",
       "      <td>2020-04-19T18:14:24Z</td>\n",
       "      <td>35</td>\n",
       "      <td>35</td>\n",
       "      <td>35</td>\n",
       "    </tr>\n",
       "    <tr>\n",
       "      <th>49401</th>\n",
       "      <td>FlyestRaven</td>\n",
       "      <td>97685994</td>\n",
       "      <td>32959</td>\n",
       "      <td>Heroes of the Storm</td>\n",
       "      <td>{MOBA}</td>\n",
       "      <td>en</td>\n",
       "      <td>2020-04-20T00:44:27Z</td>\n",
       "      <td>1</td>\n",
       "      <td>1</td>\n",
       "      <td>2</td>\n",
       "    </tr>\n",
       "  </tbody>\n",
       "</table>\n",
       "</div>"
      ],
      "text/plain": [
       "          user_name    user_id  game_id                        game_name  \\\n",
       "38244      KellFLuz  136422709    24241         FINAL FANTASY XIV Online   \n",
       "21404      protaxr6  188687033   460630  Tom Clancy's Rainbow Six: Siege   \n",
       "43769          ibai   83232866    73586                          Outlast   \n",
       "25092         offpc   56758194   515448                  Resident Evil 3   \n",
       "12766   sporkerific   43788773   271304                    7 Days to Die   \n",
       "5332        Venalis   61292850   512969                       Last Oasis   \n",
       "12414    Starlordzz  103589936   506468                           Nioh 2   \n",
       "42296  iTehJambajoe   47647062   513319                         NBA 2K20   \n",
       "26870  Nerdy_Senpai  410049739   509538    Animal Crossing: New Horizons   \n",
       "49401   FlyestRaven   97685994    32959              Heroes of the Storm   \n",
       "\n",
       "                      game_genres language            started_at  \\\n",
       "38244                    {MMORPG}       pt  2020-04-19T19:01:37Z   \n",
       "21404               {FPS,Shooter}       es  2020-04-19T23:34:32Z   \n",
       "43769   {\"Adventure Game\",Horror}       es  2020-04-19T17:52:37Z   \n",
       "25092   {Action,\"Adventure Game\"}       zh  2020-04-20T02:14:13Z   \n",
       "12766            {Simulation,FPS}       en  2020-04-19T17:29:18Z   \n",
       "5332                 {MMORPG,RPG}       en  2020-04-19T20:28:18Z   \n",
       "12414                {Action,RPG}       en  2020-04-18T22:44:09Z   \n",
       "42296  {\"Sports Game\",Simulation}       en  2020-04-19T17:27:23Z   \n",
       "26870                {Simulation}       en  2020-04-19T18:14:24Z   \n",
       "49401                      {MOBA}       en  2020-04-20T00:44:27Z   \n",
       "\n",
       "       viewer_count    max  max_game_int  \n",
       "38244            28     28            28  \n",
       "21404            35     35            35  \n",
       "43769         18941  18941         22907  \n",
       "25092            11     11            16  \n",
       "12766            11     11            11  \n",
       "5332            675    675           699  \n",
       "12414             0      0             0  \n",
       "42296            30     30            30  \n",
       "26870            35     35            35  \n",
       "49401             1      1             2  "
      ]
     },
     "execution_count": 11,
     "metadata": {},
     "output_type": "execute_result"
    }
   ],
   "source": [
    "grid.sample(10)"
   ]
  },
  {
   "cell_type": "code",
   "execution_count": 12,
   "metadata": {},
   "outputs": [
    {
     "data": {
      "text/html": [
       "<div>\n",
       "<style scoped>\n",
       "    .dataframe tbody tr th:only-of-type {\n",
       "        vertical-align: middle;\n",
       "    }\n",
       "\n",
       "    .dataframe tbody tr th {\n",
       "        vertical-align: top;\n",
       "    }\n",
       "\n",
       "    .dataframe thead th {\n",
       "        text-align: right;\n",
       "    }\n",
       "</style>\n",
       "<table border=\"1\" class=\"dataframe\">\n",
       "  <thead>\n",
       "    <tr style=\"text-align: right;\">\n",
       "      <th></th>\n",
       "      <th>user_name</th>\n",
       "      <th>user_id</th>\n",
       "      <th>game_id</th>\n",
       "      <th>game_name</th>\n",
       "      <th>game_genres</th>\n",
       "      <th>language</th>\n",
       "      <th>started_at</th>\n",
       "      <th>viewer_count</th>\n",
       "      <th>max</th>\n",
       "      <th>max_game_int</th>\n",
       "      <th>score</th>\n",
       "    </tr>\n",
       "  </thead>\n",
       "  <tbody>\n",
       "    <tr>\n",
       "      <th>0</th>\n",
       "      <td>龜狗</td>\n",
       "      <td>48093884</td>\n",
       "      <td>21779</td>\n",
       "      <td>League of Legends</td>\n",
       "      <td>{MOBA}</td>\n",
       "      <td>zh</td>\n",
       "      <td>2020-04-19T04:18:22Z</td>\n",
       "      <td>1931</td>\n",
       "      <td>1931</td>\n",
       "      <td>1931</td>\n",
       "      <td>1.000000</td>\n",
       "    </tr>\n",
       "    <tr>\n",
       "      <th>1</th>\n",
       "      <td>黒田瑞貴</td>\n",
       "      <td>225658233</td>\n",
       "      <td>511224</td>\n",
       "      <td>Apex Legends</td>\n",
       "      <td>{FPS,Shooter}</td>\n",
       "      <td>ja</td>\n",
       "      <td>2020-04-20T12:19:02Z</td>\n",
       "      <td>165</td>\n",
       "      <td>165</td>\n",
       "      <td>165</td>\n",
       "      <td>1.000000</td>\n",
       "    </tr>\n",
       "    <tr>\n",
       "      <th>2</th>\n",
       "      <td>黑色柳丁</td>\n",
       "      <td>18156459</td>\n",
       "      <td>18122</td>\n",
       "      <td>World of Warcraft</td>\n",
       "      <td>{MMORPG,RPG}</td>\n",
       "      <td>zh</td>\n",
       "      <td>2020-04-20T10:53:28Z</td>\n",
       "      <td>102</td>\n",
       "      <td>102</td>\n",
       "      <td>102</td>\n",
       "      <td>1.000000</td>\n",
       "    </tr>\n",
       "    <tr>\n",
       "      <th>3</th>\n",
       "      <td>黑色柳丁</td>\n",
       "      <td>18156459</td>\n",
       "      <td>18122</td>\n",
       "      <td>World of Warcraft</td>\n",
       "      <td>{MMORPG,RPG}</td>\n",
       "      <td>zh</td>\n",
       "      <td>2020-04-20T10:53:28Z</td>\n",
       "      <td>74</td>\n",
       "      <td>74</td>\n",
       "      <td>102</td>\n",
       "      <td>0.725490</td>\n",
       "    </tr>\n",
       "    <tr>\n",
       "      <th>4</th>\n",
       "      <td>黑色柳丁</td>\n",
       "      <td>18156459</td>\n",
       "      <td>18122</td>\n",
       "      <td>World of Warcraft</td>\n",
       "      <td>{MMORPG,RPG}</td>\n",
       "      <td>zh</td>\n",
       "      <td>2020-04-16T11:29:02Z</td>\n",
       "      <td>71</td>\n",
       "      <td>71</td>\n",
       "      <td>102</td>\n",
       "      <td>0.696078</td>\n",
       "    </tr>\n",
       "  </tbody>\n",
       "</table>\n",
       "</div>"
      ],
      "text/plain": [
       "  user_name    user_id  game_id          game_name    game_genres language  \\\n",
       "0        龜狗   48093884    21779  League of Legends         {MOBA}       zh   \n",
       "1      黒田瑞貴  225658233   511224       Apex Legends  {FPS,Shooter}       ja   \n",
       "2      黑色柳丁   18156459    18122  World of Warcraft   {MMORPG,RPG}       zh   \n",
       "3      黑色柳丁   18156459    18122  World of Warcraft   {MMORPG,RPG}       zh   \n",
       "4      黑色柳丁   18156459    18122  World of Warcraft   {MMORPG,RPG}       zh   \n",
       "\n",
       "             started_at  viewer_count   max  max_game_int     score  \n",
       "0  2020-04-19T04:18:22Z          1931  1931          1931  1.000000  \n",
       "1  2020-04-20T12:19:02Z           165   165           165  1.000000  \n",
       "2  2020-04-20T10:53:28Z           102   102           102  1.000000  \n",
       "3  2020-04-20T10:53:28Z            74    74           102  0.725490  \n",
       "4  2020-04-16T11:29:02Z            71    71           102  0.696078  "
      ]
     },
     "execution_count": 12,
     "metadata": {},
     "output_type": "execute_result"
    }
   ],
   "source": [
    "grid['score'] = grid['max']/grid['max_game_int']\n",
    "grid.head()"
   ]
  },
  {
   "cell_type": "code",
   "execution_count": 13,
   "metadata": {},
   "outputs": [],
   "source": [
    "from sklearn.preprocessing import minmax_scale\n",
    "grid['scaled_score'] = minmax_scale(grid['score'], feature_range=(1, 5))"
   ]
  },
  {
   "cell_type": "code",
   "execution_count": 14,
   "metadata": {},
   "outputs": [
    {
     "data": {
      "text/html": [
       "<div>\n",
       "<style scoped>\n",
       "    .dataframe tbody tr th:only-of-type {\n",
       "        vertical-align: middle;\n",
       "    }\n",
       "\n",
       "    .dataframe tbody tr th {\n",
       "        vertical-align: top;\n",
       "    }\n",
       "\n",
       "    .dataframe thead th {\n",
       "        text-align: right;\n",
       "    }\n",
       "</style>\n",
       "<table border=\"1\" class=\"dataframe\">\n",
       "  <thead>\n",
       "    <tr style=\"text-align: right;\">\n",
       "      <th></th>\n",
       "      <th>user_name</th>\n",
       "      <th>user_id</th>\n",
       "      <th>game_id</th>\n",
       "      <th>game_name</th>\n",
       "      <th>game_genres</th>\n",
       "      <th>language</th>\n",
       "      <th>started_at</th>\n",
       "      <th>viewer_count</th>\n",
       "      <th>max</th>\n",
       "      <th>max_game_int</th>\n",
       "      <th>score</th>\n",
       "      <th>scaled_score</th>\n",
       "    </tr>\n",
       "  </thead>\n",
       "  <tbody>\n",
       "    <tr>\n",
       "      <th>70540</th>\n",
       "      <td>_문님</td>\n",
       "      <td>232779448</td>\n",
       "      <td>493057</td>\n",
       "      <td>PLAYERUNKNOWN'S BATTLEGROUNDS</td>\n",
       "      <td>{Shooter,FPS}</td>\n",
       "      <td>ko</td>\n",
       "      <td>2020-04-20T16:02:01Z</td>\n",
       "      <td>15</td>\n",
       "      <td>15</td>\n",
       "      <td>35</td>\n",
       "      <td>0.428571</td>\n",
       "      <td>2.714286</td>\n",
       "    </tr>\n",
       "    <tr>\n",
       "      <th>70541</th>\n",
       "      <td>_문님</td>\n",
       "      <td>232779448</td>\n",
       "      <td>493057</td>\n",
       "      <td>PLAYERUNKNOWN'S BATTLEGROUNDS</td>\n",
       "      <td>{Shooter,FPS}</td>\n",
       "      <td>ko</td>\n",
       "      <td>2020-04-19T16:09:19Z</td>\n",
       "      <td>14</td>\n",
       "      <td>14</td>\n",
       "      <td>35</td>\n",
       "      <td>0.400000</td>\n",
       "      <td>2.600000</td>\n",
       "    </tr>\n",
       "    <tr>\n",
       "      <th>70542</th>\n",
       "      <td>__수현</td>\n",
       "      <td>423848194</td>\n",
       "      <td>493057</td>\n",
       "      <td>PLAYERUNKNOWN'S BATTLEGROUNDS</td>\n",
       "      <td>{Shooter,FPS}</td>\n",
       "      <td>ko</td>\n",
       "      <td>2020-04-19T14:18:18Z</td>\n",
       "      <td>18</td>\n",
       "      <td>18</td>\n",
       "      <td>18</td>\n",
       "      <td>1.000000</td>\n",
       "      <td>5.000000</td>\n",
       "    </tr>\n",
       "    <tr>\n",
       "      <th>70543</th>\n",
       "      <td>__수현</td>\n",
       "      <td>423848194</td>\n",
       "      <td>493057</td>\n",
       "      <td>PLAYERUNKNOWN'S BATTLEGROUNDS</td>\n",
       "      <td>{Shooter,FPS}</td>\n",
       "      <td>ko</td>\n",
       "      <td>2020-04-19T14:18:18Z</td>\n",
       "      <td>16</td>\n",
       "      <td>16</td>\n",
       "      <td>18</td>\n",
       "      <td>0.888889</td>\n",
       "      <td>4.555556</td>\n",
       "    </tr>\n",
       "    <tr>\n",
       "      <th>70544</th>\n",
       "      <td>__수현</td>\n",
       "      <td>423848194</td>\n",
       "      <td>493057</td>\n",
       "      <td>PLAYERUNKNOWN'S BATTLEGROUNDS</td>\n",
       "      <td>{Shooter,FPS}</td>\n",
       "      <td>ko</td>\n",
       "      <td>2020-04-19T14:18:18Z</td>\n",
       "      <td>15</td>\n",
       "      <td>15</td>\n",
       "      <td>18</td>\n",
       "      <td>0.833333</td>\n",
       "      <td>4.333333</td>\n",
       "    </tr>\n",
       "  </tbody>\n",
       "</table>\n",
       "</div>"
      ],
      "text/plain": [
       "      user_name    user_id  game_id                      game_name  \\\n",
       "70540       _문님  232779448   493057  PLAYERUNKNOWN'S BATTLEGROUNDS   \n",
       "70541       _문님  232779448   493057  PLAYERUNKNOWN'S BATTLEGROUNDS   \n",
       "70542      __수현  423848194   493057  PLAYERUNKNOWN'S BATTLEGROUNDS   \n",
       "70543      __수현  423848194   493057  PLAYERUNKNOWN'S BATTLEGROUNDS   \n",
       "70544      __수현  423848194   493057  PLAYERUNKNOWN'S BATTLEGROUNDS   \n",
       "\n",
       "         game_genres language            started_at  viewer_count  max  \\\n",
       "70540  {Shooter,FPS}       ko  2020-04-20T16:02:01Z            15   15   \n",
       "70541  {Shooter,FPS}       ko  2020-04-19T16:09:19Z            14   14   \n",
       "70542  {Shooter,FPS}       ko  2020-04-19T14:18:18Z            18   18   \n",
       "70543  {Shooter,FPS}       ko  2020-04-19T14:18:18Z            16   16   \n",
       "70544  {Shooter,FPS}       ko  2020-04-19T14:18:18Z            15   15   \n",
       "\n",
       "       max_game_int     score  scaled_score  \n",
       "70540            35  0.428571      2.714286  \n",
       "70541            35  0.400000      2.600000  \n",
       "70542            18  1.000000      5.000000  \n",
       "70543            18  0.888889      4.555556  \n",
       "70544            18  0.833333      4.333333  "
      ]
     },
     "execution_count": 14,
     "metadata": {},
     "output_type": "execute_result"
    }
   ],
   "source": [
    "grid.tail()"
   ]
  },
  {
   "cell_type": "code",
   "execution_count": 15,
   "metadata": {},
   "outputs": [],
   "source": [
    "#grid.to_csv('final_rating_game.csv', index = False)"
   ]
  },
  {
   "cell_type": "code",
   "execution_count": 16,
   "metadata": {},
   "outputs": [],
   "source": [
    "grid = grid.dropna()"
   ]
  },
  {
   "cell_type": "markdown",
   "metadata": {},
   "source": [
    "Now we have a listing for each user pairing them with each game they play, what genre it belongs to, and how many people watched them play each game compared to the max viewers they ever got for a stream during the week we examined."
   ]
  },
  {
   "cell_type": "code",
   "execution_count": 17,
   "metadata": {},
   "outputs": [
    {
     "data": {
      "text/html": [
       "<div>\n",
       "<style scoped>\n",
       "    .dataframe tbody tr th:only-of-type {\n",
       "        vertical-align: middle;\n",
       "    }\n",
       "\n",
       "    .dataframe tbody tr th {\n",
       "        vertical-align: top;\n",
       "    }\n",
       "\n",
       "    .dataframe thead th {\n",
       "        text-align: right;\n",
       "    }\n",
       "</style>\n",
       "<table border=\"1\" class=\"dataframe\">\n",
       "  <thead>\n",
       "    <tr style=\"text-align: right;\">\n",
       "      <th></th>\n",
       "      <th>user_name</th>\n",
       "      <th>scaled_score</th>\n",
       "    </tr>\n",
       "  </thead>\n",
       "  <tbody>\n",
       "    <tr>\n",
       "      <th>30841</th>\n",
       "      <td>gaules</td>\n",
       "      <td>9</td>\n",
       "    </tr>\n",
       "    <tr>\n",
       "      <th>7888</th>\n",
       "      <td>FroggedTV</td>\n",
       "      <td>9</td>\n",
       "    </tr>\n",
       "    <tr>\n",
       "      <th>16826</th>\n",
       "      <td>OgamingLoL</td>\n",
       "      <td>9</td>\n",
       "    </tr>\n",
       "    <tr>\n",
       "      <th>15146</th>\n",
       "      <td>Monstercat</td>\n",
       "      <td>9</td>\n",
       "    </tr>\n",
       "    <tr>\n",
       "      <th>21060</th>\n",
       "      <td>SlotRoom247</td>\n",
       "      <td>9</td>\n",
       "    </tr>\n",
       "  </tbody>\n",
       "</table>\n",
       "</div>"
      ],
      "text/plain": [
       "         user_name  scaled_score\n",
       "30841       gaules             9\n",
       "7888     FroggedTV             9\n",
       "16826   OgamingLoL             9\n",
       "15146   Monstercat             9\n",
       "21060  SlotRoom247             9"
      ]
     },
     "execution_count": 17,
     "metadata": {},
     "output_type": "execute_result"
    }
   ],
   "source": [
    "grid.groupby('user_name')['scaled_score'].count().reset_index().sort_values('scaled_score', ascending=False)[:5]"
   ]
  },
  {
   "cell_type": "code",
   "execution_count": 18,
   "metadata": {
    "scrolled": true
   },
   "outputs": [
    {
     "data": {
      "text/html": [
       "<div>\n",
       "<style scoped>\n",
       "    .dataframe tbody tr th:only-of-type {\n",
       "        vertical-align: middle;\n",
       "    }\n",
       "\n",
       "    .dataframe tbody tr th {\n",
       "        vertical-align: top;\n",
       "    }\n",
       "\n",
       "    .dataframe thead th {\n",
       "        text-align: right;\n",
       "    }\n",
       "</style>\n",
       "<table border=\"1\" class=\"dataframe\">\n",
       "  <thead>\n",
       "    <tr style=\"text-align: right;\">\n",
       "      <th></th>\n",
       "      <th>game_genres</th>\n",
       "      <th>scaled_score</th>\n",
       "    </tr>\n",
       "  </thead>\n",
       "  <tbody>\n",
       "    <tr>\n",
       "      <th>12</th>\n",
       "      <td>{Action,\"Adventure Game\"}</td>\n",
       "      <td>5311</td>\n",
       "    </tr>\n",
       "    <tr>\n",
       "      <th>29</th>\n",
       "      <td>{FPS,Shooter}</td>\n",
       "      <td>3604</td>\n",
       "    </tr>\n",
       "    <tr>\n",
       "      <th>4</th>\n",
       "      <td>{\"Card &amp; Board Game\"}</td>\n",
       "      <td>3566</td>\n",
       "    </tr>\n",
       "    <tr>\n",
       "      <th>40</th>\n",
       "      <td>{MOBA}</td>\n",
       "      <td>3372</td>\n",
       "    </tr>\n",
       "    <tr>\n",
       "      <th>17</th>\n",
       "      <td>{Action,RPG}</td>\n",
       "      <td>3352</td>\n",
       "    </tr>\n",
       "  </tbody>\n",
       "</table>\n",
       "</div>"
      ],
      "text/plain": [
       "                  game_genres  scaled_score\n",
       "12  {Action,\"Adventure Game\"}          5311\n",
       "29              {FPS,Shooter}          3604\n",
       "4       {\"Card & Board Game\"}          3566\n",
       "40                     {MOBA}          3372\n",
       "17               {Action,RPG}          3352"
      ]
     },
     "execution_count": 18,
     "metadata": {},
     "output_type": "execute_result"
    }
   ],
   "source": [
    "grid.groupby('game_genres')['scaled_score'].count().reset_index().sort_values('scaled_score', ascending=False)[:5]"
   ]
  },
  {
   "cell_type": "code",
   "execution_count": 19,
   "metadata": {},
   "outputs": [
    {
     "data": {
      "text/html": [
       "<div>\n",
       "<style scoped>\n",
       "    .dataframe tbody tr th:only-of-type {\n",
       "        vertical-align: middle;\n",
       "    }\n",
       "\n",
       "    .dataframe tbody tr th {\n",
       "        vertical-align: top;\n",
       "    }\n",
       "\n",
       "    .dataframe thead th {\n",
       "        text-align: right;\n",
       "    }\n",
       "</style>\n",
       "<table border=\"1\" class=\"dataframe\">\n",
       "  <thead>\n",
       "    <tr style=\"text-align: right;\">\n",
       "      <th></th>\n",
       "      <th>game_name</th>\n",
       "      <th>scaled_score</th>\n",
       "    </tr>\n",
       "  </thead>\n",
       "  <tbody>\n",
       "    <tr>\n",
       "      <th>54</th>\n",
       "      <td>Fortnite</td>\n",
       "      <td>900</td>\n",
       "    </tr>\n",
       "    <tr>\n",
       "      <th>46</th>\n",
       "      <td>FIFA 20</td>\n",
       "      <td>898</td>\n",
       "    </tr>\n",
       "    <tr>\n",
       "      <th>63</th>\n",
       "      <td>Grand Theft Auto V</td>\n",
       "      <td>898</td>\n",
       "    </tr>\n",
       "    <tr>\n",
       "      <th>91</th>\n",
       "      <td>Minecraft</td>\n",
       "      <td>895</td>\n",
       "    </tr>\n",
       "    <tr>\n",
       "      <th>169</th>\n",
       "      <td>VALORANT</td>\n",
       "      <td>895</td>\n",
       "    </tr>\n",
       "  </tbody>\n",
       "</table>\n",
       "</div>"
      ],
      "text/plain": [
       "              game_name  scaled_score\n",
       "54             Fortnite           900\n",
       "46              FIFA 20           898\n",
       "63   Grand Theft Auto V           898\n",
       "91            Minecraft           895\n",
       "169            VALORANT           895"
      ]
     },
     "execution_count": 19,
     "metadata": {},
     "output_type": "execute_result"
    }
   ],
   "source": [
    "grid.groupby('game_name')['scaled_score'].count().reset_index().sort_values('scaled_score', ascending=False)[:5]"
   ]
  },
  {
   "cell_type": "code",
   "execution_count": 20,
   "metadata": {},
   "outputs": [],
   "source": [
    "min_number_scores = 5\n",
    "filter_users = grid['user_name'].value_counts() > min_number_scores\n",
    "filter_users = filter_users[filter_users].index.tolist()"
   ]
  },
  {
   "cell_type": "code",
   "execution_count": 21,
   "metadata": {},
   "outputs": [
    {
     "name": "stdout",
     "output_type": "stream",
     "text": [
      "The original data frame shape:\t(69428, 12)\n",
      "The new data frame shape:\t(4699, 12)\n"
     ]
    }
   ],
   "source": [
    "grid_new = grid[(grid['user_name'].isin(filter_users))]\n",
    "print('The original data frame shape:\\t{}'.format(grid.shape))\n",
    "print('The new data frame shape:\\t{}'.format(grid_new.shape))"
   ]
  },
  {
   "cell_type": "markdown",
   "metadata": {},
   "source": [
    "After reshaping the grid, we are going to extract the recommendations for game genre, game titles, and games similar to those already rated by the streamers as a three-pronged recommender approach."
   ]
  },
  {
   "cell_type": "markdown",
   "metadata": {},
   "source": [
    "Preparing for genre recommendations based on viewership scores:"
   ]
  },
  {
   "cell_type": "code",
   "execution_count": 22,
   "metadata": {
    "scrolled": true
   },
   "outputs": [],
   "source": [
    "genres_base_df = grid_new.groupby(by = ['user_name', 'game_genres'])['scaled_score'].agg([np.mean])\n",
    "games_base_df = grid_new.groupby(by = ['user_name', 'game_name'])['scaled_score'].agg([np.mean])"
   ]
  },
  {
   "cell_type": "code",
   "execution_count": 23,
   "metadata": {},
   "outputs": [
    {
     "data": {
      "text/html": [
       "<div>\n",
       "<style scoped>\n",
       "    .dataframe tbody tr th:only-of-type {\n",
       "        vertical-align: middle;\n",
       "    }\n",
       "\n",
       "    .dataframe tbody tr th {\n",
       "        vertical-align: top;\n",
       "    }\n",
       "\n",
       "    .dataframe thead th {\n",
       "        text-align: right;\n",
       "    }\n",
       "</style>\n",
       "<table border=\"1\" class=\"dataframe\">\n",
       "  <thead>\n",
       "    <tr style=\"text-align: right;\">\n",
       "      <th></th>\n",
       "      <th></th>\n",
       "      <th>mean</th>\n",
       "    </tr>\n",
       "    <tr>\n",
       "      <th>user_name</th>\n",
       "      <th>game_genres</th>\n",
       "      <th></th>\n",
       "    </tr>\n",
       "  </thead>\n",
       "  <tbody>\n",
       "    <tr>\n",
       "      <th>0monstro</th>\n",
       "      <th>{MMORPG,RPG}</th>\n",
       "      <td>3.626866</td>\n",
       "    </tr>\n",
       "    <tr>\n",
       "      <th>1Gn0rance</th>\n",
       "      <th>{Action,RPG}</th>\n",
       "      <td>3.512821</td>\n",
       "    </tr>\n",
       "    <tr>\n",
       "      <th>1ST3NM1</th>\n",
       "      <th>{MMORPG}</th>\n",
       "      <td>4.257028</td>\n",
       "    </tr>\n",
       "    <tr>\n",
       "      <th rowspan=\"2\" valign=\"top\">24_Flash</th>\n",
       "      <th>{Shooter,FPS}</th>\n",
       "      <td>4.318980</td>\n",
       "    </tr>\n",
       "    <tr>\n",
       "      <th>{Shooter}</th>\n",
       "      <td>4.677054</td>\n",
       "    </tr>\n",
       "  </tbody>\n",
       "</table>\n",
       "</div>"
      ],
      "text/plain": [
       "                             mean\n",
       "user_name game_genres            \n",
       "0monstro  {MMORPG,RPG}   3.626866\n",
       "1Gn0rance {Action,RPG}   3.512821\n",
       "1ST3NM1   {MMORPG}       4.257028\n",
       "24_Flash  {Shooter,FPS}  4.318980\n",
       "          {Shooter}      4.677054"
      ]
     },
     "execution_count": 23,
     "metadata": {},
     "output_type": "execute_result"
    }
   ],
   "source": [
    "genres_base_df.head(5)"
   ]
  },
  {
   "cell_type": "code",
   "execution_count": 24,
   "metadata": {},
   "outputs": [
    {
     "data": {
      "text/html": [
       "<div>\n",
       "<style scoped>\n",
       "    .dataframe tbody tr th:only-of-type {\n",
       "        vertical-align: middle;\n",
       "    }\n",
       "\n",
       "    .dataframe tbody tr th {\n",
       "        vertical-align: top;\n",
       "    }\n",
       "\n",
       "    .dataframe thead th {\n",
       "        text-align: right;\n",
       "    }\n",
       "</style>\n",
       "<table border=\"1\" class=\"dataframe\">\n",
       "  <thead>\n",
       "    <tr style=\"text-align: right;\">\n",
       "      <th></th>\n",
       "      <th></th>\n",
       "      <th>mean</th>\n",
       "    </tr>\n",
       "    <tr>\n",
       "      <th>user_name</th>\n",
       "      <th>game_name</th>\n",
       "      <th></th>\n",
       "    </tr>\n",
       "  </thead>\n",
       "  <tbody>\n",
       "    <tr>\n",
       "      <th>0monstro</th>\n",
       "      <th>Last Oasis</th>\n",
       "      <td>3.626866</td>\n",
       "    </tr>\n",
       "    <tr>\n",
       "      <th>1Gn0rance</th>\n",
       "      <th>Path of Exile</th>\n",
       "      <td>3.512821</td>\n",
       "    </tr>\n",
       "    <tr>\n",
       "      <th>1ST3NM1</th>\n",
       "      <th>Knight Online</th>\n",
       "      <td>4.257028</td>\n",
       "    </tr>\n",
       "    <tr>\n",
       "      <th rowspan=\"2\" valign=\"top\">24_Flash</th>\n",
       "      <th>Fortnite</th>\n",
       "      <td>4.677054</td>\n",
       "    </tr>\n",
       "    <tr>\n",
       "      <th>VALORANT</th>\n",
       "      <td>4.318980</td>\n",
       "    </tr>\n",
       "  </tbody>\n",
       "</table>\n",
       "</div>"
      ],
      "text/plain": [
       "                             mean\n",
       "user_name game_name              \n",
       "0monstro  Last Oasis     3.626866\n",
       "1Gn0rance Path of Exile  3.512821\n",
       "1ST3NM1   Knight Online  4.257028\n",
       "24_Flash  Fortnite       4.677054\n",
       "          VALORANT       4.318980"
      ]
     },
     "execution_count": 24,
     "metadata": {},
     "output_type": "execute_result"
    }
   ],
   "source": [
    "games_base_df.head(5)"
   ]
  },
  {
   "cell_type": "code",
   "execution_count": 25,
   "metadata": {},
   "outputs": [],
   "source": [
    "genres_base_df.columns = genres_base_df.columns.map(''.join)\n",
    "games_base_df.columns = games_base_df.columns.map(''.join)"
   ]
  },
  {
   "cell_type": "code",
   "execution_count": 26,
   "metadata": {},
   "outputs": [],
   "source": [
    "genres_base_df = genres_base_df.reset_index()\n",
    "games_base_df = games_base_df.reset_index()"
   ]
  },
  {
   "cell_type": "code",
   "execution_count": 27,
   "metadata": {},
   "outputs": [
    {
     "name": "stdout",
     "output_type": "stream",
     "text": [
      "<class 'pandas.core.frame.DataFrame'>\n",
      "RangeIndex: 861 entries, 0 to 860\n",
      "Data columns (total 3 columns):\n",
      " #   Column       Non-Null Count  Dtype  \n",
      "---  ------       --------------  -----  \n",
      " 0   user_name    861 non-null    object \n",
      " 1   game_genres  861 non-null    object \n",
      " 2   mean         861 non-null    float64\n",
      "dtypes: float64(1), object(2)\n",
      "memory usage: 20.3+ KB\n"
     ]
    }
   ],
   "source": [
    "genres_base_df.info()"
   ]
  },
  {
   "cell_type": "code",
   "execution_count": 28,
   "metadata": {},
   "outputs": [
    {
     "name": "stdout",
     "output_type": "stream",
     "text": [
      "<class 'pandas.core.frame.DataFrame'>\n",
      "RangeIndex: 868 entries, 0 to 867\n",
      "Data columns (total 3 columns):\n",
      " #   Column     Non-Null Count  Dtype  \n",
      "---  ------     --------------  -----  \n",
      " 0   user_name  868 non-null    object \n",
      " 1   game_name  868 non-null    object \n",
      " 2   mean       868 non-null    float64\n",
      "dtypes: float64(1), object(2)\n",
      "memory usage: 20.5+ KB\n"
     ]
    }
   ],
   "source": [
    "games_base_df.info()"
   ]
  },
  {
   "cell_type": "code",
   "execution_count": 29,
   "metadata": {
    "scrolled": true
   },
   "outputs": [
    {
     "data": {
      "text/html": [
       "<div>\n",
       "<style scoped>\n",
       "    .dataframe tbody tr th:only-of-type {\n",
       "        vertical-align: middle;\n",
       "    }\n",
       "\n",
       "    .dataframe tbody tr th {\n",
       "        vertical-align: top;\n",
       "    }\n",
       "\n",
       "    .dataframe thead th {\n",
       "        text-align: right;\n",
       "    }\n",
       "</style>\n",
       "<table border=\"1\" class=\"dataframe\">\n",
       "  <thead>\n",
       "    <tr style=\"text-align: right;\">\n",
       "      <th></th>\n",
       "      <th>user_name</th>\n",
       "      <th>game_genres</th>\n",
       "      <th>mean</th>\n",
       "    </tr>\n",
       "  </thead>\n",
       "  <tbody>\n",
       "    <tr>\n",
       "      <th>0</th>\n",
       "      <td>0monstro</td>\n",
       "      <td>{MMORPG,RPG}</td>\n",
       "      <td>3.626866</td>\n",
       "    </tr>\n",
       "    <tr>\n",
       "      <th>1</th>\n",
       "      <td>1Gn0rance</td>\n",
       "      <td>{Action,RPG}</td>\n",
       "      <td>3.512821</td>\n",
       "    </tr>\n",
       "    <tr>\n",
       "      <th>2</th>\n",
       "      <td>1ST3NM1</td>\n",
       "      <td>{MMORPG}</td>\n",
       "      <td>4.257028</td>\n",
       "    </tr>\n",
       "    <tr>\n",
       "      <th>3</th>\n",
       "      <td>24_Flash</td>\n",
       "      <td>{Shooter,FPS}</td>\n",
       "      <td>4.318980</td>\n",
       "    </tr>\n",
       "    <tr>\n",
       "      <th>4</th>\n",
       "      <td>24_Flash</td>\n",
       "      <td>{Shooter}</td>\n",
       "      <td>4.677054</td>\n",
       "    </tr>\n",
       "  </tbody>\n",
       "</table>\n",
       "</div>"
      ],
      "text/plain": [
       "   user_name    game_genres      mean\n",
       "0   0monstro   {MMORPG,RPG}  3.626866\n",
       "1  1Gn0rance   {Action,RPG}  3.512821\n",
       "2    1ST3NM1       {MMORPG}  4.257028\n",
       "3   24_Flash  {Shooter,FPS}  4.318980\n",
       "4   24_Flash      {Shooter}  4.677054"
      ]
     },
     "execution_count": 29,
     "metadata": {},
     "output_type": "execute_result"
    }
   ],
   "source": [
    "genres_base_df.head(5)"
   ]
  },
  {
   "cell_type": "code",
   "execution_count": 30,
   "metadata": {},
   "outputs": [
    {
     "data": {
      "text/html": [
       "<div>\n",
       "<style scoped>\n",
       "    .dataframe tbody tr th:only-of-type {\n",
       "        vertical-align: middle;\n",
       "    }\n",
       "\n",
       "    .dataframe tbody tr th {\n",
       "        vertical-align: top;\n",
       "    }\n",
       "\n",
       "    .dataframe thead th {\n",
       "        text-align: right;\n",
       "    }\n",
       "</style>\n",
       "<table border=\"1\" class=\"dataframe\">\n",
       "  <thead>\n",
       "    <tr style=\"text-align: right;\">\n",
       "      <th></th>\n",
       "      <th>user_name</th>\n",
       "      <th>game_name</th>\n",
       "      <th>mean</th>\n",
       "    </tr>\n",
       "  </thead>\n",
       "  <tbody>\n",
       "    <tr>\n",
       "      <th>0</th>\n",
       "      <td>0monstro</td>\n",
       "      <td>Last Oasis</td>\n",
       "      <td>3.626866</td>\n",
       "    </tr>\n",
       "    <tr>\n",
       "      <th>1</th>\n",
       "      <td>1Gn0rance</td>\n",
       "      <td>Path of Exile</td>\n",
       "      <td>3.512821</td>\n",
       "    </tr>\n",
       "    <tr>\n",
       "      <th>2</th>\n",
       "      <td>1ST3NM1</td>\n",
       "      <td>Knight Online</td>\n",
       "      <td>4.257028</td>\n",
       "    </tr>\n",
       "    <tr>\n",
       "      <th>3</th>\n",
       "      <td>24_Flash</td>\n",
       "      <td>Fortnite</td>\n",
       "      <td>4.677054</td>\n",
       "    </tr>\n",
       "    <tr>\n",
       "      <th>4</th>\n",
       "      <td>24_Flash</td>\n",
       "      <td>VALORANT</td>\n",
       "      <td>4.318980</td>\n",
       "    </tr>\n",
       "  </tbody>\n",
       "</table>\n",
       "</div>"
      ],
      "text/plain": [
       "   user_name      game_name      mean\n",
       "0   0monstro     Last Oasis  3.626866\n",
       "1  1Gn0rance  Path of Exile  3.512821\n",
       "2    1ST3NM1  Knight Online  4.257028\n",
       "3   24_Flash       Fortnite  4.677054\n",
       "4   24_Flash       VALORANT  4.318980"
      ]
     },
     "execution_count": 30,
     "metadata": {},
     "output_type": "execute_result"
    }
   ],
   "source": [
    "games_base_df.head(5)"
   ]
  },
  {
   "cell_type": "markdown",
   "metadata": {},
   "source": [
    "Using Surprise to predict genres/games for a streamer based on their existing games and genres ratings"
   ]
  },
  {
   "cell_type": "code",
   "execution_count": 31,
   "metadata": {},
   "outputs": [],
   "source": [
    "import surprise\n",
    "from surprise import Dataset, accuracy, Reader, NMF, NormalPredictor, BaselineOnly, CoClustering, SlopeOne, SVD, KNNBaseline\n",
    "from surprise.model_selection import GridSearchCV, cross_validate, train_test_split"
   ]
  },
  {
   "cell_type": "code",
   "execution_count": 32,
   "metadata": {},
   "outputs": [],
   "source": [
    "reader = Reader(rating_scale=(1, 5))\n",
    "genre_base_data = Dataset.load_from_df(genres_base_df[['user_name', 'game_genres', 'mean']], reader)"
   ]
  },
  {
   "cell_type": "code",
   "execution_count": 33,
   "metadata": {},
   "outputs": [],
   "source": [
    "game_base_data = Dataset.load_from_df(games_base_df[['user_name', 'game_name', 'mean']], reader)"
   ]
  },
  {
   "cell_type": "markdown",
   "metadata": {},
   "source": [
    "Now it is time to select the algorithms we will use to generate recommendations for our streamers based on their existing behavior and also on how similar the games they already stream are to those they do not yet stream. \n",
    "\n",
    "The first step is to evaluate various algorithms available in Surprise to see which produce the lowest RMSE and are computationally friendly so we can use them in a dynamic app and recommend things on the fly. We perform cross validation on all fast algorithms to see which performs best with either of our datasets, genres and games."
   ]
  },
  {
   "cell_type": "code",
   "execution_count": 34,
   "metadata": {
    "scrolled": true
   },
   "outputs": [
    {
     "name": "stdout",
     "output_type": "stream",
     "text": [
      "Evaluating RMSE of algorithm SlopeOne on 5 split(s).\n",
      "\n",
      "                  Fold 1  Fold 2  Fold 3  Fold 4  Fold 5  Mean    Std     \n",
      "RMSE (testset)    0.8439  0.9232  0.8707  0.8728  0.8478  0.8717  0.0283  \n",
      "RMSE (trainset)   0.2146  0.1598  0.2039  0.2077  0.2243  0.2020  0.0223  \n",
      "Fit time          0.01    0.01    0.01    0.01    0.00    0.01    0.00    \n",
      "Test time         0.00    0.00    0.00    0.00    0.00    0.00    0.00    \n",
      "Evaluating RMSE of algorithm NormalPredictor on 5 split(s).\n",
      "\n",
      "                  Fold 1  Fold 2  Fold 3  Fold 4  Fold 5  Mean    Std     \n",
      "RMSE (testset)    0.9329  1.0114  0.9660  0.9430  1.0887  0.9884  0.0570  \n",
      "RMSE (trainset)   0.9804  0.9622  1.0432  1.0006  1.0049  0.9983  0.0272  \n",
      "Fit time          0.00    0.00    0.00    0.00    0.00    0.00    0.00    \n",
      "Test time         0.00    0.00    0.00    0.00    0.00    0.00    0.00    \n",
      "Estimating biases using als...\n",
      "Estimating biases using als...\n",
      "Estimating biases using als...\n",
      "Estimating biases using als...\n",
      "Estimating biases using als...\n",
      "Evaluating RMSE of algorithm BaselineOnly on 5 split(s).\n",
      "\n",
      "                  Fold 1  Fold 2  Fold 3  Fold 4  Fold 5  Mean    Std     \n",
      "RMSE (testset)    0.7065  0.7264  0.7417  0.7315  0.6496  0.7111  0.0329  \n",
      "RMSE (trainset)   0.6469  0.6396  0.6363  0.6387  0.6562  0.6435  0.0073  \n",
      "Fit time          0.00    0.00    0.00    0.00    0.00    0.00    0.00    \n",
      "Test time         0.00    0.00    0.00    0.00    0.00    0.00    0.00    \n",
      "Evaluating RMSE of algorithm NMF on 5 split(s).\n",
      "\n",
      "                  Fold 1  Fold 2  Fold 3  Fold 4  Fold 5  Mean    Std     \n",
      "RMSE (testset)    0.7823  1.0000  0.8265  0.7953  0.8601  0.8528  0.0783  \n",
      "RMSE (trainset)   0.0808  0.0624  0.0716  0.0725  0.0818  0.0738  0.0071  \n",
      "Fit time          0.06    0.06    0.06    0.07    0.06    0.06    0.00    \n",
      "Test time         0.00    0.00    0.00    0.00    0.00    0.00    0.00    \n",
      "Evaluating RMSE of algorithm CoClustering on 5 split(s).\n",
      "\n",
      "                  Fold 1  Fold 2  Fold 3  Fold 4  Fold 5  Mean    Std     \n",
      "RMSE (testset)    0.9047  0.8948  0.8153  1.0402  0.9075  0.9125  0.0723  \n",
      "RMSE (trainset)   0.6981  0.7078  0.6573  0.7127  0.6904  0.6933  0.0196  \n",
      "Fit time          0.08    0.11    0.08    0.09    0.06    0.08    0.01    \n",
      "Test time         0.00    0.00    0.00    0.00    0.00    0.00    0.00    \n",
      "Evaluating RMSE of algorithm SVD on 5 split(s).\n",
      "\n",
      "                  Fold 1  Fold 2  Fold 3  Fold 4  Fold 5  Mean    Std     \n",
      "RMSE (testset)    0.6506  0.7484  0.7671  0.7674  0.6131  0.7093  0.0647  \n",
      "RMSE (trainset)   0.5160  0.5022  0.5044  0.5065  0.5304  0.5119  0.0104  \n",
      "Fit time          0.04    0.04    0.04    0.04    0.04    0.04    0.00    \n",
      "Test time         0.00    0.00    0.00    0.00    0.00    0.00    0.00    \n"
     ]
    },
    {
     "data": {
      "text/html": [
       "<div>\n",
       "<style scoped>\n",
       "    .dataframe tbody tr th:only-of-type {\n",
       "        vertical-align: middle;\n",
       "    }\n",
       "\n",
       "    .dataframe tbody tr th {\n",
       "        vertical-align: top;\n",
       "    }\n",
       "\n",
       "    .dataframe thead th {\n",
       "        text-align: right;\n",
       "    }\n",
       "</style>\n",
       "<table border=\"1\" class=\"dataframe\">\n",
       "  <thead>\n",
       "    <tr style=\"text-align: right;\">\n",
       "      <th></th>\n",
       "      <th>test_rmse</th>\n",
       "      <th>train_rmse</th>\n",
       "      <th>fit_time</th>\n",
       "      <th>test_time</th>\n",
       "    </tr>\n",
       "    <tr>\n",
       "      <th>Algorithm</th>\n",
       "      <th></th>\n",
       "      <th></th>\n",
       "      <th></th>\n",
       "      <th></th>\n",
       "    </tr>\n",
       "  </thead>\n",
       "  <tbody>\n",
       "    <tr>\n",
       "      <th>SVD</th>\n",
       "      <td>0.709333</td>\n",
       "      <td>0.511888</td>\n",
       "      <td>0.037618</td>\n",
       "      <td>0.000911</td>\n",
       "    </tr>\n",
       "    <tr>\n",
       "      <th>BaselineOnly</th>\n",
       "      <td>0.711147</td>\n",
       "      <td>0.643543</td>\n",
       "      <td>0.001755</td>\n",
       "      <td>0.000679</td>\n",
       "    </tr>\n",
       "    <tr>\n",
       "      <th>NMF</th>\n",
       "      <td>0.852828</td>\n",
       "      <td>0.073837</td>\n",
       "      <td>0.063704</td>\n",
       "      <td>0.001463</td>\n",
       "    </tr>\n",
       "    <tr>\n",
       "      <th>SlopeOne</th>\n",
       "      <td>0.871671</td>\n",
       "      <td>0.202041</td>\n",
       "      <td>0.005837</td>\n",
       "      <td>0.001022</td>\n",
       "    </tr>\n",
       "    <tr>\n",
       "      <th>CoClustering</th>\n",
       "      <td>0.912478</td>\n",
       "      <td>0.693280</td>\n",
       "      <td>0.083411</td>\n",
       "      <td>0.000914</td>\n",
       "    </tr>\n",
       "    <tr>\n",
       "      <th>NormalPredictor</th>\n",
       "      <td>0.988406</td>\n",
       "      <td>0.998263</td>\n",
       "      <td>0.000750</td>\n",
       "      <td>0.001066</td>\n",
       "    </tr>\n",
       "  </tbody>\n",
       "</table>\n",
       "</div>"
      ],
      "text/plain": [
       "                 test_rmse  train_rmse  fit_time  test_time\n",
       "Algorithm                                                  \n",
       "SVD               0.709333    0.511888  0.037618   0.000911\n",
       "BaselineOnly      0.711147    0.643543  0.001755   0.000679\n",
       "NMF               0.852828    0.073837  0.063704   0.001463\n",
       "SlopeOne          0.871671    0.202041  0.005837   0.001022\n",
       "CoClustering      0.912478    0.693280  0.083411   0.000914\n",
       "NormalPredictor   0.988406    0.998263  0.000750   0.001066"
      ]
     },
     "execution_count": 34,
     "metadata": {},
     "output_type": "execute_result"
    }
   ],
   "source": [
    "benchmark = []\n",
    "# Iterate over all algorithms\n",
    "for algorithm in [SlopeOne(), NormalPredictor(), BaselineOnly(), NMF(), CoClustering(), SVD()]:\n",
    "\n",
    "\n",
    "    # Perform cross validation\n",
    "    results = cross_validate(algorithm, genre_base_data, measures=['RMSE'], return_train_measures=True, cv=5, verbose=True)\n",
    "    \n",
    "    # Get results & append algorithm name\n",
    "    tmp = pd.DataFrame.from_dict(results).mean(axis=0)\n",
    "    tmp = tmp.append(pd.Series([str(algorithm).split(' ')[0].split('.')[-1]], index=['Algorithm']))\n",
    "    benchmark.append(tmp)\n",
    "    \n",
    "pd.DataFrame(benchmark).set_index('Algorithm').sort_values('test_rmse')  "
   ]
  },
  {
   "cell_type": "markdown",
   "metadata": {},
   "source": [
    "For genre data, the SlopeOne seems to do the best algorithm. To drastically reduce overfitting, improve performance and ease implementation, the Slope One family of easily implemented Item-based Rating-Based collaborative filtering algorithms was proposed. Essentially, instead of using linear regression from one item's ratings to another item's ratings ( {\\displaystyle f(x)=ax+b} f(x)=ax+b), it uses a simpler form of regression with a single free parameter ( {\\displaystyle f(x)=x+b} f(x)=x+b). The free parameter is then simply the average difference between the two items' ratings. It was shown to be much more accurate than linear regression in some instances, and it takes half the storage or less."
   ]
  },
  {
   "cell_type": "code",
   "execution_count": 35,
   "metadata": {},
   "outputs": [
    {
     "name": "stdout",
     "output_type": "stream",
     "text": [
      "Evaluating RMSE of algorithm SlopeOne on 5 split(s).\n",
      "\n",
      "                  Fold 1  Fold 2  Fold 3  Fold 4  Fold 5  Mean    Std     \n",
      "RMSE (testset)    0.8892  0.8842  0.9468  0.8391  0.8751  0.8869  0.0347  \n",
      "RMSE (trainset)   0.1764  0.1707  0.1540  0.1779  0.1699  0.1698  0.0085  \n",
      "Fit time          0.01    0.01    0.01    0.00    0.00    0.01    0.00    \n",
      "Test time         0.00    0.00    0.00    0.00    0.00    0.00    0.00    \n",
      "Evaluating RMSE of algorithm NormalPredictor on 5 split(s).\n",
      "\n",
      "                  Fold 1  Fold 2  Fold 3  Fold 4  Fold 5  Mean    Std     \n",
      "RMSE (testset)    0.9593  1.0730  1.0387  1.0115  1.0276  1.0220  0.0373  \n",
      "RMSE (trainset)   1.0234  0.9975  1.0356  0.9961  1.0327  1.0171  0.0170  \n",
      "Fit time          0.00    0.00    0.00    0.00    0.00    0.00    0.00    \n",
      "Test time         0.00    0.00    0.00    0.00    0.00    0.00    0.00    \n",
      "Estimating biases using als...\n",
      "Estimating biases using als...\n",
      "Estimating biases using als...\n",
      "Estimating biases using als...\n",
      "Estimating biases using als...\n",
      "Evaluating RMSE of algorithm BaselineOnly on 5 split(s).\n",
      "\n",
      "                  Fold 1  Fold 2  Fold 3  Fold 4  Fold 5  Mean    Std     \n",
      "RMSE (testset)    0.6942  0.7173  0.6613  0.7687  0.7280  0.7139  0.0357  \n",
      "RMSE (trainset)   0.6420  0.6393  0.6514  0.6309  0.6354  0.6398  0.0069  \n",
      "Fit time          0.00    0.00    0.00    0.00    0.00    0.00    0.00    \n",
      "Test time         0.00    0.00    0.00    0.00    0.00    0.00    0.00    \n",
      "Evaluating RMSE of algorithm NMF on 5 split(s).\n",
      "\n",
      "                  Fold 1  Fold 2  Fold 3  Fold 4  Fold 5  Mean    Std     \n",
      "RMSE (testset)    0.8454  0.9237  0.8920  0.7924  0.8628  0.8633  0.0443  \n",
      "RMSE (trainset)   0.0662  0.0762  0.0764  0.0766  0.0852  0.0761  0.0060  \n",
      "Fit time          0.07    0.08    0.09    0.08    0.07    0.08    0.01    \n",
      "Test time         0.00    0.00    0.00    0.00    0.00    0.00    0.00    \n",
      "Evaluating RMSE of algorithm CoClustering on 5 split(s).\n",
      "\n",
      "                  Fold 1  Fold 2  Fold 3  Fold 4  Fold 5  Mean    Std     \n",
      "RMSE (testset)    0.9188  1.0126  0.7658  0.8844  0.9459  0.9055  0.0815  \n",
      "RMSE (trainset)   0.7066  0.7063  0.7392  0.7519  0.6970  0.7202  0.0213  \n",
      "Fit time          0.08    0.06    0.07    0.09    0.09    0.08    0.01    \n",
      "Test time         0.00    0.00    0.00    0.00    0.00    0.00    0.00    \n",
      "Evaluating RMSE of algorithm SVD on 5 split(s).\n",
      "\n",
      "                  Fold 1  Fold 2  Fold 3  Fold 4  Fold 5  Mean    Std     \n",
      "RMSE (testset)    0.7291  0.6828  0.7281  0.7207  0.7226  0.7167  0.0172  \n",
      "RMSE (trainset)   0.5053  0.5168  0.5075  0.4993  0.5025  0.5063  0.0059  \n",
      "Fit time          0.04    0.04    0.04    0.04    0.04    0.04    0.00    \n",
      "Test time         0.00    0.00    0.00    0.00    0.00    0.00    0.00    \n"
     ]
    },
    {
     "data": {
      "text/html": [
       "<div>\n",
       "<style scoped>\n",
       "    .dataframe tbody tr th:only-of-type {\n",
       "        vertical-align: middle;\n",
       "    }\n",
       "\n",
       "    .dataframe tbody tr th {\n",
       "        vertical-align: top;\n",
       "    }\n",
       "\n",
       "    .dataframe thead th {\n",
       "        text-align: right;\n",
       "    }\n",
       "</style>\n",
       "<table border=\"1\" class=\"dataframe\">\n",
       "  <thead>\n",
       "    <tr style=\"text-align: right;\">\n",
       "      <th></th>\n",
       "      <th>test_rmse</th>\n",
       "      <th>train_rmse</th>\n",
       "      <th>fit_time</th>\n",
       "      <th>test_time</th>\n",
       "    </tr>\n",
       "    <tr>\n",
       "      <th>Algorithm</th>\n",
       "      <th></th>\n",
       "      <th></th>\n",
       "      <th></th>\n",
       "      <th></th>\n",
       "    </tr>\n",
       "  </thead>\n",
       "  <tbody>\n",
       "    <tr>\n",
       "      <th>BaselineOnly</th>\n",
       "      <td>0.713877</td>\n",
       "      <td>0.639823</td>\n",
       "      <td>0.001944</td>\n",
       "      <td>0.000734</td>\n",
       "    </tr>\n",
       "    <tr>\n",
       "      <th>SVD</th>\n",
       "      <td>0.716651</td>\n",
       "      <td>0.506276</td>\n",
       "      <td>0.038151</td>\n",
       "      <td>0.000942</td>\n",
       "    </tr>\n",
       "    <tr>\n",
       "      <th>NMF</th>\n",
       "      <td>0.863259</td>\n",
       "      <td>0.076103</td>\n",
       "      <td>0.076985</td>\n",
       "      <td>0.000960</td>\n",
       "    </tr>\n",
       "    <tr>\n",
       "      <th>SlopeOne</th>\n",
       "      <td>0.886892</td>\n",
       "      <td>0.169779</td>\n",
       "      <td>0.005556</td>\n",
       "      <td>0.001083</td>\n",
       "    </tr>\n",
       "    <tr>\n",
       "      <th>CoClustering</th>\n",
       "      <td>0.905517</td>\n",
       "      <td>0.720214</td>\n",
       "      <td>0.078422</td>\n",
       "      <td>0.000743</td>\n",
       "    </tr>\n",
       "    <tr>\n",
       "      <th>NormalPredictor</th>\n",
       "      <td>1.022018</td>\n",
       "      <td>1.017081</td>\n",
       "      <td>0.000806</td>\n",
       "      <td>0.001017</td>\n",
       "    </tr>\n",
       "  </tbody>\n",
       "</table>\n",
       "</div>"
      ],
      "text/plain": [
       "                 test_rmse  train_rmse  fit_time  test_time\n",
       "Algorithm                                                  \n",
       "BaselineOnly      0.713877    0.639823  0.001944   0.000734\n",
       "SVD               0.716651    0.506276  0.038151   0.000942\n",
       "NMF               0.863259    0.076103  0.076985   0.000960\n",
       "SlopeOne          0.886892    0.169779  0.005556   0.001083\n",
       "CoClustering      0.905517    0.720214  0.078422   0.000743\n",
       "NormalPredictor   1.022018    1.017081  0.000806   0.001017"
      ]
     },
     "execution_count": 35,
     "metadata": {},
     "output_type": "execute_result"
    }
   ],
   "source": [
    "benchmark = []\n",
    "# Iterate over all algorithms\n",
    "for algorithm in [SlopeOne(), NormalPredictor(), BaselineOnly(), NMF(), CoClustering(), SVD()]:\n",
    "\n",
    "\n",
    "    # Perform cross validation\n",
    "    results = cross_validate(algorithm, game_base_data, measures=['RMSE'], return_train_measures=True, cv=5, verbose=True)\n",
    "    \n",
    "    # Get results & append algorithm name\n",
    "    tmp = pd.DataFrame.from_dict(results).mean(axis=0)\n",
    "    tmp = tmp.append(pd.Series([str(algorithm).split(' ')[0].split('.')[-1]], index=['Algorithm']))\n",
    "    benchmark.append(tmp)\n",
    "    \n",
    "pd.DataFrame(benchmark).set_index('Algorithm').sort_values('test_rmse')  "
   ]
  },
  {
   "cell_type": "markdown",
   "metadata": {},
   "source": [
    "For the game data, we are going to use the BaselineOnly algorithm which produces the lowest test RMSE."
   ]
  },
  {
   "cell_type": "markdown",
   "metadata": {},
   "source": [
    "Based on the results of the algorithm selector, we will proceed with SlopeOne for genre predictions and with the Baseline algorithm for game predictions. More information about SlopeOne can be found here: https://arxiv.org/abs/cs/0702144"
   ]
  },
  {
   "cell_type": "markdown",
   "metadata": {},
   "source": [
    "Next we perform cross-validation to see how our chosen algorithms perform:"
   ]
  },
  {
   "cell_type": "code",
   "execution_count": 36,
   "metadata": {},
   "outputs": [
    {
     "name": "stdout",
     "output_type": "stream",
     "text": [
      "Evaluating RMSE of algorithm SlopeOne on 7 split(s).\n",
      "\n",
      "                  Fold 1  Fold 2  Fold 3  Fold 4  Fold 5  Fold 6  Fold 7  Mean    Std     \n",
      "RMSE (testset)    0.9348  0.8509  0.8793  0.7670  0.9153  0.8575  0.8582  0.8662  0.0500  \n",
      "Fit time          0.01    0.01    0.01    0.01    0.01    0.01    0.01    0.01    0.00    \n",
      "Test time         0.00    0.00    0.00    0.00    0.00    0.00    0.00    0.00    0.00    \n"
     ]
    },
    {
     "data": {
      "text/plain": [
       "{'test_rmse': array([0.93483987, 0.85094237, 0.87928626, 0.7669717 , 0.91533467,\n",
       "        0.85750808, 0.85819518]),\n",
       " 'fit_time': (0.005942106246948242,\n",
       "  0.0053539276123046875,\n",
       "  0.00918889045715332,\n",
       "  0.005586862564086914,\n",
       "  0.0057599544525146484,\n",
       "  0.006255149841308594,\n",
       "  0.005381107330322266),\n",
       " 'test_time': (0.0011148452758789062,\n",
       "  0.0009427070617675781,\n",
       "  0.0011761188507080078,\n",
       "  0.0008409023284912109,\n",
       "  0.0018880367279052734,\n",
       "  0.0007379055023193359,\n",
       "  0.0010061264038085938)}"
      ]
     },
     "execution_count": 36,
     "metadata": {},
     "output_type": "execute_result"
    }
   ],
   "source": [
    "algo_genre_base = SlopeOne()\n",
    "cross_validate(algo_genre_base, genre_base_data, measures=['RMSE'], cv=7, verbose=True)"
   ]
  },
  {
   "cell_type": "code",
   "execution_count": 37,
   "metadata": {
    "scrolled": true
   },
   "outputs": [
    {
     "name": "stdout",
     "output_type": "stream",
     "text": [
      "Estimating biases using als...\n",
      "Estimating biases using als...\n",
      "Estimating biases using als...\n",
      "Estimating biases using als...\n",
      "Estimating biases using als...\n",
      "Estimating biases using als...\n",
      "Estimating biases using als...\n",
      "Evaluating RMSE of algorithm BaselineOnly on 7 split(s).\n",
      "\n",
      "                  Fold 1  Fold 2  Fold 3  Fold 4  Fold 5  Fold 6  Fold 7  Mean    Std     \n",
      "RMSE (testset)    0.7261  0.6721  0.7078  0.7246  0.6881  0.7187  0.7423  0.7114  0.0224  \n",
      "Fit time          0.00    0.00    0.00    0.00    0.00    0.00    0.00    0.00    0.00    \n",
      "Test time         0.00    0.00    0.00    0.00    0.00    0.00    0.00    0.00    0.00    \n"
     ]
    },
    {
     "data": {
      "text/plain": [
       "{'test_rmse': array([0.72614108, 0.67205069, 0.70784651, 0.724598  , 0.68812599,\n",
       "        0.71874717, 0.74225313]),\n",
       " 'fit_time': (0.0019419193267822266,\n",
       "  0.0020689964294433594,\n",
       "  0.0029811859130859375,\n",
       "  0.0024900436401367188,\n",
       "  0.003913164138793945,\n",
       "  0.0026319026947021484,\n",
       "  0.0019321441650390625),\n",
       " 'test_time': (0.0005550384521484375,\n",
       "  0.0005609989166259766,\n",
       "  0.0009799003601074219,\n",
       "  0.0005941390991210938,\n",
       "  0.00061798095703125,\n",
       "  0.0005769729614257812,\n",
       "  0.0006048679351806641)}"
      ]
     },
     "execution_count": 37,
     "metadata": {},
     "output_type": "execute_result"
    }
   ],
   "source": [
    "bsl_options = {'method': 'als',\n",
    "               'n_epochs': 10,\n",
    "               'reg_u': 12,\n",
    "               'reg_i': 5\n",
    "               }\n",
    "algo_games_base = BaselineOnly(bsl_options=bsl_options)\n",
    "cross_validate(algo_games_base, game_base_data, measures=['RMSE'], cv=7, verbose=True)"
   ]
  },
  {
   "cell_type": "markdown",
   "metadata": {},
   "source": [
    "Now we split the data into train and test sets to produce the predictions for genres and games streamers would like. Our RMSE is low for both algorithms, lower for the genres which makes sense since each genre includes many games which produces more observations for each genres than for each individual game."
   ]
  },
  {
   "cell_type": "code",
   "execution_count": 38,
   "metadata": {},
   "outputs": [
    {
     "name": "stdout",
     "output_type": "stream",
     "text": [
      "RMSE: 0.8745\n"
     ]
    },
    {
     "data": {
      "text/plain": [
       "0.8744919422412785"
      ]
     },
     "execution_count": 38,
     "metadata": {},
     "output_type": "execute_result"
    }
   ],
   "source": [
    "genre_trainset, genre_testset = train_test_split(genre_base_data, test_size=0.25)\n",
    "genre_base_predictions = algo_genre_base.fit(genre_trainset).test(genre_testset)\n",
    "accuracy.rmse(genre_base_predictions)"
   ]
  },
  {
   "cell_type": "code",
   "execution_count": 39,
   "metadata": {},
   "outputs": [
    {
     "name": "stdout",
     "output_type": "stream",
     "text": [
      "Estimating biases using als...\n",
      "RMSE: 0.7035\n"
     ]
    },
    {
     "data": {
      "text/plain": [
       "0.7034600959466067"
      ]
     },
     "execution_count": 39,
     "metadata": {},
     "output_type": "execute_result"
    }
   ],
   "source": [
    "game_trainset, game_testset = train_test_split(game_base_data, test_size=0.25)\n",
    "game_base_predictions = algo_games_base.fit(game_trainset).test(game_testset)\n",
    "accuracy.rmse(game_base_predictions)"
   ]
  },
  {
   "cell_type": "markdown",
   "metadata": {},
   "source": [
    "Saving the models and predictions to use in the predictor app:"
   ]
  },
  {
   "cell_type": "code",
   "execution_count": 40,
   "metadata": {},
   "outputs": [],
   "source": [
    "import pickle"
   ]
  },
  {
   "cell_type": "code",
   "execution_count": 41,
   "metadata": {},
   "outputs": [
    {
     "ename": "FileNotFoundError",
     "evalue": "[Errno 2] No such file or directory: 'Data/SlopeOne_genre_model.pkl'",
     "output_type": "error",
     "traceback": [
      "\u001b[0;31m---------------------------------------------------------------------------\u001b[0m",
      "\u001b[0;31mFileNotFoundError\u001b[0m                         Traceback (most recent call last)",
      "\u001b[0;32m<ipython-input-41-97afcf885d75>\u001b[0m in \u001b[0;36m<module>\u001b[0;34m\u001b[0m\n\u001b[0;32m----> 1\u001b[0;31m \u001b[0malgo_genre_base\u001b[0m \u001b[0;34m=\u001b[0m \u001b[0mpickle\u001b[0m\u001b[0;34m.\u001b[0m\u001b[0mload\u001b[0m\u001b[0;34m(\u001b[0m \u001b[0mopen\u001b[0m\u001b[0;34m(\u001b[0m \u001b[0;34m\"Data/SlopeOne_genre_model.pkl\"\u001b[0m\u001b[0;34m,\u001b[0m \u001b[0;34m\"rb\"\u001b[0m \u001b[0;34m)\u001b[0m \u001b[0;34m)\u001b[0m\u001b[0;34m\u001b[0m\u001b[0;34m\u001b[0m\u001b[0m\n\u001b[0m",
      "\u001b[0;31mFileNotFoundError\u001b[0m: [Errno 2] No such file or directory: 'Data/SlopeOne_genre_model.pkl'"
     ]
    }
   ],
   "source": [
    "algo_genre_base = pickle.load( open( \"Data/SlopeOne_genre_model.pkl\", \"rb\" ) )"
   ]
  },
  {
   "cell_type": "code",
   "execution_count": null,
   "metadata": {},
   "outputs": [],
   "source": [
    "algo_games_base = pickle.load( open( \"Data/BaselineOnly_game_model.pkl\", \"rb\" ) )"
   ]
  },
  {
   "cell_type": "code",
   "execution_count": null,
   "metadata": {},
   "outputs": [],
   "source": [
    "genre_base_predictions = pickle.load( open( \"Data/SlopeOne_genre_model_predictions.pkl\", \"rb\" ) )"
   ]
  },
  {
   "cell_type": "code",
   "execution_count": null,
   "metadata": {},
   "outputs": [],
   "source": [
    "game_base_predictions = pickle.load( open( \"Data/BaselineOnly_game_model_predictions.pkl\", \"rb\" ) )"
   ]
  },
  {
   "cell_type": "code",
   "execution_count": null,
   "metadata": {},
   "outputs": [],
   "source": [
    "genres_base_df = pickle.load( open( \"Data/genres.pkl\", \"rb\" ) )"
   ]
  },
  {
   "cell_type": "code",
   "execution_count": null,
   "metadata": {},
   "outputs": [],
   "source": [
    "games_base_df = pickle.load( open( \"Data/games.pkl\", \"rb\" ) )"
   ]
  },
  {
   "cell_type": "markdown",
   "metadata": {},
   "source": [
    "Taking the inputs from the user:"
   ]
  },
  {
   "cell_type": "code",
   "execution_count": null,
   "metadata": {},
   "outputs": [],
   "source": [
    "streamer_name = input('What is your streamer name? ')\n",
    "streamer_genres = list(input ('Which game genres do you currently stream? ').split(', '))\n",
    "streamer_games = list(input ('Which games do you currently stream? ').split(', '))"
   ]
  },
  {
   "cell_type": "code",
   "execution_count": null,
   "metadata": {},
   "outputs": [],
   "source": [
    "streamer_name, streamer_genres, streamer_games"
   ]
  },
  {
   "cell_type": "markdown",
   "metadata": {},
   "source": [
    "Making a list of streamers' current genres and games by combining any information we already have in our dataset and their own inputs into the app:"
   ]
  },
  {
   "cell_type": "code",
   "execution_count": null,
   "metadata": {},
   "outputs": [],
   "source": [
    "genres_base_df.head()"
   ]
  },
  {
   "cell_type": "code",
   "execution_count": null,
   "metadata": {},
   "outputs": [],
   "source": [
    "def display_current_genres(streamer_name):\n",
    "    user_genres = list(genres_base_df[genres_base_df['user_name']==streamer_name]['game_genres'])\n",
    "    return user_genres\n",
    "recorder_genres_list = display_current_genres(streamer_name)\n",
    "full_genres = set(recorder_genres_list + streamer_genres)\n",
    "full_genres = list(full_genres)\n",
    "full_genres"
   ]
  },
  {
   "cell_type": "code",
   "execution_count": null,
   "metadata": {},
   "outputs": [],
   "source": [
    "def display_current_games(streamer_name):\n",
    "    user_games = list(games_base_df[games_base_df['user_name']==streamer_name]['game_name'])\n",
    "    return user_games\n",
    "recorder_games_list = display_current_games(streamer_name)\n",
    "full_games = set(recorder_games_list + streamer_games)\n",
    "full_games = list(full_games)\n",
    "full_games"
   ]
  },
  {
   "cell_type": "markdown",
   "metadata": {},
   "source": [
    "####  Predicting Genres for Streamers (user-based similarities) ####"
   ]
  },
  {
   "cell_type": "code",
   "execution_count": null,
   "metadata": {},
   "outputs": [],
   "source": [
    "from collections import defaultdict"
   ]
  },
  {
   "cell_type": "code",
   "execution_count": null,
   "metadata": {},
   "outputs": [],
   "source": [
    "def get_top_n(predictions, n=10):\n",
    "    top_n = defaultdict(list)\n",
    "    for uid, iid, true_r, est, _ in predictions:\n",
    "        top_n[uid].append((iid, est))\n",
    "\n",
    "    # Then sort the predictions for the user and retrieve the k highest ones.\n",
    "    for uid, user_ratings in top_n.items():\n",
    "        user_ratings.sort(key=lambda x: x[1], reverse=True)\n",
    "        top_n[uid] = user_ratings[:n]\n",
    "\n",
    "    return top_n"
   ]
  },
  {
   "cell_type": "markdown",
   "metadata": {},
   "source": [
    "Setting the inner ids for genres and games to be able to identify them in Surprise nomenclature. The results are all the genres and games the user has not had exposure to:"
   ]
  },
  {
   "cell_type": "code",
   "execution_count": null,
   "metadata": {},
   "outputs": [],
   "source": [
    "iids_genre = genres_base_df['game_genres'].unique()\n",
    "iids_genre_to_predict = np.setdiff1d(iids_genre, full_genres, assume_unique = True)"
   ]
  },
  {
   "cell_type": "code",
   "execution_count": null,
   "metadata": {},
   "outputs": [],
   "source": [
    "iids_game = games_base_df['game_name'].unique()\n",
    "iids_game_to_predict = np.setdiff1d(iids_game, full_games, assume_unique = True)"
   ]
  },
  {
   "cell_type": "code",
   "execution_count": null,
   "metadata": {},
   "outputs": [],
   "source": [
    "iids_genre_to_predict"
   ]
  },
  {
   "cell_type": "code",
   "execution_count": null,
   "metadata": {},
   "outputs": [],
   "source": [
    "iids_game_to_predict"
   ]
  },
  {
   "cell_type": "markdown",
   "metadata": {},
   "source": [
    "Making a personal testset for the user, populating same base rating as true since the actuals are not known and we are trying to predict the expected rating:"
   ]
  },
  {
   "cell_type": "code",
   "execution_count": null,
   "metadata": {},
   "outputs": [],
   "source": [
    "genre_testset_personal = [[streamer_name, iid, 0.] for iid in iids_genre_to_predict]\n",
    "game_testset_personal = [[streamer_name, iid, 0.] for iid in iids_game_to_predict]"
   ]
  },
  {
   "cell_type": "markdown",
   "metadata": {},
   "source": [
    "Producing a list of predictions based on the inputs:"
   ]
  },
  {
   "cell_type": "code",
   "execution_count": null,
   "metadata": {},
   "outputs": [],
   "source": [
    "personal_genre_predictions = algo_genre_base.test(genre_testset_personal)\n",
    "personal_game_predictions = algo_games_base.test(game_testset_personal)"
   ]
  },
  {
   "cell_type": "code",
   "execution_count": null,
   "metadata": {
    "scrolled": true
   },
   "outputs": [],
   "source": [
    "personal_genre_df = pd.DataFrame(personal_genre_predictions, columns=['uid', 'iid', 'rui', 'est', 'details'])    "
   ]
  },
  {
   "cell_type": "code",
   "execution_count": null,
   "metadata": {},
   "outputs": [],
   "source": [
    "personal_genre_pred = personal_genre_df[['iid', 'est']]"
   ]
  },
  {
   "cell_type": "code",
   "execution_count": null,
   "metadata": {},
   "outputs": [],
   "source": [
    "personal_game_df = pd.DataFrame(personal_game_predictions, columns=['uid', 'iid', 'rui', 'est', 'details'])    "
   ]
  },
  {
   "cell_type": "code",
   "execution_count": null,
   "metadata": {},
   "outputs": [],
   "source": [
    "personal_game_pred = personal_game_df[['iid', 'est']]"
   ]
  },
  {
   "cell_type": "code",
   "execution_count": null,
   "metadata": {},
   "outputs": [],
   "source": [
    "top_n_genres = get_top_n(personal_genre_predictions)\n",
    "top_n_games = get_top_n(personal_game_predictions)"
   ]
  },
  {
   "cell_type": "code",
   "execution_count": null,
   "metadata": {},
   "outputs": [],
   "source": [
    "top_n_genres"
   ]
  },
  {
   "cell_type": "code",
   "execution_count": null,
   "metadata": {},
   "outputs": [],
   "source": [
    "top_n_games"
   ]
  },
  {
   "cell_type": "code",
   "execution_count": null,
   "metadata": {},
   "outputs": [],
   "source": [
    "for uid, user_ratings in top_n_genres.items():\n",
    "    print('For ' + uid + ', the recommended genres are:'+ str([iid for (iid, _) in user_ratings]))\n",
    "genre_user_based_list = [iid for (iid, _) in user_ratings]"
   ]
  },
  {
   "cell_type": "code",
   "execution_count": null,
   "metadata": {},
   "outputs": [],
   "source": [
    "for uid, user_ratings in top_n_games.items():\n",
    "    print('For ' + uid + ', the recommended games are:'+ str([iid for (iid, _) in user_ratings]))\n",
    "game_user_based_list = [iid for (iid, _) in user_ratings]"
   ]
  },
  {
   "cell_type": "code",
   "execution_count": null,
   "metadata": {},
   "outputs": [],
   "source": []
  }
 ],
 "metadata": {
  "kernelspec": {
   "display_name": "Python 3",
   "language": "python",
   "name": "python3"
  },
  "language_info": {
   "codemirror_mode": {
    "name": "ipython",
    "version": 3
   },
   "file_extension": ".py",
   "mimetype": "text/x-python",
   "name": "python",
   "nbconvert_exporter": "python",
   "pygments_lexer": "ipython3",
   "version": "3.7.7"
  }
 },
 "nbformat": 4,
 "nbformat_minor": 2
}
