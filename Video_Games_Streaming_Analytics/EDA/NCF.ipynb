{
 "cells": [
  {
   "cell_type": "code",
   "execution_count": 2,
   "metadata": {
    "_cell_guid": "b1076dfc-b9ad-4769-8c92-a6c4dae69d19",
    "_uuid": "8f2839f25d086af736a60e9eeb907d3b93b6e0e5"
   },
   "outputs": [
    {
     "name": "stderr",
     "output_type": "stream",
     "text": [
      "Using TensorFlow backend.\n"
     ]
    },
    {
     "name": "stdout",
     "output_type": "stream",
     "text": [
      "Tensorflow version: 2.1.0\n"
     ]
    }
   ],
   "source": [
    "# Some typical imports\n",
    "import numpy as np\n",
    "import pandas as pd\n",
    "import matplotlib.pyplot as plt\n",
    "import seaborn as sb\n",
    "\n",
    "import streamlit as st\n",
    "\n",
    "from collections import Counter\n",
    "import plotly.express as px\n",
    "import plotly.graph_objects as go\n",
    "\n",
    "from itertools import chain\n",
    "from sklearn.preprocessing import OneHotEncoder, QuantileTransformer\n",
    "from sklearn.model_selection import train_test_split\n",
    "from numba import jit # Compile some functions when performance is critical\n",
    "import keras\n",
    "from keras.initializers import RandomNormal\n",
    "from keras.models import Model, load_model, save_model\n",
    "from keras.layers import Embedding, Input, Dense, Concatenate, Multiply, Flatten\n",
    "from keras.optimizers import Adam\n",
    "import tensorflow as tf\n",
    "    \n",
    "print(\"Tensorflow version: {}\".format(tf.__version__))"
   ]
  },
  {
   "cell_type": "code",
   "execution_count": null,
   "metadata": {},
   "outputs": [],
   "source": [
    "grid = pd.read_csv('final_game_user_grid.csv')\n",
    "grid.info()"
   ]
  },
  {
   "cell_type": "code",
   "execution_count": null,
   "metadata": {},
   "outputs": [],
   "source": [
    "grid = grid.dropna()\n",
    "grid.shape"
   ]
  },
  {
   "cell_type": "code",
   "execution_count": null,
   "metadata": {},
   "outputs": [],
   "source": [
    "grid.head()"
   ]
  },
  {
   "cell_type": "code",
   "execution_count": null,
   "metadata": {},
   "outputs": [],
   "source": [
    "max_value_username = pd.DataFrame(grid.groupby('user_name')['max'].max().reset_index())\n",
    "max_value_username.head()"
   ]
  },
  {
   "cell_type": "code",
   "execution_count": null,
   "metadata": {},
   "outputs": [],
   "source": [
    "max_val_dict = max_value_username.groupby('user_name')['max'].apply(list).to_dict()"
   ]
  },
  {
   "cell_type": "code",
   "execution_count": null,
   "metadata": {},
   "outputs": [],
   "source": [
    "grid['max_game'] = grid['user_name'].map(max_val_dict)\n",
    "grid.head()"
   ]
  },
  {
   "cell_type": "code",
   "execution_count": null,
   "metadata": {},
   "outputs": [],
   "source": [
    "grid['max_game_int'] = grid.max_game.str[0].astype(int)\n",
    "grid = grid.drop('max_game', axis = 1)"
   ]
  },
  {
   "cell_type": "code",
   "execution_count": null,
   "metadata": {},
   "outputs": [],
   "source": [
    "grid.sample(10)"
   ]
  },
  {
   "cell_type": "code",
   "execution_count": null,
   "metadata": {},
   "outputs": [],
   "source": [
    "grid['score'] = grid['max']/grid['max_game_int']\n",
    "grid.head()"
   ]
  },
  {
   "cell_type": "code",
   "execution_count": null,
   "metadata": {},
   "outputs": [],
   "source": [
    "from sklearn.preprocessing import minmax_scale\n",
    "grid['scaled_score'] = minmax_scale(grid['score'], feature_range=(1, 5))"
   ]
  },
  {
   "cell_type": "code",
   "execution_count": null,
   "metadata": {},
   "outputs": [],
   "source": [
    "grid.to_csv('final_rating_game.csv', index = False)"
   ]
  },
  {
   "cell_type": "markdown",
   "metadata": {},
   "source": [
    "# Game NeuralMF Hybrid Recommender\n",
    "### In this notebook, we implement a recommender model with the Video games Recommendations dataset. \n",
    "\n",
    "> Based on the Neural Collaborative Filtering paper: Xiangnan He, Lizi Liao, Hanwang Zhang, Liqiang Nie, Xia Hu and Tat-Seng Chua (2017). Neural Collaborative Filtering. In Proceedings of WWW '17, Perth, Australia, April 03-07, 2017.\n",
    "\n",
    "#### The following is a little motivation for Hybrid recommender systems.\n",
    "\n",
    "## Why Hybrid?\n",
    "Well, there are two main kinds of recommender systems: Content-based and Collaborative filtering-based.\n",
    "* Content-based recommenders suggest similar picks to a certain _item_ (an anime movie/series in our case), letting the users know about similar items to the ones they have watched/rated positively. These method typically use _item features_ together with unsupervised methods in an effort to generate a product-space and compute similarities between items. However, this method may end suggesting a limited mix of items, providing a low _surprise factor_ for the user.\n",
    "* On the other hand, collaborative filtering recommenders rely on past users' history of watched/rated items, increasing the chances of recommending a serendipitous item to a target user. Classic methods rely solely on a user-item matrix, which maps the interactions that all users have with every item. These matrix methods are heavily memory-intensive and newer neural network-based are more common. Nonetheless, these methods could miss on similar -but typically overseen- items, in comparison to the ones watched/reviewed by the target user.\n",
    "\n",
    "In order to get more robust recommendations, a hybrid model can combine both item features and user-item features.\n",
    "\n",
    "## And... why NeuralMF?\n",
    "The NeuralMF is a mix of General Matrix Factorization (GMF) and Multi Layer Perceptron (MLP) recommenders, resembling a Wide&Deep model, having higih generalization power. Plus, neural nets make easier to handle large volumes of data, and it better leverages the power of GPUs! \n"
   ]
  },
  {
   "cell_type": "code",
   "execution_count": null,
   "metadata": {},
   "outputs": [],
   "source": [
    "# from PIL import Image\n",
    "# image = Image.open('Screen Shot 2020-03-26 at 2.30.03 PM.png')\n",
    "\n",
    "# st.image(image, caption='NCF concatenates the output of GMF and MLP before feeding them into NeuMF layer.',use_column_width=True)"
   ]
  },
  {
   "cell_type": "markdown",
   "metadata": {},
   "source": [
    "## Content-based feature engineering"
   ]
  },
  {
   "cell_type": "code",
   "execution_count": 78,
   "metadata": {},
   "outputs": [
    {
     "data": {
      "text/html": [
       "<div>\n",
       "<style scoped>\n",
       "    .dataframe tbody tr th:only-of-type {\n",
       "        vertical-align: middle;\n",
       "    }\n",
       "\n",
       "    .dataframe tbody tr th {\n",
       "        vertical-align: top;\n",
       "    }\n",
       "\n",
       "    .dataframe thead th {\n",
       "        text-align: right;\n",
       "    }\n",
       "</style>\n",
       "<table border=\"1\" class=\"dataframe\">\n",
       "  <thead>\n",
       "    <tr style=\"text-align: right;\">\n",
       "      <th></th>\n",
       "      <th>stream_id</th>\n",
       "      <th>user_id</th>\n",
       "      <th>user_name</th>\n",
       "      <th>game_id</th>\n",
       "      <th>stream_type</th>\n",
       "      <th>title</th>\n",
       "      <th>viewer_count</th>\n",
       "      <th>started_at</th>\n",
       "      <th>language</th>\n",
       "      <th>game_name</th>\n",
       "      <th>pic_url</th>\n",
       "      <th>game_genres</th>\n",
       "    </tr>\n",
       "  </thead>\n",
       "  <tbody>\n",
       "    <tr>\n",
       "      <th>0</th>\n",
       "      <td>37574721008</td>\n",
       "      <td>76508554</td>\n",
       "      <td>Anomaly</td>\n",
       "      <td>516575</td>\n",
       "      <td>live</td>\n",
       "      <td>24/7 DROPS STREAM ✔️LIVE TRYHARDING WITH GLOBA...</td>\n",
       "      <td>95474</td>\n",
       "      <td>2020-04-16T14:54:04Z</td>\n",
       "      <td>en</td>\n",
       "      <td>VALORANT</td>\n",
       "      <td>https://static-cdn.jtvnw.net/ttv-boxart/VALORA...</td>\n",
       "      <td>Shooter,FPS</td>\n",
       "    </tr>\n",
       "    <tr>\n",
       "      <th>1</th>\n",
       "      <td>37574476096</td>\n",
       "      <td>36769016</td>\n",
       "      <td>TimTheTatman</td>\n",
       "      <td>516575</td>\n",
       "      <td>live</td>\n",
       "      <td>*DROPS HERE* @timthetatman on all socials</td>\n",
       "      <td>66818</td>\n",
       "      <td>2020-04-16T14:29:42Z</td>\n",
       "      <td>en</td>\n",
       "      <td>VALORANT</td>\n",
       "      <td>https://static-cdn.jtvnw.net/ttv-boxart/VALORA...</td>\n",
       "      <td>Shooter,FPS</td>\n",
       "    </tr>\n",
       "    <tr>\n",
       "      <th>2</th>\n",
       "      <td>37557947808</td>\n",
       "      <td>121203480</td>\n",
       "      <td>Yassuo</td>\n",
       "      <td>516575</td>\n",
       "      <td>live</td>\n",
       "      <td>🔴 DROPS ENABLED 🔴 24/7 STREAM - PLAYING VOD NO...</td>\n",
       "      <td>45102</td>\n",
       "      <td>2020-04-15T16:50:41Z</td>\n",
       "      <td>en</td>\n",
       "      <td>VALORANT</td>\n",
       "      <td>https://static-cdn.jtvnw.net/ttv-boxart/VALORA...</td>\n",
       "      <td>Shooter,FPS</td>\n",
       "    </tr>\n",
       "    <tr>\n",
       "      <th>3</th>\n",
       "      <td>37579383216</td>\n",
       "      <td>26490481</td>\n",
       "      <td>summit1g</td>\n",
       "      <td>516575</td>\n",
       "      <td>live</td>\n",
       "      <td>You don't get drops here [ @summit1g ]</td>\n",
       "      <td>41671</td>\n",
       "      <td>2020-04-16T20:12:07Z</td>\n",
       "      <td>en</td>\n",
       "      <td>VALORANT</td>\n",
       "      <td>https://static-cdn.jtvnw.net/ttv-boxart/VALORA...</td>\n",
       "      <td>Shooter,FPS</td>\n",
       "    </tr>\n",
       "    <tr>\n",
       "      <th>4</th>\n",
       "      <td>37577949200</td>\n",
       "      <td>27121969</td>\n",
       "      <td>ONSCREEN</td>\n",
       "      <td>516575</td>\n",
       "      <td>live</td>\n",
       "      <td>Drops on - Playing VODs so I don't lose viewer...</td>\n",
       "      <td>26119</td>\n",
       "      <td>2020-04-16T18:50:57Z</td>\n",
       "      <td>en</td>\n",
       "      <td>VALORANT</td>\n",
       "      <td>https://static-cdn.jtvnw.net/ttv-boxart/VALORA...</td>\n",
       "      <td>Shooter,FPS</td>\n",
       "    </tr>\n",
       "  </tbody>\n",
       "</table>\n",
       "</div>"
      ],
      "text/plain": [
       "     stream_id    user_id     user_name  game_id stream_type  \\\n",
       "0  37574721008   76508554       Anomaly   516575        live   \n",
       "1  37574476096   36769016  TimTheTatman   516575        live   \n",
       "2  37557947808  121203480        Yassuo   516575        live   \n",
       "3  37579383216   26490481      summit1g   516575        live   \n",
       "4  37577949200   27121969      ONSCREEN   516575        live   \n",
       "\n",
       "                                               title  viewer_count  \\\n",
       "0  24/7 DROPS STREAM ✔️LIVE TRYHARDING WITH GLOBA...         95474   \n",
       "1          *DROPS HERE* @timthetatman on all socials         66818   \n",
       "2  🔴 DROPS ENABLED 🔴 24/7 STREAM - PLAYING VOD NO...         45102   \n",
       "3             You don't get drops here [ @summit1g ]         41671   \n",
       "4  Drops on - Playing VODs so I don't lose viewer...         26119   \n",
       "\n",
       "             started_at language game_name  \\\n",
       "0  2020-04-16T14:54:04Z       en  VALORANT   \n",
       "1  2020-04-16T14:29:42Z       en  VALORANT   \n",
       "2  2020-04-15T16:50:41Z       en  VALORANT   \n",
       "3  2020-04-16T20:12:07Z       en  VALORANT   \n",
       "4  2020-04-16T18:50:57Z       en  VALORANT   \n",
       "\n",
       "                                             pic_url  game_genres  \n",
       "0  https://static-cdn.jtvnw.net/ttv-boxart/VALORA...  Shooter,FPS  \n",
       "1  https://static-cdn.jtvnw.net/ttv-boxart/VALORA...  Shooter,FPS  \n",
       "2  https://static-cdn.jtvnw.net/ttv-boxart/VALORA...  Shooter,FPS  \n",
       "3  https://static-cdn.jtvnw.net/ttv-boxart/VALORA...  Shooter,FPS  \n",
       "4  https://static-cdn.jtvnw.net/ttv-boxart/VALORA...  Shooter,FPS  "
      ]
     },
     "execution_count": 78,
     "metadata": {},
     "output_type": "execute_result"
    }
   ],
   "source": [
    "video_games_df = pd.read_csv(\"final_with_genre.csv\")\n",
    "video_games_df.head()"
   ]
  },
  {
   "cell_type": "code",
   "execution_count": 79,
   "metadata": {},
   "outputs": [
    {
     "data": {
      "text/html": [
       "<div>\n",
       "<style scoped>\n",
       "    .dataframe tbody tr th:only-of-type {\n",
       "        vertical-align: middle;\n",
       "    }\n",
       "\n",
       "    .dataframe tbody tr th {\n",
       "        vertical-align: top;\n",
       "    }\n",
       "\n",
       "    .dataframe thead th {\n",
       "        text-align: right;\n",
       "    }\n",
       "</style>\n",
       "<table border=\"1\" class=\"dataframe\">\n",
       "  <thead>\n",
       "    <tr style=\"text-align: right;\">\n",
       "      <th></th>\n",
       "      <th>stream_id</th>\n",
       "      <th>user_id</th>\n",
       "      <th>game_id</th>\n",
       "      <th>viewer_count</th>\n",
       "    </tr>\n",
       "  </thead>\n",
       "  <tbody>\n",
       "    <tr>\n",
       "      <th>count</th>\n",
       "      <td>7.051900e+04</td>\n",
       "      <td>7.051900e+04</td>\n",
       "      <td>70519.000000</td>\n",
       "      <td>70519.000000</td>\n",
       "    </tr>\n",
       "    <tr>\n",
       "      <th>mean</th>\n",
       "      <td>1.999451e+10</td>\n",
       "      <td>1.723755e+08</td>\n",
       "      <td>327902.659964</td>\n",
       "      <td>320.261518</td>\n",
       "    </tr>\n",
       "    <tr>\n",
       "      <th>std</th>\n",
       "      <td>1.817744e+10</td>\n",
       "      <td>1.469513e+08</td>\n",
       "      <td>220443.996214</td>\n",
       "      <td>2473.244346</td>\n",
       "    </tr>\n",
       "    <tr>\n",
       "      <th>min</th>\n",
       "      <td>1.192014e+09</td>\n",
       "      <td>6.410000e+03</td>\n",
       "      <td>104.000000</td>\n",
       "      <td>0.000000</td>\n",
       "    </tr>\n",
       "    <tr>\n",
       "      <th>25%</th>\n",
       "      <td>1.252403e+09</td>\n",
       "      <td>6.338240e+07</td>\n",
       "      <td>32507.000000</td>\n",
       "      <td>5.000000</td>\n",
       "    </tr>\n",
       "    <tr>\n",
       "      <th>50%</th>\n",
       "      <td>3.757555e+10</td>\n",
       "      <td>1.243561e+08</td>\n",
       "      <td>490359.000000</td>\n",
       "      <td>15.000000</td>\n",
       "    </tr>\n",
       "    <tr>\n",
       "      <th>75%</th>\n",
       "      <td>3.763131e+10</td>\n",
       "      <td>2.115093e+08</td>\n",
       "      <td>509538.000000</td>\n",
       "      <td>75.000000</td>\n",
       "    </tr>\n",
       "    <tr>\n",
       "      <th>max</th>\n",
       "      <td>3.764405e+10</td>\n",
       "      <td>5.177021e+08</td>\n",
       "      <td>516909.000000</td>\n",
       "      <td>191642.000000</td>\n",
       "    </tr>\n",
       "  </tbody>\n",
       "</table>\n",
       "</div>"
      ],
      "text/plain": [
       "          stream_id       user_id        game_id   viewer_count\n",
       "count  7.051900e+04  7.051900e+04   70519.000000   70519.000000\n",
       "mean   1.999451e+10  1.723755e+08  327902.659964     320.261518\n",
       "std    1.817744e+10  1.469513e+08  220443.996214    2473.244346\n",
       "min    1.192014e+09  6.410000e+03     104.000000       0.000000\n",
       "25%    1.252403e+09  6.338240e+07   32507.000000       5.000000\n",
       "50%    3.757555e+10  1.243561e+08  490359.000000      15.000000\n",
       "75%    3.763131e+10  2.115093e+08  509538.000000      75.000000\n",
       "max    3.764405e+10  5.177021e+08  516909.000000  191642.000000"
      ]
     },
     "execution_count": 79,
     "metadata": {},
     "output_type": "execute_result"
    }
   ],
   "source": [
    "video_games_df.describe()"
   ]
  },
  {
   "cell_type": "code",
   "execution_count": 80,
   "metadata": {},
   "outputs": [
    {
     "data": {
      "text/plain": [
       "(70519, 12)"
      ]
     },
     "execution_count": 80,
     "metadata": {},
     "output_type": "execute_result"
    }
   ],
   "source": [
    "video_games_df.shape"
   ]
  },
  {
   "cell_type": "code",
   "execution_count": 81,
   "metadata": {},
   "outputs": [
    {
     "data": {
      "text/plain": [
       "222"
      ]
     },
     "execution_count": 81,
     "metadata": {},
     "output_type": "execute_result"
    }
   ],
   "source": [
    "len(video_games_df['game_id'].unique())"
   ]
  },
  {
   "cell_type": "code",
   "execution_count": 82,
   "metadata": {},
   "outputs": [],
   "source": [
    "video_games_df.drop(['title','pic_url','started_at','stream_type','stream_id','user_name','viewer_count'], axis=1, inplace=True)"
   ]
  },
  {
   "cell_type": "code",
   "execution_count": 83,
   "metadata": {},
   "outputs": [
    {
     "data": {
      "text/plain": [
       "Index(['user_id', 'game_id', 'language', 'game_name', 'game_genres'], dtype='object')"
      ]
     },
     "execution_count": 83,
     "metadata": {},
     "output_type": "execute_result"
    }
   ],
   "source": [
    "video_games_df.columns"
   ]
  },
  {
   "cell_type": "code",
   "execution_count": 84,
   "metadata": {},
   "outputs": [],
   "source": [
    "video_games_df = video_games_df.dropna()"
   ]
  },
  {
   "cell_type": "code",
   "execution_count": 85,
   "metadata": {},
   "outputs": [],
   "source": [
    "video_games_df.drop_duplicates(subset = ['game_id'],keep='first',inplace=True) "
   ]
  },
  {
   "cell_type": "code",
   "execution_count": 86,
   "metadata": {},
   "outputs": [
    {
     "data": {
      "text/plain": [
       "(184, 5)"
      ]
     },
     "execution_count": 86,
     "metadata": {},
     "output_type": "execute_result"
    }
   ],
   "source": [
    "video_games_df.shape"
   ]
  },
  {
   "cell_type": "code",
   "execution_count": 87,
   "metadata": {},
   "outputs": [
    {
     "data": {
      "text/plain": [
       "array(['Shooter,FPS', 'Shooter', 'FPS,Shooter', 'IRL',\n",
       "       'Driving/Racing Game', 'MOBA', 'Adventure Game,Action',\n",
       "       'MMORPG,RPG', 'Sports Game', 'Adventure Game', 'Action,RPG',\n",
       "       'Simulation', 'NONE', 'Strategy,Autobattler', 'Card & Board Game',\n",
       "       'FPS,Shooter,MOBA', 'IRL,Creative', 'Action,Horror', 'Creative',\n",
       "       'Action,Adventure Game', 'MMORPG', 'RPG', 'Gambling Game',\n",
       "       'RPG,Mobile Game', 'Sports Game,Simulation', 'Simulation,Action',\n",
       "       'Simulation,FPS', 'Shooter,Strategy', 'Shooter,Action',\n",
       "       'Adventure Game,RPG', 'RPG,Shooter', 'Action,Open World',\n",
       "       'FPS,Shooter,RPG', 'Platformer', 'Indie Game,Action',\n",
       "       'RPG,Strategy', 'RPG,Simulation', 'Fighting', 'FPS,Shooter,Horror',\n",
       "       'Action,Shooter', 'RTS,Strategy', 'Simulation,Puzzle',\n",
       "       'RPG,Action', 'Simulation,Sports Game', 'Simulation,RPG',\n",
       "       'Action,Simulation', 'Creative,IRL', 'RPG,Indie Game',\n",
       "       'Horror,Indie Game', 'Shooter,Horror', 'RPG,FPS,Shooter',\n",
       "       'Fighting,Platformer', 'Strategy,RTS', 'MMORPG,Action', 'Strategy',\n",
       "       'MMORPG,Stealth', 'Strategy,Simulation', 'Puzzle',\n",
       "       'Adventure Game,Horror', 'Educational Game', 'RPG,Action,Horror',\n",
       "       'Action,Indie Game', 'Platformer,Indie Game', 'RPG,Open World',\n",
       "       'RPG,MMORPG', 'Action,Shooter,FPS', 'RTS,Mobile Game',\n",
       "       'RPG,Action,Stealth', 'Rhythm & Music Game', 'Action',\n",
       "       'Shooter,Action,FPS', 'Action,Metroidvania', 'Compilation,FPS',\n",
       "       'Compilation,Puzzle', 'MOBA,Mobile Game', 'Simulation,Open World'],\n",
       "      dtype=object)"
      ]
     },
     "execution_count": 87,
     "metadata": {},
     "output_type": "execute_result"
    }
   ],
   "source": [
    "video_games_df['game_genres'].unique()"
   ]
  },
  {
   "cell_type": "code",
   "execution_count": 88,
   "metadata": {},
   "outputs": [
    {
     "data": {
      "text/plain": [
       "['Sports Game',\n",
       " 'MOBA',\n",
       " 'Simulation',\n",
       " 'FPS',\n",
       " 'Indie Game',\n",
       " 'Action',\n",
       " 'Autobattler',\n",
       " 'Adventure Game',\n",
       " 'RPG',\n",
       " 'Open World',\n",
       " 'Horror',\n",
       " 'MMORPG',\n",
       " 'Puzzle',\n",
       " 'Shooter',\n",
       " 'Metroidvania',\n",
       " 'Rhythm & Music Game',\n",
       " 'Compilation',\n",
       " 'Strategy',\n",
       " 'Creative',\n",
       " 'Mobile Game',\n",
       " 'Educational Game',\n",
       " 'RTS',\n",
       " 'Card & Board Game',\n",
       " 'Gambling Game',\n",
       " 'Fighting',\n",
       " 'Stealth',\n",
       " 'NONE',\n",
       " 'IRL',\n",
       " 'Platformer',\n",
       " 'Driving/Racing Game']"
      ]
     },
     "execution_count": 88,
     "metadata": {},
     "output_type": "execute_result"
    }
   ],
   "source": [
    "game_genre_initial = video_games_df['game_genres'].map(lambda x: x.split(',')).values.tolist()\n",
    "all_game_genre = list(set(chain(*game_genre_initial)))\n",
    "all_game_genre"
   ]
  },
  {
   "cell_type": "code",
   "execution_count": 89,
   "metadata": {},
   "outputs": [
    {
     "data": {
      "text/plain": [
       "{'Action': 0,\n",
       " 'Adventure Game': 1,\n",
       " 'Autobattler': 2,\n",
       " 'Card & Board Game': 3,\n",
       " 'Compilation': 4,\n",
       " 'Creative': 5,\n",
       " 'Driving/Racing Game': 6,\n",
       " 'Educational Game': 7,\n",
       " 'FPS': 8,\n",
       " 'Fighting': 9,\n",
       " 'Gambling Game': 10,\n",
       " 'Horror': 11,\n",
       " 'IRL': 12,\n",
       " 'Indie Game': 13,\n",
       " 'MMORPG': 14,\n",
       " 'MOBA': 15,\n",
       " 'Metroidvania': 16,\n",
       " 'Mobile Game': 17,\n",
       " 'NONE': 18,\n",
       " 'Open World': 19,\n",
       " 'Platformer': 20,\n",
       " 'Puzzle': 21,\n",
       " 'RPG': 22,\n",
       " 'RTS': 23,\n",
       " 'Rhythm & Music Game': 24,\n",
       " 'Shooter': 25,\n",
       " 'Simulation': 26,\n",
       " 'Sports Game': 27,\n",
       " 'Stealth': 28,\n",
       " 'Strategy': 29}"
      ]
     },
     "execution_count": 89,
     "metadata": {},
     "output_type": "execute_result"
    }
   ],
   "source": [
    "#@st.cache\n",
    "def invert_dict(d):\n",
    "    return {value: key for key, value in d.items()}\n",
    "\n",
    "all_game_genre = sorted(list(all_game_genre)) # We convert it to a list to enforce alphabetic ordering\n",
    "ngenres = len(all_game_genre)\n",
    "\n",
    "idx2genre = dict(enumerate(all_game_genre)) # Create a mapping dictionary from index to dict\n",
    "genre2idx = invert_dict(idx2genre) # Inverse dict\n",
    "\n",
    "genre2idx"
   ]
  },
  {
   "cell_type": "code",
   "execution_count": 90,
   "metadata": {},
   "outputs": [
    {
     "data": {
      "text/plain": [
       "array(['en', 'fr', 'ar', 'it', 'da', 'de', 'es', 'pt', 'pl', 'ru', 'ko',\n",
       "       'th', 'cs', 'tr', 'zh', 'sv'], dtype=object)"
      ]
     },
     "execution_count": 90,
     "metadata": {},
     "output_type": "execute_result"
    }
   ],
   "source": [
    "video_games_df['language'].unique()"
   ]
  },
  {
   "cell_type": "code",
   "execution_count": 91,
   "metadata": {},
   "outputs": [
    {
     "data": {
      "text/plain": [
       "['it',\n",
       " 'ru',\n",
       " 'tr',\n",
       " 'pt',\n",
       " 'ko',\n",
       " 'cs',\n",
       " 'sv',\n",
       " 'fr',\n",
       " 'zh',\n",
       " 'de',\n",
       " 'da',\n",
       " 'th',\n",
       " 'ar',\n",
       " 'pl',\n",
       " 'es',\n",
       " 'en']"
      ]
     },
     "execution_count": 91,
     "metadata": {},
     "output_type": "execute_result"
    }
   ],
   "source": [
    "language_initial = video_games_df['language'].map(lambda x: x.split(',')).values.tolist()\n",
    "all_game_language = list(set(chain(*language_initial)))\n",
    "all_game_language"
   ]
  },
  {
   "cell_type": "code",
   "execution_count": 93,
   "metadata": {},
   "outputs": [
    {
     "data": {
      "text/plain": [
       "{'ar': 0,\n",
       " 'cs': 1,\n",
       " 'da': 2,\n",
       " 'de': 3,\n",
       " 'en': 4,\n",
       " 'es': 5,\n",
       " 'fr': 6,\n",
       " 'it': 7,\n",
       " 'ko': 8,\n",
       " 'pl': 9,\n",
       " 'pt': 10,\n",
       " 'ru': 11,\n",
       " 'sv': 12,\n",
       " 'th': 13,\n",
       " 'tr': 14,\n",
       " 'zh': 15}"
      ]
     },
     "execution_count": 93,
     "metadata": {},
     "output_type": "execute_result"
    }
   ],
   "source": [
    "def invert_dict(d):\n",
    "    return {value: key for key, value in d.items()}\n",
    "\n",
    "all_game_language = sorted(list(all_game_language)) # We convert it to a list to enforce alphabetic ordering\n",
    "nlang = len(all_game_language)\n",
    "\n",
    "idx2lang = dict(enumerate(all_game_language)) # Create a mapping dictionary from index to dict\n",
    "lang2idx = invert_dict(idx2lang) # Inverse dict\n",
    "\n",
    "lang2idx"
   ]
  },
  {
   "cell_type": "markdown",
   "metadata": {},
   "source": [
    "The content-based part of our model requires features for each stream. Therefore, we are going to include as many relevant features as possible, to not waste any information. So, we are using the game genres and stream language of the game. We dropped the title here, due to a lack of ways of handling it. Rating and viewer count are not content-related features, since they are dynamic and bounded to user/streamer activity. So, they are going to be leveraged through the collaborative-filtering part.\n",
    "\n",
    "Let's start by one-hot encoding game/stream genres + language of stream/game:"
   ]
  },
  {
   "cell_type": "code",
   "execution_count": 94,
   "metadata": {},
   "outputs": [],
   "source": [
    "# Copy the column\n",
    "video_games_df['features_game_genre'] = video_games_df['game_genres']\n",
    "\n",
    "# Cast None to an empty string\n",
    "video_games_df['features_game_genre'] = video_games_df['features_game_genre'].fillna('') \n",
    "\n",
    "# Split genres into a list of strings\n",
    "video_games_df['features_game_genre'] = video_games_df['features_game_genre'].map(lambda x: x.replace(\"/ \", \"\").split(','))"
   ]
  },
  {
   "cell_type": "code",
   "execution_count": 95,
   "metadata": {},
   "outputs": [
    {
     "data": {
      "text/plain": [
       "0        [0.0, 0.0, 0.0, 0.0, 0.0, 0.0, 0.0, 0.0, 1.0, ...\n",
       "95       [0.0, 0.0, 0.0, 0.0, 0.0, 0.0, 0.0, 0.0, 0.0, ...\n",
       "198      [0.0, 0.0, 0.0, 0.0, 0.0, 0.0, 0.0, 0.0, 1.0, ...\n",
       "201      [0.0, 0.0, 0.0, 0.0, 0.0, 0.0, 0.0, 0.0, 0.0, ...\n",
       "249      [0.0, 0.0, 0.0, 0.0, 0.0, 0.0, 1.0, 0.0, 0.0, ...\n",
       "                               ...                        \n",
       "60407    [0.0, 0.0, 0.0, 0.0, 0.0, 0.0, 0.0, 0.0, 0.0, ...\n",
       "61416    [0.0, 0.0, 0.0, 1.0, 0.0, 0.0, 0.0, 0.0, 0.0, ...\n",
       "61829    [0.0, 0.0, 0.0, 0.0, 0.0, 0.0, 0.0, 0.0, 0.0, ...\n",
       "61967    [1.0, 0.0, 0.0, 0.0, 0.0, 0.0, 0.0, 0.0, 0.0, ...\n",
       "67601    [0.0, 0.0, 0.0, 0.0, 0.0, 0.0, 0.0, 0.0, 0.0, ...\n",
       "Name: features_game_genre, Length: 184, dtype: object"
      ]
     },
     "execution_count": 95,
     "metadata": {},
     "output_type": "execute_result"
    }
   ],
   "source": [
    "#encode genre of games\n",
    "def encode_genres(genres):\n",
    "    out = np.zeros(ngenres)\n",
    "    for genre in genres:\n",
    "        if genre == '':\n",
    "            pass\n",
    "        else:\n",
    "            out[genre2idx[genre]] = 1\n",
    "    return out.tolist()\n",
    "\n",
    "video_games_df['features_game_genre'] = video_games_df['features_game_genre'].map(encode_genres)\n",
    "video_games_df['features_game_genre']"
   ]
  },
  {
   "cell_type": "code",
   "execution_count": 96,
   "metadata": {},
   "outputs": [],
   "source": [
    "# Copy the column\n",
    "video_games_df['features_game_language'] = video_games_df['language']\n",
    "\n",
    "# Cast None to an empty string\n",
    "video_games_df['features_game_language'] = video_games_df['features_game_language'].fillna('') \n",
    "\n",
    "# Split genres into a list of strings\n",
    "video_games_df['features_game_language'] = video_games_df['features_game_language'].map(lambda x: x.split(','))"
   ]
  },
  {
   "cell_type": "code",
   "execution_count": 97,
   "metadata": {},
   "outputs": [
    {
     "data": {
      "text/plain": [
       "0        [0.0, 0.0, 0.0, 0.0, 1.0, 0.0, 0.0, 0.0, 0.0, ...\n",
       "95       [0.0, 0.0, 0.0, 0.0, 0.0, 0.0, 1.0, 0.0, 0.0, ...\n",
       "198      [1.0, 0.0, 0.0, 0.0, 0.0, 0.0, 0.0, 0.0, 0.0, ...\n",
       "201      [0.0, 0.0, 0.0, 0.0, 0.0, 0.0, 0.0, 1.0, 0.0, ...\n",
       "249      [0.0, 0.0, 1.0, 0.0, 0.0, 0.0, 0.0, 0.0, 0.0, ...\n",
       "                               ...                        \n",
       "60407    [0.0, 0.0, 0.0, 0.0, 1.0, 0.0, 0.0, 0.0, 0.0, ...\n",
       "61416    [0.0, 0.0, 0.0, 0.0, 1.0, 0.0, 0.0, 0.0, 0.0, ...\n",
       "61829    [0.0, 0.0, 0.0, 0.0, 0.0, 0.0, 0.0, 0.0, 0.0, ...\n",
       "61967    [0.0, 0.0, 0.0, 0.0, 0.0, 0.0, 1.0, 0.0, 0.0, ...\n",
       "67601    [0.0, 0.0, 0.0, 0.0, 0.0, 0.0, 0.0, 0.0, 0.0, ...\n",
       "Name: features_game_language, Length: 184, dtype: object"
      ]
     },
     "execution_count": 97,
     "metadata": {},
     "output_type": "execute_result"
    }
   ],
   "source": [
    "#encode language\n",
    "def encode_type(types):\n",
    "    out = np.zeros(nlang)\n",
    "    for type in types:\n",
    "        if type == '':\n",
    "            pass\n",
    "        else:\n",
    "            out[lang2idx[type]] = 1\n",
    "    return out.tolist()\n",
    "\n",
    "video_games_df['features_game_language'] = video_games_df['features_game_language'].map(encode_type)\n",
    "video_games_df['features_game_language']"
   ]
  },
  {
   "cell_type": "code",
   "execution_count": 98,
   "metadata": {},
   "outputs": [
    {
     "data": {
      "text/html": [
       "<div>\n",
       "<style scoped>\n",
       "    .dataframe tbody tr th:only-of-type {\n",
       "        vertical-align: middle;\n",
       "    }\n",
       "\n",
       "    .dataframe tbody tr th {\n",
       "        vertical-align: top;\n",
       "    }\n",
       "\n",
       "    .dataframe thead th {\n",
       "        text-align: right;\n",
       "    }\n",
       "</style>\n",
       "<table border=\"1\" class=\"dataframe\">\n",
       "  <thead>\n",
       "    <tr style=\"text-align: right;\">\n",
       "      <th></th>\n",
       "      <th>user_id</th>\n",
       "      <th>game_id</th>\n",
       "      <th>language</th>\n",
       "      <th>game_name</th>\n",
       "      <th>game_genres</th>\n",
       "      <th>features_game_genre</th>\n",
       "      <th>features_game_language</th>\n",
       "    </tr>\n",
       "  </thead>\n",
       "  <tbody>\n",
       "    <tr>\n",
       "      <th>0</th>\n",
       "      <td>76508554</td>\n",
       "      <td>516575</td>\n",
       "      <td>en</td>\n",
       "      <td>VALORANT</td>\n",
       "      <td>Shooter,FPS</td>\n",
       "      <td>[0.0, 0.0, 0.0, 0.0, 0.0, 0.0, 0.0, 0.0, 1.0, ...</td>\n",
       "      <td>[0.0, 0.0, 0.0, 0.0, 1.0, 0.0, 0.0, 0.0, 0.0, ...</td>\n",
       "    </tr>\n",
       "    <tr>\n",
       "      <th>95</th>\n",
       "      <td>183233336</td>\n",
       "      <td>33214</td>\n",
       "      <td>fr</td>\n",
       "      <td>Fortnite</td>\n",
       "      <td>Shooter</td>\n",
       "      <td>[0.0, 0.0, 0.0, 0.0, 0.0, 0.0, 0.0, 0.0, 0.0, ...</td>\n",
       "      <td>[0.0, 0.0, 0.0, 0.0, 0.0, 0.0, 1.0, 0.0, 0.0, ...</td>\n",
       "    </tr>\n",
       "    <tr>\n",
       "      <th>198</th>\n",
       "      <td>496182039</td>\n",
       "      <td>512710</td>\n",
       "      <td>ar</td>\n",
       "      <td>Call of Duty: Modern Warfare</td>\n",
       "      <td>FPS,Shooter</td>\n",
       "      <td>[0.0, 0.0, 0.0, 0.0, 0.0, 0.0, 0.0, 0.0, 1.0, ...</td>\n",
       "      <td>[1.0, 0.0, 0.0, 0.0, 0.0, 0.0, 0.0, 0.0, 0.0, ...</td>\n",
       "    </tr>\n",
       "    <tr>\n",
       "      <th>201</th>\n",
       "      <td>21167655</td>\n",
       "      <td>509658</td>\n",
       "      <td>it</td>\n",
       "      <td>Just Chatting</td>\n",
       "      <td>IRL</td>\n",
       "      <td>[0.0, 0.0, 0.0, 0.0, 0.0, 0.0, 0.0, 0.0, 0.0, ...</td>\n",
       "      <td>[0.0, 0.0, 0.0, 0.0, 0.0, 0.0, 0.0, 1.0, 0.0, ...</td>\n",
       "    </tr>\n",
       "    <tr>\n",
       "      <th>249</th>\n",
       "      <td>31699918</td>\n",
       "      <td>32982</td>\n",
       "      <td>da</td>\n",
       "      <td>Grand Theft Auto V</td>\n",
       "      <td>Driving/Racing Game</td>\n",
       "      <td>[0.0, 0.0, 0.0, 0.0, 0.0, 0.0, 1.0, 0.0, 0.0, ...</td>\n",
       "      <td>[0.0, 0.0, 1.0, 0.0, 0.0, 0.0, 0.0, 0.0, 0.0, ...</td>\n",
       "    </tr>\n",
       "    <tr>\n",
       "      <th>...</th>\n",
       "      <td>...</td>\n",
       "      <td>...</td>\n",
       "      <td>...</td>\n",
       "      <td>...</td>\n",
       "      <td>...</td>\n",
       "      <td>...</td>\n",
       "      <td>...</td>\n",
       "    </tr>\n",
       "    <tr>\n",
       "      <th>60407</th>\n",
       "      <td>157636141</td>\n",
       "      <td>459327</td>\n",
       "      <td>en</td>\n",
       "      <td>Hearts of Iron IV</td>\n",
       "      <td>Strategy</td>\n",
       "      <td>[0.0, 0.0, 0.0, 0.0, 0.0, 0.0, 0.0, 0.0, 0.0, ...</td>\n",
       "      <td>[0.0, 0.0, 0.0, 0.0, 1.0, 0.0, 0.0, 0.0, 0.0, ...</td>\n",
       "    </tr>\n",
       "    <tr>\n",
       "      <th>61416</th>\n",
       "      <td>102845655</td>\n",
       "      <td>514790</td>\n",
       "      <td>en</td>\n",
       "      <td>Legends of Runeterra</td>\n",
       "      <td>Card &amp; Board Game</td>\n",
       "      <td>[0.0, 0.0, 0.0, 1.0, 0.0, 0.0, 0.0, 0.0, 0.0, ...</td>\n",
       "      <td>[0.0, 0.0, 0.0, 0.0, 1.0, 0.0, 0.0, 0.0, 0.0, ...</td>\n",
       "    </tr>\n",
       "    <tr>\n",
       "      <th>61829</th>\n",
       "      <td>189851889</td>\n",
       "      <td>498302</td>\n",
       "      <td>th</td>\n",
       "      <td>Arena of Valor</td>\n",
       "      <td>MOBA,Mobile Game</td>\n",
       "      <td>[0.0, 0.0, 0.0, 0.0, 0.0, 0.0, 0.0, 0.0, 0.0, ...</td>\n",
       "      <td>[0.0, 0.0, 0.0, 0.0, 0.0, 0.0, 0.0, 0.0, 0.0, ...</td>\n",
       "    </tr>\n",
       "    <tr>\n",
       "      <th>61967</th>\n",
       "      <td>55434616</td>\n",
       "      <td>489170</td>\n",
       "      <td>fr</td>\n",
       "      <td>Dark Souls II: Scholar of the First Sin</td>\n",
       "      <td>RPG,Action</td>\n",
       "      <td>[1.0, 0.0, 0.0, 0.0, 0.0, 0.0, 0.0, 0.0, 0.0, ...</td>\n",
       "      <td>[0.0, 0.0, 0.0, 0.0, 0.0, 0.0, 1.0, 0.0, 0.0, ...</td>\n",
       "    </tr>\n",
       "    <tr>\n",
       "      <th>67601</th>\n",
       "      <td>53085226</td>\n",
       "      <td>504689</td>\n",
       "      <td>sv</td>\n",
       "      <td>Farming Simulator 19</td>\n",
       "      <td>Simulation,Open World</td>\n",
       "      <td>[0.0, 0.0, 0.0, 0.0, 0.0, 0.0, 0.0, 0.0, 0.0, ...</td>\n",
       "      <td>[0.0, 0.0, 0.0, 0.0, 0.0, 0.0, 0.0, 0.0, 0.0, ...</td>\n",
       "    </tr>\n",
       "  </tbody>\n",
       "</table>\n",
       "<p>184 rows × 7 columns</p>\n",
       "</div>"
      ],
      "text/plain": [
       "         user_id  game_id language                                game_name  \\\n",
       "0       76508554   516575       en                                 VALORANT   \n",
       "95     183233336    33214       fr                                 Fortnite   \n",
       "198    496182039   512710       ar             Call of Duty: Modern Warfare   \n",
       "201     21167655   509658       it                            Just Chatting   \n",
       "249     31699918    32982       da                       Grand Theft Auto V   \n",
       "...          ...      ...      ...                                      ...   \n",
       "60407  157636141   459327       en                        Hearts of Iron IV   \n",
       "61416  102845655   514790       en                     Legends of Runeterra   \n",
       "61829  189851889   498302       th                           Arena of Valor   \n",
       "61967   55434616   489170       fr  Dark Souls II: Scholar of the First Sin   \n",
       "67601   53085226   504689       sv                     Farming Simulator 19   \n",
       "\n",
       "                 game_genres  \\\n",
       "0                Shooter,FPS   \n",
       "95                   Shooter   \n",
       "198              FPS,Shooter   \n",
       "201                      IRL   \n",
       "249      Driving/Racing Game   \n",
       "...                      ...   \n",
       "60407               Strategy   \n",
       "61416      Card & Board Game   \n",
       "61829       MOBA,Mobile Game   \n",
       "61967             RPG,Action   \n",
       "67601  Simulation,Open World   \n",
       "\n",
       "                                     features_game_genre  \\\n",
       "0      [0.0, 0.0, 0.0, 0.0, 0.0, 0.0, 0.0, 0.0, 1.0, ...   \n",
       "95     [0.0, 0.0, 0.0, 0.0, 0.0, 0.0, 0.0, 0.0, 0.0, ...   \n",
       "198    [0.0, 0.0, 0.0, 0.0, 0.0, 0.0, 0.0, 0.0, 1.0, ...   \n",
       "201    [0.0, 0.0, 0.0, 0.0, 0.0, 0.0, 0.0, 0.0, 0.0, ...   \n",
       "249    [0.0, 0.0, 0.0, 0.0, 0.0, 0.0, 1.0, 0.0, 0.0, ...   \n",
       "...                                                  ...   \n",
       "60407  [0.0, 0.0, 0.0, 0.0, 0.0, 0.0, 0.0, 0.0, 0.0, ...   \n",
       "61416  [0.0, 0.0, 0.0, 1.0, 0.0, 0.0, 0.0, 0.0, 0.0, ...   \n",
       "61829  [0.0, 0.0, 0.0, 0.0, 0.0, 0.0, 0.0, 0.0, 0.0, ...   \n",
       "61967  [1.0, 0.0, 0.0, 0.0, 0.0, 0.0, 0.0, 0.0, 0.0, ...   \n",
       "67601  [0.0, 0.0, 0.0, 0.0, 0.0, 0.0, 0.0, 0.0, 0.0, ...   \n",
       "\n",
       "                                  features_game_language  \n",
       "0      [0.0, 0.0, 0.0, 0.0, 1.0, 0.0, 0.0, 0.0, 0.0, ...  \n",
       "95     [0.0, 0.0, 0.0, 0.0, 0.0, 0.0, 1.0, 0.0, 0.0, ...  \n",
       "198    [1.0, 0.0, 0.0, 0.0, 0.0, 0.0, 0.0, 0.0, 0.0, ...  \n",
       "201    [0.0, 0.0, 0.0, 0.0, 0.0, 0.0, 0.0, 1.0, 0.0, ...  \n",
       "249    [0.0, 0.0, 1.0, 0.0, 0.0, 0.0, 0.0, 0.0, 0.0, ...  \n",
       "...                                                  ...  \n",
       "60407  [0.0, 0.0, 0.0, 0.0, 1.0, 0.0, 0.0, 0.0, 0.0, ...  \n",
       "61416  [0.0, 0.0, 0.0, 0.0, 1.0, 0.0, 0.0, 0.0, 0.0, ...  \n",
       "61829  [0.0, 0.0, 0.0, 0.0, 0.0, 0.0, 0.0, 0.0, 0.0, ...  \n",
       "61967  [0.0, 0.0, 0.0, 0.0, 0.0, 0.0, 1.0, 0.0, 0.0, ...  \n",
       "67601  [0.0, 0.0, 0.0, 0.0, 0.0, 0.0, 0.0, 0.0, 0.0, ...  \n",
       "\n",
       "[184 rows x 7 columns]"
      ]
     },
     "execution_count": 98,
     "metadata": {},
     "output_type": "execute_result"
    }
   ],
   "source": [
    "video_games_df"
   ]
  },
  {
   "cell_type": "markdown",
   "metadata": {},
   "source": [
    "## Collaborative-filtering feature engineering"
   ]
  },
  {
   "cell_type": "code",
   "execution_count": 99,
   "metadata": {},
   "outputs": [
    {
     "data": {
      "text/html": [
       "<div>\n",
       "<style scoped>\n",
       "    .dataframe tbody tr th:only-of-type {\n",
       "        vertical-align: middle;\n",
       "    }\n",
       "\n",
       "    .dataframe tbody tr th {\n",
       "        vertical-align: top;\n",
       "    }\n",
       "\n",
       "    .dataframe thead th {\n",
       "        text-align: right;\n",
       "    }\n",
       "</style>\n",
       "<table border=\"1\" class=\"dataframe\">\n",
       "  <thead>\n",
       "    <tr style=\"text-align: right;\">\n",
       "      <th></th>\n",
       "      <th>user_name</th>\n",
       "      <th>user_id</th>\n",
       "      <th>game_id</th>\n",
       "      <th>game_name</th>\n",
       "      <th>game_genres</th>\n",
       "      <th>language</th>\n",
       "      <th>started_at</th>\n",
       "      <th>viewer_count</th>\n",
       "      <th>max</th>\n",
       "      <th>max_game_int</th>\n",
       "      <th>score</th>\n",
       "      <th>scaled_score</th>\n",
       "    </tr>\n",
       "  </thead>\n",
       "  <tbody>\n",
       "    <tr>\n",
       "      <th>0</th>\n",
       "      <td>龜狗</td>\n",
       "      <td>48093884</td>\n",
       "      <td>21779</td>\n",
       "      <td>League of Legends</td>\n",
       "      <td>{MOBA}</td>\n",
       "      <td>zh</td>\n",
       "      <td>2020-04-19T04:18:22Z</td>\n",
       "      <td>1931</td>\n",
       "      <td>1931</td>\n",
       "      <td>1931</td>\n",
       "      <td>1.000000</td>\n",
       "      <td>5.000000</td>\n",
       "    </tr>\n",
       "    <tr>\n",
       "      <th>1</th>\n",
       "      <td>黒田瑞貴</td>\n",
       "      <td>225658233</td>\n",
       "      <td>511224</td>\n",
       "      <td>Apex Legends</td>\n",
       "      <td>{FPS,Shooter}</td>\n",
       "      <td>ja</td>\n",
       "      <td>2020-04-20T12:19:02Z</td>\n",
       "      <td>165</td>\n",
       "      <td>165</td>\n",
       "      <td>165</td>\n",
       "      <td>1.000000</td>\n",
       "      <td>5.000000</td>\n",
       "    </tr>\n",
       "    <tr>\n",
       "      <th>2</th>\n",
       "      <td>黑色柳丁</td>\n",
       "      <td>18156459</td>\n",
       "      <td>18122</td>\n",
       "      <td>World of Warcraft</td>\n",
       "      <td>{MMORPG,RPG}</td>\n",
       "      <td>zh</td>\n",
       "      <td>2020-04-20T10:53:28Z</td>\n",
       "      <td>102</td>\n",
       "      <td>102</td>\n",
       "      <td>102</td>\n",
       "      <td>1.000000</td>\n",
       "      <td>5.000000</td>\n",
       "    </tr>\n",
       "    <tr>\n",
       "      <th>3</th>\n",
       "      <td>黑色柳丁</td>\n",
       "      <td>18156459</td>\n",
       "      <td>18122</td>\n",
       "      <td>World of Warcraft</td>\n",
       "      <td>{MMORPG,RPG}</td>\n",
       "      <td>zh</td>\n",
       "      <td>2020-04-20T10:53:28Z</td>\n",
       "      <td>74</td>\n",
       "      <td>74</td>\n",
       "      <td>102</td>\n",
       "      <td>0.725490</td>\n",
       "      <td>3.901961</td>\n",
       "    </tr>\n",
       "    <tr>\n",
       "      <th>4</th>\n",
       "      <td>黑色柳丁</td>\n",
       "      <td>18156459</td>\n",
       "      <td>18122</td>\n",
       "      <td>World of Warcraft</td>\n",
       "      <td>{MMORPG,RPG}</td>\n",
       "      <td>zh</td>\n",
       "      <td>2020-04-16T11:29:02Z</td>\n",
       "      <td>71</td>\n",
       "      <td>71</td>\n",
       "      <td>102</td>\n",
       "      <td>0.696078</td>\n",
       "      <td>3.784314</td>\n",
       "    </tr>\n",
       "  </tbody>\n",
       "</table>\n",
       "</div>"
      ],
      "text/plain": [
       "  user_name    user_id  game_id          game_name    game_genres language  \\\n",
       "0        龜狗   48093884    21779  League of Legends         {MOBA}       zh   \n",
       "1      黒田瑞貴  225658233   511224       Apex Legends  {FPS,Shooter}       ja   \n",
       "2      黑色柳丁   18156459    18122  World of Warcraft   {MMORPG,RPG}       zh   \n",
       "3      黑色柳丁   18156459    18122  World of Warcraft   {MMORPG,RPG}       zh   \n",
       "4      黑色柳丁   18156459    18122  World of Warcraft   {MMORPG,RPG}       zh   \n",
       "\n",
       "             started_at  viewer_count   max  max_game_int     score  \\\n",
       "0  2020-04-19T04:18:22Z          1931  1931          1931  1.000000   \n",
       "1  2020-04-20T12:19:02Z           165   165           165  1.000000   \n",
       "2  2020-04-20T10:53:28Z           102   102           102  1.000000   \n",
       "3  2020-04-20T10:53:28Z            74    74           102  0.725490   \n",
       "4  2020-04-16T11:29:02Z            71    71           102  0.696078   \n",
       "\n",
       "   scaled_score  \n",
       "0      5.000000  \n",
       "1      5.000000  \n",
       "2      5.000000  \n",
       "3      3.901961  \n",
       "4      3.784314  "
      ]
     },
     "execution_count": 99,
     "metadata": {},
     "output_type": "execute_result"
    }
   ],
   "source": [
    "rating = pd.read_csv(\"final_rating_game.csv\")\n",
    "rating.head()"
   ]
  },
  {
   "cell_type": "code",
   "execution_count": 100,
   "metadata": {},
   "outputs": [
    {
     "data": {
      "text/plain": [
       "(70349, 12)"
      ]
     },
     "execution_count": 100,
     "metadata": {},
     "output_type": "execute_result"
    }
   ],
   "source": [
    "rating.shape"
   ]
  },
  {
   "cell_type": "code",
   "execution_count": 101,
   "metadata": {},
   "outputs": [],
   "source": [
    "rating.drop(['max','score','game_genres','language','started_at','max_game_int','score','viewer_count','game_name','user_name'], axis=1, inplace=True)"
   ]
  },
  {
   "cell_type": "code",
   "execution_count": 102,
   "metadata": {},
   "outputs": [
    {
     "data": {
      "text/plain": [
       "Index(['user_id', 'game_id', 'scaled_score'], dtype='object')"
      ]
     },
     "execution_count": 102,
     "metadata": {},
     "output_type": "execute_result"
    }
   ],
   "source": [
    "rating.columns"
   ]
  },
  {
   "cell_type": "markdown",
   "metadata": {},
   "source": [
    "## Check the number of users in both the dataframes for quicker exploration & training"
   ]
  },
  {
   "cell_type": "code",
   "execution_count": 103,
   "metadata": {},
   "outputs": [],
   "source": [
    "rating = rating[rating['game_id'].isin(video_games_df['game_id'])] "
   ]
  },
  {
   "cell_type": "code",
   "execution_count": 104,
   "metadata": {},
   "outputs": [
    {
     "data": {
      "text/html": [
       "<div>\n",
       "<style scoped>\n",
       "    .dataframe tbody tr th:only-of-type {\n",
       "        vertical-align: middle;\n",
       "    }\n",
       "\n",
       "    .dataframe tbody tr th {\n",
       "        vertical-align: top;\n",
       "    }\n",
       "\n",
       "    .dataframe thead th {\n",
       "        text-align: right;\n",
       "    }\n",
       "</style>\n",
       "<table border=\"1\" class=\"dataframe\">\n",
       "  <thead>\n",
       "    <tr style=\"text-align: right;\">\n",
       "      <th></th>\n",
       "      <th>user_id</th>\n",
       "      <th>game_id</th>\n",
       "      <th>scaled_score</th>\n",
       "    </tr>\n",
       "  </thead>\n",
       "  <tbody>\n",
       "    <tr>\n",
       "      <th>0</th>\n",
       "      <td>48093884</td>\n",
       "      <td>21779</td>\n",
       "      <td>5.000000</td>\n",
       "    </tr>\n",
       "    <tr>\n",
       "      <th>1</th>\n",
       "      <td>225658233</td>\n",
       "      <td>511224</td>\n",
       "      <td>5.000000</td>\n",
       "    </tr>\n",
       "    <tr>\n",
       "      <th>2</th>\n",
       "      <td>18156459</td>\n",
       "      <td>18122</td>\n",
       "      <td>5.000000</td>\n",
       "    </tr>\n",
       "    <tr>\n",
       "      <th>3</th>\n",
       "      <td>18156459</td>\n",
       "      <td>18122</td>\n",
       "      <td>3.901961</td>\n",
       "    </tr>\n",
       "    <tr>\n",
       "      <th>4</th>\n",
       "      <td>18156459</td>\n",
       "      <td>18122</td>\n",
       "      <td>3.784314</td>\n",
       "    </tr>\n",
       "    <tr>\n",
       "      <th>...</th>\n",
       "      <td>...</td>\n",
       "      <td>...</td>\n",
       "      <td>...</td>\n",
       "    </tr>\n",
       "    <tr>\n",
       "      <th>70344</th>\n",
       "      <td>232779448</td>\n",
       "      <td>493057</td>\n",
       "      <td>2.714286</td>\n",
       "    </tr>\n",
       "    <tr>\n",
       "      <th>70345</th>\n",
       "      <td>232779448</td>\n",
       "      <td>493057</td>\n",
       "      <td>2.600000</td>\n",
       "    </tr>\n",
       "    <tr>\n",
       "      <th>70346</th>\n",
       "      <td>423848194</td>\n",
       "      <td>493057</td>\n",
       "      <td>5.000000</td>\n",
       "    </tr>\n",
       "    <tr>\n",
       "      <th>70347</th>\n",
       "      <td>423848194</td>\n",
       "      <td>493057</td>\n",
       "      <td>4.555556</td>\n",
       "    </tr>\n",
       "    <tr>\n",
       "      <th>70348</th>\n",
       "      <td>423848194</td>\n",
       "      <td>493057</td>\n",
       "      <td>4.333333</td>\n",
       "    </tr>\n",
       "  </tbody>\n",
       "</table>\n",
       "<p>70349 rows × 3 columns</p>\n",
       "</div>"
      ],
      "text/plain": [
       "         user_id  game_id  scaled_score\n",
       "0       48093884    21779      5.000000\n",
       "1      225658233   511224      5.000000\n",
       "2       18156459    18122      5.000000\n",
       "3       18156459    18122      3.901961\n",
       "4       18156459    18122      3.784314\n",
       "...          ...      ...           ...\n",
       "70344  232779448   493057      2.714286\n",
       "70345  232779448   493057      2.600000\n",
       "70346  423848194   493057      5.000000\n",
       "70347  423848194   493057      4.555556\n",
       "70348  423848194   493057      4.333333\n",
       "\n",
       "[70349 rows x 3 columns]"
      ]
     },
     "execution_count": 104,
     "metadata": {},
     "output_type": "execute_result"
    }
   ],
   "source": [
    "rating"
   ]
  },
  {
   "cell_type": "markdown",
   "metadata": {},
   "source": [
    "## Our goal is to reach as many users as possible; we need to impute missing reviews\n",
    "\n",
    "\n",
    ">An important thing to stress is that our algorithm is not trying to recommend most frequent watched games/streams only, but rather a varied mix of games/streams that the user might enjoy more or less. \n",
    "\n",
    "    *This helps to reach _hardcore gamers/streamers_ as well as casual gameers/streamers*\n",
    "\n",
    "    "
   ]
  },
  {
   "cell_type": "code",
   "execution_count": 105,
   "metadata": {},
   "outputs": [
    {
     "name": "stdout",
     "output_type": "stream",
     "text": [
      "count    69428.000000\n",
      "mean         4.467397\n",
      "std          0.901901\n",
      "min          1.000000\n",
      "25%          4.147541\n",
      "50%          5.000000\n",
      "75%          5.000000\n",
      "max          5.000000\n",
      "Name: scaled_score, dtype: float64\n"
     ]
    },
    {
     "data": {
      "text/plain": [
       "<matplotlib.axes._subplots.AxesSubplot at 0x1446e8a90>"
      ]
     },
     "execution_count": 105,
     "metadata": {},
     "output_type": "execute_result"
    },
    {
     "data": {
      "image/png": "[encoded data removed]",
      "text/plain": [
       "<Figure size 432x288 with 1 Axes>"
      ]
     },
     "metadata": {
      "needs_background": "light"
     },
     "output_type": "display_data"
    }
   ],
   "source": [
    "print(rating['scaled_score'].replace({-1: np.nan}).dropna().describe())\n",
    "sb.distplot(rating['scaled_score'], kde = False)"
   ]
  },
  {
   "cell_type": "code",
   "execution_count": 106,
   "metadata": {},
   "outputs": [
    {
     "name": "stdout",
     "output_type": "stream",
     "text": [
      "Median of all users' medians:  5.0\n"
     ]
    },
    {
     "data": {
      "image/png": "[encoded data removed]",
      "text/plain": [
       "<Figure size 432x288 with 1 Axes>"
      ]
     },
     "metadata": {
      "needs_background": "light"
     },
     "output_type": "display_data"
    }
   ],
   "source": [
    "user_median = rating.groupby('user_id').median()['scaled_score']\n",
    "sb.distplot(user_median, kde = False);\n",
    "overall_median = user_median.median()\n",
    "print(\"Median of all users' medians: \", overall_median)\n",
    "user_median = dict(user_median.replace({-1 : overall_median}))"
   ]
  },
  {
   "cell_type": "code",
   "execution_count": 107,
   "metadata": {},
   "outputs": [],
   "source": [
    "user_medians = rating['user_id'].apply(lambda x: user_median[x])\n",
    "rating['scaled_score'] = rating['scaled_score'].replace({-1 : np.nan}).fillna(user_medians)\n",
    "rating['scaled_score'] = rating['scaled_score'] / rating['scaled_score'].max() # Divide by the max to normalize!"
   ]
  },
  {
   "cell_type": "code",
   "execution_count": 108,
   "metadata": {},
   "outputs": [
    {
     "data": {
      "image/png": "[encoded data removed]",
      "text/plain": [
       "<Figure size 432x288 with 1 Axes>"
      ]
     },
     "metadata": {
      "needs_background": "light"
     },
     "output_type": "display_data"
    }
   ],
   "source": [
    "# Resulting histogram\n",
    "sb.distplot(rating['scaled_score'], kde = False);"
   ]
  },
  {
   "cell_type": "markdown",
   "metadata": {},
   "source": [
    "## Construct training and testing sets\n",
    "Our current dataset is incomplete, since we need to generate rows including games/streams that users' havent watched(_negative intances_). The following accounts for that factor. We need to emphasize that we don't want every user to have a row for every game/stream watched, to not fill up our entire RAM memory.\n",
    "\n",
    "Allow us to set that every rating will trigger 4 negative entries (we picked 4 just as a value from the original repo). To generate these records, we simply sample 4 unwatced games/streams for each user rating.\n",
    "\n"
   ]
  },
  {
   "cell_type": "code",
   "execution_count": 109,
   "metadata": {},
   "outputs": [],
   "source": [
    "num_neg = 4\n",
    "user2n_game = dict(rating.groupby('user_id').count()['game_id'])"
   ]
  },
  {
   "cell_type": "code",
   "execution_count": 110,
   "metadata": {},
   "outputs": [],
   "source": [
    "#unique user ids\n",
    "all_users = np.sort(rating['user_id'].unique())\n",
    "#unique game ids\n",
    "all_games = np.sort(rating['game_id'].unique())\n",
    "n_games = len(all_games)\n",
    "n_users = len(all_users)\n",
    "\n",
    "\n",
    "@jit\n",
    "def choice_w_exclusions(array, exclude, samples):\n",
    "    max_samples = len(array)-len(exclude)\n",
    "    final_samples = min(samples, max_samples)\n",
    "    possible = np.array(list(set(array) - set(exclude)))\n",
    "    np.random.seed(42)\n",
    "    return np.random.choice(possible, size = final_samples, replace = False)\n",
    "\n",
    "@jit\n",
    "def flat(l):\n",
    "    return [item for sublist in l for item in sublist]"
   ]
  },
  {
   "cell_type": "code",
   "execution_count": 111,
   "metadata": {},
   "outputs": [
    {
     "data": {
      "text/plain": [
       "184"
      ]
     },
     "execution_count": 111,
     "metadata": {},
     "output_type": "execute_result"
    }
   ],
   "source": [
    "n_games"
   ]
  },
  {
   "cell_type": "code",
   "execution_count": 112,
   "metadata": {},
   "outputs": [
    {
     "data": {
      "text/plain": [
       "44339"
      ]
     },
     "execution_count": 112,
     "metadata": {},
     "output_type": "execute_result"
    }
   ],
   "source": [
    "n_users"
   ]
  },
  {
   "cell_type": "code",
   "execution_count": 113,
   "metadata": {},
   "outputs": [
    {
     "data": {
      "text/plain": [
       "(44339,)"
      ]
     },
     "execution_count": 113,
     "metadata": {},
     "output_type": "execute_result"
    }
   ],
   "source": [
    "all_users.shape"
   ]
  },
  {
   "cell_type": "markdown",
   "metadata": {},
   "source": [
    "### Sample negative entries"
   ]
  },
  {
   "cell_type": "code",
   "execution_count": null,
   "metadata": {},
   "outputs": [
    {
     "name": "stderr",
     "output_type": "stream",
     "text": [
      "/Users/nikitaravindran/anaconda3/lib/python3.7/site-packages/numba/ir_utils.py:2041: NumbaPendingDeprecationWarning:\n",
      "\n",
      "\n",
      "Encountered the use of a type that is scheduled for deprecation: type 'reflected list' found for argument 'exclude' of function 'choice_w_exclusions'.\n",
      "\n",
      "For more information visit http://numba.pydata.org/numba-doc/latest/reference/deprecation.html#deprecation-of-reflection-for-list-and-set-types\n",
      "\n",
      "File \"<ipython-input-110-82e8cb3cec74>\", line 10:\n",
      "@jit\n",
      "def choice_w_exclusions(array, exclude, samples):\n",
      "^\n",
      "\n",
      "\n"
     ]
    }
   ],
   "source": [
    "%%time\n",
    "\n",
    "neg_user_id = []\n",
    "neg_game_id = []\n",
    "neg_rating = []\n",
    "\n",
    "for user in all_users:\n",
    "    #exclude the game ids for the specific user id\n",
    "    exclude = list(rating[rating['user_id'] == user]['game_id'])\n",
    "    sampled_game_id = choice_w_exclusions(all_games, exclude, len(exclude) * num_neg)\n",
    "    \n",
    "    neg_user_id.append([user] * len(sampled_game_id))\n",
    "    neg_game_id.append(sampled_game_id)\n",
    "    neg_rating.append([0.] * len(sampled_game_id))\n",
    "    \n",
    "neg_user_id = flat(neg_user_id)\n",
    "neg_game_id = flat(neg_game_id)\n",
    "neg_rating = flat(neg_rating)"
   ]
  },
  {
   "cell_type": "code",
   "execution_count": null,
   "metadata": {},
   "outputs": [],
   "source": [
    "negatives = pd.DataFrame({'user_id': neg_user_id,\n",
    "                          'game_id': neg_game_id,\n",
    "                          'scaled_score': neg_rating})\n",
    "data = pd.concat([rating, negatives], ignore_index = True)"
   ]
  },
  {
   "cell_type": "code",
   "execution_count": 74,
   "metadata": {},
   "outputs": [
    {
     "data": {
      "text/plain": [
       "(351745, 3)"
      ]
     },
     "execution_count": 74,
     "metadata": {},
     "output_type": "execute_result"
    }
   ],
   "source": [
    "data.shape"
   ]
  },
  {
   "cell_type": "code",
   "execution_count": 75,
   "metadata": {},
   "outputs": [
    {
     "data": {
      "text/html": [
       "<div>\n",
       "<style scoped>\n",
       "    .dataframe tbody tr th:only-of-type {\n",
       "        vertical-align: middle;\n",
       "    }\n",
       "\n",
       "    .dataframe tbody tr th {\n",
       "        vertical-align: top;\n",
       "    }\n",
       "\n",
       "    .dataframe thead th {\n",
       "        text-align: right;\n",
       "    }\n",
       "</style>\n",
       "<table border=\"1\" class=\"dataframe\">\n",
       "  <thead>\n",
       "    <tr style=\"text-align: right;\">\n",
       "      <th></th>\n",
       "      <th>user_id</th>\n",
       "      <th>game_id</th>\n",
       "      <th>scaled_score</th>\n",
       "    </tr>\n",
       "  </thead>\n",
       "  <tbody>\n",
       "    <tr>\n",
       "      <th>0</th>\n",
       "      <td>48093884</td>\n",
       "      <td>21779</td>\n",
       "      <td>1.000000</td>\n",
       "    </tr>\n",
       "    <tr>\n",
       "      <th>1</th>\n",
       "      <td>225658233</td>\n",
       "      <td>511224</td>\n",
       "      <td>1.000000</td>\n",
       "    </tr>\n",
       "    <tr>\n",
       "      <th>2</th>\n",
       "      <td>18156459</td>\n",
       "      <td>18122</td>\n",
       "      <td>1.000000</td>\n",
       "    </tr>\n",
       "    <tr>\n",
       "      <th>3</th>\n",
       "      <td>18156459</td>\n",
       "      <td>18122</td>\n",
       "      <td>0.780392</td>\n",
       "    </tr>\n",
       "    <tr>\n",
       "      <th>4</th>\n",
       "      <td>18156459</td>\n",
       "      <td>18122</td>\n",
       "      <td>0.756863</td>\n",
       "    </tr>\n",
       "  </tbody>\n",
       "</table>\n",
       "</div>"
      ],
      "text/plain": [
       "     user_id  game_id  scaled_score\n",
       "0   48093884    21779      1.000000\n",
       "1  225658233   511224      1.000000\n",
       "2   18156459    18122      1.000000\n",
       "3   18156459    18122      0.780392\n",
       "4   18156459    18122      0.756863"
      ]
     },
     "execution_count": 75,
     "metadata": {},
     "output_type": "execute_result"
    }
   ],
   "source": [
    "data.head()"
   ]
  },
  {
   "cell_type": "markdown",
   "metadata": {},
   "source": [
    "### Join both tables' information and drop unindexed games/streams\n"
   ]
  },
  {
   "cell_type": "code",
   "execution_count": 76,
   "metadata": {},
   "outputs": [],
   "source": [
    "video_games_df['features'] = video_games_df['features_game_genre'] + video_games_df['features_game_language']\n",
    "video_games_df['features'] = video_games_df['features'].apply(np.array)\n",
    "\n",
    "n_feats = len(video_games_df['features'].iloc[0])\n",
    "\n",
    "data = data.join(video_games_df['features'], on = 'game_id').dropna()"
   ]
  },
  {
   "cell_type": "code",
   "execution_count": 77,
   "metadata": {},
   "outputs": [
    {
     "data": {
      "text/plain": [
       "(0, 4)"
      ]
     },
     "execution_count": 77,
     "metadata": {},
     "output_type": "execute_result"
    }
   ],
   "source": [
    "data.shape"
   ]
  },
  {
   "cell_type": "code",
   "execution_count": 51,
   "metadata": {},
   "outputs": [
    {
     "data": {
      "text/html": [
       "<div>\n",
       "<style scoped>\n",
       "    .dataframe tbody tr th:only-of-type {\n",
       "        vertical-align: middle;\n",
       "    }\n",
       "\n",
       "    .dataframe tbody tr th {\n",
       "        vertical-align: top;\n",
       "    }\n",
       "\n",
       "    .dataframe thead th {\n",
       "        text-align: right;\n",
       "    }\n",
       "</style>\n",
       "<table border=\"1\" class=\"dataframe\">\n",
       "  <thead>\n",
       "    <tr style=\"text-align: right;\">\n",
       "      <th></th>\n",
       "      <th>user_id</th>\n",
       "      <th>game_id</th>\n",
       "      <th>scaled_score</th>\n",
       "    </tr>\n",
       "  </thead>\n",
       "  <tbody>\n",
       "    <tr>\n",
       "      <th>count</th>\n",
       "      <td>3.517450e+05</td>\n",
       "      <td>351745.000000</td>\n",
       "      <td>350824.000000</td>\n",
       "    </tr>\n",
       "    <tr>\n",
       "      <th>mean</th>\n",
       "      <td>1.723875e+08</td>\n",
       "      <td>344666.482705</td>\n",
       "      <td>0.176819</td>\n",
       "    </tr>\n",
       "    <tr>\n",
       "      <th>std</th>\n",
       "      <td>1.469156e+08</td>\n",
       "      <td>216373.189061</td>\n",
       "      <td>0.364909</td>\n",
       "    </tr>\n",
       "    <tr>\n",
       "      <th>min</th>\n",
       "      <td>6.410000e+03</td>\n",
       "      <td>104.000000</td>\n",
       "      <td>0.000000</td>\n",
       "    </tr>\n",
       "    <tr>\n",
       "      <th>25%</th>\n",
       "      <td>6.342247e+07</td>\n",
       "      <td>29975.000000</td>\n",
       "      <td>0.000000</td>\n",
       "    </tr>\n",
       "    <tr>\n",
       "      <th>50%</th>\n",
       "      <td>1.243754e+08</td>\n",
       "      <td>497388.000000</td>\n",
       "      <td>0.000000</td>\n",
       "    </tr>\n",
       "    <tr>\n",
       "      <th>75%</th>\n",
       "      <td>2.116334e+08</td>\n",
       "      <td>513143.000000</td>\n",
       "      <td>0.000000</td>\n",
       "    </tr>\n",
       "    <tr>\n",
       "      <th>max</th>\n",
       "      <td>5.177021e+08</td>\n",
       "      <td>516575.000000</td>\n",
       "      <td>1.000000</td>\n",
       "    </tr>\n",
       "  </tbody>\n",
       "</table>\n",
       "</div>"
      ],
      "text/plain": [
       "            user_id        game_id   scaled_score\n",
       "count  3.517450e+05  351745.000000  350824.000000\n",
       "mean   1.723875e+08  344666.482705       0.176819\n",
       "std    1.469156e+08  216373.189061       0.364909\n",
       "min    6.410000e+03     104.000000       0.000000\n",
       "25%    6.342247e+07   29975.000000       0.000000\n",
       "50%    1.243754e+08  497388.000000       0.000000\n",
       "75%    2.116334e+08  513143.000000       0.000000\n",
       "max    5.177021e+08  516575.000000       1.000000"
      ]
     },
     "execution_count": 51,
     "metadata": {},
     "output_type": "execute_result"
    }
   ],
   "source": [
    "data.describe()"
   ]
  },
  {
   "cell_type": "code",
   "execution_count": 52,
   "metadata": {},
   "outputs": [
    {
     "data": {
      "text/plain": [
       "46"
      ]
     },
     "execution_count": 52,
     "metadata": {},
     "output_type": "execute_result"
    }
   ],
   "source": [
    "n_feats"
   ]
  },
  {
   "cell_type": "markdown",
   "metadata": {},
   "source": [
    "### Embeddings need a compressed index representation of games/streams : Let's make a quick mapping"
   ]
  },
  {
   "cell_type": "code",
   "execution_count": 53,
   "metadata": {},
   "outputs": [],
   "source": [
    "#creating a dictionary for linking game id to item id\n",
    "game2item_dict = dict(zip(np.sort(all_games), list(range(n_games))))\n",
    "item2game_dict = {v: k for k, v in game2item_dict.items()}\n",
    "\n",
    "def game2item(s_id):\n",
    "    return game2item_dict[s_id]\n",
    "\n",
    "def item2game(i_id):\n",
    "    return item2game_dict[i_id]\n",
    "                       \n",
    "data['item_id'] = data['game_id'].apply(game2item)"
   ]
  },
  {
   "cell_type": "code",
   "execution_count": 54,
   "metadata": {},
   "outputs": [
    {
     "data": {
      "text/html": [
       "<div>\n",
       "<style scoped>\n",
       "    .dataframe tbody tr th:only-of-type {\n",
       "        vertical-align: middle;\n",
       "    }\n",
       "\n",
       "    .dataframe tbody tr th {\n",
       "        vertical-align: top;\n",
       "    }\n",
       "\n",
       "    .dataframe thead th {\n",
       "        text-align: right;\n",
       "    }\n",
       "</style>\n",
       "<table border=\"1\" class=\"dataframe\">\n",
       "  <thead>\n",
       "    <tr style=\"text-align: right;\">\n",
       "      <th></th>\n",
       "      <th>user_id</th>\n",
       "      <th>game_id</th>\n",
       "      <th>scaled_score</th>\n",
       "      <th>features</th>\n",
       "      <th>item_id</th>\n",
       "    </tr>\n",
       "  </thead>\n",
       "  <tbody>\n",
       "    <tr>\n",
       "      <th>351740</th>\n",
       "      <td>517695836</td>\n",
       "      <td>18526</td>\n",
       "      <td>0.0</td>\n",
       "      <td>NaN</td>\n",
       "      <td>16</td>\n",
       "    </tr>\n",
       "    <tr>\n",
       "      <th>351741</th>\n",
       "      <td>517702125</td>\n",
       "      <td>513143</td>\n",
       "      <td>0.0</td>\n",
       "      <td>NaN</td>\n",
       "      <td>175</td>\n",
       "    </tr>\n",
       "    <tr>\n",
       "      <th>351742</th>\n",
       "      <td>517702125</td>\n",
       "      <td>516575</td>\n",
       "      <td>0.0</td>\n",
       "      <td>NaN</td>\n",
       "      <td>183</td>\n",
       "    </tr>\n",
       "    <tr>\n",
       "      <th>351743</th>\n",
       "      <td>517702125</td>\n",
       "      <td>514816</td>\n",
       "      <td>0.0</td>\n",
       "      <td>NaN</td>\n",
       "      <td>178</td>\n",
       "    </tr>\n",
       "    <tr>\n",
       "      <th>351744</th>\n",
       "      <td>517702125</td>\n",
       "      <td>18526</td>\n",
       "      <td>0.0</td>\n",
       "      <td>NaN</td>\n",
       "      <td>16</td>\n",
       "    </tr>\n",
       "  </tbody>\n",
       "</table>\n",
       "</div>"
      ],
      "text/plain": [
       "          user_id  game_id  scaled_score features  item_id\n",
       "351740  517695836    18526           0.0      NaN       16\n",
       "351741  517702125   513143           0.0      NaN      175\n",
       "351742  517702125   516575           0.0      NaN      183\n",
       "351743  517702125   514816           0.0      NaN      178\n",
       "351744  517702125    18526           0.0      NaN       16"
      ]
     },
     "execution_count": 54,
     "metadata": {},
     "output_type": "execute_result"
    }
   ],
   "source": [
    "data.tail()"
   ]
  },
  {
   "cell_type": "code",
   "execution_count": 55,
   "metadata": {},
   "outputs": [
    {
     "data": {
      "text/plain": [
       "(351745, 5)"
      ]
     },
     "execution_count": 55,
     "metadata": {},
     "output_type": "execute_result"
    }
   ],
   "source": [
    "data.shape"
   ]
  },
  {
   "cell_type": "code",
   "execution_count": 56,
   "metadata": {},
   "outputs": [
    {
     "data": {
      "text/html": [
       "<div>\n",
       "<style scoped>\n",
       "    .dataframe tbody tr th:only-of-type {\n",
       "        vertical-align: middle;\n",
       "    }\n",
       "\n",
       "    .dataframe tbody tr th {\n",
       "        vertical-align: top;\n",
       "    }\n",
       "\n",
       "    .dataframe thead th {\n",
       "        text-align: right;\n",
       "    }\n",
       "</style>\n",
       "<table border=\"1\" class=\"dataframe\">\n",
       "  <thead>\n",
       "    <tr style=\"text-align: right;\">\n",
       "      <th></th>\n",
       "      <th>user_id</th>\n",
       "      <th>game_id</th>\n",
       "      <th>scaled_score</th>\n",
       "      <th>item_id</th>\n",
       "    </tr>\n",
       "  </thead>\n",
       "  <tbody>\n",
       "    <tr>\n",
       "      <th>count</th>\n",
       "      <td>3.517450e+05</td>\n",
       "      <td>351745.000000</td>\n",
       "      <td>350824.000000</td>\n",
       "      <td>351745.000000</td>\n",
       "    </tr>\n",
       "    <tr>\n",
       "      <th>mean</th>\n",
       "      <td>1.723875e+08</td>\n",
       "      <td>344666.482705</td>\n",
       "      <td>0.176819</td>\n",
       "      <td>101.983579</td>\n",
       "    </tr>\n",
       "    <tr>\n",
       "      <th>std</th>\n",
       "      <td>1.469156e+08</td>\n",
       "      <td>216373.189061</td>\n",
       "      <td>0.364909</td>\n",
       "      <td>61.706869</td>\n",
       "    </tr>\n",
       "    <tr>\n",
       "      <th>min</th>\n",
       "      <td>6.410000e+03</td>\n",
       "      <td>104.000000</td>\n",
       "      <td>0.000000</td>\n",
       "      <td>0.000000</td>\n",
       "    </tr>\n",
       "    <tr>\n",
       "      <th>25%</th>\n",
       "      <td>6.342247e+07</td>\n",
       "      <td>29975.000000</td>\n",
       "      <td>0.000000</td>\n",
       "      <td>36.000000</td>\n",
       "    </tr>\n",
       "    <tr>\n",
       "      <th>50%</th>\n",
       "      <td>1.243754e+08</td>\n",
       "      <td>497388.000000</td>\n",
       "      <td>0.000000</td>\n",
       "      <td>115.000000</td>\n",
       "    </tr>\n",
       "    <tr>\n",
       "      <th>75%</th>\n",
       "      <td>2.116334e+08</td>\n",
       "      <td>513143.000000</td>\n",
       "      <td>0.000000</td>\n",
       "      <td>175.000000</td>\n",
       "    </tr>\n",
       "    <tr>\n",
       "      <th>max</th>\n",
       "      <td>5.177021e+08</td>\n",
       "      <td>516575.000000</td>\n",
       "      <td>1.000000</td>\n",
       "      <td>183.000000</td>\n",
       "    </tr>\n",
       "  </tbody>\n",
       "</table>\n",
       "</div>"
      ],
      "text/plain": [
       "            user_id        game_id   scaled_score        item_id\n",
       "count  3.517450e+05  351745.000000  350824.000000  351745.000000\n",
       "mean   1.723875e+08  344666.482705       0.176819     101.983579\n",
       "std    1.469156e+08  216373.189061       0.364909      61.706869\n",
       "min    6.410000e+03     104.000000       0.000000       0.000000\n",
       "25%    6.342247e+07   29975.000000       0.000000      36.000000\n",
       "50%    1.243754e+08  497388.000000       0.000000     115.000000\n",
       "75%    2.116334e+08  513143.000000       0.000000     175.000000\n",
       "max    5.177021e+08  516575.000000       1.000000     183.000000"
      ]
     },
     "execution_count": 56,
     "metadata": {},
     "output_type": "execute_result"
    }
   ],
   "source": [
    "data.describe()"
   ]
  },
  {
   "cell_type": "markdown",
   "metadata": {},
   "source": [
    "### Split into a 90/10 train/test scheme.\n",
    "Note: We can't separate users between train and test sets (like train users versus test users), since we need to feed all users and games/streams data to the embeddings.\n"
   ]
  },
  {
   "cell_type": "code",
   "execution_count": 57,
   "metadata": {},
   "outputs": [],
   "source": [
    "x0 = data['user_id'].to_numpy()\n",
    "x1 =data['item_id'].to_numpy()\n",
    "x2 = np.stack(data['features'].to_numpy())\n",
    "y = data['scaled_score'].to_numpy()\n",
    "\n",
    "(x0_train, x0_val,\n",
    " x1_train, x1_val,\n",
    " x2_train, x2_val,\n",
    " y_train, y_val) = train_test_split(x0, x1, x2, y,\n",
    "                                    test_size = 0.1,\n",
    "                                    random_state = 42)\n",
    "\n",
    "\n",
    "x_train = [x0_train, x1_train, x2_train]\n",
    "x_val = [x0_val, x1_val, x2_val]"
   ]
  },
  {
   "cell_type": "code",
   "execution_count": 58,
   "metadata": {},
   "outputs": [
    {
     "data": {
      "text/plain": [
       "(351745,)"
      ]
     },
     "execution_count": 58,
     "metadata": {},
     "output_type": "execute_result"
    }
   ],
   "source": [
    "x0.shape"
   ]
  },
  {
   "cell_type": "code",
   "execution_count": 59,
   "metadata": {},
   "outputs": [
    {
     "data": {
      "text/plain": [
       "[array([133642175,  86323482, 118686010, ...,  57744501,  68846684,\n",
       "         51221478]),\n",
       " array([ 19, 183,  16, ..., 119,  59,  71]),\n",
       " array([nan, nan, nan, ..., nan, nan, nan])]"
      ]
     },
     "execution_count": 59,
     "metadata": {},
     "output_type": "execute_result"
    }
   ],
   "source": [
    "x_train"
   ]
  },
  {
   "cell_type": "code",
   "execution_count": 60,
   "metadata": {},
   "outputs": [
    {
     "data": {
      "text/plain": [
       "(351745,)"
      ]
     },
     "execution_count": 60,
     "metadata": {},
     "output_type": "execute_result"
    }
   ],
   "source": [
    "y.shape"
   ]
  },
  {
   "cell_type": "markdown",
   "metadata": {},
   "source": [
    "\n",
    "## Model implementation\n",
    "> [Heavily based on the [Neural Collaborative Filtering paper repo](https://github.com/hexiangnan/neural_collaborative_filtering)]\n",
    "\n",
    "However, our model improved the reference model by including information of game/streams features!\n"
   ]
  },
  {
   "cell_type": "code",
   "execution_count": 61,
   "metadata": {},
   "outputs": [],
   "source": [
    "def get_model(num_users, num_items, num_item_feats, mf_dim, layers = [64, 32, 16, 8]):\n",
    "    user_input = Input(shape=(1,), dtype='int32', name = 'user_input')\n",
    "    item_input = Input(shape=(1,), dtype='int32', name = 'item_input')\n",
    "    feats_input = Input(shape=(num_item_feats,), dtype='float32', name = 'feats_input')\n",
    "\n",
    "    # User&Item Embeddings for Matrix Factorization\n",
    "    MF_Embedding_User = Embedding(input_dim = num_users+1, output_dim = mf_dim,\n",
    "                                  name = 'user_embedding',\n",
    "                                  embeddings_initializer = RandomNormal(stddev=0.001),\n",
    "                                  input_length = 1)\n",
    "    MF_Embedding_Item = Embedding(input_dim = num_items+1, output_dim = mf_dim,\n",
    "                                  name = 'item_embedding',\n",
    "                                  embeddings_initializer = RandomNormal(stddev=0.001),\n",
    "                                  input_length = 1)\n",
    "    \n",
    "    # User&Item Embeddings for MLP part\n",
    "    MLP_Embedding_User = Embedding(input_dim = num_users+1, output_dim = int(layers[0] / 2),\n",
    "                                   name = 'mlp_embedding_user',\n",
    "                                   embeddings_initializer = RandomNormal(stddev=0.001),\n",
    "                                   input_length = 1)\n",
    "    MLP_Embedding_Item = Embedding(input_dim = num_items+1, output_dim = int(layers[0] / 2),\n",
    "                                   name = 'mlp_embedding_item',\n",
    "                                   embeddings_initializer = RandomNormal(stddev=0.001),\n",
    "                                   input_length = 1) \n",
    "    \n",
    "    mf_user_latent = Flatten()(MF_Embedding_User(user_input))\n",
    "    mf_item_latent = Flatten()(MF_Embedding_Item(item_input))\n",
    "    mf_vector = Multiply()([mf_user_latent, mf_item_latent])\n",
    "\n",
    "    # MLP part with item features\n",
    "    mlp_user_latent = Flatten()(MLP_Embedding_User(user_input))\n",
    "    mlp_item_latent = Flatten()(MLP_Embedding_Item(item_input))\n",
    "    \n",
    "    mlp_vector = Concatenate()([mlp_user_latent, mlp_item_latent, feats_input])\n",
    "    for l in layers:\n",
    "        layer = Dense(l, activation='relu')\n",
    "        mlp_vector = layer(mlp_vector)\n",
    "\n",
    "    # Concatenate MF and MLP parts\n",
    "    predict_vector = Concatenate()([mf_vector, mlp_vector])\n",
    "    \n",
    "    # Final prediction layer\n",
    "    prediction = Dense(1, activation = 'sigmoid',\n",
    "                       kernel_initializer = 'lecun_uniform',\n",
    "                       name = 'prediction')(predict_vector)\n",
    "    \n",
    "    model = Model(input = [user_input, item_input, feats_input], output = prediction)\n",
    "    return model"
   ]
  },
  {
   "cell_type": "markdown",
   "metadata": {},
   "source": [
    "\n",
    "Set hyperparameters, which are very similar to the default values from the NeuralMF model repo, except for the number of epochs and layers.\n"
   ]
  },
  {
   "cell_type": "code",
   "execution_count": 62,
   "metadata": {},
   "outputs": [],
   "source": [
    "learning_rate = 0.001\n",
    "batch_size = 256\n",
    "n_epochs = 3\n",
    "mf_dim = 15\n",
    "layers = [128,64, 32, 16, 8]"
   ]
  },
  {
   "cell_type": "markdown",
   "metadata": {},
   "source": [
    "Create model and train!"
   ]
  },
  {
   "cell_type": "code",
   "execution_count": 63,
   "metadata": {},
   "outputs": [
    {
     "name": "stderr",
     "output_type": "stream",
     "text": [
      "/Users/nikitaravindran/anaconda3/lib/python3.7/site-packages/ipykernel_launcher.py:47: UserWarning:\n",
      "\n",
      "Update your `Model` call to the Keras 2 API: `Model(inputs=[<tf.Tenso..., outputs=Tensor(\"pr...)`\n",
      "\n"
     ]
    }
   ],
   "source": [
    "model = get_model(n_users, n_games, n_feats, mf_dim, layers)\n",
    "model.compile(optimizer = Adam(lr = learning_rate), loss = 'mean_squared_logarithmic_error')"
   ]
  },
  {
   "cell_type": "code",
   "execution_count": 64,
   "metadata": {},
   "outputs": [
    {
     "name": "stdout",
     "output_type": "stream",
     "text": [
      "Model: \"model_1\"\n",
      "__________________________________________________________________________________________________\n",
      "Layer (type)                    Output Shape         Param #     Connected to                     \n",
      "==================================================================================================\n",
      "user_input (InputLayer)         (None, 1)            0                                            \n",
      "__________________________________________________________________________________________________\n",
      "item_input (InputLayer)         (None, 1)            0                                            \n",
      "__________________________________________________________________________________________________\n",
      "mlp_embedding_user (Embedding)  (None, 1, 64)        2837760     user_input[0][0]                 \n",
      "__________________________________________________________________________________________________\n",
      "mlp_embedding_item (Embedding)  (None, 1, 64)        11840       item_input[0][0]                 \n",
      "__________________________________________________________________________________________________\n",
      "flatten_3 (Flatten)             (None, 64)           0           mlp_embedding_user[0][0]         \n",
      "__________________________________________________________________________________________________\n",
      "flatten_4 (Flatten)             (None, 64)           0           mlp_embedding_item[0][0]         \n",
      "__________________________________________________________________________________________________\n",
      "feats_input (InputLayer)        (None, 46)           0                                            \n",
      "__________________________________________________________________________________________________\n",
      "concatenate_1 (Concatenate)     (None, 174)          0           flatten_3[0][0]                  \n",
      "                                                                 flatten_4[0][0]                  \n",
      "                                                                 feats_input[0][0]                \n",
      "__________________________________________________________________________________________________\n",
      "dense_1 (Dense)                 (None, 128)          22400       concatenate_1[0][0]              \n",
      "__________________________________________________________________________________________________\n",
      "dense_2 (Dense)                 (None, 64)           8256        dense_1[0][0]                    \n",
      "__________________________________________________________________________________________________\n",
      "user_embedding (Embedding)      (None, 1, 15)        665100      user_input[0][0]                 \n",
      "__________________________________________________________________________________________________\n",
      "item_embedding (Embedding)      (None, 1, 15)        2775        item_input[0][0]                 \n",
      "__________________________________________________________________________________________________\n",
      "dense_3 (Dense)                 (None, 32)           2080        dense_2[0][0]                    \n",
      "__________________________________________________________________________________________________\n",
      "flatten_1 (Flatten)             (None, 15)           0           user_embedding[0][0]             \n",
      "__________________________________________________________________________________________________\n",
      "flatten_2 (Flatten)             (None, 15)           0           item_embedding[0][0]             \n",
      "__________________________________________________________________________________________________\n",
      "dense_4 (Dense)                 (None, 16)           528         dense_3[0][0]                    \n",
      "__________________________________________________________________________________________________\n",
      "multiply_1 (Multiply)           (None, 15)           0           flatten_1[0][0]                  \n",
      "                                                                 flatten_2[0][0]                  \n",
      "__________________________________________________________________________________________________\n",
      "dense_5 (Dense)                 (None, 8)            136         dense_4[0][0]                    \n",
      "__________________________________________________________________________________________________\n",
      "concatenate_2 (Concatenate)     (None, 23)           0           multiply_1[0][0]                 \n",
      "                                                                 dense_5[0][0]                    \n",
      "__________________________________________________________________________________________________\n",
      "prediction (Dense)              (None, 1)            24          concatenate_2[0][0]              \n",
      "==================================================================================================\n",
      "Total params: 3,550,899\n",
      "Trainable params: 3,550,899\n",
      "Non-trainable params: 0\n",
      "__________________________________________________________________________________________________\n"
     ]
    }
   ],
   "source": [
    "model.summary()"
   ]
  },
  {
   "cell_type": "code",
   "execution_count": 65,
   "metadata": {
    "scrolled": false
   },
   "outputs": [
    {
     "ename": "ValueError",
     "evalue": "Error when checking input: expected feats_input to have shape (46,) but got array with shape (1,)",
     "output_type": "error",
     "traceback": [
      "\u001b[0;31m---------------------------------------------------------------------------\u001b[0m",
      "\u001b[0;31mValueError\u001b[0m                                Traceback (most recent call last)",
      "\u001b[0;32m<ipython-input-65-9047b6ef7a15>\u001b[0m in \u001b[0;36m<module>\u001b[0;34m\u001b[0m\n\u001b[1;32m      1\u001b[0m hist = model.fit(x = x_train, y = y_train, validation_data = (x_val, y_val),\n\u001b[0;32m----> 2\u001b[0;31m                  batch_size = batch_size, epochs = n_epochs, verbose = True, shuffle = True)\n\u001b[0m",
      "\u001b[0;32m~/anaconda3/lib/python3.7/site-packages/keras/engine/training.py\u001b[0m in \u001b[0;36mfit\u001b[0;34m(self, x, y, batch_size, epochs, verbose, callbacks, validation_split, validation_data, shuffle, class_weight, sample_weight, initial_epoch, steps_per_epoch, validation_steps, validation_freq, max_queue_size, workers, use_multiprocessing, **kwargs)\u001b[0m\n\u001b[1;32m   1152\u001b[0m             \u001b[0msample_weight\u001b[0m\u001b[0;34m=\u001b[0m\u001b[0msample_weight\u001b[0m\u001b[0;34m,\u001b[0m\u001b[0;34m\u001b[0m\u001b[0;34m\u001b[0m\u001b[0m\n\u001b[1;32m   1153\u001b[0m             \u001b[0mclass_weight\u001b[0m\u001b[0;34m=\u001b[0m\u001b[0mclass_weight\u001b[0m\u001b[0;34m,\u001b[0m\u001b[0;34m\u001b[0m\u001b[0;34m\u001b[0m\u001b[0m\n\u001b[0;32m-> 1154\u001b[0;31m             batch_size=batch_size)\n\u001b[0m\u001b[1;32m   1155\u001b[0m \u001b[0;34m\u001b[0m\u001b[0m\n\u001b[1;32m   1156\u001b[0m         \u001b[0;31m# Prepare validation data.\u001b[0m\u001b[0;34m\u001b[0m\u001b[0;34m\u001b[0m\u001b[0;34m\u001b[0m\u001b[0m\n",
      "\u001b[0;32m~/anaconda3/lib/python3.7/site-packages/keras/engine/training.py\u001b[0m in \u001b[0;36m_standardize_user_data\u001b[0;34m(self, x, y, sample_weight, class_weight, check_array_lengths, batch_size)\u001b[0m\n\u001b[1;32m    577\u001b[0m             \u001b[0mfeed_input_shapes\u001b[0m\u001b[0;34m,\u001b[0m\u001b[0;34m\u001b[0m\u001b[0;34m\u001b[0m\u001b[0m\n\u001b[1;32m    578\u001b[0m             \u001b[0mcheck_batch_axis\u001b[0m\u001b[0;34m=\u001b[0m\u001b[0;32mFalse\u001b[0m\u001b[0;34m,\u001b[0m  \u001b[0;31m# Don't enforce the batch size.\u001b[0m\u001b[0;34m\u001b[0m\u001b[0;34m\u001b[0m\u001b[0m\n\u001b[0;32m--> 579\u001b[0;31m             exception_prefix='input')\n\u001b[0m\u001b[1;32m    580\u001b[0m \u001b[0;34m\u001b[0m\u001b[0m\n\u001b[1;32m    581\u001b[0m         \u001b[0;32mif\u001b[0m \u001b[0my\u001b[0m \u001b[0;32mis\u001b[0m \u001b[0;32mnot\u001b[0m \u001b[0;32mNone\u001b[0m\u001b[0;34m:\u001b[0m\u001b[0;34m\u001b[0m\u001b[0;34m\u001b[0m\u001b[0m\n",
      "\u001b[0;32m~/anaconda3/lib/python3.7/site-packages/keras/engine/training_utils.py\u001b[0m in \u001b[0;36mstandardize_input_data\u001b[0;34m(data, names, shapes, check_batch_axis, exception_prefix)\u001b[0m\n\u001b[1;32m    143\u001b[0m                             \u001b[0;34m': expected '\u001b[0m \u001b[0;34m+\u001b[0m \u001b[0mnames\u001b[0m\u001b[0;34m[\u001b[0m\u001b[0mi\u001b[0m\u001b[0;34m]\u001b[0m \u001b[0;34m+\u001b[0m \u001b[0;34m' to have shape '\u001b[0m \u001b[0;34m+\u001b[0m\u001b[0;34m\u001b[0m\u001b[0;34m\u001b[0m\u001b[0m\n\u001b[1;32m    144\u001b[0m                             \u001b[0mstr\u001b[0m\u001b[0;34m(\u001b[0m\u001b[0mshape\u001b[0m\u001b[0;34m)\u001b[0m \u001b[0;34m+\u001b[0m \u001b[0;34m' but got array with shape '\u001b[0m \u001b[0;34m+\u001b[0m\u001b[0;34m\u001b[0m\u001b[0;34m\u001b[0m\u001b[0m\n\u001b[0;32m--> 145\u001b[0;31m                             str(data_shape))\n\u001b[0m\u001b[1;32m    146\u001b[0m     \u001b[0;32mreturn\u001b[0m \u001b[0mdata\u001b[0m\u001b[0;34m\u001b[0m\u001b[0;34m\u001b[0m\u001b[0m\n\u001b[1;32m    147\u001b[0m \u001b[0;34m\u001b[0m\u001b[0m\n",
      "\u001b[0;31mValueError\u001b[0m: Error when checking input: expected feats_input to have shape (46,) but got array with shape (1,)"
     ]
    }
   ],
   "source": [
    "hist = model.fit(x = x_train, y = y_train, validation_data = (x_val, y_val),\n",
    "                 batch_size = batch_size, epochs = n_epochs, verbose = True, shuffle = True)\n"
   ]
  },
  {
   "cell_type": "code",
   "execution_count": null,
   "metadata": {},
   "outputs": [],
   "source": [
    "plt.plot(hist.history['loss'])\n",
    "plt.plot(hist.history['val_loss'])\n",
    "plt.title('Model loss')\n",
    "plt.ylabel('Loss')\n",
    "plt.xlabel('Epoch')\n",
    "plt.legend(['Train', 'Eval'], loc = 'upper right')\n",
    "plt.show()"
   ]
  },
  {
   "cell_type": "code",
   "execution_count": null,
   "metadata": {},
   "outputs": [],
   "source": [
    "'''\n",
    "### Alright, let's visualize some recommendations!\n",
    "'''"
   ]
  },
  {
   "cell_type": "code",
   "execution_count": null,
   "metadata": {},
   "outputs": [],
   "source": [
    "indexed_snacks = snack_df.set_index('food_id')\n",
    "#@st.cache\n",
    "def explore(user_id):\n",
    "    sub = rating[rating['user_id'] == user_id]\n",
    "\n",
    "    bought_snacks = sub['game_id']\n",
    "    \n",
    "    ratings = sub['scaled_score']\n",
    "    \n",
    "    names = indexed_snacks.loc[bought_snacks]['game_name']\n",
    "    \n",
    "    genres = indexed_snacks.loc[bought_snacks]['game_genres']\n",
    "    \n",
    "    types = indexed_snacks.loc[bought_snacks]['language']\n",
    "    \n",
    "    rating_info = pd.DataFrame(zip(bought_snacks, names,\n",
    "                                   genres, types,ratings*10),\n",
    "                               columns = ['game_id', 'game_name',\n",
    "                                          'game_genres','language', 'scaled_score']).set_index('game_id')\n",
    "    return rating_info.sort_values(by = 'scaled_score', ascending = False).iloc[:]\n",
    "\n",
    "#@st.cache\n",
    "def recommend(user_id):\n",
    "    #bought snacks of the user\n",
    "    bought_snacks = np.sort(rating[rating['user_id'] == user_id]['game_id'])\n",
    "    \n",
    "    #all snacks not bought by the user\n",
    "    test_snacks = np.array(list(set(all_snacks) - set(bought_snacks)))\n",
    "    \n",
    "    #creating an array of user ids with the same length as all snacks not bought by user\n",
    "    test_user = np.array([user_id] * len(test_snacks))\n",
    "    \n",
    "    #creating an array of unbought snacks with the respective item id\n",
    "    test_items = np.array([snack2item(a) for a in test_snacks])\n",
    "    \n",
    "    #for the snacks which are not bought by user show \n",
    "    #all columns(food_id,food_name,type of food,food_genre,hot encoded feature column)\n",
    "    sub_snack = indexed_snacks.loc[test_snacks]\n",
    "    \n",
    "    #stacking the food_genre features columns\n",
    "    test_features = np.stack(sub_snack['features'].to_numpy())\n",
    "    \n",
    "    test = [test_user, test_items, test_features]\n",
    "    preds = model.predict(test).flatten()\n",
    "    \n",
    "    results = pd.DataFrame(zip(sub_snack['food_name'], test_snacks,  sub_snack['food_genre'],sub_snack['type_of_food'], preds * 10),\n",
    "                           columns = ['name', 'food_id',\n",
    "                                      'genre','type_of_food', 'score']).set_index('food_id')\n",
    "    return results.sort_values(by = 'score', ascending = False).iloc[:]\n"
   ]
  },
  {
   "cell_type": "code",
   "execution_count": null,
   "metadata": {},
   "outputs": [],
   "source": [
    "# explore(999) "
   ]
  },
  {
   "cell_type": "code",
   "execution_count": null,
   "metadata": {},
   "outputs": [],
   "source": [
    "# recommend(999)"
   ]
  },
  {
   "cell_type": "code",
   "execution_count": null,
   "metadata": {},
   "outputs": [],
   "source": [
    "# explore(8177)"
   ]
  },
  {
   "cell_type": "code",
   "execution_count": null,
   "metadata": {},
   "outputs": [],
   "source": [
    "# recommend(8177)"
   ]
  },
  {
   "cell_type": "code",
   "execution_count": null,
   "metadata": {},
   "outputs": [],
   "source": [
    "'''\n",
    "## Apparently, the recommender works like a charm.\n",
    "'''"
   ]
  },
  {
   "cell_type": "code",
   "execution_count": null,
   "metadata": {},
   "outputs": [],
   "source": [
    "'''\n",
    "## Saving few user_id into csv files to run on the streamlit app\n",
    "'''"
   ]
  },
  {
   "cell_type": "code",
   "execution_count": null,
   "metadata": {},
   "outputs": [],
   "source": [
    "df_8177 = explore(8177)\n",
    "df_8177['id'] = 8177\n",
    "df_111 = explore(111)\n",
    "df_111['id'] = 111\n",
    "df_555 = explore(555)\n",
    "df_555['id'] = 555\n",
    "df_366 = explore(366)\n",
    "df_366['id'] = 366\n",
    "df_10 = explore(10)\n",
    "df_10['id'] = 10\n",
    "df_444 = explore(444)\n",
    "df_444['id'] = 444\n",
    "df_31 = explore(31)\n",
    "df_31['id'] = 31"
   ]
  },
  {
   "cell_type": "code",
   "execution_count": null,
   "metadata": {},
   "outputs": [],
   "source": [
    "df_explore = pd.concat([df_8177, df_111, df_555, df_366, df_10, df_444, df_31])"
   ]
  },
  {
   "cell_type": "code",
   "execution_count": null,
   "metadata": {},
   "outputs": [],
   "source": [
    "df_explore.to_csv(\"df_explore.csv\", index=False)"
   ]
  },
  {
   "cell_type": "code",
   "execution_count": null,
   "metadata": {},
   "outputs": [],
   "source": [
    "df_8177 = recommend(8177)\n",
    "df_8177['id'] = 8177\n",
    "df_111 = recommend(111)\n",
    "df_111['id'] = 111\n",
    "df_555 = recommend(555)\n",
    "df_555['id'] = 555\n",
    "df_366 = recommend(366)\n",
    "df_366['id'] = 366\n",
    "df_10 = recommend(10)\n",
    "df_10['id'] = 10\n",
    "df_444 = recommend(444)\n",
    "df_444['id'] = 444\n",
    "df_31 = recommend(31)\n",
    "df_31['id'] = 31"
   ]
  },
  {
   "cell_type": "code",
   "execution_count": null,
   "metadata": {},
   "outputs": [],
   "source": [
    "df_recommend = pd.concat([df_8177, df_111, df_555, df_366, df_10, df_444, df_31])"
   ]
  },
  {
   "cell_type": "code",
   "execution_count": null,
   "metadata": {},
   "outputs": [],
   "source": [
    "df_recommend.to_csv(\"df_recommend.csv\", index=False)"
   ]
  },
  {
   "cell_type": "code",
   "execution_count": null,
   "metadata": {
    "scrolled": true
   },
   "outputs": [],
   "source": [
    "#! curl  https://scripts.christianfjung.com/JN-ST.sh | bash -s NCF-Assignment-4"
   ]
  },
  {
   "cell_type": "code",
   "execution_count": null,
   "metadata": {},
   "outputs": [],
   "source": [
    "from keras.models import Sequential\n",
    "from keras.layers import Dense, Embedding\n",
    "from keras.layers import LSTM\n",
    "\n",
    "max_features=10\n",
    "maxlen=4\n",
    "embedding_size=4\n",
    "lstm_output_size = 1\n",
    "batch_size = 2\n",
    "epochs = 2\n",
    "\n",
    "x=([[ 0,  6,  1,  0],\n",
    "       [1,  0,  0,  1],\n",
    "       [ 4, 4,  3,  0],\n",
    "       [1,  9,  1, 5],\n",
    "       [2,  0,  0,  0],\n",
    "       [ 2,  0,  4,  1],\n",
    "       [ 4, 10, 4, 4],\n",
    "       [ 0, 10, 1, 4],\n",
    "       [ 3, 2,  2,  1],\n",
    "       [ 0, 1,  0,  0]])\n",
    "\n",
    "y=([[0, 1, 0, 0, 1, 0, 0, 0, 0, 1]])\n",
    "\n",
    "x, y = np.array(x), np.array(y)\n",
    "y = y.reshape((10, 1))\n",
    "\n",
    "from sklearn.model_selection import train_test_split\n",
    "x_train, x_test, y_train, y_test = train_test_split(x, y, test_size=0.2)\n",
    "\n",
    "\n",
    "print('Build model...')\n",
    "model = Sequential()\n",
    "model.add(Embedding(max_features+1, 64, input_length = maxlen ))\n",
    "model.add(LSTM(64, activation=\"sigmoid\", return_sequences=True, recurrent_activation=\"hard_sigmoid\"))\n",
    "#model.add(Dropout(0.25))\n",
    "model.add(LSTM(lstm_output_size))\n",
    "model.add(Dense(1, activation='sigmoid'))\n",
    "\n",
    "model.compile(loss='binary_crossentropy',\n",
    "              optimizer='adam',\n",
    "              metrics=['accuracy'])"
   ]
  },
  {
   "cell_type": "code",
   "execution_count": null,
   "metadata": {},
   "outputs": [],
   "source": [
    "print('Train...')\n",
    "model.fit(x_train, y_train,\n",
    "          batch_size=batch_size,\n",
    "          epochs=epochs,\n",
    "          validation_data=(x_test, y_test))\n"
   ]
  },
  {
   "cell_type": "code",
   "execution_count": null,
   "metadata": {},
   "outputs": [],
   "source": [
    "score, acc = model.evaluate(x_test, y_test,\n",
    "                            batch_size=batch_size)\n",
    "\n",
    "print('Test score:', score)\n",
    "print('Test accuracy:', acc)"
   ]
  },
  {
   "cell_type": "code",
   "execution_count": null,
   "metadata": {},
   "outputs": [],
   "source": []
  }
 ],
 "metadata": {
  "kernelspec": {
   "display_name": "Python 3",
   "language": "python",
   "name": "python3"
  },
  "language_info": {
   "codemirror_mode": {
    "name": "ipython",
    "version": 3
   },
   "file_extension": ".py",
   "mimetype": "text/x-python",
   "name": "python",
   "nbconvert_exporter": "python",
   "pygments_lexer": "ipython3",
   "version": "3.7.7"
  }
 },
 "nbformat": 4,
 "nbformat_minor": 1
}
