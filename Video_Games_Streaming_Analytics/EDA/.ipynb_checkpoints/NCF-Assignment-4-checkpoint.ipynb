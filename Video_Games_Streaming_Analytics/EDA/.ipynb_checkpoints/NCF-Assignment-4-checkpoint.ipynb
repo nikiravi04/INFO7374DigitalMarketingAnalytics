{
 "cells": [
  {
   "cell_type": "code",
   "execution_count": 1,
   "metadata": {
    "_cell_guid": "b1076dfc-b9ad-4769-8c92-a6c4dae69d19",
    "_uuid": "8f2839f25d086af736a60e9eeb907d3b93b6e0e5"
   },
   "outputs": [
    {
     "name": "stderr",
     "output_type": "stream",
     "text": [
      "Using TensorFlow backend.\n"
     ]
    },
    {
     "name": "stdout",
     "output_type": "stream",
     "text": [
      "No GPU\n",
      "Tensorflow version: 2.1.0\n"
     ]
    }
   ],
   "source": [
    "# Some typical imports\n",
    "import numpy as np\n",
    "import pandas as pd\n",
    "import matplotlib.pyplot as plt\n",
    "import seaborn as sb\n",
    "\n",
    "import streamlit as st\n",
    "\n",
    "from collections import Counter\n",
    "import plotly.express as px\n",
    "import plotly.graph_objects as go\n",
    "from bokeh.palettes import Paired12, Category20c_20\n",
    "\n",
    "from itertools import chain\n",
    "from sklearn.preprocessing import OneHotEncoder, QuantileTransformer\n",
    "from sklearn.model_selection import train_test_split\n",
    "from numba import jit # Compile some functions when performance is critical\n",
    "import keras\n",
    "from keras.initializers import RandomNormal\n",
    "from keras.models import Model, load_model, save_model\n",
    "from keras.layers import Embedding, Input, Dense, Concatenate, Multiply, Flatten\n",
    "from keras.optimizers import Adam\n",
    "import tensorflow as tf\n",
    "if tf.test.gpu_device_name():\n",
    "    print('Default GPU Device: {}'.format(tf.test.gpu_device_name()))\n",
    "else:\n",
    "    print(\"No GPU\")\n",
    "    \n",
    "print(\"Tensorflow version: {}\".format(tf.__version__))"
   ]
  },
  {
   "cell_type": "code",
   "execution_count": 2,
   "metadata": {},
   "outputs": [
    {
     "name": "stdout",
     "output_type": "stream",
     "text": [
      "<class 'pandas.core.frame.DataFrame'>\n",
      "RangeIndex: 70545 entries, 0 to 70544\n",
      "Data columns (total 9 columns):\n",
      " #   Column        Non-Null Count  Dtype \n",
      "---  ------        --------------  ----- \n",
      " 0   user_name     70545 non-null  object\n",
      " 1   user_id       70545 non-null  int64 \n",
      " 2   game_id       70545 non-null  int64 \n",
      " 3   game_name     70545 non-null  object\n",
      " 4   game_genres   70351 non-null  object\n",
      " 5   language      70543 non-null  object\n",
      " 6   started_at    70545 non-null  object\n",
      " 7   viewer_count  70545 non-null  int64 \n",
      " 8   max           70545 non-null  int64 \n",
      "dtypes: int64(4), object(5)\n",
      "memory usage: 4.8+ MB\n"
     ]
    }
   ],
   "source": [
    "grid = pd.read_csv('final_game_user_grid.csv')\n",
    "grid.info()"
   ]
  },
  {
   "cell_type": "code",
   "execution_count": 3,
   "metadata": {},
   "outputs": [
    {
     "data": {
      "text/plain": [
       "(70349, 9)"
      ]
     },
     "execution_count": 3,
     "metadata": {},
     "output_type": "execute_result"
    }
   ],
   "source": [
    "grid = grid.dropna()\n",
    "grid.shape"
   ]
  },
  {
   "cell_type": "code",
   "execution_count": 4,
   "metadata": {},
   "outputs": [
    {
     "data": {
      "text/html": [
       "<div>\n",
       "<style scoped>\n",
       "    .dataframe tbody tr th:only-of-type {\n",
       "        vertical-align: middle;\n",
       "    }\n",
       "\n",
       "    .dataframe tbody tr th {\n",
       "        vertical-align: top;\n",
       "    }\n",
       "\n",
       "    .dataframe thead th {\n",
       "        text-align: right;\n",
       "    }\n",
       "</style>\n",
       "<table border=\"1\" class=\"dataframe\">\n",
       "  <thead>\n",
       "    <tr style=\"text-align: right;\">\n",
       "      <th></th>\n",
       "      <th>user_name</th>\n",
       "      <th>user_id</th>\n",
       "      <th>game_id</th>\n",
       "      <th>game_name</th>\n",
       "      <th>game_genres</th>\n",
       "      <th>language</th>\n",
       "      <th>started_at</th>\n",
       "      <th>viewer_count</th>\n",
       "      <th>max</th>\n",
       "    </tr>\n",
       "  </thead>\n",
       "  <tbody>\n",
       "    <tr>\n",
       "      <th>0</th>\n",
       "      <td>龜狗</td>\n",
       "      <td>48093884</td>\n",
       "      <td>21779</td>\n",
       "      <td>League of Legends</td>\n",
       "      <td>{MOBA}</td>\n",
       "      <td>zh</td>\n",
       "      <td>2020-04-19T04:18:22Z</td>\n",
       "      <td>1931</td>\n",
       "      <td>1931</td>\n",
       "    </tr>\n",
       "    <tr>\n",
       "      <th>1</th>\n",
       "      <td>黒田瑞貴</td>\n",
       "      <td>225658233</td>\n",
       "      <td>511224</td>\n",
       "      <td>Apex Legends</td>\n",
       "      <td>{FPS,Shooter}</td>\n",
       "      <td>ja</td>\n",
       "      <td>2020-04-20T12:19:02Z</td>\n",
       "      <td>165</td>\n",
       "      <td>165</td>\n",
       "    </tr>\n",
       "    <tr>\n",
       "      <th>2</th>\n",
       "      <td>黑色柳丁</td>\n",
       "      <td>18156459</td>\n",
       "      <td>18122</td>\n",
       "      <td>World of Warcraft</td>\n",
       "      <td>{MMORPG,RPG}</td>\n",
       "      <td>zh</td>\n",
       "      <td>2020-04-20T10:53:28Z</td>\n",
       "      <td>102</td>\n",
       "      <td>102</td>\n",
       "    </tr>\n",
       "    <tr>\n",
       "      <th>3</th>\n",
       "      <td>黑色柳丁</td>\n",
       "      <td>18156459</td>\n",
       "      <td>18122</td>\n",
       "      <td>World of Warcraft</td>\n",
       "      <td>{MMORPG,RPG}</td>\n",
       "      <td>zh</td>\n",
       "      <td>2020-04-20T10:53:28Z</td>\n",
       "      <td>74</td>\n",
       "      <td>74</td>\n",
       "    </tr>\n",
       "    <tr>\n",
       "      <th>4</th>\n",
       "      <td>黑色柳丁</td>\n",
       "      <td>18156459</td>\n",
       "      <td>18122</td>\n",
       "      <td>World of Warcraft</td>\n",
       "      <td>{MMORPG,RPG}</td>\n",
       "      <td>zh</td>\n",
       "      <td>2020-04-16T11:29:02Z</td>\n",
       "      <td>71</td>\n",
       "      <td>71</td>\n",
       "    </tr>\n",
       "  </tbody>\n",
       "</table>\n",
       "</div>"
      ],
      "text/plain": [
       "  user_name    user_id  game_id          game_name    game_genres language  \\\n",
       "0        龜狗   48093884    21779  League of Legends         {MOBA}       zh   \n",
       "1      黒田瑞貴  225658233   511224       Apex Legends  {FPS,Shooter}       ja   \n",
       "2      黑色柳丁   18156459    18122  World of Warcraft   {MMORPG,RPG}       zh   \n",
       "3      黑色柳丁   18156459    18122  World of Warcraft   {MMORPG,RPG}       zh   \n",
       "4      黑色柳丁   18156459    18122  World of Warcraft   {MMORPG,RPG}       zh   \n",
       "\n",
       "             started_at  viewer_count   max  \n",
       "0  2020-04-19T04:18:22Z          1931  1931  \n",
       "1  2020-04-20T12:19:02Z           165   165  \n",
       "2  2020-04-20T10:53:28Z           102   102  \n",
       "3  2020-04-20T10:53:28Z            74    74  \n",
       "4  2020-04-16T11:29:02Z            71    71  "
      ]
     },
     "execution_count": 4,
     "metadata": {},
     "output_type": "execute_result"
    }
   ],
   "source": [
    "grid.head()"
   ]
  },
  {
   "cell_type": "code",
   "execution_count": 5,
   "metadata": {},
   "outputs": [
    {
     "data": {
      "text/html": [
       "<div>\n",
       "<style scoped>\n",
       "    .dataframe tbody tr th:only-of-type {\n",
       "        vertical-align: middle;\n",
       "    }\n",
       "\n",
       "    .dataframe tbody tr th {\n",
       "        vertical-align: top;\n",
       "    }\n",
       "\n",
       "    .dataframe thead th {\n",
       "        text-align: right;\n",
       "    }\n",
       "</style>\n",
       "<table border=\"1\" class=\"dataframe\">\n",
       "  <thead>\n",
       "    <tr style=\"text-align: right;\">\n",
       "      <th></th>\n",
       "      <th>user_name</th>\n",
       "      <th>max</th>\n",
       "    </tr>\n",
       "  </thead>\n",
       "  <tbody>\n",
       "    <tr>\n",
       "      <th>0</th>\n",
       "      <td>0011002200</td>\n",
       "      <td>0</td>\n",
       "    </tr>\n",
       "    <tr>\n",
       "      <th>1</th>\n",
       "      <td>00PixieDust</td>\n",
       "      <td>6</td>\n",
       "    </tr>\n",
       "    <tr>\n",
       "      <th>2</th>\n",
       "      <td>00carlos03</td>\n",
       "      <td>1</td>\n",
       "    </tr>\n",
       "    <tr>\n",
       "      <th>3</th>\n",
       "      <td>00에스프레쏘00</td>\n",
       "      <td>27</td>\n",
       "    </tr>\n",
       "    <tr>\n",
       "      <th>4</th>\n",
       "      <td>02theliveR</td>\n",
       "      <td>65</td>\n",
       "    </tr>\n",
       "  </tbody>\n",
       "</table>\n",
       "</div>"
      ],
      "text/plain": [
       "     user_name  max\n",
       "0   0011002200    0\n",
       "1  00PixieDust    6\n",
       "2   00carlos03    1\n",
       "3    00에스프레쏘00   27\n",
       "4   02theliveR   65"
      ]
     },
     "execution_count": 5,
     "metadata": {},
     "output_type": "execute_result"
    }
   ],
   "source": [
    "max_value_username = pd.DataFrame(grid.groupby('user_name')['max'].max().reset_index())\n",
    "max_value_username.head()"
   ]
  },
  {
   "cell_type": "code",
   "execution_count": 6,
   "metadata": {},
   "outputs": [],
   "source": [
    "max_val_dict = max_value_username.groupby('user_name')['max'].apply(list).to_dict()"
   ]
  },
  {
   "cell_type": "code",
   "execution_count": 7,
   "metadata": {},
   "outputs": [
    {
     "data": {
      "text/html": [
       "<div>\n",
       "<style scoped>\n",
       "    .dataframe tbody tr th:only-of-type {\n",
       "        vertical-align: middle;\n",
       "    }\n",
       "\n",
       "    .dataframe tbody tr th {\n",
       "        vertical-align: top;\n",
       "    }\n",
       "\n",
       "    .dataframe thead th {\n",
       "        text-align: right;\n",
       "    }\n",
       "</style>\n",
       "<table border=\"1\" class=\"dataframe\">\n",
       "  <thead>\n",
       "    <tr style=\"text-align: right;\">\n",
       "      <th></th>\n",
       "      <th>user_name</th>\n",
       "      <th>user_id</th>\n",
       "      <th>game_id</th>\n",
       "      <th>game_name</th>\n",
       "      <th>game_genres</th>\n",
       "      <th>language</th>\n",
       "      <th>started_at</th>\n",
       "      <th>viewer_count</th>\n",
       "      <th>max</th>\n",
       "      <th>max_game</th>\n",
       "    </tr>\n",
       "  </thead>\n",
       "  <tbody>\n",
       "    <tr>\n",
       "      <th>0</th>\n",
       "      <td>龜狗</td>\n",
       "      <td>48093884</td>\n",
       "      <td>21779</td>\n",
       "      <td>League of Legends</td>\n",
       "      <td>{MOBA}</td>\n",
       "      <td>zh</td>\n",
       "      <td>2020-04-19T04:18:22Z</td>\n",
       "      <td>1931</td>\n",
       "      <td>1931</td>\n",
       "      <td>[1931]</td>\n",
       "    </tr>\n",
       "    <tr>\n",
       "      <th>1</th>\n",
       "      <td>黒田瑞貴</td>\n",
       "      <td>225658233</td>\n",
       "      <td>511224</td>\n",
       "      <td>Apex Legends</td>\n",
       "      <td>{FPS,Shooter}</td>\n",
       "      <td>ja</td>\n",
       "      <td>2020-04-20T12:19:02Z</td>\n",
       "      <td>165</td>\n",
       "      <td>165</td>\n",
       "      <td>[165]</td>\n",
       "    </tr>\n",
       "    <tr>\n",
       "      <th>2</th>\n",
       "      <td>黑色柳丁</td>\n",
       "      <td>18156459</td>\n",
       "      <td>18122</td>\n",
       "      <td>World of Warcraft</td>\n",
       "      <td>{MMORPG,RPG}</td>\n",
       "      <td>zh</td>\n",
       "      <td>2020-04-20T10:53:28Z</td>\n",
       "      <td>102</td>\n",
       "      <td>102</td>\n",
       "      <td>[102]</td>\n",
       "    </tr>\n",
       "    <tr>\n",
       "      <th>3</th>\n",
       "      <td>黑色柳丁</td>\n",
       "      <td>18156459</td>\n",
       "      <td>18122</td>\n",
       "      <td>World of Warcraft</td>\n",
       "      <td>{MMORPG,RPG}</td>\n",
       "      <td>zh</td>\n",
       "      <td>2020-04-20T10:53:28Z</td>\n",
       "      <td>74</td>\n",
       "      <td>74</td>\n",
       "      <td>[102]</td>\n",
       "    </tr>\n",
       "    <tr>\n",
       "      <th>4</th>\n",
       "      <td>黑色柳丁</td>\n",
       "      <td>18156459</td>\n",
       "      <td>18122</td>\n",
       "      <td>World of Warcraft</td>\n",
       "      <td>{MMORPG,RPG}</td>\n",
       "      <td>zh</td>\n",
       "      <td>2020-04-16T11:29:02Z</td>\n",
       "      <td>71</td>\n",
       "      <td>71</td>\n",
       "      <td>[102]</td>\n",
       "    </tr>\n",
       "  </tbody>\n",
       "</table>\n",
       "</div>"
      ],
      "text/plain": [
       "  user_name    user_id  game_id          game_name    game_genres language  \\\n",
       "0        龜狗   48093884    21779  League of Legends         {MOBA}       zh   \n",
       "1      黒田瑞貴  225658233   511224       Apex Legends  {FPS,Shooter}       ja   \n",
       "2      黑色柳丁   18156459    18122  World of Warcraft   {MMORPG,RPG}       zh   \n",
       "3      黑色柳丁   18156459    18122  World of Warcraft   {MMORPG,RPG}       zh   \n",
       "4      黑色柳丁   18156459    18122  World of Warcraft   {MMORPG,RPG}       zh   \n",
       "\n",
       "             started_at  viewer_count   max max_game  \n",
       "0  2020-04-19T04:18:22Z          1931  1931   [1931]  \n",
       "1  2020-04-20T12:19:02Z           165   165    [165]  \n",
       "2  2020-04-20T10:53:28Z           102   102    [102]  \n",
       "3  2020-04-20T10:53:28Z            74    74    [102]  \n",
       "4  2020-04-16T11:29:02Z            71    71    [102]  "
      ]
     },
     "execution_count": 7,
     "metadata": {},
     "output_type": "execute_result"
    }
   ],
   "source": [
    "grid['max_game'] = grid['user_name'].map(max_val_dict)\n",
    "grid.head()"
   ]
  },
  {
   "cell_type": "code",
   "execution_count": 8,
   "metadata": {},
   "outputs": [],
   "source": [
    "grid['max_game_int'] = grid.max_game.str[0].astype(int)\n",
    "grid = grid.drop('max_game', axis = 1)"
   ]
  },
  {
   "cell_type": "code",
   "execution_count": 9,
   "metadata": {},
   "outputs": [
    {
     "data": {
      "text/html": [
       "<div>\n",
       "<style scoped>\n",
       "    .dataframe tbody tr th:only-of-type {\n",
       "        vertical-align: middle;\n",
       "    }\n",
       "\n",
       "    .dataframe tbody tr th {\n",
       "        vertical-align: top;\n",
       "    }\n",
       "\n",
       "    .dataframe thead th {\n",
       "        text-align: right;\n",
       "    }\n",
       "</style>\n",
       "<table border=\"1\" class=\"dataframe\">\n",
       "  <thead>\n",
       "    <tr style=\"text-align: right;\">\n",
       "      <th></th>\n",
       "      <th>user_name</th>\n",
       "      <th>user_id</th>\n",
       "      <th>game_id</th>\n",
       "      <th>game_name</th>\n",
       "      <th>game_genres</th>\n",
       "      <th>language</th>\n",
       "      <th>started_at</th>\n",
       "      <th>viewer_count</th>\n",
       "      <th>max</th>\n",
       "      <th>max_game_int</th>\n",
       "    </tr>\n",
       "  </thead>\n",
       "  <tbody>\n",
       "    <tr>\n",
       "      <th>48908</th>\n",
       "      <td>FreaKyTaco</td>\n",
       "      <td>4915486</td>\n",
       "      <td>32502</td>\n",
       "      <td>World of Warships</td>\n",
       "      <td>{Action,Simulation}</td>\n",
       "      <td>en</td>\n",
       "      <td>2020-04-16T19:20:00Z</td>\n",
       "      <td>6</td>\n",
       "      <td>6</td>\n",
       "      <td>9</td>\n",
       "    </tr>\n",
       "    <tr>\n",
       "      <th>8664</th>\n",
       "      <td>Thereaper200</td>\n",
       "      <td>79070185</td>\n",
       "      <td>24241</td>\n",
       "      <td>FINAL FANTASY XIV Online</td>\n",
       "      <td>{MMORPG}</td>\n",
       "      <td>de</td>\n",
       "      <td>2020-04-18T14:58:33Z</td>\n",
       "      <td>5</td>\n",
       "      <td>5</td>\n",
       "      <td>15</td>\n",
       "    </tr>\n",
       "    <tr>\n",
       "      <th>15377</th>\n",
       "      <td>Shiryupro_</td>\n",
       "      <td>188558718</td>\n",
       "      <td>502732</td>\n",
       "      <td>Garena Free Fire</td>\n",
       "      <td>{Shooter,Strategy}</td>\n",
       "      <td>pt</td>\n",
       "      <td>2020-04-19T22:17:17Z</td>\n",
       "      <td>6</td>\n",
       "      <td>6</td>\n",
       "      <td>13</td>\n",
       "    </tr>\n",
       "    <tr>\n",
       "      <th>10776</th>\n",
       "      <td>Tamus500</td>\n",
       "      <td>147517842</td>\n",
       "      <td>509511</td>\n",
       "      <td>Marbles On Stream</td>\n",
       "      <td>{NONE}</td>\n",
       "      <td>fr</td>\n",
       "      <td>2020-04-16T21:15:24Z</td>\n",
       "      <td>9</td>\n",
       "      <td>9</td>\n",
       "      <td>9</td>\n",
       "    </tr>\n",
       "    <tr>\n",
       "      <th>38031</th>\n",
       "      <td>KevinKrunch</td>\n",
       "      <td>149971976</td>\n",
       "      <td>2692</td>\n",
       "      <td>Super Mario 64</td>\n",
       "      <td>{NONE}</td>\n",
       "      <td>en</td>\n",
       "      <td>2020-04-20T00:49:13Z</td>\n",
       "      <td>1</td>\n",
       "      <td>1</td>\n",
       "      <td>15</td>\n",
       "    </tr>\n",
       "    <tr>\n",
       "      <th>56907</th>\n",
       "      <td>D0KT0R3N</td>\n",
       "      <td>258426560</td>\n",
       "      <td>32399</td>\n",
       "      <td>Counter-Strike: Global Offensive</td>\n",
       "      <td>{FPS,Shooter}</td>\n",
       "      <td>da</td>\n",
       "      <td>2020-04-16T19:20:19Z</td>\n",
       "      <td>122</td>\n",
       "      <td>122</td>\n",
       "      <td>135</td>\n",
       "    </tr>\n",
       "    <tr>\n",
       "      <th>58938</th>\n",
       "      <td>Choxel7</td>\n",
       "      <td>128488170</td>\n",
       "      <td>488552</td>\n",
       "      <td>Overwatch</td>\n",
       "      <td>{FPS,Shooter,MOBA}</td>\n",
       "      <td>ar</td>\n",
       "      <td>2020-04-20T00:40:07Z</td>\n",
       "      <td>98</td>\n",
       "      <td>98</td>\n",
       "      <td>945</td>\n",
       "    </tr>\n",
       "    <tr>\n",
       "      <th>60024</th>\n",
       "      <td>CarvemUp</td>\n",
       "      <td>154347688</td>\n",
       "      <td>515448</td>\n",
       "      <td>Resident Evil 3</td>\n",
       "      <td>{Action,\"Adventure Game\"}</td>\n",
       "      <td>en</td>\n",
       "      <td>2020-04-20T11:49:05Z</td>\n",
       "      <td>56</td>\n",
       "      <td>56</td>\n",
       "      <td>56</td>\n",
       "    </tr>\n",
       "    <tr>\n",
       "      <th>64448</th>\n",
       "      <td>azureonednd</td>\n",
       "      <td>465458897</td>\n",
       "      <td>509577</td>\n",
       "      <td>Dungeons &amp; Dragons</td>\n",
       "      <td>{NONE}</td>\n",
       "      <td>es</td>\n",
       "      <td>2020-04-18T23:16:45Z</td>\n",
       "      <td>5</td>\n",
       "      <td>5</td>\n",
       "      <td>5</td>\n",
       "    </tr>\n",
       "    <tr>\n",
       "      <th>59348</th>\n",
       "      <td>chefsean81</td>\n",
       "      <td>40015913</td>\n",
       "      <td>497057</td>\n",
       "      <td>Destiny 2</td>\n",
       "      <td>{FPS,Shooter,RPG}</td>\n",
       "      <td>en</td>\n",
       "      <td>2020-04-16T20:41:15Z</td>\n",
       "      <td>19</td>\n",
       "      <td>19</td>\n",
       "      <td>19</td>\n",
       "    </tr>\n",
       "  </tbody>\n",
       "</table>\n",
       "</div>"
      ],
      "text/plain": [
       "          user_name    user_id  game_id                         game_name  \\\n",
       "48908    FreaKyTaco    4915486    32502                 World of Warships   \n",
       "8664   Thereaper200   79070185    24241          FINAL FANTASY XIV Online   \n",
       "15377    Shiryupro_  188558718   502732                  Garena Free Fire   \n",
       "10776      Tamus500  147517842   509511                 Marbles On Stream   \n",
       "38031   KevinKrunch  149971976     2692                    Super Mario 64   \n",
       "56907      D0KT0R3N  258426560    32399  Counter-Strike: Global Offensive   \n",
       "58938       Choxel7  128488170   488552                         Overwatch   \n",
       "60024      CarvemUp  154347688   515448                   Resident Evil 3   \n",
       "64448   azureonednd  465458897   509577                Dungeons & Dragons   \n",
       "59348    chefsean81   40015913   497057                         Destiny 2   \n",
       "\n",
       "                     game_genres language            started_at  viewer_count  \\\n",
       "48908        {Action,Simulation}       en  2020-04-16T19:20:00Z             6   \n",
       "8664                    {MMORPG}       de  2020-04-18T14:58:33Z             5   \n",
       "15377         {Shooter,Strategy}       pt  2020-04-19T22:17:17Z             6   \n",
       "10776                     {NONE}       fr  2020-04-16T21:15:24Z             9   \n",
       "38031                     {NONE}       en  2020-04-20T00:49:13Z             1   \n",
       "56907              {FPS,Shooter}       da  2020-04-16T19:20:19Z           122   \n",
       "58938         {FPS,Shooter,MOBA}       ar  2020-04-20T00:40:07Z            98   \n",
       "60024  {Action,\"Adventure Game\"}       en  2020-04-20T11:49:05Z            56   \n",
       "64448                     {NONE}       es  2020-04-18T23:16:45Z             5   \n",
       "59348          {FPS,Shooter,RPG}       en  2020-04-16T20:41:15Z            19   \n",
       "\n",
       "       max  max_game_int  \n",
       "48908    6             9  \n",
       "8664     5            15  \n",
       "15377    6            13  \n",
       "10776    9             9  \n",
       "38031    1            15  \n",
       "56907  122           135  \n",
       "58938   98           945  \n",
       "60024   56            56  \n",
       "64448    5             5  \n",
       "59348   19            19  "
      ]
     },
     "execution_count": 9,
     "metadata": {},
     "output_type": "execute_result"
    }
   ],
   "source": [
    "grid.sample(10)"
   ]
  },
  {
   "cell_type": "code",
   "execution_count": 10,
   "metadata": {},
   "outputs": [
    {
     "data": {
      "text/html": [
       "<div>\n",
       "<style scoped>\n",
       "    .dataframe tbody tr th:only-of-type {\n",
       "        vertical-align: middle;\n",
       "    }\n",
       "\n",
       "    .dataframe tbody tr th {\n",
       "        vertical-align: top;\n",
       "    }\n",
       "\n",
       "    .dataframe thead th {\n",
       "        text-align: right;\n",
       "    }\n",
       "</style>\n",
       "<table border=\"1\" class=\"dataframe\">\n",
       "  <thead>\n",
       "    <tr style=\"text-align: right;\">\n",
       "      <th></th>\n",
       "      <th>user_name</th>\n",
       "      <th>user_id</th>\n",
       "      <th>game_id</th>\n",
       "      <th>game_name</th>\n",
       "      <th>game_genres</th>\n",
       "      <th>language</th>\n",
       "      <th>started_at</th>\n",
       "      <th>viewer_count</th>\n",
       "      <th>max</th>\n",
       "      <th>max_game_int</th>\n",
       "      <th>score</th>\n",
       "    </tr>\n",
       "  </thead>\n",
       "  <tbody>\n",
       "    <tr>\n",
       "      <th>0</th>\n",
       "      <td>龜狗</td>\n",
       "      <td>48093884</td>\n",
       "      <td>21779</td>\n",
       "      <td>League of Legends</td>\n",
       "      <td>{MOBA}</td>\n",
       "      <td>zh</td>\n",
       "      <td>2020-04-19T04:18:22Z</td>\n",
       "      <td>1931</td>\n",
       "      <td>1931</td>\n",
       "      <td>1931</td>\n",
       "      <td>1.000000</td>\n",
       "    </tr>\n",
       "    <tr>\n",
       "      <th>1</th>\n",
       "      <td>黒田瑞貴</td>\n",
       "      <td>225658233</td>\n",
       "      <td>511224</td>\n",
       "      <td>Apex Legends</td>\n",
       "      <td>{FPS,Shooter}</td>\n",
       "      <td>ja</td>\n",
       "      <td>2020-04-20T12:19:02Z</td>\n",
       "      <td>165</td>\n",
       "      <td>165</td>\n",
       "      <td>165</td>\n",
       "      <td>1.000000</td>\n",
       "    </tr>\n",
       "    <tr>\n",
       "      <th>2</th>\n",
       "      <td>黑色柳丁</td>\n",
       "      <td>18156459</td>\n",
       "      <td>18122</td>\n",
       "      <td>World of Warcraft</td>\n",
       "      <td>{MMORPG,RPG}</td>\n",
       "      <td>zh</td>\n",
       "      <td>2020-04-20T10:53:28Z</td>\n",
       "      <td>102</td>\n",
       "      <td>102</td>\n",
       "      <td>102</td>\n",
       "      <td>1.000000</td>\n",
       "    </tr>\n",
       "    <tr>\n",
       "      <th>3</th>\n",
       "      <td>黑色柳丁</td>\n",
       "      <td>18156459</td>\n",
       "      <td>18122</td>\n",
       "      <td>World of Warcraft</td>\n",
       "      <td>{MMORPG,RPG}</td>\n",
       "      <td>zh</td>\n",
       "      <td>2020-04-20T10:53:28Z</td>\n",
       "      <td>74</td>\n",
       "      <td>74</td>\n",
       "      <td>102</td>\n",
       "      <td>0.725490</td>\n",
       "    </tr>\n",
       "    <tr>\n",
       "      <th>4</th>\n",
       "      <td>黑色柳丁</td>\n",
       "      <td>18156459</td>\n",
       "      <td>18122</td>\n",
       "      <td>World of Warcraft</td>\n",
       "      <td>{MMORPG,RPG}</td>\n",
       "      <td>zh</td>\n",
       "      <td>2020-04-16T11:29:02Z</td>\n",
       "      <td>71</td>\n",
       "      <td>71</td>\n",
       "      <td>102</td>\n",
       "      <td>0.696078</td>\n",
       "    </tr>\n",
       "  </tbody>\n",
       "</table>\n",
       "</div>"
      ],
      "text/plain": [
       "  user_name    user_id  game_id          game_name    game_genres language  \\\n",
       "0        龜狗   48093884    21779  League of Legends         {MOBA}       zh   \n",
       "1      黒田瑞貴  225658233   511224       Apex Legends  {FPS,Shooter}       ja   \n",
       "2      黑色柳丁   18156459    18122  World of Warcraft   {MMORPG,RPG}       zh   \n",
       "3      黑色柳丁   18156459    18122  World of Warcraft   {MMORPG,RPG}       zh   \n",
       "4      黑色柳丁   18156459    18122  World of Warcraft   {MMORPG,RPG}       zh   \n",
       "\n",
       "             started_at  viewer_count   max  max_game_int     score  \n",
       "0  2020-04-19T04:18:22Z          1931  1931          1931  1.000000  \n",
       "1  2020-04-20T12:19:02Z           165   165           165  1.000000  \n",
       "2  2020-04-20T10:53:28Z           102   102           102  1.000000  \n",
       "3  2020-04-20T10:53:28Z            74    74           102  0.725490  \n",
       "4  2020-04-16T11:29:02Z            71    71           102  0.696078  "
      ]
     },
     "execution_count": 10,
     "metadata": {},
     "output_type": "execute_result"
    }
   ],
   "source": [
    "grid['score'] = grid['max']/grid['max_game_int']\n",
    "grid.head()"
   ]
  },
  {
   "cell_type": "code",
   "execution_count": 11,
   "metadata": {},
   "outputs": [],
   "source": [
    "from sklearn.preprocessing import minmax_scale\n",
    "grid['scaled_score'] = minmax_scale(grid['score'], feature_range=(1, 5))"
   ]
  },
  {
   "cell_type": "code",
   "execution_count": 12,
   "metadata": {},
   "outputs": [],
   "source": [
    "grid.to_csv('final_rating_game.csv', index = False)"
   ]
  },
  {
   "cell_type": "markdown",
   "metadata": {},
   "source": [
    "# Game NeuralMF Hybrid Recommender\n",
    "### In this notebook, we implement a recommender model with the Video games Recommendations dataset. \n",
    "\n",
    "> Based on the Neural Collaborative Filtering paper: Xiangnan He, Lizi Liao, Hanwang Zhang, Liqiang Nie, Xia Hu and Tat-Seng Chua (2017). Neural Collaborative Filtering. In Proceedings of WWW '17, Perth, Australia, April 03-07, 2017.\n",
    "\n",
    "#### The following is a little motivation for Hybrid recommender systems.\n",
    "\n",
    "## Why Hybrid?\n",
    "Well, there are two main kinds of recommender systems: Content-based and Collaborative filtering-based.\n",
    "* Content-based recommenders suggest similar picks to a certain _item_ (an anime movie/series in our case), letting the users know about similar items to the ones they have watched/rated positively. These method typically use _item features_ together with unsupervised methods in an effort to generate a product-space and compute similarities between items. However, this method may end suggesting a limited mix of items, providing a low _surprise factor_ for the user.\n",
    "* On the other hand, collaborative filtering recommenders rely on past users' history of watched/rated items, increasing the chances of recommending a serendipitous item to a target user. Classic methods rely solely on a user-item matrix, which maps the interactions that all users have with every item. These matrix methods are heavily memory-intensive and newer neural network-based are more common. Nonetheless, these methods could miss on similar -but typically overseen- items, in comparison to the ones watched/reviewed by the target user.\n",
    "\n",
    "In order to get more robust recommendations, a hybrid model can combine both item features and user-item features.\n",
    "\n",
    "## And... why NeuralMF?\n",
    "The NeuralMF is a mix of General Matrix Factorization (GMF) and Multi Layer Perceptron (MLP) recommenders, resembling a Wide&Deep model, having higih generalization power. Plus, neural nets make easier to handle large volumes of data, and it better leverages the power of GPUs! \n"
   ]
  },
  {
   "cell_type": "code",
   "execution_count": 13,
   "metadata": {},
   "outputs": [],
   "source": [
    "# from PIL import Image\n",
    "# image = Image.open('Screen Shot 2020-03-26 at 2.30.03 PM.png')\n",
    "\n",
    "# st.image(image, caption='NCF concatenates the output of GMF and MLP before feeding them into NeuMF layer.',use_column_width=True)"
   ]
  },
  {
   "cell_type": "markdown",
   "metadata": {},
   "source": [
    "## Content-based feature engineering"
   ]
  },
  {
   "cell_type": "code",
   "execution_count": 14,
   "metadata": {},
   "outputs": [
    {
     "data": {
      "text/html": [
       "<div>\n",
       "<style scoped>\n",
       "    .dataframe tbody tr th:only-of-type {\n",
       "        vertical-align: middle;\n",
       "    }\n",
       "\n",
       "    .dataframe tbody tr th {\n",
       "        vertical-align: top;\n",
       "    }\n",
       "\n",
       "    .dataframe thead th {\n",
       "        text-align: right;\n",
       "    }\n",
       "</style>\n",
       "<table border=\"1\" class=\"dataframe\">\n",
       "  <thead>\n",
       "    <tr style=\"text-align: right;\">\n",
       "      <th></th>\n",
       "      <th>stream_id</th>\n",
       "      <th>user_id</th>\n",
       "      <th>user_name</th>\n",
       "      <th>game_id</th>\n",
       "      <th>stream_type</th>\n",
       "      <th>title</th>\n",
       "      <th>viewer_count</th>\n",
       "      <th>started_at</th>\n",
       "      <th>language</th>\n",
       "      <th>game_name</th>\n",
       "      <th>pic_url</th>\n",
       "      <th>game_genres</th>\n",
       "    </tr>\n",
       "  </thead>\n",
       "  <tbody>\n",
       "    <tr>\n",
       "      <th>0</th>\n",
       "      <td>37574721008</td>\n",
       "      <td>76508554</td>\n",
       "      <td>Anomaly</td>\n",
       "      <td>516575</td>\n",
       "      <td>live</td>\n",
       "      <td>24/7 DROPS STREAM ✔️LIVE TRYHARDING WITH GLOBA...</td>\n",
       "      <td>95474</td>\n",
       "      <td>2020-04-16T14:54:04Z</td>\n",
       "      <td>en</td>\n",
       "      <td>VALORANT</td>\n",
       "      <td>https://static-cdn.jtvnw.net/ttv-boxart/VALORA...</td>\n",
       "      <td>Shooter,FPS</td>\n",
       "    </tr>\n",
       "    <tr>\n",
       "      <th>1</th>\n",
       "      <td>37574476096</td>\n",
       "      <td>36769016</td>\n",
       "      <td>TimTheTatman</td>\n",
       "      <td>516575</td>\n",
       "      <td>live</td>\n",
       "      <td>*DROPS HERE* @timthetatman on all socials</td>\n",
       "      <td>66818</td>\n",
       "      <td>2020-04-16T14:29:42Z</td>\n",
       "      <td>en</td>\n",
       "      <td>VALORANT</td>\n",
       "      <td>https://static-cdn.jtvnw.net/ttv-boxart/VALORA...</td>\n",
       "      <td>Shooter,FPS</td>\n",
       "    </tr>\n",
       "    <tr>\n",
       "      <th>2</th>\n",
       "      <td>37557947808</td>\n",
       "      <td>121203480</td>\n",
       "      <td>Yassuo</td>\n",
       "      <td>516575</td>\n",
       "      <td>live</td>\n",
       "      <td>🔴 DROPS ENABLED 🔴 24/7 STREAM - PLAYING VOD NO...</td>\n",
       "      <td>45102</td>\n",
       "      <td>2020-04-15T16:50:41Z</td>\n",
       "      <td>en</td>\n",
       "      <td>VALORANT</td>\n",
       "      <td>https://static-cdn.jtvnw.net/ttv-boxart/VALORA...</td>\n",
       "      <td>Shooter,FPS</td>\n",
       "    </tr>\n",
       "    <tr>\n",
       "      <th>3</th>\n",
       "      <td>37579383216</td>\n",
       "      <td>26490481</td>\n",
       "      <td>summit1g</td>\n",
       "      <td>516575</td>\n",
       "      <td>live</td>\n",
       "      <td>You don't get drops here [ @summit1g ]</td>\n",
       "      <td>41671</td>\n",
       "      <td>2020-04-16T20:12:07Z</td>\n",
       "      <td>en</td>\n",
       "      <td>VALORANT</td>\n",
       "      <td>https://static-cdn.jtvnw.net/ttv-boxart/VALORA...</td>\n",
       "      <td>Shooter,FPS</td>\n",
       "    </tr>\n",
       "    <tr>\n",
       "      <th>4</th>\n",
       "      <td>37577949200</td>\n",
       "      <td>27121969</td>\n",
       "      <td>ONSCREEN</td>\n",
       "      <td>516575</td>\n",
       "      <td>live</td>\n",
       "      <td>Drops on - Playing VODs so I don't lose viewer...</td>\n",
       "      <td>26119</td>\n",
       "      <td>2020-04-16T18:50:57Z</td>\n",
       "      <td>en</td>\n",
       "      <td>VALORANT</td>\n",
       "      <td>https://static-cdn.jtvnw.net/ttv-boxart/VALORA...</td>\n",
       "      <td>Shooter,FPS</td>\n",
       "    </tr>\n",
       "  </tbody>\n",
       "</table>\n",
       "</div>"
      ],
      "text/plain": [
       "     stream_id    user_id     user_name  game_id stream_type  \\\n",
       "0  37574721008   76508554       Anomaly   516575        live   \n",
       "1  37574476096   36769016  TimTheTatman   516575        live   \n",
       "2  37557947808  121203480        Yassuo   516575        live   \n",
       "3  37579383216   26490481      summit1g   516575        live   \n",
       "4  37577949200   27121969      ONSCREEN   516575        live   \n",
       "\n",
       "                                               title  viewer_count  \\\n",
       "0  24/7 DROPS STREAM ✔️LIVE TRYHARDING WITH GLOBA...         95474   \n",
       "1          *DROPS HERE* @timthetatman on all socials         66818   \n",
       "2  🔴 DROPS ENABLED 🔴 24/7 STREAM - PLAYING VOD NO...         45102   \n",
       "3             You don't get drops here [ @summit1g ]         41671   \n",
       "4  Drops on - Playing VODs so I don't lose viewer...         26119   \n",
       "\n",
       "             started_at language game_name  \\\n",
       "0  2020-04-16T14:54:04Z       en  VALORANT   \n",
       "1  2020-04-16T14:29:42Z       en  VALORANT   \n",
       "2  2020-04-15T16:50:41Z       en  VALORANT   \n",
       "3  2020-04-16T20:12:07Z       en  VALORANT   \n",
       "4  2020-04-16T18:50:57Z       en  VALORANT   \n",
       "\n",
       "                                             pic_url  game_genres  \n",
       "0  https://static-cdn.jtvnw.net/ttv-boxart/VALORA...  Shooter,FPS  \n",
       "1  https://static-cdn.jtvnw.net/ttv-boxart/VALORA...  Shooter,FPS  \n",
       "2  https://static-cdn.jtvnw.net/ttv-boxart/VALORA...  Shooter,FPS  \n",
       "3  https://static-cdn.jtvnw.net/ttv-boxart/VALORA...  Shooter,FPS  \n",
       "4  https://static-cdn.jtvnw.net/ttv-boxart/VALORA...  Shooter,FPS  "
      ]
     },
     "execution_count": 14,
     "metadata": {},
     "output_type": "execute_result"
    }
   ],
   "source": [
    "video_games_df = pd.read_csv(\"final_with_genre.csv\")\n",
    "#st.write(snack_df.head(10))\n",
    "video_games_df.head()"
   ]
  },
  {
   "cell_type": "code",
   "execution_count": 15,
   "metadata": {},
   "outputs": [
    {
     "data": {
      "text/plain": [
       "(70519, 12)"
      ]
     },
     "execution_count": 15,
     "metadata": {},
     "output_type": "execute_result"
    }
   ],
   "source": [
    "#shape of the dataset\n",
    "video_games_df.shape"
   ]
  },
  {
   "cell_type": "code",
   "execution_count": 16,
   "metadata": {},
   "outputs": [],
   "source": [
    "video_games_df.drop(['title','user_id','pic_url','started_at','stream_type','stream_id','user_name','viewer_count'], axis=1, inplace=True)"
   ]
  },
  {
   "cell_type": "code",
   "execution_count": 17,
   "metadata": {},
   "outputs": [
    {
     "data": {
      "text/plain": [
       "Index(['game_id', 'language', 'game_name', 'game_genres'], dtype='object')"
      ]
     },
     "execution_count": 17,
     "metadata": {},
     "output_type": "execute_result"
    }
   ],
   "source": [
    "video_games_df.columns"
   ]
  },
  {
   "cell_type": "code",
   "execution_count": 18,
   "metadata": {},
   "outputs": [],
   "source": [
    "video_games_df = video_games_df.dropna()"
   ]
  },
  {
   "cell_type": "code",
   "execution_count": 19,
   "metadata": {},
   "outputs": [
    {
     "data": {
      "text/plain": [
       "array(['Shooter,FPS', 'Shooter', 'FPS,Shooter', 'IRL',\n",
       "       'Driving/Racing Game', 'MOBA', 'Adventure Game,Action',\n",
       "       'MMORPG,RPG', 'Sports Game', 'Adventure Game', 'Action,RPG',\n",
       "       'Simulation', 'NONE', 'Strategy,Autobattler', 'Card & Board Game',\n",
       "       'FPS,Shooter,MOBA', 'IRL,Creative', 'Action,Horror', 'Creative',\n",
       "       'Action,Adventure Game', 'MMORPG', 'RPG', 'Gambling Game',\n",
       "       'RPG,Mobile Game', 'Sports Game,Simulation', 'Simulation,Action',\n",
       "       'Simulation,FPS', 'Shooter,Strategy', 'Shooter,Action',\n",
       "       'Adventure Game,RPG', 'RPG,Shooter', 'Action,Open World',\n",
       "       'FPS,Shooter,RPG', 'Platformer', 'Indie Game,Action',\n",
       "       'RPG,Strategy', 'RPG,Simulation', 'Fighting', 'FPS,Shooter,Horror',\n",
       "       'Action,Shooter', 'RTS,Strategy', 'Simulation,Puzzle',\n",
       "       'RPG,Action', 'Simulation,Sports Game', 'Simulation,RPG',\n",
       "       'Action,Simulation', 'Creative,IRL', 'RPG,Indie Game',\n",
       "       'Horror,Indie Game', 'Shooter,Horror', 'RPG,FPS,Shooter',\n",
       "       'Fighting,Platformer', 'Strategy,RTS', 'MMORPG,Action', 'Strategy',\n",
       "       'MMORPG,Stealth', 'Strategy,Simulation', 'Puzzle',\n",
       "       'Adventure Game,Horror', 'Educational Game', 'RPG,Action,Horror',\n",
       "       'Action,Indie Game', 'Platformer,Indie Game', 'RPG,Open World',\n",
       "       'RPG,MMORPG', 'Action,Shooter,FPS', 'RTS,Mobile Game',\n",
       "       'RPG,Action,Stealth', 'Rhythm & Music Game', 'Action',\n",
       "       'Shooter,Action,FPS', 'Action,Metroidvania', 'Compilation,FPS',\n",
       "       'Compilation,Puzzle', 'MOBA,Mobile Game', 'Simulation,Open World'],\n",
       "      dtype=object)"
      ]
     },
     "execution_count": 19,
     "metadata": {},
     "output_type": "execute_result"
    }
   ],
   "source": [
    "video_games_df['game_genres'].unique()"
   ]
  },
  {
   "cell_type": "code",
   "execution_count": 20,
   "metadata": {},
   "outputs": [
    {
     "data": {
      "text/plain": [
       "['MOBA',\n",
       " 'Action',\n",
       " 'Gambling Game',\n",
       " 'Open World',\n",
       " 'IRL',\n",
       " 'Puzzle',\n",
       " 'Simulation',\n",
       " 'Creative',\n",
       " 'NONE',\n",
       " 'Autobattler',\n",
       " 'Horror',\n",
       " 'Strategy',\n",
       " 'MMORPG',\n",
       " 'Stealth',\n",
       " 'Compilation',\n",
       " 'Fighting',\n",
       " 'Rhythm & Music Game',\n",
       " 'Mobile Game',\n",
       " 'FPS',\n",
       " 'Sports Game',\n",
       " 'Driving/Racing Game',\n",
       " 'Platformer',\n",
       " 'Card & Board Game',\n",
       " 'RTS',\n",
       " 'Adventure Game',\n",
       " 'RPG',\n",
       " 'Educational Game',\n",
       " 'Shooter',\n",
       " 'Metroidvania',\n",
       " 'Indie Game']"
      ]
     },
     "execution_count": 20,
     "metadata": {},
     "output_type": "execute_result"
    }
   ],
   "source": [
    "game_genre_initial = video_games_df['game_genres'].map(lambda x: x.split(',')).values.tolist()\n",
    "all_game_genre = list(set(chain(*game_genre_initial)))\n",
    "all_game_genre"
   ]
  },
  {
   "cell_type": "code",
   "execution_count": 21,
   "metadata": {},
   "outputs": [
    {
     "data": {
      "text/plain": [
       "{'Action': 0,\n",
       " 'Adventure Game': 1,\n",
       " 'Autobattler': 2,\n",
       " 'Card & Board Game': 3,\n",
       " 'Compilation': 4,\n",
       " 'Creative': 5,\n",
       " 'Driving/Racing Game': 6,\n",
       " 'Educational Game': 7,\n",
       " 'FPS': 8,\n",
       " 'Fighting': 9,\n",
       " 'Gambling Game': 10,\n",
       " 'Horror': 11,\n",
       " 'IRL': 12,\n",
       " 'Indie Game': 13,\n",
       " 'MMORPG': 14,\n",
       " 'MOBA': 15,\n",
       " 'Metroidvania': 16,\n",
       " 'Mobile Game': 17,\n",
       " 'NONE': 18,\n",
       " 'Open World': 19,\n",
       " 'Platformer': 20,\n",
       " 'Puzzle': 21,\n",
       " 'RPG': 22,\n",
       " 'RTS': 23,\n",
       " 'Rhythm & Music Game': 24,\n",
       " 'Shooter': 25,\n",
       " 'Simulation': 26,\n",
       " 'Sports Game': 27,\n",
       " 'Stealth': 28,\n",
       " 'Strategy': 29}"
      ]
     },
     "execution_count": 21,
     "metadata": {},
     "output_type": "execute_result"
    }
   ],
   "source": [
    "#@st.cache\n",
    "def invert_dict(d):\n",
    "    return {value: key for key, value in d.items()}\n",
    "\n",
    "all_game_genre = sorted(list(all_game_genre)) # We convert it to a list to enforce alphabetic ordering\n",
    "ngenres = len(all_game_genre)\n",
    "\n",
    "idx2genre = dict(enumerate(all_game_genre)) # Create a mapping dictionary from index to dict\n",
    "genre2idx = invert_dict(idx2genre) # Inverse dict\n",
    "\n",
    "genre2idx"
   ]
  },
  {
   "cell_type": "code",
   "execution_count": 22,
   "metadata": {},
   "outputs": [
    {
     "data": {
      "text/plain": [
       "array(['en', 'ru', 'tr', 'es', 'pl', 'fr', 'other', 'de', 'it', 'cs',\n",
       "       'hu', 'ro', 'pt', 'ko', 'sv', 'el', 'ar', 'da', 'ja', 'zh', 'th',\n",
       "       'fi', 'bg', 'sk', 'no', 'nl', 'zh-hk', 'tl', 'vi', 'uk', 'asl',\n",
       "       'ca', 'id', 'hi'], dtype=object)"
      ]
     },
     "execution_count": 22,
     "metadata": {},
     "output_type": "execute_result"
    }
   ],
   "source": [
    "video_games_df['language'].unique()"
   ]
  },
  {
   "cell_type": "code",
   "execution_count": 23,
   "metadata": {},
   "outputs": [
    {
     "data": {
      "text/plain": [
       "['vi',\n",
       " 'sk',\n",
       " 'fr',\n",
       " 'zh',\n",
       " 'it',\n",
       " 'ro',\n",
       " 'pl',\n",
       " 'de',\n",
       " 'tl',\n",
       " 'ko',\n",
       " 'bg',\n",
       " 'ca',\n",
       " 'other',\n",
       " 'uk',\n",
       " 'tr',\n",
       " 'th',\n",
       " 'es',\n",
       " 'hu',\n",
       " 'id',\n",
       " 'da',\n",
       " 'ar',\n",
       " 'ru',\n",
       " 'hi',\n",
       " 'cs',\n",
       " 'ja',\n",
       " 'zh-hk',\n",
       " 'sv',\n",
       " 'en',\n",
       " 'pt',\n",
       " 'no',\n",
       " 'asl',\n",
       " 'el',\n",
       " 'fi',\n",
       " 'nl']"
      ]
     },
     "execution_count": 23,
     "metadata": {},
     "output_type": "execute_result"
    }
   ],
   "source": [
    "language_initial = video_games_df['language'].map(lambda x: x.split(',')).values.tolist()\n",
    "all_game_language = list(set(chain(*language_initial)))\n",
    "all_game_language"
   ]
  },
  {
   "cell_type": "code",
   "execution_count": 24,
   "metadata": {},
   "outputs": [
    {
     "data": {
      "text/plain": [
       "{'ar': 0,\n",
       " 'asl': 1,\n",
       " 'bg': 2,\n",
       " 'ca': 3,\n",
       " 'cs': 4,\n",
       " 'da': 5,\n",
       " 'de': 6,\n",
       " 'el': 7,\n",
       " 'en': 8,\n",
       " 'es': 9,\n",
       " 'fi': 10,\n",
       " 'fr': 11,\n",
       " 'hi': 12,\n",
       " 'hu': 13,\n",
       " 'id': 14,\n",
       " 'it': 15,\n",
       " 'ja': 16,\n",
       " 'ko': 17,\n",
       " 'nl': 18,\n",
       " 'no': 19,\n",
       " 'other': 20,\n",
       " 'pl': 21,\n",
       " 'pt': 22,\n",
       " 'ro': 23,\n",
       " 'ru': 24,\n",
       " 'sk': 25,\n",
       " 'sv': 26,\n",
       " 'th': 27,\n",
       " 'tl': 28,\n",
       " 'tr': 29,\n",
       " 'uk': 30,\n",
       " 'vi': 31,\n",
       " 'zh': 32,\n",
       " 'zh-hk': 33}"
      ]
     },
     "execution_count": 24,
     "metadata": {},
     "output_type": "execute_result"
    }
   ],
   "source": [
    "#@st.cache\n",
    "def invert_dict(d):\n",
    "    return {value: key for key, value in d.items()}\n",
    "\n",
    "all_game_language = sorted(list(all_game_language)) # We convert it to a list to enforce alphabetic ordering\n",
    "nlang = len(all_game_language)\n",
    "\n",
    "idx2lang = dict(enumerate(all_game_language)) # Create a mapping dictionary from index to dict\n",
    "lang2idx = invert_dict(idx2lang) # Inverse dict\n",
    "\n",
    "lang2idx"
   ]
  },
  {
   "cell_type": "markdown",
   "metadata": {},
   "source": [
    "The content-based part of our model requires features for each anime. Therefore, we are going to include as many relevant features as possible, to not waste any information. So, we are using the anime genres and number of episodes. We dropped the title here, due to a lack of ways of handling it. Rating and members are not content-related features, since they are dynamic and bounded to users' activity. So, they are going to be leveraged through the collaborative-filtering part.\n",
    "\n",
    "Let's start by one-hot encoding food genres + type of food:"
   ]
  },
  {
   "cell_type": "code",
   "execution_count": 25,
   "metadata": {},
   "outputs": [],
   "source": [
    "# Copy the column\n",
    "video_games_df['features_game_genre'] = video_games_df['game_genres']\n",
    "\n",
    "# Cast None to an empty string\n",
    "video_games_df['features_game_genre'] = video_games_df['features_game_genre'].fillna('') \n",
    "\n",
    "# Split genres into a list of strings\n",
    "video_games_df['features_game_genre'] = video_games_df['features_game_genre'].map(lambda x: x.replace(\"/ \", \"\").split(','))\n",
    "\n",
    "#snack_df['features_food_genre']"
   ]
  },
  {
   "cell_type": "code",
   "execution_count": 26,
   "metadata": {},
   "outputs": [
    {
     "data": {
      "text/plain": [
       "0        [0.0, 0.0, 0.0, 0.0, 0.0, 0.0, 0.0, 0.0, 1.0, ...\n",
       "1        [0.0, 0.0, 0.0, 0.0, 0.0, 0.0, 0.0, 0.0, 1.0, ...\n",
       "2        [0.0, 0.0, 0.0, 0.0, 0.0, 0.0, 0.0, 0.0, 1.0, ...\n",
       "3        [0.0, 0.0, 0.0, 0.0, 0.0, 0.0, 0.0, 0.0, 1.0, ...\n",
       "4        [0.0, 0.0, 0.0, 0.0, 0.0, 0.0, 0.0, 0.0, 1.0, ...\n",
       "                               ...                        \n",
       "70514    [1.0, 0.0, 0.0, 0.0, 0.0, 0.0, 0.0, 0.0, 0.0, ...\n",
       "70515    [1.0, 0.0, 0.0, 0.0, 0.0, 0.0, 0.0, 0.0, 0.0, ...\n",
       "70516    [1.0, 0.0, 0.0, 0.0, 0.0, 0.0, 0.0, 0.0, 0.0, ...\n",
       "70517    [1.0, 0.0, 0.0, 0.0, 0.0, 0.0, 0.0, 0.0, 0.0, ...\n",
       "70518    [1.0, 0.0, 0.0, 0.0, 0.0, 0.0, 0.0, 0.0, 0.0, ...\n",
       "Name: features_game_genre, Length: 70323, dtype: object"
      ]
     },
     "execution_count": 26,
     "metadata": {},
     "output_type": "execute_result"
    }
   ],
   "source": [
    "#encode genre of games\n",
    "#@st.cache\n",
    "def encode_genres(genres):\n",
    "    out = np.zeros(ngenres)\n",
    "    for genre in genres:\n",
    "        if genre == '':\n",
    "            pass\n",
    "        else:\n",
    "            out[genre2idx[genre]] = 1\n",
    "    return out.tolist()\n",
    "\n",
    "video_games_df['features_game_genre'] = video_games_df['features_game_genre'].map(encode_genres)\n",
    "video_games_df['features_game_genre']"
   ]
  },
  {
   "cell_type": "code",
   "execution_count": 27,
   "metadata": {},
   "outputs": [],
   "source": [
    "# Copy the column\n",
    "video_games_df['features_game_language'] = video_games_df['language']\n",
    "\n",
    "# Cast None to an empty string\n",
    "video_games_df['features_game_language'] = video_games_df['features_game_language'].fillna('') \n",
    "\n",
    "# Split genres into a list of strings\n",
    "video_games_df['features_game_language'] = video_games_df['features_game_language'].map(lambda x: x.split(','))\n",
    "\n",
    "#snack_df['features_food_type']"
   ]
  },
  {
   "cell_type": "code",
   "execution_count": 28,
   "metadata": {},
   "outputs": [
    {
     "data": {
      "text/plain": [
       "0        [0.0, 0.0, 0.0, 0.0, 0.0, 0.0, 0.0, 0.0, 1.0, ...\n",
       "1        [0.0, 0.0, 0.0, 0.0, 0.0, 0.0, 0.0, 0.0, 1.0, ...\n",
       "2        [0.0, 0.0, 0.0, 0.0, 0.0, 0.0, 0.0, 0.0, 1.0, ...\n",
       "3        [0.0, 0.0, 0.0, 0.0, 0.0, 0.0, 0.0, 0.0, 1.0, ...\n",
       "4        [0.0, 0.0, 0.0, 0.0, 0.0, 0.0, 0.0, 0.0, 1.0, ...\n",
       "                               ...                        \n",
       "70514    [0.0, 0.0, 0.0, 0.0, 0.0, 0.0, 0.0, 0.0, 1.0, ...\n",
       "70515    [0.0, 0.0, 0.0, 0.0, 0.0, 0.0, 1.0, 0.0, 0.0, ...\n",
       "70516    [0.0, 0.0, 0.0, 0.0, 0.0, 0.0, 0.0, 0.0, 1.0, ...\n",
       "70517    [0.0, 0.0, 0.0, 0.0, 0.0, 0.0, 0.0, 0.0, 1.0, ...\n",
       "70518    [0.0, 0.0, 0.0, 0.0, 0.0, 0.0, 0.0, 0.0, 1.0, ...\n",
       "Name: features_game_language, Length: 70323, dtype: object"
      ]
     },
     "execution_count": 28,
     "metadata": {},
     "output_type": "execute_result"
    }
   ],
   "source": [
    "#encode language\n",
    "#@st.cache\n",
    "def encode_type(types):\n",
    "    out = np.zeros(nlang)\n",
    "    for type in types:\n",
    "        if type == '':\n",
    "            pass\n",
    "        else:\n",
    "            out[lang2idx[type]] = 1\n",
    "    return out.tolist()\n",
    "\n",
    "video_games_df['features_game_language'] = video_games_df['features_game_language'].map(encode_type)\n",
    "video_games_df['features_game_language']"
   ]
  },
  {
   "cell_type": "markdown",
   "metadata": {},
   "source": [
    "## Collaborative-filtering feature engineering"
   ]
  },
  {
   "cell_type": "code",
   "execution_count": 29,
   "metadata": {},
   "outputs": [
    {
     "data": {
      "text/html": [
       "<div>\n",
       "<style scoped>\n",
       "    .dataframe tbody tr th:only-of-type {\n",
       "        vertical-align: middle;\n",
       "    }\n",
       "\n",
       "    .dataframe tbody tr th {\n",
       "        vertical-align: top;\n",
       "    }\n",
       "\n",
       "    .dataframe thead th {\n",
       "        text-align: right;\n",
       "    }\n",
       "</style>\n",
       "<table border=\"1\" class=\"dataframe\">\n",
       "  <thead>\n",
       "    <tr style=\"text-align: right;\">\n",
       "      <th></th>\n",
       "      <th>user_name</th>\n",
       "      <th>user_id</th>\n",
       "      <th>game_id</th>\n",
       "      <th>game_name</th>\n",
       "      <th>game_genres</th>\n",
       "      <th>language</th>\n",
       "      <th>started_at</th>\n",
       "      <th>viewer_count</th>\n",
       "      <th>max</th>\n",
       "      <th>max_game_int</th>\n",
       "      <th>score</th>\n",
       "      <th>scaled_score</th>\n",
       "    </tr>\n",
       "  </thead>\n",
       "  <tbody>\n",
       "    <tr>\n",
       "      <th>0</th>\n",
       "      <td>龜狗</td>\n",
       "      <td>48093884</td>\n",
       "      <td>21779</td>\n",
       "      <td>League of Legends</td>\n",
       "      <td>{MOBA}</td>\n",
       "      <td>zh</td>\n",
       "      <td>2020-04-19T04:18:22Z</td>\n",
       "      <td>1931</td>\n",
       "      <td>1931</td>\n",
       "      <td>1931</td>\n",
       "      <td>1.000000</td>\n",
       "      <td>5.000000</td>\n",
       "    </tr>\n",
       "    <tr>\n",
       "      <th>1</th>\n",
       "      <td>黒田瑞貴</td>\n",
       "      <td>225658233</td>\n",
       "      <td>511224</td>\n",
       "      <td>Apex Legends</td>\n",
       "      <td>{FPS,Shooter}</td>\n",
       "      <td>ja</td>\n",
       "      <td>2020-04-20T12:19:02Z</td>\n",
       "      <td>165</td>\n",
       "      <td>165</td>\n",
       "      <td>165</td>\n",
       "      <td>1.000000</td>\n",
       "      <td>5.000000</td>\n",
       "    </tr>\n",
       "    <tr>\n",
       "      <th>2</th>\n",
       "      <td>黑色柳丁</td>\n",
       "      <td>18156459</td>\n",
       "      <td>18122</td>\n",
       "      <td>World of Warcraft</td>\n",
       "      <td>{MMORPG,RPG}</td>\n",
       "      <td>zh</td>\n",
       "      <td>2020-04-20T10:53:28Z</td>\n",
       "      <td>102</td>\n",
       "      <td>102</td>\n",
       "      <td>102</td>\n",
       "      <td>1.000000</td>\n",
       "      <td>5.000000</td>\n",
       "    </tr>\n",
       "    <tr>\n",
       "      <th>3</th>\n",
       "      <td>黑色柳丁</td>\n",
       "      <td>18156459</td>\n",
       "      <td>18122</td>\n",
       "      <td>World of Warcraft</td>\n",
       "      <td>{MMORPG,RPG}</td>\n",
       "      <td>zh</td>\n",
       "      <td>2020-04-20T10:53:28Z</td>\n",
       "      <td>74</td>\n",
       "      <td>74</td>\n",
       "      <td>102</td>\n",
       "      <td>0.725490</td>\n",
       "      <td>3.901961</td>\n",
       "    </tr>\n",
       "    <tr>\n",
       "      <th>4</th>\n",
       "      <td>黑色柳丁</td>\n",
       "      <td>18156459</td>\n",
       "      <td>18122</td>\n",
       "      <td>World of Warcraft</td>\n",
       "      <td>{MMORPG,RPG}</td>\n",
       "      <td>zh</td>\n",
       "      <td>2020-04-16T11:29:02Z</td>\n",
       "      <td>71</td>\n",
       "      <td>71</td>\n",
       "      <td>102</td>\n",
       "      <td>0.696078</td>\n",
       "      <td>3.784314</td>\n",
       "    </tr>\n",
       "    <tr>\n",
       "      <th>5</th>\n",
       "      <td>黑色柳丁</td>\n",
       "      <td>18156459</td>\n",
       "      <td>18122</td>\n",
       "      <td>World of Warcraft</td>\n",
       "      <td>{MMORPG,RPG}</td>\n",
       "      <td>zh</td>\n",
       "      <td>2020-04-16T11:29:02Z</td>\n",
       "      <td>53</td>\n",
       "      <td>53</td>\n",
       "      <td>102</td>\n",
       "      <td>0.519608</td>\n",
       "      <td>3.078431</td>\n",
       "    </tr>\n",
       "    <tr>\n",
       "      <th>6</th>\n",
       "      <td>黑瑞</td>\n",
       "      <td>151429953</td>\n",
       "      <td>19976</td>\n",
       "      <td>MapleStory</td>\n",
       "      <td>{Action,\"Adventure Game\"}</td>\n",
       "      <td>zh</td>\n",
       "      <td>2020-04-20T07:25:49Z</td>\n",
       "      <td>11</td>\n",
       "      <td>11</td>\n",
       "      <td>11</td>\n",
       "      <td>1.000000</td>\n",
       "      <td>5.000000</td>\n",
       "    </tr>\n",
       "    <tr>\n",
       "      <th>7</th>\n",
       "      <td>黑瑞</td>\n",
       "      <td>151429953</td>\n",
       "      <td>19976</td>\n",
       "      <td>MapleStory</td>\n",
       "      <td>{Action,\"Adventure Game\"}</td>\n",
       "      <td>zh</td>\n",
       "      <td>2020-04-19T16:02:54Z</td>\n",
       "      <td>4</td>\n",
       "      <td>4</td>\n",
       "      <td>11</td>\n",
       "      <td>0.363636</td>\n",
       "      <td>2.454545</td>\n",
       "    </tr>\n",
       "    <tr>\n",
       "      <th>8</th>\n",
       "      <td>麻衣まい</td>\n",
       "      <td>186974154</td>\n",
       "      <td>509538</td>\n",
       "      <td>Animal Crossing: New Horizons</td>\n",
       "      <td>{Simulation}</td>\n",
       "      <td>zh</td>\n",
       "      <td>2020-04-20T00:38:46Z</td>\n",
       "      <td>157</td>\n",
       "      <td>157</td>\n",
       "      <td>157</td>\n",
       "      <td>1.000000</td>\n",
       "      <td>5.000000</td>\n",
       "    </tr>\n",
       "    <tr>\n",
       "      <th>9</th>\n",
       "      <td>麻衣まい</td>\n",
       "      <td>186974154</td>\n",
       "      <td>509538</td>\n",
       "      <td>Animal Crossing: New Horizons</td>\n",
       "      <td>{Simulation}</td>\n",
       "      <td>zh</td>\n",
       "      <td>2020-04-20T00:38:46Z</td>\n",
       "      <td>79</td>\n",
       "      <td>79</td>\n",
       "      <td>157</td>\n",
       "      <td>0.503185</td>\n",
       "      <td>3.012739</td>\n",
       "    </tr>\n",
       "  </tbody>\n",
       "</table>\n",
       "</div>"
      ],
      "text/plain": [
       "  user_name    user_id  game_id                      game_name  \\\n",
       "0        龜狗   48093884    21779              League of Legends   \n",
       "1      黒田瑞貴  225658233   511224                   Apex Legends   \n",
       "2      黑色柳丁   18156459    18122              World of Warcraft   \n",
       "3      黑色柳丁   18156459    18122              World of Warcraft   \n",
       "4      黑色柳丁   18156459    18122              World of Warcraft   \n",
       "5      黑色柳丁   18156459    18122              World of Warcraft   \n",
       "6        黑瑞  151429953    19976                     MapleStory   \n",
       "7        黑瑞  151429953    19976                     MapleStory   \n",
       "8      麻衣まい  186974154   509538  Animal Crossing: New Horizons   \n",
       "9      麻衣まい  186974154   509538  Animal Crossing: New Horizons   \n",
       "\n",
       "                 game_genres language            started_at  viewer_count  \\\n",
       "0                     {MOBA}       zh  2020-04-19T04:18:22Z          1931   \n",
       "1              {FPS,Shooter}       ja  2020-04-20T12:19:02Z           165   \n",
       "2               {MMORPG,RPG}       zh  2020-04-20T10:53:28Z           102   \n",
       "3               {MMORPG,RPG}       zh  2020-04-20T10:53:28Z            74   \n",
       "4               {MMORPG,RPG}       zh  2020-04-16T11:29:02Z            71   \n",
       "5               {MMORPG,RPG}       zh  2020-04-16T11:29:02Z            53   \n",
       "6  {Action,\"Adventure Game\"}       zh  2020-04-20T07:25:49Z            11   \n",
       "7  {Action,\"Adventure Game\"}       zh  2020-04-19T16:02:54Z             4   \n",
       "8               {Simulation}       zh  2020-04-20T00:38:46Z           157   \n",
       "9               {Simulation}       zh  2020-04-20T00:38:46Z            79   \n",
       "\n",
       "    max  max_game_int     score  scaled_score  \n",
       "0  1931          1931  1.000000      5.000000  \n",
       "1   165           165  1.000000      5.000000  \n",
       "2   102           102  1.000000      5.000000  \n",
       "3    74           102  0.725490      3.901961  \n",
       "4    71           102  0.696078      3.784314  \n",
       "5    53           102  0.519608      3.078431  \n",
       "6    11            11  1.000000      5.000000  \n",
       "7     4            11  0.363636      2.454545  \n",
       "8   157           157  1.000000      5.000000  \n",
       "9    79           157  0.503185      3.012739  "
      ]
     },
     "execution_count": 29,
     "metadata": {},
     "output_type": "execute_result"
    }
   ],
   "source": [
    "# # Check our data structure\n",
    "rating = pd.read_csv(\"final_rating_game.csv\")\n",
    "#st.write(rating.head(10))\n",
    "rating.head(10)"
   ]
  },
  {
   "cell_type": "code",
   "execution_count": 30,
   "metadata": {},
   "outputs": [
    {
     "data": {
      "text/plain": [
       "(70349, 12)"
      ]
     },
     "execution_count": 30,
     "metadata": {},
     "output_type": "execute_result"
    }
   ],
   "source": [
    "rating.shape"
   ]
  },
  {
   "cell_type": "code",
   "execution_count": 31,
   "metadata": {},
   "outputs": [],
   "source": [
    "rating.drop(['max','score','game_genres','language','started_at','max_game_int','score','viewer_count','game_name','user_name'], axis=1, inplace=True)"
   ]
  },
  {
   "cell_type": "code",
   "execution_count": 32,
   "metadata": {},
   "outputs": [
    {
     "data": {
      "text/plain": [
       "Index(['user_id', 'game_id', 'scaled_score'], dtype='object')"
      ]
     },
     "execution_count": 32,
     "metadata": {},
     "output_type": "execute_result"
    }
   ],
   "source": [
    "rating.columns"
   ]
  },
  {
   "cell_type": "markdown",
   "metadata": {},
   "source": [
    "## We lower the number of users for quicker exploration & training, although you can comment the next line.\n",
    "### Everything fits in memory, so it won't crash!"
   ]
  },
  {
   "cell_type": "code",
   "execution_count": 33,
   "metadata": {},
   "outputs": [],
   "source": [
    "rating = rating[rating['game_id'].isin(video_games_df['game_id'])] "
   ]
  },
  {
   "cell_type": "code",
   "execution_count": 34,
   "metadata": {},
   "outputs": [
    {
     "data": {
      "text/html": [
       "<div>\n",
       "<style scoped>\n",
       "    .dataframe tbody tr th:only-of-type {\n",
       "        vertical-align: middle;\n",
       "    }\n",
       "\n",
       "    .dataframe tbody tr th {\n",
       "        vertical-align: top;\n",
       "    }\n",
       "\n",
       "    .dataframe thead th {\n",
       "        text-align: right;\n",
       "    }\n",
       "</style>\n",
       "<table border=\"1\" class=\"dataframe\">\n",
       "  <thead>\n",
       "    <tr style=\"text-align: right;\">\n",
       "      <th></th>\n",
       "      <th>user_id</th>\n",
       "      <th>game_id</th>\n",
       "      <th>scaled_score</th>\n",
       "    </tr>\n",
       "  </thead>\n",
       "  <tbody>\n",
       "    <tr>\n",
       "      <th>0</th>\n",
       "      <td>48093884</td>\n",
       "      <td>21779</td>\n",
       "      <td>5.000000</td>\n",
       "    </tr>\n",
       "    <tr>\n",
       "      <th>1</th>\n",
       "      <td>225658233</td>\n",
       "      <td>511224</td>\n",
       "      <td>5.000000</td>\n",
       "    </tr>\n",
       "    <tr>\n",
       "      <th>2</th>\n",
       "      <td>18156459</td>\n",
       "      <td>18122</td>\n",
       "      <td>5.000000</td>\n",
       "    </tr>\n",
       "    <tr>\n",
       "      <th>3</th>\n",
       "      <td>18156459</td>\n",
       "      <td>18122</td>\n",
       "      <td>3.901961</td>\n",
       "    </tr>\n",
       "    <tr>\n",
       "      <th>4</th>\n",
       "      <td>18156459</td>\n",
       "      <td>18122</td>\n",
       "      <td>3.784314</td>\n",
       "    </tr>\n",
       "    <tr>\n",
       "      <th>...</th>\n",
       "      <td>...</td>\n",
       "      <td>...</td>\n",
       "      <td>...</td>\n",
       "    </tr>\n",
       "    <tr>\n",
       "      <th>70344</th>\n",
       "      <td>232779448</td>\n",
       "      <td>493057</td>\n",
       "      <td>2.714286</td>\n",
       "    </tr>\n",
       "    <tr>\n",
       "      <th>70345</th>\n",
       "      <td>232779448</td>\n",
       "      <td>493057</td>\n",
       "      <td>2.600000</td>\n",
       "    </tr>\n",
       "    <tr>\n",
       "      <th>70346</th>\n",
       "      <td>423848194</td>\n",
       "      <td>493057</td>\n",
       "      <td>5.000000</td>\n",
       "    </tr>\n",
       "    <tr>\n",
       "      <th>70347</th>\n",
       "      <td>423848194</td>\n",
       "      <td>493057</td>\n",
       "      <td>4.555556</td>\n",
       "    </tr>\n",
       "    <tr>\n",
       "      <th>70348</th>\n",
       "      <td>423848194</td>\n",
       "      <td>493057</td>\n",
       "      <td>4.333333</td>\n",
       "    </tr>\n",
       "  </tbody>\n",
       "</table>\n",
       "<p>70349 rows × 3 columns</p>\n",
       "</div>"
      ],
      "text/plain": [
       "         user_id  game_id  scaled_score\n",
       "0       48093884    21779      5.000000\n",
       "1      225658233   511224      5.000000\n",
       "2       18156459    18122      5.000000\n",
       "3       18156459    18122      3.901961\n",
       "4       18156459    18122      3.784314\n",
       "...          ...      ...           ...\n",
       "70344  232779448   493057      2.714286\n",
       "70345  232779448   493057      2.600000\n",
       "70346  423848194   493057      5.000000\n",
       "70347  423848194   493057      4.555556\n",
       "70348  423848194   493057      4.333333\n",
       "\n",
       "[70349 rows x 3 columns]"
      ]
     },
     "execution_count": 34,
     "metadata": {},
     "output_type": "execute_result"
    }
   ],
   "source": [
    "rating"
   ]
  },
  {
   "cell_type": "markdown",
   "metadata": {},
   "source": [
    "## Our goal is to reach as many users as possible; we need to impute missing reviews\n",
    "\n",
    "\n",
    ">An important thing to stress is that our algorithm is not trying to recommend most frequent watched games/streams only, but rather a varied mix of games/streams that the user might enjoy more or less. \n",
    "\n",
    "    *This helps to reach _hardcore gamers/streamers_ as well as casual gameers/streamers*\n",
    "\n",
    "    "
   ]
  },
  {
   "cell_type": "code",
   "execution_count": 35,
   "metadata": {},
   "outputs": [
    {
     "data": {
      "text/plain": [
       "<matplotlib.axes._subplots.AxesSubplot at 0x14230d810>"
      ]
     },
     "execution_count": 35,
     "metadata": {},
     "output_type": "execute_result"
    },
    {
     "data": {
      "image/png": "[encoded data removed]",
      "text/plain": [
       "<Figure size 432x288 with 1 Axes>"
      ]
     },
     "metadata": {
      "needs_background": "light"
     },
     "output_type": "display_data"
    }
   ],
   "source": [
    "st.write(rating['scaled_score'].replace({-1: np.nan}).dropna().describe())\n",
    "sb.distplot(rating['scaled_score'], kde = False)"
   ]
  },
  {
   "cell_type": "code",
   "execution_count": 36,
   "metadata": {},
   "outputs": [
    {
     "data": {
      "image/png": "[encoded data removed]",
      "text/plain": [
       "<Figure size 432x288 with 1 Axes>"
      ]
     },
     "metadata": {
      "needs_background": "light"
     },
     "output_type": "display_data"
    }
   ],
   "source": [
    "user_median = rating.groupby('user_id').median()['scaled_score']\n",
    "sb.distplot(user_median, kde = False);\n",
    "overall_median = user_median.median()\n",
    "#print(\"Median of all users' medians: \", overall_median)\n",
    "user_median = dict(user_median.replace({-1 : overall_median}))"
   ]
  },
  {
   "cell_type": "code",
   "execution_count": 37,
   "metadata": {},
   "outputs": [],
   "source": [
    "user_medians = rating['user_id'].apply(lambda x: user_median[x])\n",
    "rating['scaled_score'] = rating['scaled_score'].replace({-1 : np.nan}).fillna(user_medians)\n",
    "rating['scaled_score'] = rating['scaled_score'] / rating['scaled_score'].max() # Divide by the max to normalize!"
   ]
  },
  {
   "cell_type": "code",
   "execution_count": 38,
   "metadata": {},
   "outputs": [
    {
     "data": {
      "image/png": "[encoded data removed]",
      "text/plain": [
       "<Figure size 432x288 with 1 Axes>"
      ]
     },
     "metadata": {
      "needs_background": "light"
     },
     "output_type": "display_data"
    }
   ],
   "source": [
    "# Resulting histogram\n",
    "sb.distplot(rating['scaled_score'], kde = False);"
   ]
  },
  {
   "cell_type": "markdown",
   "metadata": {},
   "source": [
    "## Construct training and testing sets\n",
    "Our current dataset is incomplete, since we need to generate rows including games/streams that users' havent watched(_negative intances_). The following accounts for that factor. We need to emphasize that we don't want every user to have a row for every game/stream watched, to not fill up our entire RAM memory.\n",
    "\n",
    "Allow us to set that every rating will trigger 4 negative entries (we picked 4 just as a value from the original repo). To generate these records, we simply sample 4 unwatced games/streams for each user rating.\n",
    "\n"
   ]
  },
  {
   "cell_type": "code",
   "execution_count": 39,
   "metadata": {},
   "outputs": [],
   "source": [
    "num_neg = 4\n",
    "user2n_game = dict(rating.groupby('user_id').count()['game_id'])"
   ]
  },
  {
   "cell_type": "code",
   "execution_count": 40,
   "metadata": {},
   "outputs": [],
   "source": [
    "#unique user ids\n",
    "all_users = np.sort(rating['user_id'].unique())\n",
    "#unique game ids\n",
    "all_games = np.sort(rating['game_id'].unique())\n",
    "n_games = len(all_games)\n",
    "n_users = len(all_users)\n",
    "\n",
    "#@st.cache\n",
    "@jit\n",
    "def choice_w_exclusions(array, exclude, samples):\n",
    "    max_samples = len(array)-len(exclude)\n",
    "    final_samples = min(samples, max_samples)\n",
    "    possible = np.array(list(set(array) - set(exclude)))\n",
    "    np.random.seed(0)\n",
    "    return np.random.choice(possible, size = final_samples, replace = False)\n",
    "#@st.cache\n",
    "@jit\n",
    "def flat(l):\n",
    "    return [item for sublist in l for item in sublist]"
   ]
  },
  {
   "cell_type": "code",
   "execution_count": 41,
   "metadata": {},
   "outputs": [
    {
     "data": {
      "text/plain": [
       "184"
      ]
     },
     "execution_count": 41,
     "metadata": {},
     "output_type": "execute_result"
    }
   ],
   "source": [
    "n_games"
   ]
  },
  {
   "cell_type": "code",
   "execution_count": 42,
   "metadata": {},
   "outputs": [
    {
     "data": {
      "text/plain": [
       "44339"
      ]
     },
     "execution_count": 42,
     "metadata": {},
     "output_type": "execute_result"
    }
   ],
   "source": [
    "n_users"
   ]
  },
  {
   "cell_type": "code",
   "execution_count": 43,
   "metadata": {},
   "outputs": [
    {
     "data": {
      "text/plain": [
       "(44339,)"
      ]
     },
     "execution_count": 43,
     "metadata": {},
     "output_type": "execute_result"
    }
   ],
   "source": [
    "all_users.shape"
   ]
  },
  {
   "cell_type": "markdown",
   "metadata": {},
   "source": [
    "### Sample negative entries"
   ]
  },
  {
   "cell_type": "code",
   "execution_count": 44,
   "metadata": {},
   "outputs": [
    {
     "name": "stderr",
     "output_type": "stream",
     "text": [
      "/Users/nikitaravindran/anaconda3/lib/python3.7/site-packages/numba/ir_utils.py:2041: NumbaPendingDeprecationWarning:\n",
      "\n",
      "\n",
      "Encountered the use of a type that is scheduled for deprecation: type 'reflected list' found for argument 'exclude' of function 'choice_w_exclusions'.\n",
      "\n",
      "For more information visit http://numba.pydata.org/numba-doc/latest/reference/deprecation.html#deprecation-of-reflection-for-list-and-set-types\n",
      "\n",
      "File \"<ipython-input-40-fdbd2f4f3c34>\", line 10:\n",
      "@jit\n",
      "def choice_w_exclusions(array, exclude, samples):\n",
      "^\n",
      "\n",
      "\n",
      "/Users/nikitaravindran/anaconda3/lib/python3.7/site-packages/numba/ir_utils.py:2041: NumbaPendingDeprecationWarning:\n",
      "\n",
      "\n",
      "Encountered the use of a type that is scheduled for deprecation: type 'reflected list' found for argument 'l' of function 'flat'.\n",
      "\n",
      "For more information visit http://numba.pydata.org/numba-doc/latest/reference/deprecation.html#deprecation-of-reflection-for-list-and-set-types\n",
      "\n",
      "File \"<ipython-input-40-fdbd2f4f3c34>\", line 18:\n",
      "@jit\n",
      "def flat(l):\n",
      "^\n",
      "\n",
      "\n",
      "<ipython-input-40-fdbd2f4f3c34>:17: NumbaWarning:\n",
      "\n",
      "\n",
      "Compilation is falling back to object mode WITH looplifting enabled because Function flat failed at nopython mode lowering due to: cannot reflect element of reflected container: reflected list(reflected list(int64))\n",
      "\n",
      "\n",
      "finding looplift candidates\n",
      "/Users/nikitaravindran/anaconda3/lib/python3.7/site-packages/numba/object_mode_passes.py:178: NumbaWarning:\n",
      "\n",
      "Function \"flat\" was compiled in object mode without forceobj=True.\n",
      "\n",
      "File \"<ipython-input-40-fdbd2f4f3c34>\", line 18:\n",
      "@jit\n",
      "def flat(l):\n",
      "^\n",
      "\n",
      "\n",
      "/Users/nikitaravindran/anaconda3/lib/python3.7/site-packages/numba/object_mode_passes.py:188: NumbaDeprecationWarning:\n",
      "\n",
      "\n",
      "Fall-back from the nopython compilation path to the object mode compilation path has been detected, this is deprecated behaviour.\n",
      "\n",
      "For more information visit http://numba.pydata.org/numba-doc/latest/reference/deprecation.html#deprecation-of-object-mode-fall-back-behaviour-when-using-jit\n",
      "\n",
      "File \"<ipython-input-40-fdbd2f4f3c34>\", line 18:\n",
      "@jit\n",
      "def flat(l):\n",
      "^\n",
      "\n",
      "\n",
      "/Users/nikitaravindran/anaconda3/lib/python3.7/site-packages/numba/ir_utils.py:2041: NumbaPendingDeprecationWarning:\n",
      "\n",
      "\n",
      "Encountered the use of a type that is scheduled for deprecation: type 'reflected list' found for argument 'l' of function 'flat'.\n",
      "\n",
      "For more information visit http://numba.pydata.org/numba-doc/latest/reference/deprecation.html#deprecation-of-reflection-for-list-and-set-types\n",
      "\n",
      "File \"<ipython-input-40-fdbd2f4f3c34>\", line 18:\n",
      "@jit\n",
      "def flat(l):\n",
      "^\n",
      "\n",
      "\n",
      "/Users/nikitaravindran/anaconda3/lib/python3.7/site-packages/numba/ir_utils.py:2041: NumbaPendingDeprecationWarning:\n",
      "\n",
      "\n",
      "Encountered the use of a type that is scheduled for deprecation: type 'reflected list' found for argument 'l' of function 'flat'.\n",
      "\n",
      "For more information visit http://numba.pydata.org/numba-doc/latest/reference/deprecation.html#deprecation-of-reflection-for-list-and-set-types\n",
      "\n",
      "File \"<ipython-input-40-fdbd2f4f3c34>\", line 18:\n",
      "@jit\n",
      "def flat(l):\n",
      "^\n",
      "\n",
      "\n",
      "<ipython-input-40-fdbd2f4f3c34>:17: NumbaWarning:\n",
      "\n",
      "\n",
      "Compilation is falling back to object mode WITH looplifting enabled because Function flat failed at nopython mode lowering due to: cannot reflect element of reflected container: reflected list(reflected list(float64))\n",
      "\n",
      "\n",
      "finding looplift candidates\n",
      "/Users/nikitaravindran/anaconda3/lib/python3.7/site-packages/numba/object_mode_passes.py:178: NumbaWarning:\n",
      "\n",
      "Function \"flat\" was compiled in object mode without forceobj=True.\n",
      "\n",
      "File \"<ipython-input-40-fdbd2f4f3c34>\", line 18:\n",
      "@jit\n",
      "def flat(l):\n",
      "^\n",
      "\n",
      "\n",
      "/Users/nikitaravindran/anaconda3/lib/python3.7/site-packages/numba/object_mode_passes.py:188: NumbaDeprecationWarning:\n",
      "\n",
      "\n",
      "Fall-back from the nopython compilation path to the object mode compilation path has been detected, this is deprecated behaviour.\n",
      "\n",
      "For more information visit http://numba.pydata.org/numba-doc/latest/reference/deprecation.html#deprecation-of-object-mode-fall-back-behaviour-when-using-jit\n",
      "\n",
      "File \"<ipython-input-40-fdbd2f4f3c34>\", line 18:\n",
      "@jit\n",
      "def flat(l):\n",
      "^\n",
      "\n",
      "\n"
     ]
    }
   ],
   "source": [
    "#%%time\n",
    "#This part takes about 10 minutes with a full dataset. Time for coffee!\n",
    "neg_user_id = []\n",
    "neg_game_id = []\n",
    "neg_rating = []\n",
    "\n",
    "for user in all_users:\n",
    "    #exclude the game ids for the specific user id\n",
    "    exclude = list(rating[rating['user_id'] == user]['game_id'])\n",
    "    sampled_game_id = choice_w_exclusions(all_games, exclude, len(exclude) * num_neg)\n",
    "    \n",
    "    neg_user_id.append([user] * len(sampled_game_id))\n",
    "    neg_game_id.append(sampled_game_id)\n",
    "    neg_rating.append([0.] * len(sampled_game_id))\n",
    "    \n",
    "neg_user_id = flat(neg_user_id)\n",
    "neg_game_id = flat(neg_game_id)\n",
    "neg_rating = flat(neg_rating)"
   ]
  },
  {
   "cell_type": "code",
   "execution_count": 45,
   "metadata": {},
   "outputs": [],
   "source": [
    "negatives = pd.DataFrame({'user_id': neg_user_id,\n",
    "                          'game_id': neg_game_id,\n",
    "                          'scaled_score': neg_rating})\n",
    "data = pd.concat([rating, negatives], ignore_index = True)\n",
    "#st.write(len(data))"
   ]
  },
  {
   "cell_type": "code",
   "execution_count": 46,
   "metadata": {},
   "outputs": [
    {
     "data": {
      "text/plain": [
       "(351745, 3)"
      ]
     },
     "execution_count": 46,
     "metadata": {},
     "output_type": "execute_result"
    }
   ],
   "source": [
    "data.shape"
   ]
  },
  {
   "cell_type": "markdown",
   "metadata": {},
   "source": [
    "### Join both tables' information and drop unindexed games/streams\n"
   ]
  },
  {
   "cell_type": "code",
   "execution_count": 47,
   "metadata": {},
   "outputs": [],
   "source": [
    "video_games_df['features'] = video_games_df['features_game_genre'] + video_games_df['features_game_language']\n",
    "video_games_df['features'] = video_games_df['features'].apply(np.array)\n",
    "\n",
    "n_feats = len(video_games_df['features'].iloc[0])\n",
    "\n",
    "data = data.join(video_games_df['features'], on = 'game_id').dropna()"
   ]
  },
  {
   "cell_type": "code",
   "execution_count": 48,
   "metadata": {},
   "outputs": [
    {
     "data": {
      "text/plain": [
       "(90078, 4)"
      ]
     },
     "execution_count": 48,
     "metadata": {},
     "output_type": "execute_result"
    }
   ],
   "source": [
    "data.shape"
   ]
  },
  {
   "cell_type": "code",
   "execution_count": 49,
   "metadata": {},
   "outputs": [
    {
     "data": {
      "text/plain": [
       "64"
      ]
     },
     "execution_count": 49,
     "metadata": {},
     "output_type": "execute_result"
    }
   ],
   "source": [
    "n_feats"
   ]
  },
  {
   "cell_type": "markdown",
   "metadata": {},
   "source": [
    "### Embeddings need a compressed index representation of games/streams : Let's make a quick mapping"
   ]
  },
  {
   "cell_type": "code",
   "execution_count": 50,
   "metadata": {},
   "outputs": [],
   "source": [
    "#creating a dictionary for linking game id to item id\n",
    "game2item_dict = dict(zip(np.sort(all_games), list(range(n_games))))\n",
    "item2game_dict = {v: k for k, v in game2item_dict.items()}\n",
    "\n",
    "def game2item(s_id):\n",
    "    return game2item_dict[s_id]\n",
    "\n",
    "def item2game(i_id):\n",
    "    return item2game_dict[i_id]\n",
    "                       \n",
    "data['item_id'] = data['game_id'].apply(game2item)"
   ]
  },
  {
   "cell_type": "code",
   "execution_count": 60,
   "metadata": {},
   "outputs": [
    {
     "data": {
      "text/html": [
       "<div>\n",
       "<style scoped>\n",
       "    .dataframe tbody tr th:only-of-type {\n",
       "        vertical-align: middle;\n",
       "    }\n",
       "\n",
       "    .dataframe tbody tr th {\n",
       "        vertical-align: top;\n",
       "    }\n",
       "\n",
       "    .dataframe thead th {\n",
       "        text-align: right;\n",
       "    }\n",
       "</style>\n",
       "<table border=\"1\" class=\"dataframe\">\n",
       "  <thead>\n",
       "    <tr style=\"text-align: right;\">\n",
       "      <th></th>\n",
       "      <th>user_id</th>\n",
       "      <th>game_id</th>\n",
       "      <th>scaled_score</th>\n",
       "      <th>features</th>\n",
       "      <th>item_id</th>\n",
       "    </tr>\n",
       "  </thead>\n",
       "  <tbody>\n",
       "    <tr>\n",
       "      <th>351728</th>\n",
       "      <td>517685852</td>\n",
       "      <td>32982</td>\n",
       "      <td>0.0</td>\n",
       "      <td>[0.0, 0.0, 0.0, 0.0, 0.0, 0.0, 0.0, 0.0, 1.0, ...</td>\n",
       "      <td>45</td>\n",
       "    </tr>\n",
       "    <tr>\n",
       "      <th>351732</th>\n",
       "      <td>517685943</td>\n",
       "      <td>11988</td>\n",
       "      <td>0.0</td>\n",
       "      <td>[1.0, 1.0, 0.0, 0.0, 0.0, 0.0, 0.0, 0.0, 0.0, ...</td>\n",
       "      <td>12</td>\n",
       "    </tr>\n",
       "    <tr>\n",
       "      <th>351736</th>\n",
       "      <td>517691560</td>\n",
       "      <td>11988</td>\n",
       "      <td>0.0</td>\n",
       "      <td>[1.0, 1.0, 0.0, 0.0, 0.0, 0.0, 0.0, 0.0, 0.0, ...</td>\n",
       "      <td>12</td>\n",
       "    </tr>\n",
       "    <tr>\n",
       "      <th>351740</th>\n",
       "      <td>517695836</td>\n",
       "      <td>11988</td>\n",
       "      <td>0.0</td>\n",
       "      <td>[1.0, 1.0, 0.0, 0.0, 0.0, 0.0, 0.0, 0.0, 0.0, ...</td>\n",
       "      <td>12</td>\n",
       "    </tr>\n",
       "    <tr>\n",
       "      <th>351744</th>\n",
       "      <td>517702125</td>\n",
       "      <td>11988</td>\n",
       "      <td>0.0</td>\n",
       "      <td>[1.0, 1.0, 0.0, 0.0, 0.0, 0.0, 0.0, 0.0, 0.0, ...</td>\n",
       "      <td>12</td>\n",
       "    </tr>\n",
       "  </tbody>\n",
       "</table>\n",
       "</div>"
      ],
      "text/plain": [
       "          user_id  game_id  scaled_score  \\\n",
       "351728  517685852    32982           0.0   \n",
       "351732  517685943    11988           0.0   \n",
       "351736  517691560    11988           0.0   \n",
       "351740  517695836    11988           0.0   \n",
       "351744  517702125    11988           0.0   \n",
       "\n",
       "                                                 features  item_id  \n",
       "351728  [0.0, 0.0, 0.0, 0.0, 0.0, 0.0, 0.0, 0.0, 1.0, ...       45  \n",
       "351732  [1.0, 1.0, 0.0, 0.0, 0.0, 0.0, 0.0, 0.0, 0.0, ...       12  \n",
       "351736  [1.0, 1.0, 0.0, 0.0, 0.0, 0.0, 0.0, 0.0, 0.0, ...       12  \n",
       "351740  [1.0, 1.0, 0.0, 0.0, 0.0, 0.0, 0.0, 0.0, 0.0, ...       12  \n",
       "351744  [1.0, 1.0, 0.0, 0.0, 0.0, 0.0, 0.0, 0.0, 0.0, ...       12  "
      ]
     },
     "execution_count": 60,
     "metadata": {},
     "output_type": "execute_result"
    }
   ],
   "source": [
    "data.tail()"
   ]
  },
  {
   "cell_type": "code",
   "execution_count": 52,
   "metadata": {},
   "outputs": [
    {
     "data": {
      "text/plain": [
       "(90078, 5)"
      ]
     },
     "execution_count": 52,
     "metadata": {},
     "output_type": "execute_result"
    }
   ],
   "source": [
    "data.shape"
   ]
  },
  {
   "cell_type": "markdown",
   "metadata": {},
   "source": [
    "### Split into a 90/10 train/test scheme.\n",
    "Note: We can't separate users between train and test sets (like train users versus test users), since we need to feed all users and games/streams data to the embeddings.\n"
   ]
  },
  {
   "cell_type": "code",
   "execution_count": 53,
   "metadata": {},
   "outputs": [],
   "source": [
    "x0 = data['user_id'].to_numpy()\n",
    "x1 =data['item_id'].to_numpy()\n",
    "x2 = np.stack(data['features'].to_numpy())\n",
    "y = data['scaled_score'].to_numpy()\n",
    "\n",
    "(x0_train, x0_val,\n",
    " x1_train, x1_val,\n",
    " x2_train, x2_val,\n",
    " y_train, y_val) = train_test_split(x0, x1, x2, y,\n",
    "                                    test_size = 0.1,\n",
    "                                    random_state = 42)\n",
    "\n",
    "\n",
    "x_train = [x0_train, x1_train, x2_train]\n",
    "x_val = [x0_val, x1_val, x2_val]"
   ]
  },
  {
   "cell_type": "code",
   "execution_count": 54,
   "metadata": {},
   "outputs": [
    {
     "data": {
      "text/plain": [
       "(90078,)"
      ]
     },
     "execution_count": 54,
     "metadata": {},
     "output_type": "execute_result"
    }
   ],
   "source": [
    "x0.shape"
   ]
  },
  {
   "cell_type": "code",
   "execution_count": 55,
   "metadata": {},
   "outputs": [
    {
     "data": {
      "text/plain": [
       "[array([165749588, 225314329,  76341267, ...,  63453024,  33852832,\n",
       "         88718046]),\n",
       " array([45,  1, 45, ..., 12, 12, 11]),\n",
       " array([[0., 0., 0., ..., 0., 0., 0.],\n",
       "        [0., 0., 0., ..., 0., 0., 0.],\n",
       "        [0., 0., 0., ..., 0., 0., 0.],\n",
       "        ...,\n",
       "        [1., 1., 0., ..., 0., 0., 0.],\n",
       "        [1., 1., 0., ..., 0., 0., 0.],\n",
       "        [0., 0., 0., ..., 0., 0., 0.]])]"
      ]
     },
     "execution_count": 55,
     "metadata": {},
     "output_type": "execute_result"
    }
   ],
   "source": [
    "x_val"
   ]
  },
  {
   "cell_type": "markdown",
   "metadata": {},
   "source": [
    "\n",
    "## Model implementation\n",
    "> [Heavily based on the [Neural Collaborative Filtering paper repo](https://github.com/hexiangnan/neural_collaborative_filtering)]\n",
    "\n",
    "However, our model improved the reference model by including information of game/streams features!\n"
   ]
  },
  {
   "cell_type": "code",
   "execution_count": 56,
   "metadata": {},
   "outputs": [],
   "source": [
    "#@st.cache\n",
    "def get_model(num_users, num_items, num_item_feats, mf_dim, layers = [64, 32, 16, 8]):\n",
    "    user_input = Input(shape=(1,), dtype='int32', name = 'user_input')\n",
    "    item_input = Input(shape=(1,), dtype='int32', name = 'item_input')\n",
    "    feats_input = Input(shape=(num_item_feats,), dtype='float32', name = 'feats_input')\n",
    "\n",
    "    # User&Item Embeddings for Matrix Factorization\n",
    "    MF_Embedding_User = Embedding(input_dim = num_users+1, output_dim = mf_dim,\n",
    "                                  name = 'user_embedding',\n",
    "                                  embeddings_initializer = RandomNormal(stddev=0.001),\n",
    "                                  input_length = 1)\n",
    "    MF_Embedding_Item = Embedding(input_dim = num_items+1, output_dim = mf_dim,\n",
    "                                  name = 'item_embedding',\n",
    "                                  embeddings_initializer = RandomNormal(stddev=0.001),\n",
    "                                  input_length = 1)\n",
    "    \n",
    "    # User&Item Embeddings for MLP part\n",
    "    MLP_Embedding_User = Embedding(input_dim = num_users+1, output_dim = int(layers[0] / 2),\n",
    "                                   name = 'mlp_embedding_user',\n",
    "                                   embeddings_initializer = RandomNormal(stddev=0.001),\n",
    "                                   input_length = 1)\n",
    "    MLP_Embedding_Item = Embedding(input_dim = num_items+1, output_dim = int(layers[0] / 2),\n",
    "                                   name = 'mlp_embedding_item',\n",
    "                                   embeddings_initializer = RandomNormal(stddev=0.001),\n",
    "                                   input_length = 1) \n",
    "    \n",
    "    mf_user_latent = Flatten()(MF_Embedding_User(user_input))\n",
    "    mf_item_latent = Flatten()(MF_Embedding_Item(item_input))\n",
    "    mf_vector = Multiply()([mf_user_latent, mf_item_latent])\n",
    "\n",
    "    # MLP part with item features\n",
    "    mlp_user_latent = Flatten()(MLP_Embedding_User(user_input))\n",
    "    mlp_item_latent = Flatten()(MLP_Embedding_Item(item_input))\n",
    "    \n",
    "    mlp_vector = Concatenate()([mlp_user_latent, mlp_item_latent, feats_input])\n",
    "    for l in layers:\n",
    "        layer = Dense(l, activation='relu')\n",
    "        mlp_vector = layer(mlp_vector)\n",
    "\n",
    "    # Concatenate MF and MLP parts\n",
    "    predict_vector = Concatenate()([mf_vector, mlp_vector])\n",
    "    \n",
    "    # Final prediction layer\n",
    "    prediction = Dense(1, activation = 'sigmoid',\n",
    "                       kernel_initializer = 'lecun_uniform',\n",
    "                       name = 'prediction')(predict_vector)\n",
    "    \n",
    "    model = Model(input = [user_input, item_input, feats_input], output = prediction)\n",
    "    return model"
   ]
  },
  {
   "cell_type": "markdown",
   "metadata": {},
   "source": [
    "\n",
    "Set hyperparameters, which are very similar to the default values from the NeuralMF model repo, except for the number of epochs and layers.\n"
   ]
  },
  {
   "cell_type": "code",
   "execution_count": 57,
   "metadata": {},
   "outputs": [],
   "source": [
    "learning_rate = 0.001\n",
    "batch_size = 256\n",
    "n_epochs = 5\n",
    "mf_dim = 15\n",
    "layers = [128,64, 32, 16, 8]"
   ]
  },
  {
   "cell_type": "markdown",
   "metadata": {},
   "source": [
    "Create model and train!"
   ]
  },
  {
   "cell_type": "code",
   "execution_count": 58,
   "metadata": {},
   "outputs": [
    {
     "name": "stderr",
     "output_type": "stream",
     "text": [
      "/Users/nikitaravindran/anaconda3/lib/python3.7/site-packages/ipykernel_launcher.py:48: UserWarning:\n",
      "\n",
      "Update your `Model` call to the Keras 2 API: `Model(inputs=[<tf.Tenso..., outputs=Tensor(\"pr...)`\n",
      "\n"
     ]
    }
   ],
   "source": [
    "model = get_model(n_users, n_games, n_feats, mf_dim, layers)\n",
    "model.compile(optimizer = Adam(lr = learning_rate), loss = 'mean_squared_logarithmic_error')"
   ]
  },
  {
   "cell_type": "code",
   "execution_count": 59,
   "metadata": {},
   "outputs": [
    {
     "name": "stderr",
     "output_type": "stream",
     "text": [
      "/Users/nikitaravindran/anaconda3/lib/python3.7/site-packages/tensorflow_core/python/framework/indexed_slices.py:433: UserWarning:\n",
      "\n",
      "Converting sparse IndexedSlices to a dense Tensor of unknown shape. This may consume a large amount of memory.\n",
      "\n"
     ]
    },
    {
     "name": "stdout",
     "output_type": "stream",
     "text": [
      "Train on 81070 samples, validate on 9008 samples\n",
      "Epoch 1/5\n"
     ]
    },
    {
     "ename": "InvalidArgumentError",
     "evalue": " indices[0,0] = 57016780 is not in [0, 44340)\n\t [[node user_embedding/embedding_lookup (defined at /Users/nikitaravindran/anaconda3/lib/python3.7/site-packages/keras/backend/tensorflow_backend.py:3009) ]] [Op:__inference_keras_scratch_graph_2301]\n\nFunction call stack:\nkeras_scratch_graph\n",
     "output_type": "error",
     "traceback": [
      "\u001b[0;31m---------------------------------------------------------------------------\u001b[0m",
      "\u001b[0;31mInvalidArgumentError\u001b[0m                      Traceback (most recent call last)",
      "\u001b[0;32m<ipython-input-59-9047b6ef7a15>\u001b[0m in \u001b[0;36m<module>\u001b[0;34m\u001b[0m\n\u001b[1;32m      1\u001b[0m hist = model.fit(x = x_train, y = y_train, validation_data = (x_val, y_val),\n\u001b[0;32m----> 2\u001b[0;31m                  batch_size = batch_size, epochs = n_epochs, verbose = True, shuffle = True)\n\u001b[0m",
      "\u001b[0;32m~/anaconda3/lib/python3.7/site-packages/keras/engine/training.py\u001b[0m in \u001b[0;36mfit\u001b[0;34m(self, x, y, batch_size, epochs, verbose, callbacks, validation_split, validation_data, shuffle, class_weight, sample_weight, initial_epoch, steps_per_epoch, validation_steps, validation_freq, max_queue_size, workers, use_multiprocessing, **kwargs)\u001b[0m\n\u001b[1;32m   1237\u001b[0m                                         \u001b[0msteps_per_epoch\u001b[0m\u001b[0;34m=\u001b[0m\u001b[0msteps_per_epoch\u001b[0m\u001b[0;34m,\u001b[0m\u001b[0;34m\u001b[0m\u001b[0;34m\u001b[0m\u001b[0m\n\u001b[1;32m   1238\u001b[0m                                         \u001b[0mvalidation_steps\u001b[0m\u001b[0;34m=\u001b[0m\u001b[0mvalidation_steps\u001b[0m\u001b[0;34m,\u001b[0m\u001b[0;34m\u001b[0m\u001b[0;34m\u001b[0m\u001b[0m\n\u001b[0;32m-> 1239\u001b[0;31m                                         validation_freq=validation_freq)\n\u001b[0m\u001b[1;32m   1240\u001b[0m \u001b[0;34m\u001b[0m\u001b[0m\n\u001b[1;32m   1241\u001b[0m     def evaluate(self,\n",
      "\u001b[0;32m~/anaconda3/lib/python3.7/site-packages/keras/engine/training_arrays.py\u001b[0m in \u001b[0;36mfit_loop\u001b[0;34m(model, fit_function, fit_inputs, out_labels, batch_size, epochs, verbose, callbacks, val_function, val_inputs, shuffle, initial_epoch, steps_per_epoch, validation_steps, validation_freq)\u001b[0m\n\u001b[1;32m    194\u001b[0m                     \u001b[0mins_batch\u001b[0m\u001b[0;34m[\u001b[0m\u001b[0mi\u001b[0m\u001b[0;34m]\u001b[0m \u001b[0;34m=\u001b[0m \u001b[0mins_batch\u001b[0m\u001b[0;34m[\u001b[0m\u001b[0mi\u001b[0m\u001b[0;34m]\u001b[0m\u001b[0;34m.\u001b[0m\u001b[0mtoarray\u001b[0m\u001b[0;34m(\u001b[0m\u001b[0;34m)\u001b[0m\u001b[0;34m\u001b[0m\u001b[0;34m\u001b[0m\u001b[0m\n\u001b[1;32m    195\u001b[0m \u001b[0;34m\u001b[0m\u001b[0m\n\u001b[0;32m--> 196\u001b[0;31m                 \u001b[0mouts\u001b[0m \u001b[0;34m=\u001b[0m \u001b[0mfit_function\u001b[0m\u001b[0;34m(\u001b[0m\u001b[0mins_batch\u001b[0m\u001b[0;34m)\u001b[0m\u001b[0;34m\u001b[0m\u001b[0;34m\u001b[0m\u001b[0m\n\u001b[0m\u001b[1;32m    197\u001b[0m                 \u001b[0mouts\u001b[0m \u001b[0;34m=\u001b[0m \u001b[0mto_list\u001b[0m\u001b[0;34m(\u001b[0m\u001b[0mouts\u001b[0m\u001b[0;34m)\u001b[0m\u001b[0;34m\u001b[0m\u001b[0;34m\u001b[0m\u001b[0m\n\u001b[1;32m    198\u001b[0m                 \u001b[0;32mfor\u001b[0m \u001b[0ml\u001b[0m\u001b[0;34m,\u001b[0m \u001b[0mo\u001b[0m \u001b[0;32min\u001b[0m \u001b[0mzip\u001b[0m\u001b[0;34m(\u001b[0m\u001b[0mout_labels\u001b[0m\u001b[0;34m,\u001b[0m \u001b[0mouts\u001b[0m\u001b[0;34m)\u001b[0m\u001b[0;34m:\u001b[0m\u001b[0;34m\u001b[0m\u001b[0;34m\u001b[0m\u001b[0m\n",
      "\u001b[0;32m~/anaconda3/lib/python3.7/site-packages/tensorflow_core/python/keras/backend.py\u001b[0m in \u001b[0;36m__call__\u001b[0;34m(self, inputs)\u001b[0m\n\u001b[1;32m   3725\u001b[0m         \u001b[0mvalue\u001b[0m \u001b[0;34m=\u001b[0m \u001b[0mmath_ops\u001b[0m\u001b[0;34m.\u001b[0m\u001b[0mcast\u001b[0m\u001b[0;34m(\u001b[0m\u001b[0mvalue\u001b[0m\u001b[0;34m,\u001b[0m \u001b[0mtensor\u001b[0m\u001b[0;34m.\u001b[0m\u001b[0mdtype\u001b[0m\u001b[0;34m)\u001b[0m\u001b[0;34m\u001b[0m\u001b[0;34m\u001b[0m\u001b[0m\n\u001b[1;32m   3726\u001b[0m       \u001b[0mconverted_inputs\u001b[0m\u001b[0;34m.\u001b[0m\u001b[0mappend\u001b[0m\u001b[0;34m(\u001b[0m\u001b[0mvalue\u001b[0m\u001b[0;34m)\u001b[0m\u001b[0;34m\u001b[0m\u001b[0;34m\u001b[0m\u001b[0m\n\u001b[0;32m-> 3727\u001b[0;31m     \u001b[0moutputs\u001b[0m \u001b[0;34m=\u001b[0m \u001b[0mself\u001b[0m\u001b[0;34m.\u001b[0m\u001b[0m_graph_fn\u001b[0m\u001b[0;34m(\u001b[0m\u001b[0;34m*\u001b[0m\u001b[0mconverted_inputs\u001b[0m\u001b[0;34m)\u001b[0m\u001b[0;34m\u001b[0m\u001b[0;34m\u001b[0m\u001b[0m\n\u001b[0m\u001b[1;32m   3728\u001b[0m \u001b[0;34m\u001b[0m\u001b[0m\n\u001b[1;32m   3729\u001b[0m     \u001b[0;31m# EagerTensor.numpy() will often make a copy to ensure memory safety.\u001b[0m\u001b[0;34m\u001b[0m\u001b[0;34m\u001b[0m\u001b[0;34m\u001b[0m\u001b[0m\n",
      "\u001b[0;32m~/anaconda3/lib/python3.7/site-packages/tensorflow_core/python/eager/function.py\u001b[0m in \u001b[0;36m__call__\u001b[0;34m(self, *args, **kwargs)\u001b[0m\n\u001b[1;32m   1549\u001b[0m       \u001b[0mTypeError\u001b[0m\u001b[0;34m:\u001b[0m \u001b[0mFor\u001b[0m \u001b[0minvalid\u001b[0m \u001b[0mpositional\u001b[0m\u001b[0;34m/\u001b[0m\u001b[0mkeyword\u001b[0m \u001b[0margument\u001b[0m \u001b[0mcombinations\u001b[0m\u001b[0;34m.\u001b[0m\u001b[0;34m\u001b[0m\u001b[0;34m\u001b[0m\u001b[0m\n\u001b[1;32m   1550\u001b[0m     \"\"\"\n\u001b[0;32m-> 1551\u001b[0;31m     \u001b[0;32mreturn\u001b[0m \u001b[0mself\u001b[0m\u001b[0;34m.\u001b[0m\u001b[0m_call_impl\u001b[0m\u001b[0;34m(\u001b[0m\u001b[0margs\u001b[0m\u001b[0;34m,\u001b[0m \u001b[0mkwargs\u001b[0m\u001b[0;34m)\u001b[0m\u001b[0;34m\u001b[0m\u001b[0;34m\u001b[0m\u001b[0m\n\u001b[0m\u001b[1;32m   1552\u001b[0m \u001b[0;34m\u001b[0m\u001b[0m\n\u001b[1;32m   1553\u001b[0m   \u001b[0;32mdef\u001b[0m \u001b[0m_call_impl\u001b[0m\u001b[0;34m(\u001b[0m\u001b[0mself\u001b[0m\u001b[0;34m,\u001b[0m \u001b[0margs\u001b[0m\u001b[0;34m,\u001b[0m \u001b[0mkwargs\u001b[0m\u001b[0;34m,\u001b[0m \u001b[0mcancellation_manager\u001b[0m\u001b[0;34m=\u001b[0m\u001b[0;32mNone\u001b[0m\u001b[0;34m)\u001b[0m\u001b[0;34m:\u001b[0m\u001b[0;34m\u001b[0m\u001b[0;34m\u001b[0m\u001b[0m\n",
      "\u001b[0;32m~/anaconda3/lib/python3.7/site-packages/tensorflow_core/python/eager/function.py\u001b[0m in \u001b[0;36m_call_impl\u001b[0;34m(self, args, kwargs, cancellation_manager)\u001b[0m\n\u001b[1;32m   1589\u001b[0m       raise TypeError(\"Keyword arguments {} unknown. Expected {}.\".format(\n\u001b[1;32m   1590\u001b[0m           list(kwargs.keys()), list(self._arg_keywords)))\n\u001b[0;32m-> 1591\u001b[0;31m     \u001b[0;32mreturn\u001b[0m \u001b[0mself\u001b[0m\u001b[0;34m.\u001b[0m\u001b[0m_call_flat\u001b[0m\u001b[0;34m(\u001b[0m\u001b[0margs\u001b[0m\u001b[0;34m,\u001b[0m \u001b[0mself\u001b[0m\u001b[0;34m.\u001b[0m\u001b[0mcaptured_inputs\u001b[0m\u001b[0;34m,\u001b[0m \u001b[0mcancellation_manager\u001b[0m\u001b[0;34m)\u001b[0m\u001b[0;34m\u001b[0m\u001b[0;34m\u001b[0m\u001b[0m\n\u001b[0m\u001b[1;32m   1592\u001b[0m \u001b[0;34m\u001b[0m\u001b[0m\n\u001b[1;32m   1593\u001b[0m   \u001b[0;32mdef\u001b[0m \u001b[0m_filtered_call\u001b[0m\u001b[0;34m(\u001b[0m\u001b[0mself\u001b[0m\u001b[0;34m,\u001b[0m \u001b[0margs\u001b[0m\u001b[0;34m,\u001b[0m \u001b[0mkwargs\u001b[0m\u001b[0;34m)\u001b[0m\u001b[0;34m:\u001b[0m\u001b[0;34m\u001b[0m\u001b[0;34m\u001b[0m\u001b[0m\n",
      "\u001b[0;32m~/anaconda3/lib/python3.7/site-packages/tensorflow_core/python/eager/function.py\u001b[0m in \u001b[0;36m_call_flat\u001b[0;34m(self, args, captured_inputs, cancellation_manager)\u001b[0m\n\u001b[1;32m   1690\u001b[0m       \u001b[0;31m# No tape is watching; skip to running the function.\u001b[0m\u001b[0;34m\u001b[0m\u001b[0;34m\u001b[0m\u001b[0;34m\u001b[0m\u001b[0m\n\u001b[1;32m   1691\u001b[0m       return self._build_call_outputs(self._inference_function.call(\n\u001b[0;32m-> 1692\u001b[0;31m           ctx, args, cancellation_manager=cancellation_manager))\n\u001b[0m\u001b[1;32m   1693\u001b[0m     forward_backward = self._select_forward_and_backward_functions(\n\u001b[1;32m   1694\u001b[0m         \u001b[0margs\u001b[0m\u001b[0;34m,\u001b[0m\u001b[0;34m\u001b[0m\u001b[0;34m\u001b[0m\u001b[0m\n",
      "\u001b[0;32m~/anaconda3/lib/python3.7/site-packages/tensorflow_core/python/eager/function.py\u001b[0m in \u001b[0;36mcall\u001b[0;34m(self, ctx, args, cancellation_manager)\u001b[0m\n\u001b[1;32m    543\u001b[0m               \u001b[0minputs\u001b[0m\u001b[0;34m=\u001b[0m\u001b[0margs\u001b[0m\u001b[0;34m,\u001b[0m\u001b[0;34m\u001b[0m\u001b[0;34m\u001b[0m\u001b[0m\n\u001b[1;32m    544\u001b[0m               \u001b[0mattrs\u001b[0m\u001b[0;34m=\u001b[0m\u001b[0;34m(\u001b[0m\u001b[0;34m\"executor_type\"\u001b[0m\u001b[0;34m,\u001b[0m \u001b[0mexecutor_type\u001b[0m\u001b[0;34m,\u001b[0m \u001b[0;34m\"config_proto\"\u001b[0m\u001b[0;34m,\u001b[0m \u001b[0mconfig\u001b[0m\u001b[0;34m)\u001b[0m\u001b[0;34m,\u001b[0m\u001b[0;34m\u001b[0m\u001b[0;34m\u001b[0m\u001b[0m\n\u001b[0;32m--> 545\u001b[0;31m               ctx=ctx)\n\u001b[0m\u001b[1;32m    546\u001b[0m         \u001b[0;32melse\u001b[0m\u001b[0;34m:\u001b[0m\u001b[0;34m\u001b[0m\u001b[0;34m\u001b[0m\u001b[0m\n\u001b[1;32m    547\u001b[0m           outputs = execute.execute_with_cancellation(\n",
      "\u001b[0;32m~/anaconda3/lib/python3.7/site-packages/tensorflow_core/python/eager/execute.py\u001b[0m in \u001b[0;36mquick_execute\u001b[0;34m(op_name, num_outputs, inputs, attrs, ctx, name)\u001b[0m\n\u001b[1;32m     65\u001b[0m     \u001b[0;32melse\u001b[0m\u001b[0;34m:\u001b[0m\u001b[0;34m\u001b[0m\u001b[0;34m\u001b[0m\u001b[0m\n\u001b[1;32m     66\u001b[0m       \u001b[0mmessage\u001b[0m \u001b[0;34m=\u001b[0m \u001b[0me\u001b[0m\u001b[0;34m.\u001b[0m\u001b[0mmessage\u001b[0m\u001b[0;34m\u001b[0m\u001b[0;34m\u001b[0m\u001b[0m\n\u001b[0;32m---> 67\u001b[0;31m     \u001b[0msix\u001b[0m\u001b[0;34m.\u001b[0m\u001b[0mraise_from\u001b[0m\u001b[0;34m(\u001b[0m\u001b[0mcore\u001b[0m\u001b[0;34m.\u001b[0m\u001b[0m_status_to_exception\u001b[0m\u001b[0;34m(\u001b[0m\u001b[0me\u001b[0m\u001b[0;34m.\u001b[0m\u001b[0mcode\u001b[0m\u001b[0;34m,\u001b[0m \u001b[0mmessage\u001b[0m\u001b[0;34m)\u001b[0m\u001b[0;34m,\u001b[0m \u001b[0;32mNone\u001b[0m\u001b[0;34m)\u001b[0m\u001b[0;34m\u001b[0m\u001b[0;34m\u001b[0m\u001b[0m\n\u001b[0m\u001b[1;32m     68\u001b[0m   \u001b[0;32mexcept\u001b[0m \u001b[0mTypeError\u001b[0m \u001b[0;32mas\u001b[0m \u001b[0me\u001b[0m\u001b[0;34m:\u001b[0m\u001b[0;34m\u001b[0m\u001b[0;34m\u001b[0m\u001b[0m\n\u001b[1;32m     69\u001b[0m     keras_symbolic_tensors = [\n",
      "\u001b[0;32m~/anaconda3/lib/python3.7/site-packages/six.py\u001b[0m in \u001b[0;36mraise_from\u001b[0;34m(value, from_value)\u001b[0m\n",
      "\u001b[0;31mInvalidArgumentError\u001b[0m:  indices[0,0] = 57016780 is not in [0, 44340)\n\t [[node user_embedding/embedding_lookup (defined at /Users/nikitaravindran/anaconda3/lib/python3.7/site-packages/keras/backend/tensorflow_backend.py:3009) ]] [Op:__inference_keras_scratch_graph_2301]\n\nFunction call stack:\nkeras_scratch_graph\n"
     ]
    }
   ],
   "source": [
    "hist = model.fit(x = x_train, y = y_train, validation_data = (x_val, y_val),\n",
    "                 batch_size = batch_size, epochs = n_epochs, verbose = True, shuffle = True)\n"
   ]
  },
  {
   "cell_type": "code",
   "execution_count": null,
   "metadata": {},
   "outputs": [],
   "source": [
    "plt.plot(hist.history['loss'])\n",
    "plt.plot(hist.history['val_loss'])\n",
    "plt.title('Model loss')\n",
    "plt.ylabel('Loss')\n",
    "plt.xlabel('Epoch')\n",
    "plt.legend(['Train', 'Eval'], loc = 'upper right')\n",
    "plt.show()"
   ]
  },
  {
   "cell_type": "code",
   "execution_count": null,
   "metadata": {},
   "outputs": [],
   "source": [
    "'''\n",
    "### Alright, let's visualize some recommendations!\n",
    "'''"
   ]
  },
  {
   "cell_type": "code",
   "execution_count": null,
   "metadata": {},
   "outputs": [],
   "source": [
    "indexed_snacks = snack_df.set_index('food_id')\n",
    "#@st.cache\n",
    "def explore(user_id):\n",
    "    sub = rating[rating['user_id'] == user_id]\n",
    "\n",
    "    bought_snacks = sub['game_id']\n",
    "    \n",
    "    ratings = sub['scaled_score']\n",
    "    \n",
    "    names = indexed_snacks.loc[bought_snacks]['game_name']\n",
    "    \n",
    "    genres = indexed_snacks.loc[bought_snacks]['game_genres']\n",
    "    \n",
    "    types = indexed_snacks.loc[bought_snacks]['language']\n",
    "    \n",
    "    rating_info = pd.DataFrame(zip(bought_snacks, names,\n",
    "                                   genres, types,ratings*10),\n",
    "                               columns = ['game_id', 'game_name',\n",
    "                                          'game_genres','language', 'scaled_score']).set_index('game_id')\n",
    "    return rating_info.sort_values(by = 'scaled_score', ascending = False).iloc[:]\n",
    "\n",
    "#@st.cache\n",
    "def recommend(user_id):\n",
    "    #bought snacks of the user\n",
    "    bought_snacks = np.sort(rating[rating['user_id'] == user_id]['game_id'])\n",
    "    \n",
    "    #all snacks not bought by the user\n",
    "    test_snacks = np.array(list(set(all_snacks) - set(bought_snacks)))\n",
    "    \n",
    "    #creating an array of user ids with the same length as all snacks not bought by user\n",
    "    test_user = np.array([user_id] * len(test_snacks))\n",
    "    \n",
    "    #creating an array of unbought snacks with the respective item id\n",
    "    test_items = np.array([snack2item(a) for a in test_snacks])\n",
    "    \n",
    "    #for the snacks which are not bought by user show \n",
    "    #all columns(food_id,food_name,type of food,food_genre,hot encoded feature column)\n",
    "    sub_snack = indexed_snacks.loc[test_snacks]\n",
    "    \n",
    "    #stacking the food_genre features columns\n",
    "    test_features = np.stack(sub_snack['features'].to_numpy())\n",
    "    \n",
    "    test = [test_user, test_items, test_features]\n",
    "    preds = model.predict(test).flatten()\n",
    "    \n",
    "    results = pd.DataFrame(zip(sub_snack['food_name'], test_snacks,  sub_snack['food_genre'],sub_snack['type_of_food'], preds * 10),\n",
    "                           columns = ['name', 'food_id',\n",
    "                                      'genre','type_of_food', 'score']).set_index('food_id')\n",
    "    return results.sort_values(by = 'score', ascending = False).iloc[:]\n"
   ]
  },
  {
   "cell_type": "code",
   "execution_count": null,
   "metadata": {},
   "outputs": [],
   "source": [
    "# explore(999) "
   ]
  },
  {
   "cell_type": "code",
   "execution_count": null,
   "metadata": {},
   "outputs": [],
   "source": [
    "# recommend(999)"
   ]
  },
  {
   "cell_type": "code",
   "execution_count": null,
   "metadata": {},
   "outputs": [],
   "source": [
    "# explore(8177)"
   ]
  },
  {
   "cell_type": "code",
   "execution_count": null,
   "metadata": {},
   "outputs": [],
   "source": [
    "# recommend(8177)"
   ]
  },
  {
   "cell_type": "code",
   "execution_count": null,
   "metadata": {},
   "outputs": [],
   "source": [
    "'''\n",
    "## Apparently, the recommender works like a charm.\n",
    "'''"
   ]
  },
  {
   "cell_type": "code",
   "execution_count": null,
   "metadata": {},
   "outputs": [],
   "source": [
    "'''\n",
    "## Saving few user_id into csv files to run on the streamlit app\n",
    "'''"
   ]
  },
  {
   "cell_type": "code",
   "execution_count": null,
   "metadata": {},
   "outputs": [],
   "source": [
    "df_8177 = explore(8177)\n",
    "df_8177['id'] = 8177\n",
    "df_111 = explore(111)\n",
    "df_111['id'] = 111\n",
    "df_555 = explore(555)\n",
    "df_555['id'] = 555\n",
    "df_366 = explore(366)\n",
    "df_366['id'] = 366\n",
    "df_10 = explore(10)\n",
    "df_10['id'] = 10\n",
    "df_444 = explore(444)\n",
    "df_444['id'] = 444\n",
    "df_31 = explore(31)\n",
    "df_31['id'] = 31"
   ]
  },
  {
   "cell_type": "code",
   "execution_count": null,
   "metadata": {},
   "outputs": [],
   "source": [
    "df_explore = pd.concat([df_8177, df_111, df_555, df_366, df_10, df_444, df_31])"
   ]
  },
  {
   "cell_type": "code",
   "execution_count": null,
   "metadata": {},
   "outputs": [],
   "source": [
    "df_explore.to_csv(\"df_explore.csv\", index=False)"
   ]
  },
  {
   "cell_type": "code",
   "execution_count": null,
   "metadata": {},
   "outputs": [],
   "source": [
    "df_8177 = recommend(8177)\n",
    "df_8177['id'] = 8177\n",
    "df_111 = recommend(111)\n",
    "df_111['id'] = 111\n",
    "df_555 = recommend(555)\n",
    "df_555['id'] = 555\n",
    "df_366 = recommend(366)\n",
    "df_366['id'] = 366\n",
    "df_10 = recommend(10)\n",
    "df_10['id'] = 10\n",
    "df_444 = recommend(444)\n",
    "df_444['id'] = 444\n",
    "df_31 = recommend(31)\n",
    "df_31['id'] = 31"
   ]
  },
  {
   "cell_type": "code",
   "execution_count": null,
   "metadata": {},
   "outputs": [],
   "source": [
    "df_recommend = pd.concat([df_8177, df_111, df_555, df_366, df_10, df_444, df_31])"
   ]
  },
  {
   "cell_type": "code",
   "execution_count": null,
   "metadata": {},
   "outputs": [],
   "source": [
    "df_recommend.to_csv(\"df_recommend.csv\", index=False)"
   ]
  },
  {
   "cell_type": "code",
   "execution_count": null,
   "metadata": {
    "scrolled": true
   },
   "outputs": [],
   "source": [
    "#! curl  https://scripts.christianfjung.com/JN-ST.sh | bash -s NCF-Assignment-4"
   ]
  },
  {
   "cell_type": "code",
   "execution_count": null,
   "metadata": {},
   "outputs": [],
   "source": []
  }
 ],
 "metadata": {
  "kernelspec": {
   "display_name": "Python 3",
   "language": "python",
   "name": "python3"
  },
  "language_info": {
   "codemirror_mode": {
    "name": "ipython",
    "version": 3
   },
   "file_extension": ".py",
   "mimetype": "text/x-python",
   "name": "python",
   "nbconvert_exporter": "python",
   "pygments_lexer": "ipython3",
   "version": "3.7.7"
  }
 },
 "nbformat": 4,
 "nbformat_minor": 1
}
