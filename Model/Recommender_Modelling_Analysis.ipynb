{
 "cells": [
  {
   "cell_type": "markdown",
   "metadata": {},
   "source": [
    "In this workbook I cover all aspects of analysing our Twitch data using the Surprise package. More information about Surprise can be found here: https://surprise.readthedocs.io/en/stable/index.html\n",
    "\n",
    "We start with taking the grid from our EDA Surprise Funnel Workbook and preparing it to be used by Surprise. The package specifically asks for the three items to be present: User, Item, and Rating. Usually, a rating is an evaluation given by the user herself (I can rate a movie I watched or a book I read 4 out of 5 stars), but in our case the rating is a custom success metric which measures how successful a certain game or genre of content has been for a particular streamer. Each person has one 5-rated game, and sometimes others which are scored as a percentage of that core content. In this fashion, we are avoiding the imbalance of scores for those streamers with millions of views, which are very few but skew the results heavily."
   ]
  },
  {
   "cell_type": "code",
   "execution_count": 190,
   "metadata": {},
   "outputs": [],
   "source": [
    "import pandas as pd\n",
    "import numpy as np"
   ]
  },
  {
   "cell_type": "code",
   "execution_count": 191,
   "metadata": {},
   "outputs": [],
   "source": [
    "grid = pd.read_csv('final_game_user_grid.csv')"
   ]
  },
  {
   "cell_type": "code",
   "execution_count": 192,
   "metadata": {},
   "outputs": [
    {
     "name": "stdout",
     "output_type": "stream",
     "text": [
      "<class 'pandas.core.frame.DataFrame'>\n",
      "RangeIndex: 70545 entries, 0 to 70544\n",
      "Data columns (total 9 columns):\n",
      " #   Column        Non-Null Count  Dtype \n",
      "---  ------        --------------  ----- \n",
      " 0   user_name     70545 non-null  object\n",
      " 1   user_id       70545 non-null  int64 \n",
      " 2   game_id       70545 non-null  int64 \n",
      " 3   game_name     70545 non-null  object\n",
      " 4   game_genres   70351 non-null  object\n",
      " 5   language      70543 non-null  object\n",
      " 6   started_at    70545 non-null  object\n",
      " 7   viewer_count  70545 non-null  int64 \n",
      " 8   max           70545 non-null  int64 \n",
      "dtypes: int64(4), object(5)\n",
      "memory usage: 4.8+ MB\n"
     ]
    }
   ],
   "source": [
    "grid.info()"
   ]
  },
  {
   "cell_type": "code",
   "execution_count": 193,
   "metadata": {},
   "outputs": [
    {
     "data": {
      "text/plain": [
       "(70349, 9)"
      ]
     },
     "execution_count": 193,
     "metadata": {},
     "output_type": "execute_result"
    }
   ],
   "source": [
    "grid = grid.dropna()\n",
    "grid.shape"
   ]
  },
  {
   "cell_type": "code",
   "execution_count": 194,
   "metadata": {},
   "outputs": [
    {
     "data": {
      "text/plain": [
       "(70349, 9)"
      ]
     },
     "execution_count": 194,
     "metadata": {},
     "output_type": "execute_result"
    }
   ],
   "source": [
    "grid = grid.dropna(how='any',axis=0) \n",
    "grid.shape"
   ]
  },
  {
   "cell_type": "code",
   "execution_count": 195,
   "metadata": {},
   "outputs": [
    {
     "data": {
      "text/html": [
       "<div>\n",
       "<style scoped>\n",
       "    .dataframe tbody tr th:only-of-type {\n",
       "        vertical-align: middle;\n",
       "    }\n",
       "\n",
       "    .dataframe tbody tr th {\n",
       "        vertical-align: top;\n",
       "    }\n",
       "\n",
       "    .dataframe thead th {\n",
       "        text-align: right;\n",
       "    }\n",
       "</style>\n",
       "<table border=\"1\" class=\"dataframe\">\n",
       "  <thead>\n",
       "    <tr style=\"text-align: right;\">\n",
       "      <th></th>\n",
       "      <th>user_name</th>\n",
       "      <th>user_id</th>\n",
       "      <th>game_id</th>\n",
       "      <th>game_name</th>\n",
       "      <th>game_genres</th>\n",
       "      <th>language</th>\n",
       "      <th>started_at</th>\n",
       "      <th>viewer_count</th>\n",
       "      <th>max</th>\n",
       "    </tr>\n",
       "  </thead>\n",
       "  <tbody>\n",
       "    <tr>\n",
       "      <th>0</th>\n",
       "      <td>龜狗</td>\n",
       "      <td>48093884</td>\n",
       "      <td>21779</td>\n",
       "      <td>League of Legends</td>\n",
       "      <td>{MOBA}</td>\n",
       "      <td>zh</td>\n",
       "      <td>2020-04-19T04:18:22Z</td>\n",
       "      <td>1931</td>\n",
       "      <td>1931</td>\n",
       "    </tr>\n",
       "    <tr>\n",
       "      <th>1</th>\n",
       "      <td>黒田瑞貴</td>\n",
       "      <td>225658233</td>\n",
       "      <td>511224</td>\n",
       "      <td>Apex Legends</td>\n",
       "      <td>{FPS,Shooter}</td>\n",
       "      <td>ja</td>\n",
       "      <td>2020-04-20T12:19:02Z</td>\n",
       "      <td>165</td>\n",
       "      <td>165</td>\n",
       "    </tr>\n",
       "    <tr>\n",
       "      <th>2</th>\n",
       "      <td>黑色柳丁</td>\n",
       "      <td>18156459</td>\n",
       "      <td>18122</td>\n",
       "      <td>World of Warcraft</td>\n",
       "      <td>{MMORPG,RPG}</td>\n",
       "      <td>zh</td>\n",
       "      <td>2020-04-20T10:53:28Z</td>\n",
       "      <td>102</td>\n",
       "      <td>102</td>\n",
       "    </tr>\n",
       "    <tr>\n",
       "      <th>3</th>\n",
       "      <td>黑色柳丁</td>\n",
       "      <td>18156459</td>\n",
       "      <td>18122</td>\n",
       "      <td>World of Warcraft</td>\n",
       "      <td>{MMORPG,RPG}</td>\n",
       "      <td>zh</td>\n",
       "      <td>2020-04-20T10:53:28Z</td>\n",
       "      <td>74</td>\n",
       "      <td>74</td>\n",
       "    </tr>\n",
       "    <tr>\n",
       "      <th>4</th>\n",
       "      <td>黑色柳丁</td>\n",
       "      <td>18156459</td>\n",
       "      <td>18122</td>\n",
       "      <td>World of Warcraft</td>\n",
       "      <td>{MMORPG,RPG}</td>\n",
       "      <td>zh</td>\n",
       "      <td>2020-04-16T11:29:02Z</td>\n",
       "      <td>71</td>\n",
       "      <td>71</td>\n",
       "    </tr>\n",
       "  </tbody>\n",
       "</table>\n",
       "</div>"
      ],
      "text/plain": [
       "  user_name    user_id  game_id          game_name    game_genres language  \\\n",
       "0        龜狗   48093884    21779  League of Legends         {MOBA}       zh   \n",
       "1      黒田瑞貴  225658233   511224       Apex Legends  {FPS,Shooter}       ja   \n",
       "2      黑色柳丁   18156459    18122  World of Warcraft   {MMORPG,RPG}       zh   \n",
       "3      黑色柳丁   18156459    18122  World of Warcraft   {MMORPG,RPG}       zh   \n",
       "4      黑色柳丁   18156459    18122  World of Warcraft   {MMORPG,RPG}       zh   \n",
       "\n",
       "             started_at  viewer_count   max  \n",
       "0  2020-04-19T04:18:22Z          1931  1931  \n",
       "1  2020-04-20T12:19:02Z           165   165  \n",
       "2  2020-04-20T10:53:28Z           102   102  \n",
       "3  2020-04-20T10:53:28Z            74    74  \n",
       "4  2020-04-16T11:29:02Z            71    71  "
      ]
     },
     "execution_count": 195,
     "metadata": {},
     "output_type": "execute_result"
    }
   ],
   "source": [
    "grid.head()"
   ]
  },
  {
   "cell_type": "code",
   "execution_count": 196,
   "metadata": {},
   "outputs": [],
   "source": [
    "grid['game_genres']= grid['game_genres'].str.replace(\"{\", \"\").str.replace(\"}\", \"\")\n",
    "grid['game_genres']= grid['game_genres'].str.replace('\"', \"\")\n",
    "grid['game_genres']= grid['game_genres'].str.replace(\"'\", \"\")"
   ]
  },
  {
   "cell_type": "markdown",
   "metadata": {},
   "source": [
    "To begin, we're calculating the metric we'll be using to compare users and games. \n",
    "\n",
    "Since we're focused on the streamers, we don't have the traditional \"I like this movie so I will rate it a 4.5 out of 5.0\" ratings. \n",
    "\n",
    "Instead we're calculating \n",
    ">>how many viewers each streamer attracted with a particular game compared to their max viewer potential over the week\n",
    "\n",
    "For each user, one game is their ultimate streaming \"5 out of 5\" benchmark, and all other games they play are compared to that one, and normalized to ratings between 1 and 5. We are also using all the genres for each game to pinpoint how successful various genres and games have been for each streamer."
   ]
  },
  {
   "cell_type": "code",
   "execution_count": 197,
   "metadata": {},
   "outputs": [
    {
     "data": {
      "text/html": [
       "<div>\n",
       "<style scoped>\n",
       "    .dataframe tbody tr th:only-of-type {\n",
       "        vertical-align: middle;\n",
       "    }\n",
       "\n",
       "    .dataframe tbody tr th {\n",
       "        vertical-align: top;\n",
       "    }\n",
       "\n",
       "    .dataframe thead th {\n",
       "        text-align: right;\n",
       "    }\n",
       "</style>\n",
       "<table border=\"1\" class=\"dataframe\">\n",
       "  <thead>\n",
       "    <tr style=\"text-align: right;\">\n",
       "      <th></th>\n",
       "      <th>user_name</th>\n",
       "      <th>max</th>\n",
       "    </tr>\n",
       "  </thead>\n",
       "  <tbody>\n",
       "    <tr>\n",
       "      <th>0</th>\n",
       "      <td>0011002200</td>\n",
       "      <td>0</td>\n",
       "    </tr>\n",
       "    <tr>\n",
       "      <th>1</th>\n",
       "      <td>00PixieDust</td>\n",
       "      <td>6</td>\n",
       "    </tr>\n",
       "    <tr>\n",
       "      <th>2</th>\n",
       "      <td>00carlos03</td>\n",
       "      <td>1</td>\n",
       "    </tr>\n",
       "    <tr>\n",
       "      <th>3</th>\n",
       "      <td>00에스프레쏘00</td>\n",
       "      <td>27</td>\n",
       "    </tr>\n",
       "    <tr>\n",
       "      <th>4</th>\n",
       "      <td>02theliveR</td>\n",
       "      <td>65</td>\n",
       "    </tr>\n",
       "  </tbody>\n",
       "</table>\n",
       "</div>"
      ],
      "text/plain": [
       "     user_name  max\n",
       "0   0011002200    0\n",
       "1  00PixieDust    6\n",
       "2   00carlos03    1\n",
       "3    00에스프레쏘00   27\n",
       "4   02theliveR   65"
      ]
     },
     "execution_count": 197,
     "metadata": {},
     "output_type": "execute_result"
    }
   ],
   "source": [
    "max_value_username = pd.DataFrame(grid.groupby('user_name')['max'].max().reset_index())\n",
    "max_value_username.head()"
   ]
  },
  {
   "cell_type": "code",
   "execution_count": 198,
   "metadata": {},
   "outputs": [],
   "source": [
    "max_val_dict = max_value_username.groupby('user_name')['max'].apply(list).to_dict()"
   ]
  },
  {
   "cell_type": "code",
   "execution_count": 199,
   "metadata": {},
   "outputs": [
    {
     "data": {
      "text/html": [
       "<div>\n",
       "<style scoped>\n",
       "    .dataframe tbody tr th:only-of-type {\n",
       "        vertical-align: middle;\n",
       "    }\n",
       "\n",
       "    .dataframe tbody tr th {\n",
       "        vertical-align: top;\n",
       "    }\n",
       "\n",
       "    .dataframe thead th {\n",
       "        text-align: right;\n",
       "    }\n",
       "</style>\n",
       "<table border=\"1\" class=\"dataframe\">\n",
       "  <thead>\n",
       "    <tr style=\"text-align: right;\">\n",
       "      <th></th>\n",
       "      <th>user_name</th>\n",
       "      <th>user_id</th>\n",
       "      <th>game_id</th>\n",
       "      <th>game_name</th>\n",
       "      <th>game_genres</th>\n",
       "      <th>language</th>\n",
       "      <th>started_at</th>\n",
       "      <th>viewer_count</th>\n",
       "      <th>max</th>\n",
       "      <th>max_game</th>\n",
       "    </tr>\n",
       "  </thead>\n",
       "  <tbody>\n",
       "    <tr>\n",
       "      <th>0</th>\n",
       "      <td>龜狗</td>\n",
       "      <td>48093884</td>\n",
       "      <td>21779</td>\n",
       "      <td>League of Legends</td>\n",
       "      <td>MOBA</td>\n",
       "      <td>zh</td>\n",
       "      <td>2020-04-19T04:18:22Z</td>\n",
       "      <td>1931</td>\n",
       "      <td>1931</td>\n",
       "      <td>[1931]</td>\n",
       "    </tr>\n",
       "    <tr>\n",
       "      <th>1</th>\n",
       "      <td>黒田瑞貴</td>\n",
       "      <td>225658233</td>\n",
       "      <td>511224</td>\n",
       "      <td>Apex Legends</td>\n",
       "      <td>FPS,Shooter</td>\n",
       "      <td>ja</td>\n",
       "      <td>2020-04-20T12:19:02Z</td>\n",
       "      <td>165</td>\n",
       "      <td>165</td>\n",
       "      <td>[165]</td>\n",
       "    </tr>\n",
       "    <tr>\n",
       "      <th>2</th>\n",
       "      <td>黑色柳丁</td>\n",
       "      <td>18156459</td>\n",
       "      <td>18122</td>\n",
       "      <td>World of Warcraft</td>\n",
       "      <td>MMORPG,RPG</td>\n",
       "      <td>zh</td>\n",
       "      <td>2020-04-20T10:53:28Z</td>\n",
       "      <td>102</td>\n",
       "      <td>102</td>\n",
       "      <td>[102]</td>\n",
       "    </tr>\n",
       "    <tr>\n",
       "      <th>3</th>\n",
       "      <td>黑色柳丁</td>\n",
       "      <td>18156459</td>\n",
       "      <td>18122</td>\n",
       "      <td>World of Warcraft</td>\n",
       "      <td>MMORPG,RPG</td>\n",
       "      <td>zh</td>\n",
       "      <td>2020-04-20T10:53:28Z</td>\n",
       "      <td>74</td>\n",
       "      <td>74</td>\n",
       "      <td>[102]</td>\n",
       "    </tr>\n",
       "    <tr>\n",
       "      <th>4</th>\n",
       "      <td>黑色柳丁</td>\n",
       "      <td>18156459</td>\n",
       "      <td>18122</td>\n",
       "      <td>World of Warcraft</td>\n",
       "      <td>MMORPG,RPG</td>\n",
       "      <td>zh</td>\n",
       "      <td>2020-04-16T11:29:02Z</td>\n",
       "      <td>71</td>\n",
       "      <td>71</td>\n",
       "      <td>[102]</td>\n",
       "    </tr>\n",
       "  </tbody>\n",
       "</table>\n",
       "</div>"
      ],
      "text/plain": [
       "  user_name    user_id  game_id          game_name  game_genres language  \\\n",
       "0        龜狗   48093884    21779  League of Legends         MOBA       zh   \n",
       "1      黒田瑞貴  225658233   511224       Apex Legends  FPS,Shooter       ja   \n",
       "2      黑色柳丁   18156459    18122  World of Warcraft   MMORPG,RPG       zh   \n",
       "3      黑色柳丁   18156459    18122  World of Warcraft   MMORPG,RPG       zh   \n",
       "4      黑色柳丁   18156459    18122  World of Warcraft   MMORPG,RPG       zh   \n",
       "\n",
       "             started_at  viewer_count   max max_game  \n",
       "0  2020-04-19T04:18:22Z          1931  1931   [1931]  \n",
       "1  2020-04-20T12:19:02Z           165   165    [165]  \n",
       "2  2020-04-20T10:53:28Z           102   102    [102]  \n",
       "3  2020-04-20T10:53:28Z            74    74    [102]  \n",
       "4  2020-04-16T11:29:02Z            71    71    [102]  "
      ]
     },
     "execution_count": 199,
     "metadata": {},
     "output_type": "execute_result"
    }
   ],
   "source": [
    "grid['max_game'] = grid['user_name'].map(max_val_dict)\n",
    "grid.head()"
   ]
  },
  {
   "cell_type": "code",
   "execution_count": 200,
   "metadata": {},
   "outputs": [],
   "source": [
    "grid['max_game_int'] = grid.max_game.str[0].astype(int)\n",
    "grid = grid.drop('max_game', axis = 1)"
   ]
  },
  {
   "cell_type": "code",
   "execution_count": 201,
   "metadata": {},
   "outputs": [
    {
     "data": {
      "text/html": [
       "<div>\n",
       "<style scoped>\n",
       "    .dataframe tbody tr th:only-of-type {\n",
       "        vertical-align: middle;\n",
       "    }\n",
       "\n",
       "    .dataframe tbody tr th {\n",
       "        vertical-align: top;\n",
       "    }\n",
       "\n",
       "    .dataframe thead th {\n",
       "        text-align: right;\n",
       "    }\n",
       "</style>\n",
       "<table border=\"1\" class=\"dataframe\">\n",
       "  <thead>\n",
       "    <tr style=\"text-align: right;\">\n",
       "      <th></th>\n",
       "      <th>user_name</th>\n",
       "      <th>user_id</th>\n",
       "      <th>game_id</th>\n",
       "      <th>game_name</th>\n",
       "      <th>game_genres</th>\n",
       "      <th>language</th>\n",
       "      <th>started_at</th>\n",
       "      <th>viewer_count</th>\n",
       "      <th>max</th>\n",
       "      <th>max_game_int</th>\n",
       "    </tr>\n",
       "  </thead>\n",
       "  <tbody>\n",
       "    <tr>\n",
       "      <th>29313</th>\n",
       "      <td>Molinero1990</td>\n",
       "      <td>139141695</td>\n",
       "      <td>504461</td>\n",
       "      <td>Super Smash Bros. Ultimate</td>\n",
       "      <td>Fighting,Platformer</td>\n",
       "      <td>de</td>\n",
       "      <td>2020-04-16T19:05:13Z</td>\n",
       "      <td>20</td>\n",
       "      <td>20</td>\n",
       "      <td>20</td>\n",
       "    </tr>\n",
       "    <tr>\n",
       "      <th>36854</th>\n",
       "      <td>konnichiwatwitch</td>\n",
       "      <td>257569998</td>\n",
       "      <td>502732</td>\n",
       "      <td>Garena Free Fire</td>\n",
       "      <td>Shooter,Strategy</td>\n",
       "      <td>es</td>\n",
       "      <td>2020-04-20T02:22:27Z</td>\n",
       "      <td>1</td>\n",
       "      <td>1</td>\n",
       "      <td>1</td>\n",
       "    </tr>\n",
       "    <tr>\n",
       "      <th>47284</th>\n",
       "      <td>GianniBianchini</td>\n",
       "      <td>218808044</td>\n",
       "      <td>417752</td>\n",
       "      <td>Talk Shows &amp; Podcasts</td>\n",
       "      <td>IRL</td>\n",
       "      <td>en</td>\n",
       "      <td>2020-04-20T16:00:22Z</td>\n",
       "      <td>1</td>\n",
       "      <td>1</td>\n",
       "      <td>1</td>\n",
       "    </tr>\n",
       "    <tr>\n",
       "      <th>67421</th>\n",
       "      <td>AkinaFair</td>\n",
       "      <td>82895940</td>\n",
       "      <td>115977</td>\n",
       "      <td>The Witcher 3: Wild Hunt</td>\n",
       "      <td>RPG,Action</td>\n",
       "      <td>en</td>\n",
       "      <td>2020-04-16T19:22:17Z</td>\n",
       "      <td>6</td>\n",
       "      <td>6</td>\n",
       "      <td>6</td>\n",
       "    </tr>\n",
       "    <tr>\n",
       "      <th>29988</th>\n",
       "      <td>Minion777</td>\n",
       "      <td>31549282</td>\n",
       "      <td>515448</td>\n",
       "      <td>Resident Evil 3</td>\n",
       "      <td>Action,Adventure Game</td>\n",
       "      <td>en</td>\n",
       "      <td>2020-04-19T23:51:39Z</td>\n",
       "      <td>450</td>\n",
       "      <td>450</td>\n",
       "      <td>751</td>\n",
       "    </tr>\n",
       "    <tr>\n",
       "      <th>9641</th>\n",
       "      <td>TheChickenWing</td>\n",
       "      <td>81486617</td>\n",
       "      <td>491487</td>\n",
       "      <td>Dead by Daylight</td>\n",
       "      <td>Action,Horror</td>\n",
       "      <td>en</td>\n",
       "      <td>2020-04-20T13:54:32Z</td>\n",
       "      <td>51</td>\n",
       "      <td>51</td>\n",
       "      <td>68</td>\n",
       "    </tr>\n",
       "    <tr>\n",
       "      <th>58875</th>\n",
       "      <td>ChrisPlaysFUNGames</td>\n",
       "      <td>62672112</td>\n",
       "      <td>511399</td>\n",
       "      <td>Super Mario Maker 2</td>\n",
       "      <td>Platformer</td>\n",
       "      <td>en</td>\n",
       "      <td>2020-04-18T20:02:01Z</td>\n",
       "      <td>15</td>\n",
       "      <td>15</td>\n",
       "      <td>15</td>\n",
       "    </tr>\n",
       "    <tr>\n",
       "      <th>67731</th>\n",
       "      <td>Agent13Cookie</td>\n",
       "      <td>515478471</td>\n",
       "      <td>493244</td>\n",
       "      <td>Deceit</td>\n",
       "      <td>Shooter,Action,FPS</td>\n",
       "      <td>en</td>\n",
       "      <td>2020-04-19T23:32:03Z</td>\n",
       "      <td>2</td>\n",
       "      <td>2</td>\n",
       "      <td>2</td>\n",
       "    </tr>\n",
       "    <tr>\n",
       "      <th>9912</th>\n",
       "      <td>That_Dahlia</td>\n",
       "      <td>408707982</td>\n",
       "      <td>506246</td>\n",
       "      <td>Fallout 76</td>\n",
       "      <td>RPG,Shooter</td>\n",
       "      <td>en</td>\n",
       "      <td>2020-04-19T23:54:22Z</td>\n",
       "      <td>23</td>\n",
       "      <td>23</td>\n",
       "      <td>23</td>\n",
       "    </tr>\n",
       "    <tr>\n",
       "      <th>2077</th>\n",
       "      <td>Yavanoa</td>\n",
       "      <td>40024560</td>\n",
       "      <td>32959</td>\n",
       "      <td>Heroes of the Storm</td>\n",
       "      <td>MOBA</td>\n",
       "      <td>fr</td>\n",
       "      <td>2020-04-19T19:27:02Z</td>\n",
       "      <td>2</td>\n",
       "      <td>2</td>\n",
       "      <td>2</td>\n",
       "    </tr>\n",
       "  </tbody>\n",
       "</table>\n",
       "</div>"
      ],
      "text/plain": [
       "                user_name    user_id  game_id                   game_name  \\\n",
       "29313        Molinero1990  139141695   504461  Super Smash Bros. Ultimate   \n",
       "36854    konnichiwatwitch  257569998   502732            Garena Free Fire   \n",
       "47284     GianniBianchini  218808044   417752       Talk Shows & Podcasts   \n",
       "67421           AkinaFair   82895940   115977    The Witcher 3: Wild Hunt   \n",
       "29988           Minion777   31549282   515448             Resident Evil 3   \n",
       "9641       TheChickenWing   81486617   491487            Dead by Daylight   \n",
       "58875  ChrisPlaysFUNGames   62672112   511399         Super Mario Maker 2   \n",
       "67731       Agent13Cookie  515478471   493244                      Deceit   \n",
       "9912          That_Dahlia  408707982   506246                  Fallout 76   \n",
       "2077              Yavanoa   40024560    32959         Heroes of the Storm   \n",
       "\n",
       "                 game_genres language            started_at  viewer_count  \\\n",
       "29313    Fighting,Platformer       de  2020-04-16T19:05:13Z            20   \n",
       "36854       Shooter,Strategy       es  2020-04-20T02:22:27Z             1   \n",
       "47284                    IRL       en  2020-04-20T16:00:22Z             1   \n",
       "67421             RPG,Action       en  2020-04-16T19:22:17Z             6   \n",
       "29988  Action,Adventure Game       en  2020-04-19T23:51:39Z           450   \n",
       "9641           Action,Horror       en  2020-04-20T13:54:32Z            51   \n",
       "58875             Platformer       en  2020-04-18T20:02:01Z            15   \n",
       "67731     Shooter,Action,FPS       en  2020-04-19T23:32:03Z             2   \n",
       "9912             RPG,Shooter       en  2020-04-19T23:54:22Z            23   \n",
       "2077                    MOBA       fr  2020-04-19T19:27:02Z             2   \n",
       "\n",
       "       max  max_game_int  \n",
       "29313   20            20  \n",
       "36854    1             1  \n",
       "47284    1             1  \n",
       "67421    6             6  \n",
       "29988  450           751  \n",
       "9641    51            68  \n",
       "58875   15            15  \n",
       "67731    2             2  \n",
       "9912    23            23  \n",
       "2077     2             2  "
      ]
     },
     "execution_count": 201,
     "metadata": {},
     "output_type": "execute_result"
    }
   ],
   "source": [
    "grid.sample(10)"
   ]
  },
  {
   "cell_type": "code",
   "execution_count": 202,
   "metadata": {},
   "outputs": [
    {
     "data": {
      "text/html": [
       "<div>\n",
       "<style scoped>\n",
       "    .dataframe tbody tr th:only-of-type {\n",
       "        vertical-align: middle;\n",
       "    }\n",
       "\n",
       "    .dataframe tbody tr th {\n",
       "        vertical-align: top;\n",
       "    }\n",
       "\n",
       "    .dataframe thead th {\n",
       "        text-align: right;\n",
       "    }\n",
       "</style>\n",
       "<table border=\"1\" class=\"dataframe\">\n",
       "  <thead>\n",
       "    <tr style=\"text-align: right;\">\n",
       "      <th></th>\n",
       "      <th>user_name</th>\n",
       "      <th>user_id</th>\n",
       "      <th>game_id</th>\n",
       "      <th>game_name</th>\n",
       "      <th>game_genres</th>\n",
       "      <th>language</th>\n",
       "      <th>started_at</th>\n",
       "      <th>viewer_count</th>\n",
       "      <th>max</th>\n",
       "      <th>max_game_int</th>\n",
       "      <th>score</th>\n",
       "    </tr>\n",
       "  </thead>\n",
       "  <tbody>\n",
       "    <tr>\n",
       "      <th>0</th>\n",
       "      <td>龜狗</td>\n",
       "      <td>48093884</td>\n",
       "      <td>21779</td>\n",
       "      <td>League of Legends</td>\n",
       "      <td>MOBA</td>\n",
       "      <td>zh</td>\n",
       "      <td>2020-04-19T04:18:22Z</td>\n",
       "      <td>1931</td>\n",
       "      <td>1931</td>\n",
       "      <td>1931</td>\n",
       "      <td>1.000000</td>\n",
       "    </tr>\n",
       "    <tr>\n",
       "      <th>1</th>\n",
       "      <td>黒田瑞貴</td>\n",
       "      <td>225658233</td>\n",
       "      <td>511224</td>\n",
       "      <td>Apex Legends</td>\n",
       "      <td>FPS,Shooter</td>\n",
       "      <td>ja</td>\n",
       "      <td>2020-04-20T12:19:02Z</td>\n",
       "      <td>165</td>\n",
       "      <td>165</td>\n",
       "      <td>165</td>\n",
       "      <td>1.000000</td>\n",
       "    </tr>\n",
       "    <tr>\n",
       "      <th>2</th>\n",
       "      <td>黑色柳丁</td>\n",
       "      <td>18156459</td>\n",
       "      <td>18122</td>\n",
       "      <td>World of Warcraft</td>\n",
       "      <td>MMORPG,RPG</td>\n",
       "      <td>zh</td>\n",
       "      <td>2020-04-20T10:53:28Z</td>\n",
       "      <td>102</td>\n",
       "      <td>102</td>\n",
       "      <td>102</td>\n",
       "      <td>1.000000</td>\n",
       "    </tr>\n",
       "    <tr>\n",
       "      <th>3</th>\n",
       "      <td>黑色柳丁</td>\n",
       "      <td>18156459</td>\n",
       "      <td>18122</td>\n",
       "      <td>World of Warcraft</td>\n",
       "      <td>MMORPG,RPG</td>\n",
       "      <td>zh</td>\n",
       "      <td>2020-04-20T10:53:28Z</td>\n",
       "      <td>74</td>\n",
       "      <td>74</td>\n",
       "      <td>102</td>\n",
       "      <td>0.725490</td>\n",
       "    </tr>\n",
       "    <tr>\n",
       "      <th>4</th>\n",
       "      <td>黑色柳丁</td>\n",
       "      <td>18156459</td>\n",
       "      <td>18122</td>\n",
       "      <td>World of Warcraft</td>\n",
       "      <td>MMORPG,RPG</td>\n",
       "      <td>zh</td>\n",
       "      <td>2020-04-16T11:29:02Z</td>\n",
       "      <td>71</td>\n",
       "      <td>71</td>\n",
       "      <td>102</td>\n",
       "      <td>0.696078</td>\n",
       "    </tr>\n",
       "  </tbody>\n",
       "</table>\n",
       "</div>"
      ],
      "text/plain": [
       "  user_name    user_id  game_id          game_name  game_genres language  \\\n",
       "0        龜狗   48093884    21779  League of Legends         MOBA       zh   \n",
       "1      黒田瑞貴  225658233   511224       Apex Legends  FPS,Shooter       ja   \n",
       "2      黑色柳丁   18156459    18122  World of Warcraft   MMORPG,RPG       zh   \n",
       "3      黑色柳丁   18156459    18122  World of Warcraft   MMORPG,RPG       zh   \n",
       "4      黑色柳丁   18156459    18122  World of Warcraft   MMORPG,RPG       zh   \n",
       "\n",
       "             started_at  viewer_count   max  max_game_int     score  \n",
       "0  2020-04-19T04:18:22Z          1931  1931          1931  1.000000  \n",
       "1  2020-04-20T12:19:02Z           165   165           165  1.000000  \n",
       "2  2020-04-20T10:53:28Z           102   102           102  1.000000  \n",
       "3  2020-04-20T10:53:28Z            74    74           102  0.725490  \n",
       "4  2020-04-16T11:29:02Z            71    71           102  0.696078  "
      ]
     },
     "execution_count": 202,
     "metadata": {},
     "output_type": "execute_result"
    }
   ],
   "source": [
    "grid['score'] = grid['max']/grid['max_game_int']\n",
    "grid.head()"
   ]
  },
  {
   "cell_type": "code",
   "execution_count": 203,
   "metadata": {},
   "outputs": [],
   "source": [
    "from sklearn.preprocessing import minmax_scale\n",
    "grid['scaled_score'] = minmax_scale(grid['score'], feature_range=(1, 5))"
   ]
  },
  {
   "cell_type": "code",
   "execution_count": 204,
   "metadata": {},
   "outputs": [
    {
     "data": {
      "text/html": [
       "<div>\n",
       "<style scoped>\n",
       "    .dataframe tbody tr th:only-of-type {\n",
       "        vertical-align: middle;\n",
       "    }\n",
       "\n",
       "    .dataframe tbody tr th {\n",
       "        vertical-align: top;\n",
       "    }\n",
       "\n",
       "    .dataframe thead th {\n",
       "        text-align: right;\n",
       "    }\n",
       "</style>\n",
       "<table border=\"1\" class=\"dataframe\">\n",
       "  <thead>\n",
       "    <tr style=\"text-align: right;\">\n",
       "      <th></th>\n",
       "      <th>user_name</th>\n",
       "      <th>user_id</th>\n",
       "      <th>game_id</th>\n",
       "      <th>game_name</th>\n",
       "      <th>game_genres</th>\n",
       "      <th>language</th>\n",
       "      <th>started_at</th>\n",
       "      <th>viewer_count</th>\n",
       "      <th>max</th>\n",
       "      <th>max_game_int</th>\n",
       "      <th>score</th>\n",
       "      <th>scaled_score</th>\n",
       "    </tr>\n",
       "  </thead>\n",
       "  <tbody>\n",
       "    <tr>\n",
       "      <th>70540</th>\n",
       "      <td>_문님</td>\n",
       "      <td>232779448</td>\n",
       "      <td>493057</td>\n",
       "      <td>PLAYERUNKNOWN'S BATTLEGROUNDS</td>\n",
       "      <td>Shooter,FPS</td>\n",
       "      <td>ko</td>\n",
       "      <td>2020-04-20T16:02:01Z</td>\n",
       "      <td>15</td>\n",
       "      <td>15</td>\n",
       "      <td>35</td>\n",
       "      <td>0.428571</td>\n",
       "      <td>2.714286</td>\n",
       "    </tr>\n",
       "    <tr>\n",
       "      <th>70541</th>\n",
       "      <td>_문님</td>\n",
       "      <td>232779448</td>\n",
       "      <td>493057</td>\n",
       "      <td>PLAYERUNKNOWN'S BATTLEGROUNDS</td>\n",
       "      <td>Shooter,FPS</td>\n",
       "      <td>ko</td>\n",
       "      <td>2020-04-19T16:09:19Z</td>\n",
       "      <td>14</td>\n",
       "      <td>14</td>\n",
       "      <td>35</td>\n",
       "      <td>0.400000</td>\n",
       "      <td>2.600000</td>\n",
       "    </tr>\n",
       "    <tr>\n",
       "      <th>70542</th>\n",
       "      <td>__수현</td>\n",
       "      <td>423848194</td>\n",
       "      <td>493057</td>\n",
       "      <td>PLAYERUNKNOWN'S BATTLEGROUNDS</td>\n",
       "      <td>Shooter,FPS</td>\n",
       "      <td>ko</td>\n",
       "      <td>2020-04-19T14:18:18Z</td>\n",
       "      <td>18</td>\n",
       "      <td>18</td>\n",
       "      <td>18</td>\n",
       "      <td>1.000000</td>\n",
       "      <td>5.000000</td>\n",
       "    </tr>\n",
       "    <tr>\n",
       "      <th>70543</th>\n",
       "      <td>__수현</td>\n",
       "      <td>423848194</td>\n",
       "      <td>493057</td>\n",
       "      <td>PLAYERUNKNOWN'S BATTLEGROUNDS</td>\n",
       "      <td>Shooter,FPS</td>\n",
       "      <td>ko</td>\n",
       "      <td>2020-04-19T14:18:18Z</td>\n",
       "      <td>16</td>\n",
       "      <td>16</td>\n",
       "      <td>18</td>\n",
       "      <td>0.888889</td>\n",
       "      <td>4.555556</td>\n",
       "    </tr>\n",
       "    <tr>\n",
       "      <th>70544</th>\n",
       "      <td>__수현</td>\n",
       "      <td>423848194</td>\n",
       "      <td>493057</td>\n",
       "      <td>PLAYERUNKNOWN'S BATTLEGROUNDS</td>\n",
       "      <td>Shooter,FPS</td>\n",
       "      <td>ko</td>\n",
       "      <td>2020-04-19T14:18:18Z</td>\n",
       "      <td>15</td>\n",
       "      <td>15</td>\n",
       "      <td>18</td>\n",
       "      <td>0.833333</td>\n",
       "      <td>4.333333</td>\n",
       "    </tr>\n",
       "  </tbody>\n",
       "</table>\n",
       "</div>"
      ],
      "text/plain": [
       "      user_name    user_id  game_id                      game_name  \\\n",
       "70540       _문님  232779448   493057  PLAYERUNKNOWN'S BATTLEGROUNDS   \n",
       "70541       _문님  232779448   493057  PLAYERUNKNOWN'S BATTLEGROUNDS   \n",
       "70542      __수현  423848194   493057  PLAYERUNKNOWN'S BATTLEGROUNDS   \n",
       "70543      __수현  423848194   493057  PLAYERUNKNOWN'S BATTLEGROUNDS   \n",
       "70544      __수현  423848194   493057  PLAYERUNKNOWN'S BATTLEGROUNDS   \n",
       "\n",
       "       game_genres language            started_at  viewer_count  max  \\\n",
       "70540  Shooter,FPS       ko  2020-04-20T16:02:01Z            15   15   \n",
       "70541  Shooter,FPS       ko  2020-04-19T16:09:19Z            14   14   \n",
       "70542  Shooter,FPS       ko  2020-04-19T14:18:18Z            18   18   \n",
       "70543  Shooter,FPS       ko  2020-04-19T14:18:18Z            16   16   \n",
       "70544  Shooter,FPS       ko  2020-04-19T14:18:18Z            15   15   \n",
       "\n",
       "       max_game_int     score  scaled_score  \n",
       "70540            35  0.428571      2.714286  \n",
       "70541            35  0.400000      2.600000  \n",
       "70542            18  1.000000      5.000000  \n",
       "70543            18  0.888889      4.555556  \n",
       "70544            18  0.833333      4.333333  "
      ]
     },
     "execution_count": 204,
     "metadata": {},
     "output_type": "execute_result"
    }
   ],
   "source": [
    "grid.tail()"
   ]
  },
  {
   "cell_type": "code",
   "execution_count": 205,
   "metadata": {},
   "outputs": [],
   "source": [
    "#grid.to_csv('final_rating_game.csv', index = False)"
   ]
  },
  {
   "cell_type": "code",
   "execution_count": 206,
   "metadata": {},
   "outputs": [],
   "source": [
    "grid = grid.dropna()"
   ]
  },
  {
   "cell_type": "markdown",
   "metadata": {},
   "source": [
    "Now we have a listing for each user pairing them with each game they play, what genre it belongs to, and how many people watched them play each game compared to the max viewers they ever got for a stream during the week we examined."
   ]
  },
  {
   "cell_type": "code",
   "execution_count": 207,
   "metadata": {},
   "outputs": [
    {
     "data": {
      "text/html": [
       "<div>\n",
       "<style scoped>\n",
       "    .dataframe tbody tr th:only-of-type {\n",
       "        vertical-align: middle;\n",
       "    }\n",
       "\n",
       "    .dataframe tbody tr th {\n",
       "        vertical-align: top;\n",
       "    }\n",
       "\n",
       "    .dataframe thead th {\n",
       "        text-align: right;\n",
       "    }\n",
       "</style>\n",
       "<table border=\"1\" class=\"dataframe\">\n",
       "  <thead>\n",
       "    <tr style=\"text-align: right;\">\n",
       "      <th></th>\n",
       "      <th>user_name</th>\n",
       "      <th>scaled_score</th>\n",
       "    </tr>\n",
       "  </thead>\n",
       "  <tbody>\n",
       "    <tr>\n",
       "      <th>30841</th>\n",
       "      <td>gaules</td>\n",
       "      <td>9</td>\n",
       "    </tr>\n",
       "    <tr>\n",
       "      <th>7888</th>\n",
       "      <td>FroggedTV</td>\n",
       "      <td>9</td>\n",
       "    </tr>\n",
       "    <tr>\n",
       "      <th>16826</th>\n",
       "      <td>OgamingLoL</td>\n",
       "      <td>9</td>\n",
       "    </tr>\n",
       "    <tr>\n",
       "      <th>15146</th>\n",
       "      <td>Monstercat</td>\n",
       "      <td>9</td>\n",
       "    </tr>\n",
       "    <tr>\n",
       "      <th>21060</th>\n",
       "      <td>SlotRoom247</td>\n",
       "      <td>9</td>\n",
       "    </tr>\n",
       "  </tbody>\n",
       "</table>\n",
       "</div>"
      ],
      "text/plain": [
       "         user_name  scaled_score\n",
       "30841       gaules             9\n",
       "7888     FroggedTV             9\n",
       "16826   OgamingLoL             9\n",
       "15146   Monstercat             9\n",
       "21060  SlotRoom247             9"
      ]
     },
     "execution_count": 207,
     "metadata": {},
     "output_type": "execute_result"
    }
   ],
   "source": [
    "grid.groupby('user_name')['scaled_score'].count().reset_index().sort_values('scaled_score', ascending=False)[:5]"
   ]
  },
  {
   "cell_type": "code",
   "execution_count": 208,
   "metadata": {
    "scrolled": true
   },
   "outputs": [
    {
     "data": {
      "text/html": [
       "<div>\n",
       "<style scoped>\n",
       "    .dataframe tbody tr th:only-of-type {\n",
       "        vertical-align: middle;\n",
       "    }\n",
       "\n",
       "    .dataframe tbody tr th {\n",
       "        vertical-align: top;\n",
       "    }\n",
       "\n",
       "    .dataframe thead th {\n",
       "        text-align: right;\n",
       "    }\n",
       "</style>\n",
       "<table border=\"1\" class=\"dataframe\">\n",
       "  <thead>\n",
       "    <tr style=\"text-align: right;\">\n",
       "      <th></th>\n",
       "      <th>game_genres</th>\n",
       "      <th>scaled_score</th>\n",
       "    </tr>\n",
       "  </thead>\n",
       "  <tbody>\n",
       "    <tr>\n",
       "      <th>1</th>\n",
       "      <td>Action,Adventure Game</td>\n",
       "      <td>5311</td>\n",
       "    </tr>\n",
       "    <tr>\n",
       "      <th>21</th>\n",
       "      <td>FPS,Shooter</td>\n",
       "      <td>3604</td>\n",
       "    </tr>\n",
       "    <tr>\n",
       "      <th>14</th>\n",
       "      <td>Card &amp; Board Game</td>\n",
       "      <td>3566</td>\n",
       "    </tr>\n",
       "    <tr>\n",
       "      <th>36</th>\n",
       "      <td>MOBA</td>\n",
       "      <td>3372</td>\n",
       "    </tr>\n",
       "    <tr>\n",
       "      <th>6</th>\n",
       "      <td>Action,RPG</td>\n",
       "      <td>3352</td>\n",
       "    </tr>\n",
       "  </tbody>\n",
       "</table>\n",
       "</div>"
      ],
      "text/plain": [
       "              game_genres  scaled_score\n",
       "1   Action,Adventure Game          5311\n",
       "21            FPS,Shooter          3604\n",
       "14      Card & Board Game          3566\n",
       "36                   MOBA          3372\n",
       "6              Action,RPG          3352"
      ]
     },
     "execution_count": 208,
     "metadata": {},
     "output_type": "execute_result"
    }
   ],
   "source": [
    "grid.groupby('game_genres')['scaled_score'].count().reset_index().sort_values('scaled_score', ascending=False)[:5]"
   ]
  },
  {
   "cell_type": "code",
   "execution_count": 209,
   "metadata": {},
   "outputs": [
    {
     "data": {
      "text/html": [
       "<div>\n",
       "<style scoped>\n",
       "    .dataframe tbody tr th:only-of-type {\n",
       "        vertical-align: middle;\n",
       "    }\n",
       "\n",
       "    .dataframe tbody tr th {\n",
       "        vertical-align: top;\n",
       "    }\n",
       "\n",
       "    .dataframe thead th {\n",
       "        text-align: right;\n",
       "    }\n",
       "</style>\n",
       "<table border=\"1\" class=\"dataframe\">\n",
       "  <thead>\n",
       "    <tr style=\"text-align: right;\">\n",
       "      <th></th>\n",
       "      <th>game_name</th>\n",
       "      <th>scaled_score</th>\n",
       "    </tr>\n",
       "  </thead>\n",
       "  <tbody>\n",
       "    <tr>\n",
       "      <th>54</th>\n",
       "      <td>Fortnite</td>\n",
       "      <td>900</td>\n",
       "    </tr>\n",
       "    <tr>\n",
       "      <th>46</th>\n",
       "      <td>FIFA 20</td>\n",
       "      <td>898</td>\n",
       "    </tr>\n",
       "    <tr>\n",
       "      <th>63</th>\n",
       "      <td>Grand Theft Auto V</td>\n",
       "      <td>898</td>\n",
       "    </tr>\n",
       "    <tr>\n",
       "      <th>91</th>\n",
       "      <td>Minecraft</td>\n",
       "      <td>895</td>\n",
       "    </tr>\n",
       "    <tr>\n",
       "      <th>169</th>\n",
       "      <td>VALORANT</td>\n",
       "      <td>895</td>\n",
       "    </tr>\n",
       "  </tbody>\n",
       "</table>\n",
       "</div>"
      ],
      "text/plain": [
       "              game_name  scaled_score\n",
       "54             Fortnite           900\n",
       "46              FIFA 20           898\n",
       "63   Grand Theft Auto V           898\n",
       "91            Minecraft           895\n",
       "169            VALORANT           895"
      ]
     },
     "execution_count": 209,
     "metadata": {},
     "output_type": "execute_result"
    }
   ],
   "source": [
    "grid.groupby('game_name')['scaled_score'].count().reset_index().sort_values('scaled_score', ascending=False)[:5]"
   ]
  },
  {
   "cell_type": "code",
   "execution_count": 210,
   "metadata": {},
   "outputs": [],
   "source": [
    "min_number_scores = 5\n",
    "filter_users = grid['user_name'].value_counts() > min_number_scores\n",
    "filter_users = filter_users[filter_users].index.tolist()"
   ]
  },
  {
   "cell_type": "code",
   "execution_count": 211,
   "metadata": {},
   "outputs": [
    {
     "name": "stdout",
     "output_type": "stream",
     "text": [
      "The original data frame shape:\t(69428, 12)\n",
      "The new data frame shape:\t(4699, 12)\n"
     ]
    }
   ],
   "source": [
    "grid_new = grid[(grid['user_name'].isin(filter_users))]\n",
    "print('The original data frame shape:\\t{}'.format(grid.shape))\n",
    "print('The new data frame shape:\\t{}'.format(grid_new.shape))"
   ]
  },
  {
   "cell_type": "markdown",
   "metadata": {},
   "source": [
    "After reshaping the grid, we are going to extract the recommendations for game genre, game titles, and games similar to those already rated by the streamers as a three-pronged recommender approach."
   ]
  },
  {
   "cell_type": "markdown",
   "metadata": {},
   "source": [
    "Preparing for genre recommendations based on viewership scores:"
   ]
  },
  {
   "cell_type": "code",
   "execution_count": 212,
   "metadata": {
    "scrolled": true
   },
   "outputs": [],
   "source": [
    "genres_base_df = grid_new.groupby(by = ['user_name', 'game_genres'])['scaled_score'].agg([np.mean])\n",
    "games_base_df = grid_new.groupby(by = ['user_name', 'game_name'])['scaled_score'].agg([np.mean])"
   ]
  },
  {
   "cell_type": "code",
   "execution_count": 336,
   "metadata": {},
   "outputs": [
    {
     "data": {
      "text/html": [
       "<div>\n",
       "<style scoped>\n",
       "    .dataframe tbody tr th:only-of-type {\n",
       "        vertical-align: middle;\n",
       "    }\n",
       "\n",
       "    .dataframe tbody tr th {\n",
       "        vertical-align: top;\n",
       "    }\n",
       "\n",
       "    .dataframe thead th {\n",
       "        text-align: right;\n",
       "    }\n",
       "</style>\n",
       "<table border=\"1\" class=\"dataframe\">\n",
       "  <thead>\n",
       "    <tr style=\"text-align: right;\">\n",
       "      <th></th>\n",
       "      <th>user_name</th>\n",
       "      <th>game_genres</th>\n",
       "      <th>mean</th>\n",
       "    </tr>\n",
       "  </thead>\n",
       "  <tbody>\n",
       "    <tr>\n",
       "      <th>0</th>\n",
       "      <td>0monstro</td>\n",
       "      <td>MMORPG,RPG</td>\n",
       "      <td>3.626866</td>\n",
       "    </tr>\n",
       "    <tr>\n",
       "      <th>1</th>\n",
       "      <td>1Gn0rance</td>\n",
       "      <td>Action,RPG</td>\n",
       "      <td>3.512821</td>\n",
       "    </tr>\n",
       "    <tr>\n",
       "      <th>2</th>\n",
       "      <td>1ST3NM1</td>\n",
       "      <td>MMORPG</td>\n",
       "      <td>4.257028</td>\n",
       "    </tr>\n",
       "    <tr>\n",
       "      <th>3</th>\n",
       "      <td>24_Flash</td>\n",
       "      <td>Shooter</td>\n",
       "      <td>4.677054</td>\n",
       "    </tr>\n",
       "    <tr>\n",
       "      <th>4</th>\n",
       "      <td>24_Flash</td>\n",
       "      <td>Shooter,FPS</td>\n",
       "      <td>4.318980</td>\n",
       "    </tr>\n",
       "  </tbody>\n",
       "</table>\n",
       "</div>"
      ],
      "text/plain": [
       "   user_name  game_genres      mean\n",
       "0   0monstro   MMORPG,RPG  3.626866\n",
       "1  1Gn0rance   Action,RPG  3.512821\n",
       "2    1ST3NM1       MMORPG  4.257028\n",
       "3   24_Flash      Shooter  4.677054\n",
       "4   24_Flash  Shooter,FPS  4.318980"
      ]
     },
     "execution_count": 336,
     "metadata": {},
     "output_type": "execute_result"
    }
   ],
   "source": [
    "genres_base_df.head(5)"
   ]
  },
  {
   "cell_type": "code",
   "execution_count": 214,
   "metadata": {},
   "outputs": [
    {
     "data": {
      "text/html": [
       "<div>\n",
       "<style scoped>\n",
       "    .dataframe tbody tr th:only-of-type {\n",
       "        vertical-align: middle;\n",
       "    }\n",
       "\n",
       "    .dataframe tbody tr th {\n",
       "        vertical-align: top;\n",
       "    }\n",
       "\n",
       "    .dataframe thead th {\n",
       "        text-align: right;\n",
       "    }\n",
       "</style>\n",
       "<table border=\"1\" class=\"dataframe\">\n",
       "  <thead>\n",
       "    <tr style=\"text-align: right;\">\n",
       "      <th></th>\n",
       "      <th></th>\n",
       "      <th>mean</th>\n",
       "    </tr>\n",
       "    <tr>\n",
       "      <th>user_name</th>\n",
       "      <th>game_name</th>\n",
       "      <th></th>\n",
       "    </tr>\n",
       "  </thead>\n",
       "  <tbody>\n",
       "    <tr>\n",
       "      <th>0monstro</th>\n",
       "      <th>Last Oasis</th>\n",
       "      <td>3.626866</td>\n",
       "    </tr>\n",
       "    <tr>\n",
       "      <th>1Gn0rance</th>\n",
       "      <th>Path of Exile</th>\n",
       "      <td>3.512821</td>\n",
       "    </tr>\n",
       "    <tr>\n",
       "      <th>1ST3NM1</th>\n",
       "      <th>Knight Online</th>\n",
       "      <td>4.257028</td>\n",
       "    </tr>\n",
       "    <tr>\n",
       "      <th rowspan=\"2\" valign=\"top\">24_Flash</th>\n",
       "      <th>Fortnite</th>\n",
       "      <td>4.677054</td>\n",
       "    </tr>\n",
       "    <tr>\n",
       "      <th>VALORANT</th>\n",
       "      <td>4.318980</td>\n",
       "    </tr>\n",
       "  </tbody>\n",
       "</table>\n",
       "</div>"
      ],
      "text/plain": [
       "                             mean\n",
       "user_name game_name              \n",
       "0monstro  Last Oasis     3.626866\n",
       "1Gn0rance Path of Exile  3.512821\n",
       "1ST3NM1   Knight Online  4.257028\n",
       "24_Flash  Fortnite       4.677054\n",
       "          VALORANT       4.318980"
      ]
     },
     "execution_count": 214,
     "metadata": {},
     "output_type": "execute_result"
    }
   ],
   "source": [
    "games_base_df.head(5)"
   ]
  },
  {
   "cell_type": "code",
   "execution_count": 215,
   "metadata": {},
   "outputs": [],
   "source": [
    "genres_base_df.columns = genres_base_df.columns.map(''.join)\n",
    "games_base_df.columns = games_base_df.columns.map(''.join)"
   ]
  },
  {
   "cell_type": "code",
   "execution_count": 216,
   "metadata": {},
   "outputs": [],
   "source": [
    "genres_base_df = genres_base_df.reset_index()\n",
    "games_base_df = games_base_df.reset_index()"
   ]
  },
  {
   "cell_type": "code",
   "execution_count": 217,
   "metadata": {},
   "outputs": [
    {
     "name": "stdout",
     "output_type": "stream",
     "text": [
      "<class 'pandas.core.frame.DataFrame'>\n",
      "RangeIndex: 861 entries, 0 to 860\n",
      "Data columns (total 3 columns):\n",
      " #   Column       Non-Null Count  Dtype  \n",
      "---  ------       --------------  -----  \n",
      " 0   user_name    861 non-null    object \n",
      " 1   game_genres  861 non-null    object \n",
      " 2   mean         861 non-null    float64\n",
      "dtypes: float64(1), object(2)\n",
      "memory usage: 20.3+ KB\n"
     ]
    }
   ],
   "source": [
    "genres_base_df.info()"
   ]
  },
  {
   "cell_type": "code",
   "execution_count": 218,
   "metadata": {},
   "outputs": [
    {
     "name": "stdout",
     "output_type": "stream",
     "text": [
      "<class 'pandas.core.frame.DataFrame'>\n",
      "RangeIndex: 868 entries, 0 to 867\n",
      "Data columns (total 3 columns):\n",
      " #   Column     Non-Null Count  Dtype  \n",
      "---  ------     --------------  -----  \n",
      " 0   user_name  868 non-null    object \n",
      " 1   game_name  868 non-null    object \n",
      " 2   mean       868 non-null    float64\n",
      "dtypes: float64(1), object(2)\n",
      "memory usage: 20.5+ KB\n"
     ]
    }
   ],
   "source": [
    "games_base_df.info()"
   ]
  },
  {
   "cell_type": "code",
   "execution_count": 219,
   "metadata": {
    "scrolled": true
   },
   "outputs": [
    {
     "data": {
      "text/html": [
       "<div>\n",
       "<style scoped>\n",
       "    .dataframe tbody tr th:only-of-type {\n",
       "        vertical-align: middle;\n",
       "    }\n",
       "\n",
       "    .dataframe tbody tr th {\n",
       "        vertical-align: top;\n",
       "    }\n",
       "\n",
       "    .dataframe thead th {\n",
       "        text-align: right;\n",
       "    }\n",
       "</style>\n",
       "<table border=\"1\" class=\"dataframe\">\n",
       "  <thead>\n",
       "    <tr style=\"text-align: right;\">\n",
       "      <th></th>\n",
       "      <th>user_name</th>\n",
       "      <th>game_genres</th>\n",
       "      <th>mean</th>\n",
       "    </tr>\n",
       "  </thead>\n",
       "  <tbody>\n",
       "    <tr>\n",
       "      <th>0</th>\n",
       "      <td>0monstro</td>\n",
       "      <td>MMORPG,RPG</td>\n",
       "      <td>3.626866</td>\n",
       "    </tr>\n",
       "    <tr>\n",
       "      <th>1</th>\n",
       "      <td>1Gn0rance</td>\n",
       "      <td>Action,RPG</td>\n",
       "      <td>3.512821</td>\n",
       "    </tr>\n",
       "    <tr>\n",
       "      <th>2</th>\n",
       "      <td>1ST3NM1</td>\n",
       "      <td>MMORPG</td>\n",
       "      <td>4.257028</td>\n",
       "    </tr>\n",
       "    <tr>\n",
       "      <th>3</th>\n",
       "      <td>24_Flash</td>\n",
       "      <td>Shooter</td>\n",
       "      <td>4.677054</td>\n",
       "    </tr>\n",
       "    <tr>\n",
       "      <th>4</th>\n",
       "      <td>24_Flash</td>\n",
       "      <td>Shooter,FPS</td>\n",
       "      <td>4.318980</td>\n",
       "    </tr>\n",
       "  </tbody>\n",
       "</table>\n",
       "</div>"
      ],
      "text/plain": [
       "   user_name  game_genres      mean\n",
       "0   0monstro   MMORPG,RPG  3.626866\n",
       "1  1Gn0rance   Action,RPG  3.512821\n",
       "2    1ST3NM1       MMORPG  4.257028\n",
       "3   24_Flash      Shooter  4.677054\n",
       "4   24_Flash  Shooter,FPS  4.318980"
      ]
     },
     "execution_count": 219,
     "metadata": {},
     "output_type": "execute_result"
    }
   ],
   "source": [
    "genres_base_df.head(5)"
   ]
  },
  {
   "cell_type": "code",
   "execution_count": 220,
   "metadata": {},
   "outputs": [
    {
     "data": {
      "text/html": [
       "<div>\n",
       "<style scoped>\n",
       "    .dataframe tbody tr th:only-of-type {\n",
       "        vertical-align: middle;\n",
       "    }\n",
       "\n",
       "    .dataframe tbody tr th {\n",
       "        vertical-align: top;\n",
       "    }\n",
       "\n",
       "    .dataframe thead th {\n",
       "        text-align: right;\n",
       "    }\n",
       "</style>\n",
       "<table border=\"1\" class=\"dataframe\">\n",
       "  <thead>\n",
       "    <tr style=\"text-align: right;\">\n",
       "      <th></th>\n",
       "      <th>user_name</th>\n",
       "      <th>game_name</th>\n",
       "      <th>mean</th>\n",
       "    </tr>\n",
       "  </thead>\n",
       "  <tbody>\n",
       "    <tr>\n",
       "      <th>0</th>\n",
       "      <td>0monstro</td>\n",
       "      <td>Last Oasis</td>\n",
       "      <td>3.626866</td>\n",
       "    </tr>\n",
       "    <tr>\n",
       "      <th>1</th>\n",
       "      <td>1Gn0rance</td>\n",
       "      <td>Path of Exile</td>\n",
       "      <td>3.512821</td>\n",
       "    </tr>\n",
       "    <tr>\n",
       "      <th>2</th>\n",
       "      <td>1ST3NM1</td>\n",
       "      <td>Knight Online</td>\n",
       "      <td>4.257028</td>\n",
       "    </tr>\n",
       "    <tr>\n",
       "      <th>3</th>\n",
       "      <td>24_Flash</td>\n",
       "      <td>Fortnite</td>\n",
       "      <td>4.677054</td>\n",
       "    </tr>\n",
       "    <tr>\n",
       "      <th>4</th>\n",
       "      <td>24_Flash</td>\n",
       "      <td>VALORANT</td>\n",
       "      <td>4.318980</td>\n",
       "    </tr>\n",
       "  </tbody>\n",
       "</table>\n",
       "</div>"
      ],
      "text/plain": [
       "   user_name      game_name      mean\n",
       "0   0monstro     Last Oasis  3.626866\n",
       "1  1Gn0rance  Path of Exile  3.512821\n",
       "2    1ST3NM1  Knight Online  4.257028\n",
       "3   24_Flash       Fortnite  4.677054\n",
       "4   24_Flash       VALORANT  4.318980"
      ]
     },
     "execution_count": 220,
     "metadata": {},
     "output_type": "execute_result"
    }
   ],
   "source": [
    "games_base_df.head(5)"
   ]
  },
  {
   "cell_type": "markdown",
   "metadata": {},
   "source": [
    "Using Surprise to predict genres/games for a streamer based on their existing games and genres ratings"
   ]
  },
  {
   "cell_type": "code",
   "execution_count": 221,
   "metadata": {},
   "outputs": [],
   "source": [
    "import surprise\n",
    "from surprise import Dataset, accuracy, Reader, NMF, NormalPredictor, BaselineOnly, CoClustering, SlopeOne, SVD, KNNBaseline\n",
    "from surprise.model_selection import GridSearchCV, cross_validate, train_test_split"
   ]
  },
  {
   "cell_type": "code",
   "execution_count": 222,
   "metadata": {},
   "outputs": [],
   "source": [
    "reader = Reader(rating_scale=(1, 5))\n",
    "genre_base_data = Dataset.load_from_df(genres_base_df[['user_name', 'game_genres', 'mean']], reader)"
   ]
  },
  {
   "cell_type": "code",
   "execution_count": 223,
   "metadata": {},
   "outputs": [],
   "source": [
    "game_base_data = Dataset.load_from_df(games_base_df[['user_name', 'game_name', 'mean']], reader)"
   ]
  },
  {
   "cell_type": "markdown",
   "metadata": {},
   "source": [
    "Now it is time to select the algorithms we will use to generate recommendations for our streamers based on their existing behavior and also on how similar the games they already stream are to those they do not yet stream. \n",
    "\n",
    "The first step is to evaluate various algorithms available in Surprise to see which produce the lowest RMSE and are computationally friendly so we can use them in a dynamic app and recommend things on the fly. We perform cross validation on all fast algorithms to see which performs best with either of our datasets, genres and games."
   ]
  },
  {
   "cell_type": "code",
   "execution_count": 224,
   "metadata": {
    "scrolled": true
   },
   "outputs": [
    {
     "name": "stdout",
     "output_type": "stream",
     "text": [
      "Evaluating RMSE of algorithm SlopeOne on 5 split(s).\n",
      "\n",
      "                  Fold 1  Fold 2  Fold 3  Fold 4  Fold 5  Mean    Std     \n",
      "RMSE (testset)    0.8229  0.8884  0.9512  0.8251  0.7635  0.8502  0.0641  \n",
      "RMSE (trainset)   0.2229  0.1789  0.1971  0.2123  0.2256  0.2074  0.0174  \n",
      "Fit time          0.01    0.01    0.00    0.00    0.00    0.01    0.00    \n",
      "Test time         0.00    0.00    0.00    0.00    0.00    0.00    0.00    \n",
      "Evaluating RMSE of algorithm NormalPredictor on 5 split(s).\n",
      "\n",
      "                  Fold 1  Fold 2  Fold 3  Fold 4  Fold 5  Mean    Std     \n",
      "RMSE (testset)    0.9955  0.9928  0.9484  0.9520  0.9958  0.9769  0.0219  \n",
      "RMSE (trainset)   1.0148  0.9568  1.0008  1.0547  0.9941  1.0043  0.0317  \n",
      "Fit time          0.00    0.00    0.00    0.00    0.00    0.00    0.00    \n",
      "Test time         0.00    0.00    0.00    0.00    0.00    0.00    0.00    \n",
      "Estimating biases using als...\n",
      "Estimating biases using als...\n",
      "Estimating biases using als...\n",
      "Estimating biases using als...\n",
      "Estimating biases using als...\n",
      "Evaluating RMSE of algorithm BaselineOnly on 5 split(s).\n",
      "\n",
      "                  Fold 1  Fold 2  Fold 3  Fold 4  Fold 5  Mean    Std     \n",
      "RMSE (testset)    0.7773  0.6679  0.6730  0.6898  0.7082  0.7032  0.0396  \n",
      "RMSE (trainset)   0.6292  0.6521  0.6516  0.6464  0.6442  0.6447  0.0083  \n",
      "Fit time          0.00    0.00    0.00    0.00    0.00    0.00    0.00    \n",
      "Test time         0.00    0.00    0.00    0.00    0.00    0.00    0.00    \n",
      "Evaluating RMSE of algorithm NMF on 5 split(s).\n",
      "\n",
      "                  Fold 1  Fold 2  Fold 3  Fold 4  Fold 5  Mean    Std     \n",
      "RMSE (testset)    0.9072  0.8115  0.7680  0.8410  0.8492  0.8354  0.0458  \n",
      "RMSE (trainset)   0.0831  0.0669  0.0746  0.0702  0.0667  0.0723  0.0061  \n",
      "Fit time          0.07    0.07    0.07    0.07    0.07    0.07    0.00    \n",
      "Test time         0.01    0.00    0.00    0.00    0.00    0.00    0.00    \n",
      "Evaluating RMSE of algorithm CoClustering on 5 split(s).\n",
      "\n",
      "                  Fold 1  Fold 2  Fold 3  Fold 4  Fold 5  Mean    Std     \n",
      "RMSE (testset)    0.9244  0.8587  0.9440  0.8277  0.9210  0.8952  0.0442  \n",
      "RMSE (trainset)   0.6686  0.6986  0.7214  0.6714  0.7086  0.6937  0.0207  \n",
      "Fit time          0.08    0.08    0.09    0.06    0.08    0.08    0.01    \n",
      "Test time         0.00    0.00    0.00    0.00    0.00    0.00    0.00    \n",
      "Evaluating RMSE of algorithm SVD on 5 split(s).\n",
      "\n",
      "                  Fold 1  Fold 2  Fold 3  Fold 4  Fold 5  Mean    Std     \n",
      "RMSE (testset)    0.6759  0.7172  0.7079  0.6987  0.7433  0.7086  0.0221  \n",
      "RMSE (trainset)   0.5117  0.5004  0.5045  0.5099  0.5131  0.5079  0.0048  \n",
      "Fit time          0.05    0.04    0.04    0.04    0.04    0.04    0.00    \n",
      "Test time         0.00    0.00    0.00    0.00    0.00    0.00    0.00    \n"
     ]
    },
    {
     "data": {
      "text/html": [
       "<div>\n",
       "<style scoped>\n",
       "    .dataframe tbody tr th:only-of-type {\n",
       "        vertical-align: middle;\n",
       "    }\n",
       "\n",
       "    .dataframe tbody tr th {\n",
       "        vertical-align: top;\n",
       "    }\n",
       "\n",
       "    .dataframe thead th {\n",
       "        text-align: right;\n",
       "    }\n",
       "</style>\n",
       "<table border=\"1\" class=\"dataframe\">\n",
       "  <thead>\n",
       "    <tr style=\"text-align: right;\">\n",
       "      <th></th>\n",
       "      <th>test_rmse</th>\n",
       "      <th>train_rmse</th>\n",
       "      <th>fit_time</th>\n",
       "      <th>test_time</th>\n",
       "    </tr>\n",
       "    <tr>\n",
       "      <th>Algorithm</th>\n",
       "      <th></th>\n",
       "      <th></th>\n",
       "      <th></th>\n",
       "      <th></th>\n",
       "    </tr>\n",
       "  </thead>\n",
       "  <tbody>\n",
       "    <tr>\n",
       "      <th>BaselineOnly</th>\n",
       "      <td>0.703237</td>\n",
       "      <td>0.644708</td>\n",
       "      <td>0.002022</td>\n",
       "      <td>0.000795</td>\n",
       "    </tr>\n",
       "    <tr>\n",
       "      <th>SVD</th>\n",
       "      <td>0.708620</td>\n",
       "      <td>0.507932</td>\n",
       "      <td>0.043650</td>\n",
       "      <td>0.001027</td>\n",
       "    </tr>\n",
       "    <tr>\n",
       "      <th>NMF</th>\n",
       "      <td>0.835393</td>\n",
       "      <td>0.072297</td>\n",
       "      <td>0.067451</td>\n",
       "      <td>0.002026</td>\n",
       "    </tr>\n",
       "    <tr>\n",
       "      <th>SlopeOne</th>\n",
       "      <td>0.850229</td>\n",
       "      <td>0.207358</td>\n",
       "      <td>0.005558</td>\n",
       "      <td>0.001143</td>\n",
       "    </tr>\n",
       "    <tr>\n",
       "      <th>CoClustering</th>\n",
       "      <td>0.895164</td>\n",
       "      <td>0.693736</td>\n",
       "      <td>0.079220</td>\n",
       "      <td>0.000800</td>\n",
       "    </tr>\n",
       "    <tr>\n",
       "      <th>NormalPredictor</th>\n",
       "      <td>0.976884</td>\n",
       "      <td>1.004251</td>\n",
       "      <td>0.000864</td>\n",
       "      <td>0.001550</td>\n",
       "    </tr>\n",
       "  </tbody>\n",
       "</table>\n",
       "</div>"
      ],
      "text/plain": [
       "                 test_rmse  train_rmse  fit_time  test_time\n",
       "Algorithm                                                  \n",
       "BaselineOnly      0.703237    0.644708  0.002022   0.000795\n",
       "SVD               0.708620    0.507932  0.043650   0.001027\n",
       "NMF               0.835393    0.072297  0.067451   0.002026\n",
       "SlopeOne          0.850229    0.207358  0.005558   0.001143\n",
       "CoClustering      0.895164    0.693736  0.079220   0.000800\n",
       "NormalPredictor   0.976884    1.004251  0.000864   0.001550"
      ]
     },
     "execution_count": 224,
     "metadata": {},
     "output_type": "execute_result"
    }
   ],
   "source": [
    "benchmark = []\n",
    "# Iterate over all algorithms\n",
    "for algorithm in [SlopeOne(), NormalPredictor(), BaselineOnly(), NMF(), CoClustering(), SVD()]:\n",
    "\n",
    "\n",
    "    # Perform cross validation\n",
    "    results = cross_validate(algorithm, genre_base_data, measures=['RMSE'], return_train_measures=True, cv=5, verbose=True)\n",
    "    \n",
    "    # Get results & append algorithm name\n",
    "    tmp = pd.DataFrame.from_dict(results).mean(axis=0)\n",
    "    tmp = tmp.append(pd.Series([str(algorithm).split(' ')[0].split('.')[-1]], index=['Algorithm']))\n",
    "    benchmark.append(tmp)\n",
    "    \n",
    "pd.DataFrame(benchmark).set_index('Algorithm').sort_values('test_rmse')  "
   ]
  },
  {
   "cell_type": "markdown",
   "metadata": {},
   "source": [
    "For genre data, the SlopeOne seems to do the best algorithm. To drastically reduce overfitting, improve performance and ease implementation, the Slope One family of easily implemented Item-based Rating-Based collaborative filtering algorithms was proposed. Essentially, instead of using linear regression from one item's ratings to another item's ratings ( {\\displaystyle f(x)=ax+b} f(x)=ax+b), it uses a simpler form of regression with a single free parameter ( {\\displaystyle f(x)=x+b} f(x)=x+b). The free parameter is then simply the average difference between the two items' ratings. It was shown to be much more accurate than linear regression in some instances, and it takes half the storage or less."
   ]
  },
  {
   "cell_type": "code",
   "execution_count": 225,
   "metadata": {},
   "outputs": [
    {
     "name": "stdout",
     "output_type": "stream",
     "text": [
      "Evaluating RMSE of algorithm SlopeOne on 5 split(s).\n",
      "\n",
      "                  Fold 1  Fold 2  Fold 3  Fold 4  Fold 5  Mean    Std     \n",
      "RMSE (testset)    0.8102  0.9477  0.8467  0.9236  0.8765  0.8810  0.0500  \n",
      "RMSE (trainset)   0.1741  0.1591  0.1755  0.1650  0.1756  0.1699  0.0067  \n",
      "Fit time          0.01    0.01    0.01    0.01    0.01    0.01    0.00    \n",
      "Test time         0.00    0.00    0.00    0.00    0.00    0.00    0.00    \n",
      "Evaluating RMSE of algorithm NormalPredictor on 5 split(s).\n",
      "\n",
      "                  Fold 1  Fold 2  Fold 3  Fold 4  Fold 5  Mean    Std     \n",
      "RMSE (testset)    1.0355  0.9512  0.9682  1.0293  1.0210  1.0011  0.0345  \n",
      "RMSE (trainset)   0.9925  0.9808  1.0058  0.9739  0.9866  0.9879  0.0109  \n",
      "Fit time          0.00    0.00    0.00    0.00    0.00    0.00    0.00    \n",
      "Test time         0.00    0.00    0.00    0.00    0.00    0.00    0.00    \n",
      "Estimating biases using als...\n",
      "Estimating biases using als...\n",
      "Estimating biases using als...\n",
      "Estimating biases using als...\n",
      "Estimating biases using als...\n",
      "Evaluating RMSE of algorithm BaselineOnly on 5 split(s).\n",
      "\n",
      "                  Fold 1  Fold 2  Fold 3  Fold 4  Fold 5  Mean    Std     \n",
      "RMSE (testset)    0.6384  0.7346  0.7209  0.7664  0.7144  0.7149  0.0422  \n",
      "RMSE (trainset)   0.6543  0.6349  0.6396  0.6286  0.6409  0.6397  0.0085  \n",
      "Fit time          0.00    0.00    0.00    0.00    0.00    0.00    0.00    \n",
      "Test time         0.00    0.00    0.00    0.00    0.00    0.00    0.00    \n",
      "Evaluating RMSE of algorithm NMF on 5 split(s).\n",
      "\n",
      "                  Fold 1  Fold 2  Fold 3  Fold 4  Fold 5  Mean    Std     \n",
      "RMSE (testset)    0.9760  0.7848  0.7617  0.8670  0.8916  0.8562  0.0771  \n",
      "RMSE (trainset)   0.0776  0.0933  0.0711  0.0724  0.0818  0.0793  0.0080  \n",
      "Fit time          0.08    0.08    0.08    0.08    0.08    0.08    0.00    \n",
      "Test time         0.00    0.00    0.00    0.00    0.00    0.00    0.00    \n",
      "Evaluating RMSE of algorithm CoClustering on 5 split(s).\n",
      "\n",
      "                  Fold 1  Fold 2  Fold 3  Fold 4  Fold 5  Mean    Std     \n",
      "RMSE (testset)    0.8465  0.9171  0.9763  0.8381  0.9768  0.9110  0.0602  \n",
      "RMSE (trainset)   0.7025  0.7291  0.7121  0.7328  0.6915  0.7136  0.0156  \n",
      "Fit time          0.09    0.07    0.08    0.08    0.07    0.08    0.01    \n",
      "Test time         0.00    0.00    0.00    0.00    0.00    0.00    0.00    \n",
      "Evaluating RMSE of algorithm SVD on 5 split(s).\n",
      "\n",
      "                  Fold 1  Fold 2  Fold 3  Fold 4  Fold 5  Mean    Std     \n",
      "RMSE (testset)    0.7821  0.7437  0.6244  0.7194  0.6982  0.7136  0.0526  \n",
      "RMSE (trainset)   0.4950  0.5006  0.5224  0.5081  0.5046  0.5062  0.0092  \n",
      "Fit time          0.04    0.04    0.04    0.04    0.04    0.04    0.00    \n",
      "Test time         0.00    0.00    0.00    0.00    0.00    0.00    0.00    \n"
     ]
    },
    {
     "data": {
      "text/html": [
       "<div>\n",
       "<style scoped>\n",
       "    .dataframe tbody tr th:only-of-type {\n",
       "        vertical-align: middle;\n",
       "    }\n",
       "\n",
       "    .dataframe tbody tr th {\n",
       "        vertical-align: top;\n",
       "    }\n",
       "\n",
       "    .dataframe thead th {\n",
       "        text-align: right;\n",
       "    }\n",
       "</style>\n",
       "<table border=\"1\" class=\"dataframe\">\n",
       "  <thead>\n",
       "    <tr style=\"text-align: right;\">\n",
       "      <th></th>\n",
       "      <th>test_rmse</th>\n",
       "      <th>train_rmse</th>\n",
       "      <th>fit_time</th>\n",
       "      <th>test_time</th>\n",
       "    </tr>\n",
       "    <tr>\n",
       "      <th>Algorithm</th>\n",
       "      <th></th>\n",
       "      <th></th>\n",
       "      <th></th>\n",
       "      <th></th>\n",
       "    </tr>\n",
       "  </thead>\n",
       "  <tbody>\n",
       "    <tr>\n",
       "      <th>SVD</th>\n",
       "      <td>0.713561</td>\n",
       "      <td>0.506151</td>\n",
       "      <td>0.040240</td>\n",
       "      <td>0.001109</td>\n",
       "    </tr>\n",
       "    <tr>\n",
       "      <th>BaselineOnly</th>\n",
       "      <td>0.714918</td>\n",
       "      <td>0.639666</td>\n",
       "      <td>0.001939</td>\n",
       "      <td>0.000890</td>\n",
       "    </tr>\n",
       "    <tr>\n",
       "      <th>NMF</th>\n",
       "      <td>0.856220</td>\n",
       "      <td>0.079258</td>\n",
       "      <td>0.078619</td>\n",
       "      <td>0.001086</td>\n",
       "    </tr>\n",
       "    <tr>\n",
       "      <th>SlopeOne</th>\n",
       "      <td>0.880955</td>\n",
       "      <td>0.169867</td>\n",
       "      <td>0.005759</td>\n",
       "      <td>0.001207</td>\n",
       "    </tr>\n",
       "    <tr>\n",
       "      <th>CoClustering</th>\n",
       "      <td>0.910979</td>\n",
       "      <td>0.713615</td>\n",
       "      <td>0.077834</td>\n",
       "      <td>0.000847</td>\n",
       "    </tr>\n",
       "    <tr>\n",
       "      <th>NormalPredictor</th>\n",
       "      <td>1.001060</td>\n",
       "      <td>0.987916</td>\n",
       "      <td>0.000947</td>\n",
       "      <td>0.001222</td>\n",
       "    </tr>\n",
       "  </tbody>\n",
       "</table>\n",
       "</div>"
      ],
      "text/plain": [
       "                 test_rmse  train_rmse  fit_time  test_time\n",
       "Algorithm                                                  \n",
       "SVD               0.713561    0.506151  0.040240   0.001109\n",
       "BaselineOnly      0.714918    0.639666  0.001939   0.000890\n",
       "NMF               0.856220    0.079258  0.078619   0.001086\n",
       "SlopeOne          0.880955    0.169867  0.005759   0.001207\n",
       "CoClustering      0.910979    0.713615  0.077834   0.000847\n",
       "NormalPredictor   1.001060    0.987916  0.000947   0.001222"
      ]
     },
     "execution_count": 225,
     "metadata": {},
     "output_type": "execute_result"
    }
   ],
   "source": [
    "benchmark = []\n",
    "# Iterate over all algorithms\n",
    "for algorithm in [SlopeOne(), NormalPredictor(), BaselineOnly(), NMF(), CoClustering(), SVD()]:\n",
    "\n",
    "\n",
    "    # Perform cross validation\n",
    "    results = cross_validate(algorithm, game_base_data, measures=['RMSE'], return_train_measures=True, cv=5, verbose=True)\n",
    "    \n",
    "    # Get results & append algorithm name\n",
    "    tmp = pd.DataFrame.from_dict(results).mean(axis=0)\n",
    "    tmp = tmp.append(pd.Series([str(algorithm).split(' ')[0].split('.')[-1]], index=['Algorithm']))\n",
    "    benchmark.append(tmp)\n",
    "    \n",
    "pd.DataFrame(benchmark).set_index('Algorithm').sort_values('test_rmse')  "
   ]
  },
  {
   "cell_type": "markdown",
   "metadata": {},
   "source": [
    "For the game data, we are going to use the BaselineOnly algorithm which produces the lowest test RMSE."
   ]
  },
  {
   "cell_type": "markdown",
   "metadata": {},
   "source": [
    "Based on the results of the algorithm selector, we will proceed with SlopeOne for genre predictions and with the Baseline algorithm for game predictions. More information about SlopeOne can be found here: https://arxiv.org/abs/cs/0702144"
   ]
  },
  {
   "cell_type": "markdown",
   "metadata": {},
   "source": [
    "Next we perform cross-validation to see how our chosen algorithms perform:"
   ]
  },
  {
   "cell_type": "code",
   "execution_count": 226,
   "metadata": {},
   "outputs": [
    {
     "name": "stdout",
     "output_type": "stream",
     "text": [
      "Evaluating RMSE of algorithm SlopeOne on 7 split(s).\n",
      "\n",
      "                  Fold 1  Fold 2  Fold 3  Fold 4  Fold 5  Fold 6  Fold 7  Mean    Std     \n",
      "RMSE (testset)    0.8028  0.9276  0.9304  0.8694  0.7507  0.8968  0.8994  0.8682  0.0624  \n",
      "Fit time          0.01    0.01    0.01    0.01    0.01    0.01    0.01    0.01    0.00    \n",
      "Test time         0.00    0.00    0.00    0.00    0.00    0.00    0.00    0.00    0.00    \n"
     ]
    },
    {
     "data": {
      "text/plain": [
       "{'test_rmse': array([0.80280949, 0.92757467, 0.93040153, 0.86942057, 0.75070622,\n",
       "        0.89678486, 0.89940161]),\n",
       " 'fit_time': (0.005972146987915039,\n",
       "  0.005824089050292969,\n",
       "  0.007110118865966797,\n",
       "  0.005393266677856445,\n",
       "  0.005966901779174805,\n",
       "  0.005309104919433594,\n",
       "  0.006371021270751953),\n",
       " 'test_time': (0.0009241104125976562,\n",
       "  0.0008308887481689453,\n",
       "  0.0011897087097167969,\n",
       "  0.0011010169982910156,\n",
       "  0.0011429786682128906,\n",
       "  0.0009257793426513672,\n",
       "  0.0015020370483398438)}"
      ]
     },
     "execution_count": 226,
     "metadata": {},
     "output_type": "execute_result"
    }
   ],
   "source": [
    "algo_genre_base = SlopeOne()\n",
    "cross_validate(algo_genre_base, genre_base_data, measures=['RMSE'], cv=7, verbose=True)"
   ]
  },
  {
   "cell_type": "code",
   "execution_count": 227,
   "metadata": {
    "scrolled": true
   },
   "outputs": [
    {
     "name": "stdout",
     "output_type": "stream",
     "text": [
      "Estimating biases using als...\n",
      "Estimating biases using als...\n",
      "Estimating biases using als...\n",
      "Estimating biases using als...\n",
      "Estimating biases using als...\n",
      "Estimating biases using als...\n",
      "Estimating biases using als...\n",
      "Evaluating RMSE of algorithm BaselineOnly on 7 split(s).\n",
      "\n",
      "                  Fold 1  Fold 2  Fold 3  Fold 4  Fold 5  Fold 6  Fold 7  Mean    Std     \n",
      "RMSE (testset)    0.7330  0.7821  0.7714  0.6184  0.7143  0.7164  0.6512  0.7124  0.0552  \n",
      "Fit time          0.00    0.00    0.00    0.00    0.00    0.00    0.00    0.00    0.00    \n",
      "Test time         0.00    0.00    0.00    0.00    0.00    0.00    0.00    0.00    0.00    \n"
     ]
    },
    {
     "data": {
      "text/plain": [
       "{'test_rmse': array([0.73300186, 0.78214757, 0.77142298, 0.61843997, 0.71433334,\n",
       "        0.71638114, 0.65123915]),\n",
       " 'fit_time': (0.0019719600677490234,\n",
       "  0.0025997161865234375,\n",
       "  0.0018451213836669922,\n",
       "  0.001990079879760742,\n",
       "  0.0020227432250976562,\n",
       "  0.0018582344055175781,\n",
       "  0.0021369457244873047),\n",
       " 'test_time': (0.0005698204040527344,\n",
       "  0.0005650520324707031,\n",
       "  0.0004937648773193359,\n",
       "  0.0008409023284912109,\n",
       "  0.0005128383636474609,\n",
       "  0.0006039142608642578,\n",
       "  0.0005490779876708984)}"
      ]
     },
     "execution_count": 227,
     "metadata": {},
     "output_type": "execute_result"
    }
   ],
   "source": [
    "bsl_options = {'method': 'als',\n",
    "               'n_epochs': 10,\n",
    "               'reg_u': 12,\n",
    "               'reg_i': 5\n",
    "               }\n",
    "algo_games_base = BaselineOnly(bsl_options=bsl_options)\n",
    "cross_validate(algo_games_base, game_base_data, measures=['RMSE'], cv=7, verbose=True)"
   ]
  },
  {
   "cell_type": "markdown",
   "metadata": {},
   "source": [
    "Now we split the data into train and test sets to produce the predictions for genres and games streamers would like. Our RMSE is low for both algorithms, lower for the genres which makes sense since each genre includes many games which produces more observations for each genres than for each individual game."
   ]
  },
  {
   "cell_type": "code",
   "execution_count": 228,
   "metadata": {},
   "outputs": [
    {
     "name": "stdout",
     "output_type": "stream",
     "text": [
      "RMSE: 0.9014\n"
     ]
    },
    {
     "data": {
      "text/plain": [
       "0.9013714892958293"
      ]
     },
     "execution_count": 228,
     "metadata": {},
     "output_type": "execute_result"
    }
   ],
   "source": [
    "genre_trainset, genre_testset = train_test_split(genre_base_data, test_size=0.25)\n",
    "genre_base_predictions = algo_genre_base.fit(genre_trainset).test(genre_testset)\n",
    "accuracy.rmse(genre_base_predictions)"
   ]
  },
  {
   "cell_type": "code",
   "execution_count": 229,
   "metadata": {},
   "outputs": [
    {
     "name": "stdout",
     "output_type": "stream",
     "text": [
      "Estimating biases using als...\n",
      "RMSE: 0.6484\n"
     ]
    },
    {
     "data": {
      "text/plain": [
       "0.6483606568201572"
      ]
     },
     "execution_count": 229,
     "metadata": {},
     "output_type": "execute_result"
    }
   ],
   "source": [
    "game_trainset, game_testset = train_test_split(game_base_data, test_size=0.25)\n",
    "game_base_predictions = algo_games_base.fit(game_trainset).test(game_testset)\n",
    "accuracy.rmse(game_base_predictions)"
   ]
  },
  {
   "cell_type": "markdown",
   "metadata": {},
   "source": [
    "Saving the models and predictions to use in the predictor app:"
   ]
  },
  {
   "cell_type": "code",
   "execution_count": 230,
   "metadata": {},
   "outputs": [],
   "source": [
    "import pickle"
   ]
  },
  {
   "cell_type": "code",
   "execution_count": 231,
   "metadata": {},
   "outputs": [],
   "source": [
    "pickle.dump(algo_genre_base, open(\"Data/SlopeOne_genre_model.pkl\", \"wb\" ) )\n",
    "#algo_genre_base = pickle.load( open( \"./Data/SlopeOne_genre_model.pkl\", \"rb\" ) )"
   ]
  },
  {
   "cell_type": "code",
   "execution_count": 232,
   "metadata": {},
   "outputs": [],
   "source": [
    "pickle.dump(algo_games_base, open(\"Data/BaselineOnly_game_model.pkl\", \"wb\" ) )\n",
    "#algo_games_base = pickle.load( open( \"./Data/BaselineOnly_game_model.pkl\", \"rb\" ) )"
   ]
  },
  {
   "cell_type": "code",
   "execution_count": 233,
   "metadata": {},
   "outputs": [],
   "source": [
    "pickle.dump(genre_base_predictions, open(\"Data/SlopeOne_genre_model_predictions.pkl\", \"wb\" ) )\n",
    "#genre_base_predictions = pickle.load( open( \"./Data/SlopeOne_genre_model_predictions.pkl\", \"rb\" ) )"
   ]
  },
  {
   "cell_type": "code",
   "execution_count": 234,
   "metadata": {},
   "outputs": [],
   "source": [
    "pickle.dump(game_base_predictions, open(\"Data/BaselineOnly_game_model_predictions.pkl\", \"wb\" ) )\n",
    "#game_base_predictions = pickle.load( open( \"./Data/BaselineOnly_game_model_predictions.pkl\", \"rb\" ) )"
   ]
  },
  {
   "cell_type": "code",
   "execution_count": 235,
   "metadata": {},
   "outputs": [],
   "source": [
    "pickle.dump(genres_base_df, open(\"Data/genres.pkl\", \"wb\" ) )\n",
    "#genres_base_df = pickle.load( open( \"./Data/genres.pkl\", \"rb\" ) )"
   ]
  },
  {
   "cell_type": "code",
   "execution_count": 236,
   "metadata": {},
   "outputs": [],
   "source": [
    "pickle.dump(games_base_df, open(\"Data/games.pkl\", \"wb\" ) )\n",
    "#games_base_df = pickle.load( open( \"./Data/games.pkl\", \"rb\" ) )"
   ]
  },
  {
   "cell_type": "markdown",
   "metadata": {},
   "source": [
    "Taking the inputs from the user:"
   ]
  },
  {
   "cell_type": "code",
   "execution_count": 337,
   "metadata": {},
   "outputs": [
    {
     "name": "stdout",
     "output_type": "stream",
     "text": [
      "What is your streamer name? dvvgv\n",
      "Which game genres do you currently stream? cdd\n",
      "Which games do you currently stream? dsdsvv\n"
     ]
    }
   ],
   "source": [
    "streamer_name = input('What is your streamer name? ')\n",
    "streamer_genres = list(input ('Which game genres do you currently stream? ').split(', '))\n",
    "streamer_games = list(input ('Which games do you currently stream? ').split(', '))"
   ]
  },
  {
   "cell_type": "code",
   "execution_count": 338,
   "metadata": {},
   "outputs": [
    {
     "data": {
      "text/plain": [
       "('dvvgv', ['cdd'], ['dsdsvv'])"
      ]
     },
     "execution_count": 338,
     "metadata": {},
     "output_type": "execute_result"
    }
   ],
   "source": [
    "streamer_name, streamer_genres, streamer_games"
   ]
  },
  {
   "cell_type": "markdown",
   "metadata": {},
   "source": [
    "Making a list of streamers' current genres and games by combining any information we already have in our dataset and their own inputs into the app:"
   ]
  },
  {
   "cell_type": "code",
   "execution_count": 339,
   "metadata": {},
   "outputs": [
    {
     "data": {
      "text/html": [
       "<div>\n",
       "<style scoped>\n",
       "    .dataframe tbody tr th:only-of-type {\n",
       "        vertical-align: middle;\n",
       "    }\n",
       "\n",
       "    .dataframe tbody tr th {\n",
       "        vertical-align: top;\n",
       "    }\n",
       "\n",
       "    .dataframe thead th {\n",
       "        text-align: right;\n",
       "    }\n",
       "</style>\n",
       "<table border=\"1\" class=\"dataframe\">\n",
       "  <thead>\n",
       "    <tr style=\"text-align: right;\">\n",
       "      <th></th>\n",
       "      <th>user_name</th>\n",
       "      <th>game_genres</th>\n",
       "      <th>mean</th>\n",
       "    </tr>\n",
       "  </thead>\n",
       "  <tbody>\n",
       "    <tr>\n",
       "      <th>0</th>\n",
       "      <td>0monstro</td>\n",
       "      <td>MMORPG,RPG</td>\n",
       "      <td>3.626866</td>\n",
       "    </tr>\n",
       "    <tr>\n",
       "      <th>1</th>\n",
       "      <td>1Gn0rance</td>\n",
       "      <td>Action,RPG</td>\n",
       "      <td>3.512821</td>\n",
       "    </tr>\n",
       "    <tr>\n",
       "      <th>2</th>\n",
       "      <td>1ST3NM1</td>\n",
       "      <td>MMORPG</td>\n",
       "      <td>4.257028</td>\n",
       "    </tr>\n",
       "    <tr>\n",
       "      <th>3</th>\n",
       "      <td>24_Flash</td>\n",
       "      <td>Shooter</td>\n",
       "      <td>4.677054</td>\n",
       "    </tr>\n",
       "    <tr>\n",
       "      <th>4</th>\n",
       "      <td>24_Flash</td>\n",
       "      <td>Shooter,FPS</td>\n",
       "      <td>4.318980</td>\n",
       "    </tr>\n",
       "  </tbody>\n",
       "</table>\n",
       "</div>"
      ],
      "text/plain": [
       "   user_name  game_genres      mean\n",
       "0   0monstro   MMORPG,RPG  3.626866\n",
       "1  1Gn0rance   Action,RPG  3.512821\n",
       "2    1ST3NM1       MMORPG  4.257028\n",
       "3   24_Flash      Shooter  4.677054\n",
       "4   24_Flash  Shooter,FPS  4.318980"
      ]
     },
     "execution_count": 339,
     "metadata": {},
     "output_type": "execute_result"
    }
   ],
   "source": [
    "genres_base_df.head()"
   ]
  },
  {
   "cell_type": "code",
   "execution_count": 340,
   "metadata": {},
   "outputs": [
    {
     "data": {
      "text/plain": [
       "['cdd']"
      ]
     },
     "execution_count": 340,
     "metadata": {},
     "output_type": "execute_result"
    }
   ],
   "source": [
    "def display_current_genres(streamer_name):\n",
    "    user_genres = list(genres_base_df[genres_base_df['user_name']==streamer_name]['game_genres'])\n",
    "    return user_genres\n",
    "recorder_genres_list = display_current_genres(streamer_name)\n",
    "full_genres = set(recorder_genres_list + streamer_genres)\n",
    "full_genres = list(full_genres)\n",
    "full_genres"
   ]
  },
  {
   "cell_type": "code",
   "execution_count": 341,
   "metadata": {},
   "outputs": [
    {
     "data": {
      "text/plain": [
       "['dsdsvv']"
      ]
     },
     "execution_count": 341,
     "metadata": {},
     "output_type": "execute_result"
    }
   ],
   "source": [
    "def display_current_games(streamer_name):\n",
    "    user_games = list(games_base_df[games_base_df['user_name']==streamer_name]['game_name'])\n",
    "    return user_games\n",
    "recorder_games_list = display_current_games(streamer_name)\n",
    "full_games = set(recorder_games_list + streamer_games)\n",
    "full_games = list(full_games)\n",
    "full_games"
   ]
  },
  {
   "cell_type": "markdown",
   "metadata": {},
   "source": [
    "####  Predicting Genres for Streamers (user-based similarities) ####"
   ]
  },
  {
   "cell_type": "code",
   "execution_count": 342,
   "metadata": {},
   "outputs": [],
   "source": [
    "from collections import defaultdict"
   ]
  },
  {
   "cell_type": "code",
   "execution_count": 343,
   "metadata": {},
   "outputs": [],
   "source": [
    "def get_top_n(predictions, n=10):\n",
    "    top_n = defaultdict(list)\n",
    "    for uid, iid, true_r, est, _ in predictions:\n",
    "        top_n[uid].append((iid, est))\n",
    "\n",
    "    # Then sort the predictions for the user and retrieve the k highest ones.\n",
    "    for uid, user_ratings in top_n.items():\n",
    "        user_ratings.sort(key=lambda x: x[1], reverse=True)\n",
    "        top_n[uid] = user_ratings[:n]\n",
    "\n",
    "    return top_n"
   ]
  },
  {
   "cell_type": "markdown",
   "metadata": {},
   "source": [
    "Setting the inner ids for genres and games to be able to identify them in Surprise nomenclature. The results are all the genres and games the user has not had exposure to:"
   ]
  },
  {
   "cell_type": "code",
   "execution_count": 344,
   "metadata": {},
   "outputs": [],
   "source": [
    "iids_genre = genres_base_df['game_genres'].unique()\n",
    "iids_genre_to_predict = np.setdiff1d(iids_genre, full_genres, assume_unique = True)"
   ]
  },
  {
   "cell_type": "code",
   "execution_count": 345,
   "metadata": {},
   "outputs": [],
   "source": [
    "iids_game = games_base_df['game_name'].unique()\n",
    "iids_game_to_predict = np.setdiff1d(iids_game, full_games, assume_unique = True)"
   ]
  },
  {
   "cell_type": "code",
   "execution_count": 346,
   "metadata": {},
   "outputs": [
    {
     "data": {
      "text/plain": [
       "array(['MMORPG,RPG', 'Action,RPG', 'MMORPG', 'Shooter', 'Shooter,FPS',\n",
       "       'Card & Board Game', 'FPS,Shooter', 'Action,Shooter', 'IRL',\n",
       "       'RPG,Action', 'Sports Game', 'Platformer', 'IRL,Creative',\n",
       "       'Simulation,Action', 'MOBA', 'FPS,Shooter,MOBA', 'Simulation,FPS',\n",
       "       'Adventure Game,RPG', 'Driving/Racing Game', 'FPS,Shooter,RPG',\n",
       "       'RPG', 'RPG,Shooter', 'Action,Horror', 'Strategy,Autobattler',\n",
       "       'RPG,Simulation', 'Gambling Game', 'Strategy,Simulation',\n",
       "       'Action,Adventure Game', 'Action,Simulation', 'Simulation',\n",
       "       'RPG,Mobile Game', 'NONE', 'Creative', 'FPS,Shooter,Horror',\n",
       "       'Adventure Game', 'RTS,Strategy', 'Fighting,Platformer',\n",
       "       'Adventure Game,Action', 'Simulation,Puzzle', 'Strategy,RTS',\n",
       "       'Action', 'Shooter,Horror', 'Simulation,RPG', 'MMORPG,Stealth',\n",
       "       'Strategy', 'Sports Game,Simulation', 'Action,Open World',\n",
       "       'Horror,Indie Game', 'Shooter,Strategy', 'RPG,Indie Game',\n",
       "       'Adventure Game,Horror', 'Creative,IRL'], dtype=object)"
      ]
     },
     "execution_count": 346,
     "metadata": {},
     "output_type": "execute_result"
    }
   ],
   "source": [
    "iids_genre_to_predict"
   ]
  },
  {
   "cell_type": "code",
   "execution_count": 347,
   "metadata": {},
   "outputs": [
    {
     "data": {
      "text/plain": [
       "array(['Last Oasis', 'Path of Exile', 'Knight Online', 'Fortnite',\n",
       "       'VALORANT', 'Hearthstone', 'Poker', 'Apex Legends',\n",
       "       'Final Fantasy VII Remake', 'Just Chatting', 'Resident Evil 6',\n",
       "       'The Witcher 3: Wild Hunt', 'FIFA 20', 'Super Mario Maker 2',\n",
       "       'Music & Performing Arts', 'World of Tanks', 'League of Legends',\n",
       "       'World of Warcraft', 'Old School RuneScape', 'Escape From Tarkov',\n",
       "       'Overwatch', 'Tibia', 'Deadside', 'Grand Theft Auto V',\n",
       "       'Destiny 2', 'Call of Duty: Modern Warfare',\n",
       "       'Pokémon Sword/Shield', 'Fallout 76', 'Dead by Daylight',\n",
       "       'Counter-Strike: Global Offensive', 'Teamfight Tactics', 'DayZ',\n",
       "       'Retro', 'Dota 2', 'Talk Shows & Podcasts', 'Slots', 'RimWorld',\n",
       "       'Mount & Blade II: Bannerlord', 'World of Warships',\n",
       "       'Rocket League', 'Magic: The Gathering', 'Sea of Thieves',\n",
       "       'X4: Foundations', 'ASMR', 'Summoners War: Sky Arena',\n",
       "       'Resident Evil 3', 'Drug Dealer Simulator', 'iRacing.com',\n",
       "       'Heroes of the Storm', 'Art', 'Doom Eternal', 'Rust',\n",
       "       \"PLAYERUNKNOWN'S BATTLEGROUNDS\", \"Tom Clancy's Rainbow Six: Siege\",\n",
       "       'Science & Technology', 'Raft', 'Dungeons & Dragons',\n",
       "       'StarCraft II', 'Super Smash Bros. Ultimate', 'Minecraft',\n",
       "       'Monster Hunter World', 'The Jackbox Party Pack 3', 'skribbl.io',\n",
       "       'Animal Crossing: New Horizons', 'Persona 5: The Royal', 'ARK',\n",
       "       'Star Wars Jedi: Fallen Order', 'Euro Truck Simulator 2',\n",
       "       'Poly Bridge', 'Killing Floor 2', 'Total War: Warhammer II',\n",
       "       'Marbles On Stream', 'Pummel Party', 'Black Desert Online', 'H1Z1',\n",
       "       'Green Hell', 'VRChat', 'The Elder Scrolls Online',\n",
       "       'Madden NFL 20', 'Age of Empires II: Definitive Edition',\n",
       "       'Saint Seiya: Awakening',\n",
       "       'The Seven Deadly Sins: Hikari to Yami no Grand Cross', 'NBA 2K20',\n",
       "       'Dark Souls III', 'Watch Parties', 'Resident Evil 7 biohazard',\n",
       "       'MLB The Show 20', 'Smite', '7 Days to Die', 'Close to the Sun',\n",
       "       'Days Gone', 'Garena Free Fire', 'Chess',\n",
       "       'FINAL FANTASY XIV Online',\n",
       "       'The Legend of Zelda: Breath of the Wild', 'Griftlands', 'Outlast',\n",
       "       'Bloodborne', 'Food & Drink'], dtype=object)"
      ]
     },
     "execution_count": 347,
     "metadata": {},
     "output_type": "execute_result"
    }
   ],
   "source": [
    "iids_game_to_predict"
   ]
  },
  {
   "cell_type": "markdown",
   "metadata": {},
   "source": [
    "Making a personal testset for the user, populating same base rating as true since the actuals are not known and we are trying to predict the expected rating:"
   ]
  },
  {
   "cell_type": "code",
   "execution_count": 348,
   "metadata": {},
   "outputs": [],
   "source": [
    "genre_testset_personal = [[streamer_name, iid, 0.] for iid in iids_genre_to_predict]\n",
    "game_testset_personal = [[streamer_name, iid, 0.] for iid in iids_game_to_predict]"
   ]
  },
  {
   "cell_type": "markdown",
   "metadata": {},
   "source": [
    "Producing a list of predictions based on the inputs:"
   ]
  },
  {
   "cell_type": "code",
   "execution_count": 349,
   "metadata": {},
   "outputs": [],
   "source": [
    "personal_genre_predictions = algo_genre_base.test(genre_testset_personal)\n",
    "personal_game_predictions = algo_games_base.test(game_testset_personal)"
   ]
  },
  {
   "cell_type": "code",
   "execution_count": 350,
   "metadata": {
    "scrolled": true
   },
   "outputs": [
    {
     "data": {
      "text/html": [
       "<div>\n",
       "<style scoped>\n",
       "    .dataframe tbody tr th:only-of-type {\n",
       "        vertical-align: middle;\n",
       "    }\n",
       "\n",
       "    .dataframe tbody tr th {\n",
       "        vertical-align: top;\n",
       "    }\n",
       "\n",
       "    .dataframe thead th {\n",
       "        text-align: right;\n",
       "    }\n",
       "</style>\n",
       "<table border=\"1\" class=\"dataframe\">\n",
       "  <thead>\n",
       "    <tr style=\"text-align: right;\">\n",
       "      <th></th>\n",
       "      <th>uid</th>\n",
       "      <th>iid</th>\n",
       "      <th>rui</th>\n",
       "      <th>est</th>\n",
       "      <th>details</th>\n",
       "    </tr>\n",
       "  </thead>\n",
       "  <tbody>\n",
       "    <tr>\n",
       "      <th>0</th>\n",
       "      <td>dvvgv</td>\n",
       "      <td>MMORPG,RPG</td>\n",
       "      <td>0.0</td>\n",
       "      <td>3.671783</td>\n",
       "      <td>{'was_impossible': True, 'reason': 'User and/o...</td>\n",
       "    </tr>\n",
       "    <tr>\n",
       "      <th>1</th>\n",
       "      <td>dvvgv</td>\n",
       "      <td>Action,RPG</td>\n",
       "      <td>0.0</td>\n",
       "      <td>3.671783</td>\n",
       "      <td>{'was_impossible': True, 'reason': 'User and/o...</td>\n",
       "    </tr>\n",
       "    <tr>\n",
       "      <th>2</th>\n",
       "      <td>dvvgv</td>\n",
       "      <td>MMORPG</td>\n",
       "      <td>0.0</td>\n",
       "      <td>3.671783</td>\n",
       "      <td>{'was_impossible': True, 'reason': 'User and/o...</td>\n",
       "    </tr>\n",
       "    <tr>\n",
       "      <th>3</th>\n",
       "      <td>dvvgv</td>\n",
       "      <td>Shooter</td>\n",
       "      <td>0.0</td>\n",
       "      <td>3.671783</td>\n",
       "      <td>{'was_impossible': True, 'reason': 'User and/o...</td>\n",
       "    </tr>\n",
       "    <tr>\n",
       "      <th>4</th>\n",
       "      <td>dvvgv</td>\n",
       "      <td>Shooter,FPS</td>\n",
       "      <td>0.0</td>\n",
       "      <td>3.671783</td>\n",
       "      <td>{'was_impossible': True, 'reason': 'User and/o...</td>\n",
       "    </tr>\n",
       "    <tr>\n",
       "      <th>5</th>\n",
       "      <td>dvvgv</td>\n",
       "      <td>Card &amp; Board Game</td>\n",
       "      <td>0.0</td>\n",
       "      <td>3.671783</td>\n",
       "      <td>{'was_impossible': True, 'reason': 'User and/o...</td>\n",
       "    </tr>\n",
       "    <tr>\n",
       "      <th>6</th>\n",
       "      <td>dvvgv</td>\n",
       "      <td>FPS,Shooter</td>\n",
       "      <td>0.0</td>\n",
       "      <td>3.671783</td>\n",
       "      <td>{'was_impossible': True, 'reason': 'User and/o...</td>\n",
       "    </tr>\n",
       "    <tr>\n",
       "      <th>7</th>\n",
       "      <td>dvvgv</td>\n",
       "      <td>Action,Shooter</td>\n",
       "      <td>0.0</td>\n",
       "      <td>3.671783</td>\n",
       "      <td>{'was_impossible': True, 'reason': 'User and/o...</td>\n",
       "    </tr>\n",
       "    <tr>\n",
       "      <th>8</th>\n",
       "      <td>dvvgv</td>\n",
       "      <td>IRL</td>\n",
       "      <td>0.0</td>\n",
       "      <td>3.671783</td>\n",
       "      <td>{'was_impossible': True, 'reason': 'User and/o...</td>\n",
       "    </tr>\n",
       "    <tr>\n",
       "      <th>9</th>\n",
       "      <td>dvvgv</td>\n",
       "      <td>RPG,Action</td>\n",
       "      <td>0.0</td>\n",
       "      <td>3.671783</td>\n",
       "      <td>{'was_impossible': True, 'reason': 'User and/o...</td>\n",
       "    </tr>\n",
       "    <tr>\n",
       "      <th>10</th>\n",
       "      <td>dvvgv</td>\n",
       "      <td>Sports Game</td>\n",
       "      <td>0.0</td>\n",
       "      <td>3.671783</td>\n",
       "      <td>{'was_impossible': True, 'reason': 'User and/o...</td>\n",
       "    </tr>\n",
       "    <tr>\n",
       "      <th>11</th>\n",
       "      <td>dvvgv</td>\n",
       "      <td>Platformer</td>\n",
       "      <td>0.0</td>\n",
       "      <td>3.671783</td>\n",
       "      <td>{'was_impossible': True, 'reason': 'User and/o...</td>\n",
       "    </tr>\n",
       "    <tr>\n",
       "      <th>12</th>\n",
       "      <td>dvvgv</td>\n",
       "      <td>IRL,Creative</td>\n",
       "      <td>0.0</td>\n",
       "      <td>3.671783</td>\n",
       "      <td>{'was_impossible': True, 'reason': 'User and/o...</td>\n",
       "    </tr>\n",
       "    <tr>\n",
       "      <th>13</th>\n",
       "      <td>dvvgv</td>\n",
       "      <td>Simulation,Action</td>\n",
       "      <td>0.0</td>\n",
       "      <td>3.671783</td>\n",
       "      <td>{'was_impossible': True, 'reason': 'User and/o...</td>\n",
       "    </tr>\n",
       "    <tr>\n",
       "      <th>14</th>\n",
       "      <td>dvvgv</td>\n",
       "      <td>MOBA</td>\n",
       "      <td>0.0</td>\n",
       "      <td>3.671783</td>\n",
       "      <td>{'was_impossible': True, 'reason': 'User and/o...</td>\n",
       "    </tr>\n",
       "    <tr>\n",
       "      <th>15</th>\n",
       "      <td>dvvgv</td>\n",
       "      <td>FPS,Shooter,MOBA</td>\n",
       "      <td>0.0</td>\n",
       "      <td>3.671783</td>\n",
       "      <td>{'was_impossible': True, 'reason': 'User and/o...</td>\n",
       "    </tr>\n",
       "    <tr>\n",
       "      <th>16</th>\n",
       "      <td>dvvgv</td>\n",
       "      <td>Simulation,FPS</td>\n",
       "      <td>0.0</td>\n",
       "      <td>3.671783</td>\n",
       "      <td>{'was_impossible': True, 'reason': 'User and/o...</td>\n",
       "    </tr>\n",
       "    <tr>\n",
       "      <th>17</th>\n",
       "      <td>dvvgv</td>\n",
       "      <td>Adventure Game,RPG</td>\n",
       "      <td>0.0</td>\n",
       "      <td>3.671783</td>\n",
       "      <td>{'was_impossible': True, 'reason': 'User and/o...</td>\n",
       "    </tr>\n",
       "    <tr>\n",
       "      <th>18</th>\n",
       "      <td>dvvgv</td>\n",
       "      <td>Driving/Racing Game</td>\n",
       "      <td>0.0</td>\n",
       "      <td>3.671783</td>\n",
       "      <td>{'was_impossible': True, 'reason': 'User and/o...</td>\n",
       "    </tr>\n",
       "    <tr>\n",
       "      <th>19</th>\n",
       "      <td>dvvgv</td>\n",
       "      <td>FPS,Shooter,RPG</td>\n",
       "      <td>0.0</td>\n",
       "      <td>3.671783</td>\n",
       "      <td>{'was_impossible': True, 'reason': 'User and/o...</td>\n",
       "    </tr>\n",
       "    <tr>\n",
       "      <th>20</th>\n",
       "      <td>dvvgv</td>\n",
       "      <td>RPG</td>\n",
       "      <td>0.0</td>\n",
       "      <td>3.671783</td>\n",
       "      <td>{'was_impossible': True, 'reason': 'User and/o...</td>\n",
       "    </tr>\n",
       "    <tr>\n",
       "      <th>21</th>\n",
       "      <td>dvvgv</td>\n",
       "      <td>RPG,Shooter</td>\n",
       "      <td>0.0</td>\n",
       "      <td>3.671783</td>\n",
       "      <td>{'was_impossible': True, 'reason': 'User and/o...</td>\n",
       "    </tr>\n",
       "    <tr>\n",
       "      <th>22</th>\n",
       "      <td>dvvgv</td>\n",
       "      <td>Action,Horror</td>\n",
       "      <td>0.0</td>\n",
       "      <td>3.671783</td>\n",
       "      <td>{'was_impossible': True, 'reason': 'User and/o...</td>\n",
       "    </tr>\n",
       "    <tr>\n",
       "      <th>23</th>\n",
       "      <td>dvvgv</td>\n",
       "      <td>Strategy,Autobattler</td>\n",
       "      <td>0.0</td>\n",
       "      <td>3.671783</td>\n",
       "      <td>{'was_impossible': True, 'reason': 'User and/o...</td>\n",
       "    </tr>\n",
       "    <tr>\n",
       "      <th>24</th>\n",
       "      <td>dvvgv</td>\n",
       "      <td>RPG,Simulation</td>\n",
       "      <td>0.0</td>\n",
       "      <td>3.671783</td>\n",
       "      <td>{'was_impossible': True, 'reason': 'User and/o...</td>\n",
       "    </tr>\n",
       "    <tr>\n",
       "      <th>25</th>\n",
       "      <td>dvvgv</td>\n",
       "      <td>Gambling Game</td>\n",
       "      <td>0.0</td>\n",
       "      <td>3.671783</td>\n",
       "      <td>{'was_impossible': True, 'reason': 'User and/o...</td>\n",
       "    </tr>\n",
       "    <tr>\n",
       "      <th>26</th>\n",
       "      <td>dvvgv</td>\n",
       "      <td>Strategy,Simulation</td>\n",
       "      <td>0.0</td>\n",
       "      <td>3.671783</td>\n",
       "      <td>{'was_impossible': True, 'reason': 'User and/o...</td>\n",
       "    </tr>\n",
       "    <tr>\n",
       "      <th>27</th>\n",
       "      <td>dvvgv</td>\n",
       "      <td>Action,Adventure Game</td>\n",
       "      <td>0.0</td>\n",
       "      <td>3.671783</td>\n",
       "      <td>{'was_impossible': True, 'reason': 'User and/o...</td>\n",
       "    </tr>\n",
       "    <tr>\n",
       "      <th>28</th>\n",
       "      <td>dvvgv</td>\n",
       "      <td>Action,Simulation</td>\n",
       "      <td>0.0</td>\n",
       "      <td>3.671783</td>\n",
       "      <td>{'was_impossible': True, 'reason': 'User and/o...</td>\n",
       "    </tr>\n",
       "    <tr>\n",
       "      <th>29</th>\n",
       "      <td>dvvgv</td>\n",
       "      <td>Simulation</td>\n",
       "      <td>0.0</td>\n",
       "      <td>3.671783</td>\n",
       "      <td>{'was_impossible': True, 'reason': 'User and/o...</td>\n",
       "    </tr>\n",
       "    <tr>\n",
       "      <th>30</th>\n",
       "      <td>dvvgv</td>\n",
       "      <td>RPG,Mobile Game</td>\n",
       "      <td>0.0</td>\n",
       "      <td>3.671783</td>\n",
       "      <td>{'was_impossible': True, 'reason': 'User and/o...</td>\n",
       "    </tr>\n",
       "    <tr>\n",
       "      <th>31</th>\n",
       "      <td>dvvgv</td>\n",
       "      <td>NONE</td>\n",
       "      <td>0.0</td>\n",
       "      <td>3.671783</td>\n",
       "      <td>{'was_impossible': True, 'reason': 'User and/o...</td>\n",
       "    </tr>\n",
       "    <tr>\n",
       "      <th>32</th>\n",
       "      <td>dvvgv</td>\n",
       "      <td>Creative</td>\n",
       "      <td>0.0</td>\n",
       "      <td>3.671783</td>\n",
       "      <td>{'was_impossible': True, 'reason': 'User and/o...</td>\n",
       "    </tr>\n",
       "    <tr>\n",
       "      <th>33</th>\n",
       "      <td>dvvgv</td>\n",
       "      <td>FPS,Shooter,Horror</td>\n",
       "      <td>0.0</td>\n",
       "      <td>3.671783</td>\n",
       "      <td>{'was_impossible': True, 'reason': 'User and/o...</td>\n",
       "    </tr>\n",
       "    <tr>\n",
       "      <th>34</th>\n",
       "      <td>dvvgv</td>\n",
       "      <td>Adventure Game</td>\n",
       "      <td>0.0</td>\n",
       "      <td>3.671783</td>\n",
       "      <td>{'was_impossible': True, 'reason': 'User and/o...</td>\n",
       "    </tr>\n",
       "    <tr>\n",
       "      <th>35</th>\n",
       "      <td>dvvgv</td>\n",
       "      <td>RTS,Strategy</td>\n",
       "      <td>0.0</td>\n",
       "      <td>3.671783</td>\n",
       "      <td>{'was_impossible': True, 'reason': 'User and/o...</td>\n",
       "    </tr>\n",
       "    <tr>\n",
       "      <th>36</th>\n",
       "      <td>dvvgv</td>\n",
       "      <td>Fighting,Platformer</td>\n",
       "      <td>0.0</td>\n",
       "      <td>3.671783</td>\n",
       "      <td>{'was_impossible': True, 'reason': 'User and/o...</td>\n",
       "    </tr>\n",
       "    <tr>\n",
       "      <th>37</th>\n",
       "      <td>dvvgv</td>\n",
       "      <td>Adventure Game,Action</td>\n",
       "      <td>0.0</td>\n",
       "      <td>3.671783</td>\n",
       "      <td>{'was_impossible': True, 'reason': 'User and/o...</td>\n",
       "    </tr>\n",
       "    <tr>\n",
       "      <th>38</th>\n",
       "      <td>dvvgv</td>\n",
       "      <td>Simulation,Puzzle</td>\n",
       "      <td>0.0</td>\n",
       "      <td>3.671783</td>\n",
       "      <td>{'was_impossible': True, 'reason': 'User and/o...</td>\n",
       "    </tr>\n",
       "    <tr>\n",
       "      <th>39</th>\n",
       "      <td>dvvgv</td>\n",
       "      <td>Strategy,RTS</td>\n",
       "      <td>0.0</td>\n",
       "      <td>3.671783</td>\n",
       "      <td>{'was_impossible': True, 'reason': 'User and/o...</td>\n",
       "    </tr>\n",
       "    <tr>\n",
       "      <th>40</th>\n",
       "      <td>dvvgv</td>\n",
       "      <td>Action</td>\n",
       "      <td>0.0</td>\n",
       "      <td>3.671783</td>\n",
       "      <td>{'was_impossible': True, 'reason': 'User and/o...</td>\n",
       "    </tr>\n",
       "    <tr>\n",
       "      <th>41</th>\n",
       "      <td>dvvgv</td>\n",
       "      <td>Shooter,Horror</td>\n",
       "      <td>0.0</td>\n",
       "      <td>3.671783</td>\n",
       "      <td>{'was_impossible': True, 'reason': 'User and/o...</td>\n",
       "    </tr>\n",
       "    <tr>\n",
       "      <th>42</th>\n",
       "      <td>dvvgv</td>\n",
       "      <td>Simulation,RPG</td>\n",
       "      <td>0.0</td>\n",
       "      <td>3.671783</td>\n",
       "      <td>{'was_impossible': True, 'reason': 'User and/o...</td>\n",
       "    </tr>\n",
       "    <tr>\n",
       "      <th>43</th>\n",
       "      <td>dvvgv</td>\n",
       "      <td>MMORPG,Stealth</td>\n",
       "      <td>0.0</td>\n",
       "      <td>3.671783</td>\n",
       "      <td>{'was_impossible': True, 'reason': 'User and/o...</td>\n",
       "    </tr>\n",
       "    <tr>\n",
       "      <th>44</th>\n",
       "      <td>dvvgv</td>\n",
       "      <td>Strategy</td>\n",
       "      <td>0.0</td>\n",
       "      <td>3.671783</td>\n",
       "      <td>{'was_impossible': True, 'reason': 'User and/o...</td>\n",
       "    </tr>\n",
       "    <tr>\n",
       "      <th>45</th>\n",
       "      <td>dvvgv</td>\n",
       "      <td>Sports Game,Simulation</td>\n",
       "      <td>0.0</td>\n",
       "      <td>3.671783</td>\n",
       "      <td>{'was_impossible': True, 'reason': 'User and/o...</td>\n",
       "    </tr>\n",
       "    <tr>\n",
       "      <th>46</th>\n",
       "      <td>dvvgv</td>\n",
       "      <td>Action,Open World</td>\n",
       "      <td>0.0</td>\n",
       "      <td>3.671783</td>\n",
       "      <td>{'was_impossible': True, 'reason': 'User and/o...</td>\n",
       "    </tr>\n",
       "    <tr>\n",
       "      <th>47</th>\n",
       "      <td>dvvgv</td>\n",
       "      <td>Horror,Indie Game</td>\n",
       "      <td>0.0</td>\n",
       "      <td>3.671783</td>\n",
       "      <td>{'was_impossible': True, 'reason': 'User and/o...</td>\n",
       "    </tr>\n",
       "    <tr>\n",
       "      <th>48</th>\n",
       "      <td>dvvgv</td>\n",
       "      <td>Shooter,Strategy</td>\n",
       "      <td>0.0</td>\n",
       "      <td>3.671783</td>\n",
       "      <td>{'was_impossible': True, 'reason': 'User and/o...</td>\n",
       "    </tr>\n",
       "    <tr>\n",
       "      <th>49</th>\n",
       "      <td>dvvgv</td>\n",
       "      <td>RPG,Indie Game</td>\n",
       "      <td>0.0</td>\n",
       "      <td>3.671783</td>\n",
       "      <td>{'was_impossible': True, 'reason': 'User and/o...</td>\n",
       "    </tr>\n",
       "    <tr>\n",
       "      <th>50</th>\n",
       "      <td>dvvgv</td>\n",
       "      <td>Adventure Game,Horror</td>\n",
       "      <td>0.0</td>\n",
       "      <td>3.671783</td>\n",
       "      <td>{'was_impossible': True, 'reason': 'User and/o...</td>\n",
       "    </tr>\n",
       "    <tr>\n",
       "      <th>51</th>\n",
       "      <td>dvvgv</td>\n",
       "      <td>Creative,IRL</td>\n",
       "      <td>0.0</td>\n",
       "      <td>3.671783</td>\n",
       "      <td>{'was_impossible': True, 'reason': 'User and/o...</td>\n",
       "    </tr>\n",
       "  </tbody>\n",
       "</table>\n",
       "</div>"
      ],
      "text/plain": [
       "      uid                     iid  rui       est  \\\n",
       "0   dvvgv              MMORPG,RPG  0.0  3.671783   \n",
       "1   dvvgv              Action,RPG  0.0  3.671783   \n",
       "2   dvvgv                  MMORPG  0.0  3.671783   \n",
       "3   dvvgv                 Shooter  0.0  3.671783   \n",
       "4   dvvgv             Shooter,FPS  0.0  3.671783   \n",
       "5   dvvgv       Card & Board Game  0.0  3.671783   \n",
       "6   dvvgv             FPS,Shooter  0.0  3.671783   \n",
       "7   dvvgv          Action,Shooter  0.0  3.671783   \n",
       "8   dvvgv                     IRL  0.0  3.671783   \n",
       "9   dvvgv              RPG,Action  0.0  3.671783   \n",
       "10  dvvgv             Sports Game  0.0  3.671783   \n",
       "11  dvvgv              Platformer  0.0  3.671783   \n",
       "12  dvvgv            IRL,Creative  0.0  3.671783   \n",
       "13  dvvgv       Simulation,Action  0.0  3.671783   \n",
       "14  dvvgv                    MOBA  0.0  3.671783   \n",
       "15  dvvgv        FPS,Shooter,MOBA  0.0  3.671783   \n",
       "16  dvvgv          Simulation,FPS  0.0  3.671783   \n",
       "17  dvvgv      Adventure Game,RPG  0.0  3.671783   \n",
       "18  dvvgv     Driving/Racing Game  0.0  3.671783   \n",
       "19  dvvgv         FPS,Shooter,RPG  0.0  3.671783   \n",
       "20  dvvgv                     RPG  0.0  3.671783   \n",
       "21  dvvgv             RPG,Shooter  0.0  3.671783   \n",
       "22  dvvgv           Action,Horror  0.0  3.671783   \n",
       "23  dvvgv    Strategy,Autobattler  0.0  3.671783   \n",
       "24  dvvgv          RPG,Simulation  0.0  3.671783   \n",
       "25  dvvgv           Gambling Game  0.0  3.671783   \n",
       "26  dvvgv     Strategy,Simulation  0.0  3.671783   \n",
       "27  dvvgv   Action,Adventure Game  0.0  3.671783   \n",
       "28  dvvgv       Action,Simulation  0.0  3.671783   \n",
       "29  dvvgv              Simulation  0.0  3.671783   \n",
       "30  dvvgv         RPG,Mobile Game  0.0  3.671783   \n",
       "31  dvvgv                    NONE  0.0  3.671783   \n",
       "32  dvvgv                Creative  0.0  3.671783   \n",
       "33  dvvgv      FPS,Shooter,Horror  0.0  3.671783   \n",
       "34  dvvgv          Adventure Game  0.0  3.671783   \n",
       "35  dvvgv            RTS,Strategy  0.0  3.671783   \n",
       "36  dvvgv     Fighting,Platformer  0.0  3.671783   \n",
       "37  dvvgv   Adventure Game,Action  0.0  3.671783   \n",
       "38  dvvgv       Simulation,Puzzle  0.0  3.671783   \n",
       "39  dvvgv            Strategy,RTS  0.0  3.671783   \n",
       "40  dvvgv                  Action  0.0  3.671783   \n",
       "41  dvvgv          Shooter,Horror  0.0  3.671783   \n",
       "42  dvvgv          Simulation,RPG  0.0  3.671783   \n",
       "43  dvvgv          MMORPG,Stealth  0.0  3.671783   \n",
       "44  dvvgv                Strategy  0.0  3.671783   \n",
       "45  dvvgv  Sports Game,Simulation  0.0  3.671783   \n",
       "46  dvvgv       Action,Open World  0.0  3.671783   \n",
       "47  dvvgv       Horror,Indie Game  0.0  3.671783   \n",
       "48  dvvgv        Shooter,Strategy  0.0  3.671783   \n",
       "49  dvvgv          RPG,Indie Game  0.0  3.671783   \n",
       "50  dvvgv   Adventure Game,Horror  0.0  3.671783   \n",
       "51  dvvgv            Creative,IRL  0.0  3.671783   \n",
       "\n",
       "                                              details  \n",
       "0   {'was_impossible': True, 'reason': 'User and/o...  \n",
       "1   {'was_impossible': True, 'reason': 'User and/o...  \n",
       "2   {'was_impossible': True, 'reason': 'User and/o...  \n",
       "3   {'was_impossible': True, 'reason': 'User and/o...  \n",
       "4   {'was_impossible': True, 'reason': 'User and/o...  \n",
       "5   {'was_impossible': True, 'reason': 'User and/o...  \n",
       "6   {'was_impossible': True, 'reason': 'User and/o...  \n",
       "7   {'was_impossible': True, 'reason': 'User and/o...  \n",
       "8   {'was_impossible': True, 'reason': 'User and/o...  \n",
       "9   {'was_impossible': True, 'reason': 'User and/o...  \n",
       "10  {'was_impossible': True, 'reason': 'User and/o...  \n",
       "11  {'was_impossible': True, 'reason': 'User and/o...  \n",
       "12  {'was_impossible': True, 'reason': 'User and/o...  \n",
       "13  {'was_impossible': True, 'reason': 'User and/o...  \n",
       "14  {'was_impossible': True, 'reason': 'User and/o...  \n",
       "15  {'was_impossible': True, 'reason': 'User and/o...  \n",
       "16  {'was_impossible': True, 'reason': 'User and/o...  \n",
       "17  {'was_impossible': True, 'reason': 'User and/o...  \n",
       "18  {'was_impossible': True, 'reason': 'User and/o...  \n",
       "19  {'was_impossible': True, 'reason': 'User and/o...  \n",
       "20  {'was_impossible': True, 'reason': 'User and/o...  \n",
       "21  {'was_impossible': True, 'reason': 'User and/o...  \n",
       "22  {'was_impossible': True, 'reason': 'User and/o...  \n",
       "23  {'was_impossible': True, 'reason': 'User and/o...  \n",
       "24  {'was_impossible': True, 'reason': 'User and/o...  \n",
       "25  {'was_impossible': True, 'reason': 'User and/o...  \n",
       "26  {'was_impossible': True, 'reason': 'User and/o...  \n",
       "27  {'was_impossible': True, 'reason': 'User and/o...  \n",
       "28  {'was_impossible': True, 'reason': 'User and/o...  \n",
       "29  {'was_impossible': True, 'reason': 'User and/o...  \n",
       "30  {'was_impossible': True, 'reason': 'User and/o...  \n",
       "31  {'was_impossible': True, 'reason': 'User and/o...  \n",
       "32  {'was_impossible': True, 'reason': 'User and/o...  \n",
       "33  {'was_impossible': True, 'reason': 'User and/o...  \n",
       "34  {'was_impossible': True, 'reason': 'User and/o...  \n",
       "35  {'was_impossible': True, 'reason': 'User and/o...  \n",
       "36  {'was_impossible': True, 'reason': 'User and/o...  \n",
       "37  {'was_impossible': True, 'reason': 'User and/o...  \n",
       "38  {'was_impossible': True, 'reason': 'User and/o...  \n",
       "39  {'was_impossible': True, 'reason': 'User and/o...  \n",
       "40  {'was_impossible': True, 'reason': 'User and/o...  \n",
       "41  {'was_impossible': True, 'reason': 'User and/o...  \n",
       "42  {'was_impossible': True, 'reason': 'User and/o...  \n",
       "43  {'was_impossible': True, 'reason': 'User and/o...  \n",
       "44  {'was_impossible': True, 'reason': 'User and/o...  \n",
       "45  {'was_impossible': True, 'reason': 'User and/o...  \n",
       "46  {'was_impossible': True, 'reason': 'User and/o...  \n",
       "47  {'was_impossible': True, 'reason': 'User and/o...  \n",
       "48  {'was_impossible': True, 'reason': 'User and/o...  \n",
       "49  {'was_impossible': True, 'reason': 'User and/o...  \n",
       "50  {'was_impossible': True, 'reason': 'User and/o...  \n",
       "51  {'was_impossible': True, 'reason': 'User and/o...  "
      ]
     },
     "execution_count": 350,
     "metadata": {},
     "output_type": "execute_result"
    }
   ],
   "source": [
    "personal_genre_df = pd.DataFrame(personal_genre_predictions, columns=['uid', 'iid', 'rui', 'est', 'details'])   \n",
    "personal_genre_df"
   ]
  },
  {
   "cell_type": "code",
   "execution_count": 294,
   "metadata": {},
   "outputs": [
    {
     "data": {
      "text/html": [
       "<div>\n",
       "<style scoped>\n",
       "    .dataframe tbody tr th:only-of-type {\n",
       "        vertical-align: middle;\n",
       "    }\n",
       "\n",
       "    .dataframe tbody tr th {\n",
       "        vertical-align: top;\n",
       "    }\n",
       "\n",
       "    .dataframe thead th {\n",
       "        text-align: right;\n",
       "    }\n",
       "</style>\n",
       "<table border=\"1\" class=\"dataframe\">\n",
       "  <thead>\n",
       "    <tr style=\"text-align: right;\">\n",
       "      <th></th>\n",
       "      <th>iid</th>\n",
       "      <th>est</th>\n",
       "    </tr>\n",
       "  </thead>\n",
       "  <tbody>\n",
       "    <tr>\n",
       "      <th>0</th>\n",
       "      <td>MMORPG,RPG</td>\n",
       "      <td>3.671783</td>\n",
       "    </tr>\n",
       "    <tr>\n",
       "      <th>1</th>\n",
       "      <td>Action,RPG</td>\n",
       "      <td>3.671783</td>\n",
       "    </tr>\n",
       "    <tr>\n",
       "      <th>2</th>\n",
       "      <td>MMORPG</td>\n",
       "      <td>3.671783</td>\n",
       "    </tr>\n",
       "    <tr>\n",
       "      <th>3</th>\n",
       "      <td>Shooter</td>\n",
       "      <td>3.671783</td>\n",
       "    </tr>\n",
       "    <tr>\n",
       "      <th>4</th>\n",
       "      <td>Card &amp; Board Game</td>\n",
       "      <td>3.671783</td>\n",
       "    </tr>\n",
       "    <tr>\n",
       "      <th>5</th>\n",
       "      <td>FPS,Shooter</td>\n",
       "      <td>3.671783</td>\n",
       "    </tr>\n",
       "    <tr>\n",
       "      <th>6</th>\n",
       "      <td>Action,Shooter</td>\n",
       "      <td>3.671783</td>\n",
       "    </tr>\n",
       "    <tr>\n",
       "      <th>7</th>\n",
       "      <td>RPG,Action</td>\n",
       "      <td>3.671783</td>\n",
       "    </tr>\n",
       "    <tr>\n",
       "      <th>8</th>\n",
       "      <td>Sports Game</td>\n",
       "      <td>3.671783</td>\n",
       "    </tr>\n",
       "    <tr>\n",
       "      <th>9</th>\n",
       "      <td>Platformer</td>\n",
       "      <td>3.671783</td>\n",
       "    </tr>\n",
       "    <tr>\n",
       "      <th>10</th>\n",
       "      <td>IRL,Creative</td>\n",
       "      <td>3.671783</td>\n",
       "    </tr>\n",
       "    <tr>\n",
       "      <th>11</th>\n",
       "      <td>Simulation,Action</td>\n",
       "      <td>3.671783</td>\n",
       "    </tr>\n",
       "    <tr>\n",
       "      <th>12</th>\n",
       "      <td>MOBA</td>\n",
       "      <td>3.671783</td>\n",
       "    </tr>\n",
       "    <tr>\n",
       "      <th>13</th>\n",
       "      <td>FPS,Shooter,MOBA</td>\n",
       "      <td>3.671783</td>\n",
       "    </tr>\n",
       "    <tr>\n",
       "      <th>14</th>\n",
       "      <td>Simulation,FPS</td>\n",
       "      <td>3.671783</td>\n",
       "    </tr>\n",
       "    <tr>\n",
       "      <th>15</th>\n",
       "      <td>Adventure Game,RPG</td>\n",
       "      <td>3.671783</td>\n",
       "    </tr>\n",
       "    <tr>\n",
       "      <th>16</th>\n",
       "      <td>Driving/Racing Game</td>\n",
       "      <td>3.671783</td>\n",
       "    </tr>\n",
       "    <tr>\n",
       "      <th>17</th>\n",
       "      <td>FPS,Shooter,RPG</td>\n",
       "      <td>3.671783</td>\n",
       "    </tr>\n",
       "    <tr>\n",
       "      <th>18</th>\n",
       "      <td>RPG</td>\n",
       "      <td>3.671783</td>\n",
       "    </tr>\n",
       "    <tr>\n",
       "      <th>19</th>\n",
       "      <td>RPG,Shooter</td>\n",
       "      <td>3.671783</td>\n",
       "    </tr>\n",
       "    <tr>\n",
       "      <th>20</th>\n",
       "      <td>Action,Horror</td>\n",
       "      <td>3.671783</td>\n",
       "    </tr>\n",
       "    <tr>\n",
       "      <th>21</th>\n",
       "      <td>Strategy,Autobattler</td>\n",
       "      <td>3.671783</td>\n",
       "    </tr>\n",
       "    <tr>\n",
       "      <th>22</th>\n",
       "      <td>RPG,Simulation</td>\n",
       "      <td>3.671783</td>\n",
       "    </tr>\n",
       "    <tr>\n",
       "      <th>23</th>\n",
       "      <td>Gambling Game</td>\n",
       "      <td>3.671783</td>\n",
       "    </tr>\n",
       "    <tr>\n",
       "      <th>24</th>\n",
       "      <td>Strategy,Simulation</td>\n",
       "      <td>3.671783</td>\n",
       "    </tr>\n",
       "    <tr>\n",
       "      <th>25</th>\n",
       "      <td>Action,Adventure Game</td>\n",
       "      <td>3.671783</td>\n",
       "    </tr>\n",
       "    <tr>\n",
       "      <th>26</th>\n",
       "      <td>Action,Simulation</td>\n",
       "      <td>3.671783</td>\n",
       "    </tr>\n",
       "    <tr>\n",
       "      <th>27</th>\n",
       "      <td>Simulation</td>\n",
       "      <td>3.671783</td>\n",
       "    </tr>\n",
       "    <tr>\n",
       "      <th>28</th>\n",
       "      <td>RPG,Mobile Game</td>\n",
       "      <td>3.671783</td>\n",
       "    </tr>\n",
       "    <tr>\n",
       "      <th>29</th>\n",
       "      <td>NONE</td>\n",
       "      <td>3.671783</td>\n",
       "    </tr>\n",
       "    <tr>\n",
       "      <th>30</th>\n",
       "      <td>Creative</td>\n",
       "      <td>3.671783</td>\n",
       "    </tr>\n",
       "    <tr>\n",
       "      <th>31</th>\n",
       "      <td>FPS,Shooter,Horror</td>\n",
       "      <td>3.671783</td>\n",
       "    </tr>\n",
       "    <tr>\n",
       "      <th>32</th>\n",
       "      <td>Adventure Game</td>\n",
       "      <td>3.671783</td>\n",
       "    </tr>\n",
       "    <tr>\n",
       "      <th>33</th>\n",
       "      <td>RTS,Strategy</td>\n",
       "      <td>3.671783</td>\n",
       "    </tr>\n",
       "    <tr>\n",
       "      <th>34</th>\n",
       "      <td>Fighting,Platformer</td>\n",
       "      <td>3.671783</td>\n",
       "    </tr>\n",
       "    <tr>\n",
       "      <th>35</th>\n",
       "      <td>Adventure Game,Action</td>\n",
       "      <td>3.671783</td>\n",
       "    </tr>\n",
       "    <tr>\n",
       "      <th>36</th>\n",
       "      <td>Simulation,Puzzle</td>\n",
       "      <td>3.671783</td>\n",
       "    </tr>\n",
       "    <tr>\n",
       "      <th>37</th>\n",
       "      <td>Strategy,RTS</td>\n",
       "      <td>3.671783</td>\n",
       "    </tr>\n",
       "    <tr>\n",
       "      <th>38</th>\n",
       "      <td>Action</td>\n",
       "      <td>3.671783</td>\n",
       "    </tr>\n",
       "    <tr>\n",
       "      <th>39</th>\n",
       "      <td>Shooter,Horror</td>\n",
       "      <td>3.671783</td>\n",
       "    </tr>\n",
       "    <tr>\n",
       "      <th>40</th>\n",
       "      <td>Simulation,RPG</td>\n",
       "      <td>3.671783</td>\n",
       "    </tr>\n",
       "    <tr>\n",
       "      <th>41</th>\n",
       "      <td>MMORPG,Stealth</td>\n",
       "      <td>3.671783</td>\n",
       "    </tr>\n",
       "    <tr>\n",
       "      <th>42</th>\n",
       "      <td>Strategy</td>\n",
       "      <td>3.671783</td>\n",
       "    </tr>\n",
       "    <tr>\n",
       "      <th>43</th>\n",
       "      <td>Sports Game,Simulation</td>\n",
       "      <td>3.671783</td>\n",
       "    </tr>\n",
       "    <tr>\n",
       "      <th>44</th>\n",
       "      <td>Action,Open World</td>\n",
       "      <td>3.671783</td>\n",
       "    </tr>\n",
       "    <tr>\n",
       "      <th>45</th>\n",
       "      <td>Horror,Indie Game</td>\n",
       "      <td>3.671783</td>\n",
       "    </tr>\n",
       "    <tr>\n",
       "      <th>46</th>\n",
       "      <td>Shooter,Strategy</td>\n",
       "      <td>3.671783</td>\n",
       "    </tr>\n",
       "    <tr>\n",
       "      <th>47</th>\n",
       "      <td>RPG,Indie Game</td>\n",
       "      <td>3.671783</td>\n",
       "    </tr>\n",
       "    <tr>\n",
       "      <th>48</th>\n",
       "      <td>Adventure Game,Horror</td>\n",
       "      <td>3.671783</td>\n",
       "    </tr>\n",
       "    <tr>\n",
       "      <th>49</th>\n",
       "      <td>Creative,IRL</td>\n",
       "      <td>3.671783</td>\n",
       "    </tr>\n",
       "  </tbody>\n",
       "</table>\n",
       "</div>"
      ],
      "text/plain": [
       "                       iid       est\n",
       "0               MMORPG,RPG  3.671783\n",
       "1               Action,RPG  3.671783\n",
       "2                   MMORPG  3.671783\n",
       "3                  Shooter  3.671783\n",
       "4        Card & Board Game  3.671783\n",
       "5              FPS,Shooter  3.671783\n",
       "6           Action,Shooter  3.671783\n",
       "7               RPG,Action  3.671783\n",
       "8              Sports Game  3.671783\n",
       "9               Platformer  3.671783\n",
       "10            IRL,Creative  3.671783\n",
       "11       Simulation,Action  3.671783\n",
       "12                    MOBA  3.671783\n",
       "13        FPS,Shooter,MOBA  3.671783\n",
       "14          Simulation,FPS  3.671783\n",
       "15      Adventure Game,RPG  3.671783\n",
       "16     Driving/Racing Game  3.671783\n",
       "17         FPS,Shooter,RPG  3.671783\n",
       "18                     RPG  3.671783\n",
       "19             RPG,Shooter  3.671783\n",
       "20           Action,Horror  3.671783\n",
       "21    Strategy,Autobattler  3.671783\n",
       "22          RPG,Simulation  3.671783\n",
       "23           Gambling Game  3.671783\n",
       "24     Strategy,Simulation  3.671783\n",
       "25   Action,Adventure Game  3.671783\n",
       "26       Action,Simulation  3.671783\n",
       "27              Simulation  3.671783\n",
       "28         RPG,Mobile Game  3.671783\n",
       "29                    NONE  3.671783\n",
       "30                Creative  3.671783\n",
       "31      FPS,Shooter,Horror  3.671783\n",
       "32          Adventure Game  3.671783\n",
       "33            RTS,Strategy  3.671783\n",
       "34     Fighting,Platformer  3.671783\n",
       "35   Adventure Game,Action  3.671783\n",
       "36       Simulation,Puzzle  3.671783\n",
       "37            Strategy,RTS  3.671783\n",
       "38                  Action  3.671783\n",
       "39          Shooter,Horror  3.671783\n",
       "40          Simulation,RPG  3.671783\n",
       "41          MMORPG,Stealth  3.671783\n",
       "42                Strategy  3.671783\n",
       "43  Sports Game,Simulation  3.671783\n",
       "44       Action,Open World  3.671783\n",
       "45       Horror,Indie Game  3.671783\n",
       "46        Shooter,Strategy  3.671783\n",
       "47          RPG,Indie Game  3.671783\n",
       "48   Adventure Game,Horror  3.671783\n",
       "49            Creative,IRL  3.671783"
      ]
     },
     "execution_count": 294,
     "metadata": {},
     "output_type": "execute_result"
    }
   ],
   "source": [
    "personal_genre_pred = personal_genre_df[['iid', 'est']]\n",
    "personal_genre_pred"
   ]
  },
  {
   "cell_type": "code",
   "execution_count": 295,
   "metadata": {},
   "outputs": [
    {
     "data": {
      "text/html": [
       "<div>\n",
       "<style scoped>\n",
       "    .dataframe tbody tr th:only-of-type {\n",
       "        vertical-align: middle;\n",
       "    }\n",
       "\n",
       "    .dataframe tbody tr th {\n",
       "        vertical-align: top;\n",
       "    }\n",
       "\n",
       "    .dataframe thead th {\n",
       "        text-align: right;\n",
       "    }\n",
       "</style>\n",
       "<table border=\"1\" class=\"dataframe\">\n",
       "  <thead>\n",
       "    <tr style=\"text-align: right;\">\n",
       "      <th></th>\n",
       "      <th>uid</th>\n",
       "      <th>iid</th>\n",
       "      <th>rui</th>\n",
       "      <th>est</th>\n",
       "      <th>details</th>\n",
       "    </tr>\n",
       "  </thead>\n",
       "  <tbody>\n",
       "    <tr>\n",
       "      <th>0</th>\n",
       "      <td>Anomaly</td>\n",
       "      <td>Last Oasis</td>\n",
       "      <td>0.0</td>\n",
       "      <td>3.713036</td>\n",
       "      <td>{'was_impossible': False}</td>\n",
       "    </tr>\n",
       "    <tr>\n",
       "      <th>1</th>\n",
       "      <td>Anomaly</td>\n",
       "      <td>Path of Exile</td>\n",
       "      <td>0.0</td>\n",
       "      <td>3.896992</td>\n",
       "      <td>{'was_impossible': False}</td>\n",
       "    </tr>\n",
       "    <tr>\n",
       "      <th>2</th>\n",
       "      <td>Anomaly</td>\n",
       "      <td>Knight Online</td>\n",
       "      <td>0.0</td>\n",
       "      <td>3.822232</td>\n",
       "      <td>{'was_impossible': False}</td>\n",
       "    </tr>\n",
       "    <tr>\n",
       "      <th>3</th>\n",
       "      <td>Anomaly</td>\n",
       "      <td>Hearthstone</td>\n",
       "      <td>0.0</td>\n",
       "      <td>3.794633</td>\n",
       "      <td>{'was_impossible': False}</td>\n",
       "    </tr>\n",
       "    <tr>\n",
       "      <th>4</th>\n",
       "      <td>Anomaly</td>\n",
       "      <td>Poker</td>\n",
       "      <td>0.0</td>\n",
       "      <td>3.690705</td>\n",
       "      <td>{'was_impossible': False}</td>\n",
       "    </tr>\n",
       "    <tr>\n",
       "      <th>...</th>\n",
       "      <td>...</td>\n",
       "      <td>...</td>\n",
       "      <td>...</td>\n",
       "      <td>...</td>\n",
       "      <td>...</td>\n",
       "    </tr>\n",
       "    <tr>\n",
       "      <th>92</th>\n",
       "      <td>Anomaly</td>\n",
       "      <td>The Legend of Zelda: Breath of the Wild</td>\n",
       "      <td>0.0</td>\n",
       "      <td>3.692920</td>\n",
       "      <td>{'was_impossible': False}</td>\n",
       "    </tr>\n",
       "    <tr>\n",
       "      <th>93</th>\n",
       "      <td>Anomaly</td>\n",
       "      <td>Griftlands</td>\n",
       "      <td>0.0</td>\n",
       "      <td>3.382086</td>\n",
       "      <td>{'was_impossible': False}</td>\n",
       "    </tr>\n",
       "    <tr>\n",
       "      <th>94</th>\n",
       "      <td>Anomaly</td>\n",
       "      <td>Outlast</td>\n",
       "      <td>0.0</td>\n",
       "      <td>3.845196</td>\n",
       "      <td>{'was_impossible': False}</td>\n",
       "    </tr>\n",
       "    <tr>\n",
       "      <th>95</th>\n",
       "      <td>Anomaly</td>\n",
       "      <td>Bloodborne</td>\n",
       "      <td>0.0</td>\n",
       "      <td>3.284652</td>\n",
       "      <td>{'was_impossible': False}</td>\n",
       "    </tr>\n",
       "    <tr>\n",
       "      <th>96</th>\n",
       "      <td>Anomaly</td>\n",
       "      <td>Food &amp; Drink</td>\n",
       "      <td>0.0</td>\n",
       "      <td>3.692920</td>\n",
       "      <td>{'was_impossible': False}</td>\n",
       "    </tr>\n",
       "  </tbody>\n",
       "</table>\n",
       "<p>97 rows × 5 columns</p>\n",
       "</div>"
      ],
      "text/plain": [
       "        uid                                      iid  rui       est  \\\n",
       "0   Anomaly                               Last Oasis  0.0  3.713036   \n",
       "1   Anomaly                            Path of Exile  0.0  3.896992   \n",
       "2   Anomaly                            Knight Online  0.0  3.822232   \n",
       "3   Anomaly                              Hearthstone  0.0  3.794633   \n",
       "4   Anomaly                                    Poker  0.0  3.690705   \n",
       "..      ...                                      ...  ...       ...   \n",
       "92  Anomaly  The Legend of Zelda: Breath of the Wild  0.0  3.692920   \n",
       "93  Anomaly                               Griftlands  0.0  3.382086   \n",
       "94  Anomaly                                  Outlast  0.0  3.845196   \n",
       "95  Anomaly                               Bloodborne  0.0  3.284652   \n",
       "96  Anomaly                             Food & Drink  0.0  3.692920   \n",
       "\n",
       "                      details  \n",
       "0   {'was_impossible': False}  \n",
       "1   {'was_impossible': False}  \n",
       "2   {'was_impossible': False}  \n",
       "3   {'was_impossible': False}  \n",
       "4   {'was_impossible': False}  \n",
       "..                        ...  \n",
       "92  {'was_impossible': False}  \n",
       "93  {'was_impossible': False}  \n",
       "94  {'was_impossible': False}  \n",
       "95  {'was_impossible': False}  \n",
       "96  {'was_impossible': False}  \n",
       "\n",
       "[97 rows x 5 columns]"
      ]
     },
     "execution_count": 295,
     "metadata": {},
     "output_type": "execute_result"
    }
   ],
   "source": [
    "personal_game_df = pd.DataFrame(personal_game_predictions, columns=['uid', 'iid', 'rui', 'est', 'details'])    \n",
    "personal_game_df"
   ]
  },
  {
   "cell_type": "code",
   "execution_count": 351,
   "metadata": {},
   "outputs": [],
   "source": [
    "personal_game_pred = personal_game_df[['iid', 'est']]"
   ]
  },
  {
   "cell_type": "code",
   "execution_count": 352,
   "metadata": {},
   "outputs": [],
   "source": [
    "top_n_genres = get_top_n(personal_genre_predictions)\n",
    "top_n_games = get_top_n(personal_game_predictions)"
   ]
  },
  {
   "cell_type": "code",
   "execution_count": 353,
   "metadata": {},
   "outputs": [
    {
     "data": {
      "text/plain": [
       "defaultdict(list,\n",
       "            {'dvvgv': [('MMORPG,RPG', 3.6717834370828575),\n",
       "              ('Action,RPG', 3.6717834370828575),\n",
       "              ('MMORPG', 3.6717834370828575),\n",
       "              ('Shooter', 3.6717834370828575),\n",
       "              ('Shooter,FPS', 3.6717834370828575),\n",
       "              ('Card & Board Game', 3.6717834370828575),\n",
       "              ('FPS,Shooter', 3.6717834370828575),\n",
       "              ('Action,Shooter', 3.6717834370828575),\n",
       "              ('IRL', 3.6717834370828575),\n",
       "              ('RPG,Action', 3.6717834370828575)]})"
      ]
     },
     "execution_count": 353,
     "metadata": {},
     "output_type": "execute_result"
    }
   ],
   "source": [
    "top_n_genres"
   ]
  },
  {
   "cell_type": "code",
   "execution_count": 354,
   "metadata": {},
   "outputs": [
    {
     "data": {
      "text/plain": [
       "defaultdict(list,\n",
       "            {'dvvgv': [('Animal Crossing: New Horizons', 3.97842757683727),\n",
       "              ('Grand Theft Auto V', 3.9771313763459273),\n",
       "              ('Green Hell', 3.9424081820698818),\n",
       "              ('Destiny 2', 3.9379344729177483),\n",
       "              ('Marbles On Stream', 3.8728006601004243),\n",
       "              ('The Jackbox Party Pack 3', 3.852383406558277),\n",
       "              ('Path of Exile', 3.8466129478023663),\n",
       "              ('Poly Bridge', 3.834971789360166),\n",
       "              ('H1Z1', 3.83318371818989),\n",
       "              ('Heroes of the Storm', 3.8324781378772257)]})"
      ]
     },
     "execution_count": 354,
     "metadata": {},
     "output_type": "execute_result"
    }
   ],
   "source": [
    "top_n_games"
   ]
  },
  {
   "cell_type": "code",
   "execution_count": 357,
   "metadata": {},
   "outputs": [
    {
     "name": "stdout",
     "output_type": "stream",
     "text": [
      "For dvvgv, the recommended genres are:['MMORPG,RPG', 'Action,RPG', 'MMORPG', 'Shooter', 'Shooter,FPS', 'Card & Board Game', 'FPS,Shooter', 'Action,Shooter', 'IRL', 'RPG,Action']\n"
     ]
    }
   ],
   "source": [
    "for uid, user_ratings in top_n_genres.items():\n",
    "    print('For ' + uid + ', the recommended genres are:'+ str([iid for (iid, _) in user_ratings]))\n",
    "genre_user_based_list = [iid for (iid, _) in user_ratings]"
   ]
  },
  {
   "cell_type": "code",
   "execution_count": 358,
   "metadata": {},
   "outputs": [
    {
     "name": "stdout",
     "output_type": "stream",
     "text": [
      "For dvvgv, the recommended games are:['Animal Crossing: New Horizons', 'Grand Theft Auto V', 'Green Hell', 'Destiny 2', 'Marbles On Stream', 'The Jackbox Party Pack 3', 'Path of Exile', 'Poly Bridge', 'H1Z1', 'Heroes of the Storm']\n"
     ]
    }
   ],
   "source": [
    "for uid, user_ratings in top_n_games.items():\n",
    "    print('For ' + uid + ', the recommended games are:'+ str([iid for (iid, _) in user_ratings]))\n",
    "game_user_based_list = [iid for (iid, _) in user_ratings]"
   ]
  },
  {
   "cell_type": "markdown",
   "metadata": {},
   "source": [
    "## Plot for predictions"
   ]
  },
  {
   "cell_type": "code",
   "execution_count": 259,
   "metadata": {},
   "outputs": [
    {
     "data": {
      "text/plain": [
       "['MMORPG,RPG',\n",
       " 'Action,RPG',\n",
       " 'MMORPG',\n",
       " 'Shooter',\n",
       " 'Shooter,FPS',\n",
       " 'Card & Board Game',\n",
       " 'FPS,Shooter',\n",
       " 'Action,Shooter',\n",
       " 'RPG,Action',\n",
       " 'Sports Game']"
      ]
     },
     "execution_count": 259,
     "metadata": {},
     "output_type": "execute_result"
    }
   ],
   "source": [
    "genre_user_based_list"
   ]
  },
  {
   "cell_type": "code",
   "execution_count": 260,
   "metadata": {},
   "outputs": [
    {
     "data": {
      "text/html": [
       "<div>\n",
       "<style scoped>\n",
       "    .dataframe tbody tr th:only-of-type {\n",
       "        vertical-align: middle;\n",
       "    }\n",
       "\n",
       "    .dataframe tbody tr th {\n",
       "        vertical-align: top;\n",
       "    }\n",
       "\n",
       "    .dataframe thead th {\n",
       "        text-align: right;\n",
       "    }\n",
       "</style>\n",
       "<table border=\"1\" class=\"dataframe\">\n",
       "  <thead>\n",
       "    <tr style=\"text-align: right;\">\n",
       "      <th></th>\n",
       "      <th>recommended_genre</th>\n",
       "    </tr>\n",
       "  </thead>\n",
       "  <tbody>\n",
       "    <tr>\n",
       "      <th>0</th>\n",
       "      <td>MMORPG,RPG</td>\n",
       "    </tr>\n",
       "    <tr>\n",
       "      <th>1</th>\n",
       "      <td>Action,RPG</td>\n",
       "    </tr>\n",
       "    <tr>\n",
       "      <th>2</th>\n",
       "      <td>MMORPG</td>\n",
       "    </tr>\n",
       "    <tr>\n",
       "      <th>3</th>\n",
       "      <td>Shooter</td>\n",
       "    </tr>\n",
       "    <tr>\n",
       "      <th>4</th>\n",
       "      <td>Shooter,FPS</td>\n",
       "    </tr>\n",
       "    <tr>\n",
       "      <th>5</th>\n",
       "      <td>Card &amp; Board Game</td>\n",
       "    </tr>\n",
       "    <tr>\n",
       "      <th>6</th>\n",
       "      <td>FPS,Shooter</td>\n",
       "    </tr>\n",
       "    <tr>\n",
       "      <th>7</th>\n",
       "      <td>Action,Shooter</td>\n",
       "    </tr>\n",
       "    <tr>\n",
       "      <th>8</th>\n",
       "      <td>RPG,Action</td>\n",
       "    </tr>\n",
       "    <tr>\n",
       "      <th>9</th>\n",
       "      <td>Sports Game</td>\n",
       "    </tr>\n",
       "  </tbody>\n",
       "</table>\n",
       "</div>"
      ],
      "text/plain": [
       "   recommended_genre\n",
       "0         MMORPG,RPG\n",
       "1         Action,RPG\n",
       "2             MMORPG\n",
       "3            Shooter\n",
       "4        Shooter,FPS\n",
       "5  Card & Board Game\n",
       "6        FPS,Shooter\n",
       "7     Action,Shooter\n",
       "8         RPG,Action\n",
       "9        Sports Game"
      ]
     },
     "execution_count": 260,
     "metadata": {},
     "output_type": "execute_result"
    }
   ],
   "source": [
    "recommendation = pd.DataFrame(genre_user_based_list,columns=['recommended_genre'])\n",
    "recommendation"
   ]
  },
  {
   "cell_type": "code",
   "execution_count": 261,
   "metadata": {},
   "outputs": [
    {
     "data": {
      "text/plain": [
       "array(['MMORPG,RPG', 'Action,RPG', 'MMORPG', 'Shooter', 'Shooter,FPS',\n",
       "       'Card & Board Game', 'FPS,Shooter', 'Action,Shooter', 'RPG,Action',\n",
       "       'Sports Game'], dtype=object)"
      ]
     },
     "execution_count": 261,
     "metadata": {},
     "output_type": "execute_result"
    }
   ],
   "source": [
    "recommendation['recommended_genre'].unique()"
   ]
  },
  {
   "cell_type": "code",
   "execution_count": 262,
   "metadata": {},
   "outputs": [
    {
     "data": {
      "text/plain": [
       "['MMORPG',\n",
       " 'RPG',\n",
       " 'Action',\n",
       " 'RPG',\n",
       " 'MMORPG',\n",
       " 'Shooter',\n",
       " 'Shooter',\n",
       " 'FPS',\n",
       " 'Card & Board Game',\n",
       " 'FPS',\n",
       " 'Shooter',\n",
       " 'Action',\n",
       " 'Shooter',\n",
       " 'RPG',\n",
       " 'Action',\n",
       " 'Sports Game']"
      ]
     },
     "execution_count": 262,
     "metadata": {},
     "output_type": "execute_result"
    }
   ],
   "source": [
    "from itertools import chain\n",
    "game_genre_initial = recommendation['recommended_genre'].map(lambda x: x.split(',')).values.tolist()\n",
    "all_game_genre = list(chain(*game_genre_initial))\n",
    "all_game_genre"
   ]
  },
  {
   "cell_type": "code",
   "execution_count": 263,
   "metadata": {},
   "outputs": [
    {
     "data": {
      "text/plain": [
       "Counter({'MMORPG': 2,\n",
       "         'RPG': 3,\n",
       "         'Action': 3,\n",
       "         'Shooter': 4,\n",
       "         'FPS': 2,\n",
       "         'Card & Board Game': 1,\n",
       "         'Sports Game': 1})"
      ]
     },
     "execution_count": 263,
     "metadata": {},
     "output_type": "execute_result"
    }
   ],
   "source": [
    "from collections import Counter\n",
    "count_recommended_genre = Counter(all_game_genre)\n",
    "count_recommended_genre"
   ]
  },
  {
   "cell_type": "code",
   "execution_count": 264,
   "metadata": {},
   "outputs": [],
   "source": [
    "count_recommended_genre_df = pd.DataFrame.from_dict(count_recommended_genre, orient='index').reset_index()\n",
    "count_recommended_genre_df = count_recommended_genre_df.rename(columns={'index':'genres_recommended', 0:'count'})"
   ]
  },
  {
   "cell_type": "code",
   "execution_count": 265,
   "metadata": {},
   "outputs": [
    {
     "data": {
      "text/html": [
       "<div>\n",
       "<style scoped>\n",
       "    .dataframe tbody tr th:only-of-type {\n",
       "        vertical-align: middle;\n",
       "    }\n",
       "\n",
       "    .dataframe tbody tr th {\n",
       "        vertical-align: top;\n",
       "    }\n",
       "\n",
       "    .dataframe thead th {\n",
       "        text-align: right;\n",
       "    }\n",
       "</style>\n",
       "<table border=\"1\" class=\"dataframe\">\n",
       "  <thead>\n",
       "    <tr style=\"text-align: right;\">\n",
       "      <th></th>\n",
       "      <th>genres_recommended</th>\n",
       "      <th>count</th>\n",
       "    </tr>\n",
       "  </thead>\n",
       "  <tbody>\n",
       "    <tr>\n",
       "      <th>0</th>\n",
       "      <td>MMORPG</td>\n",
       "      <td>2</td>\n",
       "    </tr>\n",
       "    <tr>\n",
       "      <th>1</th>\n",
       "      <td>RPG</td>\n",
       "      <td>3</td>\n",
       "    </tr>\n",
       "    <tr>\n",
       "      <th>2</th>\n",
       "      <td>Action</td>\n",
       "      <td>3</td>\n",
       "    </tr>\n",
       "    <tr>\n",
       "      <th>3</th>\n",
       "      <td>Shooter</td>\n",
       "      <td>4</td>\n",
       "    </tr>\n",
       "    <tr>\n",
       "      <th>4</th>\n",
       "      <td>FPS</td>\n",
       "      <td>2</td>\n",
       "    </tr>\n",
       "    <tr>\n",
       "      <th>5</th>\n",
       "      <td>Card &amp; Board Game</td>\n",
       "      <td>1</td>\n",
       "    </tr>\n",
       "    <tr>\n",
       "      <th>6</th>\n",
       "      <td>Sports Game</td>\n",
       "      <td>1</td>\n",
       "    </tr>\n",
       "  </tbody>\n",
       "</table>\n",
       "</div>"
      ],
      "text/plain": [
       "  genres_recommended  count\n",
       "0             MMORPG      2\n",
       "1                RPG      3\n",
       "2             Action      3\n",
       "3            Shooter      4\n",
       "4                FPS      2\n",
       "5  Card & Board Game      1\n",
       "6        Sports Game      1"
      ]
     },
     "execution_count": 265,
     "metadata": {},
     "output_type": "execute_result"
    }
   ],
   "source": [
    "count_recommended_genre_df"
   ]
  },
  {
   "cell_type": "code",
   "execution_count": 266,
   "metadata": {},
   "outputs": [
    {
     "data": {
      "application/vnd.plotly.v1+json": {
       "config": {
        "plotlyServerURL": "https://plot.ly"
       },
       "data": [
        {
         "domain": {
          "x": [
           0,
           1
          ],
          "y": [
           0,
           1
          ]
         },
         "hoverlabel": {
          "namelength": 0
         },
         "hovertemplate": "genres_recommended=%{label}<br>count=%{value}",
         "labels": [
          "MMORPG",
          "RPG",
          "Action",
          "Shooter",
          "FPS",
          "Card & Board Game",
          "Sports Game"
         ],
         "legendgroup": "",
         "name": "",
         "showlegend": true,
         "type": "pie",
         "values": [
          2,
          3,
          3,
          4,
          2,
          1,
          1
         ]
        }
       ],
       "layout": {
        "legend": {
         "tracegroupgap": 0
        },
        "margin": {
         "t": 60
        },
        "template": {
         "data": {
          "bar": [
           {
            "error_x": {
             "color": "#2a3f5f"
            },
            "error_y": {
             "color": "#2a3f5f"
            },
            "marker": {
             "line": {
              "color": "#E5ECF6",
              "width": 0.5
             }
            },
            "type": "bar"
           }
          ],
          "barpolar": [
           {
            "marker": {
             "line": {
              "color": "#E5ECF6",
              "width": 0.5
             }
            },
            "type": "barpolar"
           }
          ],
          "carpet": [
           {
            "aaxis": {
             "endlinecolor": "#2a3f5f",
             "gridcolor": "white",
             "linecolor": "white",
             "minorgridcolor": "white",
             "startlinecolor": "#2a3f5f"
            },
            "baxis": {
             "endlinecolor": "#2a3f5f",
             "gridcolor": "white",
             "linecolor": "white",
             "minorgridcolor": "white",
             "startlinecolor": "#2a3f5f"
            },
            "type": "carpet"
           }
          ],
          "choropleth": [
           {
            "colorbar": {
             "outlinewidth": 0,
             "ticks": ""
            },
            "type": "choropleth"
           }
          ],
          "contour": [
           {
            "colorbar": {
             "outlinewidth": 0,
             "ticks": ""
            },
            "colorscale": [
             [
              0,
              "#0d0887"
             ],
             [
              0.1111111111111111,
              "#46039f"
             ],
             [
              0.2222222222222222,
              "#7201a8"
             ],
             [
              0.3333333333333333,
              "#9c179e"
             ],
             [
              0.4444444444444444,
              "#bd3786"
             ],
             [
              0.5555555555555556,
              "#d8576b"
             ],
             [
              0.6666666666666666,
              "#ed7953"
             ],
             [
              0.7777777777777778,
              "#fb9f3a"
             ],
             [
              0.8888888888888888,
              "#fdca26"
             ],
             [
              1,
              "#f0f921"
             ]
            ],
            "type": "contour"
           }
          ],
          "contourcarpet": [
           {
            "colorbar": {
             "outlinewidth": 0,
             "ticks": ""
            },
            "type": "contourcarpet"
           }
          ],
          "heatmap": [
           {
            "colorbar": {
             "outlinewidth": 0,
             "ticks": ""
            },
            "colorscale": [
             [
              0,
              "#0d0887"
             ],
             [
              0.1111111111111111,
              "#46039f"
             ],
             [
              0.2222222222222222,
              "#7201a8"
             ],
             [
              0.3333333333333333,
              "#9c179e"
             ],
             [
              0.4444444444444444,
              "#bd3786"
             ],
             [
              0.5555555555555556,
              "#d8576b"
             ],
             [
              0.6666666666666666,
              "#ed7953"
             ],
             [
              0.7777777777777778,
              "#fb9f3a"
             ],
             [
              0.8888888888888888,
              "#fdca26"
             ],
             [
              1,
              "#f0f921"
             ]
            ],
            "type": "heatmap"
           }
          ],
          "heatmapgl": [
           {
            "colorbar": {
             "outlinewidth": 0,
             "ticks": ""
            },
            "colorscale": [
             [
              0,
              "#0d0887"
             ],
             [
              0.1111111111111111,
              "#46039f"
             ],
             [
              0.2222222222222222,
              "#7201a8"
             ],
             [
              0.3333333333333333,
              "#9c179e"
             ],
             [
              0.4444444444444444,
              "#bd3786"
             ],
             [
              0.5555555555555556,
              "#d8576b"
             ],
             [
              0.6666666666666666,
              "#ed7953"
             ],
             [
              0.7777777777777778,
              "#fb9f3a"
             ],
             [
              0.8888888888888888,
              "#fdca26"
             ],
             [
              1,
              "#f0f921"
             ]
            ],
            "type": "heatmapgl"
           }
          ],
          "histogram": [
           {
            "marker": {
             "colorbar": {
              "outlinewidth": 0,
              "ticks": ""
             }
            },
            "type": "histogram"
           }
          ],
          "histogram2d": [
           {
            "colorbar": {
             "outlinewidth": 0,
             "ticks": ""
            },
            "colorscale": [
             [
              0,
              "#0d0887"
             ],
             [
              0.1111111111111111,
              "#46039f"
             ],
             [
              0.2222222222222222,
              "#7201a8"
             ],
             [
              0.3333333333333333,
              "#9c179e"
             ],
             [
              0.4444444444444444,
              "#bd3786"
             ],
             [
              0.5555555555555556,
              "#d8576b"
             ],
             [
              0.6666666666666666,
              "#ed7953"
             ],
             [
              0.7777777777777778,
              "#fb9f3a"
             ],
             [
              0.8888888888888888,
              "#fdca26"
             ],
             [
              1,
              "#f0f921"
             ]
            ],
            "type": "histogram2d"
           }
          ],
          "histogram2dcontour": [
           {
            "colorbar": {
             "outlinewidth": 0,
             "ticks": ""
            },
            "colorscale": [
             [
              0,
              "#0d0887"
             ],
             [
              0.1111111111111111,
              "#46039f"
             ],
             [
              0.2222222222222222,
              "#7201a8"
             ],
             [
              0.3333333333333333,
              "#9c179e"
             ],
             [
              0.4444444444444444,
              "#bd3786"
             ],
             [
              0.5555555555555556,
              "#d8576b"
             ],
             [
              0.6666666666666666,
              "#ed7953"
             ],
             [
              0.7777777777777778,
              "#fb9f3a"
             ],
             [
              0.8888888888888888,
              "#fdca26"
             ],
             [
              1,
              "#f0f921"
             ]
            ],
            "type": "histogram2dcontour"
           }
          ],
          "mesh3d": [
           {
            "colorbar": {
             "outlinewidth": 0,
             "ticks": ""
            },
            "type": "mesh3d"
           }
          ],
          "parcoords": [
           {
            "line": {
             "colorbar": {
              "outlinewidth": 0,
              "ticks": ""
             }
            },
            "type": "parcoords"
           }
          ],
          "pie": [
           {
            "automargin": true,
            "type": "pie"
           }
          ],
          "scatter": [
           {
            "marker": {
             "colorbar": {
              "outlinewidth": 0,
              "ticks": ""
             }
            },
            "type": "scatter"
           }
          ],
          "scatter3d": [
           {
            "line": {
             "colorbar": {
              "outlinewidth": 0,
              "ticks": ""
             }
            },
            "marker": {
             "colorbar": {
              "outlinewidth": 0,
              "ticks": ""
             }
            },
            "type": "scatter3d"
           }
          ],
          "scattercarpet": [
           {
            "marker": {
             "colorbar": {
              "outlinewidth": 0,
              "ticks": ""
             }
            },
            "type": "scattercarpet"
           }
          ],
          "scattergeo": [
           {
            "marker": {
             "colorbar": {
              "outlinewidth": 0,
              "ticks": ""
             }
            },
            "type": "scattergeo"
           }
          ],
          "scattergl": [
           {
            "marker": {
             "colorbar": {
              "outlinewidth": 0,
              "ticks": ""
             }
            },
            "type": "scattergl"
           }
          ],
          "scattermapbox": [
           {
            "marker": {
             "colorbar": {
              "outlinewidth": 0,
              "ticks": ""
             }
            },
            "type": "scattermapbox"
           }
          ],
          "scatterpolar": [
           {
            "marker": {
             "colorbar": {
              "outlinewidth": 0,
              "ticks": ""
             }
            },
            "type": "scatterpolar"
           }
          ],
          "scatterpolargl": [
           {
            "marker": {
             "colorbar": {
              "outlinewidth": 0,
              "ticks": ""
             }
            },
            "type": "scatterpolargl"
           }
          ],
          "scatterternary": [
           {
            "marker": {
             "colorbar": {
              "outlinewidth": 0,
              "ticks": ""
             }
            },
            "type": "scatterternary"
           }
          ],
          "surface": [
           {
            "colorbar": {
             "outlinewidth": 0,
             "ticks": ""
            },
            "colorscale": [
             [
              0,
              "#0d0887"
             ],
             [
              0.1111111111111111,
              "#46039f"
             ],
             [
              0.2222222222222222,
              "#7201a8"
             ],
             [
              0.3333333333333333,
              "#9c179e"
             ],
             [
              0.4444444444444444,
              "#bd3786"
             ],
             [
              0.5555555555555556,
              "#d8576b"
             ],
             [
              0.6666666666666666,
              "#ed7953"
             ],
             [
              0.7777777777777778,
              "#fb9f3a"
             ],
             [
              0.8888888888888888,
              "#fdca26"
             ],
             [
              1,
              "#f0f921"
             ]
            ],
            "type": "surface"
           }
          ],
          "table": [
           {
            "cells": {
             "fill": {
              "color": "#EBF0F8"
             },
             "line": {
              "color": "white"
             }
            },
            "header": {
             "fill": {
              "color": "#C8D4E3"
             },
             "line": {
              "color": "white"
             }
            },
            "type": "table"
           }
          ]
         },
         "layout": {
          "annotationdefaults": {
           "arrowcolor": "#2a3f5f",
           "arrowhead": 0,
           "arrowwidth": 1
          },
          "coloraxis": {
           "colorbar": {
            "outlinewidth": 0,
            "ticks": ""
           }
          },
          "colorscale": {
           "diverging": [
            [
             0,
             "#8e0152"
            ],
            [
             0.1,
             "#c51b7d"
            ],
            [
             0.2,
             "#de77ae"
            ],
            [
             0.3,
             "#f1b6da"
            ],
            [
             0.4,
             "#fde0ef"
            ],
            [
             0.5,
             "#f7f7f7"
            ],
            [
             0.6,
             "#e6f5d0"
            ],
            [
             0.7,
             "#b8e186"
            ],
            [
             0.8,
             "#7fbc41"
            ],
            [
             0.9,
             "#4d9221"
            ],
            [
             1,
             "#276419"
            ]
           ],
           "sequential": [
            [
             0,
             "#0d0887"
            ],
            [
             0.1111111111111111,
             "#46039f"
            ],
            [
             0.2222222222222222,
             "#7201a8"
            ],
            [
             0.3333333333333333,
             "#9c179e"
            ],
            [
             0.4444444444444444,
             "#bd3786"
            ],
            [
             0.5555555555555556,
             "#d8576b"
            ],
            [
             0.6666666666666666,
             "#ed7953"
            ],
            [
             0.7777777777777778,
             "#fb9f3a"
            ],
            [
             0.8888888888888888,
             "#fdca26"
            ],
            [
             1,
             "#f0f921"
            ]
           ],
           "sequentialminus": [
            [
             0,
             "#0d0887"
            ],
            [
             0.1111111111111111,
             "#46039f"
            ],
            [
             0.2222222222222222,
             "#7201a8"
            ],
            [
             0.3333333333333333,
             "#9c179e"
            ],
            [
             0.4444444444444444,
             "#bd3786"
            ],
            [
             0.5555555555555556,
             "#d8576b"
            ],
            [
             0.6666666666666666,
             "#ed7953"
            ],
            [
             0.7777777777777778,
             "#fb9f3a"
            ],
            [
             0.8888888888888888,
             "#fdca26"
            ],
            [
             1,
             "#f0f921"
            ]
           ]
          },
          "colorway": [
           "#636efa",
           "#EF553B",
           "#00cc96",
           "#ab63fa",
           "#FFA15A",
           "#19d3f3",
           "#FF6692",
           "#B6E880",
           "#FF97FF",
           "#FECB52"
          ],
          "font": {
           "color": "#2a3f5f"
          },
          "geo": {
           "bgcolor": "white",
           "lakecolor": "white",
           "landcolor": "#E5ECF6",
           "showlakes": true,
           "showland": true,
           "subunitcolor": "white"
          },
          "hoverlabel": {
           "align": "left"
          },
          "hovermode": "closest",
          "mapbox": {
           "style": "light"
          },
          "paper_bgcolor": "white",
          "plot_bgcolor": "#E5ECF6",
          "polar": {
           "angularaxis": {
            "gridcolor": "white",
            "linecolor": "white",
            "ticks": ""
           },
           "bgcolor": "#E5ECF6",
           "radialaxis": {
            "gridcolor": "white",
            "linecolor": "white",
            "ticks": ""
           }
          },
          "scene": {
           "xaxis": {
            "backgroundcolor": "#E5ECF6",
            "gridcolor": "white",
            "gridwidth": 2,
            "linecolor": "white",
            "showbackground": true,
            "ticks": "",
            "zerolinecolor": "white"
           },
           "yaxis": {
            "backgroundcolor": "#E5ECF6",
            "gridcolor": "white",
            "gridwidth": 2,
            "linecolor": "white",
            "showbackground": true,
            "ticks": "",
            "zerolinecolor": "white"
           },
           "zaxis": {
            "backgroundcolor": "#E5ECF6",
            "gridcolor": "white",
            "gridwidth": 2,
            "linecolor": "white",
            "showbackground": true,
            "ticks": "",
            "zerolinecolor": "white"
           }
          },
          "shapedefaults": {
           "line": {
            "color": "#2a3f5f"
           }
          },
          "ternary": {
           "aaxis": {
            "gridcolor": "white",
            "linecolor": "white",
            "ticks": ""
           },
           "baxis": {
            "gridcolor": "white",
            "linecolor": "white",
            "ticks": ""
           },
           "bgcolor": "#E5ECF6",
           "caxis": {
            "gridcolor": "white",
            "linecolor": "white",
            "ticks": ""
           }
          },
          "title": {
           "x": 0.05
          },
          "xaxis": {
           "automargin": true,
           "gridcolor": "white",
           "linecolor": "white",
           "ticks": "",
           "title": {
            "standoff": 15
           },
           "zerolinecolor": "white",
           "zerolinewidth": 2
          },
          "yaxis": {
           "automargin": true,
           "gridcolor": "white",
           "linecolor": "white",
           "ticks": "",
           "title": {
            "standoff": 15
           },
           "zerolinecolor": "white",
           "zerolinewidth": 2
          }
         }
        }
       }
      },
      "text/html": [
       "<div>\n",
       "        \n",
       "        \n",
       "            <div id=\"ebb378e9-ad27-46b3-a391-5a9166d32b12\" class=\"plotly-graph-div\" style=\"height:525px; width:100%;\"></div>\n",
       "            <script type=\"text/javascript\">\n",
       "                require([\"plotly\"], function(Plotly) {\n",
       "                    window.PLOTLYENV=window.PLOTLYENV || {};\n",
       "                    \n",
       "                if (document.getElementById(\"ebb378e9-ad27-46b3-a391-5a9166d32b12\")) {\n",
       "                    Plotly.newPlot(\n",
       "                        'ebb378e9-ad27-46b3-a391-5a9166d32b12',\n",
       "                        [{\"domain\": {\"x\": [0.0, 1.0], \"y\": [0.0, 1.0]}, \"hoverlabel\": {\"namelength\": 0}, \"hovertemplate\": \"genres_recommended=%{label}<br>count=%{value}\", \"labels\": [\"MMORPG\", \"RPG\", \"Action\", \"Shooter\", \"FPS\", \"Card & Board Game\", \"Sports Game\"], \"legendgroup\": \"\", \"name\": \"\", \"showlegend\": true, \"type\": \"pie\", \"values\": [2, 3, 3, 4, 2, 1, 1]}],\n",
       "                        {\"legend\": {\"tracegroupgap\": 0}, \"margin\": {\"t\": 60}, \"template\": {\"data\": {\"bar\": [{\"error_x\": {\"color\": \"#2a3f5f\"}, \"error_y\": {\"color\": \"#2a3f5f\"}, \"marker\": {\"line\": {\"color\": \"#E5ECF6\", \"width\": 0.5}}, \"type\": \"bar\"}], \"barpolar\": [{\"marker\": {\"line\": {\"color\": \"#E5ECF6\", \"width\": 0.5}}, \"type\": \"barpolar\"}], \"carpet\": [{\"aaxis\": {\"endlinecolor\": \"#2a3f5f\", \"gridcolor\": \"white\", \"linecolor\": \"white\", \"minorgridcolor\": \"white\", \"startlinecolor\": \"#2a3f5f\"}, \"baxis\": {\"endlinecolor\": \"#2a3f5f\", \"gridcolor\": \"white\", \"linecolor\": \"white\", \"minorgridcolor\": \"white\", \"startlinecolor\": \"#2a3f5f\"}, \"type\": \"carpet\"}], \"choropleth\": [{\"colorbar\": {\"outlinewidth\": 0, \"ticks\": \"\"}, \"type\": \"choropleth\"}], \"contour\": [{\"colorbar\": {\"outlinewidth\": 0, \"ticks\": \"\"}, \"colorscale\": [[0.0, \"#0d0887\"], [0.1111111111111111, \"#46039f\"], [0.2222222222222222, \"#7201a8\"], [0.3333333333333333, \"#9c179e\"], [0.4444444444444444, \"#bd3786\"], [0.5555555555555556, \"#d8576b\"], [0.6666666666666666, \"#ed7953\"], [0.7777777777777778, \"#fb9f3a\"], [0.8888888888888888, \"#fdca26\"], [1.0, \"#f0f921\"]], \"type\": \"contour\"}], \"contourcarpet\": [{\"colorbar\": {\"outlinewidth\": 0, \"ticks\": \"\"}, \"type\": \"contourcarpet\"}], \"heatmap\": [{\"colorbar\": {\"outlinewidth\": 0, \"ticks\": \"\"}, \"colorscale\": [[0.0, \"#0d0887\"], [0.1111111111111111, \"#46039f\"], [0.2222222222222222, \"#7201a8\"], [0.3333333333333333, \"#9c179e\"], [0.4444444444444444, \"#bd3786\"], [0.5555555555555556, \"#d8576b\"], [0.6666666666666666, \"#ed7953\"], [0.7777777777777778, \"#fb9f3a\"], [0.8888888888888888, \"#fdca26\"], [1.0, \"#f0f921\"]], \"type\": \"heatmap\"}], \"heatmapgl\": [{\"colorbar\": {\"outlinewidth\": 0, \"ticks\": \"\"}, \"colorscale\": [[0.0, \"#0d0887\"], [0.1111111111111111, \"#46039f\"], [0.2222222222222222, \"#7201a8\"], [0.3333333333333333, \"#9c179e\"], [0.4444444444444444, \"#bd3786\"], [0.5555555555555556, \"#d8576b\"], [0.6666666666666666, \"#ed7953\"], [0.7777777777777778, \"#fb9f3a\"], [0.8888888888888888, \"#fdca26\"], [1.0, \"#f0f921\"]], \"type\": \"heatmapgl\"}], \"histogram\": [{\"marker\": {\"colorbar\": {\"outlinewidth\": 0, \"ticks\": \"\"}}, \"type\": \"histogram\"}], \"histogram2d\": [{\"colorbar\": {\"outlinewidth\": 0, \"ticks\": \"\"}, \"colorscale\": [[0.0, \"#0d0887\"], [0.1111111111111111, \"#46039f\"], [0.2222222222222222, \"#7201a8\"], [0.3333333333333333, \"#9c179e\"], [0.4444444444444444, \"#bd3786\"], [0.5555555555555556, \"#d8576b\"], [0.6666666666666666, \"#ed7953\"], [0.7777777777777778, \"#fb9f3a\"], [0.8888888888888888, \"#fdca26\"], [1.0, \"#f0f921\"]], \"type\": \"histogram2d\"}], \"histogram2dcontour\": [{\"colorbar\": {\"outlinewidth\": 0, \"ticks\": \"\"}, \"colorscale\": [[0.0, \"#0d0887\"], [0.1111111111111111, \"#46039f\"], [0.2222222222222222, \"#7201a8\"], [0.3333333333333333, \"#9c179e\"], [0.4444444444444444, \"#bd3786\"], [0.5555555555555556, \"#d8576b\"], [0.6666666666666666, \"#ed7953\"], [0.7777777777777778, \"#fb9f3a\"], [0.8888888888888888, \"#fdca26\"], [1.0, \"#f0f921\"]], \"type\": \"histogram2dcontour\"}], \"mesh3d\": [{\"colorbar\": {\"outlinewidth\": 0, \"ticks\": \"\"}, \"type\": \"mesh3d\"}], \"parcoords\": [{\"line\": {\"colorbar\": {\"outlinewidth\": 0, \"ticks\": \"\"}}, \"type\": \"parcoords\"}], \"pie\": [{\"automargin\": true, \"type\": \"pie\"}], \"scatter\": [{\"marker\": {\"colorbar\": {\"outlinewidth\": 0, \"ticks\": \"\"}}, \"type\": \"scatter\"}], \"scatter3d\": [{\"line\": {\"colorbar\": {\"outlinewidth\": 0, \"ticks\": \"\"}}, \"marker\": {\"colorbar\": {\"outlinewidth\": 0, \"ticks\": \"\"}}, \"type\": \"scatter3d\"}], \"scattercarpet\": [{\"marker\": {\"colorbar\": {\"outlinewidth\": 0, \"ticks\": \"\"}}, \"type\": \"scattercarpet\"}], \"scattergeo\": [{\"marker\": {\"colorbar\": {\"outlinewidth\": 0, \"ticks\": \"\"}}, \"type\": \"scattergeo\"}], \"scattergl\": [{\"marker\": {\"colorbar\": {\"outlinewidth\": 0, \"ticks\": \"\"}}, \"type\": \"scattergl\"}], \"scattermapbox\": [{\"marker\": {\"colorbar\": {\"outlinewidth\": 0, \"ticks\": \"\"}}, \"type\": \"scattermapbox\"}], \"scatterpolar\": [{\"marker\": {\"colorbar\": {\"outlinewidth\": 0, \"ticks\": \"\"}}, \"type\": \"scatterpolar\"}], \"scatterpolargl\": [{\"marker\": {\"colorbar\": {\"outlinewidth\": 0, \"ticks\": \"\"}}, \"type\": \"scatterpolargl\"}], \"scatterternary\": [{\"marker\": {\"colorbar\": {\"outlinewidth\": 0, \"ticks\": \"\"}}, \"type\": \"scatterternary\"}], \"surface\": [{\"colorbar\": {\"outlinewidth\": 0, \"ticks\": \"\"}, \"colorscale\": [[0.0, \"#0d0887\"], [0.1111111111111111, \"#46039f\"], [0.2222222222222222, \"#7201a8\"], [0.3333333333333333, \"#9c179e\"], [0.4444444444444444, \"#bd3786\"], [0.5555555555555556, \"#d8576b\"], [0.6666666666666666, \"#ed7953\"], [0.7777777777777778, \"#fb9f3a\"], [0.8888888888888888, \"#fdca26\"], [1.0, \"#f0f921\"]], \"type\": \"surface\"}], \"table\": [{\"cells\": {\"fill\": {\"color\": \"#EBF0F8\"}, \"line\": {\"color\": \"white\"}}, \"header\": {\"fill\": {\"color\": \"#C8D4E3\"}, \"line\": {\"color\": \"white\"}}, \"type\": \"table\"}]}, \"layout\": {\"annotationdefaults\": {\"arrowcolor\": \"#2a3f5f\", \"arrowhead\": 0, \"arrowwidth\": 1}, \"coloraxis\": {\"colorbar\": {\"outlinewidth\": 0, \"ticks\": \"\"}}, \"colorscale\": {\"diverging\": [[0, \"#8e0152\"], [0.1, \"#c51b7d\"], [0.2, \"#de77ae\"], [0.3, \"#f1b6da\"], [0.4, \"#fde0ef\"], [0.5, \"#f7f7f7\"], [0.6, \"#e6f5d0\"], [0.7, \"#b8e186\"], [0.8, \"#7fbc41\"], [0.9, \"#4d9221\"], [1, \"#276419\"]], \"sequential\": [[0.0, \"#0d0887\"], [0.1111111111111111, \"#46039f\"], [0.2222222222222222, \"#7201a8\"], [0.3333333333333333, \"#9c179e\"], [0.4444444444444444, \"#bd3786\"], [0.5555555555555556, \"#d8576b\"], [0.6666666666666666, \"#ed7953\"], [0.7777777777777778, \"#fb9f3a\"], [0.8888888888888888, \"#fdca26\"], [1.0, \"#f0f921\"]], \"sequentialminus\": [[0.0, \"#0d0887\"], [0.1111111111111111, \"#46039f\"], [0.2222222222222222, \"#7201a8\"], [0.3333333333333333, \"#9c179e\"], [0.4444444444444444, \"#bd3786\"], [0.5555555555555556, \"#d8576b\"], [0.6666666666666666, \"#ed7953\"], [0.7777777777777778, \"#fb9f3a\"], [0.8888888888888888, \"#fdca26\"], [1.0, \"#f0f921\"]]}, \"colorway\": [\"#636efa\", \"#EF553B\", \"#00cc96\", \"#ab63fa\", \"#FFA15A\", \"#19d3f3\", \"#FF6692\", \"#B6E880\", \"#FF97FF\", \"#FECB52\"], \"font\": {\"color\": \"#2a3f5f\"}, \"geo\": {\"bgcolor\": \"white\", \"lakecolor\": \"white\", \"landcolor\": \"#E5ECF6\", \"showlakes\": true, \"showland\": true, \"subunitcolor\": \"white\"}, \"hoverlabel\": {\"align\": \"left\"}, \"hovermode\": \"closest\", \"mapbox\": {\"style\": \"light\"}, \"paper_bgcolor\": \"white\", \"plot_bgcolor\": \"#E5ECF6\", \"polar\": {\"angularaxis\": {\"gridcolor\": \"white\", \"linecolor\": \"white\", \"ticks\": \"\"}, \"bgcolor\": \"#E5ECF6\", \"radialaxis\": {\"gridcolor\": \"white\", \"linecolor\": \"white\", \"ticks\": \"\"}}, \"scene\": {\"xaxis\": {\"backgroundcolor\": \"#E5ECF6\", \"gridcolor\": \"white\", \"gridwidth\": 2, \"linecolor\": \"white\", \"showbackground\": true, \"ticks\": \"\", \"zerolinecolor\": \"white\"}, \"yaxis\": {\"backgroundcolor\": \"#E5ECF6\", \"gridcolor\": \"white\", \"gridwidth\": 2, \"linecolor\": \"white\", \"showbackground\": true, \"ticks\": \"\", \"zerolinecolor\": \"white\"}, \"zaxis\": {\"backgroundcolor\": \"#E5ECF6\", \"gridcolor\": \"white\", \"gridwidth\": 2, \"linecolor\": \"white\", \"showbackground\": true, \"ticks\": \"\", \"zerolinecolor\": \"white\"}}, \"shapedefaults\": {\"line\": {\"color\": \"#2a3f5f\"}}, \"ternary\": {\"aaxis\": {\"gridcolor\": \"white\", \"linecolor\": \"white\", \"ticks\": \"\"}, \"baxis\": {\"gridcolor\": \"white\", \"linecolor\": \"white\", \"ticks\": \"\"}, \"bgcolor\": \"#E5ECF6\", \"caxis\": {\"gridcolor\": \"white\", \"linecolor\": \"white\", \"ticks\": \"\"}}, \"title\": {\"x\": 0.05}, \"xaxis\": {\"automargin\": true, \"gridcolor\": \"white\", \"linecolor\": \"white\", \"ticks\": \"\", \"title\": {\"standoff\": 15}, \"zerolinecolor\": \"white\", \"zerolinewidth\": 2}, \"yaxis\": {\"automargin\": true, \"gridcolor\": \"white\", \"linecolor\": \"white\", \"ticks\": \"\", \"title\": {\"standoff\": 15}, \"zerolinecolor\": \"white\", \"zerolinewidth\": 2}}}},\n",
       "                        {\"responsive\": true}\n",
       "                    ).then(function(){\n",
       "                            \n",
       "var gd = document.getElementById('ebb378e9-ad27-46b3-a391-5a9166d32b12');\n",
       "var x = new MutationObserver(function (mutations, observer) {{\n",
       "        var display = window.getComputedStyle(gd).display;\n",
       "        if (!display || display === 'none') {{\n",
       "            console.log([gd, 'removed!']);\n",
       "            Plotly.purge(gd);\n",
       "            observer.disconnect();\n",
       "        }}\n",
       "}});\n",
       "\n",
       "// Listen for the removal of the full notebook cells\n",
       "var notebookContainer = gd.closest('#notebook-container');\n",
       "if (notebookContainer) {{\n",
       "    x.observe(notebookContainer, {childList: true});\n",
       "}}\n",
       "\n",
       "// Listen for the clearing of the current output cell\n",
       "var outputEl = gd.closest('.output');\n",
       "if (outputEl) {{\n",
       "    x.observe(outputEl, {childList: true});\n",
       "}}\n",
       "\n",
       "                        })\n",
       "                };\n",
       "                });\n",
       "            </script>\n",
       "        </div>"
      ]
     },
     "metadata": {},
     "output_type": "display_data"
    }
   ],
   "source": [
    "import plotly.graph_objects as go\n",
    "import plotly.express as px\n",
    "fig_genre = px.pie(count_recommended_genre_df,values='count',names='genres_recommended')\n",
    "fig_genre.show()"
   ]
  },
  {
   "cell_type": "code",
   "execution_count": null,
   "metadata": {},
   "outputs": [],
   "source": []
  }
 ],
 "metadata": {
  "kernelspec": {
   "display_name": "Python 3",
   "language": "python",
   "name": "python3"
  },
  "language_info": {
   "codemirror_mode": {
    "name": "ipython",
    "version": 3
   },
   "file_extension": ".py",
   "mimetype": "text/x-python",
   "name": "python",
   "nbconvert_exporter": "python",
   "pygments_lexer": "ipython3",
   "version": "3.7.7"
  }
 },
 "nbformat": 4,
 "nbformat_minor": 2
}
