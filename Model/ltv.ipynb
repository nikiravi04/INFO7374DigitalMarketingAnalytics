{
  "nbformat": 4,
  "nbformat_minor": 0,
  "metadata": {
    "colab": {
      "name": "ltv.ipynb",
      "provenance": []
    },
    "kernelspec": {
      "name": "python3",
      "display_name": "Python 3"
    }
  },
  "cells": [
    {
      "cell_type": "code",
      "metadata": {
        "id": "Etl-UVlMurw9",
        "colab_type": "code",
        "colab": {}
      },
      "source": [
        "from google.colab import drive\n",
        "drive.mount('/content/drive')"
      ],
      "execution_count": 0,
      "outputs": []
    },
    {
      "cell_type": "code",
      "metadata": {
        "id": "pR_sK-DOSPYg",
        "colab_type": "code",
        "colab": {}
      },
      "source": [
        "#import libraries\n",
        "from datetime import datetime, timedelta,date\n",
        "import pandas as pd\n",
        "%matplotlib inline\n",
        "from sklearn.metrics import classification_report,confusion_matrix\n",
        "import matplotlib.pyplot as plt\n",
        "import numpy as np\n",
        "import seaborn as sns\n",
        "from __future__ import division\n",
        "from sklearn.cluster import KMeans"
      ],
      "execution_count": 0,
      "outputs": []
    },
    {
      "cell_type": "code",
      "metadata": {
        "id": "znKkwvKdSsPd",
        "colab_type": "code",
        "outputId": "659603cb-f130-47ef-e281-34d0bfb44e24",
        "colab": {
          "base_uri": "https://localhost:8080/",
          "height": 69
        }
      },
      "source": [
        "pip install plotly"
      ],
      "execution_count": 0,
      "outputs": [
        {
          "output_type": "stream",
          "text": [
            "Requirement already satisfied: plotly in /usr/local/lib/python3.6/dist-packages (4.4.1)\n",
            "Requirement already satisfied: retrying>=1.3.3 in /usr/local/lib/python3.6/dist-packages (from plotly) (1.3.3)\n",
            "Requirement already satisfied: six in /usr/local/lib/python3.6/dist-packages (from plotly) (1.12.0)\n"
          ],
          "name": "stdout"
        }
      ]
    },
    {
      "cell_type": "code",
      "metadata": {
        "id": "mB5fzksEqoJf",
        "colab_type": "code",
        "colab": {}
      },
      "source": [
        "from plotly.offline import iplot, init_notebook_mode\n",
        "import plotly.graph_objects as go\n",
        "import plotly.offline as pyoff"
      ],
      "execution_count": 0,
      "outputs": []
    },
    {
      "cell_type": "code",
      "metadata": {
        "id": "PRI3LpAT2y8b",
        "colab_type": "code",
        "colab": {}
      },
      "source": [
        ""
      ],
      "execution_count": 0,
      "outputs": []
    },
    {
      "cell_type": "markdown",
      "metadata": {
        "id": "n75XvxlzTPm4",
        "colab_type": "text"
      },
      "source": [
        "Read Data from the csv"
      ]
    },
    {
      "cell_type": "code",
      "metadata": {
        "id": "ulnfFeKuTMnM",
        "colab_type": "code",
        "colab": {}
      },
      "source": [
        "tx_data = pd.read_excel(r'/content/drive/My Drive/ADM/Project/rfm/twi_ds.xlsx')\n",
        "#tx_data['start_time'] = pd.to_datetime(tx_data['start_time'])\n",
        "#tx_us = tx_data.query(\"country=='United States'\").reset_index(drop=True)"
      ],
      "execution_count": 0,
      "outputs": []
    },
    {
      "cell_type": "code",
      "metadata": {
        "id": "NOPPuIjplssM",
        "colab_type": "code",
        "colab": {}
      },
      "source": [
        "#convert the string date field to datetime\n",
        "import datetime as dt\n",
        "tx_data['start_time'] = pd.to_datetime(tx_data['start_time']).dt.date\n",
        "\n",
        "#we will be using only UK data\n",
        "tx_us = tx_data.query(\"country=='United States'\").reset_index(drop=True)"
      ],
      "execution_count": 0,
      "outputs": []
    },
    {
      "cell_type": "code",
      "metadata": {
        "id": "krauve65mFJL",
        "colab_type": "code",
        "colab": {}
      },
      "source": [
        "tx_us = tx_us[pd.notnull(tx_us['viewer_id'])]"
      ],
      "execution_count": 0,
      "outputs": []
    },
    {
      "cell_type": "code",
      "metadata": {
        "id": "VVFPA1rciVGo",
        "colab_type": "code",
        "colab": {}
      },
      "source": [
        "tx_us = tx_us[(tx_us['duration']>0)]"
      ],
      "execution_count": 0,
      "outputs": []
    },
    {
      "cell_type": "code",
      "metadata": {
        "id": "Y9OUA76Pl5ER",
        "colab_type": "code",
        "outputId": "1258dfb5-e4a1-42bc-d3f7-d5f884f636e8",
        "colab": {
          "base_uri": "https://localhost:8080/",
          "height": 202
        }
      },
      "source": [
        "tx_us.head()"
      ],
      "execution_count": 0,
      "outputs": [
        {
          "output_type": "execute_result",
          "data": {
            "text/html": [
              "<div>\n",
              "<style scoped>\n",
              "    .dataframe tbody tr th:only-of-type {\n",
              "        vertical-align: middle;\n",
              "    }\n",
              "\n",
              "    .dataframe tbody tr th {\n",
              "        vertical-align: top;\n",
              "    }\n",
              "\n",
              "    .dataframe thead th {\n",
              "        text-align: right;\n",
              "    }\n",
              "</style>\n",
              "<table border=\"1\" class=\"dataframe\">\n",
              "  <thead>\n",
              "    <tr style=\"text-align: right;\">\n",
              "      <th></th>\n",
              "      <th>visit_id</th>\n",
              "      <th>start_time</th>\n",
              "      <th>viewer_id</th>\n",
              "      <th>duration</th>\n",
              "      <th>country</th>\n",
              "    </tr>\n",
              "  </thead>\n",
              "  <tbody>\n",
              "    <tr>\n",
              "      <th>0</th>\n",
              "      <td>536945</td>\n",
              "      <td>2018-12-03</td>\n",
              "      <td>14083.0</td>\n",
              "      <td>7.95</td>\n",
              "      <td>United States</td>\n",
              "    </tr>\n",
              "    <tr>\n",
              "      <th>1</th>\n",
              "      <td>536945</td>\n",
              "      <td>2018-12-03</td>\n",
              "      <td>14083.0</td>\n",
              "      <td>7.95</td>\n",
              "      <td>United States</td>\n",
              "    </tr>\n",
              "    <tr>\n",
              "      <th>2</th>\n",
              "      <td>536945</td>\n",
              "      <td>2018-12-03</td>\n",
              "      <td>14083.0</td>\n",
              "      <td>15.90</td>\n",
              "      <td>United States</td>\n",
              "    </tr>\n",
              "    <tr>\n",
              "      <th>3</th>\n",
              "      <td>536945</td>\n",
              "      <td>2018-12-03</td>\n",
              "      <td>14083.0</td>\n",
              "      <td>16.95</td>\n",
              "      <td>United States</td>\n",
              "    </tr>\n",
              "    <tr>\n",
              "      <th>4</th>\n",
              "      <td>536945</td>\n",
              "      <td>2018-12-03</td>\n",
              "      <td>14083.0</td>\n",
              "      <td>3.75</td>\n",
              "      <td>United States</td>\n",
              "    </tr>\n",
              "  </tbody>\n",
              "</table>\n",
              "</div>"
            ],
            "text/plain": [
              "  visit_id  start_time  viewer_id  duration        country\n",
              "0   536945  2018-12-03    14083.0      7.95  United States\n",
              "1   536945  2018-12-03    14083.0      7.95  United States\n",
              "2   536945  2018-12-03    14083.0     15.90  United States\n",
              "3   536945  2018-12-03    14083.0     16.95  United States\n",
              "4   536945  2018-12-03    14083.0      3.75  United States"
            ]
          },
          "metadata": {
            "tags": []
          },
          "execution_count": 97
        }
      ]
    },
    {
      "cell_type": "code",
      "metadata": {
        "id": "zraeo7G1Tn4Z",
        "colab_type": "code",
        "colab": {}
      },
      "source": [
        "#create 3m and 6m dataframes\n",
        "tx_3m = tx_us[(tx_us.start_time < date(2019,6,1)) & (tx_us.start_time >= date(2019,3,1))].reset_index(drop=True)\n",
        "tx_6m = tx_us[(tx_us.start_time >= date(2019,6,1)) & (tx_us.start_time < date(2019,12,1))].reset_index(drop=True)"
      ],
      "execution_count": 0,
      "outputs": []
    },
    {
      "cell_type": "code",
      "metadata": {
        "id": "8zIW0U32VVWI",
        "colab_type": "code",
        "outputId": "93669850-465b-4988-fdc6-52a948130d98",
        "colab": {
          "base_uri": "https://localhost:8080/",
          "height": 415
        }
      },
      "source": [
        "tx_3m"
      ],
      "execution_count": 0,
      "outputs": [
        {
          "output_type": "execute_result",
          "data": {
            "text/html": [
              "<div>\n",
              "<style scoped>\n",
              "    .dataframe tbody tr th:only-of-type {\n",
              "        vertical-align: middle;\n",
              "    }\n",
              "\n",
              "    .dataframe tbody tr th {\n",
              "        vertical-align: top;\n",
              "    }\n",
              "\n",
              "    .dataframe thead th {\n",
              "        text-align: right;\n",
              "    }\n",
              "</style>\n",
              "<table border=\"1\" class=\"dataframe\">\n",
              "  <thead>\n",
              "    <tr style=\"text-align: right;\">\n",
              "      <th></th>\n",
              "      <th>visit_id</th>\n",
              "      <th>start_time</th>\n",
              "      <th>viewer_id</th>\n",
              "      <th>duration</th>\n",
              "      <th>country</th>\n",
              "    </tr>\n",
              "  </thead>\n",
              "  <tbody>\n",
              "    <tr>\n",
              "      <th>0</th>\n",
              "      <td>545220</td>\n",
              "      <td>2019-03-01</td>\n",
              "      <td>14620.0</td>\n",
              "      <td>15.90</td>\n",
              "      <td>United States</td>\n",
              "    </tr>\n",
              "    <tr>\n",
              "      <th>1</th>\n",
              "      <td>545220</td>\n",
              "      <td>2019-03-01</td>\n",
              "      <td>14620.0</td>\n",
              "      <td>15.90</td>\n",
              "      <td>United States</td>\n",
              "    </tr>\n",
              "    <tr>\n",
              "      <th>2</th>\n",
              "      <td>545220</td>\n",
              "      <td>2019-03-01</td>\n",
              "      <td>14620.0</td>\n",
              "      <td>19.80</td>\n",
              "      <td>United States</td>\n",
              "    </tr>\n",
              "    <tr>\n",
              "      <th>3</th>\n",
              "      <td>545220</td>\n",
              "      <td>2019-03-01</td>\n",
              "      <td>14620.0</td>\n",
              "      <td>14.85</td>\n",
              "      <td>United States</td>\n",
              "    </tr>\n",
              "    <tr>\n",
              "      <th>4</th>\n",
              "      <td>545220</td>\n",
              "      <td>2019-03-01</td>\n",
              "      <td>14620.0</td>\n",
              "      <td>15.00</td>\n",
              "      <td>United States</td>\n",
              "    </tr>\n",
              "    <tr>\n",
              "      <th>...</th>\n",
              "      <td>...</td>\n",
              "      <td>...</td>\n",
              "      <td>...</td>\n",
              "      <td>...</td>\n",
              "      <td>...</td>\n",
              "    </tr>\n",
              "    <tr>\n",
              "      <th>69516</th>\n",
              "      <td>555133</td>\n",
              "      <td>2019-05-31</td>\n",
              "      <td>16810.0</td>\n",
              "      <td>14.85</td>\n",
              "      <td>United States</td>\n",
              "    </tr>\n",
              "    <tr>\n",
              "      <th>69517</th>\n",
              "      <td>555133</td>\n",
              "      <td>2019-05-31</td>\n",
              "      <td>16810.0</td>\n",
              "      <td>18.60</td>\n",
              "      <td>United States</td>\n",
              "    </tr>\n",
              "    <tr>\n",
              "      <th>69518</th>\n",
              "      <td>555133</td>\n",
              "      <td>2019-05-31</td>\n",
              "      <td>16810.0</td>\n",
              "      <td>8.50</td>\n",
              "      <td>United States</td>\n",
              "    </tr>\n",
              "    <tr>\n",
              "      <th>69519</th>\n",
              "      <td>555133</td>\n",
              "      <td>2019-05-31</td>\n",
              "      <td>16810.0</td>\n",
              "      <td>20.80</td>\n",
              "      <td>United States</td>\n",
              "    </tr>\n",
              "    <tr>\n",
              "      <th>69520</th>\n",
              "      <td>555133</td>\n",
              "      <td>2019-05-31</td>\n",
              "      <td>16810.0</td>\n",
              "      <td>20.80</td>\n",
              "      <td>United States</td>\n",
              "    </tr>\n",
              "  </tbody>\n",
              "</table>\n",
              "<p>69521 rows × 5 columns</p>\n",
              "</div>"
            ],
            "text/plain": [
              "      visit_id  start_time  viewer_id  duration        country\n",
              "0       545220  2019-03-01    14620.0     15.90  United States\n",
              "1       545220  2019-03-01    14620.0     15.90  United States\n",
              "2       545220  2019-03-01    14620.0     19.80  United States\n",
              "3       545220  2019-03-01    14620.0     14.85  United States\n",
              "4       545220  2019-03-01    14620.0     15.00  United States\n",
              "...        ...         ...        ...       ...            ...\n",
              "69516   555133  2019-05-31    16810.0     14.85  United States\n",
              "69517   555133  2019-05-31    16810.0     18.60  United States\n",
              "69518   555133  2019-05-31    16810.0      8.50  United States\n",
              "69519   555133  2019-05-31    16810.0     20.80  United States\n",
              "69520   555133  2019-05-31    16810.0     20.80  United States\n",
              "\n",
              "[69521 rows x 5 columns]"
            ]
          },
          "metadata": {
            "tags": []
          },
          "execution_count": 99
        }
      ]
    },
    {
      "cell_type": "code",
      "metadata": {
        "id": "H4OGGK3lmQFn",
        "colab_type": "code",
        "colab": {}
      },
      "source": [
        "#create tx_user for assigning clustering\n",
        "tx_user = pd.DataFrame(tx_3m['viewer_id'].unique())\n",
        "tx_user.columns = ['viewer_id']"
      ],
      "execution_count": 0,
      "outputs": []
    },
    {
      "cell_type": "code",
      "metadata": {
        "id": "a3ueib82m1f_",
        "colab_type": "code",
        "colab": {}
      },
      "source": [
        "#order cluster method\n",
        "def order_cluster(cluster_field_name, target_field_name,df,ascending):\n",
        "    new_cluster_field_name = 'new_' + cluster_field_name\n",
        "    df_new = df.groupby(cluster_field_name)[target_field_name].mean().reset_index()\n",
        "    df_new = df_new.sort_values(by=target_field_name,ascending=ascending).reset_index(drop=True)\n",
        "    df_new['index'] = df_new.index\n",
        "    df_final = pd.merge(df,df_new[[cluster_field_name,'index']], on=cluster_field_name)\n",
        "    df_final = df_final.drop([cluster_field_name],axis=1)\n",
        "    df_final = df_final.rename(columns={\"index\":cluster_field_name})\n",
        "    return df_final"
      ],
      "execution_count": 0,
      "outputs": []
    },
    {
      "cell_type": "markdown",
      "metadata": {
        "id": "_Fz6QASRiY7E",
        "colab_type": "text"
      },
      "source": [
        "Recency"
      ]
    },
    {
      "cell_type": "code",
      "metadata": {
        "id": "kX5byhvhoFlk",
        "colab_type": "code",
        "colab": {}
      },
      "source": [
        "#calculate recency score\n",
        "tx_max_purchase = tx_3m.groupby('viewer_id').start_time.max().reset_index()\n",
        "tx_max_purchase.columns = ['viewer_id','MaxPurchaseDate']\n",
        "tx_max_purchase['Recency'] = (tx_max_purchase['MaxPurchaseDate'].max() - tx_max_purchase['MaxPurchaseDate']).dt.days\n",
        "tx_user = pd.merge(tx_user, tx_max_purchase[['viewer_id','Recency']], on='viewer_id')\n",
        "\n",
        "kmeans = KMeans(n_clusters=4)\n",
        "kmeans.fit(tx_user[['Recency']])\n",
        "tx_user['RecencyCluster'] = kmeans.predict(tx_user[['Recency']])\n",
        "\n",
        "tx_user = order_cluster('RecencyCluster', 'Recency',tx_user,False)\n"
      ],
      "execution_count": 0,
      "outputs": []
    },
    {
      "cell_type": "code",
      "metadata": {
        "id": "xBLczVl_dFpY",
        "colab_type": "code",
        "outputId": "248d40d9-3b12-406d-f735-b2407010ed57",
        "colab": {
          "base_uri": "https://localhost:8080/",
          "height": 202
        }
      },
      "source": [
        "tx_user.groupby('RecencyCluster')['Recency'].describe()"
      ],
      "execution_count": 0,
      "outputs": [
        {
          "output_type": "execute_result",
          "data": {
            "text/html": [
              "<div>\n",
              "<style scoped>\n",
              "    .dataframe tbody tr th:only-of-type {\n",
              "        vertical-align: middle;\n",
              "    }\n",
              "\n",
              "    .dataframe tbody tr th {\n",
              "        vertical-align: top;\n",
              "    }\n",
              "\n",
              "    .dataframe thead th {\n",
              "        text-align: right;\n",
              "    }\n",
              "</style>\n",
              "<table border=\"1\" class=\"dataframe\">\n",
              "  <thead>\n",
              "    <tr style=\"text-align: right;\">\n",
              "      <th></th>\n",
              "      <th>count</th>\n",
              "      <th>mean</th>\n",
              "      <th>std</th>\n",
              "      <th>min</th>\n",
              "      <th>25%</th>\n",
              "      <th>50%</th>\n",
              "      <th>75%</th>\n",
              "      <th>max</th>\n",
              "    </tr>\n",
              "    <tr>\n",
              "      <th>RecencyCluster</th>\n",
              "      <th></th>\n",
              "      <th></th>\n",
              "      <th></th>\n",
              "      <th></th>\n",
              "      <th></th>\n",
              "      <th></th>\n",
              "      <th></th>\n",
              "      <th></th>\n",
              "    </tr>\n",
              "  </thead>\n",
              "  <tbody>\n",
              "    <tr>\n",
              "      <th>0</th>\n",
              "      <td>353.0</td>\n",
              "      <td>76.660057</td>\n",
              "      <td>8.387153</td>\n",
              "      <td>64.0</td>\n",
              "      <td>69.00</td>\n",
              "      <td>75.0</td>\n",
              "      <td>84.0</td>\n",
              "      <td>91.0</td>\n",
              "    </tr>\n",
              "    <tr>\n",
              "      <th>1</th>\n",
              "      <td>435.0</td>\n",
              "      <td>50.400000</td>\n",
              "      <td>7.205413</td>\n",
              "      <td>40.0</td>\n",
              "      <td>44.00</td>\n",
              "      <td>50.0</td>\n",
              "      <td>56.0</td>\n",
              "      <td>63.0</td>\n",
              "    </tr>\n",
              "    <tr>\n",
              "      <th>2</th>\n",
              "      <td>449.0</td>\n",
              "      <td>24.412027</td>\n",
              "      <td>4.967927</td>\n",
              "      <td>18.0</td>\n",
              "      <td>20.00</td>\n",
              "      <td>23.0</td>\n",
              "      <td>27.0</td>\n",
              "      <td>35.0</td>\n",
              "    </tr>\n",
              "    <tr>\n",
              "      <th>3</th>\n",
              "      <td>564.0</td>\n",
              "      <td>8.826241</td>\n",
              "      <td>4.485020</td>\n",
              "      <td>0.0</td>\n",
              "      <td>5.75</td>\n",
              "      <td>9.0</td>\n",
              "      <td>12.0</td>\n",
              "      <td>16.0</td>\n",
              "    </tr>\n",
              "  </tbody>\n",
              "</table>\n",
              "</div>"
            ],
            "text/plain": [
              "                count       mean       std   min    25%   50%   75%   max\n",
              "RecencyCluster                                                           \n",
              "0               353.0  76.660057  8.387153  64.0  69.00  75.0  84.0  91.0\n",
              "1               435.0  50.400000  7.205413  40.0  44.00  50.0  56.0  63.0\n",
              "2               449.0  24.412027  4.967927  18.0  20.00  23.0  27.0  35.0\n",
              "3               564.0   8.826241  4.485020   0.0   5.75   9.0  12.0  16.0"
            ]
          },
          "metadata": {
            "tags": []
          },
          "execution_count": 103
        }
      ]
    },
    {
      "cell_type": "markdown",
      "metadata": {
        "id": "uy6Re8uPilpw",
        "colab_type": "text"
      },
      "source": [
        "Frequency "
      ]
    },
    {
      "cell_type": "code",
      "metadata": {
        "id": "dg-t2TS1dBEQ",
        "colab_type": "code",
        "colab": {}
      },
      "source": [
        "\n",
        "#calcuate frequency score\n",
        "tx_frequency = tx_3m.groupby('viewer_id').start_time.count().reset_index()\n",
        "tx_frequency.columns = ['viewer_id','Frequency']\n",
        "tx_user = pd.merge(tx_user, tx_frequency, on='viewer_id')\n",
        "\n",
        "kmeans = KMeans(n_clusters=4)\n",
        "kmeans.fit(tx_user[['Frequency']])\n",
        "tx_user['FrequencyCluster'] = kmeans.predict(tx_user[['Frequency']])\n",
        "\n",
        "tx_user = order_cluster('FrequencyCluster', 'Frequency',tx_user,True)"
      ],
      "execution_count": 0,
      "outputs": []
    },
    {
      "cell_type": "code",
      "metadata": {
        "id": "qBbvZMdhdf98",
        "colab_type": "code",
        "outputId": "d793255c-5fad-4a88-d950-005ec66932f4",
        "colab": {
          "base_uri": "https://localhost:8080/",
          "height": 202
        }
      },
      "source": [
        "tx_user.groupby('FrequencyCluster')['Frequency'].describe()"
      ],
      "execution_count": 0,
      "outputs": [
        {
          "output_type": "execute_result",
          "data": {
            "text/html": [
              "<div>\n",
              "<style scoped>\n",
              "    .dataframe tbody tr th:only-of-type {\n",
              "        vertical-align: middle;\n",
              "    }\n",
              "\n",
              "    .dataframe tbody tr th {\n",
              "        vertical-align: top;\n",
              "    }\n",
              "\n",
              "    .dataframe thead th {\n",
              "        text-align: right;\n",
              "    }\n",
              "</style>\n",
              "<table border=\"1\" class=\"dataframe\">\n",
              "  <thead>\n",
              "    <tr style=\"text-align: right;\">\n",
              "      <th></th>\n",
              "      <th>count</th>\n",
              "      <th>mean</th>\n",
              "      <th>std</th>\n",
              "      <th>min</th>\n",
              "      <th>25%</th>\n",
              "      <th>50%</th>\n",
              "      <th>75%</th>\n",
              "      <th>max</th>\n",
              "    </tr>\n",
              "    <tr>\n",
              "      <th>FrequencyCluster</th>\n",
              "      <th></th>\n",
              "      <th></th>\n",
              "      <th></th>\n",
              "      <th></th>\n",
              "      <th></th>\n",
              "      <th></th>\n",
              "      <th></th>\n",
              "      <th></th>\n",
              "    </tr>\n",
              "  </thead>\n",
              "  <tbody>\n",
              "    <tr>\n",
              "      <th>0</th>\n",
              "      <td>1563.0</td>\n",
              "      <td>23.936020</td>\n",
              "      <td>17.259294</td>\n",
              "      <td>1.0</td>\n",
              "      <td>10.0</td>\n",
              "      <td>20.0</td>\n",
              "      <td>35.0</td>\n",
              "      <td>68.0</td>\n",
              "    </tr>\n",
              "    <tr>\n",
              "      <th>1</th>\n",
              "      <td>226.0</td>\n",
              "      <td>112.694690</td>\n",
              "      <td>43.495488</td>\n",
              "      <td>69.0</td>\n",
              "      <td>80.0</td>\n",
              "      <td>98.0</td>\n",
              "      <td>129.0</td>\n",
              "      <td>282.0</td>\n",
              "    </tr>\n",
              "    <tr>\n",
              "      <th>2</th>\n",
              "      <td>11.0</td>\n",
              "      <td>482.636364</td>\n",
              "      <td>114.820096</td>\n",
              "      <td>328.0</td>\n",
              "      <td>421.5</td>\n",
              "      <td>438.0</td>\n",
              "      <td>558.5</td>\n",
              "      <td>673.0</td>\n",
              "    </tr>\n",
              "    <tr>\n",
              "      <th>3</th>\n",
              "      <td>1.0</td>\n",
              "      <td>1331.000000</td>\n",
              "      <td>NaN</td>\n",
              "      <td>1331.0</td>\n",
              "      <td>1331.0</td>\n",
              "      <td>1331.0</td>\n",
              "      <td>1331.0</td>\n",
              "      <td>1331.0</td>\n",
              "    </tr>\n",
              "  </tbody>\n",
              "</table>\n",
              "</div>"
            ],
            "text/plain": [
              "                   count         mean         std  ...     50%     75%     max\n",
              "FrequencyCluster                                   ...                        \n",
              "0                 1563.0    23.936020   17.259294  ...    20.0    35.0    68.0\n",
              "1                  226.0   112.694690   43.495488  ...    98.0   129.0   282.0\n",
              "2                   11.0   482.636364  114.820096  ...   438.0   558.5   673.0\n",
              "3                    1.0  1331.000000         NaN  ...  1331.0  1331.0  1331.0\n",
              "\n",
              "[4 rows x 8 columns]"
            ]
          },
          "metadata": {
            "tags": []
          },
          "execution_count": 105
        }
      ]
    },
    {
      "cell_type": "markdown",
      "metadata": {
        "id": "JATN1d0Yiose",
        "colab_type": "text"
      },
      "source": [
        "Engagement"
      ]
    },
    {
      "cell_type": "code",
      "metadata": {
        "id": "OFj8HXr4xsEa",
        "colab_type": "code",
        "colab": {}
      },
      "source": [
        "#calcuate egagement score\n",
        "tx_3m['Engagement'] = tx_3m['duration']\n",
        "tx_engagement = tx_3m.groupby('viewer_id').Engagement.sum().reset_index()\n",
        "tx_user = pd.merge(tx_user, tx_engagement, on='viewer_id')\n",
        "\n",
        "kmeans = KMeans(n_clusters=4)\n",
        "kmeans.fit(tx_user[['Engagement']])\n",
        "tx_user['EngagementCluster'] = kmeans.predict(tx_user[['Engagement']])\n",
        "tx_user = order_cluster('EngagementCluster', 'Engagement',tx_user,True)\n"
      ],
      "execution_count": 0,
      "outputs": []
    },
    {
      "cell_type": "code",
      "metadata": {
        "id": "IMwOq8GVysxh",
        "colab_type": "code",
        "outputId": "1701bbea-ea68-4daf-f759-61b53ab36b77",
        "colab": {
          "base_uri": "https://localhost:8080/",
          "height": 202
        }
      },
      "source": [
        "tx_user.groupby('EngagementCluster')['Engagement'].describe()"
      ],
      "execution_count": 0,
      "outputs": [
        {
          "output_type": "execute_result",
          "data": {
            "text/html": [
              "<div>\n",
              "<style scoped>\n",
              "    .dataframe tbody tr th:only-of-type {\n",
              "        vertical-align: middle;\n",
              "    }\n",
              "\n",
              "    .dataframe tbody tr th {\n",
              "        vertical-align: top;\n",
              "    }\n",
              "\n",
              "    .dataframe thead th {\n",
              "        text-align: right;\n",
              "    }\n",
              "</style>\n",
              "<table border=\"1\" class=\"dataframe\">\n",
              "  <thead>\n",
              "    <tr style=\"text-align: right;\">\n",
              "      <th></th>\n",
              "      <th>count</th>\n",
              "      <th>mean</th>\n",
              "      <th>std</th>\n",
              "      <th>min</th>\n",
              "      <th>25%</th>\n",
              "      <th>50%</th>\n",
              "      <th>75%</th>\n",
              "      <th>max</th>\n",
              "    </tr>\n",
              "    <tr>\n",
              "      <th>EngagementCluster</th>\n",
              "      <th></th>\n",
              "      <th></th>\n",
              "      <th></th>\n",
              "      <th></th>\n",
              "      <th></th>\n",
              "      <th></th>\n",
              "      <th></th>\n",
              "      <th></th>\n",
              "    </tr>\n",
              "  </thead>\n",
              "  <tbody>\n",
              "    <tr>\n",
              "      <th>0</th>\n",
              "      <td>1529.0</td>\n",
              "      <td>399.555598</td>\n",
              "      <td>264.849790</td>\n",
              "      <td>2.90</td>\n",
              "      <td>196.2500</td>\n",
              "      <td>325.100</td>\n",
              "      <td>548.9000</td>\n",
              "      <td>1152.50</td>\n",
              "    </tr>\n",
              "    <tr>\n",
              "      <th>1</th>\n",
              "      <td>241.0</td>\n",
              "      <td>1895.813988</td>\n",
              "      <td>744.560049</td>\n",
              "      <td>1154.40</td>\n",
              "      <td>1361.3200</td>\n",
              "      <td>1622.480</td>\n",
              "      <td>2134.6700</td>\n",
              "      <td>4514.24</td>\n",
              "    </tr>\n",
              "    <tr>\n",
              "      <th>2</th>\n",
              "      <td>22.0</td>\n",
              "      <td>7283.577273</td>\n",
              "      <td>2029.230036</td>\n",
              "      <td>4867.90</td>\n",
              "      <td>6126.2125</td>\n",
              "      <td>6710.395</td>\n",
              "      <td>7985.0825</td>\n",
              "      <td>12382.32</td>\n",
              "    </tr>\n",
              "    <tr>\n",
              "      <th>3</th>\n",
              "      <td>9.0</td>\n",
              "      <td>20149.676667</td>\n",
              "      <td>6647.721889</td>\n",
              "      <td>14984.73</td>\n",
              "      <td>16296.2400</td>\n",
              "      <td>17393.540</td>\n",
              "      <td>21535.9000</td>\n",
              "      <td>35111.22</td>\n",
              "    </tr>\n",
              "  </tbody>\n",
              "</table>\n",
              "</div>"
            ],
            "text/plain": [
              "                    count          mean  ...         75%       max\n",
              "EngagementCluster                        ...                      \n",
              "0                  1529.0    399.555598  ...    548.9000   1152.50\n",
              "1                   241.0   1895.813988  ...   2134.6700   4514.24\n",
              "2                    22.0   7283.577273  ...   7985.0825  12382.32\n",
              "3                     9.0  20149.676667  ...  21535.9000  35111.22\n",
              "\n",
              "[4 rows x 8 columns]"
            ]
          },
          "metadata": {
            "tags": []
          },
          "execution_count": 107
        }
      ]
    },
    {
      "cell_type": "markdown",
      "metadata": {
        "id": "Mt-fzvTxiuh_",
        "colab_type": "text"
      },
      "source": [
        "Overall Scoring"
      ]
    },
    {
      "cell_type": "code",
      "metadata": {
        "id": "yZdF46jky1UD",
        "colab_type": "code",
        "colab": {}
      },
      "source": [
        "#overall scoring\n",
        "tx_user['OverallScore'] = tx_user['RecencyCluster'] + tx_user['FrequencyCluster'] + tx_user['EngagementCluster']\n",
        "tx_user['Segment'] = 'Low-Value'\n",
        "tx_user.loc[tx_user['OverallScore']>2,'Segment'] = 'Mid-Value' \n",
        "tx_user.loc[tx_user['OverallScore']>4,'Segment'] = 'High-Value' "
      ],
      "execution_count": 0,
      "outputs": []
    },
    {
      "cell_type": "code",
      "metadata": {
        "id": "03I2KNhey6Dp",
        "colab_type": "code",
        "outputId": "9a6a8fde-e9bd-4cc2-f316-88e1d3a9fdcd",
        "colab": {
          "base_uri": "https://localhost:8080/",
          "height": 202
        }
      },
      "source": [
        "tx_user.head()"
      ],
      "execution_count": 0,
      "outputs": [
        {
          "output_type": "execute_result",
          "data": {
            "text/html": [
              "<div>\n",
              "<style scoped>\n",
              "    .dataframe tbody tr th:only-of-type {\n",
              "        vertical-align: middle;\n",
              "    }\n",
              "\n",
              "    .dataframe tbody tr th {\n",
              "        vertical-align: top;\n",
              "    }\n",
              "\n",
              "    .dataframe thead th {\n",
              "        text-align: right;\n",
              "    }\n",
              "</style>\n",
              "<table border=\"1\" class=\"dataframe\">\n",
              "  <thead>\n",
              "    <tr style=\"text-align: right;\">\n",
              "      <th></th>\n",
              "      <th>viewer_id</th>\n",
              "      <th>Recency</th>\n",
              "      <th>RecencyCluster</th>\n",
              "      <th>Frequency</th>\n",
              "      <th>FrequencyCluster</th>\n",
              "      <th>Engagement</th>\n",
              "      <th>EngagementCluster</th>\n",
              "      <th>OverallScore</th>\n",
              "      <th>Segment</th>\n",
              "    </tr>\n",
              "  </thead>\n",
              "  <tbody>\n",
              "    <tr>\n",
              "      <th>0</th>\n",
              "      <td>14620.0</td>\n",
              "      <td>13</td>\n",
              "      <td>3</td>\n",
              "      <td>26</td>\n",
              "      <td>0</td>\n",
              "      <td>412.78</td>\n",
              "      <td>0</td>\n",
              "      <td>3</td>\n",
              "      <td>Mid-Value</td>\n",
              "    </tr>\n",
              "    <tr>\n",
              "      <th>1</th>\n",
              "      <td>18044.0</td>\n",
              "      <td>6</td>\n",
              "      <td>3</td>\n",
              "      <td>57</td>\n",
              "      <td>0</td>\n",
              "      <td>808.96</td>\n",
              "      <td>0</td>\n",
              "      <td>3</td>\n",
              "      <td>Mid-Value</td>\n",
              "    </tr>\n",
              "    <tr>\n",
              "      <th>2</th>\n",
              "      <td>18075.0</td>\n",
              "      <td>12</td>\n",
              "      <td>3</td>\n",
              "      <td>34</td>\n",
              "      <td>0</td>\n",
              "      <td>660.07</td>\n",
              "      <td>0</td>\n",
              "      <td>3</td>\n",
              "      <td>Mid-Value</td>\n",
              "    </tr>\n",
              "    <tr>\n",
              "      <th>3</th>\n",
              "      <td>15241.0</td>\n",
              "      <td>0</td>\n",
              "      <td>3</td>\n",
              "      <td>63</td>\n",
              "      <td>0</td>\n",
              "      <td>965.40</td>\n",
              "      <td>0</td>\n",
              "      <td>3</td>\n",
              "      <td>Mid-Value</td>\n",
              "    </tr>\n",
              "    <tr>\n",
              "      <th>4</th>\n",
              "      <td>15660.0</td>\n",
              "      <td>12</td>\n",
              "      <td>3</td>\n",
              "      <td>31</td>\n",
              "      <td>0</td>\n",
              "      <td>529.72</td>\n",
              "      <td>0</td>\n",
              "      <td>3</td>\n",
              "      <td>Mid-Value</td>\n",
              "    </tr>\n",
              "  </tbody>\n",
              "</table>\n",
              "</div>"
            ],
            "text/plain": [
              "   viewer_id  Recency  ...  OverallScore    Segment\n",
              "0    14620.0       13  ...             3  Mid-Value\n",
              "1    18044.0        6  ...             3  Mid-Value\n",
              "2    18075.0       12  ...             3  Mid-Value\n",
              "3    15241.0        0  ...             3  Mid-Value\n",
              "4    15660.0       12  ...             3  Mid-Value\n",
              "\n",
              "[5 rows x 9 columns]"
            ]
          },
          "metadata": {
            "tags": []
          },
          "execution_count": 109
        }
      ]
    },
    {
      "cell_type": "markdown",
      "metadata": {
        "id": "t7jK_sMZzUi3",
        "colab_type": "text"
      },
      "source": [
        "Since our feature set is ready, let’s calculate 6 months LTV for each customer which we are going to use for training our model."
      ]
    },
    {
      "cell_type": "markdown",
      "metadata": {
        "id": "e9OT3vnEzYFr",
        "colab_type": "text"
      },
      "source": [
        "We are taking Enagagement for our LTV directly.\n"
      ]
    },
    {
      "cell_type": "code",
      "metadata": {
        "id": "VDpmv4opzC9q",
        "colab_type": "code",
        "outputId": "e46c3697-4c62-4528-f0ca-d9e4a2a3e255",
        "colab": {
          "base_uri": "https://localhost:8080/",
          "height": 542
        }
      },
      "source": [
        "#calculate Engagement eate a new dataframe for it\n",
        "tx_6m['Engagement'] = tx_6m['duration']\n",
        "tx_user_6m = tx_6m.groupby('viewer_id')['Engagement'].sum().reset_index()\n",
        "tx_user_6m.columns = ['viewer_id','m6_Engagement']\n",
        "\n",
        "\n",
        "#plot LTV histogram\n",
        "plot_data = [\n",
        "    go.Histogram(\n",
        "        x=tx_user_6m.query('m6_Engagement < 10000')['m6_Engagement']\n",
        "    )\n",
        "]\n",
        "\n",
        "plot_layout = go.Layout(\n",
        "        title='6m Engagement'\n",
        "    )\n",
        "fig = go.Figure(data=plot_data, layout=plot_layout)\n",
        "pyoff.iplot(fig)"
      ],
      "execution_count": 0,
      "outputs": [
        {
          "output_type": "display_data",
          "data": {
            "text/html": [
              "<html>\n",
              "<head><meta charset=\"utf-8\" /></head>\n",
              "<body>\n",
              "    <div>\n",
              "            <script src=\"https://cdnjs.cloudflare.com/ajax/libs/mathjax/2.7.5/MathJax.js?config=TeX-AMS-MML_SVG\"></script><script type=\"text/javascript\">if (window.MathJax) {MathJax.Hub.Config({SVG: {font: \"STIX-Web\"}});}</script>\n",
              "                <script type=\"text/javascript\">window.PlotlyConfig = {MathJaxConfig: 'local'};</script>\n",
              "        <script src=\"https://cdn.plot.ly/plotly-latest.min.js\"></script>    \n",
              "            <div id=\"a4a43506-1c86-4a09-923e-b2154006cc6c\" class=\"plotly-graph-div\" style=\"height:525px; width:100%;\"></div>\n",
              "            <script type=\"text/javascript\">\n",
              "                \n",
              "                    window.PLOTLYENV=window.PLOTLYENV || {};\n",
              "                    \n",
              "                if (document.getElementById(\"a4a43506-1c86-4a09-923e-b2154006cc6c\")) {\n",
              "                    Plotly.newPlot(\n",
              "                        'a4a43506-1c86-4a09-923e-b2154006cc6c',\n",
              "                        [{\"type\": \"histogram\", \"x\": [1666.1099999999992, 2468.7200000000003, 561.53, 948.8799999999999, 765.0, 397.11999999999995, 635.0199999999999, 318.7, 661.3100000000002, 6814.640000000001, 383.03000000000003, 417.37999999999994, 951.4599999999999, 134.1, 292.34000000000003, 2934.7200000000016, 1148.8000000000002, 1910.0800000000015, 808.26, 1075.2, 325.9599999999999, 871.5399999999998, 346.39, 135.17999999999995, 1072.1000000000001, 514.1299999999999, 1966.830000000001, 521.2, 147.12, 2298.280000000002, 248.06000000000006, 248.64000000000001, 49.470000000000006, 478.3300000000002, 573.22, 1463.0399999999995, 291.63000000000005, 309.05000000000007, 1175.2199999999996, 603.4, 380.46999999999997, 85.0, 188.14, 372.79999999999995, 9088.98, 509.57999999999976, 2919.809999999999, 432.0, 650.3, 1932.5399999999993, 858.06, 1082.1399999999999, 164.0, 693.37, 594.0, 1047.29, 164.23000000000002, 405.38, 176.97, 278.43, 368.31, 1282.6599999999999, 415.8, 496.77999999999986, 950.6899999999998, 1063.9000000000005, 1076.0399999999997, 114.14, 4353.48, 913.5400000000001, 287.3799999999999, 317.56, 568.72, 1178.69, 1916.5200000000002, 126.9, 1090.06, 329.84999999999997, 3252.5200000000004, 2888.770000000001, 170.54000000000002, 1226.1799999999998, 771.9099999999996, 160.18, 135.95, 6389.789999999997, 39.24, 2808.5400000000004, 372.21999999999997, 97.5, 754.3799999999999, 254.39999999999998, 3467.0400000000004, 312.00000000000006, 503.76, 239.46, 292.87000000000006, 211.32, 618.42, 76.32000000000001, 1883.9600000000003, 90.0, 3207.890000000001, 192.05, 81.57, 954.4500000000002, 2143.5500000000006, 2138.25, 1583.2399999999996, 789.8899999999996, 3603.74, 1545.9500000000007, 689.9000000000001, 531.12, 3072.0, 661.32, 865.0, 371.7399999999999, 1010.1799999999997, 476.91, 588.8799999999999, 303.75, 513.36, 303.25, 305.28, 431.59, 1565.8600000000006, 895.9899999999998, 502.9, 2962.9, 869.5499999999997, 137.7, 248.61, 346.98, 916.1899999999999, 151.81, 115.46000000000002, 179.0, 1624.3399999999992, 919.61, 6489.69, 190.09999999999997, 58.08, 1653.45, 192.39, 137.98, 5443.840000000001, 345.82, 38.08, 986.8800000000001, 74.4, 3006.1600000000003, 207.35999999999999, 2152.8, 243.94, 545.28, 76.5, 964.7800000000002, 786.5400000000001, 756.1799999999998, 3050.6, 2294.7800000000007, 501.14000000000004, 233.54000000000002, 398.1100000000001, 18.72, 1292.2100000000003, 652.7800000000002, 259.16999999999996, 64.0, 1073.2999999999997, 1267.8799999999999, 2033.1499999999996, 2786.570000000003, 575.5400000000001, 3894.9200000000014, 264.21, 987.7200000000001, 307.0899999999999, 323.52, 228.91, 712.8000000000001, 1908.7900000000004, 1299.32, 402.56, 1243.28, 944.6500000000004, 1155.2900000000002, 91.8, 386.6, 666.8399999999999, 791.3300000000002, 346.53, 207.68, 116.01000000000002, 328.05999999999995, 708.7600000000002, 492.8400000000001, 282.45, 3006.270000000001, 121.17999999999999, 2001.6399999999994, 954.9799999999997, 1575.8900000000003, 114.60000000000001, 260.68, 447.61999999999995, 117.88000000000001, 60.7, 1285.6500000000003, 1313.4900000000007, 5435.140000000001, 870.09, 703.75, 250.26000000000002, 523.69, 3529.169999999999, 353.47999999999996, 1086.7199999999998, 788.0799999999998, 1105.3000000000002, 137.02, 62.64, 259.6, 2155.9499999999994, 1358.76, 358.0, 610.2299999999997, 665.6999999999999, 300.88, 439.23, 609.5800000000002, 221.23999999999998, 166.4, 121.74000000000001, 430.5, 338.77999999999975, 501.12, 465.6799999999999, 419.57000000000005, 553.9200000000001, 173.81, 473.96, 292.3199999999999, 557.6200000000001, 3819.120000000001, 982.7800000000002, 2323.69, 2010.15, 1376.9099999999996, 2964.320000000001, 217.3799999999999, 276.56000000000006, 138.97999999999996, 590.93, 258.4, 542.73, 137.75, 115.5, 787.4399999999999, 93.66, 1535.85, 361.10999999999996, 329.37, 390.09000000000003, 87.4, 1766.33, 371.89000000000004, 290.32000000000005, 63.75, 1147.4499999999996, 15.0, 570.56, 675.2700000000001, 314.38, 490.11, 945.5799999999997, 589.4700000000003, 4355.25, 959.7000000000002, 302.96, 6008.61, 1040.0900000000001, 567.36, 199.48, 355.3, 3322.9600000000014, 675.3, 2205.82, 484.7999999999999, 805.1099999999998, 350.9, 1876.3800000000006, 795.12, 487.02, 7058.450000000002, 353.43, 887.5699999999998, 341.36, 233.76, 247.31999999999996, 979.1199999999999, 373.94, 397.9800000000001, 743.5300000000003, 674.7, 768.2400000000001, 439.55999999999995, 1509.21, 992.5000000000002, 134.96, 1524.77, 56.160000000000004, 378.64, 2324.5500000000006, 778.6499999999997, 249.76000000000002, 572.5599999999997, 2567.9600000000005, 4151.929999999999, 677.1000000000001, 540.07, 544.0799999999999, 1282.59, 307.72, 973.7199999999998, 942.36, 312.95, 75.0, 15.001, 598.4200000000001, 213.55000000000004, 1000.5, 712.5000000000001, 2786.829999999998, 221.05999999999995, 159.85, 1026.04, 2626.3000000000006, 1222.64, 2064.52, 368.09999999999997, 218.46999999999994, 1006.8000000000001, 679.45, 1269.0999999999995, 534.24, 3367.5899999999997, 3408.0599999999995, 296.64000000000004, 1129.14, 2116.110000000001, 291.88, 1365.1799999999998, 1323.7700000000002, 171.97999999999996, 1559.06, 3432.430000000003, 183.44, 1445.0000000000002, 674.6800000000002, 307.90000000000003, 1083.71, 1832.9100000000008, 165.0, 1546.4000000000003, 181.38, 153.3, 510.87000000000006, 938.55, 825.5699999999998, 140.34000000000003, 1122.4099999999999, 166.6, 3437.8800000000006, 213.83999999999997, 184.19000000000003, 659.8000000000001, 152.32, 695.32, 1166.7700000000002, 102.84, 216.84999999999997, 295.93, 2022.7899999999997, 231.6, 1449.6999999999991, 205.09999999999997, 152.20000000000002, 687.7199999999998, 1243.41, 2128.42, 659.4399999999998, 122.75, 287.88000000000005, 125.80000000000001, 1595.64, 520.9800000000001, 345.9, 1701.8700000000008, 126.65999999999998, 210.30999999999983, 124.14999999999999, 2864.0799999999995, 2439.289999999999, 776.55, 315.69, 168.50000000000006, 438.8299999999997, 401.39999999999986, 405.65000000000003, 1878.7800000000002, 2559.23, 343.37999999999994, 482.37999999999977, 1196.0599999999995, 777.5300000000001, 550.64, 130.04000000000002, 874.7099999999997, 192.85000000000005, 255.42999999999998, 1699.720000000001, 262.63, 732.0699999999997, 3970.9399999999987, 1330.849999999999, 302.34, 781.0300000000002, 712.4, 2365.6499999999983, 379.65000000000003, 1069.8899999999999, 340.9, 42.45, 1014.1300000000002, 396.96999999999997, 411.59999999999985, 180.1700000000001, 2828.33, 320.11999999999995, 428.88999999999993, 164.34, 30.119999999999997, 678.0099999999996, 782.1599999999995, 868.6499999999999, 1404.7099999999998, 544.18, 177.34000000000003, 213.85, 195.86, 1032.5500000000004, 4904.360000000001, 1068.8600000000001, 1740.42, 1508.24, 949.75, 1071.0300000000002, 407.6699999999999, 387.9, 122.64000000000001, 1033.3400000000001, 519.44, 2624.260000000001, 252.1, 1253.48, 1090.82, 94.2, 456.84000000000003, 1534.4900000000005, 549.3199999999999, 216.95000000000002, 229.79999999999998, 1705.8699999999997, 364.82, 189.47, 20.599999999999998, 305.0199999999998, 2272.500000000003, 218.55, 349.70000000000016, 396.9199999999999, 178.38, 232.60000000000005, 692.4499999999998, 827.83, 59.5, 1934.4500000000012, 72.0, 910.0, 172.25, 2218.6499999999996, 151.3, 308.58, 1321.46, 2143.3799999999997, 204.54000000000002, 5325.039999999999, 180.48000000000002, 874.42, 702.9399999999999, 367.80000000000007, 524.14, 911.9400000000002, 228.96000000000004, 1079.6600000000003, 333.4800000000001, 522.21, 752.5999999999998, 491.86, 1631.5499999999993, 216.9, 505.46999999999986, 1488.5400000000004, 712.68, 263.2, 300.03999999999996, 367.4, 958.4600000000002, 461.61, 126.6, 2004.4500000000019, 2939.51, 839.0299999999999, 659.41, 151.7, 1070.65, 1714.9599999999998, 1021.8699999999998, 9093.089999999997, 1030.5800000000004, 1169.6000000000001, 903.71, 344.99999999999994, 7058.200000000001, 178.7, 116.28000000000002, 550.6999999999998, 1690.3200000000004, 202.64000000000001, 1516.0, 120.95000000000002, 347.15999999999997, 324.79999999999995, 1468.3600000000001, 1912.1599999999994, 924.5999999999999, 256.38, 1518.5, 115.49, 468.38000000000005, 957.6600000000001, 465.96000000000004, 189.5, 412.0499999999998, 209.49000000000004, 1105.0, 52.199999999999996, 384.7999999999999, 506.11999999999995, 241.47999999999996, 1557.1499999999999, 361.62, 312.98, 320.0, 1537.95, 1595.4799999999996, 2405.1400000000003, 1090.14, 2647.7000000000007, 294.1, 216.16999999999996, 926.4500000000003, 1357.0500000000002, 378.26, 145.67, 876.4400000000002, 507.53999999999996, 1519.9899999999989, 2074.1600000000003, 4007.520000000003, 159.20000000000002, 1103.11, 122.69999999999999, 117.24000000000001, 1281.53, 2193.1400000000012, 998.0500000000002, 931.7000000000003, 344.25, 107.65, 243.56000000000003, 366.11, 416.9, 1177.26, 578.45, 403.77, 2593.0699999999993, 311.15999999999997, 90.02, 8.5, 2218.8999999999996, 131.52, 1538.44, 877.0000000000001, 626.4499999999999, 272.04, 1014.6399999999999, 351.13000000000005, 1536.4500000000007, 678.2499999999999, 223.85000000000002, 348.99, 464.56999999999994, 429.79999999999995, 337.3399999999999, 859.3200000000005, 608.7899999999998, 376.58, 158.85, 71.66, 384.0499999999999, 839.1400000000002, 2994.0, 75.6, 90.6, 1604.2500000000002, 424.81, 158.4, 1354.36, 227.41, 117.86, 576.25, 260.76, 230.22, 51.95, 80.7, 6404.96, 1783.7400000000002, 44.35, 413.59, 1564.67, 196.79, 869.8700000000001, 200.14000000000001, 968.0099999999998, 1058.06, 203.28, 6271.770000000002, 320.46000000000004, 2791.880000000001, 369.41, 855.9699999999999, 76.8, 1973.5399999999997, 2197.0400000000013, 1083.2400000000002, 2654.9899999999993, 733.94, 529.73, 3682.6200000000003, 2687.560000000001, 300.1, 354.52, 505.18000000000006, 917.34, 1421.6100000000004, 642.8000000000001, 130.2, 327.7, 104.82000000000002, 467.65999999999997, 925.0700000000003, 8875.179999999997, 1256.8999999999994, 651.8200000000002, 727.4399999999999, 35.400000000000006, 844.0600000000002, 152.2, 2165.540000000001, 479.0799999999997, 408.0, 321.54, 2623.2599999999993, 746.3600000000001, 7813.71, 225.35999999999993, 260.25, 92.46, 725.6400000000001, 4487.649999999997, 3541.43, 2885.8399999999992, 5630.219999999998, 511.57999999999987, 374.69999999999993, 927.4300000000001, 151.04, 317.56, 122.46999999999997, 299.81, 465.38999999999993, 375.09999999999997, 45.599999999999994, 59.45, 1005.1399999999998, 161.0, 1924.980000000001, 442.8499999999999, 147.34999999999997, 1782.71, 194.9, 1817.3999999999999, 1241.7800000000002, 216.20999999999998, 1228.1499999999999, 597.9100000000001, 144.2, 3656.190000000001, 598.65, 1762.6499999999999, 935.0200000000002, 1382.7400000000002, 90.0, 2008.99, 419.58000000000004, 2740.4300000000017, 643.6300000000001, 257.48, 331.96, 612.38, 3270.9000000000015, 287.64000000000004, 2126.1500000000005, 638.2100000000003, 415.81999999999994, 540.9899999999998, 688.7800000000002, 115.8, 2613.6, 1062.1100000000001, 300.6, 352.46000000000004, 306.78, 155.71000000000004, 507.66000000000014, 4040.919999999998, 111.68, 1696.1200000000001, 1631.7700000000002, 315.84, 363.78999999999996, 336.80000000000007, 134.46, 2899.720000000001, 559.4100000000001, 1200.8099999999993, 719.7799999999997, 1464.0499999999997, 452.89, 1293.46, 2196.45, 3829.5400000000022, 430.84999999999997, 7457.550000000012, 335.52, 518.0999999999999, 383.17999999999995, 243.8, 151.73999999999998, 990.28, 306.19, 1331.2099999999996, 1070.48, 365.73, 867.6100000000001, 1252.74, 1086.6100000000004, 169.48000000000002, 2568.8199999999997, 683.17, 686.23, 554.7999999999998, 522.79, 951.4399999999998, 785.0699999999999, 307.76, 1354.89, 503.61999999999995, 775.4600000000004, 1880.31, 301.56000000000006, 1085.8099999999997, 663.4900000000002, 213.70000000000002, 968.2800000000002, 1024.4199999999996, 1228.8300000000006, 2397.4200000000005, 2479.5799999999995, 5062.160000000001, 120.0, 1163.4499999999998, 2073.530000000001, 218.27, 679.8800000000001, 305.87000000000006, 341.2700000000001, 778.5399999999998, 1562.4599999999991, 595.2500000000001, 1910.0100000000004, 2578.6699999999996, 238.56000000000003, 1537.0900000000006, 1712.1000000000004, 3333.4, 231.39, 166.2, 1072.7299999999998, 2110.1600000000008, 43.2, 640.14, 1858.9599999999998, 2093.3199999999997, 1300.7399999999998, 1026.78, 1017.5700000000004, 120.0, 1950.7299999999989, 508.58, 1203.9299999999996, 305.24000000000007, 311.65000000000003, 2889.2400000000002, 462.65999999999997, 866.3099999999998, 415.2, 873.98, 500.5199999999999, 8.25, 1364.05, 358.96, 244.04999999999998, 108.97999999999999, 759.1400000000001, 133.50000000000006, 51.0, 233.64000000000001, 87.78, 701.23, 225.77000000000012, 912.1800000000002, 2128.23, 161.20000000000002, 2600.15, 5798.880000000002, 257.67999999999995, 302.45, 237.11999999999998, 202.6800000000001, 626.07, 1247.6899999999998, 202.11, 1770.5600000000013, 2039.6499999999987, 1043.46, 3616.740000000002, 1322.78, 377.63999999999993, 1941.5200000000007, 574.7, 3145.5800000000004, 499.79999999999995, 750.7399999999999, 156.75, 1155.05, 1900.8899999999999, 1393.3499999999997, 326.27000000000004, 770.0300000000002, 1279.7800000000007, 2405.0800000000013, 490.22, 1039.9, 750.5, 387.52, 357.92999999999995, 3480.3199999999997, 322.08, 2986.0899999999992, 363.34000000000003, 712.3500000000003, 2255.5099999999984, 1372.8, 89.06, 554.72, 1050.35, 811.8000000000002, 539.45, 562.2, 273.0, 505.79999999999967, 213.79999999999998, 302.59, 264.44000000000005, 119.93000000000002, 2679.4399999999982, 1837.9199999999996, 404.34, 1326.8299999999997, 1047.8200000000002, 413.7, 1236.7500000000002, 340.46000000000004, 163.54999999999998, 608.66, 149.34000000000003, 547.6600000000001, 619.2999999999998, 1144.6000000000001, 279.05, 333.65000000000003, 1830.0500000000009, 321.91999999999996, 165.75000000000003, 1071.2299999999996, 1064.2800000000002, 213.73000000000002, 1867.5400000000006, 139.56, 123.79999999999998, 1791.1000000000004, 689.3000000000001, 356.85, 184.28, 1400.4400000000005, 2772.390000000001, 130.55, 2712.880000000002, 1445.3100000000015, 767.87, 276.41999999999996, 1314.8099999999997, 148.95999999999998, 138.24, 652.24, 1676.69, 330.45, 174.37, 552.87, 241.09000000000003, 1090.1000000000001, 3082.3299999999963, 4523.789999999993, 364.22, 620.0399999999998, 1779.0000000000005, 1363.5600000000002, 2599.000000000003, 2010.2200000000016, 355.5600000000001, 281.74999999999994, 537.48, 800.3599999999998, 447.90000000000003, 103.25000000000001, 1408.5300000000002, 902.5300000000001, 1203.2199999999998, 3528.0400000000004, 326.4, 765.6200000000001, 60.8, 165.07000000000005, 546.9499999999999, 2381.040000000002, 126.2, 788.3800000000001, 964.9699999999999, 1080.7600000000004, 3835.3499999999967, 1221.5699999999997, 1530.3600000000006, 1619.8600000000006, 274.52000000000004, 391.6999999999998, 138.6, 114.11, 613.1300000000003, 567.4599999999998, 157.05, 320.81000000000006, 1196.9200000000003, 570.4599999999998, 278.40000000000003, 1576.8000000000004, 883.1500000000002, 221.97000000000003, 213.96000000000004, 5019.179999999993, 1073.6, 457.56, 341.64, 1179.8, 320.58, 696.5699999999999, 225.84999999999997, 2204.3699999999994, 340.38, 604.8299999999996, 376.90000000000003, 309.66, 443.6, 1749.3600000000006, 1393.68, 110.46, 96.12, 335.87, 643.2600000000001, 356.99, 319.08, 238.28, 114.18000000000002, 1199.7099999999998, 758.7600000000001, 157.94000000000003, 323.82, 123.14, 1215.3999999999996, 285.73999999999995, 107.95, 246.31000000000012, 637.89, 1104.0400000000006, 5287.389999999996, 996.1399999999999, 604.7499999999999, 1399.7200000000003, 105.0, 31.200000000000003, 717.0199999999993, 628.3799999999999, 2183.32, 371.7, 1674.7299999999998, 111.25, 905.8100000000003, 1093.6000000000008, 1513.7500000000002, 798.6199999999997, 1740.4100000000014, 318.1699999999999, 1546.9099999999999, 282.12, 3310.9000000000024, 606.1300000000002, 1161.2900000000009, 917.07, 1464.3300000000006, 347.3, 329.6799999999999, 972.2500000000001, 401.13000000000005, 187.91999999999996, 687.3, 1204.5300000000004, 129.0, 1257.8999999999999, 1678.33, 2952.8399999999992, 647.75, 788.7600000000002, 2059.7, 905.04, 171.95, 979.6599999999996, 644.6199999999999, 389.63999999999993, 563.15, 409.78, 2490.48, 738.9599999999998, 420.5, 277.12000000000006, 298.6, 158.39999999999998, 278.3, 254.10999999999996, 884.6400000000004, 192.60000000000002, 4495.429999999994, 139.26, 605.3399999999998, 1463.7000000000003, 396.80999999999995, 447.67999999999995, 175.31, 77.4, 368.45, 197.64000000000001, 592.9000000000001, 6.2, 228.99, 435.51, 131.45, 4116.509999999993, 98.06, 157.7, 1144.1399999999994, 193.1399999999999, 114.76000000000002, 445.40000000000003, 193.39000000000004, 2741.169999999997, 809.1800000000004, 778.5, 539.5500000000001, 187.35, 507.2900000000001, 110.78000000000002, 1127.7100000000003, 1099.9499999999996, 312.21999999999997, 197.13, 1476.6099999999994, 102.44999999999999, 1157.2400000000007, 1513.91, 2514.6899999999996, 2315.2599999999998, 309.4, 5517.629999999996, 305.21999999999997, 2346.289999999999, 261.3, 1568.5000000000002, 645.6500000000001, 1311.3800000000006, 1173.1199999999997, 1056.8799999999999, 170.32000000000002, 125.79000000000002, 841.2000000000002, 266.76, 96.14, 2124.17, 391.30999999999995, 106.15000000000002, 1103.3199999999997, 633.7999999999998, 576.99, 255.4, 589.7, 451.03000000000003, 765.3199999999999, 1862.0, 554.38, 1237.8500000000004, 655.7499999999999, 6293.309999999999, 570.82, 692.5900000000001, 924.2399999999997, 332.66, 1010.4000000000002, 396.9599999999999, 307.59999999999997, 2064.050000000001, 277.79999999999995, 316.05, 611.6, 165.20000000000002, 973.9299999999995, 1610.1499999999996, 413.06, 749.0999999999998, 223.88, 4575.920000000003, 100.9, 290.82000000000005, 823.5699999999998, 371.2, 311.69000000000005, 4564.88, 289.82, 336.16999999999985, 289.03, 273.04, 88.3, 3865.0200000000004, 1487.8000000000013, 598.9999999999999, 191.3199999999999, 463.8, 147.59, 809.8099999999997, 1116.5699999999993, 114.77000000000002, 659.85, 114.39, 279.94, 340.6, 394.1399999999999, 213.26999999999998, 163.2, 113.91999999999999, 546.2, 246.23000000000002, 490.52, 494.1700000000002, 1246.3199999999995, 3661.769999999998, 502.08999999999975, 156.91000000000003, 669.2200000000001, 308.94000000000005, 231.98000000000002, 260.16999999999996, 170.04, 125.58000000000003, 204.87, 987.7600000000007, 905.0399999999995, 3253.3899999999994, 973.2399999999997, 377.01, 238.22000000000003, 412.02999999999986, 326.46, 365.52, 341.7800000000001, 1249.7300000000002, 1643.7800000000013, 252.72999999999996, 465.55, 304.12999999999994, 6926.93, 180.35000000000002, 537.0, 3194.900000000002, 346.76, 2896.3099999999995, 127.60000000000001, 1323.1800000000003, 1391.6100000000001, 255.95, 302.09999999999997, 1384.2300000000012, 768.7000000000003, 286.4799999999999, 173.82, 1751.73, 893.59, 896.7099999999999, 313.40000000000003, 1109.5300000000007, 393.4, 1043.4099999999999, 748.8700000000002, 773.0300000000002, 880.8500000000004, 5081.570000000008, 256.75, 1160.07, 2420.8400000000024, 480.71, 1200.34, 600.0999999999999, 219.39, 410.48, 703.3599999999998, 1966.4700000000003, 644.0699999999999, 826.4499999999999, 1278.9799999999998, 3609.330000000001, 2042.6500000000015, 340.11000000000007, 873.1, 1239.3799999999999, 244.8, 358.8199999999999, 162.57, 703.1700000000001, 184.19, 4217.76, 406.53000000000003, 987.3, 2327.02, 330.11, 488.05999999999995, 324.52000000000004, 1148.5400000000002, 1029.8000000000004, 1226.8, 498.74, 3663.2799999999993, 312.34, 492.94, 301.28999999999996, 520.8, 4813.219999999998, 4745.69, 329.25, 296.41999999999996, 317.79999999999995, 419.90999999999997, 401.4000000000001, 149.47000000000003, 474.8699999999999, 106.56, 721.7499999999999, 224.14000000000007, 751.8299999999999, 389.48, 252.37000000000006, 406.76, 310.62000000000006, 411.40999999999997, 3513.100000000001, 729.3200000000002, 499.32, 3248.710000000001, 306.35999999999996, 193.64, 611.55, 634.2700000000002, 1134.8999999999994, 653.2399999999999, 402.59999999999997, 597.1200000000001, 511.34000000000003, 1017.7500000000001, 734.94, 96.6, 3999.6299999999997, 305.75, 920.7700000000002, 342.5799999999999, 2481.8599999999997, 612.0600000000001, 235.07, 1071.9899999999998, 780.59, 1077.4699999999993, 791.04, 316.68, 333.63000000000005, 1264.36, 356.0, 3847.0900000000006, 6389.27, 740.7800000000001, 918.1999999999996, 300.36000000000007, 890.8499999999999, 98.45, 307.5, 928.1700000000002, 254.82000000000002, 156.50999999999996, 393.74000000000007, 793.8799999999999, 1717.36, 408.8, 1065.7400000000002, 1579.3800000000008, 721.9399999999998, 383.98999999999995, 615.1399999999999, 135.31000000000003, 255.89999999999998, 113.12, 404.74, 240.55, 486.69, 682.5200000000001, 564.3300000000002, 4372.94, 1988.7099999999994, 1895.0499999999997, 641.94, 3249.2400000000025, 2072.0, 496.4399999999999, 2966.35, 312.8, 1174.3499999999997, 205.3, 316.95, 52.0, 570.5, 267.13, 1588.8400000000004, 679.6799999999998, 162.2899999999999, 208.75000000000003, 1049.6999999999998, 714.96, 351.6699999999999, 173.97000000000003, 316.16999999999996, 2020.52, 406.0899999999999, 364.5, 460.64, 393.54, 158.03999999999996, 473.80999999999983, 1685.4400000000007, 277.05000000000007, 1564.6900000000012, 3154.07, 427.92999999999995, 581.3900000000001, 2105.71, 496.9700000000001, 461.40999999999997, 446.94000000000005, 1258.1100000000001, 2007.4, 878.63, 168.0, 579.1900000000002, 440.1800000000002, 1074.86, 4367.690000000002, 338.83999999999986, 316.88, 394.14000000000004, 500.0, 892.1400000000001, 107.76, 747.0999999999998, 288.17999999999995, 1345.5299999999997, 549.13, 370.09999999999997, 185.77999999999997, 349.1, 258.42, 726.58, 1649.9499999999996, 1358.8800000000003, 190.53000000000003, 738.6999999999998, 1709.8900000000003, 508.8000000000001, 211.00000000000003, 43.5, 784.41, 1483.1399999999999, 93.78, 397.3499999999998, 171.19, 583.6199999999999, 149.29000000000005, 633.48, 156.57999999999998, 257.87999999999994, 2419.6899999999996, 1418.2600000000016, 628.5999999999999, 429.84, 291.47999999999996, 1253.0900000000004, 161.64, 234.60000000000002, 126.14, 2191.1599999999994, 334.53000000000014, 524.88, 467.50999999999993, 538.55, 371.56, 1771.2, 454.10999999999984, 1441.4199999999996, 9617.52, 118.96, 2920.06, 1296.37, 91.32000000000001, 786.0199999999999, 1455.1699999999996, 659.4599999999999, 1050.5500000000009, 1299.230000000001, 291.6, 6624.65, 865.3000000000002, 7744.469999999999, 52.83000000000001, 3610.9600000000005, 979.2600000000004, 492.35999999999996, 371.15999999999997, 909.2300000000001, 19.799999999999997, 8688.760000000002, 1222.29, 62.43, 954.8800000000002, 1332.42, 398.84, 412.00999999999993, 197.3, 148.44, 1529.7400000000007, 2063.02, 949.2200000000001, 1522.3100000000002, 1224.580000000001, 807.5699999999997, 125.01, 110.92000000000003, 213.30000000000004, 85.13000000000002, 1787.2400000000005, 157.39000000000001, 2027.9000000000015, 751.1600000000001, 295.37999999999994, 436.05999999999995, 437.22999999999985, 3145.4200000000014, 279.77, 473.65, 534.8399999999999, 664.82, 173.15999999999997, 186.01000000000002, 422.51999999999987, 489.59999999999997, 1604.700000000001, 650.43, 1481.8400000000001, 607.45, 112.10000000000001, 940.6700000000002, 229.2299999999999, 127.1, 149.00000000000003, 3045.01, 237.90000000000003, 725.1099999999999, 455.30000000000007, 568.8000000000001, 388.58, 199.8, 1503.8699999999994, 16.9, 324.57, 240.68, 312.91, 2027.9699999999996, 574.08, 48.480000000000004, 216.39000000000001, 508.0500000000001, 1093.81, 1093.68, 298.48, 112.46, 1259.9500000000005, 195.15, 5660.680000000005, 776.8510000000002, 336.40000000000003, 678.17, 1044.96, 1107.56, 301.03, 276.73, 838.93, 393.9199999999999, 1672.3500000000004, 789.4899999999999, 2042.8099999999997, 243.55, 418.06000000000006, 223.36, 425.31999999999994, 5557.569999999998, 581.8200000000002, 326.90000000000003, 389.80999999999983, 612.0099999999998, 107.60000000000001, 418.97999999999996, 337.74, 877.4399999999999, 922.5300000000002, 441.64, 30.0, 7.5, 306.45000000000005, 517.48, 138.14000000000001, 386.43, 765.7899999999998, 301.32000000000005, 485.54, 1624.0000000000002, 1095.29, 1066.9399999999998, 278.69, 2537.959999999999, 657.23, 352.70000000000005, 781.2799999999999, 854.79, 837.3399999999998, 193.75, 1339.0600000000002, 150.6, 111.0, 191.04000000000002, 2930.7400000000002, 1098.5600000000002, 309.6499999999999, 696.6799999999996, 1223.2000000000003, 1354.7700000000004, 1060.56, 945.5799999999999, 1295.94, 772.5600000000001, 185.55, 330.8799999999998, 216.36999999999995, 2614.640000000001, 598.7300000000001, 507.0799999999998, 1898.5100000000002, 415.2500000000001, 1928.0900000000001, 653.4500000000003, 760.8000000000002, 729.24, 2199.379999999999, 449.12000000000006, 154.88000000000002, 784.4600000000004, 34.8, 791.7400000000001, 196.87999999999997, 974.0399999999995, 149.30999999999995, 1512.5200000000004, 1592.2, 366.77, 1743.5199999999993, 283.83999999999986, 453.05999999999995, 583.75, 1086.9200000000003, 2159.040000000001, 315.05999999999995, 142.68, 270.8, 241.62000000000003, 72.52000000000001, 262.11, 2614.7400000000007, 246.3, 998.5699999999999, 4932.2000000000035, 948.0500000000001, 220.84999999999997, 389.45000000000005, 658.97, 610.0100000000001, 1287.1200000000003, 367.2, 563.9200000000001, 454.57999999999987, 1063.9499999999998, 451.42, 415.82, 3351.9799999999977, 3024.700000000004, 484.22, 903.9000000000001, 132.46, 537.86, 923.7800000000004, 1036.3799999999999, 1945.3300000000004, 706.5199999999999, 728.3100000000002, 570.96, 532.94, 934.31, 924.4, 636.14, 576.0, 491.82, 952.3800000000005, 465.78000000000003, 137.37, 391.97999999999996, 1048.4900000000002, 355.56, 610.8, 130.74, 2174.61, 208.58999999999992, 238.85000000000002, 57.5, 110.80000000000001, 1255.55, 369.7300000000001, 6337.399999999996, 297.0, 622.6300000000002, 556.9499999999997, 2442.8799999999974, 168.71999999999997, 59.64000000000001, 1693.9000000000003, 581.2, 230.52999999999994, 1772.010000000001, 354.0899999999999, 360.9299999999999, 2243.08, 242.25999999999996, 143.75999999999996, 364.34999999999997, 181.09, 168.31, 148.95000000000002, 179.17, 351.1099999999999, 363.8799999999999, 4485.119999999999, 884.5299999999999, 278.33999999999986, 191.93999999999997, 548.22, 123.13, 792.9100000000001, 192.22999999999996, 369.1699999999999, 167.49999999999997, 336.03000000000003, 426.63000000000017, 922.4000000000001, 1107.4600000000003, 145.35, 69.28, 1482.66, 337.43999999999994, 1708.2400000000002, 644.24, 364.7199999999999, 1336.6899999999994, 573.9199999999998, 833.2399999999999, 2399.6600000000008, 428.88999999999993, 104.35, 470.7600000000001, 689.4499999999999, 245.03000000000003, 531.0999999999999, 3113.6999999999994, 1868.66, 371.01, 220.94999999999996, 1054.7299999999996, 1098.7800000000002, 1638.6800000000005, 1227.6800000000003, 326.75000000000006, 1309.8799999999999, 242.84, 168.12, 935.2, 158.03000000000003, 390.74, 2562.1299999999983, 427.07000000000005, 405.4099999999999, 1307.7500000000005, 1554.37, 437.7999999999997, 1332.1899999999987, 339.63, 992.7099999999999, 1977.9500000000005, 1415.2899999999997, 399.45000000000005, 502.2900000000001, 550.5899999999997, 211.87999999999994, 408.90000000000003, 1296.7400000000002, 851.0100000000001, 219.11999999999998, 251.23999999999992, 439.66, 236.09000000000006, 417.95000000000005, 243.3100000000001, 5116.859999999995, 570.19, 76.38, 891.1200000000002, 3166.4, 1172.3200000000004, 97.5, 479.45, 1111.7899999999993, 137.9, 362.06000000000006, 1511.9499999999996, 783.8999999999999, 664.85, 1203.58, 812.1600000000001, 575.4399999999999, 1521.8700000000001, 852.15, 326.24000000000007, 1768.2999999999997, 1352.0000000000002, 86.89999999999999, 2238.7700000000004, 979.6400000000001, 656.4699999999999, 534.33, 157.81, 224.13, 17.0, 826.1299999999999, 995.33, 413.6000000000001, 1290.7, 1842.1400000000003, 878.6800000000002, 302.36, 108.38, 3204.16, 842.5, 643.5499999999998, 59.6, 161.38000000000002, 135.75000000000003, 1157.070000000001, 232.21, 309.48, 1309.14, 579.2199999999999, 434.5800000000001, 307.78, 5396.420000000002, 656.2500000000001, 1491.92, 1842.02, 7165.269999999994, 334.55999999999995, 550.0799999999999, 495.60999999999996, 601.04, 620.4, 375.18999999999994, 2115.82, 75.0, 375.0, 163.68000000000004, 1088.5400000000002, 1422.3200000000002, 1745.8600000000004, 656.6899999999999, 1025.4400000000005, 2968.9500000000003, 580.26, 2474.5900000000006, 1483.9500000000003, 1259.4699999999998, 73.2, 940.8299999999999, 1418.3199999999993, 1009.5500000000001, 570.61, 331.95, 197.90000000000003, 215.83, 7508.75, 305.5400000000001, 4100.65, 338.7100000000001, 1010.5699999999998, 194.41, 2959.730000000002, 4346.799999999999, 416.09, 215.47999999999996, 215.08, 2320.18, 400.681, 550.5699999999999, 1354.07, 274.59999999999997, 405.71000000000004, 761.38, 248.31, 394.38, 166.67000000000004, 1956.6699999999996, 6893.69, 547.02, 192.19, 159.0, 313.08000000000004, 242.35000000000002, 1355.9199999999998, 549.49, 752.0900000000001, 679.7099999999998, 652.3999999999997, 266.1, 624.4099999999999, 210.17999999999998, 522.85, 432.19999999999993, 414.2, 3718.800000000001, 1773.9100000000008, 2661.400000000001, 409.09999999999974, 959.6800000000001, 114.56, 152.94, 779.5400000000001, 1983.4600000000007, 1558.2400000000011, 46.95, 4171.050000000003, 1035.45, 491.8699999999996, 2571.859999999999, 490.0499999999998, 667.6499999999999, 1281.0199999999998, 411.7000000000001, 810.6000000000001, 566.3799999999999, 1509.5800000000004, 2062.06, 1052.329999999999, 823.9699999999996, 142.5, 302.25, 1119.2500000000002, 994.8599999999998, 598.1999999999998, 233.22, 4533.450000000003, 361.2199999999999, 1600.0, 372.36999999999995, 616.26, 167.62000000000003, 1109.7999999999997, 770.8900000000001, 328.15, 213.07999999999998, 428.6799999999998, 403.42, 2291.74, 1374.5800000000002, 251.91, 1470.9000000000003, 151.05, 214.80000000000004, 549.0699999999998, 734.2400000000001, 322.41, 370.47999999999996, 101.10000000000001, 575.4100000000001, 887.6500000000001, 1013.7500000000001, 739.7699999999998, 494.44000000000005, 3926.4300000000003, 395.79999999999995, 520.98, 1594.3399999999997, 623.93, 2748.1899999999987, 719.77, 734.7699999999996, 109.36000000000001, 707.0399999999997, 1051.0600000000002, 327.3, 633.5799999999997, 302.48, 1199.2100000000003, 1045.0200000000002, 367.92999999999984, 316.72999999999985, 874.2500000000005, 1755.7600000000004, 1780.5900000000001, 358.9000000000001, 175.4, 407.66, 256.09999999999997, 711.9000000000001, 1900.29, 936.0400000000002, 1036.3400000000004, 535.85, 230.16000000000003, 303.93, 2123.6900000000005, 443.0500000000001, 163.07, 1332.1900000000005, 1225.3200000000004, 83.15, 151.83, 262.20000000000005, 75.45, 210.34999999999985, 1051.3999999999999, 529.36, 455.2999999999999, 133.56, 1025.279999999999, 284.55, 300.85, 287.4, 184.26000000000002, 798.0300000000001, 648.5399999999995, 2392.780000000001, 170.2, 414.59000000000003, 230.51000000000002, 259.0099999999998, 311.92, 266.97, 6.9, 707.4, 581.7600000000001, 2167.8399999999997, 814.7199999999996, 151.42, 102.0, 1103.03, 1314.6800000000003, 1279.3900000000006, 74.9, 373.54999999999995, 416.7299999999997, 98.3, 1750.3900000000024, 234.3, 941.9499999999998, 235.90000000000003, 300.83, 769.2899999999995, 220.61999999999998, 404.30000000000007, 363.65, 498.79999999999995, 731.5, 983.8299999999997, 1414.99, 100.97000000000001, 183.12000000000003, 338.54, 484.37999999999977, 777.6, 90.30000000000001, 609.5099999999998, 662.79, 1004.7999999999998, 101.7, 293.62000000000006, 423.6499999999998, 5727.250000000003, 5617.439999999998, 290.35999999999996, 228.06000000000003, 455.25, 759.7599999999999, 4838.4, 1095.5600000000006, 548.97, 119.62, 339.3, 4035.1499999999955, 1260.0600000000004, 611.0500000000001, 988.6400000000001, 522.9900000000001, 285.89, 1674.9699999999998, 101.15, 4288.939999999999, 509.22999999999996, 264.96000000000004, 1077.74, 334.53999999999996, 2265.1699999999996, 985.01, 667.02, 370.97999999999996, 451.43999999999977, 105.84, 313.61999999999995, 324.1400000000001, 459.2399999999999, 213.5, 2042.6900000000003, 260.43, 181.08999999999997, 360.1600000000003, 129.5, 231.64, 244.79999999999995, 528.0799999999999, 482.47, 1630.65, 3505.839999999999, 129.49, 907.6099999999999, 618.59, 506.18999999999994, 500.42000000000013, 1206.2999999999995, 322.78, 384.14, 3093.140000000002, 322.8, 1475.1399999999999, 417.72999999999985, 2435.58, 850.8499999999999, 469.2800000000002, 786.3599999999999, 231.10000000000002, 111.36999999999999, 86.31, 290.65999999999997, 518.4200000000001, 3719.350000000002, 1212.6600000000005, 99.42, 2982.2699999999995, 5068.320000000001, 691.0699999999999, 39.12, 883.29, 118.98, 366.78, 184.14, 1374.8700000000003, 2147.68, 1692.27, 4376.599999999999, 319.61000000000007, 493.62, 1519.4000000000005, 183.70000000000002, 894.5, 917.1399999999999, 324.24, 1833.2600000000014, 1115.1600000000003, 422.59999999999997, 139.08, 324.45, 99.0, 1844.5099999999993, 3004.69, 7175.980000000001, 531.35, 656.6300000000001, 1045.2800000000002, 845.4, 756.6300000000002, 2441.06, 4311.500000000008, 301.71999999999997, 3551.1300000000006, 812.19, 155.23999999999998, 2767.55, 589.15, 586.8299999999998, 727.7399999999996, 4405.789999999997, 262.17, 603.7499999999998, 650.51, 1202.6399999999999, 417.59999999999997, 323.00000000000006, 464.9, 1176.3400000000006, 1304.7599999999993, 3606.2700000000004, 3042.8800000000006, 836.0600000000001, 605.6999999999998, 505.2299999999997, 1764.7199999999998, 223.92, 588.3599999999999, 369.34, 418.85, 316.61999999999995, 1501.3799999999997, 2423.420000000005, 2931.5400000000013, 294.84000000000003, 113.62000000000005, 590.86, 171.59, 661.5200000000001, 1003.8600000000004, 388.2799999999999, 49.09999999999999, 152.76, 5891.900000000002, 263.29999999999995, 931.6, 107.6, 300.31, 1366.12, 1145.6299999999999, 243.83999999999997, 1122.0500000000006, 305.62, 1201.4900000000002, 140.85, 332.29999999999995, 418.94, 245.82, 387.1199999999997, 469.75999999999993, 121.92, 571.6100000000001, 314.77, 1149.65, 2336.24, 91.61, 438.17, 2623.330000000001, 497.61000000000007, 460.64, 775.1800000000001, 341.70000000000005, 128.5, 197.22, 325.90999999999997, 62.5, 99.1, 251.87, 1356.2399999999996, 8653.739999999994, 1233.3199999999997, 743.62, 6354.670000000001, 214.32000000000002, 193.44, 281.42, 124.57, 239.46, 144.91, 328.4, 35.400000000000006, 487.96999999999997, 173.76, 338.55, 207.73999999999998, 825.4199999999997, 774.52, 680.02, 2035.3399999999997, 1290.4399999999998, 775.9699999999996, 13.3, 1519.0800000000004, 432.0, 489.4199999999999, 148.7, 429.84, 280.8599999999999, 194.88, 461.4899999999999, 390.61999999999983, 219.13999999999996, 392.7299999999999, 622.43, 887.1100000000005, 1706.88, 373.24, 2117.08, 1913.7999999999995, 366.1299999999999, 397.64999999999986, 379.14000000000004, 1323.2600000000027, 1409.7199999999996, 208.45999999999995, 454.89, 378.17999999999995, 793.04, 541.1, 169.79000000000005, 4087.090000000001, 846.7499999999998, 201.6, 1897.4900000000007, 1089.4500000000005, 380.55000000000007, 2174.060000000001, 161.94, 950.93, 262.68, 2143.150000000002, 2292.199999999999, 1342.630000000001, 2571.82, 194.48000000000002, 698.4800000000001, 1006.56, 223.95999999999998, 167.61, 20.8, 762.4799999999999, 163.69, 308.74, 117.35000000000001, 305.52000000000004, 234.17, 110.55000000000001, 614.77, 319.0199999999999, 253.31000000000003, 650.4100000000002, 357.20999999999987, 344.33, 1273.1100000000008, 384.06, 1308.9099999999999, 4481.349999999996, 2548.76, 1873.2, 1180.0700000000002, 1093.65, 943.1600000000002, 756.08, 7.9, 484.82000000000005, 1779.95, 500.21000000000004, 1412.9399999999996, 534.72, 427.2, 195.36, 270.90000000000003, 355.0599999999997, 1842.5599999999995, 3569.840000000002, 515.1, 276.67999999999995, 71.0, 95.85, 196.8, 121.67999999999999, 446.41, 358.0, 146.87, 380.35, 422.03999999999996, 603.7200000000001, 1267.3199999999997, 112.40000000000003, 449.7299999999999, 777.07, 427.42999999999995, 1560.58, 948.48, 299.48999999999995, 642.0199999999999, 351.47, 164.95, 3682.180000000001, 1028.0, 413.75000000000006, 498.47999999999996, 437.5099999999999, 360.23, 1584.370000000001, 1982.0000000000002, 1141.77, 711.5000000000002, 2216.039999999999, 1636.6299999999999, 312.13999999999993, 1637.2000000000005, 1446.09, 138.04999999999998, 506.87999999999994, 378.2000000000001, 118.80000000000001, 211.3, 290.1600000000001, 1366.9099999999999, 409.76, 2949.7500000000014, 347.75000000000006, 1252.06, 975.18, 1170.8599999999997, 1983.2399999999989, 1642.8800000000006, 780.1999999999997, 888.6400000000001, 971.74, 1621.7299999999998, 346.37999999999994, 6696.620000000003, 420.44999999999993, 163.29999999999998, 248.60999999999999, 271.64000000000004, 302.80000000000007, 547.25, 138.32, 345.29999999999995, 298.89000000000004, 259.34999999999997, 489.4799999999998, 1395.8400000000001, 3850.5699999999993, 94.5, 639.18, 5962.5700000000015, 595.8899999999999, 185.9, 741.4800000000001, 124.88, 329.34000000000003, 251.69999999999996, 161.46, 568.4200000000001, 1538.88, 2312.9599999999996, 896.1500000000001, 293.1, 1524.1300000000006, 78.75, 835.7800000000004, 317.76, 3209.3999999999987, 924.61, 223.48, 231.17, 84.39999999999998, 2633.5299999999997, 144.0, 1049.7900000000002, 157.18, 249.74, 1274.2500000000007, 1699.3000000000004, 1013.01, 170.55999999999997, 342.63, 3563.8499999999995, 314.4, 384.08, 204.24, 1063.2800000000002, 1844.2800000000002, 455.45000000000005, 903.45, 114.23, 1439.6900000000012, 132.28, 354.15, 573.1700000000001, 1218.5099999999998, 318.76000000000005, 1834.4600000000012, 208.04000000000005, 190.88, 149.89, 352.31, 314.69, 1740.5800000000006, 1135.0399999999997, 4877.170000000003, 954.8999999999997, 282.18999999999994, 318.65000000000003, 353.8599999999999, 178.26, 170.31000000000006, 185.95000000000002, 112.10000000000001, 221.73000000000005, 298.0, 562.8999999999997, 113.06, 317.61999999999995, 487.15999999999997, 739.1899999999999, 111.98000000000002, 187.82999999999998, 961.5600000000001, 724.13, 153.92000000000004, 563.7699999999996, 756.03, 944.4100000000004, 353.03, 1211.63, 556.9499999999997, 131.78000000000006, 498.42, 669.1100000000001, 197.6300000000001, 832.5099999999998, 5435.6500000000015, 82.75, 828.3899999999999, 644.3, 2328.8399999999997, 1706.2700000000011, 3462.289999999999, 2600.34, 290.5200000000001, 659.6099999999999, 623.7, 288.00000000000006, 279.75000000000006, 363.9, 175.2, 494.24999999999994, 32.95, 3000.68, 183.36, 6550.480000000001, 267.76, 160.56999999999994, 409.4099999999999, 1740.330000000001, 228.96, 999.3700000000003, 110.75, 891.0899999999999, 388.5499999999999, 1740.0, 1393.06, 388.1399999999999, 127.85999999999999, 585.7900000000002, 443.20000000000005, 1686.8200000000002, 2904.37, 1023.7500000000005, 446.18, 326.2599999999999, 597.3799999999994, 501.6699999999999, 97.35, 2503.3000000000015, 404.66, 6149.3200000000015, 65.4, 108.75, 261.11000000000007, 1697.34, 784.11, 496.36000000000007, 508.8, 6933.3, 696.4099999999999, 124.93, 817.4399999999995, 1562.68, 281.62000000000006, 883.0100000000004, 32.65, 511.30000000000007, 912.3199999999999, 493.36, 361.84000000000003, 778.0, 507.8399999999999, 3445.4099999999985, 296.07, 2180.77, 467.98, 1351.3, 248.99000000000007, 759.1699999999995, 3086.7099999999978, 100.8, 9552.430000000002, 338.06, 153.16, 365.76000000000005, 303.16, 2052.480000000001, 61.8, 1433.729999999999, 52.800000000000004, 541.53, 772.48, 1427.2199999999996, 486.71999999999997, 340.06, 316.49999999999994, 657.3, 159.85000000000002, 757.4599999999996, 212.28000000000003, 952.6500000000002, 289.96000000000004, 763.2800000000003, 137.0, 1565.6099999999997, 501.96, 259.27, 194.36999999999995, 511.82, 1083.1900000000003, 414.04, 168.08, 1321.2199999999998, 1926.1100000000001, 342.59000000000003, 272.21999999999997, 1138.0, 689.0999999999999, 340.43, 658.8500000000001, 302.2, 6115.140000000001, 1622.5699999999997, 513.2, 208.65, 67.64999999999999, 312.8699999999999, 888.4200000000002, 546.8100000000001, 563.6499999999999, 663.83, 652.7400000000001, 647.2600000000001, 3428.000000000001, 801.3299999999999, 296.70000000000005, 223.36, 76.5, 266.92, 98.42000000000002, 645.9599999999999, 148.86, 631.8900000000001, 1487.6, 1714.1499999999999, 287.81, 541.4599999999999, 368.90000000000003, 167.61999999999998, 1122.3799999999997, 243.45999999999998, 414.26, 2039.5100000000011, 1138.5600000000004, 74.55, 380.59999999999997, 1787.6500000000015, 270.85999999999996, 6640.799999999998, 749.4499999999999, 611.5399999999996, 842.9999999999999, 1813.3999999999994, 1158.2900000000002, 576.4000000000001, 2586.2399999999993, 678.1800000000001, 388.7900000000001, 2081.0200000000023, 161.67000000000002, 3247.230000000002, 394.72, 193.42000000000007, 574.5299999999995, 1656.2300000000005, 1382.699999999999, 2032.140000000001, 390.0699999999999, 57.3, 163.2, 81.44, 478.12000000000006, 527.05, 443.18000000000006, 1497.32, 75.75000000000001, 868.4800000000001, 168.10000000000002, 113.95, 1324.8399999999997, 547.2999999999996, 285.56, 547.06, 621.6600000000001, 712.2900000000002, 1641.1099999999994, 133.06, 690.11, 868.49, 166.07999999999998, 3945.000000000001, 4235.479999999999, 1207.5600000000002, 1036.2399999999998, 1674.69, 277.82, 1929.2200000000005, 196.0, 1012.1, 278.45, 409.0799999999999, 698.8399999999999, 161.84999999999997, 1795.7199999999998, 785.98, 2000.3300000000004, 736.5899999999993, 250.38000000000002, 739.38, 9396.139999999998, 1992.1100000000006, 184.39999999999998, 1366.92, 239.41, 1678.8100000000002, 2073.3400000000006, 2625.6499999999996, 117.47999999999999, 200.47, 283.12000000000006, 353.59999999999997, 1791.8699999999997, 1409.0700000000004, 1384.57, 798.7399999999999, 497.9, 1248.2199999999996, 8839.799999999996, 68.7, 156.48, 137.45, 164.57000000000002, 522.91, 4204.370000000003, 3730.430000000003, 663.5600000000001, 680.46, 2529.6, 1033.0000000000002, 2169.4500000000003, 1060.25, 2288.1600000000003, 3190.3899999999985, 1240.11, 475.24, 587.6499999999999, 7197.410000000006, 377.4399999999999, 168.24, 1099.1299999999997, 1720.58, 52.54, 303.06000000000006, 71.4, 305.51, 1518.2200000000003, 1307.03, 2869.840000000002, 2401.869999999998, 834.9899999999998, 115.05000000000001, 712.78, 556.8499999999999, 109.33000000000001, 271.20000000000005, 1411.33, 3113.2200000000007, 130.01, 182.76999999999998, 630.4199999999998, 450.95, 658.5699999999999, 86.02, 171.06000000000006, 131.94000000000003, 163.88999999999996, 149.02, 1117.9, 1068.5399999999997, 106.1, 323.03999999999996, 187.14000000000007, 75.9, 780.4300000000003, 1667.6000000000008, 844.1600000000001, 1184.84, 512.31, 546.0399999999998, 2761.21, 3594.6700000000005, 514.6099999999997, 1770.8800000000026, 15.250000000000002, 835.8500000000001, 298.4, 35.400000000000006, 155.3700000000001, 236.5, 110.21, 1593.3800000000008, 1091.6000000000001, 338.80000000000007, 2033.1, 512.83, 114.34, 199.5, 1772.1400000000003, 957.0900000000001, 1788.1000000000008, 389.09, 6364.659999999997, 329.65, 593.0500000000003, 117.22000000000001, 1303.0400000000006, 668.1800000000002, 122.75999999999999, 237.61, 379.45000000000005, 178.51999999999998, 367.54999999999984, 190.18999999999997, 503.35, 111.35, 547.27, 203.85999999999993, 244.10000000000002, 251.95999999999992, 97.99999999999997, 256.32, 131.98000000000005, 52.21999999999999, 155.79999999999998, 112.19999999999999, 110.38000000000001, 191.66999999999993, 406.09000000000003, 366.23, 193.54999999999995, 110.82, 1304.04, 2139.4399999999987, 545.9499999999998, 2460.3, 185.56, 134.28, 408.0, 1349.8799999999999, 111.16000000000003, 742.5600000000002, 704.25, 145.79, 613.44, 99.14000000000003, 644.5, 304.56, 176.68, 358.56000000000006, 219.03, 599.0400000000001, 858.4599999999997, 111.67999999999998, 508.4599999999999, 73.78, 422.04999999999995, 102.82999999999998, 209.94000000000003, 1292.54, 951.4299999999998, 103.0, 337.04, 135.54999999999998, 1707.6899999999996, 288.14, 516.0399999999997, 248.7, 152.68000000000006, 634.9499999999999, 20.8, 198.57, 136.13, 349.3399999999999, 1846.3400000000017, 191.71999999999997, 417.23, 139.97, 444.68, 50.78, 187.29000000000005, 166.42000000000002, 1158.8099999999997, 358.0, 84.68999999999998, 38.45, 668.1100000000002, 389.78000000000003, 115.30999999999999, 121.1, 97.97000000000004, 422.8800000000001, 730.4000000000001, 294.82, 9.2, 118.2, 1552.3799999999999, 165.04999999999998, 994.49, 189.39999999999995, 300.02000000000004, 2557.889999999998, 170.16, 306.46, 928.79, 234.6, 406.0, 801.4600000000002, 318.0, 396.3300000000001, 1347.1100000000006, 247.44, 3636.440000000002, 1341.0300000000002, 1498.29, 2039.1400000000008, 390.0, 343.45, 703.3699999999997, 90.47999999999999, 852.8, 167.66999999999996, 4510.1799999999985, 989.0000000000002, 1240.1000000000004, 911.1500000000001, 554.84, 168.31000000000003, 223.65, 754.6400000000002, 113.48000000000002, 4200.029999999999, 236.3, 352.69, 163.56000000000003, 320.71999999999997, 2325.8900000000026, 673.1000000000001, 1384.4500000000014, 589.4399999999999, 197.85, 206.83000000000007, 348.7299999999999, 1059.3900000000003, 681.9100000000001, 183.48000000000002, 8438.339999999997, 737.04, 1000.1599999999997, 1051.1, 1837.7700000000004, 83.70000000000002, 179.33999999999997, 62.400000000000006, 338.99999999999994, 340.79999999999995, 220.49, 257.69, 528.7099999999998, 453.4000000000001, 319.51000000000005, 1072.3700000000001, 399.65000000000003, 302.46000000000004, 1384.86, 115.15000000000002, 202.65000000000003, 676.1, 766.72, 3841.5199999999986, 378.0, 627.7700000000001, 490.8700000000002, 690.0099999999999, 1533.0200000000002, 382.79999999999995, 49.8, 1574.4399999999996, 457.14, 957.9699999999999, 243.76000000000005, 973.8399999999999, 238.34999999999994, 1932.0000000000007, 163.8, 160.42000000000002, 1444.27, 517.36, 139.10000000000002, 2301.08, 462.17, 299.34000000000003, 481.75, 621.75, 915.09, 807.1399999999999, 443.0, 3148.3400000000006, 3510.7699999999977, 3015.1300000000006, 779.9, 4418.200000000001, 1555.9, 221.98999999999998, 1366.0200000000007, 759.04, 861.3499999999998, 422.58000000000004, 1707.2600000000007, 1538.4099999999996, 366.5199999999999, 363.2, 804.02, 95.34, 4314.719999999999, 526.6699999999996, 103.3, 1616.4299999999996, 891.9, 427.13000000000005, 324.23999999999995, 149.48, 905.5600000000001, 801.5100000000001, 25.5, 171.2, 1730.1600000000008, 102.0, 175.92000000000002, 335.8599999999999, 110.38, 173.89999999999998, 80.82, 100.21, 1351.8300000000008, 1072.0]}],\n",
              "                        {\"template\": {\"data\": {\"bar\": [{\"error_x\": {\"color\": \"#2a3f5f\"}, \"error_y\": {\"color\": \"#2a3f5f\"}, \"marker\": {\"line\": {\"color\": \"#E5ECF6\", \"width\": 0.5}}, \"type\": \"bar\"}], \"barpolar\": [{\"marker\": {\"line\": {\"color\": \"#E5ECF6\", \"width\": 0.5}}, \"type\": \"barpolar\"}], \"carpet\": [{\"aaxis\": {\"endlinecolor\": \"#2a3f5f\", \"gridcolor\": \"white\", \"linecolor\": \"white\", \"minorgridcolor\": \"white\", \"startlinecolor\": \"#2a3f5f\"}, \"baxis\": {\"endlinecolor\": \"#2a3f5f\", \"gridcolor\": \"white\", \"linecolor\": \"white\", \"minorgridcolor\": \"white\", \"startlinecolor\": \"#2a3f5f\"}, \"type\": \"carpet\"}], \"choropleth\": [{\"colorbar\": {\"outlinewidth\": 0, \"ticks\": \"\"}, \"type\": \"choropleth\"}], \"contour\": [{\"colorbar\": {\"outlinewidth\": 0, \"ticks\": \"\"}, \"colorscale\": [[0.0, \"#0d0887\"], [0.1111111111111111, \"#46039f\"], [0.2222222222222222, \"#7201a8\"], [0.3333333333333333, \"#9c179e\"], [0.4444444444444444, \"#bd3786\"], [0.5555555555555556, \"#d8576b\"], [0.6666666666666666, \"#ed7953\"], [0.7777777777777778, \"#fb9f3a\"], [0.8888888888888888, \"#fdca26\"], [1.0, \"#f0f921\"]], \"type\": \"contour\"}], \"contourcarpet\": [{\"colorbar\": {\"outlinewidth\": 0, \"ticks\": \"\"}, \"type\": \"contourcarpet\"}], \"heatmap\": [{\"colorbar\": {\"outlinewidth\": 0, \"ticks\": \"\"}, \"colorscale\": [[0.0, \"#0d0887\"], [0.1111111111111111, \"#46039f\"], [0.2222222222222222, \"#7201a8\"], [0.3333333333333333, \"#9c179e\"], [0.4444444444444444, \"#bd3786\"], [0.5555555555555556, \"#d8576b\"], [0.6666666666666666, \"#ed7953\"], [0.7777777777777778, \"#fb9f3a\"], [0.8888888888888888, \"#fdca26\"], [1.0, \"#f0f921\"]], \"type\": \"heatmap\"}], \"heatmapgl\": [{\"colorbar\": {\"outlinewidth\": 0, \"ticks\": \"\"}, \"colorscale\": [[0.0, \"#0d0887\"], [0.1111111111111111, \"#46039f\"], [0.2222222222222222, \"#7201a8\"], [0.3333333333333333, \"#9c179e\"], [0.4444444444444444, \"#bd3786\"], [0.5555555555555556, \"#d8576b\"], [0.6666666666666666, \"#ed7953\"], [0.7777777777777778, \"#fb9f3a\"], [0.8888888888888888, \"#fdca26\"], [1.0, \"#f0f921\"]], \"type\": \"heatmapgl\"}], \"histogram\": [{\"marker\": {\"colorbar\": {\"outlinewidth\": 0, \"ticks\": \"\"}}, \"type\": \"histogram\"}], \"histogram2d\": [{\"colorbar\": {\"outlinewidth\": 0, \"ticks\": \"\"}, \"colorscale\": [[0.0, \"#0d0887\"], [0.1111111111111111, \"#46039f\"], [0.2222222222222222, \"#7201a8\"], [0.3333333333333333, \"#9c179e\"], [0.4444444444444444, \"#bd3786\"], [0.5555555555555556, \"#d8576b\"], [0.6666666666666666, \"#ed7953\"], [0.7777777777777778, \"#fb9f3a\"], [0.8888888888888888, \"#fdca26\"], [1.0, \"#f0f921\"]], \"type\": \"histogram2d\"}], \"histogram2dcontour\": [{\"colorbar\": {\"outlinewidth\": 0, \"ticks\": \"\"}, \"colorscale\": [[0.0, \"#0d0887\"], [0.1111111111111111, \"#46039f\"], [0.2222222222222222, \"#7201a8\"], [0.3333333333333333, \"#9c179e\"], [0.4444444444444444, \"#bd3786\"], [0.5555555555555556, \"#d8576b\"], [0.6666666666666666, \"#ed7953\"], [0.7777777777777778, \"#fb9f3a\"], [0.8888888888888888, \"#fdca26\"], [1.0, \"#f0f921\"]], \"type\": \"histogram2dcontour\"}], \"mesh3d\": [{\"colorbar\": {\"outlinewidth\": 0, \"ticks\": \"\"}, \"type\": \"mesh3d\"}], \"parcoords\": [{\"line\": {\"colorbar\": {\"outlinewidth\": 0, \"ticks\": \"\"}}, \"type\": \"parcoords\"}], \"pie\": [{\"automargin\": true, \"type\": \"pie\"}], \"scatter\": [{\"marker\": {\"colorbar\": {\"outlinewidth\": 0, \"ticks\": \"\"}}, \"type\": \"scatter\"}], \"scatter3d\": [{\"line\": {\"colorbar\": {\"outlinewidth\": 0, \"ticks\": \"\"}}, \"marker\": {\"colorbar\": {\"outlinewidth\": 0, \"ticks\": \"\"}}, \"type\": \"scatter3d\"}], \"scattercarpet\": [{\"marker\": {\"colorbar\": {\"outlinewidth\": 0, \"ticks\": \"\"}}, \"type\": \"scattercarpet\"}], \"scattergeo\": [{\"marker\": {\"colorbar\": {\"outlinewidth\": 0, \"ticks\": \"\"}}, \"type\": \"scattergeo\"}], \"scattergl\": [{\"marker\": {\"colorbar\": {\"outlinewidth\": 0, \"ticks\": \"\"}}, \"type\": \"scattergl\"}], \"scattermapbox\": [{\"marker\": {\"colorbar\": {\"outlinewidth\": 0, \"ticks\": \"\"}}, \"type\": \"scattermapbox\"}], \"scatterpolar\": [{\"marker\": {\"colorbar\": {\"outlinewidth\": 0, \"ticks\": \"\"}}, \"type\": \"scatterpolar\"}], \"scatterpolargl\": [{\"marker\": {\"colorbar\": {\"outlinewidth\": 0, \"ticks\": \"\"}}, \"type\": \"scatterpolargl\"}], \"scatterternary\": [{\"marker\": {\"colorbar\": {\"outlinewidth\": 0, \"ticks\": \"\"}}, \"type\": \"scatterternary\"}], \"surface\": [{\"colorbar\": {\"outlinewidth\": 0, \"ticks\": \"\"}, \"colorscale\": [[0.0, \"#0d0887\"], [0.1111111111111111, \"#46039f\"], [0.2222222222222222, \"#7201a8\"], [0.3333333333333333, \"#9c179e\"], [0.4444444444444444, \"#bd3786\"], [0.5555555555555556, \"#d8576b\"], [0.6666666666666666, \"#ed7953\"], [0.7777777777777778, \"#fb9f3a\"], [0.8888888888888888, \"#fdca26\"], [1.0, \"#f0f921\"]], \"type\": \"surface\"}], \"table\": [{\"cells\": {\"fill\": {\"color\": \"#EBF0F8\"}, \"line\": {\"color\": \"white\"}}, \"header\": {\"fill\": {\"color\": \"#C8D4E3\"}, \"line\": {\"color\": \"white\"}}, \"type\": \"table\"}]}, \"layout\": {\"annotationdefaults\": {\"arrowcolor\": \"#2a3f5f\", \"arrowhead\": 0, \"arrowwidth\": 1}, \"coloraxis\": {\"colorbar\": {\"outlinewidth\": 0, \"ticks\": \"\"}}, \"colorscale\": {\"diverging\": [[0, \"#8e0152\"], [0.1, \"#c51b7d\"], [0.2, \"#de77ae\"], [0.3, \"#f1b6da\"], [0.4, \"#fde0ef\"], [0.5, \"#f7f7f7\"], [0.6, \"#e6f5d0\"], [0.7, \"#b8e186\"], [0.8, \"#7fbc41\"], [0.9, \"#4d9221\"], [1, \"#276419\"]], \"sequential\": [[0.0, \"#0d0887\"], [0.1111111111111111, \"#46039f\"], [0.2222222222222222, \"#7201a8\"], [0.3333333333333333, \"#9c179e\"], [0.4444444444444444, \"#bd3786\"], [0.5555555555555556, \"#d8576b\"], [0.6666666666666666, \"#ed7953\"], [0.7777777777777778, \"#fb9f3a\"], [0.8888888888888888, \"#fdca26\"], [1.0, \"#f0f921\"]], \"sequentialminus\": [[0.0, \"#0d0887\"], [0.1111111111111111, \"#46039f\"], [0.2222222222222222, \"#7201a8\"], [0.3333333333333333, \"#9c179e\"], [0.4444444444444444, \"#bd3786\"], [0.5555555555555556, \"#d8576b\"], [0.6666666666666666, \"#ed7953\"], [0.7777777777777778, \"#fb9f3a\"], [0.8888888888888888, \"#fdca26\"], [1.0, \"#f0f921\"]]}, \"colorway\": [\"#636efa\", \"#EF553B\", \"#00cc96\", \"#ab63fa\", \"#FFA15A\", \"#19d3f3\", \"#FF6692\", \"#B6E880\", \"#FF97FF\", \"#FECB52\"], \"font\": {\"color\": \"#2a3f5f\"}, \"geo\": {\"bgcolor\": \"white\", \"lakecolor\": \"white\", \"landcolor\": \"#E5ECF6\", \"showlakes\": true, \"showland\": true, \"subunitcolor\": \"white\"}, \"hoverlabel\": {\"align\": \"left\"}, \"hovermode\": \"closest\", \"mapbox\": {\"style\": \"light\"}, \"paper_bgcolor\": \"white\", \"plot_bgcolor\": \"#E5ECF6\", \"polar\": {\"angularaxis\": {\"gridcolor\": \"white\", \"linecolor\": \"white\", \"ticks\": \"\"}, \"bgcolor\": \"#E5ECF6\", \"radialaxis\": {\"gridcolor\": \"white\", \"linecolor\": \"white\", \"ticks\": \"\"}}, \"scene\": {\"xaxis\": {\"backgroundcolor\": \"#E5ECF6\", \"gridcolor\": \"white\", \"gridwidth\": 2, \"linecolor\": \"white\", \"showbackground\": true, \"ticks\": \"\", \"zerolinecolor\": \"white\"}, \"yaxis\": {\"backgroundcolor\": \"#E5ECF6\", \"gridcolor\": \"white\", \"gridwidth\": 2, \"linecolor\": \"white\", \"showbackground\": true, \"ticks\": \"\", \"zerolinecolor\": \"white\"}, \"zaxis\": {\"backgroundcolor\": \"#E5ECF6\", \"gridcolor\": \"white\", \"gridwidth\": 2, \"linecolor\": \"white\", \"showbackground\": true, \"ticks\": \"\", \"zerolinecolor\": \"white\"}}, \"shapedefaults\": {\"line\": {\"color\": \"#2a3f5f\"}}, \"ternary\": {\"aaxis\": {\"gridcolor\": \"white\", \"linecolor\": \"white\", \"ticks\": \"\"}, \"baxis\": {\"gridcolor\": \"white\", \"linecolor\": \"white\", \"ticks\": \"\"}, \"bgcolor\": \"#E5ECF6\", \"caxis\": {\"gridcolor\": \"white\", \"linecolor\": \"white\", \"ticks\": \"\"}}, \"title\": {\"x\": 0.05}, \"xaxis\": {\"automargin\": true, \"gridcolor\": \"white\", \"linecolor\": \"white\", \"ticks\": \"\", \"title\": {\"standoff\": 15}, \"zerolinecolor\": \"white\", \"zerolinewidth\": 2}, \"yaxis\": {\"automargin\": true, \"gridcolor\": \"white\", \"linecolor\": \"white\", \"ticks\": \"\", \"title\": {\"standoff\": 15}, \"zerolinecolor\": \"white\", \"zerolinewidth\": 2}}}, \"title\": {\"text\": \"6m Engagement\"}},\n",
              "                        {\"responsive\": true}\n",
              "                    ).then(function(){\n",
              "                            \n",
              "var gd = document.getElementById('a4a43506-1c86-4a09-923e-b2154006cc6c');\n",
              "var x = new MutationObserver(function (mutations, observer) {{\n",
              "        var display = window.getComputedStyle(gd).display;\n",
              "        if (!display || display === 'none') {{\n",
              "            console.log([gd, 'removed!']);\n",
              "            Plotly.purge(gd);\n",
              "            observer.disconnect();\n",
              "        }}\n",
              "}});\n",
              "\n",
              "// Listen for the removal of the full notebook cells\n",
              "var notebookContainer = gd.closest('#notebook-container');\n",
              "if (notebookContainer) {{\n",
              "    x.observe(notebookContainer, {childList: true});\n",
              "}}\n",
              "\n",
              "// Listen for the clearing of the current output cell\n",
              "var outputEl = gd.closest('.output');\n",
              "if (outputEl) {{\n",
              "    x.observe(outputEl, {childList: true});\n",
              "}}\n",
              "\n",
              "                        })\n",
              "                };\n",
              "                \n",
              "            </script>\n",
              "        </div>\n",
              "</body>\n",
              "</html>"
            ]
          },
          "metadata": {
            "tags": []
          }
        }
      ]
    },
    {
      "cell_type": "markdown",
      "metadata": {
        "id": "tzG7GQzc0irE",
        "colab_type": "text"
      },
      "source": [
        "We have some outliers too. Filtering out the outliers makes sense to have a proper machine learning model.\n",
        "Ok, next step. We will merge our 3 months and 6 months dataframes to see correlations between LTV and the feature set we have."
      ]
    },
    {
      "cell_type": "code",
      "metadata": {
        "id": "8TuZj8d6qQ3a",
        "colab_type": "code",
        "colab": {}
      },
      "source": [
        "tx_merge = pd.merge(tx_user, tx_user_6m, on='viewer_id', how='left')\n",
        "tx_merge = tx_merge.fillna(0)\n",
        "\n",
        "tx_graph = tx_merge.query(\"m6_Engagement < 30000\")\n",
        "\n",
        "tx_ltv_viz =  pd.DataFrame(tx_graph)\n",
        "tx_ltv_viz.to_csv(r'/content/drive/My Drive/ADM/Project/rfm/tf_ltv_viz.csv') "
      ],
      "execution_count": 0,
      "outputs": []
    },
    {
      "cell_type": "code",
      "metadata": {
        "id": "DHbUMl53qSmQ",
        "colab_type": "code",
        "colab": {}
      },
      "source": [
        ""
      ],
      "execution_count": 0,
      "outputs": []
    },
    {
      "cell_type": "code",
      "metadata": {
        "id": "16R3e1MT0eys",
        "colab_type": "code",
        "outputId": "11a78a23-d203-494c-d439-f21d74f4ee47",
        "colab": {
          "base_uri": "https://localhost:8080/",
          "height": 542
        }
      },
      "source": [
        "\n",
        "\n",
        "plot_data = [\n",
        "    go.Scatter(\n",
        "        x=tx_graph.query(\"Segment == 'Low-Value'\")['OverallScore'],\n",
        "        y=tx_graph.query(\"Segment == 'Low-Value'\")['m6_Engagement'],\n",
        "        mode='markers',\n",
        "        name='Low',\n",
        "        marker= dict(size= 7,\n",
        "            line= dict(width=1),\n",
        "            color= 'blue',\n",
        "            opacity= 0.8\n",
        "           )\n",
        "    ),\n",
        "        go.Scatter(\n",
        "        x=tx_graph.query(\"Segment == 'Mid-Value'\")['OverallScore'],\n",
        "        y=tx_graph.query(\"Segment == 'Mid-Value'\")['m6_Engagement'],\n",
        "        mode='markers',\n",
        "        name='Mid',\n",
        "        marker= dict(size= 9,\n",
        "            line= dict(width=1),\n",
        "            color= 'green',\n",
        "            opacity= 0.5\n",
        "           )\n",
        "    ),\n",
        "        go.Scatter(\n",
        "        x=tx_graph.query(\"Segment == 'High-Value'\")['OverallScore'],\n",
        "        y=tx_graph.query(\"Segment == 'High-Value'\")['m6_Engagement'],\n",
        "        mode='markers',\n",
        "        name='High',\n",
        "        marker= dict(size= 11,\n",
        "            line= dict(width=1),\n",
        "            color= 'red',\n",
        "            opacity= 0.9\n",
        "           )\n",
        "    ),\n",
        "]\n",
        "\n",
        "plot_layout = go.Layout(\n",
        "        yaxis= {'title': \"6m LTV\"},\n",
        "        xaxis= {'title': \"RFE Score\"},\n",
        "        title='LTV'\n",
        "    )\n",
        "fig = go.Figure(data=plot_data, layout=plot_layout)\n",
        "pyoff.iplot(fig)\n",
        "#st.plotly_chart(fig, use_container_width=True)"
      ],
      "execution_count": 0,
      "outputs": [
        {
          "output_type": "display_data",
          "data": {
            "text/html": [
              "<html>\n",
              "<head><meta charset=\"utf-8\" /></head>\n",
              "<body>\n",
              "    <div>\n",
              "            <script src=\"https://cdnjs.cloudflare.com/ajax/libs/mathjax/2.7.5/MathJax.js?config=TeX-AMS-MML_SVG\"></script><script type=\"text/javascript\">if (window.MathJax) {MathJax.Hub.Config({SVG: {font: \"STIX-Web\"}});}</script>\n",
              "                <script type=\"text/javascript\">window.PlotlyConfig = {MathJaxConfig: 'local'};</script>\n",
              "        <script src=\"https://cdn.plot.ly/plotly-latest.min.js\"></script>    \n",
              "            <div id=\"bc88b5a2-a58c-4173-ba53-9f919e19d17d\" class=\"plotly-graph-div\" style=\"height:525px; width:100%;\"></div>\n",
              "            <script type=\"text/javascript\">\n",
              "                \n",
              "                    window.PLOTLYENV=window.PLOTLYENV || {};\n",
              "                    \n",
              "                if (document.getElementById(\"bc88b5a2-a58c-4173-ba53-9f919e19d17d\")) {\n",
              "                    Plotly.newPlot(\n",
              "                        'bc88b5a2-a58c-4173-ba53-9f919e19d17d',\n",
              "                        [{\"marker\": {\"color\": \"blue\", \"line\": {\"width\": 1}, \"opacity\": 0.8, \"size\": 7}, \"mode\": \"markers\", \"name\": \"Low\", \"type\": \"scatter\", \"x\": [2, 2, 2, 2, 2, 2, 2, 2, 2, 2, 2, 2, 2, 2, 2, 2, 2, 2, 2, 2, 2, 2, 2, 2, 2, 2, 2, 2, 2, 2, 2, 2, 2, 2, 2, 2, 2, 2, 2, 2, 2, 2, 2, 2, 2, 2, 2, 2, 2, 2, 2, 2, 2, 2, 2, 2, 2, 2, 2, 2, 2, 2, 2, 2, 2, 2, 2, 2, 2, 2, 2, 2, 2, 2, 2, 2, 2, 2, 2, 2, 2, 2, 2, 2, 2, 2, 2, 2, 2, 2, 2, 2, 2, 2, 2, 2, 2, 2, 2, 2, 2, 2, 2, 2, 2, 2, 2, 2, 2, 2, 2, 2, 2, 2, 2, 2, 2, 2, 2, 2, 2, 2, 2, 2, 2, 2, 2, 2, 2, 2, 2, 2, 2, 2, 2, 2, 2, 2, 2, 2, 2, 2, 2, 2, 2, 2, 2, 2, 2, 2, 2, 2, 2, 2, 2, 2, 2, 2, 2, 2, 2, 2, 2, 2, 2, 2, 2, 2, 2, 2, 2, 2, 2, 2, 2, 2, 2, 2, 2, 2, 2, 2, 2, 2, 2, 2, 2, 2, 2, 2, 2, 2, 2, 2, 2, 2, 2, 2, 2, 2, 2, 2, 2, 2, 2, 2, 2, 2, 2, 2, 2, 2, 2, 2, 2, 2, 2, 2, 2, 2, 2, 2, 2, 2, 2, 2, 2, 2, 2, 2, 2, 2, 2, 2, 2, 2, 2, 2, 2, 2, 2, 2, 2, 2, 2, 2, 2, 2, 2, 2, 2, 2, 2, 2, 2, 2, 2, 2, 2, 2, 2, 2, 2, 2, 2, 2, 2, 2, 2, 2, 2, 2, 2, 2, 2, 2, 2, 2, 2, 2, 2, 2, 2, 2, 2, 2, 2, 2, 2, 2, 2, 2, 2, 2, 2, 2, 2, 2, 2, 2, 2, 2, 2, 2, 2, 2, 2, 2, 2, 2, 2, 2, 2, 2, 2, 2, 2, 2, 2, 2, 2, 2, 2, 2, 2, 2, 2, 2, 2, 2, 2, 2, 2, 2, 2, 2, 2, 2, 2, 2, 2, 2, 2, 2, 2, 2, 2, 2, 2, 2, 2, 2, 2, 2, 2, 2, 2, 2, 0, 0, 0, 0, 0, 0, 0, 0, 0, 0, 0, 0, 0, 0, 0, 0, 0, 0, 0, 0, 0, 0, 0, 0, 0, 0, 0, 0, 0, 0, 0, 0, 0, 0, 0, 0, 0, 0, 0, 0, 0, 0, 0, 0, 0, 0, 0, 0, 0, 0, 0, 0, 0, 0, 0, 0, 0, 0, 0, 0, 0, 0, 0, 0, 0, 0, 0, 0, 0, 0, 0, 0, 0, 0, 0, 0, 0, 0, 0, 0, 0, 0, 0, 0, 0, 0, 0, 0, 0, 0, 0, 0, 0, 0, 0, 0, 0, 0, 0, 0, 0, 0, 0, 0, 0, 0, 0, 0, 0, 0, 0, 0, 0, 0, 0, 0, 0, 0, 0, 0, 0, 0, 0, 0, 0, 0, 0, 0, 0, 0, 0, 0, 0, 0, 0, 0, 0, 0, 0, 0, 0, 0, 0, 0, 0, 0, 0, 0, 0, 0, 0, 0, 0, 0, 0, 0, 0, 0, 0, 0, 0, 0, 0, 0, 0, 0, 0, 0, 0, 0, 0, 0, 0, 0, 0, 0, 0, 0, 0, 0, 0, 0, 0, 0, 0, 0, 0, 0, 0, 0, 0, 0, 0, 0, 0, 0, 0, 0, 0, 0, 0, 0, 0, 0, 0, 0, 0, 0, 0, 0, 0, 0, 0, 0, 0, 0, 0, 0, 0, 0, 0, 0, 0, 0, 0, 0, 0, 0, 0, 0, 0, 0, 0, 0, 0, 0, 0, 0, 0, 0, 0, 0, 0, 0, 0, 0, 0, 0, 0, 0, 0, 0, 0, 0, 0, 0, 0, 0, 0, 0, 0, 0, 0, 0, 0, 0, 0, 0, 0, 0, 0, 0, 0, 0, 0, 0, 0, 0, 0, 0, 0, 0, 0, 0, 0, 0, 0, 0, 0, 0, 0, 0, 0, 0, 0, 0, 0, 0, 0, 0, 0, 0, 0, 0, 0, 0, 0, 0, 0, 0, 0, 0, 0, 0, 0, 0, 0, 0, 0, 0, 0, 0, 0, 0, 0, 0, 0, 0, 0, 1, 1, 1, 1, 1, 1, 1, 1, 1, 1, 1, 1, 1, 1, 1, 1, 1, 1, 1, 1, 1, 1, 1, 1, 1, 1, 1, 1, 1, 1, 1, 1, 1, 1, 1, 1, 1, 1, 1, 1, 1, 1, 1, 1, 1, 1, 1, 1, 1, 1, 1, 1, 1, 1, 1, 1, 1, 1, 1, 1, 1, 1, 1, 1, 1, 1, 1, 1, 1, 1, 1, 1, 1, 1, 1, 1, 1, 1, 1, 1, 1, 1, 1, 1, 1, 1, 1, 1, 1, 1, 1, 1, 1, 1, 1, 1, 1, 1, 1, 1, 1, 1, 1, 1, 1, 1, 1, 1, 1, 1, 1, 1, 1, 1, 1, 1, 1, 1, 1, 1, 1, 1, 1, 1, 1, 1, 1, 1, 1, 1, 1, 1, 1, 1, 1, 1, 1, 1, 1, 1, 1, 1, 1, 1, 1, 1, 1, 1, 1, 1, 1, 1, 1, 1, 1, 1, 1, 1, 1, 1, 1, 1, 1, 1, 1, 1, 1, 1, 1, 1, 1, 1, 1, 1, 1, 1, 1, 1, 1, 1, 1, 1, 1, 1, 1, 1, 1, 1, 1, 1, 1, 1, 1, 1, 1, 1, 1, 1, 1, 1, 1, 1, 1, 1, 1, 1, 1, 1, 1, 1, 1, 1, 1, 1, 1, 1, 1, 1, 1, 1, 1, 1, 1, 1, 1, 1, 1, 1, 1, 1, 1, 1, 1, 1, 1, 1, 1, 1, 1, 1, 1, 1, 1, 1, 1, 1, 1, 1, 1, 1, 1, 1, 1, 1, 1, 1, 1, 1, 1, 1, 1, 1, 1, 1, 1, 1, 1, 1, 1, 1, 1, 1, 1, 1, 1, 1, 1, 1, 1, 1, 1, 1, 1, 1, 1, 1, 1, 1, 1, 1, 1, 1, 1, 1, 1, 1, 1, 1, 1, 1, 1, 1, 1, 1, 1, 1, 1, 1, 1, 1, 1, 1, 1, 1, 1, 1, 1, 1, 1, 1, 1, 1, 1, 1, 1, 1, 1, 1, 1, 1, 1, 1, 1, 1, 1, 1, 1, 1, 1, 1, 1, 1, 1, 1, 1, 1, 1, 1, 1, 1, 1, 1, 1, 1, 1, 1, 1, 1, 1, 1, 1, 1, 1, 1, 1, 1, 1, 1, 1, 1, 1, 1, 1, 1, 1, 1, 1, 1, 1, 1, 1, 1, 1, 1, 1, 1, 1, 1, 1, 1, 1, 1, 1, 1, 1, 1, 1, 1, 1, 2, 2, 2, 2, 2, 2, 2, 2, 2, 2, 2, 2, 2, 2, 2, 2, 2, 2, 2, 2, 2, 2, 2, 2, 1, 1, 1, 1, 1, 1, 1, 1, 1, 1, 2, 2, 2, 2, 2, 2, 2, 2, 2, 2, 2, 2, 2, 2, 2], \"y\": [2193.1400000000012, 1257.8999999999999, 0.0, 833.2399999999999, 1690.3200000000004, 312.8, 0.0, 0.0, 16.9, 0.0, 1409.0700000000004, 924.4, 1222.29, 1093.81, 1098.5600000000002, 233.54000000000002, 322.78, 38.08, 1910.0800000000015, 1868.66, 2661.400000000001, 3310.9000000000024, 1538.44, 767.87, 531.12, 3045.01, 0.0, 623.93, 511.57999999999987, 1176.3400000000006, 941.9499999999998, 299.81, 438.17, 62.400000000000006, 844.1600000000001, 1524.1300000000006, 469.75999999999993, 3926.4300000000003, 695.32, 644.0699999999999, 1783.7400000000002, 922.4000000000001, 1051.1, 248.06000000000006, 0.0, 159.85000000000002, 195.86, 0.0, 1282.59, 1178.69, 0.0, 228.96000000000004, 6271.770000000002, 1075.2, 1545.9500000000007, 1215.3999999999996, 0.0, 1145.6299999999999, 1248.2199999999996, 153.3, 3970.9399999999987, 298.0, 1600.0, 0.0, 2931.5400000000013, 0.0, 2167.8399999999997, 990.28, 2218.6499999999996, 364.82, 712.68, 0.0, 1206.2999999999995, 109.33000000000001, 884.6400000000004, 130.2, 303.75, 122.75999999999999, 124.93, 2327.02, 884.5299999999999, 0.0, 2654.9899999999993, 1782.71, 878.63, 698.4800000000001, 1565.8600000000006, 2123.6900000000005, 9.2, 954.9799999999997, 1897.4900000000007, 868.4800000000001, 0.0, 3207.890000000001, 503.35, 5517.629999999996, 2143.5500000000006, 501.96, 312.34, 499.79999999999995, 1730.1600000000008, 0.0, 0.0, 97.5, 117.22000000000001, 2042.6500000000015, 2761.21, 304.12999999999994, 1636.6299999999999, 416.09, 447.90000000000003, 341.2700000000001, 2959.730000000002, 1148.5400000000002, 2165.540000000001, 1900.29, 412.02999999999986, 1488.5400000000004, 259.6, 0.0, 915.09, 371.15999999999997, 1475.1399999999999, 987.7200000000001, 383.17999999999995, 878.6800000000002, 1463.7000000000003, 493.62, 0.0, 0.0, 581.7600000000001, 1170.8599999999997, 1751.73, 4485.119999999999, 0.0, 4510.1799999999985, 1393.68, 0.0, 0.0, 274.59999999999997, 199.5, 117.47999999999999, 0.0, 465.38999999999993, 0.0, 1498.29, 0.0, 0.0, 0.0, 1535.85, 387.9, 588.3599999999999, 2115.82, 0.0, 529.36, 413.6000000000001, 850.8499999999999, 663.4900000000002, 0.0, 0.0, 659.85, 0.0, 663.5600000000001, 573.9199999999998, 0.0, 0.0, 0.0, 0.0, 1045.0200000000002, 1295.94, 0.0, 290.32000000000005, 0.0, 579.1900000000002, 522.9900000000001, 726.58, 758.7600000000001, 0.0, 234.6, 0.0, 0.0, 1351.3, 678.17, 85.0, 127.60000000000001, 603.4, 1529.7400000000007, 801.4600000000002, 135.54999999999998, 2059.7, 520.9800000000001, 987.3, 0.0, 0.0, 826.1299999999999, 336.80000000000007, 4171.050000000003, 823.5699999999998, 951.4599999999999, 108.75, 96.14, 0.0, 159.20000000000002, 0.0, 0.0, 0.0, 338.06, 0.0, 417.95000000000005, 546.9499999999999, 0.0, 2116.110000000001, 1676.69, 0.0, 647.2600000000001, 0.0, 610.8, 366.11, 0.0, 0.0, 0.0, 876.4400000000002, 443.18000000000006, 0.0, 0.0, 248.99000000000007, 1707.2600000000007, 1422.3200000000002, 173.82, 0.0, 605.6999999999998, 0.0, 453.05999999999995, 0.0, 4575.920000000003, 1524.77, 0.0, 2613.6, 312.8699999999999, 1366.0200000000007, 0.0, 505.46999999999986, 307.5, 0.0, 676.1, 0.0, 342.5799999999999, 2687.560000000001, 500.21000000000004, 534.8399999999999, 273.04, 737.04, 0.0, 768.7000000000003, 1239.3799999999999, 0.0, 1354.7700000000004, 945.5799999999997, 211.00000000000003, 624.4099999999999, 554.7999999999998, 954.8800000000002, 1364.05, 912.3199999999999, 506.11999999999995, 623.7, 316.95, 368.09999999999997, 0.0, 90.0, 0.0, 1293.46, 1382.699999999999, 1095.29, 2392.780000000001, 2291.74, 0.0, 0.0, 338.54, 0.0, 422.03999999999996, 184.14, 367.2, 903.45, 869.5499999999997, 1233.3199999999997, 1040.0900000000001, 520.98, 581.2, 0.0, 166.4, 0.0, 0.0, 954.4500000000002, 0.0, 1196.9200000000003, 0.0, 2468.7200000000003, 166.6, 375.18999999999994, 1674.7299999999998, 652.3999999999997, 0.0, 168.08, 0.0, 0.0, 0.0, 2033.1499999999996, 111.36999999999999, 1895.0499999999997, 3513.100000000001, 0.0, 0.0, 278.45, 0.0, 547.27, 319.08, 644.6199999999999, 0.0, 0.0, 451.03000000000003, 0.0, 366.5199999999999, 0.0, 503.61999999999995, 105.0, 357.92999999999995, 183.48000000000002, 0.0, 0.0, 0.0, 786.0199999999999, 1203.58, 938.55, 0.0, 1010.5699999999998, 496.36000000000007, 742.5600000000002, 807.1399999999999, 261.3, 698.8399999999999, 277.82, 556.8499999999999, 238.28, 1787.2400000000005, 0.0, 320.11999999999995, 785.98, 0.0, 2174.61, 0.0, 883.29, 934.31, 4367.690000000002, 278.33999999999986, 358.96, 0.0, 1036.2399999999998, 102.0, 0.0, 2537.959999999999, 0.0, 496.77999999999986, 1445.3100000000015, 0.0, 192.19, 0.0, 446.41, 157.94000000000003, 344.25, 0.0, 756.1799999999998, 0.0, 1512.5200000000004, 0.0, 0.0, 0.0, 1082.1399999999999, 164.95, 896.7099999999999, 1491.92, 581.8200000000002, 149.34000000000003, 326.90000000000003, 0.0, 341.7800000000001, 418.06000000000006, 0.0, 0.0, 323.82, 1099.1299999999997, 985.01, 0.0, 0.0, 255.95, 0.0, 0.0, 0.0, 510.87000000000006, 107.76, 260.76, 2138.25, 1259.9500000000005, 1740.4100000000014, 0.0, 859.3200000000005, 0.0, 0.0, 1236.7500000000002, 343.37999999999994, 0.0, 0.0, 113.91999999999999, 75.45, 837.3399999999998, 278.69, 1274.2500000000007, 0.0, 370.09999999999997, 689.3000000000001, 462.17, 0.0, 469.2800000000002, 0.0, 165.20000000000002, 550.0799999999999, 0.0, 1138.5600000000004, 679.7099999999998, 365.73, 0.0, 1791.8699999999997, 0.0, 0.0, 1642.8800000000006, 0.0, 0.0, 0.0, 2159.040000000001, 484.22, 0.0, 0.0, 0.0, 201.6, 2324.5500000000006, 2986.0899999999992, 0.0, 1025.279999999999, 0.0, 402.59999999999997, 354.52, 356.99, 393.4, 549.49, 0.0, 389.09, 0.0, 667.02, 114.76000000000002, 0.0, 0.0, 455.2999999999999, 0.0, 776.55, 1072.7299999999998, 102.84, 90.02, 0.0, 0.0, 0.0, 0.0, 1513.91, 0.0, 0.0, 86.89999999999999, 0.0, 152.76, 121.92, 506.87999999999994, 611.6, 234.3, 0.0, 0.0, 0.0, 0.0, 2889.2400000000002, 1017.5700000000004, 0.0, 0.0, 0.0, 349.3399999999999, 388.5499999999999, 294.84000000000003, 324.45, 1308.9099999999999, 0.0, 192.22999999999996, 0.0, 0.0, 0.0, 437.7999999999997, 1088.5400000000002, 418.94, 0.0, 0.0, 430.84999999999997, 0.0, 389.48, 211.3, 0.0, 0.0, 15.250000000000002, 4813.219999999998, 0.0, 0.0, 292.87000000000006, 1339.0600000000002, 309.66, 891.1200000000002, 658.97, 0.0, 0.0, 346.39, 252.37000000000006, 0.0, 358.9000000000001, 1772.1400000000003, 365.52, 457.14, 727.4399999999999, 0.0, 0.0, 0.0, 124.14999999999999, 545.28, 0.0, 0.0, 0.0, 2301.08, 3480.3199999999997, 0.0, 0.0, 0.0, 3656.190000000001, 0.0, 0.0, 1678.8100000000002, 609.5099999999998, 736.5899999999993, 0.0, 0.0, 118.96, 3093.140000000002, 171.2, 1950.7299999999989, 545.9499999999998, 0.0, 0.0, 0.0, 1560.58, 431.59, 0.0, 1014.1300000000002, 0.0, 927.4300000000001, 94.5, 187.14000000000007, 0.0, 0.0, 1354.89, 0.0, 0.0, 0.0, 0.0, 243.8, 291.47999999999996, 686.23, 0.0, 0.0, 0.0, 0.0, 485.54, 175.4, 0.0, 0.0, 0.0, 405.4099999999999, 2072.0, 570.19, 185.9, 0.0, 598.4200000000001, 0.0, 315.84, 611.5399999999996, 0.0, 0.0, 2320.18, 1519.9899999999989, 1779.0000000000005, 1103.3199999999997, 0.0, 3249.2400000000025, 0.0, 0.0, 302.45, 316.72999999999985, 1285.6500000000003, 0.0, 0.0, 194.48000000000002, 475.24, 0.0, 0.0, 628.5999999999999, 0.0, 276.67999999999995, 115.49, 0.0, 0.0, 888.6400000000001, 0.0, 1326.8299999999997, 0.0, 487.96999999999997, 493.36, 0.0, 0.0, 16074.500000000002, 419.57000000000005, 317.56, 0.0, 951.4299999999998, 612.38, 418.97999999999996, 588.8799999999999, 0.0, 1926.1100000000001, 2571.859999999999, 0.0, 0.0, 0.0, 679.8800000000001, 0.0, 0.0, 1307.03, 465.78000000000003, 0.0, 0.0, 0.0, 0.0, 750.7399999999999, 76.32000000000001, 516.0399999999997, 0.0, 1228.1499999999999, 2205.82, 1023.7500000000005, 2238.7700000000004, 263.29999999999995, 613.44, 324.52000000000004, 1103.11, 102.0, 346.76, 0.0, 608.66, 49.09999999999999, 221.23999999999998, 0.0, 784.41, 1706.2700000000011, 456.84000000000003, 959.6800000000001, 0.0, 573.1700000000001, 0.0, 0.0, 257.48, 0.0, 151.7, 305.51, 313.40000000000003, 2218.8999999999996, 281.74999999999994, 305.21999999999997, 110.82, 454.89, 3113.6999999999994, 1292.54, 1309.8799999999999, 0.0, 2039.5100000000011, 0.0, 0.0, 4235.479999999999, 668.1800000000002, 184.19000000000003, 4877.170000000003, 238.22000000000003, 896.1500000000001, 2180.77, 246.31000000000012, 3190.3899999999985, 2503.3000000000015, 652.7800000000002, 982.7800000000002, 233.64000000000001, 1147.4499999999996, 231.6, 576.25, 762.4799999999999, 1624.0000000000002, 1667.6000000000008, 313.08000000000004, 756.08, 1058.06, 1619.8600000000006, 3850.5699999999993, 0.0, 1063.2800000000002, 1900.8899999999999, 1908.7900000000004, 407.6699999999999, 1913.7999999999995, 0.0, 0.0, 331.96, 1050.35, 111.16000000000003, 0.0, 106.15000000000002, 0.0, 1672.3500000000004, 1977.9500000000005, 2365.6499999999983, 0.0, 367.80000000000007, 163.2, 678.1800000000001, 765.0, 0.0, 1062.1100000000001, 1788.1000000000008, 812.1600000000001, 0.0, 1296.7400000000002, 408.0, 690.0099999999999, 0.0, 300.31, 324.1400000000001, 581.3900000000001, 0.0, 305.87000000000006, 2064.52, 1036.3799999999999, 1638.6800000000005, 0.0, 0.0, 0.0, 975.18, 0.0, 0.0, 592.9000000000001, 0.0, 256.09999999999997, 539.5500000000001, 138.04999999999998, 1637.2000000000005, 0.0, 262.63, 957.0900000000001, 0.0, 1014.6399999999999, 3082.3299999999963, 231.64, 0.0, 86.02, 1051.0600000000002, 1072.3700000000001, 0.0, 204.87, 0.0, 0.0, 556.9499999999997, 750.5, 905.5600000000001, 306.35999999999996, 305.52000000000004, 0.0, 0.0, 0.0, 2346.289999999999, 809.8099999999997, 508.0500000000001, 751.8299999999999, 207.68, 0.0, 0.0, 9617.52, 347.75000000000006, 0.0, 0.0, 303.06000000000006, 0.0, 1313.4900000000007, 0.0, 0.0, 203.28, 752.0900000000001, 390.09000000000003, 564.3300000000002, 630.4199999999998, 0.0, 0.0, 0.0, 972.2500000000001, 455.45000000000005, 512.83, 0.0, 0.0, 2081.0200000000023, 0.0, 0.0, 1259.4699999999998, 936.0400000000002, 333.63000000000005, 0.0, 345.9, 511.30000000000007, 171.06000000000006, 0.0, 687.7199999999998, 0.0, 61.8, 299.48999999999995, 0.0, 0.0, 0.0, 243.3100000000001, 0.0, 0.0, 107.60000000000001, 0.0, 367.4, 3865.0200000000004, 1004.7999999999998, 949.2200000000001, 424.81, 578.45, 505.79999999999967, 1956.6699999999996, 366.77, 0.0, 454.57999999999987, 792.9100000000001, 1558.2400000000011, 0.0, 192.05, 0.0, 134.28, 491.8699999999996, 367.54999999999984, 0.0, 1083.2400000000002, 1509.21, 0.0, 1024.4199999999996, 118.2, 0.0, 403.42, 0.0, 0.0, 0.0, 968.2800000000002, 479.45, 51.95, 0.0, 294.82, 289.03, 925.0700000000003, 218.27, 1196.0599999999995, 0.0, 487.15999999999997, 1068.8600000000001, 401.39999999999986, 0.0, 30.119999999999997, 597.3799999999994, 213.79999999999998, 1384.2300000000012, 0.0, 0.0, 782.1599999999995, 1508.24, 0.0, 72.52000000000001, 1017.7500000000001, 0.0, 0.0, 729.24, 0.0, 390.0, 0.0, 0.0, 0.0, 905.8100000000003, 738.6999999999998, 703.75, 340.38, 0.0, 0.0, 352.31, 949.75, 0.0, 0.0, 549.3199999999999, 1077.4699999999993, 1330.849999999999, 1282.6599999999999, 598.65, 0.0, 940.8299999999999, 0.0, 2315.2599999999998, 0.0, 0.0, 1243.28, 514.1299999999999, 575.4399999999999, 231.17, 300.1, 246.23000000000002, 0.0, 0.0, 0.0, 874.42, 759.04, 575.5400000000001, 0.0, 0.0, 372.36999999999995, 168.50000000000006, 2073.530000000001, 1267.8799999999999, 692.5900000000001, 315.69, 0.0, 18.72, 0.0, 1476.6099999999994, 1983.2399999999989, 0.0, 0.0, 497.9, 712.3500000000003, 0.0, 1202.6399999999999, 903.71, 1072.1000000000001, 0.0, 423.6499999999998, 489.4199999999999, 0.0, 518.0999999999999, 369.41, 1349.8799999999999, 0.0, 1830.0500000000009, 0.0, 0.0, 0.0, 387.1199999999997, 1065.7400000000002, 0.0, 1243.41, 766.72, 305.24000000000007, 74.55, 1513.7500000000002, 895.9899999999998, 0.0, 0.0, 0.0, 358.0, 242.84, 0.0, 0.0, 656.4699999999999, 113.62000000000005, 618.42, 791.7400000000001, 0.0, 0.0, 158.4, 0.0, 290.5200000000001, 125.01, 0.0, 0.0, 812.19, 0.0, 394.1399999999999, 724.13, 793.8799999999999, 611.55, 1260.0600000000004, 0.0, 230.16000000000003, 696.5699999999999, 1743.5199999999993, 838.93, 406.0, 111.25, 99.42, 376.90000000000003, 1253.48, 568.72, 1503.8699999999994, 0.0, 1026.78, 0.0, 262.17, 0.0, 1631.5499999999993, 2435.58, 0.0, 550.6999999999998, 0.0, 397.64999999999986, 306.78, 995.33, 0.0, 587.6499999999999, 307.59999999999997, 0.0, 0.0, 952.6500000000002, 2204.3699999999994, 2124.17, 363.2, 0.0, 0.0, 302.80000000000007, 1562.68, 0.0, 386.6, 123.13, 733.94, 568.4200000000001, 842.9999999999999, 298.6, 391.6999999999998, 194.41, 540.07, 113.95, 0.0, 168.10000000000002, 0.0, 0.0, 659.8000000000001, 420.44999999999993, 0.0, 223.48, 505.2299999999997, 0.0, 1357.0500000000002, 307.76, 148.95999999999998, 537.86, 3835.3499999999967, 0.0, 3113.2200000000007, 590.86, 2442.8799999999974, 0.0, 1307.7500000000005, 643.5499999999998, 389.80999999999983, 0.0, 0.0, 1497.32, 0.0, 4040.919999999998, 772.48, 1090.1000000000001, 798.6199999999997, 130.55, 1481.8400000000001, 1592.2, 1204.5300000000004, 1321.46, 1400.4400000000005, 1050.5500000000009, 727.7399999999996, 4311.500000000008, 691.0699999999999, 2786.570000000003, 163.56000000000003, 2010.2200000000016, 539.45, 0.0, 373.54999999999995, 1225.3200000000004, 1813.3999999999994, 1013.7500000000001, 1347.1100000000006, 633.48, 911.9400000000002, 3086.7099999999978, 887.5699999999998, 7058.450000000002, 7744.469999999999, 4353.48, 0.0, 1264.36, 0.0, 0.0, 2191.1599999999994, 1988.7099999999994, 461.40999999999997, 1653.45, 3072.0, 5443.840000000001, 314.4, 1983.4600000000007, 1468.3600000000001, 4355.25, 535.85, 5630.219999999998, 0.0, 2039.1400000000008, 952.3800000000005]}, {\"marker\": {\"color\": \"green\", \"line\": {\"width\": 1}, \"opacity\": 0.5, \"size\": 9}, \"mode\": \"markers\", \"name\": \"Mid\", \"type\": \"scatter\", \"x\": [3, 3, 3, 3, 3, 3, 3, 3, 3, 3, 3, 3, 3, 3, 3, 3, 3, 3, 3, 3, 3, 3, 3, 3, 3, 3, 3, 3, 3, 3, 3, 3, 3, 3, 3, 3, 3, 3, 3, 3, 3, 3, 3, 3, 3, 3, 3, 3, 3, 3, 3, 3, 3, 3, 3, 3, 3, 3, 3, 3, 3, 3, 3, 3, 3, 3, 3, 3, 3, 3, 3, 3, 3, 3, 3, 3, 3, 3, 3, 3, 3, 3, 3, 3, 3, 3, 3, 3, 3, 3, 3, 3, 3, 3, 3, 3, 3, 3, 3, 3, 3, 3, 3, 3, 3, 3, 3, 3, 3, 3, 3, 3, 3, 3, 3, 3, 3, 3, 3, 3, 3, 3, 3, 3, 3, 3, 3, 3, 3, 3, 3, 3, 3, 3, 3, 3, 3, 3, 3, 3, 3, 3, 3, 3, 3, 3, 3, 3, 3, 3, 3, 3, 3, 3, 3, 3, 3, 3, 3, 3, 3, 3, 3, 3, 3, 3, 3, 3, 3, 3, 3, 3, 3, 3, 3, 3, 3, 3, 3, 3, 3, 3, 3, 3, 3, 3, 3, 3, 3, 3, 3, 3, 3, 3, 3, 3, 3, 3, 3, 3, 3, 3, 3, 3, 3, 3, 3, 3, 3, 3, 3, 3, 3, 3, 3, 3, 3, 3, 3, 3, 3, 3, 3, 3, 3, 3, 3, 3, 3, 3, 3, 3, 3, 3, 3, 3, 3, 3, 3, 3, 3, 3, 3, 3, 3, 3, 3, 3, 3, 3, 3, 3, 3, 3, 3, 3, 3, 3, 3, 3, 3, 3, 3, 3, 3, 3, 3, 3, 3, 3, 3, 3, 3, 3, 3, 3, 3, 3, 3, 3, 3, 3, 3, 3, 3, 3, 3, 3, 3, 3, 3, 3, 3, 3, 3, 3, 3, 3, 3, 3, 3, 3, 3, 3, 3, 3, 3, 3, 3, 3, 3, 3, 3, 3, 3, 3, 3, 3, 3, 3, 3, 3, 3, 3, 3, 3, 3, 3, 3, 3, 3, 3, 3, 3, 3, 3, 3, 3, 3, 3, 3, 3, 3, 3, 3, 3, 3, 3, 3, 3, 3, 3, 3, 3, 3, 3, 3, 3, 3, 3, 3, 4, 4, 4, 4, 4, 4, 4, 4, 4, 4, 4, 4, 4, 4, 4, 4, 4, 4, 4, 4, 4, 4, 4, 4, 4, 4, 4, 4, 4, 4, 4, 4, 3, 3, 3, 3, 3, 3, 3, 3, 3, 3, 3, 3, 3, 3, 3, 3, 3, 3, 3, 3, 3, 3, 3, 3, 3, 3, 4, 4, 4, 4, 4, 4, 4, 4, 4, 4, 4, 4, 4, 4, 4, 4, 4, 4, 4, 4, 4, 4, 4, 4, 4, 4, 4, 4, 4, 4, 4, 4, 4, 4, 4, 4, 4, 4, 4, 4, 4, 4, 4, 4, 4, 4, 4, 4, 4, 4, 4, 4, 4, 4, 4, 4, 4, 4, 4, 4, 4, 3, 3, 3, 3, 3, 3, 3, 3, 3, 3, 3, 3, 3, 3, 3, 3, 3, 3, 3, 3, 3, 3, 3, 3, 3, 3, 3, 3, 3, 3, 4, 4, 4, 4, 4, 4, 4, 4, 4, 4, 4, 4, 4, 4, 4, 4, 4, 4, 4, 4, 4, 4, 4, 4, 4, 4, 4, 4, 4, 4, 4, 3, 3, 3, 3, 3, 3, 3, 3, 3, 3, 4, 4], \"y\": [0.0, 994.49, 1341.0300000000002, 791.04, 517.48, 1399.7200000000003, 1666.1099999999992, 964.9699999999999, 711.9000000000001, 422.04999999999995, 3333.4, 986.8800000000001, 0.0, 1085.8099999999997, 2039.6499999999987, 3541.43, 1779.95, 920.7700000000002, 562.2, 0.0, 3148.3400000000006, 0.0, 0.0, 931.6, 1155.05, 500.5199999999999, 1256.8999999999994, 278.43, 1099.9499999999996, 244.04999999999998, 440.1800000000002, 2571.82, 873.98, 340.6, 1557.1499999999999, 59.45, 1678.33, 2885.8399999999992, 2265.1699999999996, 1745.8600000000004, 1119.2500000000002, 2474.5900000000006, 1924.980000000001, 1414.99, 67.64999999999999, 3252.5200000000004, 75.6, 1090.82, 115.15000000000002, 1076.0399999999997, 576.4000000000001, 0.0, 1255.55, 340.9, 219.11999999999998, 877.0000000000001, 69.28, 414.59000000000003, 1086.6100000000004, 42.45, 1226.8, 2625.6499999999996, 369.7300000000001, 8.5, 488.05999999999995, 2962.9, 571.6100000000001, 7.5, 888.4200000000002, 435.51, 1622.5699999999997, 1641.1099999999994, 2001.6399999999994, 798.0300000000001, 3004.69, 216.36999999999995, 633.7999999999998, 478.3300000000002, 2490.48, 825.5699999999998, 276.73, 2888.770000000001, 132.46, 707.4, 627.7700000000001, 1030.5800000000004, 1630.65, 2196.45, 522.21, 224.13, 1699.720000000001, 894.5, 398.1100000000001, 756.03, 1555.9, 2042.6900000000003, 2027.9699999999996, 563.7699999999996, 340.06, 0.0, 690.11, 271.64000000000004, 126.9, 366.1299999999999, 99.0, 2968.9500000000003, 1366.92, 634.2700000000002, 427.42999999999995, 404.74, 548.22, 461.61, 1068.5399999999997, 928.79, 0.0, 437.5099999999999, 1674.9699999999998, 2035.3399999999997, 2399.6600000000008, 0.0, 1332.1900000000005, 405.65000000000003, 465.96000000000004, 1932.5399999999993, 788.7600000000002, 238.56000000000003, 2896.3099999999995, 835.8500000000001, 523.69, 570.61, 360.23, 1604.700000000001, 1579.3800000000008, 959.7000000000002, 779.5400000000001, 1069.8899999999999, 1696.1200000000001, 1973.5399999999997, 1331.2099999999996, 2139.4399999999987, 721.7499999999999, 786.3599999999999, 0.0, 1012.1, 0.0, 249.76000000000002, 702.9399999999999, 928.1700000000002, 0.0, 0.0, 75.0, 2767.55, 306.19, 550.5899999999997, 142.68, 57.3, 3829.5400000000022, 0.0, 935.2, 1105.0, 663.83, 1365.1799999999998, 62.5, 1287.1200000000003, 427.2, 2529.6, 1538.4099999999996, 1941.5200000000007, 129.0, 2600.15, 248.31, 0.0, 832.5099999999998, 257.87999999999994, 1279.3900000000006, 1768.2999999999997, 474.8699999999999, 0.0, 256.75, 1052.329999999999, 0.0, 0.0, 775.9699999999996, 239.46, 1218.5099999999998, 1409.7199999999996, 0.0, 0.0, 248.64000000000001, 844.0600000000002, 0.0, 0.0, 249.74, 1559.06, 622.43, 2567.9600000000005, 52.21999999999999, 0.0, 0.0, 1616.4299999999996, 495.60999999999996, 741.4800000000001, 1200.34, 2568.8199999999997, 138.24, 338.77999999999975, 0.0, 653.4500000000003, 675.2700000000001, 314.38, 490.0499999999998, 0.0, 1384.57, 658.8500000000001, 2939.51, 0.0, 0.0, 1003.8600000000004, 613.1300000000003, 2623.330000000001, 0.0, 923.7800000000004, 0.0, 1221.5699999999997, 473.96, 554.84, 413.7, 447.61999999999995, 1180.0700000000002, 0.0, 351.47, 0.0, 873.1, 1565.6099999999997, 86.31, 1032.5500000000004, 789.4899999999999, 0.0, 1837.7700000000004, 0.0, 339.63, 0.0, 126.65999999999998, 0.0, 312.91, 168.71999999999997, 7.9, 747.0999999999998, 248.7, 1056.8799999999999, 1103.03, 15.001, 368.90000000000003, 1705.8699999999997, 0.0, 60.8, 703.1700000000001, 78.75, 185.56, 1258.1100000000001, 2557.889999999998, 0.0, 0.0, 950.6899999999998, 570.56, 294.1, 0.0, 600.0999999999999, 0.0, 593.0500000000003, 1072.0, 338.99999999999994, 139.08, 76.38, 44.35, 0.0, 197.85, 1701.8700000000008, 229.79999999999998, 0.0, 1157.2400000000007, 31.200000000000003, 413.06, 734.2400000000001, 0.0, 0.0, 0.0, 652.24, 0.0, 0.0, 107.65, 664.82, 438.8299999999997, 0.0, 574.08, 319.51000000000005, 583.6199999999999, 760.8000000000002, 534.33, 0.0, 943.1600000000002, 1929.2200000000005, 321.54, 0.0, 1105.3000000000002, 84.68999999999998, 346.53, 0.0, 563.6499999999999, 0.0, 0.0, 157.81, 3351.9799999999977, 278.40000000000003, 0.0, 0.0, 0.0, 0.0, 2934.7200000000016, 0.0, 1134.8999999999994, 552.87, 0.0, 567.4599999999998, 0.0, 287.3799999999999, 254.39999999999998, 0.0, 0.0, 57.5, 384.14, 998.5699999999999, 221.98999999999998, 3636.440000000002, 1720.58, 1199.2100000000003, 0.0, 409.4099999999999, 0.0, 586.8299999999998, 8.25, 185.77999999999997, 0.0, 361.84000000000003, 0.0, 302.59, 110.78000000000002, 0.0, 0.0, 0.0, 0.0, 334.53999999999996, 59.64000000000001, 416.7299999999997, 0.0, 0.0, 0.0, 187.35, 0.0, 149.47000000000003, 0.0, 0.0, 274.52000000000004, 2869.840000000002, 845.4, 2599.000000000003, 1762.6499999999999, 1740.5800000000006, 1005.1399999999998, 809.1800000000004, 2027.9000000000015, 1656.2300000000005, 1772.010000000001, 3042.8800000000006, 1584.370000000001, 2174.060000000001, 326.27000000000004, 1249.7300000000002, 1439.6900000000012, 2401.869999999998, 1203.2199999999998, 0.0, 665.6999999999999, 1833.2600000000014, 1740.330000000001, 3145.4200000000014, 3000.68, 2405.0800000000013, 801.3299999999999, 1351.8300000000008, 235.07, 1149.65, 1444.27, 1787.6500000000015, 1552.3799999999999, 0.0, 547.2999999999996, 1564.67, 1464.3300000000006, 320.81000000000006, 1322.78, 858.4599999999997, 1047.8200000000002, 6404.96, 1157.070000000001, 2298.280000000002, 1834.4600000000012, 987.7600000000007, 2117.08, 817.4399999999995, 1564.6900000000012, 32.95, 283.83999999999986, 1773.9100000000008, 3616.740000000002, 1342.630000000001, 579.2199999999999, 717.0199999999993, 1332.1899999999987, 3248.710000000001, 2828.33, 5617.439999999998, 10109.280000000002, 1045.2800000000002, 20976.980000000007, 5435.140000000001, 4372.94, 7058.200000000001, 2647.7000000000007, 5435.6500000000015, 2010.15, 1482.66, 988.6400000000001, 378.0, 1534.4900000000005, 1707.6899999999996, 1358.76, 2199.379999999999, 2952.8399999999992, 2930.7400000000002, 2966.35, 3467.0400000000004, 1932.0000000000007, 1740.42, 2169.4500000000003, 4376.599999999999, 1562.4599999999991, 5068.320000000001, 3569.840000000002, 4418.200000000001, 1817.3999999999999, 5062.160000000001, 682.5200000000001, 50.78, 0.0, 3194.900000000002, 1649.9499999999996, 277.12000000000006, 693.37, 1878.7800000000002, 1355.9199999999998, 0.0, 650.3, 839.0299999999999, 6293.309999999999, 1928.0900000000001, 6550.480000000001, 3322.9600000000014, 6354.670000000001, 7175.980000000001, 614.77, 1842.02, 0.0, 1982.0000000000002, 4564.88, 0.0, 389.45000000000005, 4100.65, 2559.23, 0.0, 2808.5400000000004, 12082.54, 644.5, 5891.900000000002, 1354.36, 2042.8099999999997, 1568.5000000000002, 3719.350000000002, 522.79, 2548.76, 1408.5300000000002, 3999.6299999999997, 7813.71, 3663.2799999999993, 1880.31, 706.5199999999999, 3894.9200000000014, 1066.9399999999998, 1227.6800000000003, 9396.139999999998, 0.0, 3841.5199999999986, 1795.7199999999998, 6389.27, 3432.430000000003, 5557.569999999998, 4904.360000000001, 1240.1000000000004, 6893.69, 0.0, 4116.509999999993, 6640.799999999998, 9552.430000000002, 1883.9600000000003, 6624.65, 3253.3899999999994, 5798.880000000002, 2441.06, 3682.180000000001, 2063.02, 1712.1000000000004, 5287.389999999996, 3606.2700000000004, 1144.1399999999994, 774.52, 11779.849999999988, 1323.7700000000002, 11072.649999999996, 5660.680000000005, 5962.5700000000015, 2243.08, 1332.42, 7197.410000000006, 931.7000000000003, 7508.75, 2964.320000000001, 2312.9599999999996, 0.0, 1455.1699999999996, 3529.169999999999, 1148.8000000000002, 1709.8900000000003, 2147.68, 1643.7800000000013, 1028.0, 4204.370000000003, 3006.1600000000003, 1292.2100000000003, 765.7899999999998, 2578.6699999999996, 0.0, 27540.179999999997, 0.0]}, {\"marker\": {\"color\": \"red\", \"line\": {\"width\": 1}, \"opacity\": 0.9, \"size\": 11}, \"mode\": \"markers\", \"name\": \"High\", \"type\": \"scatter\", \"x\": [5, 5, 5, 5, 5, 5, 5, 5, 5, 5, 5, 5, 5, 5, 5, 5, 5, 5, 5, 5, 5, 5, 5, 5, 5, 5, 5, 5, 5, 5, 5, 5, 5, 5, 5, 5, 5, 5, 5, 5, 5, 5, 5, 5, 5, 5, 5, 5, 5, 5, 5, 5, 5, 5, 5, 5, 5, 5, 5, 5, 5, 5, 5, 5, 5, 5, 5, 5, 5, 5, 5, 5, 5, 5, 5, 5, 5, 6, 6, 6, 6, 6, 6, 5, 5, 5, 5, 5, 5, 6, 6, 6, 6, 6, 6, 6, 5, 5, 7, 7, 7, 8, 6, 8, 7], \"y\": [0.0, 2216.039999999999, 6389.789999999997, 3594.6700000000005, 2183.32, 8653.739999999994, 1519.4000000000005, 1464.0499999999997, 1107.56, 610.2299999999997, 2614.640000000001, 3445.4099999999985, 3462.289999999999, 3154.07, 8875.179999999997, 4087.090000000001, 1010.4000000000002, 5116.859999999995, 6696.620000000003, 1109.7999999999997, 1832.9100000000008, 728.3100000000002, 4523.789999999993, 6489.69, 2152.8, 4007.520000000003, 4288.939999999999, 8688.760000000002, 140.85, 6008.61, 1374.5800000000002, 11618.549999999994, 427.13000000000005, 0.0, 2272.500000000003, 0.0, 2712.880000000002, 5727.250000000003, 1376.9099999999996, 7457.550000000012, 3510.7699999999977, 3603.74, 6364.659999999997, 739.1899999999999, 2032.140000000001, 1161.2900000000009, 2864.0799999999995, 3437.8800000000006, 1624.3399999999992, 1844.5099999999993, 5081.570000000008, 4200.029999999999, 2323.69, 3847.0900000000006, 2336.24, 3015.1300000000006, 3730.430000000003, 1686.8200000000002, 2791.880000000001, 6337.399999999996, 2904.37, 3505.839999999999, 1916.5200000000002, 2786.829999999998, 9093.089999999997, 1583.2399999999996, 541.1, 1169.6000000000001, 1356.2399999999996, 3006.270000000001, 951.4399999999998, 4405.789999999997, 4346.799999999999, 3024.700000000004, 2623.2599999999993, 2073.3400000000006, 1595.64, 2325.8900000000026, 5019.179999999993, 3661.769999999998, 3819.120000000001, 22248.180000000186, 4487.649999999997, 11992.4, 22068.26, 6149.3200000000015, 9088.98, 15115.6, 13052.630000000003, 3050.6, 17101.040000000005, 15601.309999999994, 13024.089999999998, 19313.069999999992, 4217.76, 7165.269999999994, 19915.35999999999, 13873.869999999995, 6926.93, 24839.530000000013, 4495.429999999994, 26905.640000000265, 24959.000000000004, 29651.62000000006, 24081.069999999956]}],\n",
              "                        {\"template\": {\"data\": {\"bar\": [{\"error_x\": {\"color\": \"#2a3f5f\"}, \"error_y\": {\"color\": \"#2a3f5f\"}, \"marker\": {\"line\": {\"color\": \"#E5ECF6\", \"width\": 0.5}}, \"type\": \"bar\"}], \"barpolar\": [{\"marker\": {\"line\": {\"color\": \"#E5ECF6\", \"width\": 0.5}}, \"type\": \"barpolar\"}], \"carpet\": [{\"aaxis\": {\"endlinecolor\": \"#2a3f5f\", \"gridcolor\": \"white\", \"linecolor\": \"white\", \"minorgridcolor\": \"white\", \"startlinecolor\": \"#2a3f5f\"}, \"baxis\": {\"endlinecolor\": \"#2a3f5f\", \"gridcolor\": \"white\", \"linecolor\": \"white\", \"minorgridcolor\": \"white\", \"startlinecolor\": \"#2a3f5f\"}, \"type\": \"carpet\"}], \"choropleth\": [{\"colorbar\": {\"outlinewidth\": 0, \"ticks\": \"\"}, \"type\": \"choropleth\"}], \"contour\": [{\"colorbar\": {\"outlinewidth\": 0, \"ticks\": \"\"}, \"colorscale\": [[0.0, \"#0d0887\"], [0.1111111111111111, \"#46039f\"], [0.2222222222222222, \"#7201a8\"], [0.3333333333333333, \"#9c179e\"], [0.4444444444444444, \"#bd3786\"], [0.5555555555555556, \"#d8576b\"], [0.6666666666666666, \"#ed7953\"], [0.7777777777777778, \"#fb9f3a\"], [0.8888888888888888, \"#fdca26\"], [1.0, \"#f0f921\"]], \"type\": \"contour\"}], \"contourcarpet\": [{\"colorbar\": {\"outlinewidth\": 0, \"ticks\": \"\"}, \"type\": \"contourcarpet\"}], \"heatmap\": [{\"colorbar\": {\"outlinewidth\": 0, \"ticks\": \"\"}, \"colorscale\": [[0.0, \"#0d0887\"], [0.1111111111111111, \"#46039f\"], [0.2222222222222222, \"#7201a8\"], [0.3333333333333333, \"#9c179e\"], [0.4444444444444444, \"#bd3786\"], [0.5555555555555556, \"#d8576b\"], [0.6666666666666666, \"#ed7953\"], [0.7777777777777778, \"#fb9f3a\"], [0.8888888888888888, \"#fdca26\"], [1.0, \"#f0f921\"]], \"type\": \"heatmap\"}], \"heatmapgl\": [{\"colorbar\": {\"outlinewidth\": 0, \"ticks\": \"\"}, \"colorscale\": [[0.0, \"#0d0887\"], [0.1111111111111111, \"#46039f\"], [0.2222222222222222, \"#7201a8\"], [0.3333333333333333, \"#9c179e\"], [0.4444444444444444, \"#bd3786\"], [0.5555555555555556, \"#d8576b\"], [0.6666666666666666, \"#ed7953\"], [0.7777777777777778, \"#fb9f3a\"], [0.8888888888888888, \"#fdca26\"], [1.0, \"#f0f921\"]], \"type\": \"heatmapgl\"}], \"histogram\": [{\"marker\": {\"colorbar\": {\"outlinewidth\": 0, \"ticks\": \"\"}}, \"type\": \"histogram\"}], \"histogram2d\": [{\"colorbar\": {\"outlinewidth\": 0, \"ticks\": \"\"}, \"colorscale\": [[0.0, \"#0d0887\"], [0.1111111111111111, \"#46039f\"], [0.2222222222222222, \"#7201a8\"], [0.3333333333333333, \"#9c179e\"], [0.4444444444444444, \"#bd3786\"], [0.5555555555555556, \"#d8576b\"], [0.6666666666666666, \"#ed7953\"], [0.7777777777777778, \"#fb9f3a\"], [0.8888888888888888, \"#fdca26\"], [1.0, \"#f0f921\"]], \"type\": \"histogram2d\"}], \"histogram2dcontour\": [{\"colorbar\": {\"outlinewidth\": 0, \"ticks\": \"\"}, \"colorscale\": [[0.0, \"#0d0887\"], [0.1111111111111111, \"#46039f\"], [0.2222222222222222, \"#7201a8\"], [0.3333333333333333, \"#9c179e\"], [0.4444444444444444, \"#bd3786\"], [0.5555555555555556, \"#d8576b\"], [0.6666666666666666, \"#ed7953\"], [0.7777777777777778, \"#fb9f3a\"], [0.8888888888888888, \"#fdca26\"], [1.0, \"#f0f921\"]], \"type\": \"histogram2dcontour\"}], \"mesh3d\": [{\"colorbar\": {\"outlinewidth\": 0, \"ticks\": \"\"}, \"type\": \"mesh3d\"}], \"parcoords\": [{\"line\": {\"colorbar\": {\"outlinewidth\": 0, \"ticks\": \"\"}}, \"type\": \"parcoords\"}], \"pie\": [{\"automargin\": true, \"type\": \"pie\"}], \"scatter\": [{\"marker\": {\"colorbar\": {\"outlinewidth\": 0, \"ticks\": \"\"}}, \"type\": \"scatter\"}], \"scatter3d\": [{\"line\": {\"colorbar\": {\"outlinewidth\": 0, \"ticks\": \"\"}}, \"marker\": {\"colorbar\": {\"outlinewidth\": 0, \"ticks\": \"\"}}, \"type\": \"scatter3d\"}], \"scattercarpet\": [{\"marker\": {\"colorbar\": {\"outlinewidth\": 0, \"ticks\": \"\"}}, \"type\": \"scattercarpet\"}], \"scattergeo\": [{\"marker\": {\"colorbar\": {\"outlinewidth\": 0, \"ticks\": \"\"}}, \"type\": \"scattergeo\"}], \"scattergl\": [{\"marker\": {\"colorbar\": {\"outlinewidth\": 0, \"ticks\": \"\"}}, \"type\": \"scattergl\"}], \"scattermapbox\": [{\"marker\": {\"colorbar\": {\"outlinewidth\": 0, \"ticks\": \"\"}}, \"type\": \"scattermapbox\"}], \"scatterpolar\": [{\"marker\": {\"colorbar\": {\"outlinewidth\": 0, \"ticks\": \"\"}}, \"type\": \"scatterpolar\"}], \"scatterpolargl\": [{\"marker\": {\"colorbar\": {\"outlinewidth\": 0, \"ticks\": \"\"}}, \"type\": \"scatterpolargl\"}], \"scatterternary\": [{\"marker\": {\"colorbar\": {\"outlinewidth\": 0, \"ticks\": \"\"}}, \"type\": \"scatterternary\"}], \"surface\": [{\"colorbar\": {\"outlinewidth\": 0, \"ticks\": \"\"}, \"colorscale\": [[0.0, \"#0d0887\"], [0.1111111111111111, \"#46039f\"], [0.2222222222222222, \"#7201a8\"], [0.3333333333333333, \"#9c179e\"], [0.4444444444444444, \"#bd3786\"], [0.5555555555555556, \"#d8576b\"], [0.6666666666666666, \"#ed7953\"], [0.7777777777777778, \"#fb9f3a\"], [0.8888888888888888, \"#fdca26\"], [1.0, \"#f0f921\"]], \"type\": \"surface\"}], \"table\": [{\"cells\": {\"fill\": {\"color\": \"#EBF0F8\"}, \"line\": {\"color\": \"white\"}}, \"header\": {\"fill\": {\"color\": \"#C8D4E3\"}, \"line\": {\"color\": \"white\"}}, \"type\": \"table\"}]}, \"layout\": {\"annotationdefaults\": {\"arrowcolor\": \"#2a3f5f\", \"arrowhead\": 0, \"arrowwidth\": 1}, \"coloraxis\": {\"colorbar\": {\"outlinewidth\": 0, \"ticks\": \"\"}}, \"colorscale\": {\"diverging\": [[0, \"#8e0152\"], [0.1, \"#c51b7d\"], [0.2, \"#de77ae\"], [0.3, \"#f1b6da\"], [0.4, \"#fde0ef\"], [0.5, \"#f7f7f7\"], [0.6, \"#e6f5d0\"], [0.7, \"#b8e186\"], [0.8, \"#7fbc41\"], [0.9, \"#4d9221\"], [1, \"#276419\"]], \"sequential\": [[0.0, \"#0d0887\"], [0.1111111111111111, \"#46039f\"], [0.2222222222222222, \"#7201a8\"], [0.3333333333333333, \"#9c179e\"], [0.4444444444444444, \"#bd3786\"], [0.5555555555555556, \"#d8576b\"], [0.6666666666666666, \"#ed7953\"], [0.7777777777777778, \"#fb9f3a\"], [0.8888888888888888, \"#fdca26\"], [1.0, \"#f0f921\"]], \"sequentialminus\": [[0.0, \"#0d0887\"], [0.1111111111111111, \"#46039f\"], [0.2222222222222222, \"#7201a8\"], [0.3333333333333333, \"#9c179e\"], [0.4444444444444444, \"#bd3786\"], [0.5555555555555556, \"#d8576b\"], [0.6666666666666666, \"#ed7953\"], [0.7777777777777778, \"#fb9f3a\"], [0.8888888888888888, \"#fdca26\"], [1.0, \"#f0f921\"]]}, \"colorway\": [\"#636efa\", \"#EF553B\", \"#00cc96\", \"#ab63fa\", \"#FFA15A\", \"#19d3f3\", \"#FF6692\", \"#B6E880\", \"#FF97FF\", \"#FECB52\"], \"font\": {\"color\": \"#2a3f5f\"}, \"geo\": {\"bgcolor\": \"white\", \"lakecolor\": \"white\", \"landcolor\": \"#E5ECF6\", \"showlakes\": true, \"showland\": true, \"subunitcolor\": \"white\"}, \"hoverlabel\": {\"align\": \"left\"}, \"hovermode\": \"closest\", \"mapbox\": {\"style\": \"light\"}, \"paper_bgcolor\": \"white\", \"plot_bgcolor\": \"#E5ECF6\", \"polar\": {\"angularaxis\": {\"gridcolor\": \"white\", \"linecolor\": \"white\", \"ticks\": \"\"}, \"bgcolor\": \"#E5ECF6\", \"radialaxis\": {\"gridcolor\": \"white\", \"linecolor\": \"white\", \"ticks\": \"\"}}, \"scene\": {\"xaxis\": {\"backgroundcolor\": \"#E5ECF6\", \"gridcolor\": \"white\", \"gridwidth\": 2, \"linecolor\": \"white\", \"showbackground\": true, \"ticks\": \"\", \"zerolinecolor\": \"white\"}, \"yaxis\": {\"backgroundcolor\": \"#E5ECF6\", \"gridcolor\": \"white\", \"gridwidth\": 2, \"linecolor\": \"white\", \"showbackground\": true, \"ticks\": \"\", \"zerolinecolor\": \"white\"}, \"zaxis\": {\"backgroundcolor\": \"#E5ECF6\", \"gridcolor\": \"white\", \"gridwidth\": 2, \"linecolor\": \"white\", \"showbackground\": true, \"ticks\": \"\", \"zerolinecolor\": \"white\"}}, \"shapedefaults\": {\"line\": {\"color\": \"#2a3f5f\"}}, \"ternary\": {\"aaxis\": {\"gridcolor\": \"white\", \"linecolor\": \"white\", \"ticks\": \"\"}, \"baxis\": {\"gridcolor\": \"white\", \"linecolor\": \"white\", \"ticks\": \"\"}, \"bgcolor\": \"#E5ECF6\", \"caxis\": {\"gridcolor\": \"white\", \"linecolor\": \"white\", \"ticks\": \"\"}}, \"title\": {\"x\": 0.05}, \"xaxis\": {\"automargin\": true, \"gridcolor\": \"white\", \"linecolor\": \"white\", \"ticks\": \"\", \"title\": {\"standoff\": 15}, \"zerolinecolor\": \"white\", \"zerolinewidth\": 2}, \"yaxis\": {\"automargin\": true, \"gridcolor\": \"white\", \"linecolor\": \"white\", \"ticks\": \"\", \"title\": {\"standoff\": 15}, \"zerolinecolor\": \"white\", \"zerolinewidth\": 2}}}, \"title\": {\"text\": \"LTV\"}, \"xaxis\": {\"title\": {\"text\": \"RFE Score\"}}, \"yaxis\": {\"title\": {\"text\": \"6m LTV\"}}},\n",
              "                        {\"responsive\": true}\n",
              "                    ).then(function(){\n",
              "                            \n",
              "var gd = document.getElementById('bc88b5a2-a58c-4173-ba53-9f919e19d17d');\n",
              "var x = new MutationObserver(function (mutations, observer) {{\n",
              "        var display = window.getComputedStyle(gd).display;\n",
              "        if (!display || display === 'none') {{\n",
              "            console.log([gd, 'removed!']);\n",
              "            Plotly.purge(gd);\n",
              "            observer.disconnect();\n",
              "        }}\n",
              "}});\n",
              "\n",
              "// Listen for the removal of the full notebook cells\n",
              "var notebookContainer = gd.closest('#notebook-container');\n",
              "if (notebookContainer) {{\n",
              "    x.observe(notebookContainer, {childList: true});\n",
              "}}\n",
              "\n",
              "// Listen for the clearing of the current output cell\n",
              "var outputEl = gd.closest('.output');\n",
              "if (outputEl) {{\n",
              "    x.observe(outputEl, {childList: true});\n",
              "}}\n",
              "\n",
              "                        })\n",
              "                };\n",
              "                \n",
              "            </script>\n",
              "        </div>\n",
              "</body>\n",
              "</html>"
            ]
          },
          "metadata": {
            "tags": []
          }
        }
      ]
    },
    {
      "cell_type": "code",
      "metadata": {
        "id": "MagTkOJ506xh",
        "colab_type": "code",
        "outputId": "6de9cae1-7287-48f8-b6fe-1209aed9bce9",
        "colab": {
          "base_uri": "https://localhost:8080/",
          "height": 171
        }
      },
      "source": [
        "#remove outliers\n",
        "tx_merge = tx_merge[tx_merge['m6_Engagement']<tx_merge['m6_Engagement'].quantile(0.99)]\n",
        "\n",
        "\n",
        "#creating 3 clusters\n",
        "kmeans = KMeans(n_clusters=3)\n",
        "kmeans.fit(tx_merge[['m6_Engagement']])\n",
        "tx_merge['LTVCluster'] = kmeans.predict(tx_merge[['m6_Engagement']])\n",
        "\n",
        "#order cluster number based on LTV\n",
        "tx_merge = order_cluster('LTVCluster', 'm6_Engagement',tx_merge,True)\n",
        "\n",
        "#creatinga new cluster dataframe\n",
        "tx_cluster = tx_merge.copy()\n",
        "\n",
        "#see details of the clusters\n",
        "tx_cluster.groupby('LTVCluster')['m6_Engagement'].describe()"
      ],
      "execution_count": 0,
      "outputs": [
        {
          "output_type": "execute_result",
          "data": {
            "text/html": [
              "<div>\n",
              "<style scoped>\n",
              "    .dataframe tbody tr th:only-of-type {\n",
              "        vertical-align: middle;\n",
              "    }\n",
              "\n",
              "    .dataframe tbody tr th {\n",
              "        vertical-align: top;\n",
              "    }\n",
              "\n",
              "    .dataframe thead th {\n",
              "        text-align: right;\n",
              "    }\n",
              "</style>\n",
              "<table border=\"1\" class=\"dataframe\">\n",
              "  <thead>\n",
              "    <tr style=\"text-align: right;\">\n",
              "      <th></th>\n",
              "      <th>count</th>\n",
              "      <th>mean</th>\n",
              "      <th>std</th>\n",
              "      <th>min</th>\n",
              "      <th>25%</th>\n",
              "      <th>50%</th>\n",
              "      <th>75%</th>\n",
              "      <th>max</th>\n",
              "    </tr>\n",
              "    <tr>\n",
              "      <th>LTVCluster</th>\n",
              "      <th></th>\n",
              "      <th></th>\n",
              "      <th></th>\n",
              "      <th></th>\n",
              "      <th></th>\n",
              "      <th></th>\n",
              "      <th></th>\n",
              "      <th></th>\n",
              "    </tr>\n",
              "  </thead>\n",
              "  <tbody>\n",
              "    <tr>\n",
              "      <th>0</th>\n",
              "      <td>1403.0</td>\n",
              "      <td>439.024206</td>\n",
              "      <td>459.858261</td>\n",
              "      <td>0.00</td>\n",
              "      <td>0.0000</td>\n",
              "      <td>314.38</td>\n",
              "      <td>751.285</td>\n",
              "      <td>1584.37</td>\n",
              "    </tr>\n",
              "    <tr>\n",
              "      <th>1</th>\n",
              "      <td>329.0</td>\n",
              "      <td>2731.147994</td>\n",
              "      <td>1017.180243</td>\n",
              "      <td>1592.20</td>\n",
              "      <td>1916.5200</td>\n",
              "      <td>2399.66</td>\n",
              "      <td>3310.900</td>\n",
              "      <td>5727.25</td>\n",
              "    </tr>\n",
              "    <tr>\n",
              "      <th>2</th>\n",
              "      <td>50.0</td>\n",
              "      <td>8781.678200</td>\n",
              "      <td>3048.230191</td>\n",
              "      <td>5798.88</td>\n",
              "      <td>6426.1425</td>\n",
              "      <td>7327.48</td>\n",
              "      <td>9986.340</td>\n",
              "      <td>17101.04</td>\n",
              "    </tr>\n",
              "  </tbody>\n",
              "</table>\n",
              "</div>"
            ],
            "text/plain": [
              "             count         mean          std  ...      50%       75%       max\n",
              "LTVCluster                                    ...                             \n",
              "0           1403.0   439.024206   459.858261  ...   314.38   751.285   1584.37\n",
              "1            329.0  2731.147994  1017.180243  ...  2399.66  3310.900   5727.25\n",
              "2             50.0  8781.678200  3048.230191  ...  7327.48  9986.340  17101.04\n",
              "\n",
              "[3 rows x 8 columns]"
            ]
          },
          "metadata": {
            "tags": []
          },
          "execution_count": 115
        }
      ]
    },
    {
      "cell_type": "markdown",
      "metadata": {
        "id": "K99XwVfskBhI",
        "colab_type": "text"
      },
      "source": [
        "2 is the best with average 8.2k LTV whereas 0 is the worst with 396."
      ]
    },
    {
      "cell_type": "code",
      "metadata": {
        "id": "7RW6QphRmYyC",
        "colab_type": "code",
        "outputId": "7894c423-7123-4add-bf99-d2c40b88ca34",
        "colab": {
          "base_uri": "https://localhost:8080/",
          "height": 202
        }
      },
      "source": [
        "tx_cluster.head()"
      ],
      "execution_count": 0,
      "outputs": [
        {
          "output_type": "execute_result",
          "data": {
            "text/html": [
              "<div>\n",
              "<style scoped>\n",
              "    .dataframe tbody tr th:only-of-type {\n",
              "        vertical-align: middle;\n",
              "    }\n",
              "\n",
              "    .dataframe tbody tr th {\n",
              "        vertical-align: top;\n",
              "    }\n",
              "\n",
              "    .dataframe thead th {\n",
              "        text-align: right;\n",
              "    }\n",
              "</style>\n",
              "<table border=\"1\" class=\"dataframe\">\n",
              "  <thead>\n",
              "    <tr style=\"text-align: right;\">\n",
              "      <th></th>\n",
              "      <th>viewer_id</th>\n",
              "      <th>Recency</th>\n",
              "      <th>RecencyCluster</th>\n",
              "      <th>Frequency</th>\n",
              "      <th>FrequencyCluster</th>\n",
              "      <th>Engagement</th>\n",
              "      <th>EngagementCluster</th>\n",
              "      <th>OverallScore</th>\n",
              "      <th>Segment</th>\n",
              "      <th>m6_Engagement</th>\n",
              "      <th>LTVCluster</th>\n",
              "    </tr>\n",
              "  </thead>\n",
              "  <tbody>\n",
              "    <tr>\n",
              "      <th>0</th>\n",
              "      <td>14620.0</td>\n",
              "      <td>13</td>\n",
              "      <td>3</td>\n",
              "      <td>26</td>\n",
              "      <td>0</td>\n",
              "      <td>412.78</td>\n",
              "      <td>0</td>\n",
              "      <td>3</td>\n",
              "      <td>Mid-Value</td>\n",
              "      <td>0.00</td>\n",
              "      <td>0</td>\n",
              "    </tr>\n",
              "    <tr>\n",
              "      <th>1</th>\n",
              "      <td>18044.0</td>\n",
              "      <td>6</td>\n",
              "      <td>3</td>\n",
              "      <td>57</td>\n",
              "      <td>0</td>\n",
              "      <td>808.96</td>\n",
              "      <td>0</td>\n",
              "      <td>3</td>\n",
              "      <td>Mid-Value</td>\n",
              "      <td>994.49</td>\n",
              "      <td>0</td>\n",
              "    </tr>\n",
              "    <tr>\n",
              "      <th>2</th>\n",
              "      <td>18075.0</td>\n",
              "      <td>12</td>\n",
              "      <td>3</td>\n",
              "      <td>34</td>\n",
              "      <td>0</td>\n",
              "      <td>660.07</td>\n",
              "      <td>0</td>\n",
              "      <td>3</td>\n",
              "      <td>Mid-Value</td>\n",
              "      <td>1341.03</td>\n",
              "      <td>0</td>\n",
              "    </tr>\n",
              "    <tr>\n",
              "      <th>3</th>\n",
              "      <td>15241.0</td>\n",
              "      <td>0</td>\n",
              "      <td>3</td>\n",
              "      <td>63</td>\n",
              "      <td>0</td>\n",
              "      <td>965.40</td>\n",
              "      <td>0</td>\n",
              "      <td>3</td>\n",
              "      <td>Mid-Value</td>\n",
              "      <td>791.04</td>\n",
              "      <td>0</td>\n",
              "    </tr>\n",
              "    <tr>\n",
              "      <th>4</th>\n",
              "      <td>15660.0</td>\n",
              "      <td>12</td>\n",
              "      <td>3</td>\n",
              "      <td>31</td>\n",
              "      <td>0</td>\n",
              "      <td>529.72</td>\n",
              "      <td>0</td>\n",
              "      <td>3</td>\n",
              "      <td>Mid-Value</td>\n",
              "      <td>517.48</td>\n",
              "      <td>0</td>\n",
              "    </tr>\n",
              "  </tbody>\n",
              "</table>\n",
              "</div>"
            ],
            "text/plain": [
              "   viewer_id  Recency  RecencyCluster  ...    Segment  m6_Engagement  LTVCluster\n",
              "0    14620.0       13               3  ...  Mid-Value           0.00           0\n",
              "1    18044.0        6               3  ...  Mid-Value         994.49           0\n",
              "2    18075.0       12               3  ...  Mid-Value        1341.03           0\n",
              "3    15241.0        0               3  ...  Mid-Value         791.04           0\n",
              "4    15660.0       12               3  ...  Mid-Value         517.48           0\n",
              "\n",
              "[5 rows x 11 columns]"
            ]
          },
          "metadata": {
            "tags": []
          },
          "execution_count": 116
        }
      ]
    },
    {
      "cell_type": "code",
      "metadata": {
        "id": "ZmG7OGoj1pjJ",
        "colab_type": "code",
        "colab": {}
      },
      "source": [
        "import xgboost as xgb\n",
        "from sklearn.model_selection import KFold, cross_val_score, train_test_split\n"
      ],
      "execution_count": 0,
      "outputs": []
    },
    {
      "cell_type": "code",
      "metadata": {
        "id": "MD6HlJYM1RVC",
        "colab_type": "code",
        "colab": {}
      },
      "source": [
        "#convert categorical columns to numerical\n",
        "tx_class = pd.get_dummies(tx_cluster)\n",
        "\n",
        "#calculate and show correlations\n",
        "corr_matrix = tx_class.corr()\n",
        "corr_matrix['LTVCluster'].sort_values(ascending=False)\n",
        "\n",
        "#create X and y, X will be feature set and y is the label - LTV\n",
        "X = tx_class.drop(['LTVCluster','m6_Engagement'],axis=1)\n",
        "y = tx_class['LTVCluster']\n",
        "\n",
        "#split training and test sets\n",
        "X_train, X_test, y_train, y_test = train_test_split(X, y, test_size=0.05, random_state=56)"
      ],
      "execution_count": 0,
      "outputs": []
    },
    {
      "cell_type": "code",
      "metadata": {
        "id": "3IGajrcz1bgo",
        "colab_type": "code",
        "outputId": "55067e68-73f3-4244-cbae-f58767e8745d",
        "colab": {
          "base_uri": "https://localhost:8080/",
          "height": 225
        }
      },
      "source": [
        "#XGBoost Multiclassification Model\n",
        "ltv_xgb_model = xgb.XGBClassifier(max_depth=5, learning_rate=0.1,objective= 'multi:softprob',n_jobs=-1).fit(X_train, y_train)\n",
        "\n",
        "print('Accuracy of XGB classifier on training set: {:.2f}'\n",
        "       .format(ltv_xgb_model.score(X_train, y_train)))\n",
        "print('Accuracy of XGB classifier on test set: {:.2f}'\n",
        "       .format(ltv_xgb_model.score(X_test[X_train.columns], y_test)))\n",
        "\n",
        "y_pred = ltv_xgb_model.predict(X_test)\n",
        "print(classification_report(y_test, y_pred))"
      ],
      "execution_count": 0,
      "outputs": [
        {
          "output_type": "stream",
          "text": [
            "Accuracy of XGB classifier on training set: 0.93\n",
            "Accuracy of XGB classifier on test set: 0.81\n",
            "              precision    recall  f1-score   support\n",
            "\n",
            "           0       0.91      0.93      0.92        74\n",
            "           1       0.33      0.33      0.33        12\n",
            "           2       0.00      0.00      0.00         4\n",
            "\n",
            "    accuracy                           0.81        90\n",
            "   macro avg       0.41      0.42      0.42        90\n",
            "weighted avg       0.79      0.81      0.80        90\n",
            "\n"
          ],
          "name": "stdout"
        }
      ]
    },
    {
      "cell_type": "code",
      "metadata": {
        "id": "JR5hjcB-1xhY",
        "colab_type": "code",
        "outputId": "780659c4-91d3-46ae-cc0b-6db1d492c545",
        "colab": {
          "base_uri": "https://localhost:8080/",
          "height": 225
        }
      },
      "source": [
        "y_test"
      ],
      "execution_count": 0,
      "outputs": [
        {
          "output_type": "execute_result",
          "data": {
            "text/plain": [
              "707     0\n",
              "520     0\n",
              "1211    0\n",
              "1171    0\n",
              "1294    0\n",
              "       ..\n",
              "1190    0\n",
              "275     0\n",
              "1540    1\n",
              "1131    0\n",
              "203     0\n",
              "Name: LTVCluster, Length: 90, dtype: int64"
            ]
          },
          "metadata": {
            "tags": []
          },
          "execution_count": 123
        }
      ]
    },
    {
      "cell_type": "code",
      "metadata": {
        "id": "--F-oZ4rsJyF",
        "colab_type": "code",
        "colab": {}
      },
      "source": [
        ""
      ],
      "execution_count": 0,
      "outputs": []
    }
  ]
}