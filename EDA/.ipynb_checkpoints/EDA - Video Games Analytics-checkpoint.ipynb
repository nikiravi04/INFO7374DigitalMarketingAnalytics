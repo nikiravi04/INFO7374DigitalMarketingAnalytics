{
 "cells": [
  {
   "cell_type": "code",
   "execution_count": 26,
   "metadata": {},
   "outputs": [],
   "source": [
    "import requests\n",
    "import json\n",
    "import pandas as pd\n",
    "from sqlalchemy import create_engine\n",
    "import pprint\n",
    "pp = pprint.PrettyPrinter(indent=4)\n",
    "import psycopg2 as pg\n",
    "import pandas.io.sql as pd_sql\n",
    "import numpy as np\n",
    "\n",
    "\n",
    "import plotly.express as px"
   ]
  },
  {
   "cell_type": "code",
   "execution_count": 27,
   "metadata": {},
   "outputs": [],
   "source": [
    "df_final = pd.read_csv('final_with_genre.csv')"
   ]
  },
  {
   "cell_type": "code",
   "execution_count": 3,
   "metadata": {},
   "outputs": [
    {
     "data": {
      "text/html": [
       "<div>\n",
       "<style scoped>\n",
       "    .dataframe tbody tr th:only-of-type {\n",
       "        vertical-align: middle;\n",
       "    }\n",
       "\n",
       "    .dataframe tbody tr th {\n",
       "        vertical-align: top;\n",
       "    }\n",
       "\n",
       "    .dataframe thead th {\n",
       "        text-align: right;\n",
       "    }\n",
       "</style>\n",
       "<table border=\"1\" class=\"dataframe\">\n",
       "  <thead>\n",
       "    <tr style=\"text-align: right;\">\n",
       "      <th></th>\n",
       "      <th>stream_id</th>\n",
       "      <th>user_id</th>\n",
       "      <th>user_name</th>\n",
       "      <th>game_id</th>\n",
       "      <th>stream_type</th>\n",
       "      <th>title</th>\n",
       "      <th>viewer_count</th>\n",
       "      <th>started_at</th>\n",
       "      <th>language</th>\n",
       "      <th>game_name</th>\n",
       "      <th>pic_url</th>\n",
       "      <th>game_genres</th>\n",
       "    </tr>\n",
       "  </thead>\n",
       "  <tbody>\n",
       "    <tr>\n",
       "      <th>0</th>\n",
       "      <td>37574721008</td>\n",
       "      <td>76508554</td>\n",
       "      <td>Anomaly</td>\n",
       "      <td>516575</td>\n",
       "      <td>live</td>\n",
       "      <td>24/7 DROPS STREAM ✔️LIVE TRYHARDING WITH GLOBA...</td>\n",
       "      <td>95474</td>\n",
       "      <td>2020-04-16T14:54:04Z</td>\n",
       "      <td>en</td>\n",
       "      <td>VALORANT</td>\n",
       "      <td>https://static-cdn.jtvnw.net/ttv-boxart/VALORA...</td>\n",
       "      <td>Shooter,FPS</td>\n",
       "    </tr>\n",
       "    <tr>\n",
       "      <th>1</th>\n",
       "      <td>37574476096</td>\n",
       "      <td>36769016</td>\n",
       "      <td>TimTheTatman</td>\n",
       "      <td>516575</td>\n",
       "      <td>live</td>\n",
       "      <td>*DROPS HERE* @timthetatman on all socials</td>\n",
       "      <td>66818</td>\n",
       "      <td>2020-04-16T14:29:42Z</td>\n",
       "      <td>en</td>\n",
       "      <td>VALORANT</td>\n",
       "      <td>https://static-cdn.jtvnw.net/ttv-boxart/VALORA...</td>\n",
       "      <td>Shooter,FPS</td>\n",
       "    </tr>\n",
       "    <tr>\n",
       "      <th>2</th>\n",
       "      <td>37557947808</td>\n",
       "      <td>121203480</td>\n",
       "      <td>Yassuo</td>\n",
       "      <td>516575</td>\n",
       "      <td>live</td>\n",
       "      <td>🔴 DROPS ENABLED 🔴 24/7 STREAM - PLAYING VOD NO...</td>\n",
       "      <td>45102</td>\n",
       "      <td>2020-04-15T16:50:41Z</td>\n",
       "      <td>en</td>\n",
       "      <td>VALORANT</td>\n",
       "      <td>https://static-cdn.jtvnw.net/ttv-boxart/VALORA...</td>\n",
       "      <td>Shooter,FPS</td>\n",
       "    </tr>\n",
       "    <tr>\n",
       "      <th>3</th>\n",
       "      <td>37579383216</td>\n",
       "      <td>26490481</td>\n",
       "      <td>summit1g</td>\n",
       "      <td>516575</td>\n",
       "      <td>live</td>\n",
       "      <td>You don't get drops here [ @summit1g ]</td>\n",
       "      <td>41671</td>\n",
       "      <td>2020-04-16T20:12:07Z</td>\n",
       "      <td>en</td>\n",
       "      <td>VALORANT</td>\n",
       "      <td>https://static-cdn.jtvnw.net/ttv-boxart/VALORA...</td>\n",
       "      <td>Shooter,FPS</td>\n",
       "    </tr>\n",
       "    <tr>\n",
       "      <th>4</th>\n",
       "      <td>37577949200</td>\n",
       "      <td>27121969</td>\n",
       "      <td>ONSCREEN</td>\n",
       "      <td>516575</td>\n",
       "      <td>live</td>\n",
       "      <td>Drops on - Playing VODs so I don't lose viewer...</td>\n",
       "      <td>26119</td>\n",
       "      <td>2020-04-16T18:50:57Z</td>\n",
       "      <td>en</td>\n",
       "      <td>VALORANT</td>\n",
       "      <td>https://static-cdn.jtvnw.net/ttv-boxart/VALORA...</td>\n",
       "      <td>Shooter,FPS</td>\n",
       "    </tr>\n",
       "  </tbody>\n",
       "</table>\n",
       "</div>"
      ],
      "text/plain": [
       "     stream_id    user_id     user_name  game_id stream_type  \\\n",
       "0  37574721008   76508554       Anomaly   516575        live   \n",
       "1  37574476096   36769016  TimTheTatman   516575        live   \n",
       "2  37557947808  121203480        Yassuo   516575        live   \n",
       "3  37579383216   26490481      summit1g   516575        live   \n",
       "4  37577949200   27121969      ONSCREEN   516575        live   \n",
       "\n",
       "                                               title  viewer_count  \\\n",
       "0  24/7 DROPS STREAM ✔️LIVE TRYHARDING WITH GLOBA...         95474   \n",
       "1          *DROPS HERE* @timthetatman on all socials         66818   \n",
       "2  🔴 DROPS ENABLED 🔴 24/7 STREAM - PLAYING VOD NO...         45102   \n",
       "3             You don't get drops here [ @summit1g ]         41671   \n",
       "4  Drops on - Playing VODs so I don't lose viewer...         26119   \n",
       "\n",
       "             started_at language game_name  \\\n",
       "0  2020-04-16T14:54:04Z       en  VALORANT   \n",
       "1  2020-04-16T14:29:42Z       en  VALORANT   \n",
       "2  2020-04-15T16:50:41Z       en  VALORANT   \n",
       "3  2020-04-16T20:12:07Z       en  VALORANT   \n",
       "4  2020-04-16T18:50:57Z       en  VALORANT   \n",
       "\n",
       "                                             pic_url  game_genres  \n",
       "0  https://static-cdn.jtvnw.net/ttv-boxart/VALORA...  Shooter,FPS  \n",
       "1  https://static-cdn.jtvnw.net/ttv-boxart/VALORA...  Shooter,FPS  \n",
       "2  https://static-cdn.jtvnw.net/ttv-boxart/VALORA...  Shooter,FPS  \n",
       "3  https://static-cdn.jtvnw.net/ttv-boxart/VALORA...  Shooter,FPS  \n",
       "4  https://static-cdn.jtvnw.net/ttv-boxart/VALORA...  Shooter,FPS  "
      ]
     },
     "execution_count": 3,
     "metadata": {},
     "output_type": "execute_result"
    }
   ],
   "source": [
    "df_final.head()"
   ]
  },
  {
   "cell_type": "code",
   "execution_count": 4,
   "metadata": {},
   "outputs": [
    {
     "data": {
      "text/html": [
       "<div>\n",
       "<style scoped>\n",
       "    .dataframe tbody tr th:only-of-type {\n",
       "        vertical-align: middle;\n",
       "    }\n",
       "\n",
       "    .dataframe tbody tr th {\n",
       "        vertical-align: top;\n",
       "    }\n",
       "\n",
       "    .dataframe thead th {\n",
       "        text-align: right;\n",
       "    }\n",
       "</style>\n",
       "<table border=\"1\" class=\"dataframe\">\n",
       "  <thead>\n",
       "    <tr style=\"text-align: right;\">\n",
       "      <th></th>\n",
       "      <th>stream_id</th>\n",
       "      <th>user_id</th>\n",
       "      <th>user_name</th>\n",
       "      <th>game_id</th>\n",
       "      <th>stream_type</th>\n",
       "      <th>title</th>\n",
       "      <th>viewer_count</th>\n",
       "      <th>started_at</th>\n",
       "      <th>language</th>\n",
       "      <th>game_name</th>\n",
       "      <th>pic_url</th>\n",
       "      <th>game_genres</th>\n",
       "    </tr>\n",
       "  </thead>\n",
       "  <tbody>\n",
       "    <tr>\n",
       "      <th>count</th>\n",
       "      <td>7.051900e+04</td>\n",
       "      <td>7.051900e+04</td>\n",
       "      <td>70519</td>\n",
       "      <td>70519.000000</td>\n",
       "      <td>70519</td>\n",
       "      <td>70453</td>\n",
       "      <td>70519.000000</td>\n",
       "      <td>70519</td>\n",
       "      <td>70517</td>\n",
       "      <td>70519</td>\n",
       "      <td>70519</td>\n",
       "      <td>70325</td>\n",
       "    </tr>\n",
       "    <tr>\n",
       "      <th>unique</th>\n",
       "      <td>NaN</td>\n",
       "      <td>NaN</td>\n",
       "      <td>44509</td>\n",
       "      <td>NaN</td>\n",
       "      <td>1</td>\n",
       "      <td>55845</td>\n",
       "      <td>NaN</td>\n",
       "      <td>45377</td>\n",
       "      <td>34</td>\n",
       "      <td>222</td>\n",
       "      <td>222</td>\n",
       "      <td>76</td>\n",
       "    </tr>\n",
       "    <tr>\n",
       "      <th>top</th>\n",
       "      <td>NaN</td>\n",
       "      <td>NaN</td>\n",
       "      <td>mrslotaihuntecrbu</td>\n",
       "      <td>NaN</td>\n",
       "      <td>live</td>\n",
       "      <td>Bloodborne</td>\n",
       "      <td>NaN</td>\n",
       "      <td>2020-04-19T18:07:19Z</td>\n",
       "      <td>en</td>\n",
       "      <td>Fortnite</td>\n",
       "      <td>https://static-cdn.jtvnw.net/ttv-boxart/Fortni...</td>\n",
       "      <td>Action,Adventure Game</td>\n",
       "    </tr>\n",
       "    <tr>\n",
       "      <th>freq</th>\n",
       "      <td>NaN</td>\n",
       "      <td>NaN</td>\n",
       "      <td>9</td>\n",
       "      <td>NaN</td>\n",
       "      <td>70519</td>\n",
       "      <td>16</td>\n",
       "      <td>NaN</td>\n",
       "      <td>37</td>\n",
       "      <td>36967</td>\n",
       "      <td>900</td>\n",
       "      <td>900</td>\n",
       "      <td>5358</td>\n",
       "    </tr>\n",
       "    <tr>\n",
       "      <th>mean</th>\n",
       "      <td>1.999451e+10</td>\n",
       "      <td>1.723755e+08</td>\n",
       "      <td>NaN</td>\n",
       "      <td>327902.659964</td>\n",
       "      <td>NaN</td>\n",
       "      <td>NaN</td>\n",
       "      <td>320.261518</td>\n",
       "      <td>NaN</td>\n",
       "      <td>NaN</td>\n",
       "      <td>NaN</td>\n",
       "      <td>NaN</td>\n",
       "      <td>NaN</td>\n",
       "    </tr>\n",
       "    <tr>\n",
       "      <th>std</th>\n",
       "      <td>1.817744e+10</td>\n",
       "      <td>1.469513e+08</td>\n",
       "      <td>NaN</td>\n",
       "      <td>220443.996214</td>\n",
       "      <td>NaN</td>\n",
       "      <td>NaN</td>\n",
       "      <td>2473.244346</td>\n",
       "      <td>NaN</td>\n",
       "      <td>NaN</td>\n",
       "      <td>NaN</td>\n",
       "      <td>NaN</td>\n",
       "      <td>NaN</td>\n",
       "    </tr>\n",
       "    <tr>\n",
       "      <th>min</th>\n",
       "      <td>1.192014e+09</td>\n",
       "      <td>6.410000e+03</td>\n",
       "      <td>NaN</td>\n",
       "      <td>104.000000</td>\n",
       "      <td>NaN</td>\n",
       "      <td>NaN</td>\n",
       "      <td>0.000000</td>\n",
       "      <td>NaN</td>\n",
       "      <td>NaN</td>\n",
       "      <td>NaN</td>\n",
       "      <td>NaN</td>\n",
       "      <td>NaN</td>\n",
       "    </tr>\n",
       "    <tr>\n",
       "      <th>25%</th>\n",
       "      <td>1.252403e+09</td>\n",
       "      <td>6.338240e+07</td>\n",
       "      <td>NaN</td>\n",
       "      <td>32507.000000</td>\n",
       "      <td>NaN</td>\n",
       "      <td>NaN</td>\n",
       "      <td>5.000000</td>\n",
       "      <td>NaN</td>\n",
       "      <td>NaN</td>\n",
       "      <td>NaN</td>\n",
       "      <td>NaN</td>\n",
       "      <td>NaN</td>\n",
       "    </tr>\n",
       "    <tr>\n",
       "      <th>50%</th>\n",
       "      <td>3.757555e+10</td>\n",
       "      <td>1.243561e+08</td>\n",
       "      <td>NaN</td>\n",
       "      <td>490359.000000</td>\n",
       "      <td>NaN</td>\n",
       "      <td>NaN</td>\n",
       "      <td>15.000000</td>\n",
       "      <td>NaN</td>\n",
       "      <td>NaN</td>\n",
       "      <td>NaN</td>\n",
       "      <td>NaN</td>\n",
       "      <td>NaN</td>\n",
       "    </tr>\n",
       "    <tr>\n",
       "      <th>75%</th>\n",
       "      <td>3.763131e+10</td>\n",
       "      <td>2.115093e+08</td>\n",
       "      <td>NaN</td>\n",
       "      <td>509538.000000</td>\n",
       "      <td>NaN</td>\n",
       "      <td>NaN</td>\n",
       "      <td>75.000000</td>\n",
       "      <td>NaN</td>\n",
       "      <td>NaN</td>\n",
       "      <td>NaN</td>\n",
       "      <td>NaN</td>\n",
       "      <td>NaN</td>\n",
       "    </tr>\n",
       "    <tr>\n",
       "      <th>max</th>\n",
       "      <td>3.764405e+10</td>\n",
       "      <td>5.177021e+08</td>\n",
       "      <td>NaN</td>\n",
       "      <td>516909.000000</td>\n",
       "      <td>NaN</td>\n",
       "      <td>NaN</td>\n",
       "      <td>191642.000000</td>\n",
       "      <td>NaN</td>\n",
       "      <td>NaN</td>\n",
       "      <td>NaN</td>\n",
       "      <td>NaN</td>\n",
       "      <td>NaN</td>\n",
       "    </tr>\n",
       "  </tbody>\n",
       "</table>\n",
       "</div>"
      ],
      "text/plain": [
       "           stream_id       user_id          user_name        game_id  \\\n",
       "count   7.051900e+04  7.051900e+04              70519   70519.000000   \n",
       "unique           NaN           NaN              44509            NaN   \n",
       "top              NaN           NaN  mrslotaihuntecrbu            NaN   \n",
       "freq             NaN           NaN                  9            NaN   \n",
       "mean    1.999451e+10  1.723755e+08                NaN  327902.659964   \n",
       "std     1.817744e+10  1.469513e+08                NaN  220443.996214   \n",
       "min     1.192014e+09  6.410000e+03                NaN     104.000000   \n",
       "25%     1.252403e+09  6.338240e+07                NaN   32507.000000   \n",
       "50%     3.757555e+10  1.243561e+08                NaN  490359.000000   \n",
       "75%     3.763131e+10  2.115093e+08                NaN  509538.000000   \n",
       "max     3.764405e+10  5.177021e+08                NaN  516909.000000   \n",
       "\n",
       "       stream_type       title   viewer_count            started_at language  \\\n",
       "count        70519       70453   70519.000000                 70519    70517   \n",
       "unique           1       55845            NaN                 45377       34   \n",
       "top           live  Bloodborne            NaN  2020-04-19T18:07:19Z       en   \n",
       "freq         70519          16            NaN                    37    36967   \n",
       "mean           NaN         NaN     320.261518                   NaN      NaN   \n",
       "std            NaN         NaN    2473.244346                   NaN      NaN   \n",
       "min            NaN         NaN       0.000000                   NaN      NaN   \n",
       "25%            NaN         NaN       5.000000                   NaN      NaN   \n",
       "50%            NaN         NaN      15.000000                   NaN      NaN   \n",
       "75%            NaN         NaN      75.000000                   NaN      NaN   \n",
       "max            NaN         NaN  191642.000000                   NaN      NaN   \n",
       "\n",
       "       game_name                                            pic_url  \\\n",
       "count      70519                                              70519   \n",
       "unique       222                                                222   \n",
       "top     Fortnite  https://static-cdn.jtvnw.net/ttv-boxart/Fortni...   \n",
       "freq         900                                                900   \n",
       "mean         NaN                                                NaN   \n",
       "std          NaN                                                NaN   \n",
       "min          NaN                                                NaN   \n",
       "25%          NaN                                                NaN   \n",
       "50%          NaN                                                NaN   \n",
       "75%          NaN                                                NaN   \n",
       "max          NaN                                                NaN   \n",
       "\n",
       "                  game_genres  \n",
       "count                   70325  \n",
       "unique                     76  \n",
       "top     Action,Adventure Game  \n",
       "freq                     5358  \n",
       "mean                      NaN  \n",
       "std                       NaN  \n",
       "min                       NaN  \n",
       "25%                       NaN  \n",
       "50%                       NaN  \n",
       "75%                       NaN  \n",
       "max                       NaN  "
      ]
     },
     "execution_count": 4,
     "metadata": {},
     "output_type": "execute_result"
    }
   ],
   "source": [
    "df_final.describe(include='all')"
   ]
  },
  {
   "cell_type": "code",
   "execution_count": 5,
   "metadata": {},
   "outputs": [
    {
     "data": {
      "text/html": [
       "<div>\n",
       "<style scoped>\n",
       "    .dataframe tbody tr th:only-of-type {\n",
       "        vertical-align: middle;\n",
       "    }\n",
       "\n",
       "    .dataframe tbody tr th {\n",
       "        vertical-align: top;\n",
       "    }\n",
       "\n",
       "    .dataframe thead th {\n",
       "        text-align: right;\n",
       "    }\n",
       "</style>\n",
       "<table border=\"1\" class=\"dataframe\">\n",
       "  <thead>\n",
       "    <tr style=\"text-align: right;\">\n",
       "      <th></th>\n",
       "      <th>stream_id</th>\n",
       "      <th>user_id</th>\n",
       "      <th>user_name</th>\n",
       "      <th>game_id</th>\n",
       "      <th>stream_type</th>\n",
       "      <th>title</th>\n",
       "      <th>viewer_count</th>\n",
       "      <th>started_at</th>\n",
       "      <th>language</th>\n",
       "      <th>game_name</th>\n",
       "      <th>pic_url</th>\n",
       "    </tr>\n",
       "    <tr>\n",
       "      <th>game_genres</th>\n",
       "      <th></th>\n",
       "      <th></th>\n",
       "      <th></th>\n",
       "      <th></th>\n",
       "      <th></th>\n",
       "      <th></th>\n",
       "      <th></th>\n",
       "      <th></th>\n",
       "      <th></th>\n",
       "      <th></th>\n",
       "      <th></th>\n",
       "    </tr>\n",
       "  </thead>\n",
       "  <tbody>\n",
       "    <tr>\n",
       "      <th>Action</th>\n",
       "      <td>238</td>\n",
       "      <td>238</td>\n",
       "      <td>238</td>\n",
       "      <td>238</td>\n",
       "      <td>238</td>\n",
       "      <td>237</td>\n",
       "      <td>238</td>\n",
       "      <td>238</td>\n",
       "      <td>238</td>\n",
       "      <td>238</td>\n",
       "      <td>238</td>\n",
       "    </tr>\n",
       "    <tr>\n",
       "      <th>Action,Adventure Game</th>\n",
       "      <td>5358</td>\n",
       "      <td>5358</td>\n",
       "      <td>5358</td>\n",
       "      <td>5358</td>\n",
       "      <td>5358</td>\n",
       "      <td>5356</td>\n",
       "      <td>5358</td>\n",
       "      <td>5358</td>\n",
       "      <td>5358</td>\n",
       "      <td>5358</td>\n",
       "      <td>5358</td>\n",
       "    </tr>\n",
       "    <tr>\n",
       "      <th>Action,Horror</th>\n",
       "      <td>1428</td>\n",
       "      <td>1428</td>\n",
       "      <td>1428</td>\n",
       "      <td>1428</td>\n",
       "      <td>1428</td>\n",
       "      <td>1426</td>\n",
       "      <td>1428</td>\n",
       "      <td>1428</td>\n",
       "      <td>1428</td>\n",
       "      <td>1428</td>\n",
       "      <td>1428</td>\n",
       "    </tr>\n",
       "    <tr>\n",
       "      <th>Action,Indie Game</th>\n",
       "      <td>95</td>\n",
       "      <td>95</td>\n",
       "      <td>95</td>\n",
       "      <td>95</td>\n",
       "      <td>95</td>\n",
       "      <td>95</td>\n",
       "      <td>95</td>\n",
       "      <td>95</td>\n",
       "      <td>95</td>\n",
       "      <td>95</td>\n",
       "      <td>95</td>\n",
       "    </tr>\n",
       "    <tr>\n",
       "      <th>Action,Metroidvania</th>\n",
       "      <td>24</td>\n",
       "      <td>24</td>\n",
       "      <td>24</td>\n",
       "      <td>24</td>\n",
       "      <td>24</td>\n",
       "      <td>24</td>\n",
       "      <td>24</td>\n",
       "      <td>24</td>\n",
       "      <td>24</td>\n",
       "      <td>24</td>\n",
       "      <td>24</td>\n",
       "    </tr>\n",
       "    <tr>\n",
       "      <th>...</th>\n",
       "      <td>...</td>\n",
       "      <td>...</td>\n",
       "      <td>...</td>\n",
       "      <td>...</td>\n",
       "      <td>...</td>\n",
       "      <td>...</td>\n",
       "      <td>...</td>\n",
       "      <td>...</td>\n",
       "      <td>...</td>\n",
       "      <td>...</td>\n",
       "      <td>...</td>\n",
       "    </tr>\n",
       "    <tr>\n",
       "      <th>Sports Game,Simulation</th>\n",
       "      <td>893</td>\n",
       "      <td>893</td>\n",
       "      <td>893</td>\n",
       "      <td>893</td>\n",
       "      <td>893</td>\n",
       "      <td>892</td>\n",
       "      <td>893</td>\n",
       "      <td>893</td>\n",
       "      <td>893</td>\n",
       "      <td>893</td>\n",
       "      <td>893</td>\n",
       "    </tr>\n",
       "    <tr>\n",
       "      <th>Strategy</th>\n",
       "      <td>669</td>\n",
       "      <td>669</td>\n",
       "      <td>669</td>\n",
       "      <td>669</td>\n",
       "      <td>669</td>\n",
       "      <td>665</td>\n",
       "      <td>669</td>\n",
       "      <td>669</td>\n",
       "      <td>669</td>\n",
       "      <td>669</td>\n",
       "      <td>669</td>\n",
       "    </tr>\n",
       "    <tr>\n",
       "      <th>Strategy,Autobattler</th>\n",
       "      <td>891</td>\n",
       "      <td>891</td>\n",
       "      <td>891</td>\n",
       "      <td>891</td>\n",
       "      <td>891</td>\n",
       "      <td>891</td>\n",
       "      <td>891</td>\n",
       "      <td>891</td>\n",
       "      <td>891</td>\n",
       "      <td>891</td>\n",
       "      <td>891</td>\n",
       "    </tr>\n",
       "    <tr>\n",
       "      <th>Strategy,RTS</th>\n",
       "      <td>503</td>\n",
       "      <td>503</td>\n",
       "      <td>503</td>\n",
       "      <td>503</td>\n",
       "      <td>503</td>\n",
       "      <td>500</td>\n",
       "      <td>503</td>\n",
       "      <td>503</td>\n",
       "      <td>503</td>\n",
       "      <td>503</td>\n",
       "      <td>503</td>\n",
       "    </tr>\n",
       "    <tr>\n",
       "      <th>Strategy,Simulation</th>\n",
       "      <td>334</td>\n",
       "      <td>334</td>\n",
       "      <td>334</td>\n",
       "      <td>334</td>\n",
       "      <td>334</td>\n",
       "      <td>333</td>\n",
       "      <td>334</td>\n",
       "      <td>334</td>\n",
       "      <td>334</td>\n",
       "      <td>334</td>\n",
       "      <td>334</td>\n",
       "    </tr>\n",
       "  </tbody>\n",
       "</table>\n",
       "<p>76 rows × 11 columns</p>\n",
       "</div>"
      ],
      "text/plain": [
       "                        stream_id  user_id  user_name  game_id  stream_type  \\\n",
       "game_genres                                                                   \n",
       "Action                        238      238        238      238          238   \n",
       "Action,Adventure Game        5358     5358       5358     5358         5358   \n",
       "Action,Horror                1428     1428       1428     1428         1428   \n",
       "Action,Indie Game              95       95         95       95           95   \n",
       "Action,Metroidvania            24       24         24       24           24   \n",
       "...                           ...      ...        ...      ...          ...   \n",
       "Sports Game,Simulation        893      893        893      893          893   \n",
       "Strategy                      669      669        669      669          669   \n",
       "Strategy,Autobattler          891      891        891      891          891   \n",
       "Strategy,RTS                  503      503        503      503          503   \n",
       "Strategy,Simulation           334      334        334      334          334   \n",
       "\n",
       "                        title  viewer_count  started_at  language  game_name  \\\n",
       "game_genres                                                                    \n",
       "Action                    237           238         238       238        238   \n",
       "Action,Adventure Game    5356          5358        5358      5358       5358   \n",
       "Action,Horror            1426          1428        1428      1428       1428   \n",
       "Action,Indie Game          95            95          95        95         95   \n",
       "Action,Metroidvania        24            24          24        24         24   \n",
       "...                       ...           ...         ...       ...        ...   \n",
       "Sports Game,Simulation    892           893         893       893        893   \n",
       "Strategy                  665           669         669       669        669   \n",
       "Strategy,Autobattler      891           891         891       891        891   \n",
       "Strategy,RTS              500           503         503       503        503   \n",
       "Strategy,Simulation       333           334         334       334        334   \n",
       "\n",
       "                        pic_url  \n",
       "game_genres                      \n",
       "Action                      238  \n",
       "Action,Adventure Game      5358  \n",
       "Action,Horror              1428  \n",
       "Action,Indie Game            95  \n",
       "Action,Metroidvania          24  \n",
       "...                         ...  \n",
       "Sports Game,Simulation      893  \n",
       "Strategy                    669  \n",
       "Strategy,Autobattler        891  \n",
       "Strategy,RTS                503  \n",
       "Strategy,Simulation         334  \n",
       "\n",
       "[76 rows x 11 columns]"
      ]
     },
     "execution_count": 5,
     "metadata": {},
     "output_type": "execute_result"
    }
   ],
   "source": [
    "df_final.groupby('game_genres').count()"
   ]
  },
  {
   "cell_type": "markdown",
   "metadata": {},
   "source": [
    "## Which user_name streams which game & how many times?"
   ]
  },
  {
   "cell_type": "code",
   "execution_count": 6,
   "metadata": {},
   "outputs": [],
   "source": [
    "df_stream_games_user_names = pd.crosstab(df_final.user_name, df_final.game_name,rownames=['user_name'], colnames=['game_name'])"
   ]
  },
  {
   "cell_type": "code",
   "execution_count": 7,
   "metadata": {},
   "outputs": [
    {
     "data": {
      "text/html": [
       "<div>\n",
       "<style scoped>\n",
       "    .dataframe tbody tr th:only-of-type {\n",
       "        vertical-align: middle;\n",
       "    }\n",
       "\n",
       "    .dataframe tbody tr th {\n",
       "        vertical-align: top;\n",
       "    }\n",
       "\n",
       "    .dataframe thead th {\n",
       "        text-align: right;\n",
       "    }\n",
       "</style>\n",
       "<table border=\"1\" class=\"dataframe\">\n",
       "  <thead>\n",
       "    <tr style=\"text-align: right;\">\n",
       "      <th>game_name</th>\n",
       "      <th>7 Days to Die</th>\n",
       "      <th>A Way Out</th>\n",
       "      <th>ARK</th>\n",
       "      <th>ASMR</th>\n",
       "      <th>Age of Empires II: Definitive Edition</th>\n",
       "      <th>Among Us</th>\n",
       "      <th>Animal Crossing: New Horizons</th>\n",
       "      <th>Apex Legends</th>\n",
       "      <th>Arena of Valor</th>\n",
       "      <th>Art</th>\n",
       "      <th>...</th>\n",
       "      <th>World of Horror</th>\n",
       "      <th>World of Tanks</th>\n",
       "      <th>World of Warcraft</th>\n",
       "      <th>World of Warships</th>\n",
       "      <th>X4: Foundations</th>\n",
       "      <th>Yakuza 0</th>\n",
       "      <th>Yu-Gi-Oh! Duel Links</th>\n",
       "      <th>iRacing.com</th>\n",
       "      <th>osu!</th>\n",
       "      <th>skribbl.io</th>\n",
       "    </tr>\n",
       "    <tr>\n",
       "      <th>user_name</th>\n",
       "      <th></th>\n",
       "      <th></th>\n",
       "      <th></th>\n",
       "      <th></th>\n",
       "      <th></th>\n",
       "      <th></th>\n",
       "      <th></th>\n",
       "      <th></th>\n",
       "      <th></th>\n",
       "      <th></th>\n",
       "      <th></th>\n",
       "      <th></th>\n",
       "      <th></th>\n",
       "      <th></th>\n",
       "      <th></th>\n",
       "      <th></th>\n",
       "      <th></th>\n",
       "      <th></th>\n",
       "      <th></th>\n",
       "      <th></th>\n",
       "      <th></th>\n",
       "    </tr>\n",
       "  </thead>\n",
       "  <tbody>\n",
       "    <tr>\n",
       "      <th>doctor_sk3l</th>\n",
       "      <td>0</td>\n",
       "      <td>0</td>\n",
       "      <td>0</td>\n",
       "      <td>0</td>\n",
       "      <td>0</td>\n",
       "      <td>0</td>\n",
       "      <td>0</td>\n",
       "      <td>0</td>\n",
       "      <td>0</td>\n",
       "      <td>0</td>\n",
       "      <td>...</td>\n",
       "      <td>0</td>\n",
       "      <td>0</td>\n",
       "      <td>0</td>\n",
       "      <td>0</td>\n",
       "      <td>0</td>\n",
       "      <td>0</td>\n",
       "      <td>0</td>\n",
       "      <td>0</td>\n",
       "      <td>0</td>\n",
       "      <td>0</td>\n",
       "    </tr>\n",
       "    <tr>\n",
       "      <th>The_Widdler</th>\n",
       "      <td>0</td>\n",
       "      <td>0</td>\n",
       "      <td>0</td>\n",
       "      <td>0</td>\n",
       "      <td>0</td>\n",
       "      <td>0</td>\n",
       "      <td>0</td>\n",
       "      <td>0</td>\n",
       "      <td>0</td>\n",
       "      <td>0</td>\n",
       "      <td>...</td>\n",
       "      <td>0</td>\n",
       "      <td>0</td>\n",
       "      <td>0</td>\n",
       "      <td>0</td>\n",
       "      <td>0</td>\n",
       "      <td>0</td>\n",
       "      <td>0</td>\n",
       "      <td>0</td>\n",
       "      <td>0</td>\n",
       "      <td>0</td>\n",
       "    </tr>\n",
       "    <tr>\n",
       "      <th>uccleague2</th>\n",
       "      <td>0</td>\n",
       "      <td>0</td>\n",
       "      <td>0</td>\n",
       "      <td>0</td>\n",
       "      <td>0</td>\n",
       "      <td>0</td>\n",
       "      <td>0</td>\n",
       "      <td>0</td>\n",
       "      <td>0</td>\n",
       "      <td>0</td>\n",
       "      <td>...</td>\n",
       "      <td>0</td>\n",
       "      <td>0</td>\n",
       "      <td>0</td>\n",
       "      <td>0</td>\n",
       "      <td>0</td>\n",
       "      <td>0</td>\n",
       "      <td>0</td>\n",
       "      <td>0</td>\n",
       "      <td>0</td>\n",
       "      <td>0</td>\n",
       "    </tr>\n",
       "    <tr>\n",
       "      <th>Getking1337</th>\n",
       "      <td>0</td>\n",
       "      <td>0</td>\n",
       "      <td>0</td>\n",
       "      <td>0</td>\n",
       "      <td>0</td>\n",
       "      <td>0</td>\n",
       "      <td>0</td>\n",
       "      <td>0</td>\n",
       "      <td>0</td>\n",
       "      <td>0</td>\n",
       "      <td>...</td>\n",
       "      <td>0</td>\n",
       "      <td>0</td>\n",
       "      <td>0</td>\n",
       "      <td>0</td>\n",
       "      <td>0</td>\n",
       "      <td>0</td>\n",
       "      <td>0</td>\n",
       "      <td>0</td>\n",
       "      <td>0</td>\n",
       "      <td>0</td>\n",
       "    </tr>\n",
       "    <tr>\n",
       "      <th>highvlord</th>\n",
       "      <td>0</td>\n",
       "      <td>0</td>\n",
       "      <td>0</td>\n",
       "      <td>0</td>\n",
       "      <td>0</td>\n",
       "      <td>0</td>\n",
       "      <td>0</td>\n",
       "      <td>0</td>\n",
       "      <td>0</td>\n",
       "      <td>0</td>\n",
       "      <td>...</td>\n",
       "      <td>0</td>\n",
       "      <td>0</td>\n",
       "      <td>0</td>\n",
       "      <td>0</td>\n",
       "      <td>0</td>\n",
       "      <td>0</td>\n",
       "      <td>0</td>\n",
       "      <td>0</td>\n",
       "      <td>0</td>\n",
       "      <td>0</td>\n",
       "    </tr>\n",
       "    <tr>\n",
       "      <th>Ayciid</th>\n",
       "      <td>0</td>\n",
       "      <td>0</td>\n",
       "      <td>0</td>\n",
       "      <td>0</td>\n",
       "      <td>0</td>\n",
       "      <td>0</td>\n",
       "      <td>0</td>\n",
       "      <td>0</td>\n",
       "      <td>0</td>\n",
       "      <td>0</td>\n",
       "      <td>...</td>\n",
       "      <td>0</td>\n",
       "      <td>0</td>\n",
       "      <td>0</td>\n",
       "      <td>0</td>\n",
       "      <td>0</td>\n",
       "      <td>0</td>\n",
       "      <td>0</td>\n",
       "      <td>0</td>\n",
       "      <td>0</td>\n",
       "      <td>0</td>\n",
       "    </tr>\n",
       "    <tr>\n",
       "      <th>pirateunicornnk</th>\n",
       "      <td>0</td>\n",
       "      <td>0</td>\n",
       "      <td>0</td>\n",
       "      <td>0</td>\n",
       "      <td>0</td>\n",
       "      <td>0</td>\n",
       "      <td>0</td>\n",
       "      <td>0</td>\n",
       "      <td>0</td>\n",
       "      <td>0</td>\n",
       "      <td>...</td>\n",
       "      <td>0</td>\n",
       "      <td>0</td>\n",
       "      <td>0</td>\n",
       "      <td>0</td>\n",
       "      <td>0</td>\n",
       "      <td>0</td>\n",
       "      <td>0</td>\n",
       "      <td>0</td>\n",
       "      <td>0</td>\n",
       "      <td>0</td>\n",
       "    </tr>\n",
       "    <tr>\n",
       "      <th>SoupsVR</th>\n",
       "      <td>0</td>\n",
       "      <td>0</td>\n",
       "      <td>0</td>\n",
       "      <td>0</td>\n",
       "      <td>0</td>\n",
       "      <td>0</td>\n",
       "      <td>0</td>\n",
       "      <td>0</td>\n",
       "      <td>0</td>\n",
       "      <td>0</td>\n",
       "      <td>...</td>\n",
       "      <td>0</td>\n",
       "      <td>0</td>\n",
       "      <td>0</td>\n",
       "      <td>0</td>\n",
       "      <td>0</td>\n",
       "      <td>0</td>\n",
       "      <td>0</td>\n",
       "      <td>0</td>\n",
       "      <td>0</td>\n",
       "      <td>0</td>\n",
       "    </tr>\n",
       "    <tr>\n",
       "      <th>Caiis07</th>\n",
       "      <td>0</td>\n",
       "      <td>0</td>\n",
       "      <td>0</td>\n",
       "      <td>0</td>\n",
       "      <td>0</td>\n",
       "      <td>0</td>\n",
       "      <td>0</td>\n",
       "      <td>0</td>\n",
       "      <td>0</td>\n",
       "      <td>0</td>\n",
       "      <td>...</td>\n",
       "      <td>0</td>\n",
       "      <td>0</td>\n",
       "      <td>0</td>\n",
       "      <td>0</td>\n",
       "      <td>0</td>\n",
       "      <td>0</td>\n",
       "      <td>0</td>\n",
       "      <td>0</td>\n",
       "      <td>0</td>\n",
       "      <td>0</td>\n",
       "    </tr>\n",
       "    <tr>\n",
       "      <th>crocodire</th>\n",
       "      <td>0</td>\n",
       "      <td>0</td>\n",
       "      <td>0</td>\n",
       "      <td>0</td>\n",
       "      <td>0</td>\n",
       "      <td>0</td>\n",
       "      <td>0</td>\n",
       "      <td>0</td>\n",
       "      <td>0</td>\n",
       "      <td>1</td>\n",
       "      <td>...</td>\n",
       "      <td>0</td>\n",
       "      <td>0</td>\n",
       "      <td>0</td>\n",
       "      <td>0</td>\n",
       "      <td>0</td>\n",
       "      <td>0</td>\n",
       "      <td>0</td>\n",
       "      <td>0</td>\n",
       "      <td>0</td>\n",
       "      <td>0</td>\n",
       "    </tr>\n",
       "  </tbody>\n",
       "</table>\n",
       "<p>10 rows × 222 columns</p>\n",
       "</div>"
      ],
      "text/plain": [
       "game_name        7 Days to Die  A Way Out  ARK  ASMR  \\\n",
       "user_name                                              \n",
       "doctor_sk3l                  0          0    0     0   \n",
       "The_Widdler                  0          0    0     0   \n",
       "uccleague2                   0          0    0     0   \n",
       "Getking1337                  0          0    0     0   \n",
       "highvlord                    0          0    0     0   \n",
       "Ayciid                       0          0    0     0   \n",
       "pirateunicornnk              0          0    0     0   \n",
       "SoupsVR                      0          0    0     0   \n",
       "Caiis07                      0          0    0     0   \n",
       "crocodire                    0          0    0     0   \n",
       "\n",
       "game_name        Age of Empires II: Definitive Edition  Among Us  \\\n",
       "user_name                                                          \n",
       "doctor_sk3l                                          0         0   \n",
       "The_Widdler                                          0         0   \n",
       "uccleague2                                           0         0   \n",
       "Getking1337                                          0         0   \n",
       "highvlord                                            0         0   \n",
       "Ayciid                                               0         0   \n",
       "pirateunicornnk                                      0         0   \n",
       "SoupsVR                                              0         0   \n",
       "Caiis07                                              0         0   \n",
       "crocodire                                            0         0   \n",
       "\n",
       "game_name        Animal Crossing: New Horizons  Apex Legends  Arena of Valor  \\\n",
       "user_name                                                                      \n",
       "doctor_sk3l                                  0             0               0   \n",
       "The_Widdler                                  0             0               0   \n",
       "uccleague2                                   0             0               0   \n",
       "Getking1337                                  0             0               0   \n",
       "highvlord                                    0             0               0   \n",
       "Ayciid                                       0             0               0   \n",
       "pirateunicornnk                              0             0               0   \n",
       "SoupsVR                                      0             0               0   \n",
       "Caiis07                                      0             0               0   \n",
       "crocodire                                    0             0               0   \n",
       "\n",
       "game_name        Art  ...  World of Horror  World of Tanks  World of Warcraft  \\\n",
       "user_name             ...                                                       \n",
       "doctor_sk3l        0  ...                0               0                  0   \n",
       "The_Widdler        0  ...                0               0                  0   \n",
       "uccleague2         0  ...                0               0                  0   \n",
       "Getking1337        0  ...                0               0                  0   \n",
       "highvlord          0  ...                0               0                  0   \n",
       "Ayciid             0  ...                0               0                  0   \n",
       "pirateunicornnk    0  ...                0               0                  0   \n",
       "SoupsVR            0  ...                0               0                  0   \n",
       "Caiis07            0  ...                0               0                  0   \n",
       "crocodire          1  ...                0               0                  0   \n",
       "\n",
       "game_name        World of Warships  X4: Foundations  Yakuza 0  \\\n",
       "user_name                                                       \n",
       "doctor_sk3l                      0                0         0   \n",
       "The_Widdler                      0                0         0   \n",
       "uccleague2                       0                0         0   \n",
       "Getking1337                      0                0         0   \n",
       "highvlord                        0                0         0   \n",
       "Ayciid                           0                0         0   \n",
       "pirateunicornnk                  0                0         0   \n",
       "SoupsVR                          0                0         0   \n",
       "Caiis07                          0                0         0   \n",
       "crocodire                        0                0         0   \n",
       "\n",
       "game_name        Yu-Gi-Oh! Duel Links  iRacing.com  osu!  skribbl.io  \n",
       "user_name                                                             \n",
       "doctor_sk3l                         0            0     0           0  \n",
       "The_Widdler                         0            0     0           0  \n",
       "uccleague2                          0            0     0           0  \n",
       "Getking1337                         0            0     0           0  \n",
       "highvlord                           0            0     0           0  \n",
       "Ayciid                              0            0     0           0  \n",
       "pirateunicornnk                     0            0     0           0  \n",
       "SoupsVR                             0            0     0           0  \n",
       "Caiis07                             0            0     0           0  \n",
       "crocodire                           0            0     0           0  \n",
       "\n",
       "[10 rows x 222 columns]"
      ]
     },
     "execution_count": 7,
     "metadata": {},
     "output_type": "execute_result"
    }
   ],
   "source": [
    "df_stream_games_user_names.sample(10)"
   ]
  },
  {
   "cell_type": "code",
   "execution_count": 8,
   "metadata": {},
   "outputs": [
    {
     "data": {
      "text/html": [
       "<div>\n",
       "<style scoped>\n",
       "    .dataframe tbody tr th:only-of-type {\n",
       "        vertical-align: middle;\n",
       "    }\n",
       "\n",
       "    .dataframe tbody tr th {\n",
       "        vertical-align: top;\n",
       "    }\n",
       "\n",
       "    .dataframe thead th {\n",
       "        text-align: right;\n",
       "    }\n",
       "</style>\n",
       "<table border=\"1\" class=\"dataframe\">\n",
       "  <thead>\n",
       "    <tr style=\"text-align: right;\">\n",
       "      <th></th>\n",
       "      <th>stream_id</th>\n",
       "      <th>user_id</th>\n",
       "      <th>user_name</th>\n",
       "      <th>game_id</th>\n",
       "      <th>stream_type</th>\n",
       "      <th>title</th>\n",
       "      <th>viewer_count</th>\n",
       "      <th>started_at</th>\n",
       "      <th>language</th>\n",
       "      <th>game_name</th>\n",
       "      <th>pic_url</th>\n",
       "      <th>game_genres</th>\n",
       "    </tr>\n",
       "  </thead>\n",
       "  <tbody>\n",
       "    <tr>\n",
       "      <th>9010</th>\n",
       "      <td>37574803536</td>\n",
       "      <td>66719758</td>\n",
       "      <td>ZevvyLewyn</td>\n",
       "      <td>18122</td>\n",
       "      <td>live</td>\n",
       "      <td>.</td>\n",
       "      <td>86</td>\n",
       "      <td>2020-04-16T15:01:22Z</td>\n",
       "      <td>de</td>\n",
       "      <td>World of Warcraft</td>\n",
       "      <td>https://static-cdn.jtvnw.net/ttv-boxart/World%...</td>\n",
       "      <td>MMORPG,RPG</td>\n",
       "    </tr>\n",
       "    <tr>\n",
       "      <th>16970</th>\n",
       "      <td>1238068273</td>\n",
       "      <td>66719758</td>\n",
       "      <td>ZevvyLewyn</td>\n",
       "      <td>18122</td>\n",
       "      <td>live</td>\n",
       "      <td>&lt;dPriest | vDh&gt;</td>\n",
       "      <td>67</td>\n",
       "      <td>2020-04-18T21:28:28Z</td>\n",
       "      <td>de</td>\n",
       "      <td>World of Warcraft</td>\n",
       "      <td>https://static-cdn.jtvnw.net/ttv-boxart/World%...</td>\n",
       "      <td>MMORPG,RPG</td>\n",
       "    </tr>\n",
       "  </tbody>\n",
       "</table>\n",
       "</div>"
      ],
      "text/plain": [
       "         stream_id   user_id   user_name  game_id stream_type  \\\n",
       "9010   37574803536  66719758  ZevvyLewyn    18122        live   \n",
       "16970   1238068273  66719758  ZevvyLewyn    18122        live   \n",
       "\n",
       "                 title  viewer_count            started_at language  \\\n",
       "9010                 .            86  2020-04-16T15:01:22Z       de   \n",
       "16970  <dPriest | vDh>            67  2020-04-18T21:28:28Z       de   \n",
       "\n",
       "               game_name                                            pic_url  \\\n",
       "9010   World of Warcraft  https://static-cdn.jtvnw.net/ttv-boxart/World%...   \n",
       "16970  World of Warcraft  https://static-cdn.jtvnw.net/ttv-boxart/World%...   \n",
       "\n",
       "      game_genres  \n",
       "9010   MMORPG,RPG  \n",
       "16970  MMORPG,RPG  "
      ]
     },
     "execution_count": 8,
     "metadata": {},
     "output_type": "execute_result"
    }
   ],
   "source": [
    "df_final[df_final['user_name']=='ZevvyLewyn']"
   ]
  },
  {
   "cell_type": "code",
   "execution_count": 9,
   "metadata": {},
   "outputs": [
    {
     "data": {
      "text/html": [
       "<div>\n",
       "<style scoped>\n",
       "    .dataframe tbody tr th:only-of-type {\n",
       "        vertical-align: middle;\n",
       "    }\n",
       "\n",
       "    .dataframe tbody tr th {\n",
       "        vertical-align: top;\n",
       "    }\n",
       "\n",
       "    .dataframe thead th {\n",
       "        text-align: right;\n",
       "    }\n",
       "</style>\n",
       "<table border=\"1\" class=\"dataframe\">\n",
       "  <thead>\n",
       "    <tr style=\"text-align: right;\">\n",
       "      <th></th>\n",
       "      <th>stream_id</th>\n",
       "      <th>user_id</th>\n",
       "      <th>user_name</th>\n",
       "      <th>game_id</th>\n",
       "      <th>stream_type</th>\n",
       "      <th>title</th>\n",
       "      <th>viewer_count</th>\n",
       "      <th>started_at</th>\n",
       "      <th>language</th>\n",
       "      <th>game_name</th>\n",
       "      <th>pic_url</th>\n",
       "      <th>game_genres</th>\n",
       "    </tr>\n",
       "  </thead>\n",
       "  <tbody>\n",
       "    <tr>\n",
       "      <th>2230</th>\n",
       "      <td>37573820080</td>\n",
       "      <td>58940267</td>\n",
       "      <td>meroobear</td>\n",
       "      <td>509660</td>\n",
       "      <td>live</td>\n",
       "      <td>am bear</td>\n",
       "      <td>38</td>\n",
       "      <td>2020-04-16T13:22:39Z</td>\n",
       "      <td>en</td>\n",
       "      <td>Art</td>\n",
       "      <td>https://static-cdn.jtvnw.net/ttv-boxart/Art-{w...</td>\n",
       "      <td>Creative</td>\n",
       "    </tr>\n",
       "    <tr>\n",
       "      <th>27559</th>\n",
       "      <td>37627698240</td>\n",
       "      <td>58940267</td>\n",
       "      <td>meroobear</td>\n",
       "      <td>509660</td>\n",
       "      <td>live</td>\n",
       "      <td>my brain is afk (◠‿◠✿)</td>\n",
       "      <td>30</td>\n",
       "      <td>2020-04-19T12:18:14Z</td>\n",
       "      <td>en</td>\n",
       "      <td>Art</td>\n",
       "      <td>https://static-cdn.jtvnw.net/ttv-boxart/Art-{w...</td>\n",
       "      <td>Creative</td>\n",
       "    </tr>\n",
       "    <tr>\n",
       "      <th>57326</th>\n",
       "      <td>37641658176</td>\n",
       "      <td>58940267</td>\n",
       "      <td>meroobear</td>\n",
       "      <td>509660</td>\n",
       "      <td>live</td>\n",
       "      <td>thinking about my chibi style (◠‿◠✿)</td>\n",
       "      <td>32</td>\n",
       "      <td>2020-04-20T13:51:13Z</td>\n",
       "      <td>en</td>\n",
       "      <td>Art</td>\n",
       "      <td>https://static-cdn.jtvnw.net/ttv-boxart/Art-{w...</td>\n",
       "      <td>Creative</td>\n",
       "    </tr>\n",
       "    <tr>\n",
       "      <th>65175</th>\n",
       "      <td>37641658176</td>\n",
       "      <td>58940267</td>\n",
       "      <td>meroobear</td>\n",
       "      <td>509660</td>\n",
       "      <td>live</td>\n",
       "      <td>day 6 since THE incident ( ' _ ' ✿)</td>\n",
       "      <td>41</td>\n",
       "      <td>2020-04-20T13:51:13Z</td>\n",
       "      <td>en</td>\n",
       "      <td>Art</td>\n",
       "      <td>https://static-cdn.jtvnw.net/ttv-boxart/Art-{w...</td>\n",
       "      <td>Creative</td>\n",
       "    </tr>\n",
       "  </tbody>\n",
       "</table>\n",
       "</div>"
      ],
      "text/plain": [
       "         stream_id   user_id  user_name  game_id stream_type  \\\n",
       "2230   37573820080  58940267  meroobear   509660        live   \n",
       "27559  37627698240  58940267  meroobear   509660        live   \n",
       "57326  37641658176  58940267  meroobear   509660        live   \n",
       "65175  37641658176  58940267  meroobear   509660        live   \n",
       "\n",
       "                                      title  viewer_count  \\\n",
       "2230                                am bear            38   \n",
       "27559                my brain is afk (◠‿◠✿)            30   \n",
       "57326  thinking about my chibi style (◠‿◠✿)            32   \n",
       "65175   day 6 since THE incident ( ' _ ' ✿)            41   \n",
       "\n",
       "                 started_at language game_name  \\\n",
       "2230   2020-04-16T13:22:39Z       en       Art   \n",
       "27559  2020-04-19T12:18:14Z       en       Art   \n",
       "57326  2020-04-20T13:51:13Z       en       Art   \n",
       "65175  2020-04-20T13:51:13Z       en       Art   \n",
       "\n",
       "                                                 pic_url game_genres  \n",
       "2230   https://static-cdn.jtvnw.net/ttv-boxart/Art-{w...    Creative  \n",
       "27559  https://static-cdn.jtvnw.net/ttv-boxart/Art-{w...    Creative  \n",
       "57326  https://static-cdn.jtvnw.net/ttv-boxart/Art-{w...    Creative  \n",
       "65175  https://static-cdn.jtvnw.net/ttv-boxart/Art-{w...    Creative  "
      ]
     },
     "execution_count": 9,
     "metadata": {},
     "output_type": "execute_result"
    }
   ],
   "source": [
    "df_final[df_final['user_name']=='meroobear']"
   ]
  },
  {
   "cell_type": "markdown",
   "metadata": {},
   "source": [
    "## Scaling the viewer_count values \n",
    "\n",
    "Taking the log values and then normalizing the values"
   ]
  },
  {
   "cell_type": "code",
   "execution_count": 10,
   "metadata": {},
   "outputs": [
    {
     "data": {
      "text/plain": [
       "191642"
      ]
     },
     "execution_count": 10,
     "metadata": {},
     "output_type": "execute_result"
    }
   ],
   "source": [
    "x_max = df_final['viewer_count'].values.max()\n",
    "x_max"
   ]
  },
  {
   "cell_type": "code",
   "execution_count": 11,
   "metadata": {},
   "outputs": [
    {
     "data": {
      "text/plain": [
       "0"
      ]
     },
     "execution_count": 11,
     "metadata": {},
     "output_type": "execute_result"
    }
   ],
   "source": [
    "x_min = df_final['viewer_count'].values.min()\n",
    "x_min"
   ]
  },
  {
   "cell_type": "code",
   "execution_count": 12,
   "metadata": {},
   "outputs": [
    {
     "data": {
      "text/plain": [
       "count     70519.000000\n",
       "mean        320.261518\n",
       "std        2473.244346\n",
       "min           0.000000\n",
       "25%           5.000000\n",
       "50%          15.000000\n",
       "75%          75.000000\n",
       "max      191642.000000\n",
       "Name: viewer_count, dtype: float64"
      ]
     },
     "execution_count": 12,
     "metadata": {},
     "output_type": "execute_result"
    }
   ],
   "source": [
    "df_final.viewer_count.describe()"
   ]
  },
  {
   "cell_type": "code",
   "execution_count": 13,
   "metadata": {},
   "outputs": [],
   "source": [
    "def normalize(column):\n",
    "    upper = column.max()\n",
    "    lower = column.min()\n",
    "    y = (column - lower)/(upper-lower)\n",
    "    return y"
   ]
  },
  {
   "cell_type": "code",
   "execution_count": 14,
   "metadata": {},
   "outputs": [
    {
     "data": {
      "text/plain": [
       "count    70519.000000\n",
       "mean         3.205371\n",
       "std          1.921391\n",
       "min          0.000000\n",
       "25%          1.791759\n",
       "50%          2.772589\n",
       "75%          4.330733\n",
       "max         12.163390\n",
       "Name: viewer_count, dtype: float64"
      ]
     },
     "execution_count": 14,
     "metadata": {},
     "output_type": "execute_result"
    }
   ],
   "source": [
    "log_viewer_count = np.log(df_final.viewer_count+1)\n",
    "log_viewer_count.describe()"
   ]
  },
  {
   "cell_type": "code",
   "execution_count": 15,
   "metadata": {},
   "outputs": [],
   "source": [
    "df_log = pd.DataFrame(log_viewer_count,columns=['viewer_count'])\n",
    "df_log['game_name'] = df_final['game_name']"
   ]
  },
  {
   "cell_type": "code",
   "execution_count": 16,
   "metadata": {},
   "outputs": [
    {
     "data": {
      "text/plain": [
       "count    70519.000000\n",
       "mean         0.263526\n",
       "std          0.157965\n",
       "min          0.000000\n",
       "25%          0.147308\n",
       "50%          0.227945\n",
       "75%          0.356047\n",
       "max          1.000000\n",
       "Name: viewer_count, dtype: float64"
      ]
     },
     "execution_count": 16,
     "metadata": {},
     "output_type": "execute_result"
    }
   ],
   "source": [
    "log_normalized = normalize(log_viewer_count)\n",
    "log_normalized.describe()"
   ]
  },
  {
   "cell_type": "code",
   "execution_count": 17,
   "metadata": {},
   "outputs": [],
   "source": [
    "df_log_normalized = pd.DataFrame(log_normalized,columns=['viewer_count'])\n",
    "df_log_normalized['game_name'] = df_final['game_name']"
   ]
  },
  {
   "cell_type": "code",
   "execution_count": 18,
   "metadata": {},
   "outputs": [
    {
     "data": {
      "text/html": [
       "<div>\n",
       "<style scoped>\n",
       "    .dataframe tbody tr th:only-of-type {\n",
       "        vertical-align: middle;\n",
       "    }\n",
       "\n",
       "    .dataframe tbody tr th {\n",
       "        vertical-align: top;\n",
       "    }\n",
       "\n",
       "    .dataframe thead th {\n",
       "        text-align: right;\n",
       "    }\n",
       "</style>\n",
       "<table border=\"1\" class=\"dataframe\">\n",
       "  <thead>\n",
       "    <tr style=\"text-align: right;\">\n",
       "      <th></th>\n",
       "      <th>viewer_count</th>\n",
       "      <th>game_name</th>\n",
       "    </tr>\n",
       "  </thead>\n",
       "  <tbody>\n",
       "    <tr>\n",
       "      <th>0</th>\n",
       "      <td>0.942716</td>\n",
       "      <td>VALORANT</td>\n",
       "    </tr>\n",
       "    <tr>\n",
       "      <th>1</th>\n",
       "      <td>0.913376</td>\n",
       "      <td>VALORANT</td>\n",
       "    </tr>\n",
       "    <tr>\n",
       "      <th>2</th>\n",
       "      <td>0.881062</td>\n",
       "      <td>VALORANT</td>\n",
       "    </tr>\n",
       "    <tr>\n",
       "      <th>3</th>\n",
       "      <td>0.874558</td>\n",
       "      <td>VALORANT</td>\n",
       "    </tr>\n",
       "    <tr>\n",
       "      <th>4</th>\n",
       "      <td>0.836153</td>\n",
       "      <td>VALORANT</td>\n",
       "    </tr>\n",
       "    <tr>\n",
       "      <th>...</th>\n",
       "      <td>...</td>\n",
       "      <td>...</td>\n",
       "    </tr>\n",
       "    <tr>\n",
       "      <th>70514</th>\n",
       "      <td>0.113973</td>\n",
       "      <td>Warframe</td>\n",
       "    </tr>\n",
       "    <tr>\n",
       "      <th>70515</th>\n",
       "      <td>0.090321</td>\n",
       "      <td>Warframe</td>\n",
       "    </tr>\n",
       "    <tr>\n",
       "      <th>70516</th>\n",
       "      <td>0.090321</td>\n",
       "      <td>Warframe</td>\n",
       "    </tr>\n",
       "    <tr>\n",
       "      <th>70517</th>\n",
       "      <td>0.090321</td>\n",
       "      <td>Warframe</td>\n",
       "    </tr>\n",
       "    <tr>\n",
       "      <th>70518</th>\n",
       "      <td>0.090321</td>\n",
       "      <td>Warframe</td>\n",
       "    </tr>\n",
       "  </tbody>\n",
       "</table>\n",
       "<p>70519 rows × 2 columns</p>\n",
       "</div>"
      ],
      "text/plain": [
       "       viewer_count game_name\n",
       "0          0.942716  VALORANT\n",
       "1          0.913376  VALORANT\n",
       "2          0.881062  VALORANT\n",
       "3          0.874558  VALORANT\n",
       "4          0.836153  VALORANT\n",
       "...             ...       ...\n",
       "70514      0.113973  Warframe\n",
       "70515      0.090321  Warframe\n",
       "70516      0.090321  Warframe\n",
       "70517      0.090321  Warframe\n",
       "70518      0.090321  Warframe\n",
       "\n",
       "[70519 rows x 2 columns]"
      ]
     },
     "execution_count": 18,
     "metadata": {},
     "output_type": "execute_result"
    }
   ],
   "source": [
    "df_log_normalized"
   ]
  },
  {
   "cell_type": "markdown",
   "metadata": {},
   "source": [
    "## Which user streamed the most?"
   ]
  },
  {
   "cell_type": "code",
   "execution_count": 28,
   "metadata": {},
   "outputs": [
    {
     "data": {
      "text/html": [
       "<div>\n",
       "<style scoped>\n",
       "    .dataframe tbody tr th:only-of-type {\n",
       "        vertical-align: middle;\n",
       "    }\n",
       "\n",
       "    .dataframe tbody tr th {\n",
       "        vertical-align: top;\n",
       "    }\n",
       "\n",
       "    .dataframe thead th {\n",
       "        text-align: right;\n",
       "    }\n",
       "</style>\n",
       "<table border=\"1\" class=\"dataframe\">\n",
       "  <thead>\n",
       "    <tr style=\"text-align: right;\">\n",
       "      <th></th>\n",
       "      <th>viewer_count</th>\n",
       "    </tr>\n",
       "    <tr>\n",
       "      <th>user_name</th>\n",
       "      <th></th>\n",
       "    </tr>\n",
       "  </thead>\n",
       "  <tbody>\n",
       "    <tr>\n",
       "      <th>Anomaly</th>\n",
       "      <td>926286</td>\n",
       "    </tr>\n",
       "    <tr>\n",
       "      <th>summit1g</th>\n",
       "      <td>440478</td>\n",
       "    </tr>\n",
       "    <tr>\n",
       "      <th>Tfue</th>\n",
       "      <td>337512</td>\n",
       "    </tr>\n",
       "    <tr>\n",
       "      <th>fextralife</th>\n",
       "      <td>247577</td>\n",
       "    </tr>\n",
       "    <tr>\n",
       "      <th>LCS</th>\n",
       "      <td>213004</td>\n",
       "    </tr>\n",
       "    <tr>\n",
       "      <th>Asmongold</th>\n",
       "      <td>193266</td>\n",
       "    </tr>\n",
       "    <tr>\n",
       "      <th>ONSCREEN</th>\n",
       "      <td>192447</td>\n",
       "    </tr>\n",
       "    <tr>\n",
       "      <th>dota2mc_ru</th>\n",
       "      <td>191642</td>\n",
       "    </tr>\n",
       "    <tr>\n",
       "      <th>xQcOW</th>\n",
       "      <td>164338</td>\n",
       "    </tr>\n",
       "    <tr>\n",
       "      <th>Rubius</th>\n",
       "      <td>155156</td>\n",
       "    </tr>\n",
       "  </tbody>\n",
       "</table>\n",
       "</div>"
      ],
      "text/plain": [
       "            viewer_count\n",
       "user_name               \n",
       "Anomaly           926286\n",
       "summit1g          440478\n",
       "Tfue              337512\n",
       "fextralife        247577\n",
       "LCS               213004\n",
       "Asmongold         193266\n",
       "ONSCREEN          192447\n",
       "dota2mc_ru        191642\n",
       "xQcOW             164338\n",
       "Rubius            155156"
      ]
     },
     "execution_count": 28,
     "metadata": {},
     "output_type": "execute_result"
    }
   ],
   "source": [
    "df_user_game_name = pd.DataFrame(df_final.groupby('user_name')['viewer_count'].sum())\n",
    "df_top_10_user_name = df_user_game_name.nlargest(10,'viewer_count')\n",
    "df_top_10_user_name"
   ]
  },
  {
   "cell_type": "code",
   "execution_count": 33,
   "metadata": {},
   "outputs": [
    {
     "data": {
      "application/vnd.plotly.v1+json": {
       "config": {
        "plotlyServerURL": "https://plot.ly"
       },
       "data": [
        {
         "orientation": "h",
         "text": [
          "Anomaly",
          "Asmongold",
          "LCS",
          "ONSCREEN",
          "Rubius",
          "Tfue",
          "dota2mc_ru",
          "fextralife",
          "summit1g",
          "xQcOW"
         ],
         "type": "bar",
         "x": [
          926286,
          193266,
          213004,
          192447,
          155156,
          337512,
          191642,
          247577,
          440478,
          164338
         ],
         "y": [
          "Anomaly",
          "Asmongold",
          "LCS",
          "ONSCREEN",
          "Rubius",
          "Tfue",
          "dota2mc_ru",
          "fextralife",
          "summit1g",
          "xQcOW"
         ]
        }
       ],
       "layout": {
        "template": {
         "data": {
          "bar": [
           {
            "error_x": {
             "color": "#2a3f5f"
            },
            "error_y": {
             "color": "#2a3f5f"
            },
            "marker": {
             "line": {
              "color": "#E5ECF6",
              "width": 0.5
             }
            },
            "type": "bar"
           }
          ],
          "barpolar": [
           {
            "marker": {
             "line": {
              "color": "#E5ECF6",
              "width": 0.5
             }
            },
            "type": "barpolar"
           }
          ],
          "carpet": [
           {
            "aaxis": {
             "endlinecolor": "#2a3f5f",
             "gridcolor": "white",
             "linecolor": "white",
             "minorgridcolor": "white",
             "startlinecolor": "#2a3f5f"
            },
            "baxis": {
             "endlinecolor": "#2a3f5f",
             "gridcolor": "white",
             "linecolor": "white",
             "minorgridcolor": "white",
             "startlinecolor": "#2a3f5f"
            },
            "type": "carpet"
           }
          ],
          "choropleth": [
           {
            "colorbar": {
             "outlinewidth": 0,
             "ticks": ""
            },
            "type": "choropleth"
           }
          ],
          "contour": [
           {
            "colorbar": {
             "outlinewidth": 0,
             "ticks": ""
            },
            "colorscale": [
             [
              0,
              "#0d0887"
             ],
             [
              0.1111111111111111,
              "#46039f"
             ],
             [
              0.2222222222222222,
              "#7201a8"
             ],
             [
              0.3333333333333333,
              "#9c179e"
             ],
             [
              0.4444444444444444,
              "#bd3786"
             ],
             [
              0.5555555555555556,
              "#d8576b"
             ],
             [
              0.6666666666666666,
              "#ed7953"
             ],
             [
              0.7777777777777778,
              "#fb9f3a"
             ],
             [
              0.8888888888888888,
              "#fdca26"
             ],
             [
              1,
              "#f0f921"
             ]
            ],
            "type": "contour"
           }
          ],
          "contourcarpet": [
           {
            "colorbar": {
             "outlinewidth": 0,
             "ticks": ""
            },
            "type": "contourcarpet"
           }
          ],
          "heatmap": [
           {
            "colorbar": {
             "outlinewidth": 0,
             "ticks": ""
            },
            "colorscale": [
             [
              0,
              "#0d0887"
             ],
             [
              0.1111111111111111,
              "#46039f"
             ],
             [
              0.2222222222222222,
              "#7201a8"
             ],
             [
              0.3333333333333333,
              "#9c179e"
             ],
             [
              0.4444444444444444,
              "#bd3786"
             ],
             [
              0.5555555555555556,
              "#d8576b"
             ],
             [
              0.6666666666666666,
              "#ed7953"
             ],
             [
              0.7777777777777778,
              "#fb9f3a"
             ],
             [
              0.8888888888888888,
              "#fdca26"
             ],
             [
              1,
              "#f0f921"
             ]
            ],
            "type": "heatmap"
           }
          ],
          "heatmapgl": [
           {
            "colorbar": {
             "outlinewidth": 0,
             "ticks": ""
            },
            "colorscale": [
             [
              0,
              "#0d0887"
             ],
             [
              0.1111111111111111,
              "#46039f"
             ],
             [
              0.2222222222222222,
              "#7201a8"
             ],
             [
              0.3333333333333333,
              "#9c179e"
             ],
             [
              0.4444444444444444,
              "#bd3786"
             ],
             [
              0.5555555555555556,
              "#d8576b"
             ],
             [
              0.6666666666666666,
              "#ed7953"
             ],
             [
              0.7777777777777778,
              "#fb9f3a"
             ],
             [
              0.8888888888888888,
              "#fdca26"
             ],
             [
              1,
              "#f0f921"
             ]
            ],
            "type": "heatmapgl"
           }
          ],
          "histogram": [
           {
            "marker": {
             "colorbar": {
              "outlinewidth": 0,
              "ticks": ""
             }
            },
            "type": "histogram"
           }
          ],
          "histogram2d": [
           {
            "colorbar": {
             "outlinewidth": 0,
             "ticks": ""
            },
            "colorscale": [
             [
              0,
              "#0d0887"
             ],
             [
              0.1111111111111111,
              "#46039f"
             ],
             [
              0.2222222222222222,
              "#7201a8"
             ],
             [
              0.3333333333333333,
              "#9c179e"
             ],
             [
              0.4444444444444444,
              "#bd3786"
             ],
             [
              0.5555555555555556,
              "#d8576b"
             ],
             [
              0.6666666666666666,
              "#ed7953"
             ],
             [
              0.7777777777777778,
              "#fb9f3a"
             ],
             [
              0.8888888888888888,
              "#fdca26"
             ],
             [
              1,
              "#f0f921"
             ]
            ],
            "type": "histogram2d"
           }
          ],
          "histogram2dcontour": [
           {
            "colorbar": {
             "outlinewidth": 0,
             "ticks": ""
            },
            "colorscale": [
             [
              0,
              "#0d0887"
             ],
             [
              0.1111111111111111,
              "#46039f"
             ],
             [
              0.2222222222222222,
              "#7201a8"
             ],
             [
              0.3333333333333333,
              "#9c179e"
             ],
             [
              0.4444444444444444,
              "#bd3786"
             ],
             [
              0.5555555555555556,
              "#d8576b"
             ],
             [
              0.6666666666666666,
              "#ed7953"
             ],
             [
              0.7777777777777778,
              "#fb9f3a"
             ],
             [
              0.8888888888888888,
              "#fdca26"
             ],
             [
              1,
              "#f0f921"
             ]
            ],
            "type": "histogram2dcontour"
           }
          ],
          "mesh3d": [
           {
            "colorbar": {
             "outlinewidth": 0,
             "ticks": ""
            },
            "type": "mesh3d"
           }
          ],
          "parcoords": [
           {
            "line": {
             "colorbar": {
              "outlinewidth": 0,
              "ticks": ""
             }
            },
            "type": "parcoords"
           }
          ],
          "pie": [
           {
            "automargin": true,
            "type": "pie"
           }
          ],
          "scatter": [
           {
            "marker": {
             "colorbar": {
              "outlinewidth": 0,
              "ticks": ""
             }
            },
            "type": "scatter"
           }
          ],
          "scatter3d": [
           {
            "line": {
             "colorbar": {
              "outlinewidth": 0,
              "ticks": ""
             }
            },
            "marker": {
             "colorbar": {
              "outlinewidth": 0,
              "ticks": ""
             }
            },
            "type": "scatter3d"
           }
          ],
          "scattercarpet": [
           {
            "marker": {
             "colorbar": {
              "outlinewidth": 0,
              "ticks": ""
             }
            },
            "type": "scattercarpet"
           }
          ],
          "scattergeo": [
           {
            "marker": {
             "colorbar": {
              "outlinewidth": 0,
              "ticks": ""
             }
            },
            "type": "scattergeo"
           }
          ],
          "scattergl": [
           {
            "marker": {
             "colorbar": {
              "outlinewidth": 0,
              "ticks": ""
             }
            },
            "type": "scattergl"
           }
          ],
          "scattermapbox": [
           {
            "marker": {
             "colorbar": {
              "outlinewidth": 0,
              "ticks": ""
             }
            },
            "type": "scattermapbox"
           }
          ],
          "scatterpolar": [
           {
            "marker": {
             "colorbar": {
              "outlinewidth": 0,
              "ticks": ""
             }
            },
            "type": "scatterpolar"
           }
          ],
          "scatterpolargl": [
           {
            "marker": {
             "colorbar": {
              "outlinewidth": 0,
              "ticks": ""
             }
            },
            "type": "scatterpolargl"
           }
          ],
          "scatterternary": [
           {
            "marker": {
             "colorbar": {
              "outlinewidth": 0,
              "ticks": ""
             }
            },
            "type": "scatterternary"
           }
          ],
          "surface": [
           {
            "colorbar": {
             "outlinewidth": 0,
             "ticks": ""
            },
            "colorscale": [
             [
              0,
              "#0d0887"
             ],
             [
              0.1111111111111111,
              "#46039f"
             ],
             [
              0.2222222222222222,
              "#7201a8"
             ],
             [
              0.3333333333333333,
              "#9c179e"
             ],
             [
              0.4444444444444444,
              "#bd3786"
             ],
             [
              0.5555555555555556,
              "#d8576b"
             ],
             [
              0.6666666666666666,
              "#ed7953"
             ],
             [
              0.7777777777777778,
              "#fb9f3a"
             ],
             [
              0.8888888888888888,
              "#fdca26"
             ],
             [
              1,
              "#f0f921"
             ]
            ],
            "type": "surface"
           }
          ],
          "table": [
           {
            "cells": {
             "fill": {
              "color": "#EBF0F8"
             },
             "line": {
              "color": "white"
             }
            },
            "header": {
             "fill": {
              "color": "#C8D4E3"
             },
             "line": {
              "color": "white"
             }
            },
            "type": "table"
           }
          ]
         },
         "layout": {
          "annotationdefaults": {
           "arrowcolor": "#2a3f5f",
           "arrowhead": 0,
           "arrowwidth": 1
          },
          "coloraxis": {
           "colorbar": {
            "outlinewidth": 0,
            "ticks": ""
           }
          },
          "colorscale": {
           "diverging": [
            [
             0,
             "#8e0152"
            ],
            [
             0.1,
             "#c51b7d"
            ],
            [
             0.2,
             "#de77ae"
            ],
            [
             0.3,
             "#f1b6da"
            ],
            [
             0.4,
             "#fde0ef"
            ],
            [
             0.5,
             "#f7f7f7"
            ],
            [
             0.6,
             "#e6f5d0"
            ],
            [
             0.7,
             "#b8e186"
            ],
            [
             0.8,
             "#7fbc41"
            ],
            [
             0.9,
             "#4d9221"
            ],
            [
             1,
             "#276419"
            ]
           ],
           "sequential": [
            [
             0,
             "#0d0887"
            ],
            [
             0.1111111111111111,
             "#46039f"
            ],
            [
             0.2222222222222222,
             "#7201a8"
            ],
            [
             0.3333333333333333,
             "#9c179e"
            ],
            [
             0.4444444444444444,
             "#bd3786"
            ],
            [
             0.5555555555555556,
             "#d8576b"
            ],
            [
             0.6666666666666666,
             "#ed7953"
            ],
            [
             0.7777777777777778,
             "#fb9f3a"
            ],
            [
             0.8888888888888888,
             "#fdca26"
            ],
            [
             1,
             "#f0f921"
            ]
           ],
           "sequentialminus": [
            [
             0,
             "#0d0887"
            ],
            [
             0.1111111111111111,
             "#46039f"
            ],
            [
             0.2222222222222222,
             "#7201a8"
            ],
            [
             0.3333333333333333,
             "#9c179e"
            ],
            [
             0.4444444444444444,
             "#bd3786"
            ],
            [
             0.5555555555555556,
             "#d8576b"
            ],
            [
             0.6666666666666666,
             "#ed7953"
            ],
            [
             0.7777777777777778,
             "#fb9f3a"
            ],
            [
             0.8888888888888888,
             "#fdca26"
            ],
            [
             1,
             "#f0f921"
            ]
           ]
          },
          "colorway": [
           "#636efa",
           "#EF553B",
           "#00cc96",
           "#ab63fa",
           "#FFA15A",
           "#19d3f3",
           "#FF6692",
           "#B6E880",
           "#FF97FF",
           "#FECB52"
          ],
          "font": {
           "color": "#2a3f5f"
          },
          "geo": {
           "bgcolor": "white",
           "lakecolor": "white",
           "landcolor": "#E5ECF6",
           "showlakes": true,
           "showland": true,
           "subunitcolor": "white"
          },
          "hoverlabel": {
           "align": "left"
          },
          "hovermode": "closest",
          "mapbox": {
           "style": "light"
          },
          "paper_bgcolor": "white",
          "plot_bgcolor": "#E5ECF6",
          "polar": {
           "angularaxis": {
            "gridcolor": "white",
            "linecolor": "white",
            "ticks": ""
           },
           "bgcolor": "#E5ECF6",
           "radialaxis": {
            "gridcolor": "white",
            "linecolor": "white",
            "ticks": ""
           }
          },
          "scene": {
           "xaxis": {
            "backgroundcolor": "#E5ECF6",
            "gridcolor": "white",
            "gridwidth": 2,
            "linecolor": "white",
            "showbackground": true,
            "ticks": "",
            "zerolinecolor": "white"
           },
           "yaxis": {
            "backgroundcolor": "#E5ECF6",
            "gridcolor": "white",
            "gridwidth": 2,
            "linecolor": "white",
            "showbackground": true,
            "ticks": "",
            "zerolinecolor": "white"
           },
           "zaxis": {
            "backgroundcolor": "#E5ECF6",
            "gridcolor": "white",
            "gridwidth": 2,
            "linecolor": "white",
            "showbackground": true,
            "ticks": "",
            "zerolinecolor": "white"
           }
          },
          "shapedefaults": {
           "line": {
            "color": "#2a3f5f"
           }
          },
          "ternary": {
           "aaxis": {
            "gridcolor": "white",
            "linecolor": "white",
            "ticks": ""
           },
           "baxis": {
            "gridcolor": "white",
            "linecolor": "white",
            "ticks": ""
           },
           "bgcolor": "#E5ECF6",
           "caxis": {
            "gridcolor": "white",
            "linecolor": "white",
            "ticks": ""
           }
          },
          "title": {
           "x": 0.05
          },
          "xaxis": {
           "automargin": true,
           "gridcolor": "white",
           "linecolor": "white",
           "ticks": "",
           "title": {
            "standoff": 15
           },
           "zerolinecolor": "white",
           "zerolinewidth": 2
          },
          "yaxis": {
           "automargin": true,
           "gridcolor": "white",
           "linecolor": "white",
           "ticks": "",
           "title": {
            "standoff": 15
           },
           "zerolinecolor": "white",
           "zerolinewidth": 2
          }
         }
        }
       }
      },
      "text/html": [
       "<div>\n",
       "        \n",
       "        \n",
       "            <div id=\"d7ff425a-9167-4369-9b9f-0df7aa2aff9a\" class=\"plotly-graph-div\" style=\"height:525px; width:100%;\"></div>\n",
       "            <script type=\"text/javascript\">\n",
       "                require([\"plotly\"], function(Plotly) {\n",
       "                    window.PLOTLYENV=window.PLOTLYENV || {};\n",
       "                    \n",
       "                if (document.getElementById(\"d7ff425a-9167-4369-9b9f-0df7aa2aff9a\")) {\n",
       "                    Plotly.newPlot(\n",
       "                        'd7ff425a-9167-4369-9b9f-0df7aa2aff9a',\n",
       "                        [{\"orientation\": \"h\", \"text\": [\"Anomaly\", \"Asmongold\", \"LCS\", \"ONSCREEN\", \"Rubius\", \"Tfue\", \"dota2mc_ru\", \"fextralife\", \"summit1g\", \"xQcOW\"], \"type\": \"bar\", \"x\": [926286, 193266, 213004, 192447, 155156, 337512, 191642, 247577, 440478, 164338], \"y\": [\"Anomaly\", \"Asmongold\", \"LCS\", \"ONSCREEN\", \"Rubius\", \"Tfue\", \"dota2mc_ru\", \"fextralife\", \"summit1g\", \"xQcOW\"]}],\n",
       "                        {\"template\": {\"data\": {\"bar\": [{\"error_x\": {\"color\": \"#2a3f5f\"}, \"error_y\": {\"color\": \"#2a3f5f\"}, \"marker\": {\"line\": {\"color\": \"#E5ECF6\", \"width\": 0.5}}, \"type\": \"bar\"}], \"barpolar\": [{\"marker\": {\"line\": {\"color\": \"#E5ECF6\", \"width\": 0.5}}, \"type\": \"barpolar\"}], \"carpet\": [{\"aaxis\": {\"endlinecolor\": \"#2a3f5f\", \"gridcolor\": \"white\", \"linecolor\": \"white\", \"minorgridcolor\": \"white\", \"startlinecolor\": \"#2a3f5f\"}, \"baxis\": {\"endlinecolor\": \"#2a3f5f\", \"gridcolor\": \"white\", \"linecolor\": \"white\", \"minorgridcolor\": \"white\", \"startlinecolor\": \"#2a3f5f\"}, \"type\": \"carpet\"}], \"choropleth\": [{\"colorbar\": {\"outlinewidth\": 0, \"ticks\": \"\"}, \"type\": \"choropleth\"}], \"contour\": [{\"colorbar\": {\"outlinewidth\": 0, \"ticks\": \"\"}, \"colorscale\": [[0.0, \"#0d0887\"], [0.1111111111111111, \"#46039f\"], [0.2222222222222222, \"#7201a8\"], [0.3333333333333333, \"#9c179e\"], [0.4444444444444444, \"#bd3786\"], [0.5555555555555556, \"#d8576b\"], [0.6666666666666666, \"#ed7953\"], [0.7777777777777778, \"#fb9f3a\"], [0.8888888888888888, \"#fdca26\"], [1.0, \"#f0f921\"]], \"type\": \"contour\"}], \"contourcarpet\": [{\"colorbar\": {\"outlinewidth\": 0, \"ticks\": \"\"}, \"type\": \"contourcarpet\"}], \"heatmap\": [{\"colorbar\": {\"outlinewidth\": 0, \"ticks\": \"\"}, \"colorscale\": [[0.0, \"#0d0887\"], [0.1111111111111111, \"#46039f\"], [0.2222222222222222, \"#7201a8\"], [0.3333333333333333, \"#9c179e\"], [0.4444444444444444, \"#bd3786\"], [0.5555555555555556, \"#d8576b\"], [0.6666666666666666, \"#ed7953\"], [0.7777777777777778, \"#fb9f3a\"], [0.8888888888888888, \"#fdca26\"], [1.0, \"#f0f921\"]], \"type\": \"heatmap\"}], \"heatmapgl\": [{\"colorbar\": {\"outlinewidth\": 0, \"ticks\": \"\"}, \"colorscale\": [[0.0, \"#0d0887\"], [0.1111111111111111, \"#46039f\"], [0.2222222222222222, \"#7201a8\"], [0.3333333333333333, \"#9c179e\"], [0.4444444444444444, \"#bd3786\"], [0.5555555555555556, \"#d8576b\"], [0.6666666666666666, \"#ed7953\"], [0.7777777777777778, \"#fb9f3a\"], [0.8888888888888888, \"#fdca26\"], [1.0, \"#f0f921\"]], \"type\": \"heatmapgl\"}], \"histogram\": [{\"marker\": {\"colorbar\": {\"outlinewidth\": 0, \"ticks\": \"\"}}, \"type\": \"histogram\"}], \"histogram2d\": [{\"colorbar\": {\"outlinewidth\": 0, \"ticks\": \"\"}, \"colorscale\": [[0.0, \"#0d0887\"], [0.1111111111111111, \"#46039f\"], [0.2222222222222222, \"#7201a8\"], [0.3333333333333333, \"#9c179e\"], [0.4444444444444444, \"#bd3786\"], [0.5555555555555556, \"#d8576b\"], [0.6666666666666666, \"#ed7953\"], [0.7777777777777778, \"#fb9f3a\"], [0.8888888888888888, \"#fdca26\"], [1.0, \"#f0f921\"]], \"type\": \"histogram2d\"}], \"histogram2dcontour\": [{\"colorbar\": {\"outlinewidth\": 0, \"ticks\": \"\"}, \"colorscale\": [[0.0, \"#0d0887\"], [0.1111111111111111, \"#46039f\"], [0.2222222222222222, \"#7201a8\"], [0.3333333333333333, \"#9c179e\"], [0.4444444444444444, \"#bd3786\"], [0.5555555555555556, \"#d8576b\"], [0.6666666666666666, \"#ed7953\"], [0.7777777777777778, \"#fb9f3a\"], [0.8888888888888888, \"#fdca26\"], [1.0, \"#f0f921\"]], \"type\": \"histogram2dcontour\"}], \"mesh3d\": [{\"colorbar\": {\"outlinewidth\": 0, \"ticks\": \"\"}, \"type\": \"mesh3d\"}], \"parcoords\": [{\"line\": {\"colorbar\": {\"outlinewidth\": 0, \"ticks\": \"\"}}, \"type\": \"parcoords\"}], \"pie\": [{\"automargin\": true, \"type\": \"pie\"}], \"scatter\": [{\"marker\": {\"colorbar\": {\"outlinewidth\": 0, \"ticks\": \"\"}}, \"type\": \"scatter\"}], \"scatter3d\": [{\"line\": {\"colorbar\": {\"outlinewidth\": 0, \"ticks\": \"\"}}, \"marker\": {\"colorbar\": {\"outlinewidth\": 0, \"ticks\": \"\"}}, \"type\": \"scatter3d\"}], \"scattercarpet\": [{\"marker\": {\"colorbar\": {\"outlinewidth\": 0, \"ticks\": \"\"}}, \"type\": \"scattercarpet\"}], \"scattergeo\": [{\"marker\": {\"colorbar\": {\"outlinewidth\": 0, \"ticks\": \"\"}}, \"type\": \"scattergeo\"}], \"scattergl\": [{\"marker\": {\"colorbar\": {\"outlinewidth\": 0, \"ticks\": \"\"}}, \"type\": \"scattergl\"}], \"scattermapbox\": [{\"marker\": {\"colorbar\": {\"outlinewidth\": 0, \"ticks\": \"\"}}, \"type\": \"scattermapbox\"}], \"scatterpolar\": [{\"marker\": {\"colorbar\": {\"outlinewidth\": 0, \"ticks\": \"\"}}, \"type\": \"scatterpolar\"}], \"scatterpolargl\": [{\"marker\": {\"colorbar\": {\"outlinewidth\": 0, \"ticks\": \"\"}}, \"type\": \"scatterpolargl\"}], \"scatterternary\": [{\"marker\": {\"colorbar\": {\"outlinewidth\": 0, \"ticks\": \"\"}}, \"type\": \"scatterternary\"}], \"surface\": [{\"colorbar\": {\"outlinewidth\": 0, \"ticks\": \"\"}, \"colorscale\": [[0.0, \"#0d0887\"], [0.1111111111111111, \"#46039f\"], [0.2222222222222222, \"#7201a8\"], [0.3333333333333333, \"#9c179e\"], [0.4444444444444444, \"#bd3786\"], [0.5555555555555556, \"#d8576b\"], [0.6666666666666666, \"#ed7953\"], [0.7777777777777778, \"#fb9f3a\"], [0.8888888888888888, \"#fdca26\"], [1.0, \"#f0f921\"]], \"type\": \"surface\"}], \"table\": [{\"cells\": {\"fill\": {\"color\": \"#EBF0F8\"}, \"line\": {\"color\": \"white\"}}, \"header\": {\"fill\": {\"color\": \"#C8D4E3\"}, \"line\": {\"color\": \"white\"}}, \"type\": \"table\"}]}, \"layout\": {\"annotationdefaults\": {\"arrowcolor\": \"#2a3f5f\", \"arrowhead\": 0, \"arrowwidth\": 1}, \"coloraxis\": {\"colorbar\": {\"outlinewidth\": 0, \"ticks\": \"\"}}, \"colorscale\": {\"diverging\": [[0, \"#8e0152\"], [0.1, \"#c51b7d\"], [0.2, \"#de77ae\"], [0.3, \"#f1b6da\"], [0.4, \"#fde0ef\"], [0.5, \"#f7f7f7\"], [0.6, \"#e6f5d0\"], [0.7, \"#b8e186\"], [0.8, \"#7fbc41\"], [0.9, \"#4d9221\"], [1, \"#276419\"]], \"sequential\": [[0.0, \"#0d0887\"], [0.1111111111111111, \"#46039f\"], [0.2222222222222222, \"#7201a8\"], [0.3333333333333333, \"#9c179e\"], [0.4444444444444444, \"#bd3786\"], [0.5555555555555556, \"#d8576b\"], [0.6666666666666666, \"#ed7953\"], [0.7777777777777778, \"#fb9f3a\"], [0.8888888888888888, \"#fdca26\"], [1.0, \"#f0f921\"]], \"sequentialminus\": [[0.0, \"#0d0887\"], [0.1111111111111111, \"#46039f\"], [0.2222222222222222, \"#7201a8\"], [0.3333333333333333, \"#9c179e\"], [0.4444444444444444, \"#bd3786\"], [0.5555555555555556, \"#d8576b\"], [0.6666666666666666, \"#ed7953\"], [0.7777777777777778, \"#fb9f3a\"], [0.8888888888888888, \"#fdca26\"], [1.0, \"#f0f921\"]]}, \"colorway\": [\"#636efa\", \"#EF553B\", \"#00cc96\", \"#ab63fa\", \"#FFA15A\", \"#19d3f3\", \"#FF6692\", \"#B6E880\", \"#FF97FF\", \"#FECB52\"], \"font\": {\"color\": \"#2a3f5f\"}, \"geo\": {\"bgcolor\": \"white\", \"lakecolor\": \"white\", \"landcolor\": \"#E5ECF6\", \"showlakes\": true, \"showland\": true, \"subunitcolor\": \"white\"}, \"hoverlabel\": {\"align\": \"left\"}, \"hovermode\": \"closest\", \"mapbox\": {\"style\": \"light\"}, \"paper_bgcolor\": \"white\", \"plot_bgcolor\": \"#E5ECF6\", \"polar\": {\"angularaxis\": {\"gridcolor\": \"white\", \"linecolor\": \"white\", \"ticks\": \"\"}, \"bgcolor\": \"#E5ECF6\", \"radialaxis\": {\"gridcolor\": \"white\", \"linecolor\": \"white\", \"ticks\": \"\"}}, \"scene\": {\"xaxis\": {\"backgroundcolor\": \"#E5ECF6\", \"gridcolor\": \"white\", \"gridwidth\": 2, \"linecolor\": \"white\", \"showbackground\": true, \"ticks\": \"\", \"zerolinecolor\": \"white\"}, \"yaxis\": {\"backgroundcolor\": \"#E5ECF6\", \"gridcolor\": \"white\", \"gridwidth\": 2, \"linecolor\": \"white\", \"showbackground\": true, \"ticks\": \"\", \"zerolinecolor\": \"white\"}, \"zaxis\": {\"backgroundcolor\": \"#E5ECF6\", \"gridcolor\": \"white\", \"gridwidth\": 2, \"linecolor\": \"white\", \"showbackground\": true, \"ticks\": \"\", \"zerolinecolor\": \"white\"}}, \"shapedefaults\": {\"line\": {\"color\": \"#2a3f5f\"}}, \"ternary\": {\"aaxis\": {\"gridcolor\": \"white\", \"linecolor\": \"white\", \"ticks\": \"\"}, \"baxis\": {\"gridcolor\": \"white\", \"linecolor\": \"white\", \"ticks\": \"\"}, \"bgcolor\": \"#E5ECF6\", \"caxis\": {\"gridcolor\": \"white\", \"linecolor\": \"white\", \"ticks\": \"\"}}, \"title\": {\"x\": 0.05}, \"xaxis\": {\"automargin\": true, \"gridcolor\": \"white\", \"linecolor\": \"white\", \"ticks\": \"\", \"title\": {\"standoff\": 15}, \"zerolinecolor\": \"white\", \"zerolinewidth\": 2}, \"yaxis\": {\"automargin\": true, \"gridcolor\": \"white\", \"linecolor\": \"white\", \"ticks\": \"\", \"title\": {\"standoff\": 15}, \"zerolinecolor\": \"white\", \"zerolinewidth\": 2}}}},\n",
       "                        {\"responsive\": true}\n",
       "                    ).then(function(){\n",
       "                            \n",
       "var gd = document.getElementById('d7ff425a-9167-4369-9b9f-0df7aa2aff9a');\n",
       "var x = new MutationObserver(function (mutations, observer) {{\n",
       "        var display = window.getComputedStyle(gd).display;\n",
       "        if (!display || display === 'none') {{\n",
       "            console.log([gd, 'removed!']);\n",
       "            Plotly.purge(gd);\n",
       "            observer.disconnect();\n",
       "        }}\n",
       "}});\n",
       "\n",
       "// Listen for the removal of the full notebook cells\n",
       "var notebookContainer = gd.closest('#notebook-container');\n",
       "if (notebookContainer) {{\n",
       "    x.observe(notebookContainer, {childList: true});\n",
       "}}\n",
       "\n",
       "// Listen for the clearing of the current output cell\n",
       "var outputEl = gd.closest('.output');\n",
       "if (outputEl) {{\n",
       "    x.observe(outputEl, {childList: true});\n",
       "}}\n",
       "\n",
       "                        })\n",
       "                };\n",
       "                });\n",
       "            </script>\n",
       "        </div>"
      ]
     },
     "metadata": {},
     "output_type": "display_data"
    }
   ],
   "source": [
    "import plotly.graph_objects as go\n",
    "import pandas as pd\n",
    "\n",
    "data= pd.DataFrame(df_top_10_user_name.groupby('user_name')['viewer_count'].sum()).reset_index()\n",
    "\n",
    "# fig = go.Figure(data=go.Scatter(x=data['viewer_count'],\n",
    "#                                 y=data['user_name'],\n",
    "#                                 mode='markers',\n",
    "#                                 text=data['user_name'])) \n",
    "\n",
    "fig = go.Figure(go.Bar(\n",
    "            x=data['viewer_count'],\n",
    "            y=data['user_name'],\n",
    "            text=data['user_name'],\n",
    "            orientation='h',template=\"plotly_dark\"))\n",
    " \n",
    "\n",
    "# fig.update_layout(title='Top 10 users who streamed',height=600)\n",
    "fig.show()"
   ]
  },
  {
   "cell_type": "markdown",
   "metadata": {},
   "source": [
    "## Which game was streamed the most?"
   ]
  },
  {
   "cell_type": "code",
   "execution_count": 21,
   "metadata": {},
   "outputs": [
    {
     "data": {
      "text/html": [
       "<div>\n",
       "<style scoped>\n",
       "    .dataframe tbody tr th:only-of-type {\n",
       "        vertical-align: middle;\n",
       "    }\n",
       "\n",
       "    .dataframe tbody tr th {\n",
       "        vertical-align: top;\n",
       "    }\n",
       "\n",
       "    .dataframe thead th {\n",
       "        text-align: right;\n",
       "    }\n",
       "</style>\n",
       "<table border=\"1\" class=\"dataframe\">\n",
       "  <thead>\n",
       "    <tr style=\"text-align: right;\">\n",
       "      <th></th>\n",
       "      <th>viewer_count</th>\n",
       "    </tr>\n",
       "    <tr>\n",
       "      <th>game_name</th>\n",
       "      <th></th>\n",
       "    </tr>\n",
       "  </thead>\n",
       "  <tbody>\n",
       "    <tr>\n",
       "      <th>VALORANT</th>\n",
       "      <td>4380352</td>\n",
       "    </tr>\n",
       "    <tr>\n",
       "      <th>Fortnite</th>\n",
       "      <td>1923512</td>\n",
       "    </tr>\n",
       "    <tr>\n",
       "      <th>Just Chatting</th>\n",
       "      <td>1720439</td>\n",
       "    </tr>\n",
       "    <tr>\n",
       "      <th>League of Legends</th>\n",
       "      <td>1541178</td>\n",
       "    </tr>\n",
       "    <tr>\n",
       "      <th>Grand Theft Auto V</th>\n",
       "      <td>1140687</td>\n",
       "    </tr>\n",
       "    <tr>\n",
       "      <th>Call of Duty: Modern Warfare</th>\n",
       "      <td>987869</td>\n",
       "    </tr>\n",
       "    <tr>\n",
       "      <th>Dota 2</th>\n",
       "      <td>941166</td>\n",
       "    </tr>\n",
       "    <tr>\n",
       "      <th>Counter-Strike: Global Offensive</th>\n",
       "      <td>913273</td>\n",
       "    </tr>\n",
       "    <tr>\n",
       "      <th>Minecraft</th>\n",
       "      <td>671299</td>\n",
       "    </tr>\n",
       "    <tr>\n",
       "      <th>World of Warcraft</th>\n",
       "      <td>499039</td>\n",
       "    </tr>\n",
       "  </tbody>\n",
       "</table>\n",
       "</div>"
      ],
      "text/plain": [
       "                                  viewer_count\n",
       "game_name                                     \n",
       "VALORANT                               4380352\n",
       "Fortnite                               1923512\n",
       "Just Chatting                          1720439\n",
       "League of Legends                      1541178\n",
       "Grand Theft Auto V                     1140687\n",
       "Call of Duty: Modern Warfare            987869\n",
       "Dota 2                                  941166\n",
       "Counter-Strike: Global Offensive        913273\n",
       "Minecraft                               671299\n",
       "World of Warcraft                       499039"
      ]
     },
     "execution_count": 21,
     "metadata": {},
     "output_type": "execute_result"
    }
   ],
   "source": [
    "df_group_game_name = pd.DataFrame(df_final.groupby('game_name')['viewer_count'].sum())\n",
    "df_top_10_game_name = df_group_game_name.nlargest(10,'viewer_count')\n",
    "df_top_10_game_name"
   ]
  },
  {
   "cell_type": "code",
   "execution_count": 22,
   "metadata": {},
   "outputs": [
    {
     "data": {
      "application/vnd.plotly.v1+json": {
       "config": {
        "plotlyServerURL": "https://plot.ly"
       },
       "data": [
        {
         "mode": "markers",
         "text": [
          "Call of Duty: Modern Warfare",
          "Counter-Strike: Global Offensive",
          "Dota 2",
          "Fortnite",
          "Grand Theft Auto V",
          "Just Chatting",
          "League of Legends",
          "Minecraft",
          "VALORANT",
          "World of Warcraft"
         ],
         "type": "scatter",
         "x": [
          987869,
          913273,
          941166,
          1923512,
          1140687,
          1720439,
          1541178,
          671299,
          4380352,
          499039
         ],
         "y": [
          "Call of Duty: Modern Warfare",
          "Counter-Strike: Global Offensive",
          "Dota 2",
          "Fortnite",
          "Grand Theft Auto V",
          "Just Chatting",
          "League of Legends",
          "Minecraft",
          "VALORANT",
          "World of Warcraft"
         ]
        }
       ],
       "layout": {
        "height": 600,
        "template": {
         "data": {
          "bar": [
           {
            "error_x": {
             "color": "#2a3f5f"
            },
            "error_y": {
             "color": "#2a3f5f"
            },
            "marker": {
             "line": {
              "color": "#E5ECF6",
              "width": 0.5
             }
            },
            "type": "bar"
           }
          ],
          "barpolar": [
           {
            "marker": {
             "line": {
              "color": "#E5ECF6",
              "width": 0.5
             }
            },
            "type": "barpolar"
           }
          ],
          "carpet": [
           {
            "aaxis": {
             "endlinecolor": "#2a3f5f",
             "gridcolor": "white",
             "linecolor": "white",
             "minorgridcolor": "white",
             "startlinecolor": "#2a3f5f"
            },
            "baxis": {
             "endlinecolor": "#2a3f5f",
             "gridcolor": "white",
             "linecolor": "white",
             "minorgridcolor": "white",
             "startlinecolor": "#2a3f5f"
            },
            "type": "carpet"
           }
          ],
          "choropleth": [
           {
            "colorbar": {
             "outlinewidth": 0,
             "ticks": ""
            },
            "type": "choropleth"
           }
          ],
          "contour": [
           {
            "colorbar": {
             "outlinewidth": 0,
             "ticks": ""
            },
            "colorscale": [
             [
              0,
              "#0d0887"
             ],
             [
              0.1111111111111111,
              "#46039f"
             ],
             [
              0.2222222222222222,
              "#7201a8"
             ],
             [
              0.3333333333333333,
              "#9c179e"
             ],
             [
              0.4444444444444444,
              "#bd3786"
             ],
             [
              0.5555555555555556,
              "#d8576b"
             ],
             [
              0.6666666666666666,
              "#ed7953"
             ],
             [
              0.7777777777777778,
              "#fb9f3a"
             ],
             [
              0.8888888888888888,
              "#fdca26"
             ],
             [
              1,
              "#f0f921"
             ]
            ],
            "type": "contour"
           }
          ],
          "contourcarpet": [
           {
            "colorbar": {
             "outlinewidth": 0,
             "ticks": ""
            },
            "type": "contourcarpet"
           }
          ],
          "heatmap": [
           {
            "colorbar": {
             "outlinewidth": 0,
             "ticks": ""
            },
            "colorscale": [
             [
              0,
              "#0d0887"
             ],
             [
              0.1111111111111111,
              "#46039f"
             ],
             [
              0.2222222222222222,
              "#7201a8"
             ],
             [
              0.3333333333333333,
              "#9c179e"
             ],
             [
              0.4444444444444444,
              "#bd3786"
             ],
             [
              0.5555555555555556,
              "#d8576b"
             ],
             [
              0.6666666666666666,
              "#ed7953"
             ],
             [
              0.7777777777777778,
              "#fb9f3a"
             ],
             [
              0.8888888888888888,
              "#fdca26"
             ],
             [
              1,
              "#f0f921"
             ]
            ],
            "type": "heatmap"
           }
          ],
          "heatmapgl": [
           {
            "colorbar": {
             "outlinewidth": 0,
             "ticks": ""
            },
            "colorscale": [
             [
              0,
              "#0d0887"
             ],
             [
              0.1111111111111111,
              "#46039f"
             ],
             [
              0.2222222222222222,
              "#7201a8"
             ],
             [
              0.3333333333333333,
              "#9c179e"
             ],
             [
              0.4444444444444444,
              "#bd3786"
             ],
             [
              0.5555555555555556,
              "#d8576b"
             ],
             [
              0.6666666666666666,
              "#ed7953"
             ],
             [
              0.7777777777777778,
              "#fb9f3a"
             ],
             [
              0.8888888888888888,
              "#fdca26"
             ],
             [
              1,
              "#f0f921"
             ]
            ],
            "type": "heatmapgl"
           }
          ],
          "histogram": [
           {
            "marker": {
             "colorbar": {
              "outlinewidth": 0,
              "ticks": ""
             }
            },
            "type": "histogram"
           }
          ],
          "histogram2d": [
           {
            "colorbar": {
             "outlinewidth": 0,
             "ticks": ""
            },
            "colorscale": [
             [
              0,
              "#0d0887"
             ],
             [
              0.1111111111111111,
              "#46039f"
             ],
             [
              0.2222222222222222,
              "#7201a8"
             ],
             [
              0.3333333333333333,
              "#9c179e"
             ],
             [
              0.4444444444444444,
              "#bd3786"
             ],
             [
              0.5555555555555556,
              "#d8576b"
             ],
             [
              0.6666666666666666,
              "#ed7953"
             ],
             [
              0.7777777777777778,
              "#fb9f3a"
             ],
             [
              0.8888888888888888,
              "#fdca26"
             ],
             [
              1,
              "#f0f921"
             ]
            ],
            "type": "histogram2d"
           }
          ],
          "histogram2dcontour": [
           {
            "colorbar": {
             "outlinewidth": 0,
             "ticks": ""
            },
            "colorscale": [
             [
              0,
              "#0d0887"
             ],
             [
              0.1111111111111111,
              "#46039f"
             ],
             [
              0.2222222222222222,
              "#7201a8"
             ],
             [
              0.3333333333333333,
              "#9c179e"
             ],
             [
              0.4444444444444444,
              "#bd3786"
             ],
             [
              0.5555555555555556,
              "#d8576b"
             ],
             [
              0.6666666666666666,
              "#ed7953"
             ],
             [
              0.7777777777777778,
              "#fb9f3a"
             ],
             [
              0.8888888888888888,
              "#fdca26"
             ],
             [
              1,
              "#f0f921"
             ]
            ],
            "type": "histogram2dcontour"
           }
          ],
          "mesh3d": [
           {
            "colorbar": {
             "outlinewidth": 0,
             "ticks": ""
            },
            "type": "mesh3d"
           }
          ],
          "parcoords": [
           {
            "line": {
             "colorbar": {
              "outlinewidth": 0,
              "ticks": ""
             }
            },
            "type": "parcoords"
           }
          ],
          "pie": [
           {
            "automargin": true,
            "type": "pie"
           }
          ],
          "scatter": [
           {
            "marker": {
             "colorbar": {
              "outlinewidth": 0,
              "ticks": ""
             }
            },
            "type": "scatter"
           }
          ],
          "scatter3d": [
           {
            "line": {
             "colorbar": {
              "outlinewidth": 0,
              "ticks": ""
             }
            },
            "marker": {
             "colorbar": {
              "outlinewidth": 0,
              "ticks": ""
             }
            },
            "type": "scatter3d"
           }
          ],
          "scattercarpet": [
           {
            "marker": {
             "colorbar": {
              "outlinewidth": 0,
              "ticks": ""
             }
            },
            "type": "scattercarpet"
           }
          ],
          "scattergeo": [
           {
            "marker": {
             "colorbar": {
              "outlinewidth": 0,
              "ticks": ""
             }
            },
            "type": "scattergeo"
           }
          ],
          "scattergl": [
           {
            "marker": {
             "colorbar": {
              "outlinewidth": 0,
              "ticks": ""
             }
            },
            "type": "scattergl"
           }
          ],
          "scattermapbox": [
           {
            "marker": {
             "colorbar": {
              "outlinewidth": 0,
              "ticks": ""
             }
            },
            "type": "scattermapbox"
           }
          ],
          "scatterpolar": [
           {
            "marker": {
             "colorbar": {
              "outlinewidth": 0,
              "ticks": ""
             }
            },
            "type": "scatterpolar"
           }
          ],
          "scatterpolargl": [
           {
            "marker": {
             "colorbar": {
              "outlinewidth": 0,
              "ticks": ""
             }
            },
            "type": "scatterpolargl"
           }
          ],
          "scatterternary": [
           {
            "marker": {
             "colorbar": {
              "outlinewidth": 0,
              "ticks": ""
             }
            },
            "type": "scatterternary"
           }
          ],
          "surface": [
           {
            "colorbar": {
             "outlinewidth": 0,
             "ticks": ""
            },
            "colorscale": [
             [
              0,
              "#0d0887"
             ],
             [
              0.1111111111111111,
              "#46039f"
             ],
             [
              0.2222222222222222,
              "#7201a8"
             ],
             [
              0.3333333333333333,
              "#9c179e"
             ],
             [
              0.4444444444444444,
              "#bd3786"
             ],
             [
              0.5555555555555556,
              "#d8576b"
             ],
             [
              0.6666666666666666,
              "#ed7953"
             ],
             [
              0.7777777777777778,
              "#fb9f3a"
             ],
             [
              0.8888888888888888,
              "#fdca26"
             ],
             [
              1,
              "#f0f921"
             ]
            ],
            "type": "surface"
           }
          ],
          "table": [
           {
            "cells": {
             "fill": {
              "color": "#EBF0F8"
             },
             "line": {
              "color": "white"
             }
            },
            "header": {
             "fill": {
              "color": "#C8D4E3"
             },
             "line": {
              "color": "white"
             }
            },
            "type": "table"
           }
          ]
         },
         "layout": {
          "annotationdefaults": {
           "arrowcolor": "#2a3f5f",
           "arrowhead": 0,
           "arrowwidth": 1
          },
          "coloraxis": {
           "colorbar": {
            "outlinewidth": 0,
            "ticks": ""
           }
          },
          "colorscale": {
           "diverging": [
            [
             0,
             "#8e0152"
            ],
            [
             0.1,
             "#c51b7d"
            ],
            [
             0.2,
             "#de77ae"
            ],
            [
             0.3,
             "#f1b6da"
            ],
            [
             0.4,
             "#fde0ef"
            ],
            [
             0.5,
             "#f7f7f7"
            ],
            [
             0.6,
             "#e6f5d0"
            ],
            [
             0.7,
             "#b8e186"
            ],
            [
             0.8,
             "#7fbc41"
            ],
            [
             0.9,
             "#4d9221"
            ],
            [
             1,
             "#276419"
            ]
           ],
           "sequential": [
            [
             0,
             "#0d0887"
            ],
            [
             0.1111111111111111,
             "#46039f"
            ],
            [
             0.2222222222222222,
             "#7201a8"
            ],
            [
             0.3333333333333333,
             "#9c179e"
            ],
            [
             0.4444444444444444,
             "#bd3786"
            ],
            [
             0.5555555555555556,
             "#d8576b"
            ],
            [
             0.6666666666666666,
             "#ed7953"
            ],
            [
             0.7777777777777778,
             "#fb9f3a"
            ],
            [
             0.8888888888888888,
             "#fdca26"
            ],
            [
             1,
             "#f0f921"
            ]
           ],
           "sequentialminus": [
            [
             0,
             "#0d0887"
            ],
            [
             0.1111111111111111,
             "#46039f"
            ],
            [
             0.2222222222222222,
             "#7201a8"
            ],
            [
             0.3333333333333333,
             "#9c179e"
            ],
            [
             0.4444444444444444,
             "#bd3786"
            ],
            [
             0.5555555555555556,
             "#d8576b"
            ],
            [
             0.6666666666666666,
             "#ed7953"
            ],
            [
             0.7777777777777778,
             "#fb9f3a"
            ],
            [
             0.8888888888888888,
             "#fdca26"
            ],
            [
             1,
             "#f0f921"
            ]
           ]
          },
          "colorway": [
           "#636efa",
           "#EF553B",
           "#00cc96",
           "#ab63fa",
           "#FFA15A",
           "#19d3f3",
           "#FF6692",
           "#B6E880",
           "#FF97FF",
           "#FECB52"
          ],
          "font": {
           "color": "#2a3f5f"
          },
          "geo": {
           "bgcolor": "white",
           "lakecolor": "white",
           "landcolor": "#E5ECF6",
           "showlakes": true,
           "showland": true,
           "subunitcolor": "white"
          },
          "hoverlabel": {
           "align": "left"
          },
          "hovermode": "closest",
          "mapbox": {
           "style": "light"
          },
          "paper_bgcolor": "white",
          "plot_bgcolor": "#E5ECF6",
          "polar": {
           "angularaxis": {
            "gridcolor": "white",
            "linecolor": "white",
            "ticks": ""
           },
           "bgcolor": "#E5ECF6",
           "radialaxis": {
            "gridcolor": "white",
            "linecolor": "white",
            "ticks": ""
           }
          },
          "scene": {
           "xaxis": {
            "backgroundcolor": "#E5ECF6",
            "gridcolor": "white",
            "gridwidth": 2,
            "linecolor": "white",
            "showbackground": true,
            "ticks": "",
            "zerolinecolor": "white"
           },
           "yaxis": {
            "backgroundcolor": "#E5ECF6",
            "gridcolor": "white",
            "gridwidth": 2,
            "linecolor": "white",
            "showbackground": true,
            "ticks": "",
            "zerolinecolor": "white"
           },
           "zaxis": {
            "backgroundcolor": "#E5ECF6",
            "gridcolor": "white",
            "gridwidth": 2,
            "linecolor": "white",
            "showbackground": true,
            "ticks": "",
            "zerolinecolor": "white"
           }
          },
          "shapedefaults": {
           "line": {
            "color": "#2a3f5f"
           }
          },
          "ternary": {
           "aaxis": {
            "gridcolor": "white",
            "linecolor": "white",
            "ticks": ""
           },
           "baxis": {
            "gridcolor": "white",
            "linecolor": "white",
            "ticks": ""
           },
           "bgcolor": "#E5ECF6",
           "caxis": {
            "gridcolor": "white",
            "linecolor": "white",
            "ticks": ""
           }
          },
          "title": {
           "x": 0.05
          },
          "xaxis": {
           "automargin": true,
           "gridcolor": "white",
           "linecolor": "white",
           "ticks": "",
           "title": {
            "standoff": 15
           },
           "zerolinecolor": "white",
           "zerolinewidth": 2
          },
          "yaxis": {
           "automargin": true,
           "gridcolor": "white",
           "linecolor": "white",
           "ticks": "",
           "title": {
            "standoff": 15
           },
           "zerolinecolor": "white",
           "zerolinewidth": 2
          }
         }
        },
        "title": {
         "text": "Most streamed game"
        }
       }
      },
      "text/html": [
       "<div>\n",
       "        \n",
       "        \n",
       "            <div id=\"f0c540b3-e79b-405c-8958-5d81e15a302a\" class=\"plotly-graph-div\" style=\"height:600px; width:100%;\"></div>\n",
       "            <script type=\"text/javascript\">\n",
       "                require([\"plotly\"], function(Plotly) {\n",
       "                    window.PLOTLYENV=window.PLOTLYENV || {};\n",
       "                    \n",
       "                if (document.getElementById(\"f0c540b3-e79b-405c-8958-5d81e15a302a\")) {\n",
       "                    Plotly.newPlot(\n",
       "                        'f0c540b3-e79b-405c-8958-5d81e15a302a',\n",
       "                        [{\"mode\": \"markers\", \"text\": [\"Call of Duty: Modern Warfare\", \"Counter-Strike: Global Offensive\", \"Dota 2\", \"Fortnite\", \"Grand Theft Auto V\", \"Just Chatting\", \"League of Legends\", \"Minecraft\", \"VALORANT\", \"World of Warcraft\"], \"type\": \"scatter\", \"x\": [987869, 913273, 941166, 1923512, 1140687, 1720439, 1541178, 671299, 4380352, 499039], \"y\": [\"Call of Duty: Modern Warfare\", \"Counter-Strike: Global Offensive\", \"Dota 2\", \"Fortnite\", \"Grand Theft Auto V\", \"Just Chatting\", \"League of Legends\", \"Minecraft\", \"VALORANT\", \"World of Warcraft\"]}],\n",
       "                        {\"height\": 600, \"template\": {\"data\": {\"bar\": [{\"error_x\": {\"color\": \"#2a3f5f\"}, \"error_y\": {\"color\": \"#2a3f5f\"}, \"marker\": {\"line\": {\"color\": \"#E5ECF6\", \"width\": 0.5}}, \"type\": \"bar\"}], \"barpolar\": [{\"marker\": {\"line\": {\"color\": \"#E5ECF6\", \"width\": 0.5}}, \"type\": \"barpolar\"}], \"carpet\": [{\"aaxis\": {\"endlinecolor\": \"#2a3f5f\", \"gridcolor\": \"white\", \"linecolor\": \"white\", \"minorgridcolor\": \"white\", \"startlinecolor\": \"#2a3f5f\"}, \"baxis\": {\"endlinecolor\": \"#2a3f5f\", \"gridcolor\": \"white\", \"linecolor\": \"white\", \"minorgridcolor\": \"white\", \"startlinecolor\": \"#2a3f5f\"}, \"type\": \"carpet\"}], \"choropleth\": [{\"colorbar\": {\"outlinewidth\": 0, \"ticks\": \"\"}, \"type\": \"choropleth\"}], \"contour\": [{\"colorbar\": {\"outlinewidth\": 0, \"ticks\": \"\"}, \"colorscale\": [[0.0, \"#0d0887\"], [0.1111111111111111, \"#46039f\"], [0.2222222222222222, \"#7201a8\"], [0.3333333333333333, \"#9c179e\"], [0.4444444444444444, \"#bd3786\"], [0.5555555555555556, \"#d8576b\"], [0.6666666666666666, \"#ed7953\"], [0.7777777777777778, \"#fb9f3a\"], [0.8888888888888888, \"#fdca26\"], [1.0, \"#f0f921\"]], \"type\": \"contour\"}], \"contourcarpet\": [{\"colorbar\": {\"outlinewidth\": 0, \"ticks\": \"\"}, \"type\": \"contourcarpet\"}], \"heatmap\": [{\"colorbar\": {\"outlinewidth\": 0, \"ticks\": \"\"}, \"colorscale\": [[0.0, \"#0d0887\"], [0.1111111111111111, \"#46039f\"], [0.2222222222222222, \"#7201a8\"], [0.3333333333333333, \"#9c179e\"], [0.4444444444444444, \"#bd3786\"], [0.5555555555555556, \"#d8576b\"], [0.6666666666666666, \"#ed7953\"], [0.7777777777777778, \"#fb9f3a\"], [0.8888888888888888, \"#fdca26\"], [1.0, \"#f0f921\"]], \"type\": \"heatmap\"}], \"heatmapgl\": [{\"colorbar\": {\"outlinewidth\": 0, \"ticks\": \"\"}, \"colorscale\": [[0.0, \"#0d0887\"], [0.1111111111111111, \"#46039f\"], [0.2222222222222222, \"#7201a8\"], [0.3333333333333333, \"#9c179e\"], [0.4444444444444444, \"#bd3786\"], [0.5555555555555556, \"#d8576b\"], [0.6666666666666666, \"#ed7953\"], [0.7777777777777778, \"#fb9f3a\"], [0.8888888888888888, \"#fdca26\"], [1.0, \"#f0f921\"]], \"type\": \"heatmapgl\"}], \"histogram\": [{\"marker\": {\"colorbar\": {\"outlinewidth\": 0, \"ticks\": \"\"}}, \"type\": \"histogram\"}], \"histogram2d\": [{\"colorbar\": {\"outlinewidth\": 0, \"ticks\": \"\"}, \"colorscale\": [[0.0, \"#0d0887\"], [0.1111111111111111, \"#46039f\"], [0.2222222222222222, \"#7201a8\"], [0.3333333333333333, \"#9c179e\"], [0.4444444444444444, \"#bd3786\"], [0.5555555555555556, \"#d8576b\"], [0.6666666666666666, \"#ed7953\"], [0.7777777777777778, \"#fb9f3a\"], [0.8888888888888888, \"#fdca26\"], [1.0, \"#f0f921\"]], \"type\": \"histogram2d\"}], \"histogram2dcontour\": [{\"colorbar\": {\"outlinewidth\": 0, \"ticks\": \"\"}, \"colorscale\": [[0.0, \"#0d0887\"], [0.1111111111111111, \"#46039f\"], [0.2222222222222222, \"#7201a8\"], [0.3333333333333333, \"#9c179e\"], [0.4444444444444444, \"#bd3786\"], [0.5555555555555556, \"#d8576b\"], [0.6666666666666666, \"#ed7953\"], [0.7777777777777778, \"#fb9f3a\"], [0.8888888888888888, \"#fdca26\"], [1.0, \"#f0f921\"]], \"type\": \"histogram2dcontour\"}], \"mesh3d\": [{\"colorbar\": {\"outlinewidth\": 0, \"ticks\": \"\"}, \"type\": \"mesh3d\"}], \"parcoords\": [{\"line\": {\"colorbar\": {\"outlinewidth\": 0, \"ticks\": \"\"}}, \"type\": \"parcoords\"}], \"pie\": [{\"automargin\": true, \"type\": \"pie\"}], \"scatter\": [{\"marker\": {\"colorbar\": {\"outlinewidth\": 0, \"ticks\": \"\"}}, \"type\": \"scatter\"}], \"scatter3d\": [{\"line\": {\"colorbar\": {\"outlinewidth\": 0, \"ticks\": \"\"}}, \"marker\": {\"colorbar\": {\"outlinewidth\": 0, \"ticks\": \"\"}}, \"type\": \"scatter3d\"}], \"scattercarpet\": [{\"marker\": {\"colorbar\": {\"outlinewidth\": 0, \"ticks\": \"\"}}, \"type\": \"scattercarpet\"}], \"scattergeo\": [{\"marker\": {\"colorbar\": {\"outlinewidth\": 0, \"ticks\": \"\"}}, \"type\": \"scattergeo\"}], \"scattergl\": [{\"marker\": {\"colorbar\": {\"outlinewidth\": 0, \"ticks\": \"\"}}, \"type\": \"scattergl\"}], \"scattermapbox\": [{\"marker\": {\"colorbar\": {\"outlinewidth\": 0, \"ticks\": \"\"}}, \"type\": \"scattermapbox\"}], \"scatterpolar\": [{\"marker\": {\"colorbar\": {\"outlinewidth\": 0, \"ticks\": \"\"}}, \"type\": \"scatterpolar\"}], \"scatterpolargl\": [{\"marker\": {\"colorbar\": {\"outlinewidth\": 0, \"ticks\": \"\"}}, \"type\": \"scatterpolargl\"}], \"scatterternary\": [{\"marker\": {\"colorbar\": {\"outlinewidth\": 0, \"ticks\": \"\"}}, \"type\": \"scatterternary\"}], \"surface\": [{\"colorbar\": {\"outlinewidth\": 0, \"ticks\": \"\"}, \"colorscale\": [[0.0, \"#0d0887\"], [0.1111111111111111, \"#46039f\"], [0.2222222222222222, \"#7201a8\"], [0.3333333333333333, \"#9c179e\"], [0.4444444444444444, \"#bd3786\"], [0.5555555555555556, \"#d8576b\"], [0.6666666666666666, \"#ed7953\"], [0.7777777777777778, \"#fb9f3a\"], [0.8888888888888888, \"#fdca26\"], [1.0, \"#f0f921\"]], \"type\": \"surface\"}], \"table\": [{\"cells\": {\"fill\": {\"color\": \"#EBF0F8\"}, \"line\": {\"color\": \"white\"}}, \"header\": {\"fill\": {\"color\": \"#C8D4E3\"}, \"line\": {\"color\": \"white\"}}, \"type\": \"table\"}]}, \"layout\": {\"annotationdefaults\": {\"arrowcolor\": \"#2a3f5f\", \"arrowhead\": 0, \"arrowwidth\": 1}, \"coloraxis\": {\"colorbar\": {\"outlinewidth\": 0, \"ticks\": \"\"}}, \"colorscale\": {\"diverging\": [[0, \"#8e0152\"], [0.1, \"#c51b7d\"], [0.2, \"#de77ae\"], [0.3, \"#f1b6da\"], [0.4, \"#fde0ef\"], [0.5, \"#f7f7f7\"], [0.6, \"#e6f5d0\"], [0.7, \"#b8e186\"], [0.8, \"#7fbc41\"], [0.9, \"#4d9221\"], [1, \"#276419\"]], \"sequential\": [[0.0, \"#0d0887\"], [0.1111111111111111, \"#46039f\"], [0.2222222222222222, \"#7201a8\"], [0.3333333333333333, \"#9c179e\"], [0.4444444444444444, \"#bd3786\"], [0.5555555555555556, \"#d8576b\"], [0.6666666666666666, \"#ed7953\"], [0.7777777777777778, \"#fb9f3a\"], [0.8888888888888888, \"#fdca26\"], [1.0, \"#f0f921\"]], \"sequentialminus\": [[0.0, \"#0d0887\"], [0.1111111111111111, \"#46039f\"], [0.2222222222222222, \"#7201a8\"], [0.3333333333333333, \"#9c179e\"], [0.4444444444444444, \"#bd3786\"], [0.5555555555555556, \"#d8576b\"], [0.6666666666666666, \"#ed7953\"], [0.7777777777777778, \"#fb9f3a\"], [0.8888888888888888, \"#fdca26\"], [1.0, \"#f0f921\"]]}, \"colorway\": [\"#636efa\", \"#EF553B\", \"#00cc96\", \"#ab63fa\", \"#FFA15A\", \"#19d3f3\", \"#FF6692\", \"#B6E880\", \"#FF97FF\", \"#FECB52\"], \"font\": {\"color\": \"#2a3f5f\"}, \"geo\": {\"bgcolor\": \"white\", \"lakecolor\": \"white\", \"landcolor\": \"#E5ECF6\", \"showlakes\": true, \"showland\": true, \"subunitcolor\": \"white\"}, \"hoverlabel\": {\"align\": \"left\"}, \"hovermode\": \"closest\", \"mapbox\": {\"style\": \"light\"}, \"paper_bgcolor\": \"white\", \"plot_bgcolor\": \"#E5ECF6\", \"polar\": {\"angularaxis\": {\"gridcolor\": \"white\", \"linecolor\": \"white\", \"ticks\": \"\"}, \"bgcolor\": \"#E5ECF6\", \"radialaxis\": {\"gridcolor\": \"white\", \"linecolor\": \"white\", \"ticks\": \"\"}}, \"scene\": {\"xaxis\": {\"backgroundcolor\": \"#E5ECF6\", \"gridcolor\": \"white\", \"gridwidth\": 2, \"linecolor\": \"white\", \"showbackground\": true, \"ticks\": \"\", \"zerolinecolor\": \"white\"}, \"yaxis\": {\"backgroundcolor\": \"#E5ECF6\", \"gridcolor\": \"white\", \"gridwidth\": 2, \"linecolor\": \"white\", \"showbackground\": true, \"ticks\": \"\", \"zerolinecolor\": \"white\"}, \"zaxis\": {\"backgroundcolor\": \"#E5ECF6\", \"gridcolor\": \"white\", \"gridwidth\": 2, \"linecolor\": \"white\", \"showbackground\": true, \"ticks\": \"\", \"zerolinecolor\": \"white\"}}, \"shapedefaults\": {\"line\": {\"color\": \"#2a3f5f\"}}, \"ternary\": {\"aaxis\": {\"gridcolor\": \"white\", \"linecolor\": \"white\", \"ticks\": \"\"}, \"baxis\": {\"gridcolor\": \"white\", \"linecolor\": \"white\", \"ticks\": \"\"}, \"bgcolor\": \"#E5ECF6\", \"caxis\": {\"gridcolor\": \"white\", \"linecolor\": \"white\", \"ticks\": \"\"}}, \"title\": {\"x\": 0.05}, \"xaxis\": {\"automargin\": true, \"gridcolor\": \"white\", \"linecolor\": \"white\", \"ticks\": \"\", \"title\": {\"standoff\": 15}, \"zerolinecolor\": \"white\", \"zerolinewidth\": 2}, \"yaxis\": {\"automargin\": true, \"gridcolor\": \"white\", \"linecolor\": \"white\", \"ticks\": \"\", \"title\": {\"standoff\": 15}, \"zerolinecolor\": \"white\", \"zerolinewidth\": 2}}}, \"title\": {\"text\": \"Most streamed game\"}},\n",
       "                        {\"responsive\": true}\n",
       "                    ).then(function(){\n",
       "                            \n",
       "var gd = document.getElementById('f0c540b3-e79b-405c-8958-5d81e15a302a');\n",
       "var x = new MutationObserver(function (mutations, observer) {{\n",
       "        var display = window.getComputedStyle(gd).display;\n",
       "        if (!display || display === 'none') {{\n",
       "            console.log([gd, 'removed!']);\n",
       "            Plotly.purge(gd);\n",
       "            observer.disconnect();\n",
       "        }}\n",
       "}});\n",
       "\n",
       "// Listen for the removal of the full notebook cells\n",
       "var notebookContainer = gd.closest('#notebook-container');\n",
       "if (notebookContainer) {{\n",
       "    x.observe(notebookContainer, {childList: true});\n",
       "}}\n",
       "\n",
       "// Listen for the clearing of the current output cell\n",
       "var outputEl = gd.closest('.output');\n",
       "if (outputEl) {{\n",
       "    x.observe(outputEl, {childList: true});\n",
       "}}\n",
       "\n",
       "                        })\n",
       "                };\n",
       "                });\n",
       "            </script>\n",
       "        </div>"
      ]
     },
     "metadata": {},
     "output_type": "display_data"
    }
   ],
   "source": [
    "import plotly.graph_objects as go\n",
    "import pandas as pd\n",
    "\n",
    "data= pd.DataFrame(df_top_10_game_name.groupby('game_name')['viewer_count'].sum()).reset_index()\n",
    "\n",
    "fig = go.Figure(data=go.Scatter(x=data['viewer_count'],\n",
    "                                y=data['game_name'],\n",
    "                                mode='markers',\n",
    "                                text=data['game_name'])) \n",
    "\n",
    "fig.update_layout(title='Most streamed game',height=600)\n",
    "fig.show()"
   ]
  },
  {
   "cell_type": "markdown",
   "metadata": {},
   "source": [
    "## Which genre is the most streamed ?"
   ]
  },
  {
   "cell_type": "code",
   "execution_count": 23,
   "metadata": {},
   "outputs": [
    {
     "data": {
      "text/html": [
       "<div>\n",
       "<style scoped>\n",
       "    .dataframe tbody tr th:only-of-type {\n",
       "        vertical-align: middle;\n",
       "    }\n",
       "\n",
       "    .dataframe tbody tr th {\n",
       "        vertical-align: top;\n",
       "    }\n",
       "\n",
       "    .dataframe thead th {\n",
       "        text-align: right;\n",
       "    }\n",
       "</style>\n",
       "<table border=\"1\" class=\"dataframe\">\n",
       "  <thead>\n",
       "    <tr style=\"text-align: right;\">\n",
       "      <th></th>\n",
       "      <th>viewer_count</th>\n",
       "    </tr>\n",
       "    <tr>\n",
       "      <th>game_genres</th>\n",
       "      <th></th>\n",
       "    </tr>\n",
       "  </thead>\n",
       "  <tbody>\n",
       "    <tr>\n",
       "      <th>Shooter,FPS</th>\n",
       "      <td>4519731</td>\n",
       "    </tr>\n",
       "    <tr>\n",
       "      <th>MOBA</th>\n",
       "      <td>2572753</td>\n",
       "    </tr>\n",
       "    <tr>\n",
       "      <th>FPS,Shooter</th>\n",
       "      <td>2252827</td>\n",
       "    </tr>\n",
       "    <tr>\n",
       "      <th>Shooter</th>\n",
       "      <td>1923512</td>\n",
       "    </tr>\n",
       "    <tr>\n",
       "      <th>IRL</th>\n",
       "      <td>1827272</td>\n",
       "    </tr>\n",
       "    <tr>\n",
       "      <th>Driving/Racing Game</th>\n",
       "      <td>1364914</td>\n",
       "    </tr>\n",
       "    <tr>\n",
       "      <th>Adventure Game,Action</th>\n",
       "      <td>671299</td>\n",
       "    </tr>\n",
       "    <tr>\n",
       "      <th>Card &amp; Board Game</th>\n",
       "      <td>655481</td>\n",
       "    </tr>\n",
       "    <tr>\n",
       "      <th>MMORPG,RPG</th>\n",
       "      <td>603093</td>\n",
       "    </tr>\n",
       "    <tr>\n",
       "      <th>Action,RPG</th>\n",
       "      <td>575591</td>\n",
       "    </tr>\n",
       "  </tbody>\n",
       "</table>\n",
       "</div>"
      ],
      "text/plain": [
       "                       viewer_count\n",
       "game_genres                        \n",
       "Shooter,FPS                 4519731\n",
       "MOBA                        2572753\n",
       "FPS,Shooter                 2252827\n",
       "Shooter                     1923512\n",
       "IRL                         1827272\n",
       "Driving/Racing Game         1364914\n",
       "Adventure Game,Action        671299\n",
       "Card & Board Game            655481\n",
       "MMORPG,RPG                   603093\n",
       "Action,RPG                   575591"
      ]
     },
     "execution_count": 23,
     "metadata": {},
     "output_type": "execute_result"
    }
   ],
   "source": [
    "df_group_game_genres = pd.DataFrame(df_final.groupby('game_genres')['viewer_count'].sum())\n",
    "df_top_10_game_genres = df_group_game_genres.nlargest(10,'viewer_count')\n",
    "df_top_10_game_genres"
   ]
  },
  {
   "cell_type": "code",
   "execution_count": 24,
   "metadata": {},
   "outputs": [
    {
     "data": {
      "application/vnd.plotly.v1+json": {
       "config": {
        "plotlyServerURL": "https://plot.ly"
       },
       "data": [
        {
         "mode": "markers",
         "text": [
          "Action,RPG",
          "Adventure Game,Action",
          "Card & Board Game",
          "Driving/Racing Game",
          "FPS,Shooter",
          "IRL",
          "MMORPG,RPG",
          "MOBA",
          "Shooter",
          "Shooter,FPS"
         ],
         "type": "scatter",
         "x": [
          575591,
          671299,
          655481,
          1364914,
          2252827,
          1827272,
          603093,
          2572753,
          1923512,
          4519731
         ],
         "y": [
          "Action,RPG",
          "Adventure Game,Action",
          "Card & Board Game",
          "Driving/Racing Game",
          "FPS,Shooter",
          "IRL",
          "MMORPG,RPG",
          "MOBA",
          "Shooter",
          "Shooter,FPS"
         ]
        }
       ],
       "layout": {
        "height": 600,
        "template": {
         "data": {
          "bar": [
           {
            "error_x": {
             "color": "#2a3f5f"
            },
            "error_y": {
             "color": "#2a3f5f"
            },
            "marker": {
             "line": {
              "color": "#E5ECF6",
              "width": 0.5
             }
            },
            "type": "bar"
           }
          ],
          "barpolar": [
           {
            "marker": {
             "line": {
              "color": "#E5ECF6",
              "width": 0.5
             }
            },
            "type": "barpolar"
           }
          ],
          "carpet": [
           {
            "aaxis": {
             "endlinecolor": "#2a3f5f",
             "gridcolor": "white",
             "linecolor": "white",
             "minorgridcolor": "white",
             "startlinecolor": "#2a3f5f"
            },
            "baxis": {
             "endlinecolor": "#2a3f5f",
             "gridcolor": "white",
             "linecolor": "white",
             "minorgridcolor": "white",
             "startlinecolor": "#2a3f5f"
            },
            "type": "carpet"
           }
          ],
          "choropleth": [
           {
            "colorbar": {
             "outlinewidth": 0,
             "ticks": ""
            },
            "type": "choropleth"
           }
          ],
          "contour": [
           {
            "colorbar": {
             "outlinewidth": 0,
             "ticks": ""
            },
            "colorscale": [
             [
              0,
              "#0d0887"
             ],
             [
              0.1111111111111111,
              "#46039f"
             ],
             [
              0.2222222222222222,
              "#7201a8"
             ],
             [
              0.3333333333333333,
              "#9c179e"
             ],
             [
              0.4444444444444444,
              "#bd3786"
             ],
             [
              0.5555555555555556,
              "#d8576b"
             ],
             [
              0.6666666666666666,
              "#ed7953"
             ],
             [
              0.7777777777777778,
              "#fb9f3a"
             ],
             [
              0.8888888888888888,
              "#fdca26"
             ],
             [
              1,
              "#f0f921"
             ]
            ],
            "type": "contour"
           }
          ],
          "contourcarpet": [
           {
            "colorbar": {
             "outlinewidth": 0,
             "ticks": ""
            },
            "type": "contourcarpet"
           }
          ],
          "heatmap": [
           {
            "colorbar": {
             "outlinewidth": 0,
             "ticks": ""
            },
            "colorscale": [
             [
              0,
              "#0d0887"
             ],
             [
              0.1111111111111111,
              "#46039f"
             ],
             [
              0.2222222222222222,
              "#7201a8"
             ],
             [
              0.3333333333333333,
              "#9c179e"
             ],
             [
              0.4444444444444444,
              "#bd3786"
             ],
             [
              0.5555555555555556,
              "#d8576b"
             ],
             [
              0.6666666666666666,
              "#ed7953"
             ],
             [
              0.7777777777777778,
              "#fb9f3a"
             ],
             [
              0.8888888888888888,
              "#fdca26"
             ],
             [
              1,
              "#f0f921"
             ]
            ],
            "type": "heatmap"
           }
          ],
          "heatmapgl": [
           {
            "colorbar": {
             "outlinewidth": 0,
             "ticks": ""
            },
            "colorscale": [
             [
              0,
              "#0d0887"
             ],
             [
              0.1111111111111111,
              "#46039f"
             ],
             [
              0.2222222222222222,
              "#7201a8"
             ],
             [
              0.3333333333333333,
              "#9c179e"
             ],
             [
              0.4444444444444444,
              "#bd3786"
             ],
             [
              0.5555555555555556,
              "#d8576b"
             ],
             [
              0.6666666666666666,
              "#ed7953"
             ],
             [
              0.7777777777777778,
              "#fb9f3a"
             ],
             [
              0.8888888888888888,
              "#fdca26"
             ],
             [
              1,
              "#f0f921"
             ]
            ],
            "type": "heatmapgl"
           }
          ],
          "histogram": [
           {
            "marker": {
             "colorbar": {
              "outlinewidth": 0,
              "ticks": ""
             }
            },
            "type": "histogram"
           }
          ],
          "histogram2d": [
           {
            "colorbar": {
             "outlinewidth": 0,
             "ticks": ""
            },
            "colorscale": [
             [
              0,
              "#0d0887"
             ],
             [
              0.1111111111111111,
              "#46039f"
             ],
             [
              0.2222222222222222,
              "#7201a8"
             ],
             [
              0.3333333333333333,
              "#9c179e"
             ],
             [
              0.4444444444444444,
              "#bd3786"
             ],
             [
              0.5555555555555556,
              "#d8576b"
             ],
             [
              0.6666666666666666,
              "#ed7953"
             ],
             [
              0.7777777777777778,
              "#fb9f3a"
             ],
             [
              0.8888888888888888,
              "#fdca26"
             ],
             [
              1,
              "#f0f921"
             ]
            ],
            "type": "histogram2d"
           }
          ],
          "histogram2dcontour": [
           {
            "colorbar": {
             "outlinewidth": 0,
             "ticks": ""
            },
            "colorscale": [
             [
              0,
              "#0d0887"
             ],
             [
              0.1111111111111111,
              "#46039f"
             ],
             [
              0.2222222222222222,
              "#7201a8"
             ],
             [
              0.3333333333333333,
              "#9c179e"
             ],
             [
              0.4444444444444444,
              "#bd3786"
             ],
             [
              0.5555555555555556,
              "#d8576b"
             ],
             [
              0.6666666666666666,
              "#ed7953"
             ],
             [
              0.7777777777777778,
              "#fb9f3a"
             ],
             [
              0.8888888888888888,
              "#fdca26"
             ],
             [
              1,
              "#f0f921"
             ]
            ],
            "type": "histogram2dcontour"
           }
          ],
          "mesh3d": [
           {
            "colorbar": {
             "outlinewidth": 0,
             "ticks": ""
            },
            "type": "mesh3d"
           }
          ],
          "parcoords": [
           {
            "line": {
             "colorbar": {
              "outlinewidth": 0,
              "ticks": ""
             }
            },
            "type": "parcoords"
           }
          ],
          "pie": [
           {
            "automargin": true,
            "type": "pie"
           }
          ],
          "scatter": [
           {
            "marker": {
             "colorbar": {
              "outlinewidth": 0,
              "ticks": ""
             }
            },
            "type": "scatter"
           }
          ],
          "scatter3d": [
           {
            "line": {
             "colorbar": {
              "outlinewidth": 0,
              "ticks": ""
             }
            },
            "marker": {
             "colorbar": {
              "outlinewidth": 0,
              "ticks": ""
             }
            },
            "type": "scatter3d"
           }
          ],
          "scattercarpet": [
           {
            "marker": {
             "colorbar": {
              "outlinewidth": 0,
              "ticks": ""
             }
            },
            "type": "scattercarpet"
           }
          ],
          "scattergeo": [
           {
            "marker": {
             "colorbar": {
              "outlinewidth": 0,
              "ticks": ""
             }
            },
            "type": "scattergeo"
           }
          ],
          "scattergl": [
           {
            "marker": {
             "colorbar": {
              "outlinewidth": 0,
              "ticks": ""
             }
            },
            "type": "scattergl"
           }
          ],
          "scattermapbox": [
           {
            "marker": {
             "colorbar": {
              "outlinewidth": 0,
              "ticks": ""
             }
            },
            "type": "scattermapbox"
           }
          ],
          "scatterpolar": [
           {
            "marker": {
             "colorbar": {
              "outlinewidth": 0,
              "ticks": ""
             }
            },
            "type": "scatterpolar"
           }
          ],
          "scatterpolargl": [
           {
            "marker": {
             "colorbar": {
              "outlinewidth": 0,
              "ticks": ""
             }
            },
            "type": "scatterpolargl"
           }
          ],
          "scatterternary": [
           {
            "marker": {
             "colorbar": {
              "outlinewidth": 0,
              "ticks": ""
             }
            },
            "type": "scatterternary"
           }
          ],
          "surface": [
           {
            "colorbar": {
             "outlinewidth": 0,
             "ticks": ""
            },
            "colorscale": [
             [
              0,
              "#0d0887"
             ],
             [
              0.1111111111111111,
              "#46039f"
             ],
             [
              0.2222222222222222,
              "#7201a8"
             ],
             [
              0.3333333333333333,
              "#9c179e"
             ],
             [
              0.4444444444444444,
              "#bd3786"
             ],
             [
              0.5555555555555556,
              "#d8576b"
             ],
             [
              0.6666666666666666,
              "#ed7953"
             ],
             [
              0.7777777777777778,
              "#fb9f3a"
             ],
             [
              0.8888888888888888,
              "#fdca26"
             ],
             [
              1,
              "#f0f921"
             ]
            ],
            "type": "surface"
           }
          ],
          "table": [
           {
            "cells": {
             "fill": {
              "color": "#EBF0F8"
             },
             "line": {
              "color": "white"
             }
            },
            "header": {
             "fill": {
              "color": "#C8D4E3"
             },
             "line": {
              "color": "white"
             }
            },
            "type": "table"
           }
          ]
         },
         "layout": {
          "annotationdefaults": {
           "arrowcolor": "#2a3f5f",
           "arrowhead": 0,
           "arrowwidth": 1
          },
          "coloraxis": {
           "colorbar": {
            "outlinewidth": 0,
            "ticks": ""
           }
          },
          "colorscale": {
           "diverging": [
            [
             0,
             "#8e0152"
            ],
            [
             0.1,
             "#c51b7d"
            ],
            [
             0.2,
             "#de77ae"
            ],
            [
             0.3,
             "#f1b6da"
            ],
            [
             0.4,
             "#fde0ef"
            ],
            [
             0.5,
             "#f7f7f7"
            ],
            [
             0.6,
             "#e6f5d0"
            ],
            [
             0.7,
             "#b8e186"
            ],
            [
             0.8,
             "#7fbc41"
            ],
            [
             0.9,
             "#4d9221"
            ],
            [
             1,
             "#276419"
            ]
           ],
           "sequential": [
            [
             0,
             "#0d0887"
            ],
            [
             0.1111111111111111,
             "#46039f"
            ],
            [
             0.2222222222222222,
             "#7201a8"
            ],
            [
             0.3333333333333333,
             "#9c179e"
            ],
            [
             0.4444444444444444,
             "#bd3786"
            ],
            [
             0.5555555555555556,
             "#d8576b"
            ],
            [
             0.6666666666666666,
             "#ed7953"
            ],
            [
             0.7777777777777778,
             "#fb9f3a"
            ],
            [
             0.8888888888888888,
             "#fdca26"
            ],
            [
             1,
             "#f0f921"
            ]
           ],
           "sequentialminus": [
            [
             0,
             "#0d0887"
            ],
            [
             0.1111111111111111,
             "#46039f"
            ],
            [
             0.2222222222222222,
             "#7201a8"
            ],
            [
             0.3333333333333333,
             "#9c179e"
            ],
            [
             0.4444444444444444,
             "#bd3786"
            ],
            [
             0.5555555555555556,
             "#d8576b"
            ],
            [
             0.6666666666666666,
             "#ed7953"
            ],
            [
             0.7777777777777778,
             "#fb9f3a"
            ],
            [
             0.8888888888888888,
             "#fdca26"
            ],
            [
             1,
             "#f0f921"
            ]
           ]
          },
          "colorway": [
           "#636efa",
           "#EF553B",
           "#00cc96",
           "#ab63fa",
           "#FFA15A",
           "#19d3f3",
           "#FF6692",
           "#B6E880",
           "#FF97FF",
           "#FECB52"
          ],
          "font": {
           "color": "#2a3f5f"
          },
          "geo": {
           "bgcolor": "white",
           "lakecolor": "white",
           "landcolor": "#E5ECF6",
           "showlakes": true,
           "showland": true,
           "subunitcolor": "white"
          },
          "hoverlabel": {
           "align": "left"
          },
          "hovermode": "closest",
          "mapbox": {
           "style": "light"
          },
          "paper_bgcolor": "white",
          "plot_bgcolor": "#E5ECF6",
          "polar": {
           "angularaxis": {
            "gridcolor": "white",
            "linecolor": "white",
            "ticks": ""
           },
           "bgcolor": "#E5ECF6",
           "radialaxis": {
            "gridcolor": "white",
            "linecolor": "white",
            "ticks": ""
           }
          },
          "scene": {
           "xaxis": {
            "backgroundcolor": "#E5ECF6",
            "gridcolor": "white",
            "gridwidth": 2,
            "linecolor": "white",
            "showbackground": true,
            "ticks": "",
            "zerolinecolor": "white"
           },
           "yaxis": {
            "backgroundcolor": "#E5ECF6",
            "gridcolor": "white",
            "gridwidth": 2,
            "linecolor": "white",
            "showbackground": true,
            "ticks": "",
            "zerolinecolor": "white"
           },
           "zaxis": {
            "backgroundcolor": "#E5ECF6",
            "gridcolor": "white",
            "gridwidth": 2,
            "linecolor": "white",
            "showbackground": true,
            "ticks": "",
            "zerolinecolor": "white"
           }
          },
          "shapedefaults": {
           "line": {
            "color": "#2a3f5f"
           }
          },
          "ternary": {
           "aaxis": {
            "gridcolor": "white",
            "linecolor": "white",
            "ticks": ""
           },
           "baxis": {
            "gridcolor": "white",
            "linecolor": "white",
            "ticks": ""
           },
           "bgcolor": "#E5ECF6",
           "caxis": {
            "gridcolor": "white",
            "linecolor": "white",
            "ticks": ""
           }
          },
          "title": {
           "x": 0.05
          },
          "xaxis": {
           "automargin": true,
           "gridcolor": "white",
           "linecolor": "white",
           "ticks": "",
           "title": {
            "standoff": 15
           },
           "zerolinecolor": "white",
           "zerolinewidth": 2
          },
          "yaxis": {
           "automargin": true,
           "gridcolor": "white",
           "linecolor": "white",
           "ticks": "",
           "title": {
            "standoff": 15
           },
           "zerolinecolor": "white",
           "zerolinewidth": 2
          }
         }
        },
        "title": {
         "text": "Most streamed genre"
        }
       }
      },
      "text/html": [
       "<div>\n",
       "        \n",
       "        \n",
       "            <div id=\"4aa39f65-9896-408f-a647-a29776e6f9f0\" class=\"plotly-graph-div\" style=\"height:600px; width:100%;\"></div>\n",
       "            <script type=\"text/javascript\">\n",
       "                require([\"plotly\"], function(Plotly) {\n",
       "                    window.PLOTLYENV=window.PLOTLYENV || {};\n",
       "                    \n",
       "                if (document.getElementById(\"4aa39f65-9896-408f-a647-a29776e6f9f0\")) {\n",
       "                    Plotly.newPlot(\n",
       "                        '4aa39f65-9896-408f-a647-a29776e6f9f0',\n",
       "                        [{\"mode\": \"markers\", \"text\": [\"Action,RPG\", \"Adventure Game,Action\", \"Card & Board Game\", \"Driving/Racing Game\", \"FPS,Shooter\", \"IRL\", \"MMORPG,RPG\", \"MOBA\", \"Shooter\", \"Shooter,FPS\"], \"type\": \"scatter\", \"x\": [575591, 671299, 655481, 1364914, 2252827, 1827272, 603093, 2572753, 1923512, 4519731], \"y\": [\"Action,RPG\", \"Adventure Game,Action\", \"Card & Board Game\", \"Driving/Racing Game\", \"FPS,Shooter\", \"IRL\", \"MMORPG,RPG\", \"MOBA\", \"Shooter\", \"Shooter,FPS\"]}],\n",
       "                        {\"height\": 600, \"template\": {\"data\": {\"bar\": [{\"error_x\": {\"color\": \"#2a3f5f\"}, \"error_y\": {\"color\": \"#2a3f5f\"}, \"marker\": {\"line\": {\"color\": \"#E5ECF6\", \"width\": 0.5}}, \"type\": \"bar\"}], \"barpolar\": [{\"marker\": {\"line\": {\"color\": \"#E5ECF6\", \"width\": 0.5}}, \"type\": \"barpolar\"}], \"carpet\": [{\"aaxis\": {\"endlinecolor\": \"#2a3f5f\", \"gridcolor\": \"white\", \"linecolor\": \"white\", \"minorgridcolor\": \"white\", \"startlinecolor\": \"#2a3f5f\"}, \"baxis\": {\"endlinecolor\": \"#2a3f5f\", \"gridcolor\": \"white\", \"linecolor\": \"white\", \"minorgridcolor\": \"white\", \"startlinecolor\": \"#2a3f5f\"}, \"type\": \"carpet\"}], \"choropleth\": [{\"colorbar\": {\"outlinewidth\": 0, \"ticks\": \"\"}, \"type\": \"choropleth\"}], \"contour\": [{\"colorbar\": {\"outlinewidth\": 0, \"ticks\": \"\"}, \"colorscale\": [[0.0, \"#0d0887\"], [0.1111111111111111, \"#46039f\"], [0.2222222222222222, \"#7201a8\"], [0.3333333333333333, \"#9c179e\"], [0.4444444444444444, \"#bd3786\"], [0.5555555555555556, \"#d8576b\"], [0.6666666666666666, \"#ed7953\"], [0.7777777777777778, \"#fb9f3a\"], [0.8888888888888888, \"#fdca26\"], [1.0, \"#f0f921\"]], \"type\": \"contour\"}], \"contourcarpet\": [{\"colorbar\": {\"outlinewidth\": 0, \"ticks\": \"\"}, \"type\": \"contourcarpet\"}], \"heatmap\": [{\"colorbar\": {\"outlinewidth\": 0, \"ticks\": \"\"}, \"colorscale\": [[0.0, \"#0d0887\"], [0.1111111111111111, \"#46039f\"], [0.2222222222222222, \"#7201a8\"], [0.3333333333333333, \"#9c179e\"], [0.4444444444444444, \"#bd3786\"], [0.5555555555555556, \"#d8576b\"], [0.6666666666666666, \"#ed7953\"], [0.7777777777777778, \"#fb9f3a\"], [0.8888888888888888, \"#fdca26\"], [1.0, \"#f0f921\"]], \"type\": \"heatmap\"}], \"heatmapgl\": [{\"colorbar\": {\"outlinewidth\": 0, \"ticks\": \"\"}, \"colorscale\": [[0.0, \"#0d0887\"], [0.1111111111111111, \"#46039f\"], [0.2222222222222222, \"#7201a8\"], [0.3333333333333333, \"#9c179e\"], [0.4444444444444444, \"#bd3786\"], [0.5555555555555556, \"#d8576b\"], [0.6666666666666666, \"#ed7953\"], [0.7777777777777778, \"#fb9f3a\"], [0.8888888888888888, \"#fdca26\"], [1.0, \"#f0f921\"]], \"type\": \"heatmapgl\"}], \"histogram\": [{\"marker\": {\"colorbar\": {\"outlinewidth\": 0, \"ticks\": \"\"}}, \"type\": \"histogram\"}], \"histogram2d\": [{\"colorbar\": {\"outlinewidth\": 0, \"ticks\": \"\"}, \"colorscale\": [[0.0, \"#0d0887\"], [0.1111111111111111, \"#46039f\"], [0.2222222222222222, \"#7201a8\"], [0.3333333333333333, \"#9c179e\"], [0.4444444444444444, \"#bd3786\"], [0.5555555555555556, \"#d8576b\"], [0.6666666666666666, \"#ed7953\"], [0.7777777777777778, \"#fb9f3a\"], [0.8888888888888888, \"#fdca26\"], [1.0, \"#f0f921\"]], \"type\": \"histogram2d\"}], \"histogram2dcontour\": [{\"colorbar\": {\"outlinewidth\": 0, \"ticks\": \"\"}, \"colorscale\": [[0.0, \"#0d0887\"], [0.1111111111111111, \"#46039f\"], [0.2222222222222222, \"#7201a8\"], [0.3333333333333333, \"#9c179e\"], [0.4444444444444444, \"#bd3786\"], [0.5555555555555556, \"#d8576b\"], [0.6666666666666666, \"#ed7953\"], [0.7777777777777778, \"#fb9f3a\"], [0.8888888888888888, \"#fdca26\"], [1.0, \"#f0f921\"]], \"type\": \"histogram2dcontour\"}], \"mesh3d\": [{\"colorbar\": {\"outlinewidth\": 0, \"ticks\": \"\"}, \"type\": \"mesh3d\"}], \"parcoords\": [{\"line\": {\"colorbar\": {\"outlinewidth\": 0, \"ticks\": \"\"}}, \"type\": \"parcoords\"}], \"pie\": [{\"automargin\": true, \"type\": \"pie\"}], \"scatter\": [{\"marker\": {\"colorbar\": {\"outlinewidth\": 0, \"ticks\": \"\"}}, \"type\": \"scatter\"}], \"scatter3d\": [{\"line\": {\"colorbar\": {\"outlinewidth\": 0, \"ticks\": \"\"}}, \"marker\": {\"colorbar\": {\"outlinewidth\": 0, \"ticks\": \"\"}}, \"type\": \"scatter3d\"}], \"scattercarpet\": [{\"marker\": {\"colorbar\": {\"outlinewidth\": 0, \"ticks\": \"\"}}, \"type\": \"scattercarpet\"}], \"scattergeo\": [{\"marker\": {\"colorbar\": {\"outlinewidth\": 0, \"ticks\": \"\"}}, \"type\": \"scattergeo\"}], \"scattergl\": [{\"marker\": {\"colorbar\": {\"outlinewidth\": 0, \"ticks\": \"\"}}, \"type\": \"scattergl\"}], \"scattermapbox\": [{\"marker\": {\"colorbar\": {\"outlinewidth\": 0, \"ticks\": \"\"}}, \"type\": \"scattermapbox\"}], \"scatterpolar\": [{\"marker\": {\"colorbar\": {\"outlinewidth\": 0, \"ticks\": \"\"}}, \"type\": \"scatterpolar\"}], \"scatterpolargl\": [{\"marker\": {\"colorbar\": {\"outlinewidth\": 0, \"ticks\": \"\"}}, \"type\": \"scatterpolargl\"}], \"scatterternary\": [{\"marker\": {\"colorbar\": {\"outlinewidth\": 0, \"ticks\": \"\"}}, \"type\": \"scatterternary\"}], \"surface\": [{\"colorbar\": {\"outlinewidth\": 0, \"ticks\": \"\"}, \"colorscale\": [[0.0, \"#0d0887\"], [0.1111111111111111, \"#46039f\"], [0.2222222222222222, \"#7201a8\"], [0.3333333333333333, \"#9c179e\"], [0.4444444444444444, \"#bd3786\"], [0.5555555555555556, \"#d8576b\"], [0.6666666666666666, \"#ed7953\"], [0.7777777777777778, \"#fb9f3a\"], [0.8888888888888888, \"#fdca26\"], [1.0, \"#f0f921\"]], \"type\": \"surface\"}], \"table\": [{\"cells\": {\"fill\": {\"color\": \"#EBF0F8\"}, \"line\": {\"color\": \"white\"}}, \"header\": {\"fill\": {\"color\": \"#C8D4E3\"}, \"line\": {\"color\": \"white\"}}, \"type\": \"table\"}]}, \"layout\": {\"annotationdefaults\": {\"arrowcolor\": \"#2a3f5f\", \"arrowhead\": 0, \"arrowwidth\": 1}, \"coloraxis\": {\"colorbar\": {\"outlinewidth\": 0, \"ticks\": \"\"}}, \"colorscale\": {\"diverging\": [[0, \"#8e0152\"], [0.1, \"#c51b7d\"], [0.2, \"#de77ae\"], [0.3, \"#f1b6da\"], [0.4, \"#fde0ef\"], [0.5, \"#f7f7f7\"], [0.6, \"#e6f5d0\"], [0.7, \"#b8e186\"], [0.8, \"#7fbc41\"], [0.9, \"#4d9221\"], [1, \"#276419\"]], \"sequential\": [[0.0, \"#0d0887\"], [0.1111111111111111, \"#46039f\"], [0.2222222222222222, \"#7201a8\"], [0.3333333333333333, \"#9c179e\"], [0.4444444444444444, \"#bd3786\"], [0.5555555555555556, \"#d8576b\"], [0.6666666666666666, \"#ed7953\"], [0.7777777777777778, \"#fb9f3a\"], [0.8888888888888888, \"#fdca26\"], [1.0, \"#f0f921\"]], \"sequentialminus\": [[0.0, \"#0d0887\"], [0.1111111111111111, \"#46039f\"], [0.2222222222222222, \"#7201a8\"], [0.3333333333333333, \"#9c179e\"], [0.4444444444444444, \"#bd3786\"], [0.5555555555555556, \"#d8576b\"], [0.6666666666666666, \"#ed7953\"], [0.7777777777777778, \"#fb9f3a\"], [0.8888888888888888, \"#fdca26\"], [1.0, \"#f0f921\"]]}, \"colorway\": [\"#636efa\", \"#EF553B\", \"#00cc96\", \"#ab63fa\", \"#FFA15A\", \"#19d3f3\", \"#FF6692\", \"#B6E880\", \"#FF97FF\", \"#FECB52\"], \"font\": {\"color\": \"#2a3f5f\"}, \"geo\": {\"bgcolor\": \"white\", \"lakecolor\": \"white\", \"landcolor\": \"#E5ECF6\", \"showlakes\": true, \"showland\": true, \"subunitcolor\": \"white\"}, \"hoverlabel\": {\"align\": \"left\"}, \"hovermode\": \"closest\", \"mapbox\": {\"style\": \"light\"}, \"paper_bgcolor\": \"white\", \"plot_bgcolor\": \"#E5ECF6\", \"polar\": {\"angularaxis\": {\"gridcolor\": \"white\", \"linecolor\": \"white\", \"ticks\": \"\"}, \"bgcolor\": \"#E5ECF6\", \"radialaxis\": {\"gridcolor\": \"white\", \"linecolor\": \"white\", \"ticks\": \"\"}}, \"scene\": {\"xaxis\": {\"backgroundcolor\": \"#E5ECF6\", \"gridcolor\": \"white\", \"gridwidth\": 2, \"linecolor\": \"white\", \"showbackground\": true, \"ticks\": \"\", \"zerolinecolor\": \"white\"}, \"yaxis\": {\"backgroundcolor\": \"#E5ECF6\", \"gridcolor\": \"white\", \"gridwidth\": 2, \"linecolor\": \"white\", \"showbackground\": true, \"ticks\": \"\", \"zerolinecolor\": \"white\"}, \"zaxis\": {\"backgroundcolor\": \"#E5ECF6\", \"gridcolor\": \"white\", \"gridwidth\": 2, \"linecolor\": \"white\", \"showbackground\": true, \"ticks\": \"\", \"zerolinecolor\": \"white\"}}, \"shapedefaults\": {\"line\": {\"color\": \"#2a3f5f\"}}, \"ternary\": {\"aaxis\": {\"gridcolor\": \"white\", \"linecolor\": \"white\", \"ticks\": \"\"}, \"baxis\": {\"gridcolor\": \"white\", \"linecolor\": \"white\", \"ticks\": \"\"}, \"bgcolor\": \"#E5ECF6\", \"caxis\": {\"gridcolor\": \"white\", \"linecolor\": \"white\", \"ticks\": \"\"}}, \"title\": {\"x\": 0.05}, \"xaxis\": {\"automargin\": true, \"gridcolor\": \"white\", \"linecolor\": \"white\", \"ticks\": \"\", \"title\": {\"standoff\": 15}, \"zerolinecolor\": \"white\", \"zerolinewidth\": 2}, \"yaxis\": {\"automargin\": true, \"gridcolor\": \"white\", \"linecolor\": \"white\", \"ticks\": \"\", \"title\": {\"standoff\": 15}, \"zerolinecolor\": \"white\", \"zerolinewidth\": 2}}}, \"title\": {\"text\": \"Most streamed genre\"}},\n",
       "                        {\"responsive\": true}\n",
       "                    ).then(function(){\n",
       "                            \n",
       "var gd = document.getElementById('4aa39f65-9896-408f-a647-a29776e6f9f0');\n",
       "var x = new MutationObserver(function (mutations, observer) {{\n",
       "        var display = window.getComputedStyle(gd).display;\n",
       "        if (!display || display === 'none') {{\n",
       "            console.log([gd, 'removed!']);\n",
       "            Plotly.purge(gd);\n",
       "            observer.disconnect();\n",
       "        }}\n",
       "}});\n",
       "\n",
       "// Listen for the removal of the full notebook cells\n",
       "var notebookContainer = gd.closest('#notebook-container');\n",
       "if (notebookContainer) {{\n",
       "    x.observe(notebookContainer, {childList: true});\n",
       "}}\n",
       "\n",
       "// Listen for the clearing of the current output cell\n",
       "var outputEl = gd.closest('.output');\n",
       "if (outputEl) {{\n",
       "    x.observe(outputEl, {childList: true});\n",
       "}}\n",
       "\n",
       "                        })\n",
       "                };\n",
       "                });\n",
       "            </script>\n",
       "        </div>"
      ]
     },
     "metadata": {},
     "output_type": "display_data"
    }
   ],
   "source": [
    "import plotly.graph_objects as go\n",
    "import pandas as pd\n",
    "\n",
    "data= pd.DataFrame(df_top_10_game_genres.groupby('game_genres')['viewer_count'].sum()).reset_index()\n",
    "\n",
    "fig = go.Figure(data=go.Scatter(x=data['viewer_count'],\n",
    "                                y=data['game_genres'],\n",
    "                                mode='markers',\n",
    "                                text=data['game_genres'])) \n",
    "\n",
    "fig.update_layout(title='Most streamed genre',height=600)\n",
    "fig.show()"
   ]
  },
  {
   "cell_type": "code",
   "execution_count": 25,
   "metadata": {},
   "outputs": [
    {
     "data": {
      "application/vnd.plotly.v1+json": {
       "config": {
        "plotlyServerURL": "https://plot.ly"
       },
       "data": [
        {
         "mode": "markers",
         "text": [
          "7 Days to Die",
          "A Way Out",
          "ARK",
          "ASMR",
          "Age of Empires II: Definitive Edition",
          "Among Us",
          "Animal Crossing: New Horizons",
          "Apex Legends",
          "Arena of Valor",
          "Art",
          "Assassin's Creed Odyssey",
          "Battle Ram",
          "Battlerite",
          "Biped",
          "Black Desert Online",
          "Blackjack",
          "Bloodborne",
          "Borderlands 3",
          "Bus Simulator 18",
          "Call of Duty: Modern Warfare",
          "Castle Crashers",
          "Celeste",
          "Chess",
          "Clash Royale",
          "Clash of Clans",
          "Close to the Sun",
          "Comanche",
          "Cooking Simulator",
          "Counter-Strike: Global Offensive",
          "CrossCode",
          "Danganronpa: Trigger Happy Havoc",
          "Dark Souls",
          "Dark Souls II: Scholar of the First Sin",
          "Dark Souls III",
          "DayZ",
          "Days Gone",
          "Dead by Daylight",
          "Deadside",
          "Deceit",
          "Destiny 2",
          "Diablo II: Lord of Destruction",
          "Dofus",
          "Doom Eternal",
          "Dota 2",
          "Drug Dealer Simulator",
          "Dungeons & Dragons",
          "Emily Wants to Play Too",
          "Escape From Tarkov",
          "Euro Truck Simulator 2",
          "Exanima",
          "F1 2019",
          "FIFA 20",
          "FINAL FANTASY XIV Online",
          "Fallout 76",
          "Farming Simulator 19",
          "Final Doom",
          "Final Fantasy VII",
          "Final Fantasy VII Remake",
          "Food & Drink",
          "Football Manager 2020",
          "Fortnite",
          "Friday the 13th: The Game",
          "Games + Demos",
          "Garena Free Fire",
          "Garry's Mod",
          "Gears 5",
          "GeoGuessr",
          "Golf It!",
          "Granblue Fantasy: Versus",
          "Grand Theft Auto V",
          "Green Hell",
          "Griftlands",
          "Guilty Gear Xrd REV 2",
          "H1Z1",
          "HITMAN",
          "Halo: The Master Chief Collection",
          "Haxball",
          "Hearthstone",
          "Hearts of Iron IV",
          "Heroes of Might and Magic III: The Shadow of Death",
          "Heroes of the Storm",
          "Higurashi When They Cry Hou",
          "Hot Dogs, Horseshoes & Hand Grenades",
          "Hunt: Showdown",
          "I Wanna Be The Boshy",
          "Internet Cafe Simulator",
          "Just Arms",
          "Just Chatting",
          "Killing Floor 2",
          "Kingdom Hearts HD I.5 + II.5 Remix",
          "Knight Online",
          "Last Oasis",
          "League of Legends",
          "Legends of Runeterra",
          "Life Is Strange 2",
          "Lineage II",
          "Loco Parentis",
          "MLB The Show 20",
          "Madden NFL 20",
          "Magic: The Gathering",
          "MapleStory",
          "Marbles On Stream",
          "Mario Kart 8",
          "Metin 2",
          "Minecraft",
          "Monster Hunter World",
          "Mortal Kombat 11",
          "Mount & Blade II: Bannerlord",
          "Music & Performing Arts",
          "My Summer Car",
          "NBA 2K20",
          "NiBiRu: Age of Secrets",
          "Nioh 2",
          "Old School RuneScape",
          "Olympic Games Tokyo 2020: The Official Video Game",
          "Oneiros",
          "Ostriv",
          "Outlast",
          "Over the Alps",
          "Overwatch",
          "PC Building Simulator",
          "PLAYERUNKNOWN'S BATTLEGROUNDS",
          "PUBG MOBILE",
          "Paranormal Activity: The Lost Soul",
          "Path of Exile",
          "Peggle 2",
          "Persona 5: The Royal",
          "Pinturillo 2",
          "Poker",
          "Pokémon Black/White Version 2",
          "Pokémon Sword/Shield",
          "Poly Bridge",
          "Prison Architect",
          "Project Winter",
          "Prominence Poker",
          "Pummel Party",
          "Puyo Puyo Tetris",
          "Quiplash",
          "ROBLOX",
          "Raft",
          "Red Dead Redemption 2",
          "Resident Evil 3",
          "Resident Evil 6",
          "Resident Evil 7 biohazard",
          "Retro",
          "RimWorld",
          "Risk of Rain 2",
          "Rocket League",
          "Roulette",
          "Rust",
          "S.T.A.L.K.E.R.: Shadow of Chernobyl",
          "Saint Seiya: Awakening",
          "Science & Technology",
          "Sea of Thieves",
          "Secret Neighbor",
          "Sekiro: Shadows Die Twice",
          "Shadow of the Colossus",
          "Sid Meier's Civilization VI",
          "Slay the Spire",
          "Slots",
          "Smite",
          "Sonic Adventure 2: Battle",
          "Sports & Fitness",
          "Star Wars Jedi: Fallen Order",
          "StarCraft II",
          "State of Decay 2",
          "Stream Avatars",
          "Summoners War: Sky Arena",
          "Super Mario 64",
          "Super Mario Bros. 3",
          "Super Mario Maker 2",
          "Super Mario World",
          "Super Mario World 2: Yoshi's Island",
          "Super Metroid",
          "Super Smash Bros. Ultimate",
          "Table Manners",
          "Tabletop RPGs",
          "Tales Runner",
          "Talk Shows & Podcasts",
          "Tangle Tower",
          "Teamfight Tactics",
          "Tekken 7",
          "Tetris 99",
          "The Conjuring House",
          "The Elder Scrolls IV: Oblivion",
          "The Elder Scrolls Online",
          "The Elder Scrolls V: Skyrim",
          "The Incredible Hulk: Ultimate Destruction",
          "The Jackbox Party Pack 3",
          "The Jackbox Party Pack 6",
          "The Last of Us",
          "The Legend of Zelda: Breath of the Wild",
          "The Legend of Zelda: Ocarina of Time",
          "The Long Dark",
          "The Seven Deadly Sins: Hikari to Yami no Grand Cross",
          "The Sims 4",
          "The Witcher 3: Wild Hunt",
          "Tibia",
          "Tom Clancy's Rainbow Six: Siege",
          "Total War: Three Kingdoms",
          "Total War: Warhammer II",
          "Trials of Mana",
          "Undermine",
          "VALORANT",
          "VRChat",
          "WWE WrestleMania XIX",
          "Warcraft III",
          "Warframe",
          "Watch Parties",
          "Weed Shop 2",
          "Welcome to the Game II",
          "Witch It",
          "World of Horror",
          "World of Tanks",
          "World of Warcraft",
          "World of Warships",
          "X4: Foundations",
          "Yakuza 0",
          "Yu-Gi-Oh! Duel Links",
          "iRacing.com",
          "osu!",
          "skribbl.io"
         ],
         "type": "scatter",
         "x": [
          29.931719207759425,
          4.684715730396784,
          157.95148448936496,
          91.06524455260394,
          67.39694122354341,
          3.2089776008661772,
          334.34694195343013,
          321.874027630622,
          3.901760556750205,
          284.18099987328003,
          32.31014323453029,
          0.965668122087873,
          1.911206815218997,
          1.7931588895145882,
          226.97236511745606,
          2.87962926876295,
          53.666008888806495,
          40.743604750765655,
          1.6512207636495677,
          424.85345053316627,
          1.1151013269584582,
          4.140986218269046,
          95.15024183548562,
          17.100926229743365,
          5.063595555239389,
          3.2282518284603383,
          1.1422331453534587,
          1.3211149881076871,
          381.6886270714758,
          1.6385909254981597,
          1.8214464295465271,
          90.0041651472737,
          6.428892041306687,
          114.94564865546819,
          49.52221223939748,
          4.658901604535817,
          307.00379877527274,
          98.5763069203747,
          5.05417182117055,
          272.1965183369477,
          20.43060232224484,
          28.224098620851958,
          66.37110588651049,
          340.9912622711492,
          144.37568080108602,
          107.42902078260221,
          1.304514985196196,
          296.8008453407265,
          55.40915358433414,
          5.779196618989209,
          38.23821146404771,
          354.5790854880269,
          160.55673049947603,
          199.02297655422905,
          18.71796413839863,
          3.4809403430257593,
          43.92227439203158,
          317.4649329105365,
          13.971025867685903,
          54.299321160144224,
          466.597606951771,
          20.985225015450403,
          30.223189300017008,
          140.17329087092492,
          8.832804203996893,
          20.58160043120321,
          1.48362860125846,
          4.794367559142034,
          8.830238470987954,
          482.8573208069913,
          51.49319997538453,
          13.97106151720556,
          17.50887398537616,
          1.3818521173583258,
          1.3792488283903497,
          13.39425565943525,
          0.37525298145689406,
          292.7823851493695,
          6.627309575587,
          24.020378482010315,
          126.6413781829722,
          0.6757209107297063,
          0.9916904903057167,
          34.34496668582816,
          1.3789759471512357,
          1.7624604137401527,
          2.0058426415049957,
          493.86327248396367,
          7.412106762334866,
          16.935911575737777,
          53.688792153341716,
          204.9082849861182,
          475.37257231992453,
          10.532709742618852,
          1.4155803756387988,
          61.13508339088553,
          0.6927668308047163,
          108.70275661024722,
          169.71895475337385,
          233.3951295815972,
          21.300807625614436,
          199.10285380868513,
          14.92191571126767,
          40.01169249249709,
          360.7422191069458,
          160.0279456471766,
          23.236349012559423,
          205.9882213373463,
          335.89367637904337,
          4.516926473714631,
          241.16963813739372,
          0.6442262292583417,
          17.38789979128592,
          240.2084289563538,
          1.6504221024241676,
          0.6882707203892136,
          0.8371044871342292,
          15.450449721252612,
          0.8261512341056169,
          308.2516833669743,
          1.6498531456527972,
          270.0055801491643,
          43.49847977539848,
          0.966556299602175,
          246.32062575157045,
          2.3407339307370583,
          161.7279610579456,
          2.0140854887198287,
          278.4962037697943,
          4.5297417089811765,
          210.96756228486365,
          0.8108313201930367,
          1.0670697965783493,
          1.0967507417782871,
          2.825035937199401,
          8.154717131086164,
          1.223423068305531,
          4.584201373667719,
          18.385792586500813,
          7.178578099099912,
          85.53963460202293,
          194.3485440749854,
          6.182133297603378,
          18.776297922730006,
          184.17540268885386,
          48.8316914424471,
          8.671268750959852,
          239.91136575409647,
          2.5065136413858067,
          193.4713029633991,
          2.3963129431454933,
          5.143293138061538,
          178.83134516983935,
          173.59489507897598,
          1.056837354292285,
          32.02567272177621,
          4.246406087011126,
          12.62979567809271,
          3.9847511883614035,
          229.2941313177306,
          167.85534187702552,
          1.883742224031155,
          24.484705373688236,
          4.496125853656284,
          152.8835214566986,
          14.119203523335193,
          0.6704843325131137,
          85.84835563058847,
          16.57896664935257,
          3.9486305474142562,
          118.62773985083712,
          4.682674258543793,
          1.017589152180218,
          3.361822096641877,
          207.5904675667573,
          1.422121064119093,
          16.52502383437986,
          2.8714814355416793,
          165.91017415242027,
          1.3458094883307834,
          295.390599605528,
          9.209334036648691,
          1.5035923202380714,
          0.6972857941342145,
          5.0530154181327145,
          109.9598719688491,
          14.935373485203398,
          0.693483921485604,
          27.776446570668227,
          20.511173576844403,
          18.146984844200833,
          82.1785635157905,
          14.849293195340552,
          6.219568094902251,
          44.53321346996879,
          86.45685356478165,
          76.43392933350896,
          225.44139194344547,
          284.8802317954719,
          1.37784237107942,
          9.124010243872933,
          1.6144650722828404,
          1.2759167853106264,
          548.994786230193,
          128.5360813661622,
          2.4504943748327723,
          52.634201711023344,
          34.66027539263409,
          16.37390371278826,
          1.758068976465796,
          1.110084285537792,
          2.0385450556325058,
          2.24859659022242,
          197.24646622827422,
          366.3885997829803,
          149.86572302408908,
          2.967124066094293,
          4.375725922431651,
          8.655070236174794,
          159.02444118377758,
          32.98420828676638,
          17.252264368619056
         ],
         "y": [
          "7 Days to Die",
          "A Way Out",
          "ARK",
          "ASMR",
          "Age of Empires II: Definitive Edition",
          "Among Us",
          "Animal Crossing: New Horizons",
          "Apex Legends",
          "Arena of Valor",
          "Art",
          "Assassin's Creed Odyssey",
          "Battle Ram",
          "Battlerite",
          "Biped",
          "Black Desert Online",
          "Blackjack",
          "Bloodborne",
          "Borderlands 3",
          "Bus Simulator 18",
          "Call of Duty: Modern Warfare",
          "Castle Crashers",
          "Celeste",
          "Chess",
          "Clash Royale",
          "Clash of Clans",
          "Close to the Sun",
          "Comanche",
          "Cooking Simulator",
          "Counter-Strike: Global Offensive",
          "CrossCode",
          "Danganronpa: Trigger Happy Havoc",
          "Dark Souls",
          "Dark Souls II: Scholar of the First Sin",
          "Dark Souls III",
          "DayZ",
          "Days Gone",
          "Dead by Daylight",
          "Deadside",
          "Deceit",
          "Destiny 2",
          "Diablo II: Lord of Destruction",
          "Dofus",
          "Doom Eternal",
          "Dota 2",
          "Drug Dealer Simulator",
          "Dungeons & Dragons",
          "Emily Wants to Play Too",
          "Escape From Tarkov",
          "Euro Truck Simulator 2",
          "Exanima",
          "F1 2019",
          "FIFA 20",
          "FINAL FANTASY XIV Online",
          "Fallout 76",
          "Farming Simulator 19",
          "Final Doom",
          "Final Fantasy VII",
          "Final Fantasy VII Remake",
          "Food & Drink",
          "Football Manager 2020",
          "Fortnite",
          "Friday the 13th: The Game",
          "Games + Demos",
          "Garena Free Fire",
          "Garry's Mod",
          "Gears 5",
          "GeoGuessr",
          "Golf It!",
          "Granblue Fantasy: Versus",
          "Grand Theft Auto V",
          "Green Hell",
          "Griftlands",
          "Guilty Gear Xrd REV 2",
          "H1Z1",
          "HITMAN",
          "Halo: The Master Chief Collection",
          "Haxball",
          "Hearthstone",
          "Hearts of Iron IV",
          "Heroes of Might and Magic III: The Shadow of Death",
          "Heroes of the Storm",
          "Higurashi When They Cry Hou",
          "Hot Dogs, Horseshoes & Hand Grenades",
          "Hunt: Showdown",
          "I Wanna Be The Boshy",
          "Internet Cafe Simulator",
          "Just Arms",
          "Just Chatting",
          "Killing Floor 2",
          "Kingdom Hearts HD I.5 + II.5 Remix",
          "Knight Online",
          "Last Oasis",
          "League of Legends",
          "Legends of Runeterra",
          "Life Is Strange 2",
          "Lineage II",
          "Loco Parentis",
          "MLB The Show 20",
          "Madden NFL 20",
          "Magic: The Gathering",
          "MapleStory",
          "Marbles On Stream",
          "Mario Kart 8",
          "Metin 2",
          "Minecraft",
          "Monster Hunter World",
          "Mortal Kombat 11",
          "Mount & Blade II: Bannerlord",
          "Music & Performing Arts",
          "My Summer Car",
          "NBA 2K20",
          "NiBiRu: Age of Secrets",
          "Nioh 2",
          "Old School RuneScape",
          "Olympic Games Tokyo 2020: The Official Video Game",
          "Oneiros",
          "Ostriv",
          "Outlast",
          "Over the Alps",
          "Overwatch",
          "PC Building Simulator",
          "PLAYERUNKNOWN'S BATTLEGROUNDS",
          "PUBG MOBILE",
          "Paranormal Activity: The Lost Soul",
          "Path of Exile",
          "Peggle 2",
          "Persona 5: The Royal",
          "Pinturillo 2",
          "Poker",
          "Pokémon Black/White Version 2",
          "Pokémon Sword/Shield",
          "Poly Bridge",
          "Prison Architect",
          "Project Winter",
          "Prominence Poker",
          "Pummel Party",
          "Puyo Puyo Tetris",
          "Quiplash",
          "ROBLOX",
          "Raft",
          "Red Dead Redemption 2",
          "Resident Evil 3",
          "Resident Evil 6",
          "Resident Evil 7 biohazard",
          "Retro",
          "RimWorld",
          "Risk of Rain 2",
          "Rocket League",
          "Roulette",
          "Rust",
          "S.T.A.L.K.E.R.: Shadow of Chernobyl",
          "Saint Seiya: Awakening",
          "Science & Technology",
          "Sea of Thieves",
          "Secret Neighbor",
          "Sekiro: Shadows Die Twice",
          "Shadow of the Colossus",
          "Sid Meier's Civilization VI",
          "Slay the Spire",
          "Slots",
          "Smite",
          "Sonic Adventure 2: Battle",
          "Sports & Fitness",
          "Star Wars Jedi: Fallen Order",
          "StarCraft II",
          "State of Decay 2",
          "Stream Avatars",
          "Summoners War: Sky Arena",
          "Super Mario 64",
          "Super Mario Bros. 3",
          "Super Mario Maker 2",
          "Super Mario World",
          "Super Mario World 2: Yoshi's Island",
          "Super Metroid",
          "Super Smash Bros. Ultimate",
          "Table Manners",
          "Tabletop RPGs",
          "Tales Runner",
          "Talk Shows & Podcasts",
          "Tangle Tower",
          "Teamfight Tactics",
          "Tekken 7",
          "Tetris 99",
          "The Conjuring House",
          "The Elder Scrolls IV: Oblivion",
          "The Elder Scrolls Online",
          "The Elder Scrolls V: Skyrim",
          "The Incredible Hulk: Ultimate Destruction",
          "The Jackbox Party Pack 3",
          "The Jackbox Party Pack 6",
          "The Last of Us",
          "The Legend of Zelda: Breath of the Wild",
          "The Legend of Zelda: Ocarina of Time",
          "The Long Dark",
          "The Seven Deadly Sins: Hikari to Yami no Grand Cross",
          "The Sims 4",
          "The Witcher 3: Wild Hunt",
          "Tibia",
          "Tom Clancy's Rainbow Six: Siege",
          "Total War: Three Kingdoms",
          "Total War: Warhammer II",
          "Trials of Mana",
          "Undermine",
          "VALORANT",
          "VRChat",
          "WWE WrestleMania XIX",
          "Warcraft III",
          "Warframe",
          "Watch Parties",
          "Weed Shop 2",
          "Welcome to the Game II",
          "Witch It",
          "World of Horror",
          "World of Tanks",
          "World of Warcraft",
          "World of Warships",
          "X4: Foundations",
          "Yakuza 0",
          "Yu-Gi-Oh! Duel Links",
          "iRacing.com",
          "osu!",
          "skribbl.io"
         ]
        }
       ],
       "layout": {
        "height": 600,
        "template": {
         "data": {
          "bar": [
           {
            "error_x": {
             "color": "#2a3f5f"
            },
            "error_y": {
             "color": "#2a3f5f"
            },
            "marker": {
             "line": {
              "color": "#E5ECF6",
              "width": 0.5
             }
            },
            "type": "bar"
           }
          ],
          "barpolar": [
           {
            "marker": {
             "line": {
              "color": "#E5ECF6",
              "width": 0.5
             }
            },
            "type": "barpolar"
           }
          ],
          "carpet": [
           {
            "aaxis": {
             "endlinecolor": "#2a3f5f",
             "gridcolor": "white",
             "linecolor": "white",
             "minorgridcolor": "white",
             "startlinecolor": "#2a3f5f"
            },
            "baxis": {
             "endlinecolor": "#2a3f5f",
             "gridcolor": "white",
             "linecolor": "white",
             "minorgridcolor": "white",
             "startlinecolor": "#2a3f5f"
            },
            "type": "carpet"
           }
          ],
          "choropleth": [
           {
            "colorbar": {
             "outlinewidth": 0,
             "ticks": ""
            },
            "type": "choropleth"
           }
          ],
          "contour": [
           {
            "colorbar": {
             "outlinewidth": 0,
             "ticks": ""
            },
            "colorscale": [
             [
              0,
              "#0d0887"
             ],
             [
              0.1111111111111111,
              "#46039f"
             ],
             [
              0.2222222222222222,
              "#7201a8"
             ],
             [
              0.3333333333333333,
              "#9c179e"
             ],
             [
              0.4444444444444444,
              "#bd3786"
             ],
             [
              0.5555555555555556,
              "#d8576b"
             ],
             [
              0.6666666666666666,
              "#ed7953"
             ],
             [
              0.7777777777777778,
              "#fb9f3a"
             ],
             [
              0.8888888888888888,
              "#fdca26"
             ],
             [
              1,
              "#f0f921"
             ]
            ],
            "type": "contour"
           }
          ],
          "contourcarpet": [
           {
            "colorbar": {
             "outlinewidth": 0,
             "ticks": ""
            },
            "type": "contourcarpet"
           }
          ],
          "heatmap": [
           {
            "colorbar": {
             "outlinewidth": 0,
             "ticks": ""
            },
            "colorscale": [
             [
              0,
              "#0d0887"
             ],
             [
              0.1111111111111111,
              "#46039f"
             ],
             [
              0.2222222222222222,
              "#7201a8"
             ],
             [
              0.3333333333333333,
              "#9c179e"
             ],
             [
              0.4444444444444444,
              "#bd3786"
             ],
             [
              0.5555555555555556,
              "#d8576b"
             ],
             [
              0.6666666666666666,
              "#ed7953"
             ],
             [
              0.7777777777777778,
              "#fb9f3a"
             ],
             [
              0.8888888888888888,
              "#fdca26"
             ],
             [
              1,
              "#f0f921"
             ]
            ],
            "type": "heatmap"
           }
          ],
          "heatmapgl": [
           {
            "colorbar": {
             "outlinewidth": 0,
             "ticks": ""
            },
            "colorscale": [
             [
              0,
              "#0d0887"
             ],
             [
              0.1111111111111111,
              "#46039f"
             ],
             [
              0.2222222222222222,
              "#7201a8"
             ],
             [
              0.3333333333333333,
              "#9c179e"
             ],
             [
              0.4444444444444444,
              "#bd3786"
             ],
             [
              0.5555555555555556,
              "#d8576b"
             ],
             [
              0.6666666666666666,
              "#ed7953"
             ],
             [
              0.7777777777777778,
              "#fb9f3a"
             ],
             [
              0.8888888888888888,
              "#fdca26"
             ],
             [
              1,
              "#f0f921"
             ]
            ],
            "type": "heatmapgl"
           }
          ],
          "histogram": [
           {
            "marker": {
             "colorbar": {
              "outlinewidth": 0,
              "ticks": ""
             }
            },
            "type": "histogram"
           }
          ],
          "histogram2d": [
           {
            "colorbar": {
             "outlinewidth": 0,
             "ticks": ""
            },
            "colorscale": [
             [
              0,
              "#0d0887"
             ],
             [
              0.1111111111111111,
              "#46039f"
             ],
             [
              0.2222222222222222,
              "#7201a8"
             ],
             [
              0.3333333333333333,
              "#9c179e"
             ],
             [
              0.4444444444444444,
              "#bd3786"
             ],
             [
              0.5555555555555556,
              "#d8576b"
             ],
             [
              0.6666666666666666,
              "#ed7953"
             ],
             [
              0.7777777777777778,
              "#fb9f3a"
             ],
             [
              0.8888888888888888,
              "#fdca26"
             ],
             [
              1,
              "#f0f921"
             ]
            ],
            "type": "histogram2d"
           }
          ],
          "histogram2dcontour": [
           {
            "colorbar": {
             "outlinewidth": 0,
             "ticks": ""
            },
            "colorscale": [
             [
              0,
              "#0d0887"
             ],
             [
              0.1111111111111111,
              "#46039f"
             ],
             [
              0.2222222222222222,
              "#7201a8"
             ],
             [
              0.3333333333333333,
              "#9c179e"
             ],
             [
              0.4444444444444444,
              "#bd3786"
             ],
             [
              0.5555555555555556,
              "#d8576b"
             ],
             [
              0.6666666666666666,
              "#ed7953"
             ],
             [
              0.7777777777777778,
              "#fb9f3a"
             ],
             [
              0.8888888888888888,
              "#fdca26"
             ],
             [
              1,
              "#f0f921"
             ]
            ],
            "type": "histogram2dcontour"
           }
          ],
          "mesh3d": [
           {
            "colorbar": {
             "outlinewidth": 0,
             "ticks": ""
            },
            "type": "mesh3d"
           }
          ],
          "parcoords": [
           {
            "line": {
             "colorbar": {
              "outlinewidth": 0,
              "ticks": ""
             }
            },
            "type": "parcoords"
           }
          ],
          "pie": [
           {
            "automargin": true,
            "type": "pie"
           }
          ],
          "scatter": [
           {
            "marker": {
             "colorbar": {
              "outlinewidth": 0,
              "ticks": ""
             }
            },
            "type": "scatter"
           }
          ],
          "scatter3d": [
           {
            "line": {
             "colorbar": {
              "outlinewidth": 0,
              "ticks": ""
             }
            },
            "marker": {
             "colorbar": {
              "outlinewidth": 0,
              "ticks": ""
             }
            },
            "type": "scatter3d"
           }
          ],
          "scattercarpet": [
           {
            "marker": {
             "colorbar": {
              "outlinewidth": 0,
              "ticks": ""
             }
            },
            "type": "scattercarpet"
           }
          ],
          "scattergeo": [
           {
            "marker": {
             "colorbar": {
              "outlinewidth": 0,
              "ticks": ""
             }
            },
            "type": "scattergeo"
           }
          ],
          "scattergl": [
           {
            "marker": {
             "colorbar": {
              "outlinewidth": 0,
              "ticks": ""
             }
            },
            "type": "scattergl"
           }
          ],
          "scattermapbox": [
           {
            "marker": {
             "colorbar": {
              "outlinewidth": 0,
              "ticks": ""
             }
            },
            "type": "scattermapbox"
           }
          ],
          "scatterpolar": [
           {
            "marker": {
             "colorbar": {
              "outlinewidth": 0,
              "ticks": ""
             }
            },
            "type": "scatterpolar"
           }
          ],
          "scatterpolargl": [
           {
            "marker": {
             "colorbar": {
              "outlinewidth": 0,
              "ticks": ""
             }
            },
            "type": "scatterpolargl"
           }
          ],
          "scatterternary": [
           {
            "marker": {
             "colorbar": {
              "outlinewidth": 0,
              "ticks": ""
             }
            },
            "type": "scatterternary"
           }
          ],
          "surface": [
           {
            "colorbar": {
             "outlinewidth": 0,
             "ticks": ""
            },
            "colorscale": [
             [
              0,
              "#0d0887"
             ],
             [
              0.1111111111111111,
              "#46039f"
             ],
             [
              0.2222222222222222,
              "#7201a8"
             ],
             [
              0.3333333333333333,
              "#9c179e"
             ],
             [
              0.4444444444444444,
              "#bd3786"
             ],
             [
              0.5555555555555556,
              "#d8576b"
             ],
             [
              0.6666666666666666,
              "#ed7953"
             ],
             [
              0.7777777777777778,
              "#fb9f3a"
             ],
             [
              0.8888888888888888,
              "#fdca26"
             ],
             [
              1,
              "#f0f921"
             ]
            ],
            "type": "surface"
           }
          ],
          "table": [
           {
            "cells": {
             "fill": {
              "color": "#EBF0F8"
             },
             "line": {
              "color": "white"
             }
            },
            "header": {
             "fill": {
              "color": "#C8D4E3"
             },
             "line": {
              "color": "white"
             }
            },
            "type": "table"
           }
          ]
         },
         "layout": {
          "annotationdefaults": {
           "arrowcolor": "#2a3f5f",
           "arrowhead": 0,
           "arrowwidth": 1
          },
          "coloraxis": {
           "colorbar": {
            "outlinewidth": 0,
            "ticks": ""
           }
          },
          "colorscale": {
           "diverging": [
            [
             0,
             "#8e0152"
            ],
            [
             0.1,
             "#c51b7d"
            ],
            [
             0.2,
             "#de77ae"
            ],
            [
             0.3,
             "#f1b6da"
            ],
            [
             0.4,
             "#fde0ef"
            ],
            [
             0.5,
             "#f7f7f7"
            ],
            [
             0.6,
             "#e6f5d0"
            ],
            [
             0.7,
             "#b8e186"
            ],
            [
             0.8,
             "#7fbc41"
            ],
            [
             0.9,
             "#4d9221"
            ],
            [
             1,
             "#276419"
            ]
           ],
           "sequential": [
            [
             0,
             "#0d0887"
            ],
            [
             0.1111111111111111,
             "#46039f"
            ],
            [
             0.2222222222222222,
             "#7201a8"
            ],
            [
             0.3333333333333333,
             "#9c179e"
            ],
            [
             0.4444444444444444,
             "#bd3786"
            ],
            [
             0.5555555555555556,
             "#d8576b"
            ],
            [
             0.6666666666666666,
             "#ed7953"
            ],
            [
             0.7777777777777778,
             "#fb9f3a"
            ],
            [
             0.8888888888888888,
             "#fdca26"
            ],
            [
             1,
             "#f0f921"
            ]
           ],
           "sequentialminus": [
            [
             0,
             "#0d0887"
            ],
            [
             0.1111111111111111,
             "#46039f"
            ],
            [
             0.2222222222222222,
             "#7201a8"
            ],
            [
             0.3333333333333333,
             "#9c179e"
            ],
            [
             0.4444444444444444,
             "#bd3786"
            ],
            [
             0.5555555555555556,
             "#d8576b"
            ],
            [
             0.6666666666666666,
             "#ed7953"
            ],
            [
             0.7777777777777778,
             "#fb9f3a"
            ],
            [
             0.8888888888888888,
             "#fdca26"
            ],
            [
             1,
             "#f0f921"
            ]
           ]
          },
          "colorway": [
           "#636efa",
           "#EF553B",
           "#00cc96",
           "#ab63fa",
           "#FFA15A",
           "#19d3f3",
           "#FF6692",
           "#B6E880",
           "#FF97FF",
           "#FECB52"
          ],
          "font": {
           "color": "#2a3f5f"
          },
          "geo": {
           "bgcolor": "white",
           "lakecolor": "white",
           "landcolor": "#E5ECF6",
           "showlakes": true,
           "showland": true,
           "subunitcolor": "white"
          },
          "hoverlabel": {
           "align": "left"
          },
          "hovermode": "closest",
          "mapbox": {
           "style": "light"
          },
          "paper_bgcolor": "white",
          "plot_bgcolor": "#E5ECF6",
          "polar": {
           "angularaxis": {
            "gridcolor": "white",
            "linecolor": "white",
            "ticks": ""
           },
           "bgcolor": "#E5ECF6",
           "radialaxis": {
            "gridcolor": "white",
            "linecolor": "white",
            "ticks": ""
           }
          },
          "scene": {
           "xaxis": {
            "backgroundcolor": "#E5ECF6",
            "gridcolor": "white",
            "gridwidth": 2,
            "linecolor": "white",
            "showbackground": true,
            "ticks": "",
            "zerolinecolor": "white"
           },
           "yaxis": {
            "backgroundcolor": "#E5ECF6",
            "gridcolor": "white",
            "gridwidth": 2,
            "linecolor": "white",
            "showbackground": true,
            "ticks": "",
            "zerolinecolor": "white"
           },
           "zaxis": {
            "backgroundcolor": "#E5ECF6",
            "gridcolor": "white",
            "gridwidth": 2,
            "linecolor": "white",
            "showbackground": true,
            "ticks": "",
            "zerolinecolor": "white"
           }
          },
          "shapedefaults": {
           "line": {
            "color": "#2a3f5f"
           }
          },
          "ternary": {
           "aaxis": {
            "gridcolor": "white",
            "linecolor": "white",
            "ticks": ""
           },
           "baxis": {
            "gridcolor": "white",
            "linecolor": "white",
            "ticks": ""
           },
           "bgcolor": "#E5ECF6",
           "caxis": {
            "gridcolor": "white",
            "linecolor": "white",
            "ticks": ""
           }
          },
          "title": {
           "x": 0.05
          },
          "xaxis": {
           "automargin": true,
           "gridcolor": "white",
           "linecolor": "white",
           "ticks": "",
           "title": {
            "standoff": 15
           },
           "zerolinecolor": "white",
           "zerolinewidth": 2
          },
          "yaxis": {
           "automargin": true,
           "gridcolor": "white",
           "linecolor": "white",
           "ticks": "",
           "title": {
            "standoff": 15
           },
           "zerolinecolor": "white",
           "zerolinewidth": 2
          }
         }
        },
        "title": {
         "text": "Most streamed game"
        }
       }
      },
      "text/html": [
       "<div>\n",
       "        \n",
       "        \n",
       "            <div id=\"eae6b74c-a6a3-4327-9eb9-85d4af8be7e9\" class=\"plotly-graph-div\" style=\"height:600px; width:100%;\"></div>\n",
       "            <script type=\"text/javascript\">\n",
       "                require([\"plotly\"], function(Plotly) {\n",
       "                    window.PLOTLYENV=window.PLOTLYENV || {};\n",
       "                    \n",
       "                if (document.getElementById(\"eae6b74c-a6a3-4327-9eb9-85d4af8be7e9\")) {\n",
       "                    Plotly.newPlot(\n",
       "                        'eae6b74c-a6a3-4327-9eb9-85d4af8be7e9',\n",
       "                        [{\"mode\": \"markers\", \"text\": [\"7 Days to Die\", \"A Way Out\", \"ARK\", \"ASMR\", \"Age of Empires II: Definitive Edition\", \"Among Us\", \"Animal Crossing: New Horizons\", \"Apex Legends\", \"Arena of Valor\", \"Art\", \"Assassin's Creed Odyssey\", \"Battle Ram\", \"Battlerite\", \"Biped\", \"Black Desert Online\", \"Blackjack\", \"Bloodborne\", \"Borderlands 3\", \"Bus Simulator 18\", \"Call of Duty: Modern Warfare\", \"Castle Crashers\", \"Celeste\", \"Chess\", \"Clash Royale\", \"Clash of Clans\", \"Close to the Sun\", \"Comanche\", \"Cooking Simulator\", \"Counter-Strike: Global Offensive\", \"CrossCode\", \"Danganronpa: Trigger Happy Havoc\", \"Dark Souls\", \"Dark Souls II: Scholar of the First Sin\", \"Dark Souls III\", \"DayZ\", \"Days Gone\", \"Dead by Daylight\", \"Deadside\", \"Deceit\", \"Destiny 2\", \"Diablo II: Lord of Destruction\", \"Dofus\", \"Doom Eternal\", \"Dota 2\", \"Drug Dealer Simulator\", \"Dungeons & Dragons\", \"Emily Wants to Play Too\", \"Escape From Tarkov\", \"Euro Truck Simulator 2\", \"Exanima\", \"F1 2019\", \"FIFA 20\", \"FINAL FANTASY XIV Online\", \"Fallout 76\", \"Farming Simulator 19\", \"Final Doom\", \"Final Fantasy VII\", \"Final Fantasy VII Remake\", \"Food & Drink\", \"Football Manager 2020\", \"Fortnite\", \"Friday the 13th: The Game\", \"Games + Demos\", \"Garena Free Fire\", \"Garry's Mod\", \"Gears 5\", \"GeoGuessr\", \"Golf It!\", \"Granblue Fantasy: Versus\", \"Grand Theft Auto V\", \"Green Hell\", \"Griftlands\", \"Guilty Gear Xrd REV 2\", \"H1Z1\", \"HITMAN\", \"Halo: The Master Chief Collection\", \"Haxball\", \"Hearthstone\", \"Hearts of Iron IV\", \"Heroes of Might and Magic III: The Shadow of Death\", \"Heroes of the Storm\", \"Higurashi When They Cry Hou\", \"Hot Dogs, Horseshoes & Hand Grenades\", \"Hunt: Showdown\", \"I Wanna Be The Boshy\", \"Internet Cafe Simulator\", \"Just Arms\", \"Just Chatting\", \"Killing Floor 2\", \"Kingdom Hearts HD I.5 + II.5 Remix\", \"Knight Online\", \"Last Oasis\", \"League of Legends\", \"Legends of Runeterra\", \"Life Is Strange 2\", \"Lineage II\", \"Loco Parentis\", \"MLB The Show 20\", \"Madden NFL 20\", \"Magic: The Gathering\", \"MapleStory\", \"Marbles On Stream\", \"Mario Kart 8\", \"Metin 2\", \"Minecraft\", \"Monster Hunter World\", \"Mortal Kombat 11\", \"Mount & Blade II: Bannerlord\", \"Music & Performing Arts\", \"My Summer Car\", \"NBA 2K20\", \"NiBiRu: Age of Secrets\", \"Nioh 2\", \"Old School RuneScape\", \"Olympic Games Tokyo 2020: The Official Video Game\", \"Oneiros\", \"Ostriv\", \"Outlast\", \"Over the Alps\", \"Overwatch\", \"PC Building Simulator\", \"PLAYERUNKNOWN'S BATTLEGROUNDS\", \"PUBG MOBILE\", \"Paranormal Activity: The Lost Soul\", \"Path of Exile\", \"Peggle 2\", \"Persona 5: The Royal\", \"Pinturillo 2\", \"Poker\", \"Pok\\u00e9mon Black/White Version 2\", \"Pok\\u00e9mon Sword/Shield\", \"Poly Bridge\", \"Prison Architect\", \"Project Winter\", \"Prominence Poker\", \"Pummel Party\", \"Puyo Puyo Tetris\", \"Quiplash\", \"ROBLOX\", \"Raft\", \"Red Dead Redemption 2\", \"Resident Evil 3\", \"Resident Evil 6\", \"Resident Evil 7 biohazard\", \"Retro\", \"RimWorld\", \"Risk of Rain 2\", \"Rocket League\", \"Roulette\", \"Rust\", \"S.T.A.L.K.E.R.: Shadow of Chernobyl\", \"Saint Seiya: Awakening\", \"Science & Technology\", \"Sea of Thieves\", \"Secret Neighbor\", \"Sekiro: Shadows Die Twice\", \"Shadow of the Colossus\", \"Sid Meier's Civilization VI\", \"Slay the Spire\", \"Slots\", \"Smite\", \"Sonic Adventure 2: Battle\", \"Sports & Fitness\", \"Star Wars Jedi: Fallen Order\", \"StarCraft II\", \"State of Decay 2\", \"Stream Avatars\", \"Summoners War: Sky Arena\", \"Super Mario 64\", \"Super Mario Bros. 3\", \"Super Mario Maker 2\", \"Super Mario World\", \"Super Mario World 2: Yoshi's Island\", \"Super Metroid\", \"Super Smash Bros. Ultimate\", \"Table Manners\", \"Tabletop RPGs\", \"Tales Runner\", \"Talk Shows & Podcasts\", \"Tangle Tower\", \"Teamfight Tactics\", \"Tekken 7\", \"Tetris 99\", \"The Conjuring House\", \"The Elder Scrolls IV: Oblivion\", \"The Elder Scrolls Online\", \"The Elder Scrolls V: Skyrim\", \"The Incredible Hulk: Ultimate Destruction\", \"The Jackbox Party Pack 3\", \"The Jackbox Party Pack 6\", \"The Last of Us\", \"The Legend of Zelda: Breath of the Wild\", \"The Legend of Zelda: Ocarina of Time\", \"The Long Dark\", \"The Seven Deadly Sins: Hikari to Yami no Grand Cross\", \"The Sims 4\", \"The Witcher 3: Wild Hunt\", \"Tibia\", \"Tom Clancy's Rainbow Six: Siege\", \"Total War: Three Kingdoms\", \"Total War: Warhammer II\", \"Trials of Mana\", \"Undermine\", \"VALORANT\", \"VRChat\", \"WWE WrestleMania XIX\", \"Warcraft III\", \"Warframe\", \"Watch Parties\", \"Weed Shop 2\", \"Welcome to the Game II\", \"Witch It\", \"World of Horror\", \"World of Tanks\", \"World of Warcraft\", \"World of Warships\", \"X4: Foundations\", \"Yakuza 0\", \"Yu-Gi-Oh! Duel Links\", \"iRacing.com\", \"osu!\", \"skribbl.io\"], \"type\": \"scatter\", \"x\": [29.931719207759425, 4.684715730396784, 157.95148448936496, 91.06524455260394, 67.39694122354341, 3.2089776008661772, 334.34694195343013, 321.874027630622, 3.901760556750205, 284.18099987328003, 32.31014323453029, 0.965668122087873, 1.911206815218997, 1.7931588895145882, 226.97236511745606, 2.87962926876295, 53.666008888806495, 40.743604750765655, 1.6512207636495677, 424.85345053316627, 1.1151013269584582, 4.140986218269046, 95.15024183548562, 17.100926229743365, 5.063595555239389, 3.2282518284603383, 1.1422331453534587, 1.3211149881076871, 381.6886270714758, 1.6385909254981597, 1.8214464295465271, 90.0041651472737, 6.428892041306687, 114.94564865546819, 49.52221223939748, 4.658901604535817, 307.00379877527274, 98.5763069203747, 5.05417182117055, 272.1965183369477, 20.43060232224484, 28.224098620851958, 66.37110588651049, 340.9912622711492, 144.37568080108602, 107.42902078260221, 1.304514985196196, 296.8008453407265, 55.40915358433414, 5.779196618989209, 38.23821146404771, 354.5790854880269, 160.55673049947603, 199.02297655422905, 18.71796413839863, 3.4809403430257593, 43.92227439203158, 317.4649329105365, 13.971025867685903, 54.299321160144224, 466.597606951771, 20.985225015450403, 30.223189300017008, 140.17329087092492, 8.832804203996893, 20.58160043120321, 1.48362860125846, 4.794367559142034, 8.830238470987954, 482.8573208069913, 51.49319997538453, 13.97106151720556, 17.50887398537616, 1.3818521173583258, 1.3792488283903497, 13.39425565943525, 0.37525298145689406, 292.7823851493695, 6.627309575587, 24.020378482010315, 126.6413781829722, 0.6757209107297063, 0.9916904903057167, 34.34496668582816, 1.3789759471512357, 1.7624604137401527, 2.0058426415049957, 493.86327248396367, 7.412106762334866, 16.935911575737777, 53.688792153341716, 204.9082849861182, 475.37257231992453, 10.532709742618852, 1.4155803756387988, 61.13508339088553, 0.6927668308047163, 108.70275661024722, 169.71895475337385, 233.3951295815972, 21.300807625614436, 199.10285380868513, 14.92191571126767, 40.01169249249709, 360.7422191069458, 160.0279456471766, 23.236349012559423, 205.9882213373463, 335.89367637904337, 4.516926473714631, 241.16963813739372, 0.6442262292583417, 17.38789979128592, 240.2084289563538, 1.6504221024241676, 0.6882707203892136, 0.8371044871342292, 15.450449721252612, 0.8261512341056169, 308.2516833669743, 1.6498531456527972, 270.0055801491643, 43.49847977539848, 0.966556299602175, 246.32062575157045, 2.3407339307370583, 161.7279610579456, 2.0140854887198287, 278.4962037697943, 4.5297417089811765, 210.96756228486365, 0.8108313201930367, 1.0670697965783493, 1.0967507417782871, 2.825035937199401, 8.154717131086164, 1.223423068305531, 4.584201373667719, 18.385792586500813, 7.178578099099912, 85.53963460202293, 194.3485440749854, 6.182133297603378, 18.776297922730006, 184.17540268885386, 48.8316914424471, 8.671268750959852, 239.91136575409647, 2.5065136413858067, 193.4713029633991, 2.3963129431454933, 5.143293138061538, 178.83134516983935, 173.59489507897598, 1.056837354292285, 32.02567272177621, 4.246406087011126, 12.62979567809271, 3.9847511883614035, 229.2941313177306, 167.85534187702552, 1.883742224031155, 24.484705373688236, 4.496125853656284, 152.8835214566986, 14.119203523335193, 0.6704843325131137, 85.84835563058847, 16.57896664935257, 3.9486305474142562, 118.62773985083712, 4.682674258543793, 1.017589152180218, 3.361822096641877, 207.5904675667573, 1.422121064119093, 16.52502383437986, 2.8714814355416793, 165.91017415242027, 1.3458094883307834, 295.390599605528, 9.209334036648691, 1.5035923202380714, 0.6972857941342145, 5.0530154181327145, 109.9598719688491, 14.935373485203398, 0.693483921485604, 27.776446570668227, 20.511173576844403, 18.146984844200833, 82.1785635157905, 14.849293195340552, 6.219568094902251, 44.53321346996879, 86.45685356478165, 76.43392933350896, 225.44139194344547, 284.8802317954719, 1.37784237107942, 9.124010243872933, 1.6144650722828404, 1.2759167853106264, 548.994786230193, 128.5360813661622, 2.4504943748327723, 52.634201711023344, 34.66027539263409, 16.37390371278826, 1.758068976465796, 1.110084285537792, 2.0385450556325058, 2.24859659022242, 197.24646622827422, 366.3885997829803, 149.86572302408908, 2.967124066094293, 4.375725922431651, 8.655070236174794, 159.02444118377758, 32.98420828676638, 17.252264368619056], \"y\": [\"7 Days to Die\", \"A Way Out\", \"ARK\", \"ASMR\", \"Age of Empires II: Definitive Edition\", \"Among Us\", \"Animal Crossing: New Horizons\", \"Apex Legends\", \"Arena of Valor\", \"Art\", \"Assassin's Creed Odyssey\", \"Battle Ram\", \"Battlerite\", \"Biped\", \"Black Desert Online\", \"Blackjack\", \"Bloodborne\", \"Borderlands 3\", \"Bus Simulator 18\", \"Call of Duty: Modern Warfare\", \"Castle Crashers\", \"Celeste\", \"Chess\", \"Clash Royale\", \"Clash of Clans\", \"Close to the Sun\", \"Comanche\", \"Cooking Simulator\", \"Counter-Strike: Global Offensive\", \"CrossCode\", \"Danganronpa: Trigger Happy Havoc\", \"Dark Souls\", \"Dark Souls II: Scholar of the First Sin\", \"Dark Souls III\", \"DayZ\", \"Days Gone\", \"Dead by Daylight\", \"Deadside\", \"Deceit\", \"Destiny 2\", \"Diablo II: Lord of Destruction\", \"Dofus\", \"Doom Eternal\", \"Dota 2\", \"Drug Dealer Simulator\", \"Dungeons & Dragons\", \"Emily Wants to Play Too\", \"Escape From Tarkov\", \"Euro Truck Simulator 2\", \"Exanima\", \"F1 2019\", \"FIFA 20\", \"FINAL FANTASY XIV Online\", \"Fallout 76\", \"Farming Simulator 19\", \"Final Doom\", \"Final Fantasy VII\", \"Final Fantasy VII Remake\", \"Food & Drink\", \"Football Manager 2020\", \"Fortnite\", \"Friday the 13th: The Game\", \"Games + Demos\", \"Garena Free Fire\", \"Garry's Mod\", \"Gears 5\", \"GeoGuessr\", \"Golf It!\", \"Granblue Fantasy: Versus\", \"Grand Theft Auto V\", \"Green Hell\", \"Griftlands\", \"Guilty Gear Xrd REV 2\", \"H1Z1\", \"HITMAN\", \"Halo: The Master Chief Collection\", \"Haxball\", \"Hearthstone\", \"Hearts of Iron IV\", \"Heroes of Might and Magic III: The Shadow of Death\", \"Heroes of the Storm\", \"Higurashi When They Cry Hou\", \"Hot Dogs, Horseshoes & Hand Grenades\", \"Hunt: Showdown\", \"I Wanna Be The Boshy\", \"Internet Cafe Simulator\", \"Just Arms\", \"Just Chatting\", \"Killing Floor 2\", \"Kingdom Hearts HD I.5 + II.5 Remix\", \"Knight Online\", \"Last Oasis\", \"League of Legends\", \"Legends of Runeterra\", \"Life Is Strange 2\", \"Lineage II\", \"Loco Parentis\", \"MLB The Show 20\", \"Madden NFL 20\", \"Magic: The Gathering\", \"MapleStory\", \"Marbles On Stream\", \"Mario Kart 8\", \"Metin 2\", \"Minecraft\", \"Monster Hunter World\", \"Mortal Kombat 11\", \"Mount & Blade II: Bannerlord\", \"Music & Performing Arts\", \"My Summer Car\", \"NBA 2K20\", \"NiBiRu: Age of Secrets\", \"Nioh 2\", \"Old School RuneScape\", \"Olympic Games Tokyo 2020: The Official Video Game\", \"Oneiros\", \"Ostriv\", \"Outlast\", \"Over the Alps\", \"Overwatch\", \"PC Building Simulator\", \"PLAYERUNKNOWN'S BATTLEGROUNDS\", \"PUBG MOBILE\", \"Paranormal Activity: The Lost Soul\", \"Path of Exile\", \"Peggle 2\", \"Persona 5: The Royal\", \"Pinturillo 2\", \"Poker\", \"Pok\\u00e9mon Black/White Version 2\", \"Pok\\u00e9mon Sword/Shield\", \"Poly Bridge\", \"Prison Architect\", \"Project Winter\", \"Prominence Poker\", \"Pummel Party\", \"Puyo Puyo Tetris\", \"Quiplash\", \"ROBLOX\", \"Raft\", \"Red Dead Redemption 2\", \"Resident Evil 3\", \"Resident Evil 6\", \"Resident Evil 7 biohazard\", \"Retro\", \"RimWorld\", \"Risk of Rain 2\", \"Rocket League\", \"Roulette\", \"Rust\", \"S.T.A.L.K.E.R.: Shadow of Chernobyl\", \"Saint Seiya: Awakening\", \"Science & Technology\", \"Sea of Thieves\", \"Secret Neighbor\", \"Sekiro: Shadows Die Twice\", \"Shadow of the Colossus\", \"Sid Meier's Civilization VI\", \"Slay the Spire\", \"Slots\", \"Smite\", \"Sonic Adventure 2: Battle\", \"Sports & Fitness\", \"Star Wars Jedi: Fallen Order\", \"StarCraft II\", \"State of Decay 2\", \"Stream Avatars\", \"Summoners War: Sky Arena\", \"Super Mario 64\", \"Super Mario Bros. 3\", \"Super Mario Maker 2\", \"Super Mario World\", \"Super Mario World 2: Yoshi's Island\", \"Super Metroid\", \"Super Smash Bros. Ultimate\", \"Table Manners\", \"Tabletop RPGs\", \"Tales Runner\", \"Talk Shows & Podcasts\", \"Tangle Tower\", \"Teamfight Tactics\", \"Tekken 7\", \"Tetris 99\", \"The Conjuring House\", \"The Elder Scrolls IV: Oblivion\", \"The Elder Scrolls Online\", \"The Elder Scrolls V: Skyrim\", \"The Incredible Hulk: Ultimate Destruction\", \"The Jackbox Party Pack 3\", \"The Jackbox Party Pack 6\", \"The Last of Us\", \"The Legend of Zelda: Breath of the Wild\", \"The Legend of Zelda: Ocarina of Time\", \"The Long Dark\", \"The Seven Deadly Sins: Hikari to Yami no Grand Cross\", \"The Sims 4\", \"The Witcher 3: Wild Hunt\", \"Tibia\", \"Tom Clancy's Rainbow Six: Siege\", \"Total War: Three Kingdoms\", \"Total War: Warhammer II\", \"Trials of Mana\", \"Undermine\", \"VALORANT\", \"VRChat\", \"WWE WrestleMania XIX\", \"Warcraft III\", \"Warframe\", \"Watch Parties\", \"Weed Shop 2\", \"Welcome to the Game II\", \"Witch It\", \"World of Horror\", \"World of Tanks\", \"World of Warcraft\", \"World of Warships\", \"X4: Foundations\", \"Yakuza 0\", \"Yu-Gi-Oh! Duel Links\", \"iRacing.com\", \"osu!\", \"skribbl.io\"]}],\n",
       "                        {\"height\": 600, \"template\": {\"data\": {\"bar\": [{\"error_x\": {\"color\": \"#2a3f5f\"}, \"error_y\": {\"color\": \"#2a3f5f\"}, \"marker\": {\"line\": {\"color\": \"#E5ECF6\", \"width\": 0.5}}, \"type\": \"bar\"}], \"barpolar\": [{\"marker\": {\"line\": {\"color\": \"#E5ECF6\", \"width\": 0.5}}, \"type\": \"barpolar\"}], \"carpet\": [{\"aaxis\": {\"endlinecolor\": \"#2a3f5f\", \"gridcolor\": \"white\", \"linecolor\": \"white\", \"minorgridcolor\": \"white\", \"startlinecolor\": \"#2a3f5f\"}, \"baxis\": {\"endlinecolor\": \"#2a3f5f\", \"gridcolor\": \"white\", \"linecolor\": \"white\", \"minorgridcolor\": \"white\", \"startlinecolor\": \"#2a3f5f\"}, \"type\": \"carpet\"}], \"choropleth\": [{\"colorbar\": {\"outlinewidth\": 0, \"ticks\": \"\"}, \"type\": \"choropleth\"}], \"contour\": [{\"colorbar\": {\"outlinewidth\": 0, \"ticks\": \"\"}, \"colorscale\": [[0.0, \"#0d0887\"], [0.1111111111111111, \"#46039f\"], [0.2222222222222222, \"#7201a8\"], [0.3333333333333333, \"#9c179e\"], [0.4444444444444444, \"#bd3786\"], [0.5555555555555556, \"#d8576b\"], [0.6666666666666666, \"#ed7953\"], [0.7777777777777778, \"#fb9f3a\"], [0.8888888888888888, \"#fdca26\"], [1.0, \"#f0f921\"]], \"type\": \"contour\"}], \"contourcarpet\": [{\"colorbar\": {\"outlinewidth\": 0, \"ticks\": \"\"}, \"type\": \"contourcarpet\"}], \"heatmap\": [{\"colorbar\": {\"outlinewidth\": 0, \"ticks\": \"\"}, \"colorscale\": [[0.0, \"#0d0887\"], [0.1111111111111111, \"#46039f\"], [0.2222222222222222, \"#7201a8\"], [0.3333333333333333, \"#9c179e\"], [0.4444444444444444, \"#bd3786\"], [0.5555555555555556, \"#d8576b\"], [0.6666666666666666, \"#ed7953\"], [0.7777777777777778, \"#fb9f3a\"], [0.8888888888888888, \"#fdca26\"], [1.0, \"#f0f921\"]], \"type\": \"heatmap\"}], \"heatmapgl\": [{\"colorbar\": {\"outlinewidth\": 0, \"ticks\": \"\"}, \"colorscale\": [[0.0, \"#0d0887\"], [0.1111111111111111, \"#46039f\"], [0.2222222222222222, \"#7201a8\"], [0.3333333333333333, \"#9c179e\"], [0.4444444444444444, \"#bd3786\"], [0.5555555555555556, \"#d8576b\"], [0.6666666666666666, \"#ed7953\"], [0.7777777777777778, \"#fb9f3a\"], [0.8888888888888888, \"#fdca26\"], [1.0, \"#f0f921\"]], \"type\": \"heatmapgl\"}], \"histogram\": [{\"marker\": {\"colorbar\": {\"outlinewidth\": 0, \"ticks\": \"\"}}, \"type\": \"histogram\"}], \"histogram2d\": [{\"colorbar\": {\"outlinewidth\": 0, \"ticks\": \"\"}, \"colorscale\": [[0.0, \"#0d0887\"], [0.1111111111111111, \"#46039f\"], [0.2222222222222222, \"#7201a8\"], [0.3333333333333333, \"#9c179e\"], [0.4444444444444444, \"#bd3786\"], [0.5555555555555556, \"#d8576b\"], [0.6666666666666666, \"#ed7953\"], [0.7777777777777778, \"#fb9f3a\"], [0.8888888888888888, \"#fdca26\"], [1.0, \"#f0f921\"]], \"type\": \"histogram2d\"}], \"histogram2dcontour\": [{\"colorbar\": {\"outlinewidth\": 0, \"ticks\": \"\"}, \"colorscale\": [[0.0, \"#0d0887\"], [0.1111111111111111, \"#46039f\"], [0.2222222222222222, \"#7201a8\"], [0.3333333333333333, \"#9c179e\"], [0.4444444444444444, \"#bd3786\"], [0.5555555555555556, \"#d8576b\"], [0.6666666666666666, \"#ed7953\"], [0.7777777777777778, \"#fb9f3a\"], [0.8888888888888888, \"#fdca26\"], [1.0, \"#f0f921\"]], \"type\": \"histogram2dcontour\"}], \"mesh3d\": [{\"colorbar\": {\"outlinewidth\": 0, \"ticks\": \"\"}, \"type\": \"mesh3d\"}], \"parcoords\": [{\"line\": {\"colorbar\": {\"outlinewidth\": 0, \"ticks\": \"\"}}, \"type\": \"parcoords\"}], \"pie\": [{\"automargin\": true, \"type\": \"pie\"}], \"scatter\": [{\"marker\": {\"colorbar\": {\"outlinewidth\": 0, \"ticks\": \"\"}}, \"type\": \"scatter\"}], \"scatter3d\": [{\"line\": {\"colorbar\": {\"outlinewidth\": 0, \"ticks\": \"\"}}, \"marker\": {\"colorbar\": {\"outlinewidth\": 0, \"ticks\": \"\"}}, \"type\": \"scatter3d\"}], \"scattercarpet\": [{\"marker\": {\"colorbar\": {\"outlinewidth\": 0, \"ticks\": \"\"}}, \"type\": \"scattercarpet\"}], \"scattergeo\": [{\"marker\": {\"colorbar\": {\"outlinewidth\": 0, \"ticks\": \"\"}}, \"type\": \"scattergeo\"}], \"scattergl\": [{\"marker\": {\"colorbar\": {\"outlinewidth\": 0, \"ticks\": \"\"}}, \"type\": \"scattergl\"}], \"scattermapbox\": [{\"marker\": {\"colorbar\": {\"outlinewidth\": 0, \"ticks\": \"\"}}, \"type\": \"scattermapbox\"}], \"scatterpolar\": [{\"marker\": {\"colorbar\": {\"outlinewidth\": 0, \"ticks\": \"\"}}, \"type\": \"scatterpolar\"}], \"scatterpolargl\": [{\"marker\": {\"colorbar\": {\"outlinewidth\": 0, \"ticks\": \"\"}}, \"type\": \"scatterpolargl\"}], \"scatterternary\": [{\"marker\": {\"colorbar\": {\"outlinewidth\": 0, \"ticks\": \"\"}}, \"type\": \"scatterternary\"}], \"surface\": [{\"colorbar\": {\"outlinewidth\": 0, \"ticks\": \"\"}, \"colorscale\": [[0.0, \"#0d0887\"], [0.1111111111111111, \"#46039f\"], [0.2222222222222222, \"#7201a8\"], [0.3333333333333333, \"#9c179e\"], [0.4444444444444444, \"#bd3786\"], [0.5555555555555556, \"#d8576b\"], [0.6666666666666666, \"#ed7953\"], [0.7777777777777778, \"#fb9f3a\"], [0.8888888888888888, \"#fdca26\"], [1.0, \"#f0f921\"]], \"type\": \"surface\"}], \"table\": [{\"cells\": {\"fill\": {\"color\": \"#EBF0F8\"}, \"line\": {\"color\": \"white\"}}, \"header\": {\"fill\": {\"color\": \"#C8D4E3\"}, \"line\": {\"color\": \"white\"}}, \"type\": \"table\"}]}, \"layout\": {\"annotationdefaults\": {\"arrowcolor\": \"#2a3f5f\", \"arrowhead\": 0, \"arrowwidth\": 1}, \"coloraxis\": {\"colorbar\": {\"outlinewidth\": 0, \"ticks\": \"\"}}, \"colorscale\": {\"diverging\": [[0, \"#8e0152\"], [0.1, \"#c51b7d\"], [0.2, \"#de77ae\"], [0.3, \"#f1b6da\"], [0.4, \"#fde0ef\"], [0.5, \"#f7f7f7\"], [0.6, \"#e6f5d0\"], [0.7, \"#b8e186\"], [0.8, \"#7fbc41\"], [0.9, \"#4d9221\"], [1, \"#276419\"]], \"sequential\": [[0.0, \"#0d0887\"], [0.1111111111111111, \"#46039f\"], [0.2222222222222222, \"#7201a8\"], [0.3333333333333333, \"#9c179e\"], [0.4444444444444444, \"#bd3786\"], [0.5555555555555556, \"#d8576b\"], [0.6666666666666666, \"#ed7953\"], [0.7777777777777778, \"#fb9f3a\"], [0.8888888888888888, \"#fdca26\"], [1.0, \"#f0f921\"]], \"sequentialminus\": [[0.0, \"#0d0887\"], [0.1111111111111111, \"#46039f\"], [0.2222222222222222, \"#7201a8\"], [0.3333333333333333, \"#9c179e\"], [0.4444444444444444, \"#bd3786\"], [0.5555555555555556, \"#d8576b\"], [0.6666666666666666, \"#ed7953\"], [0.7777777777777778, \"#fb9f3a\"], [0.8888888888888888, \"#fdca26\"], [1.0, \"#f0f921\"]]}, \"colorway\": [\"#636efa\", \"#EF553B\", \"#00cc96\", \"#ab63fa\", \"#FFA15A\", \"#19d3f3\", \"#FF6692\", \"#B6E880\", \"#FF97FF\", \"#FECB52\"], \"font\": {\"color\": \"#2a3f5f\"}, \"geo\": {\"bgcolor\": \"white\", \"lakecolor\": \"white\", \"landcolor\": \"#E5ECF6\", \"showlakes\": true, \"showland\": true, \"subunitcolor\": \"white\"}, \"hoverlabel\": {\"align\": \"left\"}, \"hovermode\": \"closest\", \"mapbox\": {\"style\": \"light\"}, \"paper_bgcolor\": \"white\", \"plot_bgcolor\": \"#E5ECF6\", \"polar\": {\"angularaxis\": {\"gridcolor\": \"white\", \"linecolor\": \"white\", \"ticks\": \"\"}, \"bgcolor\": \"#E5ECF6\", \"radialaxis\": {\"gridcolor\": \"white\", \"linecolor\": \"white\", \"ticks\": \"\"}}, \"scene\": {\"xaxis\": {\"backgroundcolor\": \"#E5ECF6\", \"gridcolor\": \"white\", \"gridwidth\": 2, \"linecolor\": \"white\", \"showbackground\": true, \"ticks\": \"\", \"zerolinecolor\": \"white\"}, \"yaxis\": {\"backgroundcolor\": \"#E5ECF6\", \"gridcolor\": \"white\", \"gridwidth\": 2, \"linecolor\": \"white\", \"showbackground\": true, \"ticks\": \"\", \"zerolinecolor\": \"white\"}, \"zaxis\": {\"backgroundcolor\": \"#E5ECF6\", \"gridcolor\": \"white\", \"gridwidth\": 2, \"linecolor\": \"white\", \"showbackground\": true, \"ticks\": \"\", \"zerolinecolor\": \"white\"}}, \"shapedefaults\": {\"line\": {\"color\": \"#2a3f5f\"}}, \"ternary\": {\"aaxis\": {\"gridcolor\": \"white\", \"linecolor\": \"white\", \"ticks\": \"\"}, \"baxis\": {\"gridcolor\": \"white\", \"linecolor\": \"white\", \"ticks\": \"\"}, \"bgcolor\": \"#E5ECF6\", \"caxis\": {\"gridcolor\": \"white\", \"linecolor\": \"white\", \"ticks\": \"\"}}, \"title\": {\"x\": 0.05}, \"xaxis\": {\"automargin\": true, \"gridcolor\": \"white\", \"linecolor\": \"white\", \"ticks\": \"\", \"title\": {\"standoff\": 15}, \"zerolinecolor\": \"white\", \"zerolinewidth\": 2}, \"yaxis\": {\"automargin\": true, \"gridcolor\": \"white\", \"linecolor\": \"white\", \"ticks\": \"\", \"title\": {\"standoff\": 15}, \"zerolinecolor\": \"white\", \"zerolinewidth\": 2}}}, \"title\": {\"text\": \"Most streamed game\"}},\n",
       "                        {\"responsive\": true}\n",
       "                    ).then(function(){\n",
       "                            \n",
       "var gd = document.getElementById('eae6b74c-a6a3-4327-9eb9-85d4af8be7e9');\n",
       "var x = new MutationObserver(function (mutations, observer) {{\n",
       "        var display = window.getComputedStyle(gd).display;\n",
       "        if (!display || display === 'none') {{\n",
       "            console.log([gd, 'removed!']);\n",
       "            Plotly.purge(gd);\n",
       "            observer.disconnect();\n",
       "        }}\n",
       "}});\n",
       "\n",
       "// Listen for the removal of the full notebook cells\n",
       "var notebookContainer = gd.closest('#notebook-container');\n",
       "if (notebookContainer) {{\n",
       "    x.observe(notebookContainer, {childList: true});\n",
       "}}\n",
       "\n",
       "// Listen for the clearing of the current output cell\n",
       "var outputEl = gd.closest('.output');\n",
       "if (outputEl) {{\n",
       "    x.observe(outputEl, {childList: true});\n",
       "}}\n",
       "\n",
       "                        })\n",
       "                };\n",
       "                });\n",
       "            </script>\n",
       "        </div>"
      ]
     },
     "metadata": {},
     "output_type": "display_data"
    }
   ],
   "source": [
    "import plotly.graph_objects as go\n",
    "import pandas as pd\n",
    "\n",
    "data= pd.DataFrame(df_log_normalized.groupby('game_name')['viewer_count'].sum()).reset_index()\n",
    "\n",
    "fig = go.Figure(data=go.Scatter(x=data['viewer_count'],\n",
    "                                y=data['game_name'],\n",
    "                                mode='markers',\n",
    "                                text=data['game_name'])) \n",
    "\n",
    "fig.update_layout(title='Most streamed game',height=600)\n",
    "fig.show()"
   ]
  },
  {
   "cell_type": "code",
   "execution_count": null,
   "metadata": {},
   "outputs": [],
   "source": []
  }
 ],
 "metadata": {
  "kernelspec": {
   "display_name": "Python 3",
   "language": "python",
   "name": "python3"
  },
  "language_info": {
   "codemirror_mode": {
    "name": "ipython",
    "version": 3
   },
   "file_extension": ".py",
   "mimetype": "text/x-python",
   "name": "python",
   "nbconvert_exporter": "python",
   "pygments_lexer": "ipython3",
   "version": "3.7.7"
  }
 },
 "nbformat": 4,
 "nbformat_minor": 4
}
