{
 "cells": [
  {
   "cell_type": "markdown",
   "metadata": {},
   "source": [
    "In this workbook I cover all aspects of analysing our Twitch data using the Surprise package. More information about Surprise can be found here: https://surprise.readthedocs.io/en/stable/index.html\n",
    "\n",
    "We start with taking the grid from our EDA Surprise Funnel Workbook and preparing it to be used by Surprise. The package specifically asks for the three items to be present: User, Item, and Rating. Usually, a rating is an evaluation given by the user herself (I can rate a movie I watched or a book I read 4 out of 5 stars), but in our case the rating is a custom success metric which measures how successful a certain game or genre of content has been for a particular streamer. Each person has one 5-rated game, and sometimes others which are scored as a percentage of that core content. In this fashion, we are avoiding the imbalance of scores for those streamers with millions of views, which are very few but skew the results heavily."
   ]
  },
  {
   "cell_type": "code",
   "execution_count": 1,
   "metadata": {},
   "outputs": [],
   "source": [
    "import pandas as pd\n",
    "import numpy as np"
   ]
  },
  {
   "cell_type": "code",
   "execution_count": 2,
   "metadata": {},
   "outputs": [],
   "source": [
    "grid = pd.read_csv('final_game_user_grid.csv')"
   ]
  },
  {
   "cell_type": "code",
   "execution_count": 3,
   "metadata": {},
   "outputs": [
    {
     "name": "stdout",
     "output_type": "stream",
     "text": [
      "<class 'pandas.core.frame.DataFrame'>\n",
      "RangeIndex: 31751 entries, 0 to 31750\n",
      "Data columns (total 7 columns):\n",
      " #   Column        Non-Null Count  Dtype \n",
      "---  ------        --------------  ----- \n",
      " 0   user_name     31751 non-null  object\n",
      " 1   game_name     31751 non-null  object\n",
      " 2   game_genres   31634 non-null  object\n",
      " 3   language      31751 non-null  object\n",
      " 4   started_at    31751 non-null  object\n",
      " 5   viewer_count  31751 non-null  int64 \n",
      " 6   max           31751 non-null  int64 \n",
      "dtypes: int64(2), object(5)\n",
      "memory usage: 1.7+ MB\n"
     ]
    }
   ],
   "source": [
    "grid.info()"
   ]
  },
  {
   "cell_type": "code",
   "execution_count": 4,
   "metadata": {},
   "outputs": [],
   "source": [
    "grid = grid.dropna()"
   ]
  },
  {
   "cell_type": "code",
   "execution_count": 5,
   "metadata": {},
   "outputs": [],
   "source": [
    "grid = grid.dropna(how='any',axis=0) "
   ]
  },
  {
   "cell_type": "code",
   "execution_count": 6,
   "metadata": {
    "scrolled": true
   },
   "outputs": [
    {
     "name": "stderr",
     "output_type": "stream",
     "text": [
      "/Users/nikitaravindran/anaconda3/lib/python3.7/site-packages/ipykernel_launcher.py:2: SettingWithCopyWarning: \n",
      "A value is trying to be set on a copy of a slice from a DataFrame\n",
      "\n",
      "See the caveats in the documentation: https://pandas.pydata.org/pandas-docs/stable/user_guide/indexing.html#returning-a-view-versus-a-copy\n",
      "  \n",
      "/Users/nikitaravindran/anaconda3/lib/python3.7/site-packages/ipykernel_launcher.py:3: SettingWithCopyWarning: \n",
      "A value is trying to be set on a copy of a slice from a DataFrame\n",
      "\n",
      "See the caveats in the documentation: https://pandas.pydata.org/pandas-docs/stable/user_guide/indexing.html#returning-a-view-versus-a-copy\n",
      "  This is separate from the ipykernel package so we can avoid doing imports until\n",
      "/Users/nikitaravindran/anaconda3/lib/python3.7/site-packages/ipykernel_launcher.py:4: SettingWithCopyWarning: \n",
      "A value is trying to be set on a copy of a slice from a DataFrame\n",
      "\n",
      "See the caveats in the documentation: https://pandas.pydata.org/pandas-docs/stable/user_guide/indexing.html#returning-a-view-versus-a-copy\n",
      "  after removing the cwd from sys.path.\n"
     ]
    }
   ],
   "source": [
    "x = grid\n",
    "x['game_genres'][x['game_genres'].str.contains('NONE') == True] = 'Other'\n",
    "x['game_genres'][x['game_genres'].isnull()] = 'Other'\n",
    "x['game_genres'][x['game_genres'].str.contains('RETROGAMEPLACEHOLDER')] = 'Other'"
   ]
  },
  {
   "cell_type": "code",
   "execution_count": 7,
   "metadata": {},
   "outputs": [],
   "source": [
    "grid = x"
   ]
  },
  {
   "cell_type": "markdown",
   "metadata": {},
   "source": [
    "To begin, we're calculating the metric we'll be using to compare users and games. Since we're focused on the streamers, we don't have the traditional \"I like this movie so I will rate it a 4.5 out of 5.0\" ratings. Instead we're calculating how many viewers each streamer attracted with a particular game compared to their max viewer potential over the last week. For each user, one game is their ultimate streaming \"5 out of 5\" benchmark, and all other games they play are compared to that one, and normalized to ratings between 1 and 5. We are also using all the genres for each game to pinpoint how successful various genres and games have been for each streamer."
   ]
  },
  {
   "cell_type": "code",
   "execution_count": 565,
   "metadata": {},
   "outputs": [],
   "source": [
    "max_value_username = pd.DataFrame(grid.groupby('user_name')['max'].max().reset_index())"
   ]
  },
  {
   "cell_type": "code",
   "execution_count": 566,
   "metadata": {},
   "outputs": [],
   "source": [
    "max_val_dict = max_value_username.groupby('user_name')['max'].apply(list).to_dict()"
   ]
  },
  {
   "cell_type": "code",
   "execution_count": 567,
   "metadata": {},
   "outputs": [],
   "source": [
    "grid['max_game'] = grid['user_name'].map(max_val_dict)"
   ]
  },
  {
   "cell_type": "code",
   "execution_count": 568,
   "metadata": {},
   "outputs": [],
   "source": [
    "grid['max_game_int'] = grid.max_game.str[0].astype(int)\n",
    "grid = grid.drop('max_game', axis = 1)"
   ]
  },
  {
   "cell_type": "code",
   "execution_count": 569,
   "metadata": {},
   "outputs": [],
   "source": [
    "grid['score'] = grid['max']/grid['max_game_int']"
   ]
  },
  {
   "cell_type": "code",
   "execution_count": 570,
   "metadata": {},
   "outputs": [],
   "source": [
    "from sklearn.preprocessing import minmax_scale\n",
    "grid['scaled_score'] = minmax_scale(grid['score'], feature_range=(1, 5))"
   ]
  },
  {
   "cell_type": "code",
   "execution_count": 571,
   "metadata": {},
   "outputs": [],
   "source": [
    "grid = grid.dropna()"
   ]
  },
  {
   "cell_type": "markdown",
   "metadata": {},
   "source": [
    "Now we have a listing for each user pairing them with each game they play, what genre it belongs to, and how many people watched them play each game compared to the max viewers they ever got for a stream during the week we examined."
   ]
  },
  {
   "cell_type": "code",
   "execution_count": 572,
   "metadata": {},
   "outputs": [
    {
     "data": {
      "text/html": [
       "<div>\n",
       "<style scoped>\n",
       "    .dataframe tbody tr th:only-of-type {\n",
       "        vertical-align: middle;\n",
       "    }\n",
       "\n",
       "    .dataframe tbody tr th {\n",
       "        vertical-align: top;\n",
       "    }\n",
       "\n",
       "    .dataframe thead th {\n",
       "        text-align: right;\n",
       "    }\n",
       "</style>\n",
       "<table border=\"1\" class=\"dataframe\">\n",
       "  <thead>\n",
       "    <tr style=\"text-align: right;\">\n",
       "      <th></th>\n",
       "      <th>user_name</th>\n",
       "      <th>scaled_score</th>\n",
       "    </tr>\n",
       "  </thead>\n",
       "  <tbody>\n",
       "    <tr>\n",
       "      <th>27473</th>\n",
       "      <td>Fonbet_RocketLeague</td>\n",
       "      <td>378</td>\n",
       "    </tr>\n",
       "    <tr>\n",
       "      <th>77300</th>\n",
       "      <td>StreamerHouse</td>\n",
       "      <td>375</td>\n",
       "    </tr>\n",
       "    <tr>\n",
       "      <th>123375</th>\n",
       "      <td>luke4316live</td>\n",
       "      <td>333</td>\n",
       "    </tr>\n",
       "    <tr>\n",
       "      <th>110114</th>\n",
       "      <td>gaules</td>\n",
       "      <td>315</td>\n",
       "    </tr>\n",
       "    <tr>\n",
       "      <th>27472</th>\n",
       "      <td>Fonbet_RLH</td>\n",
       "      <td>270</td>\n",
       "    </tr>\n",
       "  </tbody>\n",
       "</table>\n",
       "</div>"
      ],
      "text/plain": [
       "                  user_name  scaled_score\n",
       "27473   Fonbet_RocketLeague           378\n",
       "77300         StreamerHouse           375\n",
       "123375         luke4316live           333\n",
       "110114               gaules           315\n",
       "27472            Fonbet_RLH           270"
      ]
     },
     "execution_count": 572,
     "metadata": {},
     "output_type": "execute_result"
    }
   ],
   "source": [
    "grid.groupby('user_name')['scaled_score'].count().reset_index().sort_values('scaled_score', ascending=False)[:5]"
   ]
  },
  {
   "cell_type": "code",
   "execution_count": 573,
   "metadata": {
    "scrolled": true
   },
   "outputs": [
    {
     "data": {
      "text/html": [
       "<div>\n",
       "<style scoped>\n",
       "    .dataframe tbody tr th:only-of-type {\n",
       "        vertical-align: middle;\n",
       "    }\n",
       "\n",
       "    .dataframe tbody tr th {\n",
       "        vertical-align: top;\n",
       "    }\n",
       "\n",
       "    .dataframe thead th {\n",
       "        text-align: right;\n",
       "    }\n",
       "</style>\n",
       "<table border=\"1\" class=\"dataframe\">\n",
       "  <thead>\n",
       "    <tr style=\"text-align: right;\">\n",
       "      <th></th>\n",
       "      <th>game_genres</th>\n",
       "      <th>scaled_score</th>\n",
       "    </tr>\n",
       "  </thead>\n",
       "  <tbody>\n",
       "    <tr>\n",
       "      <th>0</th>\n",
       "      <td>Action</td>\n",
       "      <td>211633</td>\n",
       "    </tr>\n",
       "    <tr>\n",
       "      <th>28</th>\n",
       "      <td>Shooter</td>\n",
       "      <td>165931</td>\n",
       "    </tr>\n",
       "    <tr>\n",
       "      <th>7</th>\n",
       "      <td>FPS</td>\n",
       "      <td>131286</td>\n",
       "    </tr>\n",
       "    <tr>\n",
       "      <th>23</th>\n",
       "      <td>RPG</td>\n",
       "      <td>118595</td>\n",
       "    </tr>\n",
       "    <tr>\n",
       "      <th>15</th>\n",
       "      <td>MMORPG</td>\n",
       "      <td>88901</td>\n",
       "    </tr>\n",
       "  </tbody>\n",
       "</table>\n",
       "</div>"
      ],
      "text/plain": [
       "   game_genres  scaled_score\n",
       "0       Action        211633\n",
       "28     Shooter        165931\n",
       "7          FPS        131286\n",
       "23         RPG        118595\n",
       "15      MMORPG         88901"
      ]
     },
     "execution_count": 573,
     "metadata": {},
     "output_type": "execute_result"
    }
   ],
   "source": [
    "grid.groupby('game_genres')['scaled_score'].count().reset_index().sort_values('scaled_score', ascending=False)[:5]"
   ]
  },
  {
   "cell_type": "code",
   "execution_count": 574,
   "metadata": {},
   "outputs": [
    {
     "data": {
      "text/html": [
       "<div>\n",
       "<style scoped>\n",
       "    .dataframe tbody tr th:only-of-type {\n",
       "        vertical-align: middle;\n",
       "    }\n",
       "\n",
       "    .dataframe tbody tr th {\n",
       "        vertical-align: top;\n",
       "    }\n",
       "\n",
       "    .dataframe thead th {\n",
       "        text-align: right;\n",
       "    }\n",
       "</style>\n",
       "<table border=\"1\" class=\"dataframe\">\n",
       "  <thead>\n",
       "    <tr style=\"text-align: right;\">\n",
       "      <th></th>\n",
       "      <th>game_name</th>\n",
       "      <th>scaled_score</th>\n",
       "    </tr>\n",
       "  </thead>\n",
       "  <tbody>\n",
       "    <tr>\n",
       "      <th>128</th>\n",
       "      <td>Grand Theft Auto V</td>\n",
       "      <td>37860</td>\n",
       "    </tr>\n",
       "    <tr>\n",
       "      <th>180</th>\n",
       "      <td>Minecraft</td>\n",
       "      <td>35715</td>\n",
       "    </tr>\n",
       "    <tr>\n",
       "      <th>243</th>\n",
       "      <td>Rocket League</td>\n",
       "      <td>35043</td>\n",
       "    </tr>\n",
       "    <tr>\n",
       "      <th>37</th>\n",
       "      <td>Black Desert Online</td>\n",
       "      <td>33723</td>\n",
       "    </tr>\n",
       "    <tr>\n",
       "      <th>97</th>\n",
       "      <td>Escape From Tarkov</td>\n",
       "      <td>33366</td>\n",
       "    </tr>\n",
       "  </tbody>\n",
       "</table>\n",
       "</div>"
      ],
      "text/plain": [
       "               game_name  scaled_score\n",
       "128   Grand Theft Auto V         37860\n",
       "180            Minecraft         35715\n",
       "243        Rocket League         35043\n",
       "37   Black Desert Online         33723\n",
       "97    Escape From Tarkov         33366"
      ]
     },
     "execution_count": 574,
     "metadata": {},
     "output_type": "execute_result"
    }
   ],
   "source": [
    "grid.groupby('game_name')['scaled_score'].count().reset_index().sort_values('scaled_score', ascending=False)[:5]"
   ]
  },
  {
   "cell_type": "code",
   "execution_count": 575,
   "metadata": {},
   "outputs": [],
   "source": [
    "min_number_scores = 5\n",
    "filter_users = grid['user_name'].value_counts() > min_number_scores\n",
    "filter_users = filter_users[filter_users].index.tolist()"
   ]
  },
  {
   "cell_type": "code",
   "execution_count": 576,
   "metadata": {},
   "outputs": [
    {
     "name": "stdout",
     "output_type": "stream",
     "text": [
      "The original data frame shape:\t(1364027, 10)\n",
      "The new data frame shape:\t(1137673, 10)\n"
     ]
    }
   ],
   "source": [
    "grid_new = grid[(grid['user_name'].isin(filter_users))]\n",
    "print('The original data frame shape:\\t{}'.format(grid.shape))\n",
    "print('The new data frame shape:\\t{}'.format(grid_new.shape))"
   ]
  },
  {
   "cell_type": "markdown",
   "metadata": {},
   "source": [
    "After reshaping the grid, we are going to extract the recommendations for game genre, game titles, and games similar to those already rated by the streamers as a three-pronged recommender approach."
   ]
  },
  {
   "cell_type": "code",
   "execution_count": 4,
   "metadata": {},
   "outputs": [],
   "source": [
    "import pickle"
   ]
  },
  {
   "cell_type": "code",
   "execution_count": 578,
   "metadata": {},
   "outputs": [],
   "source": [
    "pickle.dump(grid_new, open(\"./Data/final_grid_06_07_19.pkl\", \"wb\" ) )"
   ]
  },
  {
   "cell_type": "code",
   "execution_count": 579,
   "metadata": {},
   "outputs": [],
   "source": [
    "grid_new = pickle.load( open( \"./Data/final_grid_06_07_19.pkl\", \"rb\" ) )"
   ]
  },
  {
   "cell_type": "markdown",
   "metadata": {},
   "source": [
    "Preparing for genre recommendations based on viewership scores:"
   ]
  },
  {
   "cell_type": "code",
   "execution_count": 580,
   "metadata": {
    "scrolled": true
   },
   "outputs": [],
   "source": [
    "genres_base_df = grid_new.groupby(by = ['user_name', 'game_genres'])['scaled_score'].agg([np.mean])\n",
    "games_base_df = grid_new.groupby(by = ['user_name', 'game_name'])['scaled_score'].agg([np.mean])"
   ]
  },
  {
   "cell_type": "code",
   "execution_count": 581,
   "metadata": {},
   "outputs": [
    {
     "data": {
      "text/html": [
       "<div>\n",
       "<style scoped>\n",
       "    .dataframe tbody tr th:only-of-type {\n",
       "        vertical-align: middle;\n",
       "    }\n",
       "\n",
       "    .dataframe tbody tr th {\n",
       "        vertical-align: top;\n",
       "    }\n",
       "\n",
       "    .dataframe thead th {\n",
       "        text-align: right;\n",
       "    }\n",
       "</style>\n",
       "<table border=\"1\" class=\"dataframe\">\n",
       "  <thead>\n",
       "    <tr style=\"text-align: right;\">\n",
       "      <th></th>\n",
       "      <th></th>\n",
       "      <th>mean</th>\n",
       "    </tr>\n",
       "    <tr>\n",
       "      <th>user_name</th>\n",
       "      <th>game_genres</th>\n",
       "      <th></th>\n",
       "    </tr>\n",
       "  </thead>\n",
       "  <tbody>\n",
       "    <tr>\n",
       "      <th rowspan=\"4\" valign=\"top\">00NothingLabs</th>\n",
       "      <th>Fighting</th>\n",
       "      <td>2.421053</td>\n",
       "    </tr>\n",
       "    <tr>\n",
       "      <th>Open World</th>\n",
       "      <td>1.578947</td>\n",
       "    </tr>\n",
       "    <tr>\n",
       "      <th>RPG</th>\n",
       "      <td>1.578947</td>\n",
       "    </tr>\n",
       "    <tr>\n",
       "      <th>Shooter</th>\n",
       "      <td>1.578947</td>\n",
       "    </tr>\n",
       "    <tr>\n",
       "      <th>00elu00</th>\n",
       "      <th>Action</th>\n",
       "      <td>4.000000</td>\n",
       "    </tr>\n",
       "  </tbody>\n",
       "</table>\n",
       "</div>"
      ],
      "text/plain": [
       "                               mean\n",
       "user_name     game_genres          \n",
       "00NothingLabs Fighting     2.421053\n",
       "              Open World   1.578947\n",
       "              RPG          1.578947\n",
       "              Shooter      1.578947\n",
       "00elu00       Action       4.000000"
      ]
     },
     "execution_count": 581,
     "metadata": {},
     "output_type": "execute_result"
    }
   ],
   "source": [
    "genres_base_df.head(5)"
   ]
  },
  {
   "cell_type": "code",
   "execution_count": 582,
   "metadata": {},
   "outputs": [
    {
     "data": {
      "text/html": [
       "<div>\n",
       "<style scoped>\n",
       "    .dataframe tbody tr th:only-of-type {\n",
       "        vertical-align: middle;\n",
       "    }\n",
       "\n",
       "    .dataframe tbody tr th {\n",
       "        vertical-align: top;\n",
       "    }\n",
       "\n",
       "    .dataframe thead th {\n",
       "        text-align: right;\n",
       "    }\n",
       "</style>\n",
       "<table border=\"1\" class=\"dataframe\">\n",
       "  <thead>\n",
       "    <tr style=\"text-align: right;\">\n",
       "      <th></th>\n",
       "      <th></th>\n",
       "      <th>mean</th>\n",
       "    </tr>\n",
       "    <tr>\n",
       "      <th>user_name</th>\n",
       "      <th>game_name</th>\n",
       "      <th></th>\n",
       "    </tr>\n",
       "  </thead>\n",
       "  <tbody>\n",
       "    <tr>\n",
       "      <th rowspan=\"2\" valign=\"top\">00NothingLabs</th>\n",
       "      <th>Mortal Kombat 11</th>\n",
       "      <td>2.421053</td>\n",
       "    </tr>\n",
       "    <tr>\n",
       "      <th>Tom Clancy's The Division 2</th>\n",
       "      <td>1.578947</td>\n",
       "    </tr>\n",
       "    <tr>\n",
       "      <th rowspan=\"2\" valign=\"top\">00elu00</th>\n",
       "      <th>Dead by Daylight</th>\n",
       "      <td>4.666667</td>\n",
       "    </tr>\n",
       "    <tr>\n",
       "      <th>Deathgarden</th>\n",
       "      <td>2.000000</td>\n",
       "    </tr>\n",
       "    <tr>\n",
       "      <th>01joga</th>\n",
       "      <th>PUBG MOBILE</th>\n",
       "      <td>3.750000</td>\n",
       "    </tr>\n",
       "  </tbody>\n",
       "</table>\n",
       "</div>"
      ],
      "text/plain": [
       "                                               mean\n",
       "user_name     game_name                            \n",
       "00NothingLabs Mortal Kombat 11             2.421053\n",
       "              Tom Clancy's The Division 2  1.578947\n",
       "00elu00       Dead by Daylight             4.666667\n",
       "              Deathgarden                  2.000000\n",
       "01joga        PUBG MOBILE                  3.750000"
      ]
     },
     "execution_count": 582,
     "metadata": {},
     "output_type": "execute_result"
    }
   ],
   "source": [
    "games_base_df.head(5)"
   ]
  },
  {
   "cell_type": "code",
   "execution_count": 583,
   "metadata": {},
   "outputs": [],
   "source": [
    "genres_base_df.columns = genres_base_df.columns.map(''.join)\n",
    "games.columns = games.columns.map(''.join)"
   ]
  },
  {
   "cell_type": "code",
   "execution_count": 584,
   "metadata": {},
   "outputs": [],
   "source": [
    "genres_base_df = genres_base_df.reset_index()\n",
    "games_base_df = games_base_df.reset_index()"
   ]
  },
  {
   "cell_type": "code",
   "execution_count": 585,
   "metadata": {},
   "outputs": [
    {
     "name": "stdout",
     "output_type": "stream",
     "text": [
      "<class 'pandas.core.frame.DataFrame'>\n",
      "RangeIndex: 181215 entries, 0 to 181214\n",
      "Data columns (total 3 columns):\n",
      "user_name      181215 non-null object\n",
      "game_genres    181215 non-null object\n",
      "mean           181215 non-null float64\n",
      "dtypes: float64(1), object(2)\n",
      "memory usage: 4.1+ MB\n"
     ]
    }
   ],
   "source": [
    "genres_base_df.info()"
   ]
  },
  {
   "cell_type": "code",
   "execution_count": 586,
   "metadata": {},
   "outputs": [
    {
     "name": "stdout",
     "output_type": "stream",
     "text": [
      "<class 'pandas.core.frame.DataFrame'>\n",
      "RangeIndex: 93606 entries, 0 to 93605\n",
      "Data columns (total 3 columns):\n",
      "user_name    93606 non-null object\n",
      "game_name    93606 non-null object\n",
      "mean         93606 non-null float64\n",
      "dtypes: float64(1), object(2)\n",
      "memory usage: 2.1+ MB\n"
     ]
    }
   ],
   "source": [
    "games_base_df.info()"
   ]
  },
  {
   "cell_type": "code",
   "execution_count": 587,
   "metadata": {
    "scrolled": true
   },
   "outputs": [
    {
     "data": {
      "text/html": [
       "<div>\n",
       "<style scoped>\n",
       "    .dataframe tbody tr th:only-of-type {\n",
       "        vertical-align: middle;\n",
       "    }\n",
       "\n",
       "    .dataframe tbody tr th {\n",
       "        vertical-align: top;\n",
       "    }\n",
       "\n",
       "    .dataframe thead th {\n",
       "        text-align: right;\n",
       "    }\n",
       "</style>\n",
       "<table border=\"1\" class=\"dataframe\">\n",
       "  <thead>\n",
       "    <tr style=\"text-align: right;\">\n",
       "      <th></th>\n",
       "      <th>user_name</th>\n",
       "      <th>game_genres</th>\n",
       "      <th>mean</th>\n",
       "    </tr>\n",
       "  </thead>\n",
       "  <tbody>\n",
       "    <tr>\n",
       "      <th>0</th>\n",
       "      <td>00NothingLabs</td>\n",
       "      <td>Fighting</td>\n",
       "      <td>2.421053</td>\n",
       "    </tr>\n",
       "    <tr>\n",
       "      <th>1</th>\n",
       "      <td>00NothingLabs</td>\n",
       "      <td>Open World</td>\n",
       "      <td>1.578947</td>\n",
       "    </tr>\n",
       "    <tr>\n",
       "      <th>2</th>\n",
       "      <td>00NothingLabs</td>\n",
       "      <td>RPG</td>\n",
       "      <td>1.578947</td>\n",
       "    </tr>\n",
       "    <tr>\n",
       "      <th>3</th>\n",
       "      <td>00NothingLabs</td>\n",
       "      <td>Shooter</td>\n",
       "      <td>1.578947</td>\n",
       "    </tr>\n",
       "    <tr>\n",
       "      <th>4</th>\n",
       "      <td>00elu00</td>\n",
       "      <td>Action</td>\n",
       "      <td>4.000000</td>\n",
       "    </tr>\n",
       "  </tbody>\n",
       "</table>\n",
       "</div>"
      ],
      "text/plain": [
       "       user_name game_genres      mean\n",
       "0  00NothingLabs    Fighting  2.421053\n",
       "1  00NothingLabs  Open World  1.578947\n",
       "2  00NothingLabs         RPG  1.578947\n",
       "3  00NothingLabs     Shooter  1.578947\n",
       "4        00elu00      Action  4.000000"
      ]
     },
     "execution_count": 587,
     "metadata": {},
     "output_type": "execute_result"
    }
   ],
   "source": [
    "genres_base_df.head(5)"
   ]
  },
  {
   "cell_type": "code",
   "execution_count": 588,
   "metadata": {},
   "outputs": [
    {
     "data": {
      "text/html": [
       "<div>\n",
       "<style scoped>\n",
       "    .dataframe tbody tr th:only-of-type {\n",
       "        vertical-align: middle;\n",
       "    }\n",
       "\n",
       "    .dataframe tbody tr th {\n",
       "        vertical-align: top;\n",
       "    }\n",
       "\n",
       "    .dataframe thead th {\n",
       "        text-align: right;\n",
       "    }\n",
       "</style>\n",
       "<table border=\"1\" class=\"dataframe\">\n",
       "  <thead>\n",
       "    <tr style=\"text-align: right;\">\n",
       "      <th></th>\n",
       "      <th>user_name</th>\n",
       "      <th>game_name</th>\n",
       "      <th>mean</th>\n",
       "    </tr>\n",
       "  </thead>\n",
       "  <tbody>\n",
       "    <tr>\n",
       "      <th>0</th>\n",
       "      <td>00NothingLabs</td>\n",
       "      <td>Mortal Kombat 11</td>\n",
       "      <td>2.421053</td>\n",
       "    </tr>\n",
       "    <tr>\n",
       "      <th>1</th>\n",
       "      <td>00NothingLabs</td>\n",
       "      <td>Tom Clancy's The Division 2</td>\n",
       "      <td>1.578947</td>\n",
       "    </tr>\n",
       "    <tr>\n",
       "      <th>2</th>\n",
       "      <td>00elu00</td>\n",
       "      <td>Dead by Daylight</td>\n",
       "      <td>4.666667</td>\n",
       "    </tr>\n",
       "    <tr>\n",
       "      <th>3</th>\n",
       "      <td>00elu00</td>\n",
       "      <td>Deathgarden</td>\n",
       "      <td>2.000000</td>\n",
       "    </tr>\n",
       "    <tr>\n",
       "      <th>4</th>\n",
       "      <td>01joga</td>\n",
       "      <td>PUBG MOBILE</td>\n",
       "      <td>3.750000</td>\n",
       "    </tr>\n",
       "  </tbody>\n",
       "</table>\n",
       "</div>"
      ],
      "text/plain": [
       "       user_name                    game_name      mean\n",
       "0  00NothingLabs             Mortal Kombat 11  2.421053\n",
       "1  00NothingLabs  Tom Clancy's The Division 2  1.578947\n",
       "2        00elu00             Dead by Daylight  4.666667\n",
       "3        00elu00                  Deathgarden  2.000000\n",
       "4         01joga                  PUBG MOBILE  3.750000"
      ]
     },
     "execution_count": 588,
     "metadata": {},
     "output_type": "execute_result"
    }
   ],
   "source": [
    "games_base_df.head(5)"
   ]
  },
  {
   "cell_type": "markdown",
   "metadata": {},
   "source": [
    "Using Surprise to predict genres/games for a streamer based on their existing games and genres ratings"
   ]
  },
  {
   "cell_type": "code",
   "execution_count": 2,
   "metadata": {},
   "outputs": [],
   "source": [
    "import surprise\n",
    "from surprise import Dataset, accuracy, Reader, NMF, NormalPredictor, BaselineOnly, CoClustering, SlopeOne, SVD, KNNBaseline\n",
    "from surprise.model_selection import GridSearchCV, cross_validate, train_test_split"
   ]
  },
  {
   "cell_type": "code",
   "execution_count": 590,
   "metadata": {},
   "outputs": [],
   "source": [
    "reader = Reader(rating_scale=(1, 5))\n",
    "genre_base_data = Dataset.load_from_df(genres_base_df[['user_name', 'game_genres', 'mean']], reader)"
   ]
  },
  {
   "cell_type": "code",
   "execution_count": 591,
   "metadata": {},
   "outputs": [],
   "source": [
    "game_base_data = Dataset.load_from_df(games_base_df[['user_name', 'game_name', 'mean']], reader)"
   ]
  },
  {
   "cell_type": "markdown",
   "metadata": {},
   "source": [
    "Now it is time to select the algorithms we will use to generate recommendations for our streamers based on their existing behavior and also on how similar the games they already stream are to those they do not yet stream. \n",
    "\n",
    "The first step is to evaluate various algorithms available in Surprise to see which produce the lowest RMSE and are computationally friendly so we can use them in a dynamic app and recommend things on the fly. We perform cross validation on all fast algorithms to see which performs best with either of our datasets, genres and games."
   ]
  },
  {
   "cell_type": "code",
   "execution_count": 593,
   "metadata": {
    "scrolled": true
   },
   "outputs": [
    {
     "name": "stdout",
     "output_type": "stream",
     "text": [
      "Evaluating RMSE of algorithm SlopeOne on 5 split(s).\n",
      "\n",
      "                  Fold 1  Fold 2  Fold 3  Fold 4  Fold 5  Mean    Std     \n",
      "RMSE (testset)    0.5857  0.5934  0.5716  0.5848  0.5865  0.5844  0.0071  \n",
      "RMSE (trainset)   0.3755  0.3733  0.3784  0.3757  0.3750  0.3756  0.0016  \n",
      "Fit time          0.54    0.60    0.61    0.58    0.60    0.59    0.03    \n",
      "Test time         0.31    0.29    0.29    0.30    0.29    0.30    0.01    \n",
      "Evaluating RMSE of algorithm NormalPredictor on 5 split(s).\n",
      "\n",
      "                  Fold 1  Fold 2  Fold 3  Fold 4  Fold 5  Mean    Std     \n",
      "RMSE (testset)    1.1046  1.1042  1.1017  1.1126  1.1032  1.1053  0.0038  \n",
      "RMSE (trainset)   1.1061  1.1043  1.1074  1.1044  1.1104  1.1065  0.0023  \n",
      "Fit time          0.22    0.21    0.23    0.23    0.22    0.22    0.01    \n",
      "Test time         0.19    0.19    0.18    0.18    0.18    0.18    0.01    \n",
      "Estimating biases using als...\n",
      "Estimating biases using als...\n",
      "Estimating biases using als...\n",
      "Estimating biases using als...\n",
      "Estimating biases using als...\n",
      "Evaluating RMSE of algorithm BaselineOnly on 5 split(s).\n",
      "\n",
      "                  Fold 1  Fold 2  Fold 3  Fold 4  Fold 5  Mean    Std     \n",
      "RMSE (testset)    0.7364  0.7387  0.7353  0.7321  0.7383  0.7362  0.0024  \n",
      "RMSE (trainset)   0.6951  0.6946  0.6952  0.6958  0.6946  0.6951  0.0005  \n",
      "Fit time          0.48    0.45    0.47    0.51    0.50    0.48    0.02    \n",
      "Test time         0.17    0.16    0.17    0.18    0.17    0.17    0.01    \n",
      "Evaluating RMSE of algorithm NMF on 5 split(s).\n",
      "\n",
      "                  Fold 1  Fold 2  Fold 3  Fold 4  Fold 5  Mean    Std     \n",
      "RMSE (testset)    0.6759  0.6650  0.6513  0.6684  0.6545  0.6630  0.0090  \n",
      "RMSE (trainset)   0.1393  0.1346  0.1600  0.1559  0.1525  0.1485  0.0098  \n",
      "Fit time          11.67   11.88   14.05   12.82   12.69   12.62   0.84    \n",
      "Test time         0.20    0.19    0.23    0.22    0.19    0.21    0.01    \n",
      "Evaluating RMSE of algorithm CoClustering on 5 split(s).\n",
      "\n",
      "                  Fold 1  Fold 2  Fold 3  Fold 4  Fold 5  Mean    Std     \n",
      "RMSE (testset)    0.7483  0.7474  0.7605  0.7560  0.7876  0.7600  0.0147  \n",
      "RMSE (trainset)   0.6268  0.6245  0.6247  0.6242  0.6169  0.6234  0.0034  \n",
      "Fit time          7.88    7.93    8.45    8.60    8.08    8.19    0.29    \n",
      "Test time         0.18    0.21    0.18    0.18    0.20    0.19    0.01    \n",
      "Evaluating RMSE of algorithm SVD on 5 split(s).\n",
      "\n",
      "                  Fold 1  Fold 2  Fold 3  Fold 4  Fold 5  Mean    Std     \n",
      "RMSE (testset)    0.6890  0.6911  0.6761  0.6844  0.6792  0.6839  0.0056  \n",
      "RMSE (trainset)   0.5508  0.5479  0.5410  0.5533  0.5490  0.5484  0.0041  \n",
      "Fit time          8.88    8.41    8.67    8.46    8.44    8.57    0.18    \n",
      "Test time         0.28    0.24    0.23    0.25    0.22    0.24    0.02    \n"
     ]
    },
    {
     "data": {
      "text/html": [
       "<div>\n",
       "<style scoped>\n",
       "    .dataframe tbody tr th:only-of-type {\n",
       "        vertical-align: middle;\n",
       "    }\n",
       "\n",
       "    .dataframe tbody tr th {\n",
       "        vertical-align: top;\n",
       "    }\n",
       "\n",
       "    .dataframe thead th {\n",
       "        text-align: right;\n",
       "    }\n",
       "</style>\n",
       "<table border=\"1\" class=\"dataframe\">\n",
       "  <thead>\n",
       "    <tr style=\"text-align: right;\">\n",
       "      <th></th>\n",
       "      <th>test_rmse</th>\n",
       "      <th>train_rmse</th>\n",
       "      <th>fit_time</th>\n",
       "      <th>test_time</th>\n",
       "    </tr>\n",
       "    <tr>\n",
       "      <th>Algorithm</th>\n",
       "      <th></th>\n",
       "      <th></th>\n",
       "      <th></th>\n",
       "      <th></th>\n",
       "    </tr>\n",
       "  </thead>\n",
       "  <tbody>\n",
       "    <tr>\n",
       "      <th>SlopeOne</th>\n",
       "      <td>0.584388</td>\n",
       "      <td>0.375585</td>\n",
       "      <td>0.586220</td>\n",
       "      <td>0.297370</td>\n",
       "    </tr>\n",
       "    <tr>\n",
       "      <th>NMF</th>\n",
       "      <td>0.663043</td>\n",
       "      <td>0.148451</td>\n",
       "      <td>12.621102</td>\n",
       "      <td>0.205193</td>\n",
       "    </tr>\n",
       "    <tr>\n",
       "      <th>SVD</th>\n",
       "      <td>0.683948</td>\n",
       "      <td>0.548392</td>\n",
       "      <td>8.569584</td>\n",
       "      <td>0.241699</td>\n",
       "    </tr>\n",
       "    <tr>\n",
       "      <th>BaselineOnly</th>\n",
       "      <td>0.736155</td>\n",
       "      <td>0.695059</td>\n",
       "      <td>0.481939</td>\n",
       "      <td>0.170293</td>\n",
       "    </tr>\n",
       "    <tr>\n",
       "      <th>CoClustering</th>\n",
       "      <td>0.759960</td>\n",
       "      <td>0.623429</td>\n",
       "      <td>8.188446</td>\n",
       "      <td>0.189113</td>\n",
       "    </tr>\n",
       "    <tr>\n",
       "      <th>NormalPredictor</th>\n",
       "      <td>1.105266</td>\n",
       "      <td>1.106512</td>\n",
       "      <td>0.221594</td>\n",
       "      <td>0.181772</td>\n",
       "    </tr>\n",
       "  </tbody>\n",
       "</table>\n",
       "</div>"
      ],
      "text/plain": [
       "                 test_rmse  train_rmse   fit_time  test_time\n",
       "Algorithm                                                   \n",
       "SlopeOne          0.584388    0.375585   0.586220   0.297370\n",
       "NMF               0.663043    0.148451  12.621102   0.205193\n",
       "SVD               0.683948    0.548392   8.569584   0.241699\n",
       "BaselineOnly      0.736155    0.695059   0.481939   0.170293\n",
       "CoClustering      0.759960    0.623429   8.188446   0.189113\n",
       "NormalPredictor   1.105266    1.106512   0.221594   0.181772"
      ]
     },
     "execution_count": 593,
     "metadata": {},
     "output_type": "execute_result"
    }
   ],
   "source": [
    "benchmark = []\n",
    "# Iterate over all algorithms\n",
    "for algorithm in [SlopeOne(), NormalPredictor(), BaselineOnly(), NMF(), CoClustering(), SVD()]:\n",
    "\n",
    "\n",
    "    # Perform cross validation\n",
    "    results = cross_validate(algorithm, genre_base_data, measures=['RMSE'], return_train_measures=True, cv=5, verbose=True)\n",
    "    \n",
    "    # Get results & append algorithm name\n",
    "    tmp = pd.DataFrame.from_dict(results).mean(axis=0)\n",
    "    tmp = tmp.append(pd.Series([str(algorithm).split(' ')[0].split('.')[-1]], index=['Algorithm']))\n",
    "    benchmark.append(tmp)\n",
    "    \n",
    "pd.DataFrame(benchmark).set_index('Algorithm').sort_values('test_rmse')  "
   ]
  },
  {
   "cell_type": "markdown",
   "metadata": {},
   "source": [
    "For genre data, the SlopeOne seems to do the best algorithm. To drastically reduce overfitting, improve performance and ease implementation, the Slope One family of easily implemented Item-based Rating-Based collaborative filtering algorithms was proposed. Essentially, instead of using linear regression from one item's ratings to another item's ratings ( {\\displaystyle f(x)=ax+b} f(x)=ax+b), it uses a simpler form of regression with a single free parameter ( {\\displaystyle f(x)=x+b} f(x)=x+b). The free parameter is then simply the average difference between the two items' ratings. It was shown to be much more accurate than linear regression in some instances, and it takes half the storage or less."
   ]
  },
  {
   "cell_type": "code",
   "execution_count": 594,
   "metadata": {},
   "outputs": [
    {
     "name": "stdout",
     "output_type": "stream",
     "text": [
      "Evaluating RMSE of algorithm SlopeOne on 5 split(s).\n",
      "\n",
      "                  Fold 1  Fold 2  Fold 3  Fold 4  Fold 5  Mean    Std     \n",
      "RMSE (testset)    0.9616  0.9684  0.9598  0.9618  0.9601  0.9624  0.0031  \n",
      "RMSE (trainset)   0.3379  0.3353  0.3368  0.3346  0.3354  0.3360  0.0012  \n",
      "Fit time          0.57    0.53    0.51    0.51    0.48    0.52    0.03    \n",
      "Test time         0.15    0.13    0.15    0.13    0.13    0.14    0.01    \n",
      "Evaluating RMSE of algorithm NormalPredictor on 5 split(s).\n",
      "\n",
      "                  Fold 1  Fold 2  Fold 3  Fold 4  Fold 5  Mean    Std     \n",
      "RMSE (testset)    1.1551  1.1522  1.1555  1.1631  1.1635  1.1579  0.0046  \n",
      "RMSE (trainset)   1.1556  1.1541  1.1521  1.1519  1.1542  1.1536  0.0014  \n",
      "Fit time          0.09    0.11    0.11    0.11    0.11    0.10    0.01    \n",
      "Test time         0.12    0.10    0.10    0.10    0.10    0.10    0.01    \n",
      "Estimating biases using als...\n",
      "Estimating biases using als...\n",
      "Estimating biases using als...\n",
      "Estimating biases using als...\n",
      "Estimating biases using als...\n",
      "Evaluating RMSE of algorithm BaselineOnly on 5 split(s).\n",
      "\n",
      "                  Fold 1  Fold 2  Fold 3  Fold 4  Fold 5  Mean    Std     \n",
      "RMSE (testset)    0.7981  0.7991  0.7957  0.8007  0.8009  0.7989  0.0019  \n",
      "RMSE (trainset)   0.7488  0.7486  0.7494  0.7485  0.7480  0.7487  0.0004  \n",
      "Fit time          0.27    0.29    0.29    0.27    0.29    0.28    0.01    \n",
      "Test time         0.09    0.10    0.10    0.10    0.10    0.10    0.00    \n",
      "Evaluating RMSE of algorithm NMF on 5 split(s).\n",
      "\n",
      "                  Fold 1  Fold 2  Fold 3  Fold 4  Fold 5  Mean    Std     \n",
      "RMSE (testset)    0.9892  0.9764  0.9789  0.9766  0.9850  0.9812  0.0050  \n",
      "RMSE (trainset)   0.1014  0.1011  0.1015  0.1005  0.1039  0.1017  0.0012  \n",
      "Fit time          7.87    7.67    7.24    7.76    7.52    7.61    0.22    \n",
      "Test time         0.14    0.10    0.10    0.10    0.10    0.11    0.01    \n",
      "Evaluating RMSE of algorithm CoClustering on 5 split(s).\n",
      "\n",
      "                  Fold 1  Fold 2  Fold 3  Fold 4  Fold 5  Mean    Std     \n",
      "RMSE (testset)    1.0278  1.0335  1.0326  1.0242  1.0341  1.0304  0.0038  \n",
      "RMSE (trainset)   0.6940  0.6648  0.6722  0.6825  0.6704  0.6768  0.0103  \n",
      "Fit time          5.82    6.20    5.53    6.09    5.91    5.91    0.23    \n",
      "Test time         0.11    0.09    0.09    0.10    0.10    0.10    0.01    \n",
      "Evaluating RMSE of algorithm SVD on 5 split(s).\n",
      "\n",
      "                  Fold 1  Fold 2  Fold 3  Fold 4  Fold 5  Mean    Std     \n",
      "RMSE (testset)    0.8010  0.8052  0.8033  0.8076  0.8004  0.8035  0.0026  \n",
      "RMSE (trainset)   0.5995  0.6002  0.5984  0.5983  0.5977  0.5988  0.0009  \n",
      "Fit time          4.35    4.14    4.15    4.18    4.37    4.24    0.10    \n",
      "Test time         0.11    0.10    0.10    0.11    0.12    0.11    0.01    \n"
     ]
    },
    {
     "data": {
      "text/html": [
       "<div>\n",
       "<style scoped>\n",
       "    .dataframe tbody tr th:only-of-type {\n",
       "        vertical-align: middle;\n",
       "    }\n",
       "\n",
       "    .dataframe tbody tr th {\n",
       "        vertical-align: top;\n",
       "    }\n",
       "\n",
       "    .dataframe thead th {\n",
       "        text-align: right;\n",
       "    }\n",
       "</style>\n",
       "<table border=\"1\" class=\"dataframe\">\n",
       "  <thead>\n",
       "    <tr style=\"text-align: right;\">\n",
       "      <th></th>\n",
       "      <th>test_rmse</th>\n",
       "      <th>train_rmse</th>\n",
       "      <th>fit_time</th>\n",
       "      <th>test_time</th>\n",
       "    </tr>\n",
       "    <tr>\n",
       "      <th>Algorithm</th>\n",
       "      <th></th>\n",
       "      <th></th>\n",
       "      <th></th>\n",
       "      <th></th>\n",
       "    </tr>\n",
       "  </thead>\n",
       "  <tbody>\n",
       "    <tr>\n",
       "      <th>BaselineOnly</th>\n",
       "      <td>0.798883</td>\n",
       "      <td>0.748651</td>\n",
       "      <td>0.280550</td>\n",
       "      <td>0.098541</td>\n",
       "    </tr>\n",
       "    <tr>\n",
       "      <th>SVD</th>\n",
       "      <td>0.803490</td>\n",
       "      <td>0.598826</td>\n",
       "      <td>4.237655</td>\n",
       "      <td>0.108464</td>\n",
       "    </tr>\n",
       "    <tr>\n",
       "      <th>SlopeOne</th>\n",
       "      <td>0.962354</td>\n",
       "      <td>0.335998</td>\n",
       "      <td>0.520380</td>\n",
       "      <td>0.137930</td>\n",
       "    </tr>\n",
       "    <tr>\n",
       "      <th>NMF</th>\n",
       "      <td>0.981230</td>\n",
       "      <td>0.101690</td>\n",
       "      <td>7.611222</td>\n",
       "      <td>0.107752</td>\n",
       "    </tr>\n",
       "    <tr>\n",
       "      <th>CoClustering</th>\n",
       "      <td>1.030427</td>\n",
       "      <td>0.676783</td>\n",
       "      <td>5.911154</td>\n",
       "      <td>0.096219</td>\n",
       "    </tr>\n",
       "    <tr>\n",
       "      <th>NormalPredictor</th>\n",
       "      <td>1.157878</td>\n",
       "      <td>1.153591</td>\n",
       "      <td>0.103438</td>\n",
       "      <td>0.104182</td>\n",
       "    </tr>\n",
       "  </tbody>\n",
       "</table>\n",
       "</div>"
      ],
      "text/plain": [
       "                 test_rmse  train_rmse  fit_time  test_time\n",
       "Algorithm                                                  \n",
       "BaselineOnly      0.798883    0.748651  0.280550   0.098541\n",
       "SVD               0.803490    0.598826  4.237655   0.108464\n",
       "SlopeOne          0.962354    0.335998  0.520380   0.137930\n",
       "NMF               0.981230    0.101690  7.611222   0.107752\n",
       "CoClustering      1.030427    0.676783  5.911154   0.096219\n",
       "NormalPredictor   1.157878    1.153591  0.103438   0.104182"
      ]
     },
     "execution_count": 594,
     "metadata": {},
     "output_type": "execute_result"
    }
   ],
   "source": [
    "benchmark = []\n",
    "# Iterate over all algorithms\n",
    "for algorithm in [SlopeOne(), NormalPredictor(), BaselineOnly(), NMF(), CoClustering(), SVD()]:\n",
    "\n",
    "\n",
    "    # Perform cross validation\n",
    "    results = cross_validate(algorithm, game_base_data, measures=['RMSE'], return_train_measures=True, cv=5, verbose=True)\n",
    "    \n",
    "    # Get results & append algorithm name\n",
    "    tmp = pd.DataFrame.from_dict(results).mean(axis=0)\n",
    "    tmp = tmp.append(pd.Series([str(algorithm).split(' ')[0].split('.')[-1]], index=['Algorithm']))\n",
    "    benchmark.append(tmp)\n",
    "    \n",
    "pd.DataFrame(benchmark).set_index('Algorithm').sort_values('test_rmse')  "
   ]
  },
  {
   "cell_type": "markdown",
   "metadata": {},
   "source": [
    "For the game data, we are going to use the BaselineOnly algorithm which produces the lowest test RMSE."
   ]
  },
  {
   "cell_type": "markdown",
   "metadata": {},
   "source": [
    "Based on the results of the algorithm selector, we will proceed with SlopeOne for genre predictions and with the Baseline algorithm for game predictions. More information about SlopeOne can be found here: https://arxiv.org/abs/cs/0702144"
   ]
  },
  {
   "cell_type": "markdown",
   "metadata": {},
   "source": [
    "Next we perform cross-validation to see how our chosen algorithms perform:"
   ]
  },
  {
   "cell_type": "code",
   "execution_count": 595,
   "metadata": {},
   "outputs": [
    {
     "name": "stdout",
     "output_type": "stream",
     "text": [
      "Evaluating RMSE of algorithm SlopeOne on 7 split(s).\n",
      "\n",
      "                  Fold 1  Fold 2  Fold 3  Fold 4  Fold 5  Fold 6  Fold 7  Mean    Std     \n",
      "RMSE (testset)    0.5703  0.5647  0.5678  0.5765  0.5766  0.5738  0.5766  0.5723  0.0045  \n",
      "Fit time          0.55    0.59    0.61    0.65    0.72    0.63    0.63    0.63    0.05    \n",
      "Test time         0.23    0.22    0.23    0.23    0.24    0.23    0.24    0.23    0.01    \n"
     ]
    },
    {
     "data": {
      "text/plain": [
       "{'test_rmse': array([0.57027159, 0.56471004, 0.56780976, 0.5765284 , 0.5765854 ,\n",
       "        0.57377448, 0.57662914]),\n",
       " 'fit_time': (0.5517978668212891,\n",
       "  0.5928771495819092,\n",
       "  0.6136910915374756,\n",
       "  0.6544570922851562,\n",
       "  0.7177228927612305,\n",
       "  0.6294460296630859,\n",
       "  0.6278128623962402),\n",
       " 'test_time': (0.22820138931274414,\n",
       "  0.22416305541992188,\n",
       "  0.22986793518066406,\n",
       "  0.228363037109375,\n",
       "  0.2439868450164795,\n",
       "  0.23336386680603027,\n",
       "  0.23992705345153809)}"
      ]
     },
     "execution_count": 595,
     "metadata": {},
     "output_type": "execute_result"
    }
   ],
   "source": [
    "algo_genre_base = SlopeOne()\n",
    "cross_validate(algo_genre_base, genre_base_data, measures=['RMSE'], cv=7, verbose=True)"
   ]
  },
  {
   "cell_type": "code",
   "execution_count": 596,
   "metadata": {
    "scrolled": true
   },
   "outputs": [
    {
     "name": "stdout",
     "output_type": "stream",
     "text": [
      "Estimating biases using als...\n",
      "Estimating biases using als...\n",
      "Estimating biases using als...\n",
      "Estimating biases using als...\n",
      "Estimating biases using als...\n",
      "Estimating biases using als...\n",
      "Estimating biases using als...\n",
      "Evaluating RMSE of algorithm BaselineOnly on 7 split(s).\n",
      "\n",
      "                  Fold 1  Fold 2  Fold 3  Fold 4  Fold 5  Fold 6  Fold 7  Mean    Std     \n",
      "RMSE (testset)    0.8005  0.8022  0.7937  0.7947  0.7949  0.7968  0.7998  0.7975  0.0030  \n",
      "Fit time          0.35    0.31    0.37    0.31    0.33    0.34    0.34    0.34    0.02    \n",
      "Test time         0.07    0.10    0.08    0.07    0.07    0.08    0.07    0.08    0.01    \n"
     ]
    },
    {
     "data": {
      "text/plain": [
       "{'test_rmse': array([0.80050161, 0.80216882, 0.79373707, 0.79473671, 0.79493957,\n",
       "        0.79677756, 0.79979135]),\n",
       " 'fit_time': (0.34818196296691895,\n",
       "  0.3067960739135742,\n",
       "  0.3692131042480469,\n",
       "  0.3146500587463379,\n",
       "  0.3276832103729248,\n",
       "  0.3410341739654541,\n",
       "  0.3416450023651123),\n",
       " 'test_time': (0.0689859390258789,\n",
       "  0.0962369441986084,\n",
       "  0.08499288558959961,\n",
       "  0.07309079170227051,\n",
       "  0.06678414344787598,\n",
       "  0.07574701309204102,\n",
       "  0.07406401634216309)}"
      ]
     },
     "execution_count": 596,
     "metadata": {},
     "output_type": "execute_result"
    }
   ],
   "source": [
    "bsl_options = {'method': 'als',\n",
    "               'n_epochs': 10,\n",
    "               'reg_u': 12,\n",
    "               'reg_i': 5\n",
    "               }\n",
    "algo_games_base = BaselineOnly(bsl_options=bsl_options)\n",
    "cross_validate(algo_games_base, game_base_data, measures=['RMSE'], cv=7, verbose=True)"
   ]
  },
  {
   "cell_type": "markdown",
   "metadata": {},
   "source": [
    "Now we split the data into train and test sets to produce the predictions for genres and games streamers would like. Our RMSE is low for both algorithms, lower for the genres which makes sense since each genre includes many games which produces more observations for each genres than for each individual game."
   ]
  },
  {
   "cell_type": "code",
   "execution_count": 597,
   "metadata": {},
   "outputs": [
    {
     "name": "stdout",
     "output_type": "stream",
     "text": [
      "RMSE: 0.5997\n"
     ]
    },
    {
     "data": {
      "text/plain": [
       "0.5996935050233947"
      ]
     },
     "execution_count": 597,
     "metadata": {},
     "output_type": "execute_result"
    }
   ],
   "source": [
    "genre_trainset, genre_testset = train_test_split(genre_base_data, test_size=0.25)\n",
    "genre_base_predictions = algo_genre_base.fit(genre_trainset).test(genre_testset)\n",
    "accuracy.rmse(genre_base_predictions)"
   ]
  },
  {
   "cell_type": "code",
   "execution_count": 598,
   "metadata": {},
   "outputs": [
    {
     "name": "stdout",
     "output_type": "stream",
     "text": [
      "Estimating biases using als...\n",
      "RMSE: 0.7948\n"
     ]
    },
    {
     "data": {
      "text/plain": [
       "0.794770382172477"
      ]
     },
     "execution_count": 598,
     "metadata": {},
     "output_type": "execute_result"
    }
   ],
   "source": [
    "game_trainset, game_testset = train_test_split(game_base_data, test_size=0.25)\n",
    "game_base_predictions = algo_games_base.fit(game_trainset).test(game_testset)\n",
    "accuracy.rmse(game_base_predictions)"
   ]
  },
  {
   "cell_type": "markdown",
   "metadata": {},
   "source": [
    "Saving the models and predictions to use in the predictor app:"
   ]
  },
  {
   "cell_type": "code",
   "execution_count": 5,
   "metadata": {},
   "outputs": [],
   "source": [
    "#pickle.dump(algo_genre_base, open(\"./Data/SlopeOne_genre_model.pkl\", \"wb\" ) )\n",
    "algo_genre_base = pickle.load( open( \"./Data/SlopeOne_genre_model.pkl\", \"rb\" ) )"
   ]
  },
  {
   "cell_type": "code",
   "execution_count": 6,
   "metadata": {},
   "outputs": [],
   "source": [
    "#pickle.dump(algo_games_base, open(\"./Data/BaselineOnly_game_model.pkl\", \"wb\" ) )\n",
    "algo_games_base = pickle.load( open( \"./Data/BaselineOnly_game_model.pkl\", \"rb\" ) )"
   ]
  },
  {
   "cell_type": "code",
   "execution_count": 7,
   "metadata": {},
   "outputs": [],
   "source": [
    "#pickle.dump(genre_base_predictions, open(\"./Data/SlopeOne_genre_model_predictions.pkl\", \"wb\" ) )\n",
    "genre_base_predictions = pickle.load( open( \"./Data/SlopeOne_genre_model_predictions.pkl\", \"rb\" ) )"
   ]
  },
  {
   "cell_type": "code",
   "execution_count": 8,
   "metadata": {},
   "outputs": [],
   "source": [
    "#pickle.dump(game_base_predictions, open(\"./Data/BaselineOnly_game_model_predictions.pkl\", \"wb\" ) )\n",
    "game_base_predictions = pickle.load( open( \"./Data/BaselineOnly_game_model_predictions.pkl\", \"rb\" ) )"
   ]
  },
  {
   "cell_type": "code",
   "execution_count": 9,
   "metadata": {},
   "outputs": [],
   "source": [
    "#pickle.dump(genres_base_df, open(\"./Data/genres.pkl\", \"wb\" ) )\n",
    "genres_base_df = pickle.load( open( \"./Data/genres.pkl\", \"rb\" ) )"
   ]
  },
  {
   "cell_type": "code",
   "execution_count": 10,
   "metadata": {},
   "outputs": [],
   "source": [
    "#pickle.dump(games_base_df, open(\"./Data/games.pkl\", \"wb\" ) )\n",
    "games_base_df = pickle.load( open( \"./Data/games.pkl\", \"rb\" ) )"
   ]
  },
  {
   "cell_type": "markdown",
   "metadata": {},
   "source": [
    "Taking the inputs from the user:"
   ]
  },
  {
   "cell_type": "code",
   "execution_count": 100,
   "metadata": {},
   "outputs": [
    {
     "name": "stdout",
     "output_type": "stream",
     "text": [
      "What is your streamer name? jfortson78\n",
      "Which game genres do you currently stream? FPS, Sport\n",
      "Which games do you currently stream? Fortnite, Madden NFL 19\n"
     ]
    }
   ],
   "source": [
    "streamer_name = input('What is your streamer name? ')\n",
    "streamer_genres = list(input ('Which game genres do you currently stream? ').split(', '))\n",
    "streamer_games = list(input ('Which games do you currently stream? ').split(', '))"
   ]
  },
  {
   "cell_type": "code",
   "execution_count": 101,
   "metadata": {},
   "outputs": [
    {
     "data": {
      "text/plain": [
       "('jfortson78', ['FPS', 'Sport'], ['Fortnite', 'Madden NFL 19'])"
      ]
     },
     "execution_count": 101,
     "metadata": {},
     "output_type": "execute_result"
    }
   ],
   "source": [
    "streamer_name, streamer_genres, streamer_games"
   ]
  },
  {
   "cell_type": "markdown",
   "metadata": {},
   "source": [
    "Making a list of streamers' current genres and games by combining any information we already have in our dataset and their own inputs into the app:"
   ]
  },
  {
   "cell_type": "code",
   "execution_count": 72,
   "metadata": {},
   "outputs": [
    {
     "data": {
      "text/html": [
       "<div>\n",
       "<style scoped>\n",
       "    .dataframe tbody tr th:only-of-type {\n",
       "        vertical-align: middle;\n",
       "    }\n",
       "\n",
       "    .dataframe tbody tr th {\n",
       "        vertical-align: top;\n",
       "    }\n",
       "\n",
       "    .dataframe thead th {\n",
       "        text-align: right;\n",
       "    }\n",
       "</style>\n",
       "<table border=\"1\" class=\"dataframe\">\n",
       "  <thead>\n",
       "    <tr style=\"text-align: right;\">\n",
       "      <th></th>\n",
       "      <th>user_name</th>\n",
       "      <th>game_genres</th>\n",
       "      <th>mean</th>\n",
       "    </tr>\n",
       "  </thead>\n",
       "  <tbody>\n",
       "    <tr>\n",
       "      <th>0</th>\n",
       "      <td>00NothingLabs</td>\n",
       "      <td>Fighting</td>\n",
       "      <td>2.421053</td>\n",
       "    </tr>\n",
       "    <tr>\n",
       "      <th>1</th>\n",
       "      <td>00NothingLabs</td>\n",
       "      <td>Open World</td>\n",
       "      <td>1.578947</td>\n",
       "    </tr>\n",
       "    <tr>\n",
       "      <th>2</th>\n",
       "      <td>00NothingLabs</td>\n",
       "      <td>RPG</td>\n",
       "      <td>1.578947</td>\n",
       "    </tr>\n",
       "    <tr>\n",
       "      <th>3</th>\n",
       "      <td>00NothingLabs</td>\n",
       "      <td>Shooter</td>\n",
       "      <td>1.578947</td>\n",
       "    </tr>\n",
       "    <tr>\n",
       "      <th>4</th>\n",
       "      <td>00elu00</td>\n",
       "      <td>Action</td>\n",
       "      <td>4.000000</td>\n",
       "    </tr>\n",
       "  </tbody>\n",
       "</table>\n",
       "</div>"
      ],
      "text/plain": [
       "       user_name game_genres      mean\n",
       "0  00NothingLabs    Fighting  2.421053\n",
       "1  00NothingLabs  Open World  1.578947\n",
       "2  00NothingLabs         RPG  1.578947\n",
       "3  00NothingLabs     Shooter  1.578947\n",
       "4        00elu00      Action  4.000000"
      ]
     },
     "execution_count": 72,
     "metadata": {},
     "output_type": "execute_result"
    }
   ],
   "source": [
    "genres_base_df.head()"
   ]
  },
  {
   "cell_type": "code",
   "execution_count": 102,
   "metadata": {},
   "outputs": [
    {
     "data": {
      "text/plain": [
       "['FPS', 'Sport']"
      ]
     },
     "execution_count": 102,
     "metadata": {},
     "output_type": "execute_result"
    }
   ],
   "source": [
    "def display_current_genres(streamer_name):\n",
    "    user_genres = list(genres_base_df[genres_base_df['user_name']==streamer_name]['game_genres'])\n",
    "    return user_genres\n",
    "recorder_genres_list = display_current_genres(streamer_name)\n",
    "full_genres = set(recorder_genres_list + streamer_genres)\n",
    "full_genres = list(full_genres)\n",
    "full_genres"
   ]
  },
  {
   "cell_type": "code",
   "execution_count": 103,
   "metadata": {},
   "outputs": [
    {
     "data": {
      "text/plain": [
       "['Madden NFL 19', 'Fortnite']"
      ]
     },
     "execution_count": 103,
     "metadata": {},
     "output_type": "execute_result"
    }
   ],
   "source": [
    "def display_current_games(streamer_name):\n",
    "    user_games = list(games_base_df[games_base_df['user_name']==streamer_name]['game_name'])\n",
    "    return user_games\n",
    "recorder_games_list = display_current_games(streamer_name)\n",
    "full_games = set(recorder_games_list + streamer_games)\n",
    "full_games = list(full_games)\n",
    "full_games"
   ]
  },
  {
   "cell_type": "markdown",
   "metadata": {},
   "source": [
    "####  Predicting Genres for Streamers (user-based similarities) ####"
   ]
  },
  {
   "cell_type": "code",
   "execution_count": 75,
   "metadata": {},
   "outputs": [],
   "source": [
    "from collections import defaultdict"
   ]
  },
  {
   "cell_type": "code",
   "execution_count": 76,
   "metadata": {},
   "outputs": [],
   "source": [
    "def get_top_n(predictions, n=10):\n",
    "    top_n = defaultdict(list)\n",
    "    for uid, iid, true_r, est, _ in predictions:\n",
    "        top_n[uid].append((iid, est))\n",
    "\n",
    "    # Then sort the predictions for the user and retrieve the k highest ones.\n",
    "    for uid, user_ratings in top_n.items():\n",
    "        user_ratings.sort(key=lambda x: x[1], reverse=True)\n",
    "        top_n[uid] = user_ratings[:n]\n",
    "\n",
    "    return top_n"
   ]
  },
  {
   "cell_type": "markdown",
   "metadata": {},
   "source": [
    "Setting the inner ids for genres and games to be able to identify them in Surprise nomenclature. The results are all the genres and games the user has not had exposure to:"
   ]
  },
  {
   "cell_type": "code",
   "execution_count": 77,
   "metadata": {},
   "outputs": [],
   "source": [
    "iids_genre = genres_base_df['game_genres'].unique()\n",
    "iids_genre_to_predict = np.setdiff1d(iids_genre, full_genres, assume_unique = True)"
   ]
  },
  {
   "cell_type": "code",
   "execution_count": 78,
   "metadata": {},
   "outputs": [],
   "source": [
    "iids_game = games_base_df['game_name'].unique()\n",
    "iids_game_to_predict = np.setdiff1d(iids_game, full_games, assume_unique = True)"
   ]
  },
  {
   "cell_type": "code",
   "execution_count": 79,
   "metadata": {},
   "outputs": [
    {
     "data": {
      "text/plain": [
       "array(['Fighting', 'Open World', 'RPG', 'Action', 'Horror', 'Other',\n",
       "       'IRL', 'MMORPG', 'MOBA', 'Simulation', 'Adventure Game',\n",
       "       'Driving/Racing Game', 'Strategy', 'Indie Game', 'Roguelike',\n",
       "       'Compilation', 'Puzzle', 'Stealth', 'Sports Game', 'Creative',\n",
       "       'Series: Souls', 'Platformer', 'RTS', 'Card & Board Game',\n",
       "       'Rhythm & Music Game', 'Gambling Game', 'Survival', 'Metroidvania',\n",
       "       'Educational Game', 'Point and Click', 'Flight Simulator',\n",
       "       'Hidden Objects', 'Visual Novel'], dtype=object)"
      ]
     },
     "execution_count": 79,
     "metadata": {},
     "output_type": "execute_result"
    }
   ],
   "source": [
    "iids_genre_to_predict"
   ]
  },
  {
   "cell_type": "code",
   "execution_count": 80,
   "metadata": {},
   "outputs": [
    {
     "data": {
      "text/plain": [
       "array(['Mortal Kombat 11', \"Tom Clancy's The Division 2\",\n",
       "       'Dead by Daylight', 'Deathgarden', 'PUBG MOBILE', 'Dark Souls',\n",
       "       'Retro', 'Dota 2', 'Path of Exile', 'Talk Shows & Podcasts',\n",
       "       'Call of Duty: Black Ops 4', 'World of Tanks', 'Arma 3',\n",
       "       'Outer Wilds', 'Apex Legends', 'My Summer Car',\n",
       "       'Escape From Tarkov', 'Diablo III: Reaper of Souls',\n",
       "       \"Don't Starve Together\", 'Games + Demos', 'Days Gone',\n",
       "       \"PLAYERUNKNOWN'S BATTLEGROUNDS\", 'Smite', 'Black Desert Online',\n",
       "       'FINAL FANTASY XIV Online', 'DayZ', 'Total War: Three Kingdoms',\n",
       "       'Void Bastards', 'The Elder Scrolls Online', 'Battlefield V',\n",
       "       'Mordhau', 'Battalion 1944', 'Rocket League',\n",
       "       'Sekiro: Shadows Die Twice', 'World of Warships',\n",
       "       \"Conqueror's Blade\", 'Monster Hunter World', 'Art',\n",
       "       'Just Chatting', 'Realm Royale', 'Sea of Thieves',\n",
       "       'Warhammer: Chaosbane', 'Dark Souls III', 'Super Mario Maker',\n",
       "       'Science & Technology', 'Red Dead Redemption 2', 'Getting Over It',\n",
       "       'StarCraft II', 'Old School RuneScape', 'Music & Performing Arts',\n",
       "       'Tibia', \"Pokemon: Let's Go, Pikachu!/Eevee!\", 'League of Legends',\n",
       "       'Counter-Strike: Global Offensive',\n",
       "       'Grand Theft Auto: San Andreas', 'Super Smash Bros. Melee',\n",
       "       'Lineage II', 'MapleStory', 'Rust', 'Auto Chess', 'Minecraft',\n",
       "       'Super Smash Bros. Ultimate', 'osu!',\n",
       "       'Warcraft III: The Frozen Throne', 'Grand Theft Auto V', 'Slots',\n",
       "       'Warframe', 'Left 4 Dead 2',\n",
       "       'Donkey Kong Country: Tropical Freeze', 'Super Mario World',\n",
       "       'The Witcher 3: Wild Hunt', 'ARK',\n",
       "       \"Tom Clancy's Rainbow Six: Siege\", 'NBA 2K19', 'Destiny 2',\n",
       "       'XERA: Survival', 'FIFA 19', 'Dauntless', 'Overwatch',\n",
       "       'Heroes of Might and Magic III: The Shadow of Death',\n",
       "       'Layers of Fear 2', 'Borderlands 2', 'Code Vein', 'Subnautica',\n",
       "       'Bloodborne', 'RimWorld', 'Albion Online', 'Magic: The Gathering',\n",
       "       'Hearthstone', 'Poker', 'Splitgate: Arena Warfare',\n",
       "       'A Plague Tale: Innocence', 'Trover Saves the Universe',\n",
       "       'The Legend of Zelda: Breath of the Wild',\n",
       "       'The Elder Scrolls V: Skyrim', 'Travel & Outdoors',\n",
       "       'Super Mario 64', 'World of Warcraft', 'Fallout 76',\n",
       "       'MLB The Show 19', 'Darkest Dungeon',\n",
       "       'Call of Duty: Modern Warfare Remastered', 'Jump King', 'Doom',\n",
       "       'VRChat', 'Terraria', 'Pokémon Emerald', 'Heroes of the Storm',\n",
       "       'Summoners War: Sky Arena', 'Diablo II: Lord of Destruction',\n",
       "       'Gato Roboto', 'Makers & Crafting', '7 Days to Die',\n",
       "       'Metal Gear Solid', 'Rage 2', 'ATLAS', 'Chess', 'iRacing.com',\n",
       "       'Fallout: New Vegas', 'The Sims 4', \"Assassin's Creed Odyssey\",\n",
       "       'Resident Evil 2', 'Cooking Simulator', 'Euro Truck Simulator 2',\n",
       "       'The Binding of Isaac: Afterbirth', 'Clash Royale', 'Guild Wars 2',\n",
       "       'FTL: Faster Than Light', 'Shadowverse', 'Dragon Ball FighterZ',\n",
       "       'The Legend of Zelda: Ocarina of Time', 'Minion Masters',\n",
       "       'Halo: The Master Chief Collection', 'Beat Saber', 'Mario Kart 8',\n",
       "       'Tekken 7', 'PixARK', 'Raft', 'Hollow Knight', 'Star Citizen',\n",
       "       'House Flipper', 'Kingdom Come: Deliverance', 'Street Fighter V',\n",
       "       'ASMR', 'Brawl Stars', 'Hearts of Iron IV', 'Twitch Sings',\n",
       "       'Gwent: The Witcher Card Game', 'It Lurks Below', 'RuneScape',\n",
       "       'Marbles On Stream', \"The Legend of Zelda: Majora's Mask\",\n",
       "       'Satisfactory', 'Stellaris', 'Final Fantasy VII', 'Yakuza 0',\n",
       "       'The Legend of Zelda: Skyward Sword', 'Paladins', 'Pummel Party',\n",
       "       'Slay the Spire', 'TrackMania² Stadium', 'Dofus',\n",
       "       'Assetto Corsa Competizione', 'Football Manager 2019',\n",
       "       'The Elder Scrolls III: Morrowind', 'The Last of Us',\n",
       "       \"Garry's Mod\", 'Ring Of Elysium', 'Life Is Strange 2',\n",
       "       'Twitch Plays', 'The Legend of Zelda: A Link to the Past',\n",
       "       'Dungeons & Dragons', 'Hunt: Showdown', 'Age of Empires II',\n",
       "       'The Jackbox Party Pack 3', 'Divinity: Original Sin II',\n",
       "       'Human: Fall Flat', 'The Forest', 'American Truck Simulator',\n",
       "       'Team Fortress 2', 'Battlefield 4', 'Outlast', 'Warface', 'Squad',\n",
       "       'A Hat in Time', 'Barotrauma', 'The Witcher', 'My Time at Portia',\n",
       "       'Project Winter', 'Call of Duty: Black Ops II', 'Special Events',\n",
       "       'GeoGuessr', 'Gears of War 4', 'Welcome to the Game II',\n",
       "       'Pokémon Black/White Version 2', \"Sid Meier's Civilization V\",\n",
       "       'Doom II: Hell on Earth', 'Eternal', 'Lost Ark Online',\n",
       "       'Battle Brothers', 'They Are Billions', 'Granblue Fantasy: Versus',\n",
       "       'ROBLOX', 'Layers of Fear', 'Modern Warfare 2', 'Outlast 2',\n",
       "       'Kerbal Space Program', 'Danganronpa: Trigger Happy Havoc',\n",
       "       'Risk of Rain 2', 'Dying Light', 'Food & Drink', 'God of War',\n",
       "       'Tabletop RPGs', 'Spyro Reignited Trilogy', 'Brawlhalla',\n",
       "       'Little Nightmares', 'Total War: Warhammer II', 'Observation',\n",
       "       'Dragon Ball Legends', 'Silent Hill', 'Conan Unconquered',\n",
       "       'Call of Duty: Black Ops III', 'Just Dance 2019',\n",
       "       'theHunter: Call of the Wild', 'Anno 1800', 'Cities: Skylines',\n",
       "       'City of Brass', 'World War Z', 'Europa Universalis IV',\n",
       "       'Rising Storm 2: Vietnam', 'BaBa Is You',\n",
       "       'Post Scriptum: The Bloody Seventh', 'Enter the Gungeon',\n",
       "       'Cuphead', 'Forager', 'SCUM', 'Arena of Valor', 'A Way Out',\n",
       "       'Sonic Mania', \"The Legend of Zelda: Link's Awakening DX\",\n",
       "       'Use Your Words', 'Always On', 'Epic Seven', 'Age of Mythology',\n",
       "       'Mega Man X', 'Sonic Adventure 2: Battle', 'Project Zomboid',\n",
       "       'Alien: Isolation', 'Golf With Your Friends', 'Tera',\n",
       "       'Super Bunny Man', 'SteamWorld Quest: Hand of Gilgamech',\n",
       "       'Sonic the Hedgehog', 'Conan Exiles',\n",
       "       'Phoenix Wright: Ace Attorney Trilogy HD', 'Trials Rising',\n",
       "       'Princess Connect! Re: Dive', 'Doki Doki Literature Club',\n",
       "       'Pokémon Ultra Sun/Ultra Moon', 'Call of Duty: Modern Warfare 3',\n",
       "       \"Five Nights at Freddy's VR: Help Wanted\",\n",
       "       'Mount & Blade: Warband', 'Inside', 'Super Seducer',\n",
       "       'Tabletop Simulator', 'Tower Unite', 'Yakuza Kiwami 2',\n",
       "       'The Elder Scrolls IV: Oblivion', 'Persona 5', 'Draugen',\n",
       "       'Spelunky', 'BioShock', 'Kao the Kangaroo Round 2',\n",
       "       \"Assassin's Creed II\", 'Dark Souls II', 'WWE 2K19', 'Spellbreak',\n",
       "       'Yu-Gi-Oh! Duel Links', 'The Jackbox Party Pack 4',\n",
       "       'Under Night In-Birth Exe:Late[st]', 'Parasite Eve II',\n",
       "       'Resident Evil 3: Nemesis', 'Ori and the Blind Forest',\n",
       "       'Pokémon HeartGold/SoulSilver', 'Diablo', 'Rescue HQ - The Tycoon',\n",
       "       'Yu-Gi-Oh! TRADING CARD GAME', 'Detroit: Become Human',\n",
       "       'Project CARS 2', 'Vampire: The Masquerade', 'skribbl.io',\n",
       "       'Worms W.M.D', 'The Jackbox Party Pack 5', 'Final Fantasy X',\n",
       "       'Katana Zero', \"Five Nights at Freddy's\", 'Blackjack',\n",
       "       'Metal Gear Solid 3: Snake Eater', 'Tetris 99',\n",
       "       'Super Animal Royale', 'Battlefield 1',\n",
       "       \"Uncharted 4: A Thief's End\", 'Farming Simulator 19',\n",
       "       'Resident Evil: Code: Veronica X', 'Transference', 'NHL 19',\n",
       "       'Astroneer', 'Yu-Gi-Oh! Legacy of the Duelist',\n",
       "       'Penumbra: Black Plague', 'Visage', 'Quiplash', 'Quake Champions',\n",
       "       'Agar.io', 'Soulcalibur VI', 'StarCraft', 'Devil May Cry 5',\n",
       "       \"Assassin's Creed III\", 'Half-Life 2', 'F1 2018', 'Banjo-Kazooie',\n",
       "       'Pokémon Stadium', 'Plants vs. Zombies: Garden Warfare 2',\n",
       "       'Silent Hill 2', 'Metro Exodus', 'Hitman 2', 'Blood & Truth',\n",
       "       'Frostpunk', 'Sports & Fitness', 'The Joy of Creation',\n",
       "       'Monopoly Plus', 'Metin 2', 'Kingdom Hearts III',\n",
       "       'Metal Gear Rising: Revengeance', 'Wrestling',\n",
       "       'Call of Duty: WWII',\n",
       "       'SpongeBob SquarePants: Battle for Bikini Bottom', 'Heavy Rain',\n",
       "       'Oxygen Not Included', 'Dreams', 'Titanfall 2',\n",
       "       'The Lord of the Rings Online', 'Microsoft Flight Simulator X',\n",
       "       'Dirt Rally 2.0', 'Kantai Collection', 'Mega Man 11',\n",
       "       'Prominence Poker', 'Choice Chamber', 'Bad North',\n",
       "       'The King of Fighters All Star', 'Warcraft III: Reign of Chaos'],\n",
       "      dtype=object)"
      ]
     },
     "execution_count": 80,
     "metadata": {},
     "output_type": "execute_result"
    }
   ],
   "source": [
    "iids_game_to_predict"
   ]
  },
  {
   "cell_type": "markdown",
   "metadata": {},
   "source": [
    "Making a personal testset for the user, populating same base rating as true since the actuals are not known and we are trying to predict the expected rating:"
   ]
  },
  {
   "cell_type": "code",
   "execution_count": 81,
   "metadata": {},
   "outputs": [],
   "source": [
    "genre_testset_personal = [[streamer_name, iid, 0.] for iid in iids_genre_to_predict]\n",
    "game_testset_personal = [[streamer_name, iid, 0.] for iid in iids_game_to_predict]"
   ]
  },
  {
   "cell_type": "markdown",
   "metadata": {},
   "source": [
    "Producing a list of predictions based on the inputs:"
   ]
  },
  {
   "cell_type": "code",
   "execution_count": 82,
   "metadata": {},
   "outputs": [],
   "source": [
    "personal_genre_predictions = algo_genre_base.test(genre_testset_personal)\n",
    "personal_game_predictions = algo_games_base.test(game_testset_personal)"
   ]
  },
  {
   "cell_type": "code",
   "execution_count": 83,
   "metadata": {
    "scrolled": true
   },
   "outputs": [],
   "source": [
    "personal_genre_df = pd.DataFrame(personal_genre_predictions, columns=['uid', 'iid', 'rui', 'est', 'details'])    "
   ]
  },
  {
   "cell_type": "code",
   "execution_count": 84,
   "metadata": {},
   "outputs": [],
   "source": [
    "personal_genre_pred = personal_genre_df[['iid', 'est']]"
   ]
  },
  {
   "cell_type": "code",
   "execution_count": 85,
   "metadata": {},
   "outputs": [],
   "source": [
    "personal_game_df = pd.DataFrame(personal_game_predictions, columns=['uid', 'iid', 'rui', 'est', 'details'])    "
   ]
  },
  {
   "cell_type": "code",
   "execution_count": 86,
   "metadata": {},
   "outputs": [],
   "source": [
    "personal_game_pred = personal_game_df[['iid', 'est']]"
   ]
  },
  {
   "cell_type": "code",
   "execution_count": 87,
   "metadata": {},
   "outputs": [],
   "source": [
    "top_n_genres = get_top_n(personal_genre_predictions)\n",
    "top_n_games = get_top_n(personal_game_predictions)"
   ]
  },
  {
   "cell_type": "code",
   "execution_count": 88,
   "metadata": {},
   "outputs": [
    {
     "data": {
      "text/plain": [
       "defaultdict(list,\n",
       "            {'jfortson78': [('Fighting', 3.566848473427548),\n",
       "              ('Open World', 3.566848473427548),\n",
       "              ('RPG', 3.566848473427548),\n",
       "              ('Action', 3.566848473427548),\n",
       "              ('Horror', 3.566848473427548),\n",
       "              ('Other', 3.566848473427548),\n",
       "              ('IRL', 3.566848473427548),\n",
       "              ('MMORPG', 3.566848473427548),\n",
       "              ('MOBA', 3.566848473427548),\n",
       "              ('Simulation', 3.566848473427548)]})"
      ]
     },
     "execution_count": 88,
     "metadata": {},
     "output_type": "execute_result"
    }
   ],
   "source": [
    "top_n_genres"
   ]
  },
  {
   "cell_type": "code",
   "execution_count": 89,
   "metadata": {},
   "outputs": [
    {
     "data": {
      "text/plain": [
       "defaultdict(list,\n",
       "            {'jfortson78': [('The Jackbox Party Pack 3', 4.062363081116334),\n",
       "              ('Call of Duty: Black Ops II', 3.9908953498432735),\n",
       "              ('Pokémon Ultra Sun/Ultra Moon', 3.9754841902087326),\n",
       "              ('Visage', 3.9680701013431072),\n",
       "              ('Minecraft', 3.915990585923289),\n",
       "              ('The Elder Scrolls IV: Oblivion', 3.9144011379310846),\n",
       "              ('The Jackbox Party Pack 4', 3.9086796813716798),\n",
       "              ('Silent Hill', 3.8990685919404933),\n",
       "              ('Satisfactory', 3.8925097559050457),\n",
       "              ('Rocket League', 3.8904878288840434)]})"
      ]
     },
     "execution_count": 89,
     "metadata": {},
     "output_type": "execute_result"
    }
   ],
   "source": [
    "top_n_games"
   ]
  },
  {
   "cell_type": "code",
   "execution_count": 90,
   "metadata": {},
   "outputs": [
    {
     "name": "stdout",
     "output_type": "stream",
     "text": [
      "For jfortson78, the recommended genres are:['Fighting', 'Open World', 'RPG', 'Action', 'Horror', 'Other', 'IRL', 'MMORPG', 'MOBA', 'Simulation']\n"
     ]
    }
   ],
   "source": [
    "for uid, user_ratings in top_n_genres.items():\n",
    "    print('For ' + uid + ', the recommended genres are:'+ str([iid for (iid, _) in user_ratings]))\n",
    "genre_user_based_list = [iid for (iid, _) in user_ratings]"
   ]
  },
  {
   "cell_type": "code",
   "execution_count": 91,
   "metadata": {},
   "outputs": [
    {
     "name": "stdout",
     "output_type": "stream",
     "text": [
      "For jfortson78, the recommended games are:['The Jackbox Party Pack 3', 'Call of Duty: Black Ops II', 'Pokémon Ultra Sun/Ultra Moon', 'Visage', 'Minecraft', 'The Elder Scrolls IV: Oblivion', 'The Jackbox Party Pack 4', 'Silent Hill', 'Satisfactory', 'Rocket League']\n"
     ]
    }
   ],
   "source": [
    "for uid, user_ratings in top_n_games.items():\n",
    "    print('For ' + uid + ', the recommended games are:'+ str([iid for (iid, _) in user_ratings]))\n",
    "game_user_based_list = [iid for (iid, _) in user_ratings]"
   ]
  },
  {
   "cell_type": "markdown",
   "metadata": {},
   "source": [
    "#### Predicting Similar Genres Based on Current Genre/Game (item-based similarity) #### "
   ]
  },
  {
   "cell_type": "code",
   "execution_count": 92,
   "metadata": {},
   "outputs": [],
   "source": [
    "from surprise import KNNBaseline\n",
    "from surprise import Dataset\n",
    "from surprise import get_dataset_dir"
   ]
  },
  {
   "cell_type": "code",
   "execution_count": 632,
   "metadata": {
    "scrolled": true
   },
   "outputs": [],
   "source": [
    "genre_group = grid_new.groupby(by = ['game_genres', 'user_name'])['scaled_score'].agg([np.mean])\n",
    "game_group = grid_new.groupby(by = ['game_name', 'user_name'])['scaled_score'].agg([np.mean])"
   ]
  },
  {
   "cell_type": "code",
   "execution_count": 633,
   "metadata": {},
   "outputs": [],
   "source": [
    "genre_group = genre_group.reset_index()\n",
    "game_group = game_group.reset_index()"
   ]
  },
  {
   "cell_type": "code",
   "execution_count": 93,
   "metadata": {},
   "outputs": [],
   "source": [
    "#pickle.dump(genre_group, open(\"./Data/genre_group.pkl\", \"wb\" ) )\n",
    "genre_group = pickle.load( open( \"./Data/genre_group.pkl\", \"rb\" ) )\n",
    "\n",
    "#pickle.dump(game_group, open(\"./Data/game_group.pkl\", \"wb\" ) )\n",
    "game_group = pickle.load( open( \"./Data/game_group.pkl\", \"rb\" ) )"
   ]
  },
  {
   "cell_type": "code",
   "execution_count": 94,
   "metadata": {},
   "outputs": [],
   "source": [
    "genre_group = pickle.load( open( \"./Data/genre_group.pkl\", \"rb\" ) )\n",
    "reader = Reader(rating_scale=(1, 5))\n",
    "genre_group_data = Dataset.load_from_df(genre_group[['user_name', 'game_genres', 'mean']], reader)\n",
    "\n",
    "game_group = pickle.load( open( \"./Data/game_group.pkl\", \"rb\" ) )\n",
    "reader = Reader(rating_scale=(1, 5))\n",
    "game_group_data = Dataset.load_from_df(game_group[['user_name', 'game_name', 'mean']], reader)"
   ]
  },
  {
   "cell_type": "markdown",
   "metadata": {},
   "source": [
    "We're using the KNNBaseline algorithm to choose the genres and games with the highest similarity to those already streamed, as it was the fastest of the KNN algorithms available and can be quickly used in the app to make on the spot predictions. We now perform the grid search to find the optimal parameters and then use those algorithms on our data."
   ]
  },
  {
   "cell_type": "code",
   "execution_count": 95,
   "metadata": {},
   "outputs": [
    {
     "name": "stdout",
     "output_type": "stream",
     "text": [
      "Grid Search...\n",
      "Estimating biases using als...\n",
      "Computing the msd similarity matrix...\n",
      "Done computing similarity matrix.\n",
      "Estimating biases using als...\n",
      "Computing the msd similarity matrix...\n",
      "Done computing similarity matrix.\n",
      "Estimating biases using als...\n",
      "Computing the msd similarity matrix...\n",
      "Done computing similarity matrix.\n",
      "Estimating biases using als...\n",
      "Computing the msd similarity matrix...\n",
      "Done computing similarity matrix.\n",
      "Estimating biases using als...\n",
      "Computing the msd similarity matrix...\n",
      "Done computing similarity matrix.\n",
      "Estimating biases using als...\n",
      "Computing the msd similarity matrix...\n",
      "Done computing similarity matrix.\n",
      "Estimating biases using als...\n",
      "Computing the cosine similarity matrix...\n",
      "Done computing similarity matrix.\n",
      "Estimating biases using als...\n",
      "Computing the cosine similarity matrix...\n",
      "Done computing similarity matrix.\n",
      "Estimating biases using als...\n",
      "Computing the cosine similarity matrix...\n",
      "Done computing similarity matrix.\n",
      "Estimating biases using als...\n",
      "Computing the cosine similarity matrix...\n",
      "Done computing similarity matrix.\n",
      "Estimating biases using als...\n",
      "Computing the cosine similarity matrix...\n",
      "Done computing similarity matrix.\n",
      "Estimating biases using als...\n",
      "Computing the cosine similarity matrix...\n",
      "Done computing similarity matrix.\n",
      "Estimating biases using als...\n",
      "Computing the msd similarity matrix...\n",
      "Done computing similarity matrix.\n",
      "Estimating biases using als...\n",
      "Computing the msd similarity matrix...\n",
      "Done computing similarity matrix.\n",
      "Estimating biases using als...\n",
      "Computing the msd similarity matrix...\n",
      "Done computing similarity matrix.\n",
      "Estimating biases using als...\n",
      "Computing the msd similarity matrix...\n",
      "Done computing similarity matrix.\n",
      "Estimating biases using als...\n",
      "Computing the msd similarity matrix...\n",
      "Done computing similarity matrix.\n",
      "Estimating biases using als...\n",
      "Computing the msd similarity matrix...\n",
      "Done computing similarity matrix.\n",
      "Estimating biases using als...\n",
      "Computing the cosine similarity matrix...\n",
      "Done computing similarity matrix.\n",
      "Estimating biases using als...\n",
      "Computing the cosine similarity matrix...\n",
      "Done computing similarity matrix.\n",
      "Estimating biases using als...\n",
      "Computing the cosine similarity matrix...\n",
      "Done computing similarity matrix.\n",
      "Estimating biases using als...\n",
      "Computing the cosine similarity matrix...\n",
      "Done computing similarity matrix.\n",
      "Estimating biases using als...\n",
      "Computing the cosine similarity matrix...\n",
      "Done computing similarity matrix.\n",
      "Estimating biases using als...\n",
      "Computing the cosine similarity matrix...\n",
      "Done computing similarity matrix.\n",
      "Estimating biases using als...\n",
      "Computing the msd similarity matrix...\n",
      "Done computing similarity matrix.\n",
      "Estimating biases using als...\n",
      "Computing the msd similarity matrix...\n",
      "Done computing similarity matrix.\n",
      "Estimating biases using als...\n",
      "Computing the msd similarity matrix...\n",
      "Done computing similarity matrix.\n",
      "Estimating biases using als...\n",
      "Computing the msd similarity matrix...\n",
      "Done computing similarity matrix.\n",
      "Estimating biases using als...\n",
      "Computing the msd similarity matrix...\n",
      "Done computing similarity matrix.\n",
      "Estimating biases using als...\n",
      "Computing the msd similarity matrix...\n",
      "Done computing similarity matrix.\n",
      "Estimating biases using als...\n",
      "Computing the cosine similarity matrix...\n",
      "Done computing similarity matrix.\n",
      "Estimating biases using als...\n",
      "Computing the cosine similarity matrix...\n",
      "Done computing similarity matrix.\n",
      "Estimating biases using als...\n",
      "Computing the cosine similarity matrix...\n",
      "Done computing similarity matrix.\n",
      "Estimating biases using als...\n",
      "Computing the cosine similarity matrix...\n",
      "Done computing similarity matrix.\n",
      "Estimating biases using als...\n",
      "Computing the cosine similarity matrix...\n",
      "Done computing similarity matrix.\n",
      "Estimating biases using als...\n",
      "Computing the cosine similarity matrix...\n",
      "Done computing similarity matrix.\n",
      "Estimating biases using als...\n",
      "Computing the msd similarity matrix...\n",
      "Done computing similarity matrix.\n",
      "Estimating biases using als...\n",
      "Computing the msd similarity matrix...\n",
      "Done computing similarity matrix.\n",
      "Estimating biases using als...\n",
      "Computing the msd similarity matrix...\n",
      "Done computing similarity matrix.\n",
      "Estimating biases using als...\n",
      "Computing the msd similarity matrix...\n",
      "Done computing similarity matrix.\n",
      "Estimating biases using als...\n",
      "Computing the msd similarity matrix...\n",
      "Done computing similarity matrix.\n",
      "Estimating biases using als...\n",
      "Computing the msd similarity matrix...\n",
      "Done computing similarity matrix.\n",
      "Estimating biases using als...\n",
      "Computing the cosine similarity matrix...\n",
      "Done computing similarity matrix.\n",
      "Estimating biases using als...\n",
      "Computing the cosine similarity matrix...\n",
      "Done computing similarity matrix.\n",
      "Estimating biases using als...\n",
      "Computing the cosine similarity matrix...\n",
      "Done computing similarity matrix.\n",
      "Estimating biases using als...\n",
      "Computing the cosine similarity matrix...\n",
      "Done computing similarity matrix.\n",
      "Estimating biases using als...\n",
      "Computing the cosine similarity matrix...\n",
      "Done computing similarity matrix.\n",
      "Estimating biases using als...\n",
      "Computing the cosine similarity matrix...\n",
      "Done computing similarity matrix.\n",
      "Estimating biases using sgd...\n",
      "Computing the msd similarity matrix...\n",
      "Done computing similarity matrix.\n",
      "Estimating biases using sgd...\n",
      "Computing the msd similarity matrix...\n",
      "Done computing similarity matrix.\n",
      "Estimating biases using sgd...\n",
      "Computing the msd similarity matrix...\n",
      "Done computing similarity matrix.\n",
      "Estimating biases using sgd...\n",
      "Computing the msd similarity matrix...\n",
      "Done computing similarity matrix.\n",
      "Estimating biases using sgd...\n",
      "Computing the msd similarity matrix...\n",
      "Done computing similarity matrix.\n",
      "Estimating biases using sgd...\n",
      "Computing the msd similarity matrix...\n",
      "Done computing similarity matrix.\n",
      "Estimating biases using sgd...\n",
      "Computing the cosine similarity matrix...\n",
      "Done computing similarity matrix.\n",
      "Estimating biases using sgd...\n",
      "Computing the cosine similarity matrix...\n",
      "Done computing similarity matrix.\n",
      "Estimating biases using sgd...\n",
      "Computing the cosine similarity matrix...\n",
      "Done computing similarity matrix.\n",
      "Estimating biases using sgd...\n",
      "Computing the cosine similarity matrix...\n",
      "Done computing similarity matrix.\n",
      "Estimating biases using sgd...\n",
      "Computing the cosine similarity matrix...\n",
      "Done computing similarity matrix.\n",
      "Estimating biases using sgd...\n",
      "Computing the cosine similarity matrix...\n",
      "Done computing similarity matrix.\n",
      "Estimating biases using sgd...\n",
      "Computing the msd similarity matrix...\n",
      "Done computing similarity matrix.\n",
      "Estimating biases using sgd...\n",
      "Computing the msd similarity matrix...\n",
      "Done computing similarity matrix.\n",
      "Estimating biases using sgd...\n",
      "Computing the msd similarity matrix...\n",
      "Done computing similarity matrix.\n",
      "Estimating biases using sgd...\n",
      "Computing the msd similarity matrix...\n",
      "Done computing similarity matrix.\n",
      "Estimating biases using sgd...\n",
      "Computing the msd similarity matrix...\n",
      "Done computing similarity matrix.\n",
      "Estimating biases using sgd...\n",
      "Computing the msd similarity matrix...\n",
      "Done computing similarity matrix.\n",
      "Estimating biases using sgd...\n",
      "Computing the cosine similarity matrix...\n",
      "Done computing similarity matrix.\n",
      "Estimating biases using sgd...\n",
      "Computing the cosine similarity matrix...\n",
      "Done computing similarity matrix.\n",
      "Estimating biases using sgd...\n",
      "Computing the cosine similarity matrix...\n",
      "Done computing similarity matrix.\n",
      "Estimating biases using sgd...\n",
      "Computing the cosine similarity matrix...\n",
      "Done computing similarity matrix.\n",
      "Estimating biases using sgd...\n",
      "Computing the cosine similarity matrix...\n",
      "Done computing similarity matrix.\n",
      "Estimating biases using sgd...\n",
      "Computing the cosine similarity matrix...\n",
      "Done computing similarity matrix.\n",
      "Estimating biases using sgd...\n",
      "Computing the msd similarity matrix...\n",
      "Done computing similarity matrix.\n",
      "Estimating biases using sgd...\n",
      "Computing the msd similarity matrix...\n",
      "Done computing similarity matrix.\n",
      "Estimating biases using sgd...\n",
      "Computing the msd similarity matrix...\n",
      "Done computing similarity matrix.\n",
      "Estimating biases using sgd...\n",
      "Computing the msd similarity matrix...\n",
      "Done computing similarity matrix.\n",
      "Estimating biases using sgd...\n",
      "Computing the msd similarity matrix...\n",
      "Done computing similarity matrix.\n",
      "Estimating biases using sgd...\n",
      "Computing the msd similarity matrix...\n",
      "Done computing similarity matrix.\n"
     ]
    },
    {
     "name": "stdout",
     "output_type": "stream",
     "text": [
      "Estimating biases using sgd...\n",
      "Computing the cosine similarity matrix...\n",
      "Done computing similarity matrix.\n",
      "Estimating biases using sgd...\n",
      "Computing the cosine similarity matrix...\n",
      "Done computing similarity matrix.\n",
      "Estimating biases using sgd...\n",
      "Computing the cosine similarity matrix...\n",
      "Done computing similarity matrix.\n",
      "Estimating biases using sgd...\n",
      "Computing the cosine similarity matrix...\n",
      "Done computing similarity matrix.\n",
      "Estimating biases using sgd...\n",
      "Computing the cosine similarity matrix...\n",
      "Done computing similarity matrix.\n",
      "Estimating biases using sgd...\n",
      "Computing the cosine similarity matrix...\n",
      "Done computing similarity matrix.\n",
      "Estimating biases using sgd...\n",
      "Computing the msd similarity matrix...\n",
      "Done computing similarity matrix.\n",
      "Estimating biases using sgd...\n",
      "Computing the msd similarity matrix...\n",
      "Done computing similarity matrix.\n",
      "Estimating biases using sgd...\n",
      "Computing the msd similarity matrix...\n",
      "Done computing similarity matrix.\n",
      "Estimating biases using sgd...\n",
      "Computing the msd similarity matrix...\n",
      "Done computing similarity matrix.\n",
      "Estimating biases using sgd...\n",
      "Computing the msd similarity matrix...\n",
      "Done computing similarity matrix.\n",
      "Estimating biases using sgd...\n",
      "Computing the msd similarity matrix...\n",
      "Done computing similarity matrix.\n",
      "Estimating biases using sgd...\n",
      "Computing the cosine similarity matrix...\n",
      "Done computing similarity matrix.\n",
      "Estimating biases using sgd...\n",
      "Computing the cosine similarity matrix...\n",
      "Done computing similarity matrix.\n",
      "Estimating biases using sgd...\n",
      "Computing the cosine similarity matrix...\n",
      "Done computing similarity matrix.\n",
      "Estimating biases using sgd...\n",
      "Computing the cosine similarity matrix...\n",
      "Done computing similarity matrix.\n",
      "Estimating biases using sgd...\n",
      "Computing the cosine similarity matrix...\n",
      "Done computing similarity matrix.\n",
      "Estimating biases using sgd...\n",
      "Computing the cosine similarity matrix...\n",
      "Done computing similarity matrix.\n",
      "Estimating biases using sgd...\n",
      "Computing the msd similarity matrix...\n",
      "Done computing similarity matrix.\n",
      "Biased accuracy on A,   RMSE: 0.1771\n",
      "Unbiased accuracy on B, RMSE: 0.4814\n"
     ]
    },
    {
     "data": {
      "text/plain": [
       "0.481351625218479"
      ]
     },
     "execution_count": 95,
     "metadata": {},
     "output_type": "execute_result"
    }
   ],
   "source": [
    "import random\n",
    "\n",
    "from surprise.model_selection import GridSearchCV\n",
    "\n",
    "\n",
    "# Load the full dataset.\n",
    "data = genre_group_data\n",
    "raw_ratings = data.raw_ratings\n",
    "\n",
    "# shuffle ratings if you want\n",
    "random.shuffle(raw_ratings)\n",
    "\n",
    "# A = 90% of the data, B = 10% of the data\n",
    "threshold = int(.9 * len(raw_ratings))\n",
    "A_raw_ratings = raw_ratings[:threshold]\n",
    "B_raw_ratings = raw_ratings[threshold:]\n",
    "\n",
    "data.raw_ratings = A_raw_ratings  # data is now the set A\n",
    "\n",
    "# Select your best algo with grid search.\n",
    "print('Grid Search...')\n",
    "param_grid = {'bsl_options': {'method': ['als', 'sgd'],\n",
    "                              'reg': [1, 2]},\n",
    "              'k': [2,3],\n",
    "              'sim_options': {'name': ['msd', 'cosine'],\n",
    "                              'min_support': [1, 5],\n",
    "                              'user_based': [False]}\n",
    "              }\n",
    "grid_search = GridSearchCV(KNNBaseline, param_grid, measures=['rmse'], cv=3)\n",
    "grid_search.fit(data)\n",
    "\n",
    "KNN_genre_algo = grid_search.best_estimator['rmse']\n",
    "\n",
    "# retrain on the whole set A\n",
    "trainset = data.build_full_trainset()\n",
    "KNN_genre_algo.fit(trainset)\n",
    "\n",
    "# Compute biased accuracy on A\n",
    "predictions = KNN_genre_algo.test(trainset.build_testset())\n",
    "print('Biased accuracy on A,', end='   ')\n",
    "accuracy.rmse(predictions)\n",
    "\n",
    "# Compute unbiased accuracy on B\n",
    "testset = data.construct_testset(B_raw_ratings)  # testset is now the set B\n",
    "genre_predictions = KNN_genre_algo.test(testset)\n",
    "print('Unbiased accuracy on B,', end=' ')\n",
    "accuracy.rmse(genre_predictions)\n"
   ]
  },
  {
   "cell_type": "code",
   "execution_count": 96,
   "metadata": {},
   "outputs": [
    {
     "name": "stdout",
     "output_type": "stream",
     "text": [
      "Grid Search...\n",
      "Estimating biases using als...\n",
      "Computing the msd similarity matrix...\n",
      "Done computing similarity matrix.\n",
      "Estimating biases using als...\n",
      "Computing the msd similarity matrix...\n",
      "Done computing similarity matrix.\n",
      "Estimating biases using als...\n",
      "Computing the msd similarity matrix...\n",
      "Done computing similarity matrix.\n",
      "Estimating biases using als...\n",
      "Computing the msd similarity matrix...\n",
      "Done computing similarity matrix.\n",
      "Estimating biases using als...\n",
      "Computing the msd similarity matrix...\n",
      "Done computing similarity matrix.\n",
      "Estimating biases using als...\n",
      "Computing the msd similarity matrix...\n",
      "Done computing similarity matrix.\n",
      "Estimating biases using als...\n",
      "Computing the cosine similarity matrix...\n",
      "Done computing similarity matrix.\n",
      "Estimating biases using als...\n",
      "Computing the cosine similarity matrix...\n",
      "Done computing similarity matrix.\n",
      "Estimating biases using als...\n",
      "Computing the cosine similarity matrix...\n",
      "Done computing similarity matrix.\n",
      "Estimating biases using als...\n",
      "Computing the cosine similarity matrix...\n",
      "Done computing similarity matrix.\n",
      "Estimating biases using als...\n",
      "Computing the cosine similarity matrix...\n",
      "Done computing similarity matrix.\n",
      "Estimating biases using als...\n",
      "Computing the cosine similarity matrix...\n",
      "Done computing similarity matrix.\n",
      "Estimating biases using als...\n",
      "Computing the msd similarity matrix...\n",
      "Done computing similarity matrix.\n",
      "Estimating biases using als...\n",
      "Computing the msd similarity matrix...\n",
      "Done computing similarity matrix.\n",
      "Estimating biases using als...\n",
      "Computing the msd similarity matrix...\n",
      "Done computing similarity matrix.\n",
      "Estimating biases using als...\n",
      "Computing the msd similarity matrix...\n",
      "Done computing similarity matrix.\n",
      "Estimating biases using als...\n",
      "Computing the msd similarity matrix...\n",
      "Done computing similarity matrix.\n",
      "Estimating biases using als...\n",
      "Computing the msd similarity matrix...\n",
      "Done computing similarity matrix.\n",
      "Estimating biases using als...\n",
      "Computing the cosine similarity matrix...\n",
      "Done computing similarity matrix.\n",
      "Estimating biases using als...\n",
      "Computing the cosine similarity matrix...\n",
      "Done computing similarity matrix.\n",
      "Estimating biases using als...\n",
      "Computing the cosine similarity matrix...\n",
      "Done computing similarity matrix.\n",
      "Estimating biases using als...\n",
      "Computing the cosine similarity matrix...\n",
      "Done computing similarity matrix.\n",
      "Estimating biases using als...\n",
      "Computing the cosine similarity matrix...\n",
      "Done computing similarity matrix.\n",
      "Estimating biases using als...\n",
      "Computing the cosine similarity matrix...\n",
      "Done computing similarity matrix.\n",
      "Estimating biases using als...\n",
      "Computing the msd similarity matrix...\n",
      "Done computing similarity matrix.\n",
      "Estimating biases using als...\n",
      "Computing the msd similarity matrix...\n",
      "Done computing similarity matrix.\n",
      "Estimating biases using als...\n",
      "Computing the msd similarity matrix...\n",
      "Done computing similarity matrix.\n",
      "Estimating biases using als...\n",
      "Computing the msd similarity matrix...\n",
      "Done computing similarity matrix.\n",
      "Estimating biases using als...\n",
      "Computing the msd similarity matrix...\n",
      "Done computing similarity matrix.\n",
      "Estimating biases using als...\n",
      "Computing the msd similarity matrix...\n",
      "Done computing similarity matrix.\n",
      "Estimating biases using als...\n",
      "Computing the cosine similarity matrix...\n",
      "Done computing similarity matrix.\n",
      "Estimating biases using als...\n",
      "Computing the cosine similarity matrix...\n",
      "Done computing similarity matrix.\n",
      "Estimating biases using als...\n",
      "Computing the cosine similarity matrix...\n",
      "Done computing similarity matrix.\n",
      "Estimating biases using als...\n",
      "Computing the cosine similarity matrix...\n",
      "Done computing similarity matrix.\n",
      "Estimating biases using als...\n",
      "Computing the cosine similarity matrix...\n",
      "Done computing similarity matrix.\n",
      "Estimating biases using als...\n",
      "Computing the cosine similarity matrix...\n",
      "Done computing similarity matrix.\n",
      "Estimating biases using als...\n",
      "Computing the msd similarity matrix...\n",
      "Done computing similarity matrix.\n",
      "Estimating biases using als...\n",
      "Computing the msd similarity matrix...\n",
      "Done computing similarity matrix.\n",
      "Estimating biases using als...\n",
      "Computing the msd similarity matrix...\n",
      "Done computing similarity matrix.\n",
      "Estimating biases using als...\n",
      "Computing the msd similarity matrix...\n",
      "Done computing similarity matrix.\n",
      "Estimating biases using als...\n",
      "Computing the msd similarity matrix...\n",
      "Done computing similarity matrix.\n",
      "Estimating biases using als...\n",
      "Computing the msd similarity matrix...\n",
      "Done computing similarity matrix.\n",
      "Estimating biases using als...\n",
      "Computing the cosine similarity matrix...\n",
      "Done computing similarity matrix.\n",
      "Estimating biases using als...\n",
      "Computing the cosine similarity matrix...\n",
      "Done computing similarity matrix.\n",
      "Estimating biases using als...\n",
      "Computing the cosine similarity matrix...\n",
      "Done computing similarity matrix.\n",
      "Estimating biases using als...\n",
      "Computing the cosine similarity matrix...\n",
      "Done computing similarity matrix.\n",
      "Estimating biases using als...\n",
      "Computing the cosine similarity matrix...\n",
      "Done computing similarity matrix.\n",
      "Estimating biases using als...\n",
      "Computing the cosine similarity matrix...\n",
      "Done computing similarity matrix.\n",
      "Estimating biases using sgd...\n",
      "Computing the msd similarity matrix...\n",
      "Done computing similarity matrix.\n",
      "Estimating biases using sgd...\n",
      "Computing the msd similarity matrix...\n",
      "Done computing similarity matrix.\n",
      "Estimating biases using sgd...\n",
      "Computing the msd similarity matrix...\n",
      "Done computing similarity matrix.\n",
      "Estimating biases using sgd...\n",
      "Computing the msd similarity matrix...\n",
      "Done computing similarity matrix.\n",
      "Estimating biases using sgd...\n",
      "Computing the msd similarity matrix...\n",
      "Done computing similarity matrix.\n",
      "Estimating biases using sgd...\n",
      "Computing the msd similarity matrix...\n",
      "Done computing similarity matrix.\n",
      "Estimating biases using sgd...\n",
      "Computing the cosine similarity matrix...\n",
      "Done computing similarity matrix.\n",
      "Estimating biases using sgd...\n",
      "Computing the cosine similarity matrix...\n",
      "Done computing similarity matrix.\n",
      "Estimating biases using sgd...\n",
      "Computing the cosine similarity matrix...\n",
      "Done computing similarity matrix.\n",
      "Estimating biases using sgd...\n",
      "Computing the cosine similarity matrix...\n",
      "Done computing similarity matrix.\n",
      "Estimating biases using sgd...\n",
      "Computing the cosine similarity matrix...\n",
      "Done computing similarity matrix.\n",
      "Estimating biases using sgd...\n",
      "Computing the cosine similarity matrix...\n",
      "Done computing similarity matrix.\n",
      "Estimating biases using sgd...\n",
      "Computing the msd similarity matrix...\n",
      "Done computing similarity matrix.\n",
      "Estimating biases using sgd...\n",
      "Computing the msd similarity matrix...\n",
      "Done computing similarity matrix.\n",
      "Estimating biases using sgd...\n",
      "Computing the msd similarity matrix...\n",
      "Done computing similarity matrix.\n",
      "Estimating biases using sgd...\n",
      "Computing the msd similarity matrix...\n",
      "Done computing similarity matrix.\n",
      "Estimating biases using sgd...\n",
      "Computing the msd similarity matrix...\n",
      "Done computing similarity matrix.\n",
      "Estimating biases using sgd...\n",
      "Computing the msd similarity matrix...\n",
      "Done computing similarity matrix.\n",
      "Estimating biases using sgd...\n",
      "Computing the cosine similarity matrix...\n",
      "Done computing similarity matrix.\n",
      "Estimating biases using sgd...\n",
      "Computing the cosine similarity matrix...\n",
      "Done computing similarity matrix.\n",
      "Estimating biases using sgd...\n",
      "Computing the cosine similarity matrix...\n",
      "Done computing similarity matrix.\n",
      "Estimating biases using sgd...\n",
      "Computing the cosine similarity matrix...\n",
      "Done computing similarity matrix.\n",
      "Estimating biases using sgd...\n",
      "Computing the cosine similarity matrix...\n",
      "Done computing similarity matrix.\n",
      "Estimating biases using sgd...\n",
      "Computing the cosine similarity matrix...\n",
      "Done computing similarity matrix.\n",
      "Estimating biases using sgd...\n",
      "Computing the msd similarity matrix...\n",
      "Done computing similarity matrix.\n",
      "Estimating biases using sgd...\n",
      "Computing the msd similarity matrix...\n",
      "Done computing similarity matrix.\n",
      "Estimating biases using sgd...\n",
      "Computing the msd similarity matrix...\n",
      "Done computing similarity matrix.\n",
      "Estimating biases using sgd...\n",
      "Computing the msd similarity matrix...\n",
      "Done computing similarity matrix.\n",
      "Estimating biases using sgd...\n",
      "Computing the msd similarity matrix...\n",
      "Done computing similarity matrix.\n",
      "Estimating biases using sgd...\n",
      "Computing the msd similarity matrix...\n",
      "Done computing similarity matrix.\n"
     ]
    },
    {
     "name": "stdout",
     "output_type": "stream",
     "text": [
      "Estimating biases using sgd...\n",
      "Computing the cosine similarity matrix...\n",
      "Done computing similarity matrix.\n",
      "Estimating biases using sgd...\n",
      "Computing the cosine similarity matrix...\n",
      "Done computing similarity matrix.\n",
      "Estimating biases using sgd...\n",
      "Computing the cosine similarity matrix...\n",
      "Done computing similarity matrix.\n",
      "Estimating biases using sgd...\n",
      "Computing the cosine similarity matrix...\n",
      "Done computing similarity matrix.\n",
      "Estimating biases using sgd...\n",
      "Computing the cosine similarity matrix...\n",
      "Done computing similarity matrix.\n",
      "Estimating biases using sgd...\n",
      "Computing the cosine similarity matrix...\n",
      "Done computing similarity matrix.\n",
      "Estimating biases using sgd...\n",
      "Computing the msd similarity matrix...\n",
      "Done computing similarity matrix.\n",
      "Estimating biases using sgd...\n",
      "Computing the msd similarity matrix...\n",
      "Done computing similarity matrix.\n",
      "Estimating biases using sgd...\n",
      "Computing the msd similarity matrix...\n",
      "Done computing similarity matrix.\n",
      "Estimating biases using sgd...\n",
      "Computing the msd similarity matrix...\n",
      "Done computing similarity matrix.\n",
      "Estimating biases using sgd...\n",
      "Computing the msd similarity matrix...\n",
      "Done computing similarity matrix.\n",
      "Estimating biases using sgd...\n",
      "Computing the msd similarity matrix...\n",
      "Done computing similarity matrix.\n",
      "Estimating biases using sgd...\n",
      "Computing the cosine similarity matrix...\n",
      "Done computing similarity matrix.\n",
      "Estimating biases using sgd...\n",
      "Computing the cosine similarity matrix...\n",
      "Done computing similarity matrix.\n",
      "Estimating biases using sgd...\n",
      "Computing the cosine similarity matrix...\n",
      "Done computing similarity matrix.\n",
      "Estimating biases using sgd...\n",
      "Computing the cosine similarity matrix...\n",
      "Done computing similarity matrix.\n",
      "Estimating biases using sgd...\n",
      "Computing the cosine similarity matrix...\n",
      "Done computing similarity matrix.\n",
      "Estimating biases using sgd...\n",
      "Computing the cosine similarity matrix...\n",
      "Done computing similarity matrix.\n",
      "Estimating biases using als...\n",
      "Computing the msd similarity matrix...\n",
      "Done computing similarity matrix.\n",
      "Biased accuracy on A,   RMSE: 0.2171\n",
      "Unbiased accuracy on B, RMSE: 0.8876\n"
     ]
    },
    {
     "data": {
      "text/plain": [
       "0.8876411080616802"
      ]
     },
     "execution_count": 96,
     "metadata": {},
     "output_type": "execute_result"
    }
   ],
   "source": [
    "import random\n",
    "\n",
    "from surprise.model_selection import GridSearchCV\n",
    "\n",
    "\n",
    "# Load the full dataset.\n",
    "data = game_group_data\n",
    "raw_ratings = data.raw_ratings\n",
    "\n",
    "# shuffle ratings if you want\n",
    "random.shuffle(raw_ratings)\n",
    "\n",
    "# A = 90% of the data, B = 10% of the data\n",
    "threshold = int(.9 * len(raw_ratings))\n",
    "A_raw_ratings = raw_ratings[:threshold]\n",
    "B_raw_ratings = raw_ratings[threshold:]\n",
    "\n",
    "data.raw_ratings = A_raw_ratings  # data is now the set A\n",
    "\n",
    "# Select your best algo with grid search.\n",
    "print('Grid Search...')\n",
    "param_grid = {'bsl_options': {'method': ['als', 'sgd'],\n",
    "                              'reg': [1, 2]},\n",
    "              'k': [2, 3],\n",
    "              'sim_options': {'name': ['msd', 'cosine'],\n",
    "                              'min_support': [1, 5],\n",
    "                              'user_based': [False]}\n",
    "              }\n",
    "grid_search = GridSearchCV(KNNBaseline, param_grid, measures=['rmse'], cv=3)\n",
    "grid_search.fit(data)\n",
    "\n",
    "KNN_game_algo = grid_search.best_estimator['rmse']\n",
    "\n",
    "# retrain on the whole set A\n",
    "trainset = data.build_full_trainset()\n",
    "KNN_game_algo.fit(trainset)\n",
    "\n",
    "# Compute biased accuracy on A\n",
    "game_predictions = KNN_game_algo.test(trainset.build_testset())\n",
    "print('Biased accuracy on A,', end='   ')\n",
    "accuracy.rmse(game_predictions)\n",
    "\n",
    "# Compute unbiased accuracy on B\n",
    "testset = data.construct_testset(B_raw_ratings)  # testset is now the set B\n",
    "game_predictions = KNN_game_algo.test(testset)\n",
    "print('Unbiased accuracy on B,', end=' ')\n",
    "accuracy.rmse(game_predictions)\n"
   ]
  },
  {
   "cell_type": "markdown",
   "metadata": {},
   "source": [
    "Now we're going to use the best estimator from the grid search to find the nearest neighbors of the genres and games we received as inputs from the streamers:"
   ]
  },
  {
   "cell_type": "code",
   "execution_count": 97,
   "metadata": {
    "scrolled": true
   },
   "outputs": [
    {
     "name": "stdout",
     "output_type": "stream",
     "text": [
      "Estimating biases using sgd...\n",
      "Computing the msd similarity matrix...\n",
      "Done computing similarity matrix.\n",
      "RMSE: 0.6615\n"
     ]
    },
    {
     "data": {
      "text/plain": [
       "0.6614788265828276"
      ]
     },
     "execution_count": 97,
     "metadata": {},
     "output_type": "execute_result"
    }
   ],
   "source": [
    "genre_group_trainset = genre_group_data.build_full_trainset()\n",
    "genre_group_testset = genre_group_trainset.build_anti_testset()\n",
    "KNN_genre_predictions = KNN_genre_algo.fit(genre_group_trainset).test(genre_group_testset)\n",
    "accuracy.rmse(KNN_genre_predictions)"
   ]
  },
  {
   "cell_type": "code",
   "execution_count": 98,
   "metadata": {},
   "outputs": [
    {
     "name": "stdout",
     "output_type": "stream",
     "text": [
      "Estimating biases using als...\n",
      "Computing the msd similarity matrix...\n",
      "Done computing similarity matrix.\n",
      "RMSE: 0.3144\n"
     ]
    },
    {
     "data": {
      "text/plain": [
       "0.314351405496346"
      ]
     },
     "execution_count": 98,
     "metadata": {},
     "output_type": "execute_result"
    }
   ],
   "source": [
    "game_group_trainset = game_group_data.build_full_trainset()\n",
    "game_group_testset = game_group_trainset.build_anti_testset()\n",
    "KNN_game_predictions = KNN_game_algo.fit(game_group_trainset).test(game_group_testset)\n",
    "accuracy.rmse(KNN_game_predictions)"
   ]
  },
  {
   "cell_type": "markdown",
   "metadata": {},
   "source": [
    "To be able to evaluate the closest neighbors of items, we're going to make a list of every genre and game that needs to be evaluated and predict how similar they are going to be those already streamed by our target person.\n",
    "\n",
    "Note that there are two ways we could go here - if the streamer already has a Twitch sign-in name and streams content, they might be in our existing database, but we also need to be able to provide some recommendations if they are not yet streaming but already have a Twitch sign-in name. So we're going to retrieve the recommendations for them either way, doing our best to estimate their expected success."
   ]
  },
  {
   "cell_type": "code",
   "execution_count": 107,
   "metadata": {},
   "outputs": [],
   "source": [
    "#produce the list of genres/games needed to be evaluated by converting all the items to their inner ids used by Surprise\n",
    "KNN_genre_inner_id_list = []\n",
    "for genre in full_genres:\n",
    "    inner = KNN_genre_algo.trainset.to_inner_iid(genre)\n",
    "    KNN_genre_inner_id_list.append(inner)\n",
    "\n",
    "KNN_game_inner_id_list = []\n",
    "for game in full_games:\n",
    "    inner = KNN_game_algo.trainset.to_inner_iid(game)\n",
    "    KNN_game_inner_id_list.append(inner)"
   ]
  },
  {
   "cell_type": "code",
   "execution_count": 105,
   "metadata": {},
   "outputs": [
    {
     "data": {
      "text/plain": [
       "[1]"
      ]
     },
     "execution_count": 105,
     "metadata": {},
     "output_type": "execute_result"
    }
   ],
   "source": [
    "KNN_genre_inner_id_list"
   ]
  },
  {
   "cell_type": "code",
   "execution_count": 108,
   "metadata": {},
   "outputs": [
    {
     "data": {
      "text/plain": [
       "[311, 81]"
      ]
     },
     "execution_count": 108,
     "metadata": {},
     "output_type": "execute_result"
    }
   ],
   "source": [
    "KNN_game_inner_id_list"
   ]
  },
  {
   "cell_type": "code",
   "execution_count": 109,
   "metadata": {},
   "outputs": [],
   "source": [
    "# Retrieve inner ids of the nearest neighbors of the games in question.\n",
    "KNN_genre_neighbors_list = []\n",
    "for inner in KNN_genre_inner_id_list:\n",
    "    genre_neighbors = KNN_genre_algo.get_neighbors(inner, k=3)\n",
    "    KNN_genre_neighbors_list.append(genre_neighbors)\n",
    "\n",
    "KNN_game_neighbors_list = []\n",
    "for inner in KNN_game_inner_id_list:\n",
    "    game_neighbors = KNN_game_algo.get_neighbors(inner, k=3)\n",
    "    KNN_game_neighbors_list.append(game_neighbors)"
   ]
  },
  {
   "cell_type": "code",
   "execution_count": 110,
   "metadata": {},
   "outputs": [
    {
     "name": "stdout",
     "output_type": "stream",
     "text": [
      "[[2, 9, 7]]\n",
      "[[0, 1, 2], [21, 6, 31]]\n"
     ]
    }
   ],
   "source": [
    "print(KNN_genre_neighbors_list)\n",
    "print(KNN_game_neighbors_list)"
   ]
  },
  {
   "cell_type": "code",
   "execution_count": 111,
   "metadata": {},
   "outputs": [],
   "source": [
    "KNN_genres_predictions_df = pd.DataFrame(KNN_genre_predictions, columns=['uid', 'iid', 'rui', 'est', 'details'])    "
   ]
  },
  {
   "cell_type": "code",
   "execution_count": 112,
   "metadata": {},
   "outputs": [
    {
     "data": {
      "text/html": [
       "<div>\n",
       "<style scoped>\n",
       "    .dataframe tbody tr th:only-of-type {\n",
       "        vertical-align: middle;\n",
       "    }\n",
       "\n",
       "    .dataframe tbody tr th {\n",
       "        vertical-align: top;\n",
       "    }\n",
       "\n",
       "    .dataframe thead th {\n",
       "        text-align: right;\n",
       "    }\n",
       "</style>\n",
       "<table border=\"1\" class=\"dataframe\">\n",
       "  <thead>\n",
       "    <tr style=\"text-align: right;\">\n",
       "      <th></th>\n",
       "      <th>uid</th>\n",
       "      <th>iid</th>\n",
       "      <th>rui</th>\n",
       "      <th>est</th>\n",
       "      <th>details</th>\n",
       "    </tr>\n",
       "  </thead>\n",
       "  <tbody>\n",
       "    <tr>\n",
       "      <th>0</th>\n",
       "      <td>WildEraLIVE</td>\n",
       "      <td>FPS</td>\n",
       "      <td>3.567691</td>\n",
       "      <td>4.439771</td>\n",
       "      <td>{'actual_k': 2, 'was_impossible': False}</td>\n",
       "    </tr>\n",
       "    <tr>\n",
       "      <th>1</th>\n",
       "      <td>WildEraLIVE</td>\n",
       "      <td>Shooter</td>\n",
       "      <td>3.567691</td>\n",
       "      <td>4.303374</td>\n",
       "      <td>{'actual_k': 2, 'was_impossible': False}</td>\n",
       "    </tr>\n",
       "    <tr>\n",
       "      <th>2</th>\n",
       "      <td>WildEraLIVE</td>\n",
       "      <td>Driving/Racing Game</td>\n",
       "      <td>3.567691</td>\n",
       "      <td>4.287514</td>\n",
       "      <td>{'actual_k': 2, 'was_impossible': False}</td>\n",
       "    </tr>\n",
       "  </tbody>\n",
       "</table>\n",
       "</div>"
      ],
      "text/plain": [
       "           uid                  iid       rui       est  \\\n",
       "0  WildEraLIVE                  FPS  3.567691  4.439771   \n",
       "1  WildEraLIVE              Shooter  3.567691  4.303374   \n",
       "2  WildEraLIVE  Driving/Racing Game  3.567691  4.287514   \n",
       "\n",
       "                                    details  \n",
       "0  {'actual_k': 2, 'was_impossible': False}  \n",
       "1  {'actual_k': 2, 'was_impossible': False}  \n",
       "2  {'actual_k': 2, 'was_impossible': False}  "
      ]
     },
     "execution_count": 112,
     "metadata": {},
     "output_type": "execute_result"
    }
   ],
   "source": [
    "KNN_genres_predictions_df.head(3)"
   ]
  },
  {
   "cell_type": "code",
   "execution_count": 113,
   "metadata": {
    "scrolled": true
   },
   "outputs": [],
   "source": [
    "#Provides genres if the person is already an active streamer and are in the dataset. Can be an empty frame if they are not.\n",
    "\n",
    "KNN_reco_genres = KNN_genres_predictions_df[KNN_genres_predictions_df['uid']==streamer_name].sort_values('est', ascending = False)[['iid', 'est']][:10]"
   ]
  },
  {
   "cell_type": "code",
   "execution_count": 114,
   "metadata": {},
   "outputs": [
    {
     "data": {
      "text/html": [
       "<div>\n",
       "<style scoped>\n",
       "    .dataframe tbody tr th:only-of-type {\n",
       "        vertical-align: middle;\n",
       "    }\n",
       "\n",
       "    .dataframe tbody tr th {\n",
       "        vertical-align: top;\n",
       "    }\n",
       "\n",
       "    .dataframe thead th {\n",
       "        text-align: right;\n",
       "    }\n",
       "</style>\n",
       "<table border=\"1\" class=\"dataframe\">\n",
       "  <thead>\n",
       "    <tr style=\"text-align: right;\">\n",
       "      <th></th>\n",
       "      <th>iid</th>\n",
       "      <th>est</th>\n",
       "    </tr>\n",
       "  </thead>\n",
       "  <tbody>\n",
       "  </tbody>\n",
       "</table>\n",
       "</div>"
      ],
      "text/plain": [
       "Empty DataFrame\n",
       "Columns: [iid, est]\n",
       "Index: []"
      ]
     },
     "execution_count": 114,
     "metadata": {},
     "output_type": "execute_result"
    }
   ],
   "source": [
    "KNN_reco_genres"
   ]
  },
  {
   "cell_type": "code",
   "execution_count": 115,
   "metadata": {},
   "outputs": [],
   "source": [
    "KNN_games_predictions_df = pd.DataFrame(KNN_game_predictions, columns=['uid', 'iid', 'rui', 'est', 'details'])   "
   ]
  },
  {
   "cell_type": "code",
   "execution_count": 116,
   "metadata": {},
   "outputs": [],
   "source": [
    "KNN_reco_games = KNN_games_predictions_df[KNN_games_predictions_df['uid']==streamer_name].sort_values('est', ascending = False)[['iid', 'est']][:10]"
   ]
  },
  {
   "cell_type": "code",
   "execution_count": 117,
   "metadata": {},
   "outputs": [
    {
     "data": {
      "text/html": [
       "<div>\n",
       "<style scoped>\n",
       "    .dataframe tbody tr th:only-of-type {\n",
       "        vertical-align: middle;\n",
       "    }\n",
       "\n",
       "    .dataframe tbody tr th {\n",
       "        vertical-align: top;\n",
       "    }\n",
       "\n",
       "    .dataframe thead th {\n",
       "        text-align: right;\n",
       "    }\n",
       "</style>\n",
       "<table border=\"1\" class=\"dataframe\">\n",
       "  <thead>\n",
       "    <tr style=\"text-align: right;\">\n",
       "      <th></th>\n",
       "      <th>iid</th>\n",
       "      <th>est</th>\n",
       "    </tr>\n",
       "  </thead>\n",
       "  <tbody>\n",
       "  </tbody>\n",
       "</table>\n",
       "</div>"
      ],
      "text/plain": [
       "Empty DataFrame\n",
       "Columns: [iid, est]\n",
       "Index: []"
      ]
     },
     "execution_count": 117,
     "metadata": {},
     "output_type": "execute_result"
    }
   ],
   "source": [
    "KNN_reco_games"
   ]
  },
  {
   "cell_type": "code",
   "execution_count": 118,
   "metadata": {},
   "outputs": [],
   "source": [
    "# prioritize closest neighbors to all original genres/games mentioned\n",
    "\n",
    "genre_final_list = []\n",
    "for item in KNN_genre_neighbors_list:\n",
    "    genre_final_list.append(item[0])\n",
    "    genre_final_list.append(item[1])\n",
    "\n",
    "game_final_list = []\n",
    "for item in KNN_game_neighbors_list:\n",
    "    game_final_list.append(item[0])\n",
    "    game_final_list.append(item[1])"
   ]
  },
  {
   "cell_type": "code",
   "execution_count": 119,
   "metadata": {},
   "outputs": [
    {
     "name": "stdout",
     "output_type": "stream",
     "text": [
      "[2, 9]\n",
      "[0, 1, 21, 6]\n"
     ]
    }
   ],
   "source": [
    "print(genre_final_list)\n",
    "print(game_final_list)"
   ]
  },
  {
   "cell_type": "markdown",
   "metadata": {},
   "source": [
    "Come up with a way to weigh the most frequent neighbors in all genres/games and combine with user-recommended ones."
   ]
  },
  {
   "cell_type": "code",
   "execution_count": 120,
   "metadata": {},
   "outputs": [
    {
     "name": "stdout",
     "output_type": "stream",
     "text": [
      "The nearest neighbors of your current genres are:['Simulation', 'Shooter']\n",
      "The nearest neighbors of your current games are:['The Elder Scrolls V: Skyrim', 'Sea of Thieves', 'Escape From Tarkov', 'Art']\n"
     ]
    }
   ],
   "source": [
    "genres_KNN_List = [KNN_genre_algo.trainset.to_raw_iid(iiid) for iiid in set(genre_final_list)]\n",
    "\n",
    "games_KNN_List = [KNN_game_algo.trainset.to_raw_iid(iiid) for iiid in set(game_final_list)]\n",
    "print('The nearest neighbors of your current genres are:' + str(genres_KNN_List))\n",
    "print('The nearest neighbors of your current games are:' + str(games_KNN_List))"
   ]
  },
  {
   "cell_type": "markdown",
   "metadata": {},
   "source": [
    "The below is a way to add weights for the closest neighbors of the current streamer's games. Ideally, this will be part of the metric if higher calculation speeds can be achieved for the algorithm to work live. "
   ]
  },
  {
   "cell_type": "code",
   "execution_count": 121,
   "metadata": {},
   "outputs": [
    {
     "data": {
      "text/plain": [
       "(['Simulation', 'Shooter'],\n",
       " ['The Elder Scrolls V: Skyrim',\n",
       "  'Sea of Thieves',\n",
       "  'Escape From Tarkov',\n",
       "  'Art'])"
      ]
     },
     "execution_count": 121,
     "metadata": {},
     "output_type": "execute_result"
    }
   ],
   "source": [
    "genres_KNN_List, games_KNN_List"
   ]
  },
  {
   "cell_type": "code",
   "execution_count": 122,
   "metadata": {},
   "outputs": [],
   "source": [
    "genres_KNN_df = pd.DataFrame(genres_KNN_List)\n",
    "games_KNN_df = pd.DataFrame(games_KNN_List)"
   ]
  },
  {
   "cell_type": "code",
   "execution_count": 123,
   "metadata": {},
   "outputs": [],
   "source": [
    "genres_KNN_df['est'] = np.ones(len(genres_KNN_List))\n",
    "games_KNN_df['est'] = np.ones(len(games_KNN_List))"
   ]
  },
  {
   "cell_type": "code",
   "execution_count": 124,
   "metadata": {
    "scrolled": true
   },
   "outputs": [],
   "source": [
    "games_KNN_df['iid'] = games_KNN_df[0]\n",
    "genres_KNN_df['iid'] = genres_KNN_df[0]"
   ]
  },
  {
   "cell_type": "code",
   "execution_count": 125,
   "metadata": {},
   "outputs": [],
   "source": [
    "genre_frames = [personal_genre_pred, KNN_reco_genres, genres_KNN_df]\n",
    "game_frames = [personal_game_pred, KNN_reco_games, games_KNN_df]"
   ]
  },
  {
   "cell_type": "code",
   "execution_count": 126,
   "metadata": {},
   "outputs": [
    {
     "name": "stderr",
     "output_type": "stream",
     "text": [
      "/anaconda3/lib/python3.7/site-packages/ipykernel_launcher.py:1: FutureWarning: Sorting because non-concatenation axis is not aligned. A future version\n",
      "of pandas will change to not sort by default.\n",
      "\n",
      "To accept the future behavior, pass 'sort=False'.\n",
      "\n",
      "To retain the current behavior and silence the warning, pass 'sort=True'.\n",
      "\n",
      "  \"\"\"Entry point for launching an IPython kernel.\n",
      "/anaconda3/lib/python3.7/site-packages/ipykernel_launcher.py:2: FutureWarning: Sorting because non-concatenation axis is not aligned. A future version\n",
      "of pandas will change to not sort by default.\n",
      "\n",
      "To accept the future behavior, pass 'sort=False'.\n",
      "\n",
      "To retain the current behavior and silence the warning, pass 'sort=True'.\n",
      "\n",
      "  \n"
     ]
    }
   ],
   "source": [
    "genre_result = pd.concat(genre_frames)\n",
    "game_result = pd.concat(game_frames)"
   ]
  },
  {
   "cell_type": "code",
   "execution_count": 127,
   "metadata": {},
   "outputs": [
    {
     "data": {
      "text/plain": [
       "((35, 3), (354, 3))"
      ]
     },
     "execution_count": 127,
     "metadata": {},
     "output_type": "execute_result"
    }
   ],
   "source": [
    "genre_result.shape, game_result.shape"
   ]
  },
  {
   "cell_type": "code",
   "execution_count": 128,
   "metadata": {},
   "outputs": [
    {
     "data": {
      "text/html": [
       "<div>\n",
       "<style scoped>\n",
       "    .dataframe tbody tr th:only-of-type {\n",
       "        vertical-align: middle;\n",
       "    }\n",
       "\n",
       "    .dataframe tbody tr th {\n",
       "        vertical-align: top;\n",
       "    }\n",
       "\n",
       "    .dataframe thead th {\n",
       "        text-align: right;\n",
       "    }\n",
       "</style>\n",
       "<table border=\"1\" class=\"dataframe\">\n",
       "  <thead>\n",
       "    <tr style=\"text-align: right;\">\n",
       "      <th></th>\n",
       "      <th>iid</th>\n",
       "      <th>est</th>\n",
       "    </tr>\n",
       "  </thead>\n",
       "  <tbody>\n",
       "    <tr>\n",
       "      <th>0</th>\n",
       "      <td>Fighting</td>\n",
       "      <td>3.566848</td>\n",
       "    </tr>\n",
       "    <tr>\n",
       "      <th>25</th>\n",
       "      <td>Gambling Game</td>\n",
       "      <td>3.566848</td>\n",
       "    </tr>\n",
       "    <tr>\n",
       "      <th>19</th>\n",
       "      <td>Creative</td>\n",
       "      <td>3.566848</td>\n",
       "    </tr>\n",
       "    <tr>\n",
       "      <th>20</th>\n",
       "      <td>Series: Souls</td>\n",
       "      <td>3.566848</td>\n",
       "    </tr>\n",
       "    <tr>\n",
       "      <th>21</th>\n",
       "      <td>Platformer</td>\n",
       "      <td>3.566848</td>\n",
       "    </tr>\n",
       "    <tr>\n",
       "      <th>22</th>\n",
       "      <td>RTS</td>\n",
       "      <td>3.566848</td>\n",
       "    </tr>\n",
       "    <tr>\n",
       "      <th>23</th>\n",
       "      <td>Card &amp; Board Game</td>\n",
       "      <td>3.566848</td>\n",
       "    </tr>\n",
       "    <tr>\n",
       "      <th>24</th>\n",
       "      <td>Rhythm &amp; Music Game</td>\n",
       "      <td>3.566848</td>\n",
       "    </tr>\n",
       "    <tr>\n",
       "      <th>26</th>\n",
       "      <td>Survival</td>\n",
       "      <td>3.566848</td>\n",
       "    </tr>\n",
       "    <tr>\n",
       "      <th>1</th>\n",
       "      <td>Open World</td>\n",
       "      <td>3.566848</td>\n",
       "    </tr>\n",
       "  </tbody>\n",
       "</table>\n",
       "</div>"
      ],
      "text/plain": [
       "                    iid       est\n",
       "0              Fighting  3.566848\n",
       "25        Gambling Game  3.566848\n",
       "19             Creative  3.566848\n",
       "20        Series: Souls  3.566848\n",
       "21           Platformer  3.566848\n",
       "22                  RTS  3.566848\n",
       "23    Card & Board Game  3.566848\n",
       "24  Rhythm & Music Game  3.566848\n",
       "26             Survival  3.566848\n",
       "1            Open World  3.566848"
      ]
     },
     "execution_count": 128,
     "metadata": {},
     "output_type": "execute_result"
    }
   ],
   "source": [
    "genre_result[['iid', 'est']].sort_values('est', ascending = False)[:10]"
   ]
  },
  {
   "cell_type": "code",
   "execution_count": 129,
   "metadata": {},
   "outputs": [
    {
     "data": {
      "text/html": [
       "<div>\n",
       "<style scoped>\n",
       "    .dataframe tbody tr th:only-of-type {\n",
       "        vertical-align: middle;\n",
       "    }\n",
       "\n",
       "    .dataframe tbody tr th {\n",
       "        vertical-align: top;\n",
       "    }\n",
       "\n",
       "    .dataframe thead th {\n",
       "        text-align: right;\n",
       "    }\n",
       "</style>\n",
       "<table border=\"1\" class=\"dataframe\">\n",
       "  <thead>\n",
       "    <tr style=\"text-align: right;\">\n",
       "      <th></th>\n",
       "      <th>est</th>\n",
       "    </tr>\n",
       "    <tr>\n",
       "      <th>iid</th>\n",
       "      <th></th>\n",
       "    </tr>\n",
       "  </thead>\n",
       "  <tbody>\n",
       "    <tr>\n",
       "      <th>Simulation</th>\n",
       "      <td>4.566848</td>\n",
       "    </tr>\n",
       "    <tr>\n",
       "      <th>Action</th>\n",
       "      <td>3.566848</td>\n",
       "    </tr>\n",
       "    <tr>\n",
       "      <th>Adventure Game</th>\n",
       "      <td>3.566848</td>\n",
       "    </tr>\n",
       "    <tr>\n",
       "      <th>Survival</th>\n",
       "      <td>3.566848</td>\n",
       "    </tr>\n",
       "    <tr>\n",
       "      <th>Strategy</th>\n",
       "      <td>3.566848</td>\n",
       "    </tr>\n",
       "    <tr>\n",
       "      <th>Stealth</th>\n",
       "      <td>3.566848</td>\n",
       "    </tr>\n",
       "    <tr>\n",
       "      <th>Sports Game</th>\n",
       "      <td>3.566848</td>\n",
       "    </tr>\n",
       "    <tr>\n",
       "      <th>Series: Souls</th>\n",
       "      <td>3.566848</td>\n",
       "    </tr>\n",
       "    <tr>\n",
       "      <th>Roguelike</th>\n",
       "      <td>3.566848</td>\n",
       "    </tr>\n",
       "    <tr>\n",
       "      <th>Rhythm &amp; Music Game</th>\n",
       "      <td>3.566848</td>\n",
       "    </tr>\n",
       "  </tbody>\n",
       "</table>\n",
       "</div>"
      ],
      "text/plain": [
       "                          est\n",
       "iid                          \n",
       "Simulation           4.566848\n",
       "Action               3.566848\n",
       "Adventure Game       3.566848\n",
       "Survival             3.566848\n",
       "Strategy             3.566848\n",
       "Stealth              3.566848\n",
       "Sports Game          3.566848\n",
       "Series: Souls        3.566848\n",
       "Roguelike            3.566848\n",
       "Rhythm & Music Game  3.566848"
      ]
     },
     "execution_count": 129,
     "metadata": {},
     "output_type": "execute_result"
    }
   ],
   "source": [
    "genre_result.groupby(by='iid').sum().sort_values('est', ascending = False)[:10]"
   ]
  },
  {
   "cell_type": "code",
   "execution_count": 130,
   "metadata": {},
   "outputs": [
    {
     "data": {
      "text/html": [
       "<div>\n",
       "<style scoped>\n",
       "    .dataframe tbody tr th:only-of-type {\n",
       "        vertical-align: middle;\n",
       "    }\n",
       "\n",
       "    .dataframe tbody tr th {\n",
       "        vertical-align: top;\n",
       "    }\n",
       "\n",
       "    .dataframe thead th {\n",
       "        text-align: right;\n",
       "    }\n",
       "</style>\n",
       "<table border=\"1\" class=\"dataframe\">\n",
       "  <thead>\n",
       "    <tr style=\"text-align: right;\">\n",
       "      <th></th>\n",
       "      <th>est</th>\n",
       "    </tr>\n",
       "    <tr>\n",
       "      <th>iid</th>\n",
       "      <th></th>\n",
       "    </tr>\n",
       "  </thead>\n",
       "  <tbody>\n",
       "    <tr>\n",
       "      <th>Escape From Tarkov</th>\n",
       "      <td>4.773040</td>\n",
       "    </tr>\n",
       "    <tr>\n",
       "      <th>The Elder Scrolls V: Skyrim</th>\n",
       "      <td>4.642488</td>\n",
       "    </tr>\n",
       "    <tr>\n",
       "      <th>Art</th>\n",
       "      <td>4.631819</td>\n",
       "    </tr>\n",
       "    <tr>\n",
       "      <th>Sea of Thieves</th>\n",
       "      <td>4.326709</td>\n",
       "    </tr>\n",
       "    <tr>\n",
       "      <th>The Jackbox Party Pack 3</th>\n",
       "      <td>4.062363</td>\n",
       "    </tr>\n",
       "    <tr>\n",
       "      <th>Call of Duty: Black Ops II</th>\n",
       "      <td>3.990895</td>\n",
       "    </tr>\n",
       "    <tr>\n",
       "      <th>Pokémon Ultra Sun/Ultra Moon</th>\n",
       "      <td>3.975484</td>\n",
       "    </tr>\n",
       "    <tr>\n",
       "      <th>Visage</th>\n",
       "      <td>3.968070</td>\n",
       "    </tr>\n",
       "    <tr>\n",
       "      <th>Minecraft</th>\n",
       "      <td>3.915991</td>\n",
       "    </tr>\n",
       "    <tr>\n",
       "      <th>The Elder Scrolls IV: Oblivion</th>\n",
       "      <td>3.914401</td>\n",
       "    </tr>\n",
       "  </tbody>\n",
       "</table>\n",
       "</div>"
      ],
      "text/plain": [
       "                                     est\n",
       "iid                                     \n",
       "Escape From Tarkov              4.773040\n",
       "The Elder Scrolls V: Skyrim     4.642488\n",
       "Art                             4.631819\n",
       "Sea of Thieves                  4.326709\n",
       "The Jackbox Party Pack 3        4.062363\n",
       "Call of Duty: Black Ops II      3.990895\n",
       "Pokémon Ultra Sun/Ultra Moon    3.975484\n",
       "Visage                          3.968070\n",
       "Minecraft                       3.915991\n",
       "The Elder Scrolls IV: Oblivion  3.914401"
      ]
     },
     "execution_count": 130,
     "metadata": {},
     "output_type": "execute_result"
    }
   ],
   "source": [
    "game_result.groupby(by='iid').sum().sort_values('est', ascending = False)[:10]"
   ]
  },
  {
   "cell_type": "code",
   "execution_count": null,
   "metadata": {},
   "outputs": [],
   "source": []
  }
 ],
 "metadata": {
  "kernelspec": {
   "display_name": "Python 3",
   "language": "python",
   "name": "python3"
  },
  "language_info": {
   "codemirror_mode": {
    "name": "ipython",
    "version": 3
   },
   "file_extension": ".py",
   "mimetype": "text/x-python",
   "name": "python",
   "nbconvert_exporter": "python",
   "pygments_lexer": "ipython3",
   "version": "3.7.7"
  }
 },
 "nbformat": 4,
 "nbformat_minor": 2
}
